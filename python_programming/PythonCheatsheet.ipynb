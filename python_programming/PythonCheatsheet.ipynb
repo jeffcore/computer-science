{
 "cells": [
  {
   "cell_type": "markdown",
   "metadata": {},
   "source": [
    "# Python\n",
    "Build In Functions - https://docs.python.org/3/library/functions.html#built-in-functions"
   ]
  },
  {
   "cell_type": "markdown",
   "metadata": {},
   "source": [
    "## Variables"
   ]
  },
  {
   "cell_type": "code",
   "execution_count": 8,
   "metadata": {},
   "outputs": [
    {
     "name": "stdout",
     "output_type": "stream",
     "text": [
      "10\n",
      "hello world\n",
      "33333.145656\n",
      "True\n",
      "3.145\n"
     ]
    }
   ],
   "source": [
    "my_int = 10\n",
    "#integers aren’t limited in size except by available memory)\n",
    "my_string = \"hello world\"\n",
    "my_float = 33333.145656\n",
    "my_bool = True\n",
    "MY_CONSTANT = 3.145\n",
    "print(my_int)\n",
    "print(my_string)\n",
    "print(my_float)\n",
    "print(my_bool)\n",
    "print(MY_CONSTANT)"
   ]
  },
  {
   "cell_type": "markdown",
   "metadata": {},
   "source": [
    "## Numbers"
   ]
  },
  {
   "cell_type": "code",
   "execution_count": 9,
   "metadata": {},
   "outputs": [
    {
     "name": "stdout",
     "output_type": "stream",
     "text": [
      "10//10 1\n",
      "2//10 0\n",
      "245//10 24\n",
      "22//10 2\n",
      "10%2 0\n",
      "9%2 1\n",
      "24%10 4\n",
      "245%10 5\n",
      "245%100 45\n",
      "24//10 2\n",
      "245//100 2\n",
      "245%10 5\n",
      "345%10 5\n",
      "2425%10 5\n",
      "245333%10 3\n",
      "233.443434 233.44\n"
     ]
    }
   ],
   "source": [
    "# Tricks\n",
    "\n",
    "# if a number is equal return 1 of less than return 0\n",
    "print('10//10' , 10//10)\n",
    "print('2//10' , 2//10)\n",
    "print('245//10' , 245//10)\n",
    "print('22//10' , 22//10)\n",
    "\n",
    "# if number is even\n",
    "print('10%2', 10%2)\n",
    "# if number is odd\n",
    "print('9%2', 9%2)\n",
    "\n",
    "# get last digit in number\n",
    "24 - 4\n",
    "print('24%10', 24%10)\n",
    "print('245%10', 245%10)\n",
    "print('245%100', 245%100)\n",
    "\n",
    "# remove first digit of number\n",
    "print('24//10', 24//10)\n",
    "print('245//100', 245//100)\n",
    "\n",
    "#hashing 10 buckets will always return the remainder\n",
    "print('245%10', 245%10)\n",
    "print('345%10', 345%10)\n",
    "print('2425%10', 2425%10)\n",
    "print('245333%10', 245333%10)\n",
    "\n",
    "\n",
    "# Round a number\n",
    "num = 233.443434\n",
    "print('233.443434', round(num, 2))"
   ]
  },
  {
   "cell_type": "markdown",
   "metadata": {},
   "source": [
    "## STRINGS\n",
    "immutable...cant change them.... you can contactinate them but it recreates string every time\n",
    "* count() . - count occurance of substring\n",
    "* find()\n",
    "* lower()\n",
    "* upper()\n",
    "* lstrip() rstrip()  strip()\n",
    "* replace()"
   ]
  },
  {
   "cell_type": "code",
   "execution_count": 24,
   "metadata": {},
   "outputs": [
    {
     "name": "stdout",
     "output_type": "stream",
     "text": [
      "this is a string\n",
      "3\n",
      "thisisastring\n",
      "gnirts a si siht\n",
      "gnirts a si siht\n"
     ]
    }
   ],
   "source": [
    "stringy = 'this is a string'\n",
    "print(stringy)\n",
    "\n",
    "print(stringy.count('i'))\n",
    "\n",
    "# replace white space\n",
    "print(stringy.replace(\" \", \"\"))\n",
    "\n",
    "# reverse a string\n",
    "new_str = ''\n",
    "for char in stringy:\n",
    "    new_str = char + new_str\n",
    "\n",
    "print(new_str)\n",
    "# or    \n",
    "print(stringy[::-1])\n",
    "\n",
    "\n"
   ]
  },
  {
   "cell_type": "markdown",
   "metadata": {},
   "source": [
    "### Slice a String\n",
    "\n"
   ]
  },
  {
   "cell_type": "code",
   "execution_count": 10,
   "metadata": {},
   "outputs": [
    {
     "name": "stdout",
     "output_type": "stream",
     "text": [
      "01234567\n",
      "0123\n",
      "234567\n",
      "567\n",
      "5\n",
      "23\n"
     ]
    }
   ],
   "source": [
    "# [start at this number (works same for -2: will get last two char) : one less than this number]\n",
    "# goes by index\n",
    "s = '01234567'\n",
    "# get entire string\n",
    "print(s[:])\n",
    "\n",
    "# get left 3\n",
    "print(s[:4])\n",
    "\n",
    "# skip first 2\n",
    "print(s[2:])\n",
    "\n",
    "# get right 3\n",
    "print(s[-3:])\n",
    "\n",
    "# get right 2nd char in\n",
    "print(s[-3])\n",
    "\n",
    "# get something in middle\n",
    "print(s[2:4])"
   ]
  },
  {
   "cell_type": "markdown",
   "metadata": {},
   "source": [
    "## Built in Functions\n",
    "* sorted()  - returns sorted string\n",
    "* reversed()\n",
    "* slice()"
   ]
  },
  {
   "cell_type": "code",
   "execution_count": 11,
   "metadata": {},
   "outputs": [
    {
     "name": "stdout",
     "output_type": "stream",
     "text": [
      "['g', 'n', 'i', 'r', 't', 's', ' ', 'a', ' ', 's', 'i', ' ', 's', 'i', 'h', 't']\n",
      "[' ', ' ', ' ', 'a', 'g', 'h', 'i', 'i', 'i', 'n', 'r', 's', 's', 's', 't', 't']\n",
      "['g', 'n', 'i', 'r', 't', 's', ' ', 'a', ' ', 's', 'i', ' ', 's', 'i', 'h', 't']\n"
     ]
    }
   ],
   "source": [
    "stringy = 'this is a string'\n",
    "print(list(reversed(stringy)))\n",
    "print(sorted(stringy))\n",
    "print(list(reversed(stringy)))"
   ]
  },
  {
   "cell_type": "markdown",
   "metadata": {},
   "source": [
    "## Conversions"
   ]
  },
  {
   "cell_type": "code",
   "execution_count": 12,
   "metadata": {},
   "outputs": [
    {
     "name": "stdout",
     "output_type": "stream",
     "text": [
      "10\n",
      "10\n",
      "10.0\n"
     ]
    }
   ],
   "source": [
    "print(int('10'))\n",
    "int('10')\n",
    "print(str(10))\n",
    "print(str(float(10)))"
   ]
  },
  {
   "cell_type": "markdown",
   "metadata": {},
   "source": [
    "## Print \n",
    "%s - String (or any object with a string representation, like numbers)<br>\n",
    "%d - Integers<br>\n",
    "%f - Floating point numbers<br>\n",
    "%N.Pf  N: number of characters to show used to add spacing before number\n",
    " , P: precision number of digits to right of decimal point<br>\n",
    "%.<number of digits>f - Floating point numbers with a fixed amount of digits to the right of the dot.<br>\n",
    "%x/%X - Integers in hex representation (lowercase/uppercase)"
   ]
  },
  {
   "cell_type": "code",
   "execution_count": 13,
   "metadata": {},
   "outputs": [
    {
     "name": "stdout",
     "output_type": "stream",
     "text": [
      "hello hello world, our balance       33333.146\n",
      "hello hello world, our balance 33333.146\n",
      "hello hello world, our balance 33333.145656\n",
      "hello hello world, our balance 33333.145656\n",
      "hello  10, our balance 33333.145656\n",
      "\n",
      "        _____ ___ \n",
      "        /___|/| / |/ || //|| //|/| ||_/___| //|__/|\n",
      "        ||_|| // ||\n",
      "        \\_____/ /_/ _____ _ / _ \\||\n",
      "        // /_/\n",
      "        ||__| ||||___ |\n",
      "        \n",
      "this is a number 33333.145656\n"
     ]
    }
   ],
   "source": [
    "print(\"hello {0}, our balance {1:15.3f}\".format(my_string, my_float))\n",
    "print(\"hello {name}, our balance {num:9.3f}\".format(name=my_string, num=my_float))\n",
    "print(\"hello {name}, our balance {num}\".format(name=my_string, num=my_float))\n",
    "print(\"hello {}, our balance {}\".format(my_string, my_float))\n",
    "print(\"hello  {0!s}, our balance {1}\".format(my_int, my_float))\n",
    "\n",
    "print(\"\"\"\n",
    "        _____ ___ \n",
    "        /___|/| / |/ || //|| //|/| ||_/___| //|__/|\n",
    "        ||_|| // ||\n",
    "        \\_____/ /_/ _____ _ / _ \\||\n",
    "        // /_/\n",
    "        ||__| ||||___ |\n",
    "        \"\"\"\n",
    "    )\n",
    "\n",
    "print('this is a number', my_float )"
   ]
  },
  {
   "cell_type": "markdown",
   "metadata": {},
   "source": [
    "## Comments"
   ]
  },
  {
   "cell_type": "code",
   "execution_count": 11,
   "metadata": {},
   "outputs": [
    {
     "data": {
      "text/plain": [
       "'\\ncommeny\\n\\n'"
      ]
     },
     "execution_count": 11,
     "metadata": {},
     "output_type": "execute_result"
    }
   ],
   "source": [
    "# this is acomment\n"
   ]
  },
  {
   "cell_type": "markdown",
   "metadata": {},
   "source": [
    "## Conditionals"
   ]
  },
  {
   "cell_type": "code",
   "execution_count": 4,
   "metadata": {},
   "outputs": [],
   "source": [
    "# <value-if-condition-is-true> if <condition> else <value-if-condition-is-false>"
   ]
  },
  {
   "cell_type": "markdown",
   "metadata": {},
   "source": [
    "## List"
   ]
  },
  {
   "cell_type": "code",
   "execution_count": 1,
   "metadata": {},
   "outputs": [
    {
     "name": "stdout",
     "output_type": "stream",
     "text": [
      "list slices\n",
      "list1[0]:  physics\n",
      "list1[-1]:  2000\n",
      "list2[1:5]:  [2, 3, 4, 5]\n",
      "list3[1:-2]:  ['b']\n",
      "reverse list\n",
      "[2000, 1997, 'chemistry', 'physics']\n",
      "[0, 0, 0, 0, 0, 0, 0, 0, 0, 0]\n",
      "[0, 0, 0, 0, 0]\n"
     ]
    }
   ],
   "source": [
    "list1 = ['physics', 'chemistry', 1997, 2000]\n",
    "list2 = [1, 2, 3, 4, 5 ]\n",
    "list3 = [\"a\", \"b\", \"c\", \"d\"]\n",
    "\n",
    "# list slcices\n",
    "print('list slices')\n",
    "\n",
    "print (\"get first element - list1[0]: \", list1[0])\n",
    "print (\"get last element - list1[-1]: \", list1[-1])\n",
    "print (\"list2[1:5]: \", list2[1:5])\n",
    "print (\"list3[1:-2]: \", list3[1:-2])\n",
    "print('reverse list')\n",
    "print(list1[::-1])\n",
    "\n",
    "# create list of size n\n",
    "l = [0] * 10\n",
    "k = [0 for i in range(0, 5)]\n",
    "print(l)\n",
    "print(k)"
   ]
  },
  {
   "cell_type": "code",
   "execution_count": 4,
   "metadata": {},
   "outputs": [
    {
     "name": "stdout",
     "output_type": "stream",
     "text": [
      "[1, 0, 0, 0, 0]\n",
      "[1, 0, 0, 0, 0]\n",
      "[1, 0, 0, 0, 0]\n",
      "[1, 0, 0, 0, 0]\n",
      "[1, 0, 0, 0, 0]\n",
      "[1, 0, 0, 0, 0]\n",
      "[0, 0, 0, 0, 0]\n",
      "[0, 0, 0, 0, 0]\n",
      "[0, 0, 0, 0, 0]\n",
      "[0, 0, 0, 0, 0]\n"
     ]
    }
   ],
   "source": [
    "#2d List\n",
    "rows, cols = (5, 5) \n",
    "  \n",
    "# method 2a DO NOT USE THIS METHOD WILL COPY VALUES TO ALL ROW INDEXES\n",
    "arr = [[0]*cols]*rows \n",
    "  \n",
    "# lets change the first element of the  \n",
    "# first row to 1 and print the array \n",
    "arr[0][0] = 1\n",
    "  \n",
    "for row in arr: \n",
    "    print(row) \n",
    "# outputs the following \n",
    "#[1, 0, 0, 0, 0] \n",
    "#[1, 0, 0, 0, 0] \n",
    "#[1, 0, 0, 0, 0] \n",
    "#[1, 0, 0, 0, 0] \n",
    "#[1, 0, 0, 0, 0] \n",
    "  \n",
    "# method 2b USE THIS METHOD\n",
    "arr = [[0 for i in range(cols)] for j in range(rows)] \n",
    "  \n",
    "# again in this new array lets change \n",
    "# the first element of the first row  \n",
    "# to 1 and print the array \n",
    "arr[0][0] = 1\n",
    "for row in arr: \n",
    "    print(row) \n",
    "  \n",
    "# outputs the following as expected \n",
    "#[1, 0, 0, 0, 0] \n",
    "#[0, 0, 0, 0, 0] \n",
    "#[0, 0, 0, 0, 0] \n",
    "#[0, 0, 0, 0, 0] \n",
    "#[0, 0, 0, 0, 0] "
   ]
  },
  {
   "cell_type": "code",
   "execution_count": 6,
   "metadata": {},
   "outputs": [
    {
     "name": "stdout",
     "output_type": "stream",
     "text": [
      "list4  [1, 1, 1]\n"
     ]
    }
   ],
   "source": [
    "list4 = [1] * 3\n",
    "print(\"list4 \", list4)"
   ]
  },
  {
   "cell_type": "markdown",
   "metadata": {},
   "source": [
    "### Reference Values\n",
    "variable just points to place in memory for list. if you assign list to three variables they all point to same place in memory"
   ]
  },
  {
   "cell_type": "code",
   "execution_count": 113,
   "metadata": {},
   "outputs": [
    {
     "name": "stdout",
     "output_type": "stream",
     "text": [
      "[1, 2, 3, 4, 5]\n",
      "[1, 2, 3, 4, 5]\n",
      "[1, 2, 3, 4, 5]\n",
      "change element 3 to 10\n",
      "[1, 2, 3, 10, 5]\n",
      "[1, 2, 3, 10, 5]\n",
      "[1, 2, 3, 10, 5]\n",
      "[1, 2, 3, 10, 5]\n",
      "[1, 2, 3, 10, 5]\n"
     ]
    }
   ],
   "source": [
    "list10 = [1, 2, 3, 4, 5 ]\n",
    "list11 = list10\n",
    "list12 = list10\n",
    "print(list10)\n",
    "print(list11)\n",
    "print(list12)\n",
    "list10[3] = 10\n",
    "print('change element 3 to 10')\n",
    "print(list10)\n",
    "print(list11)\n",
    "print(list12)\n",
    "\n",
    "# to get around this copy with slice\n",
    "list13 = list10[:]\n",
    "print(list13)\n",
    "list10[1] = 111\n",
    "print(list13)\n"
   ]
  },
  {
   "cell_type": "markdown",
   "metadata": {},
   "source": [
    "### Add item"
   ]
  },
  {
   "cell_type": "code",
   "execution_count": 105,
   "metadata": {},
   "outputs": [
    {
     "name": "stdout",
     "output_type": "stream",
     "text": [
      "Value available at index 2 :  1997\n",
      "New value available at index 2 :  2001\n",
      "\n",
      "\n",
      "list2.append(1)  [1, 2, 3, 4, 5, 1, 1, 1, 1, 1, 1, 1, 1, 1, 1, 1]\n",
      "Count for 123 :  2\n",
      "Count for zara :  1\n",
      "[0, 1, 2, 3, 4, 5, 6, 7, 8, 9]\n",
      "[None, None, None, None]\n",
      "[1, 2, 3] + [4, 5, 6] [1, 2, 3, 4, 5, 6]\n",
      "['a', 'b', 'c', 'd', 'e']\n",
      "['a', 'b', 'd', 'c', 'd', 'e']\n"
     ]
    }
   ],
   "source": [
    "# change item in list\n",
    "list = ['physics', 'chemistry', 1997, 2000]\n",
    "print (\"Value available at index 2 : \", list[2])\n",
    "\n",
    "list[2] = 2001\n",
    "print (\"New value available at index 2 : \", list[2])\n",
    "\n",
    "# add to list\n",
    "print('\\n')\n",
    "list2.append(1)\n",
    "print(\"list2.append(1) \", list2)\n",
    "\n",
    "# count\n",
    "aList = [123, 'xyz', 'zara', 'abc', 123]\n",
    "\n",
    "print (\"Count for 123 : \", aList.count(123))\n",
    "print (\"Count for zara : \", aList.count('zara'))\n",
    "\n",
    "# Fill a list\n",
    "numbers = [i for i in range(10)]    \n",
    "print(numbers)\n",
    "\n",
    "none_list = [None] * 4\n",
    "print(none_list)\n",
    "\n",
    "\n",
    "# Add a list\n",
    "print(\"[1, 2, 3] + [4, 5, 6]\", [1, 2, 3] + [4, 5, 6])\n",
    "\n",
    "# add with extend\n",
    "t1 = ['a', 'b', 'c']\n",
    "t2 = ['d', 'e']\n",
    "t1.extend(t2)\n",
    "print(t1)\n",
    "\n",
    "#Insert\n",
    "t1.insert(2, 'd')\n",
    "\n",
    "print(t1)\n"
   ]
  },
  {
   "cell_type": "markdown",
   "metadata": {},
   "source": [
    "### List Deleting Items with .remove"
   ]
  },
  {
   "cell_type": "code",
   "execution_count": 8,
   "metadata": {},
   "outputs": [
    {
     "name": "stdout",
     "output_type": "stream",
     "text": [
      "['physics', 'Biology', 'chemistry', 'maths']\n",
      "remove biology :  None\n",
      "list now :  ['physics', 'chemistry', 'maths']\n",
      "remove maths :  None\n",
      "list now :  ['physics', 'chemistry']\n"
     ]
    }
   ],
   "source": [
    "#Remove by value\n",
    "list1 = ['physics', 'Biology', 'chemistry', 'maths']\n",
    "print(list1)\n",
    "print (\"remove biology : \", list1.remove('Biology'))\n",
    "print (\"list now : \", list1)\n",
    "print (\"remove maths : \", list1.remove('maths'))\n",
    "print (\"list now : \", list1)"
   ]
  },
  {
   "cell_type": "markdown",
   "metadata": {},
   "source": [
    "### List Deleting Items with del"
   ]
  },
  {
   "cell_type": "code",
   "execution_count": 9,
   "metadata": {},
   "outputs": [
    {
     "name": "stdout",
     "output_type": "stream",
     "text": [
      "After deleting value at index 2 :    del list[2]  [1, 2, 4, 5]\n",
      "len of array len(list4):  4\n",
      "del with slice ['a', 'b', 'c', 'd', 'e', 'f']\n",
      "['a', 'f']\n",
      "pop\n",
      "['a', 'c']\n",
      "b\n"
     ]
    }
   ],
   "source": [
    "# deletes item from list  at an indexbut does not return it\n",
    "list4 = [1, 2, 3, 4, 5 ]\n",
    "del list4[2]  # will remove element 3\n",
    "print (\"After deleting value at index 2 :    del list[2] \", list4)\n",
    "print(\"len of array len(list4): \", len(list4))\n",
    "\n",
    "# with slice\n",
    "t = ['a', 'b', 'c', 'd', 'e', 'f']\n",
    "print('del with slice {}'.format(t))\n",
    "del t[1:5]\n",
    "print(t)\n",
    "\n",
    "\n",
    "# POP - remove item as index and returns it\n",
    "print('pop')\n",
    "t = ['a', 'b', 'c']\n",
    "x = t.pop(1)\n",
    "print(t)\n",
    "print(x)"
   ]
  },
  {
   "cell_type": "markdown",
   "metadata": {},
   "source": [
    "### List delete with pop"
   ]
  },
  {
   "cell_type": "code",
   "execution_count": 108,
   "metadata": {},
   "outputs": [
    {
     "name": "stdout",
     "output_type": "stream",
     "text": [
      "3\n"
     ]
    }
   ],
   "source": [
    "list4 = [1, 2, 3, 4, 5 ]\n",
    "\n",
    "print(list4.pop(2))\n"
   ]
  },
  {
   "cell_type": "code",
   "execution_count": 10,
   "metadata": {},
   "outputs": [
    {
     "name": "stdout",
     "output_type": "stream",
     "text": [
      " 3 in [1, 2, 3] True\n"
     ]
    }
   ],
   "source": [
    "# check if item is in list\n",
    "print(\" 3 in [1, 2, 3]\", 3 in [1, 2, 3])"
   ]
  },
  {
   "cell_type": "markdown",
   "metadata": {},
   "source": [
    "### Sorting List\n",
    "sort() sorts the existing array in place, it returns None, you cant use in a conditional"
   ]
  },
  {
   "cell_type": "code",
   "execution_count": 90,
   "metadata": {},
   "outputs": [
    {
     "name": "stdout",
     "output_type": "stream",
     "text": [
      "['a', 'b', 'c', 'd', 'e']\n",
      "['e', 'd', 'c', 'b', 'a']\n"
     ]
    }
   ],
   "source": [
    "t = ['d', 'c', 'e', 'b', 'a']\n",
    "t.sort()\n",
    "print(t)\n",
    "t.sort(reverse=True)\n",
    "print(t)"
   ]
  },
  {
   "cell_type": "markdown",
   "metadata": {},
   "source": [
    "### Loop through a list"
   ]
  },
  {
   "cell_type": "code",
   "execution_count": 12,
   "metadata": {},
   "outputs": [
    {
     "name": "stdout",
     "output_type": "stream",
     "text": [
      "loop through array\n",
      "1 2 3 \n",
      "1 2 5 4 5 6 \n",
      "i 0 list[] 1\n",
      "i 1 list[] 2\n",
      "i 2 list[] 5\n",
      "i 3 list[] 4\n",
      "i 4 list[] 5\n",
      "i 5 list[] 6\n",
      "\n"
     ]
    }
   ],
   "source": [
    "#loop through list\n",
    "print('loop through array')\n",
    "list_loop = [1,2,5,4,5,6,]\n",
    "\n",
    "for x in [1,2,3]: \n",
    "    print (x,end = ' ')\n",
    "print('')\n",
    "list_loop = [1,2,5,4,5,6,]\n",
    "\n",
    "for x in list_loop:\n",
    "    print(x,end = ' ')\n",
    "print('')  \n",
    "\n",
    "for i in range(len(list_loop)):\n",
    "     print('i {} list[] {}'.format(i, list_loop[i]))\n",
    "print('')  \n"
   ]
  },
  {
   "cell_type": "code",
   "execution_count": 13,
   "metadata": {},
   "outputs": [
    {
     "name": "stdout",
     "output_type": "stream",
     "text": [
      "x 6 \n",
      "x 5 \n",
      "x 4 \n",
      "x 5 \n",
      "x 2 \n",
      "x 1 \n",
      "i 5 list[] 6\n",
      "i 4 list[] 5\n",
      "i 3 list[] 4\n",
      "i 2 list[] 5\n",
      "i 1 list[] 2\n",
      "i 0 list[] 1\n",
      "enumerate ['one', 'two', 'three', 'four']\n",
      "0 :: one\n",
      "1 :: two\n",
      "2 :: three\n",
      "3 :: four\n"
     ]
    }
   ],
   "source": [
    "# reverse a loop\n",
    "list_loop = [1,2,5,4,5,6,]\n",
    "for x in list_loop[::-1]:\n",
    "    print('x {} '.format(x))\n",
    "\n",
    "for i in range(len(list_loop) - 1, -1, -1):\n",
    "    print('i {} list[] {}'.format(i, list_loop[i]))\n",
    "    \n",
    "# enumerate\n",
    "print('enumerate', ['one', 'two', 'three', 'four'])\n",
    "for index, item in enumerate(['one', 'two', 'three', 'four']): \n",
    "    print(index, '::', item)"
   ]
  },
  {
   "cell_type": "markdown",
   "metadata": {},
   "source": [
    "### List Functions"
   ]
  },
  {
   "cell_type": "code",
   "execution_count": 95,
   "metadata": {},
   "outputs": [
    {
     "name": "stdout",
     "output_type": "stream",
     "text": [
      "6\n",
      "[5, 4, 3, 2, 1]\n",
      "[5, 5, 4, 3, 2, 1]\n",
      "6\n",
      "5\n",
      "1\n",
      "2\n"
     ]
    }
   ],
   "source": [
    "# Sum function\n",
    "t = [1, 2, 3]\n",
    "print(sum(t))\n",
    "\n",
    "# built-in list method to reverse 'a'\n",
    "l = [1,2,3,4,5]\n",
    "l.reverse()\n",
    "print(l)\n",
    " \n",
    "#reveser lsit with for loop\n",
    "l = [1,2,3,4,5,5]\n",
    "for i in range(len(l)//2):\n",
    "    l[i], l[len(l)-i-1] = l[len(l)-i-1], l[i]\n",
    "print(l)\n",
    " \n",
    "# [5,4,3,2,1]\n",
    "\n",
    "# len of function\n",
    "print(len(l))\n",
    "\n",
    "# max of function\n",
    "print(max(l))\n",
    "\n",
    "# min of function\n",
    "print(min(l))\n",
    "\n",
    "# count number of time element is in list\n",
    "print(l.count(5))\n"
   ]
  },
  {
   "cell_type": "markdown",
   "metadata": {},
   "source": [
    "### Copy List"
   ]
  },
  {
   "cell_type": "code",
   "execution_count": 7,
   "metadata": {},
   "outputs": [
    {
     "name": "stdout",
     "output_type": "stream",
     "text": [
      "[3, 4, 5, 20, 7, 1, 2]\n",
      "[3, 4, 5, 6, 7, 1, 2]\n",
      "[3, 4, 5, 25, 7, 1, 2]\n",
      "[3, 4, 5, 20, 7, 1, 2]\n",
      "[3, 4, 5, 29, 7, 1, 2]\n",
      "[3, 4, 5, 29, 7, 1, 2]\n"
     ]
    }
   ],
   "source": [
    "#1d array value - deep copy - \n",
    "num = [1,2,3,4,5,6,7]\n",
    "a = [3, 4, 5, 6, 7, 1, 2]\n",
    "\n",
    "nums[:] = a\n",
    "a[3] = 20\n",
    "print(a)\n",
    "print(nums)\n",
    "\n",
    "nums = a.copy()\n",
    "a[3] = 25\n",
    "print(a)\n",
    "print(nums)\n",
    "\n",
    "#1d reference copy\n",
    "nums = a\n",
    "a[3] = 29\n",
    "print(a)\n",
    "print(nums)\n",
    "\n",
    "# for multidim arrays you have to use .deepcopy() \n",
    "num = [1,2,3,4,5,6,7]\n",
    "a = [3, 4, 5, 6, 7, 1, 2]\n"
   ]
  },
  {
   "cell_type": "code",
   "execution_count": 4,
   "metadata": {},
   "outputs": [
    {
     "name": "stdout",
     "output_type": "stream",
     "text": [
      "[]\n",
      "5\n"
     ]
    }
   ],
   "source": [
    "arr = [1,2,3,4,5]\n",
    "print(arr[1:0])\n",
    "print(arr[-1])"
   ]
  },
  {
   "cell_type": "markdown",
   "metadata": {},
   "source": [
    "\n",
    "## Loops"
   ]
  },
  {
   "cell_type": "code",
   "execution_count": 21,
   "metadata": {},
   "outputs": [
    {
     "name": "stdout",
     "output_type": "stream",
     "text": [
      "for i in range(5):\n",
      "0\n",
      "1\n",
      "2\n",
      "3\n",
      "4\n",
      "for i in range(3,6):\n",
      "3\n",
      "4\n",
      "5\n",
      "for i in range(0, -10, -2):\n",
      "0\n",
      "-2\n",
      "-4\n",
      "-6\n",
      "-8\n",
      "for i in range(10, 0, -1):\n",
      "10\n",
      "9\n",
      "8\n",
      "7\n",
      "6\n",
      "5\n",
      "4\n",
      "3\n",
      "2\n",
      "1\n",
      "for i in range(0, 10, 2):\n",
      "0 2 4 6 8 "
     ]
    }
   ],
   "source": [
    "#loop range function\n",
    "print('for i in range(5):')\n",
    "for i in range(5):\n",
    "    print(i)\n",
    "\n",
    "print('for i in range(3,6):')\n",
    "for i in range(3,6):\n",
    "    print(i)\n",
    "\n",
    "print('for i in range(0, -10, -2):')\n",
    "for i in range(0, -10, -2):\n",
    "    print(i)\n",
    "\n",
    "print('for i in range(10, 0, -1):')\n",
    "for i in range(10, 0, -1):\n",
    "    print(i, end=' ')    \n",
    "    \n",
    "print('for i in range(0, 10, 2):')\n",
    "for i in range(0, 10, 2):\n",
    "    print(i, end=' ')  "
   ]
  },
  {
   "cell_type": "code",
   "execution_count": 14,
   "metadata": {},
   "outputs": [
    {
     "name": "stdout",
     "output_type": "stream",
     "text": [
      "Help on class range in module builtins:\n",
      "\n",
      "class range(object)\n",
      " |  range(stop) -> range object\n",
      " |  range(start, stop[, step]) -> range object\n",
      " |  \n",
      " |  Return an object that produces a sequence of integers from start (inclusive)\n",
      " |  to stop (exclusive) by step.  range(i, j) produces i, i+1, i+2, ..., j-1.\n",
      " |  start defaults to 0, and stop is omitted!  range(4) produces 0, 1, 2, 3.\n",
      " |  These are exactly the valid indices for a list of 4 elements.\n",
      " |  When step is given, it specifies the increment (or decrement).\n",
      " |  \n",
      " |  Methods defined here:\n",
      " |  \n",
      " |  __bool__(self, /)\n",
      " |      self != 0\n",
      " |  \n",
      " |  __contains__(self, key, /)\n",
      " |      Return key in self.\n",
      " |  \n",
      " |  __eq__(self, value, /)\n",
      " |      Return self==value.\n",
      " |  \n",
      " |  __ge__(self, value, /)\n",
      " |      Return self>=value.\n",
      " |  \n",
      " |  __getattribute__(self, name, /)\n",
      " |      Return getattr(self, name).\n",
      " |  \n",
      " |  __getitem__(self, key, /)\n",
      " |      Return self[key].\n",
      " |  \n",
      " |  __gt__(self, value, /)\n",
      " |      Return self>value.\n",
      " |  \n",
      " |  __hash__(self, /)\n",
      " |      Return hash(self).\n",
      " |  \n",
      " |  __iter__(self, /)\n",
      " |      Implement iter(self).\n",
      " |  \n",
      " |  __le__(self, value, /)\n",
      " |      Return self<=value.\n",
      " |  \n",
      " |  __len__(self, /)\n",
      " |      Return len(self).\n",
      " |  \n",
      " |  __lt__(self, value, /)\n",
      " |      Return self<value.\n",
      " |  \n",
      " |  __ne__(self, value, /)\n",
      " |      Return self!=value.\n",
      " |  \n",
      " |  __reduce__(...)\n",
      " |      Helper for pickle.\n",
      " |  \n",
      " |  __repr__(self, /)\n",
      " |      Return repr(self).\n",
      " |  \n",
      " |  __reversed__(...)\n",
      " |      Return a reverse iterator.\n",
      " |  \n",
      " |  count(...)\n",
      " |      rangeobject.count(value) -> integer -- return number of occurrences of value\n",
      " |  \n",
      " |  index(...)\n",
      " |      rangeobject.index(value) -> integer -- return index of value.\n",
      " |      Raise ValueError if the value is not present.\n",
      " |  \n",
      " |  ----------------------------------------------------------------------\n",
      " |  Static methods defined here:\n",
      " |  \n",
      " |  __new__(*args, **kwargs) from builtins.type\n",
      " |      Create and return a new object.  See help(type) for accurate signature.\n",
      " |  \n",
      " |  ----------------------------------------------------------------------\n",
      " |  Data descriptors defined here:\n",
      " |  \n",
      " |  start\n",
      " |  \n",
      " |  step\n",
      " |  \n",
      " |  stop\n",
      "\n"
     ]
    }
   ],
   "source": [
    "help(range)"
   ]
  },
  {
   "cell_type": "markdown",
   "metadata": {},
   "source": [
    "break ends loop<BR>\n",
    "continue skips rest of current loop start next loop<BR>\n",
    "pass is used if there is not statement in loop"
   ]
  },
  {
   "cell_type": "markdown",
   "metadata": {},
   "source": [
    "## While Loop"
   ]
  },
  {
   "cell_type": "code",
   "execution_count": 16,
   "metadata": {},
   "outputs": [
    {
     "name": "stdout",
     "output_type": "stream",
     "text": [
      "0\n",
      "1\n",
      "2\n",
      "done\n"
     ]
    }
   ],
   "source": [
    "i=0\n",
    "while i < 3: \n",
    "    print(i)\n",
    "    i += 1 \n",
    "else:\n",
    "    print('done')"
   ]
  },
  {
   "cell_type": "markdown",
   "metadata": {},
   "source": [
    "## do-while"
   ]
  },
  {
   "cell_type": "code",
   "execution_count": 17,
   "metadata": {},
   "outputs": [
    {
     "name": "stdout",
     "output_type": "stream",
     "text": [
      "9\n",
      "8\n",
      "7\n",
      "6\n",
      "Done.\n"
     ]
    }
   ],
   "source": [
    "# there is no do while in python this is the hack\n",
    "a = 10 \n",
    "while True:\n",
    "    a = a-1 \n",
    "    print(a) \n",
    "    if a<7:\n",
    "        break\n",
    "\n",
    "print('Done.')"
   ]
  },
  {
   "cell_type": "markdown",
   "metadata": {},
   "source": [
    "## Dictionary\n",
    "1. Cant contain multiple items of same key\n",
    "2. key has to be immutable, can be number, sting, tuple\n",
    "3. values dont have to be unique"
   ]
  },
  {
   "cell_type": "code",
   "execution_count": 120,
   "metadata": {},
   "outputs": [
    {
     "name": "stdout",
     "output_type": "stream",
     "text": [
      "diction['Name']:  Zara\n",
      "diction['Age']:  7\n",
      "change age\n",
      "Zara\n",
      "not found\n",
      "not available\n",
      "diction['Age']:  8\n",
      "add entry\n",
      "diction['School']:  DPS School\n",
      "{'Name': 'Zara', 'Age': 8, 'Class': 'First', 'School': 'DPS School'}\n",
      "{'Name': 'Zara', 'Age': 8, 'Class': 'First', 'School': 'DPS School', 'Job': 'teacher'}\n",
      "{'Name': 'Zara', 'Age': 8, 'Class': 'First', 'School': 'DPS School'}\n",
      "True\n"
     ]
    }
   ],
   "source": [
    "diction = {'Name': 'Zara', 'Age': 7, 'Class': 'First'}\n",
    "\n",
    "# GET\n",
    "print (\"diction['Name']: \", diction['Name'])\n",
    "print (\"diction['Age']: \", diction['Age'])\n",
    "print('change age')\n",
    "# .  test before retrievla\n",
    "if 'Name' in diction:\n",
    "    print(diction['Name'])\n",
    "\n",
    "if 'Job' not in diction:\n",
    "    print('not found')\n",
    "\n",
    "# GET without error \n",
    "print(diction.get('4', \"not available\"))\n",
    "\n",
    "# UPDATE entry\n",
    "diction['Age'] = 8 # update existing entry\n",
    "print (\"diction['Age']: \", diction['Age'])\n",
    "\n",
    "# ADD new entry\n",
    "print('add entry')\n",
    "diction['School'] = \"DPS School\" # Add new entry\n",
    "print (\"diction['School']: \", diction['School'])\n",
    "print(diction)\n",
    "\n",
    "# check if you dont want ot overwrite existing\n",
    "if 'Job' not in diction:\n",
    "    diction['Job'] = \"teacher\"\n",
    "print(diction)\n",
    "\n",
    "#DELETE\n",
    "# delete key that does not exist will give you an error\n",
    "if 'Job' in diction:\n",
    "    del diction['Job']\n",
    "print(diction)\n",
    "    \n",
    "\n",
    "## trying to figure out code  ignore\n",
    "nodes = {0: None, 1: None}\n",
    "\n",
    "nodes[0] == nodes[0] or print('got here')\n",
    "print(bool(nodes[0] == nodes[0]))"
   ]
  },
  {
   "cell_type": "markdown",
   "metadata": {},
   "source": [
    "### Dictionary Functions"
   ]
  },
  {
   "cell_type": "code",
   "execution_count": 124,
   "metadata": {},
   "outputs": [
    {
     "name": "stdout",
     "output_type": "stream",
     "text": [
      "dict_keys(['Name', 'Age', 'Class', 'School'])\n",
      "dict_values(['Zara', 8, 'First', 'DPS School'])\n",
      "dict_items([('Name', 'Zara'), ('Age', 8), ('Class', 'First'), ('School', 'DPS School')])\n"
     ]
    }
   ],
   "source": [
    "# keys()  -- gets list of keys\n",
    "print(diction.keys())\n",
    "\n",
    "# values() -- gets list of values\n",
    "print(diction.values())\n",
    "\n",
    "# items() - returns everything as tuples in a lsit\n",
    "print(diction.items())\n"
   ]
  },
  {
   "cell_type": "markdown",
   "metadata": {},
   "source": [
    "## Dictionary Looping\n"
   ]
  },
  {
   "cell_type": "code",
   "execution_count": 19,
   "metadata": {},
   "outputs": [
    {
     "name": "stdout",
     "output_type": "stream",
     "text": [
      "{'a': 1, 'b': 2, 'c': 3}\n",
      "a\n",
      "b\n",
      "c\n",
      "a\n",
      "b\n",
      "c\n",
      "1\n",
      "2\n",
      "3\n",
      "a :: 1\n",
      "b :: 2\n",
      "c :: 3\n"
     ]
    }
   ],
   "source": [
    "d = {\"a\": 1, \"b\": 2, \"c\": 3}\n",
    "print(d)\n",
    "\n",
    "# iterate over keys\n",
    "for key in d: \n",
    "    print(key)\n",
    "# same as\n",
    "for key in d.keys(): \n",
    "    print(key)  \n",
    "\n",
    "# iterate over values\n",
    "for value in d.values(): \n",
    "    print(value)\n",
    "\n",
    "# iterate over values and keeys\n",
    "for key, value in d.items(): \n",
    "    print(key, \"::\", value)\n",
    "    \n"
   ]
  },
  {
   "cell_type": "markdown",
   "metadata": {},
   "source": [
    "## LIST Comprehensions"
   ]
  },
  {
   "cell_type": "code",
   "execution_count": 2,
   "metadata": {},
   "outputs": [],
   "source": [
    "# [ <expression> for <element> in <iterable> ] There's also an optional 'if' condition: \n",
    "# [ <expression> for <element> in <iterable> if <condition ]"
   ]
  },
  {
   "cell_type": "code",
   "execution_count": 3,
   "metadata": {},
   "outputs": [
    {
     "name": "stdout",
     "output_type": "stream",
     "text": [
      "[1, 4, 9, 16]\n",
      "Odds           [1, 3, 5, 7, 9]\n",
      "['aBefiltuu', 'is', 'beertt', 'ahnt', 'gluy']\n",
      "[0, 2, 4, 6, 8]\n"
     ]
    }
   ],
   "source": [
    "squares = [x * x for x in (1, 2, 3, 4)]\n",
    "print(squares)\n",
    "\n",
    "# if statement\n",
    "odds = [x for x in range(10) if x % 2 == 1]\n",
    "print(\"Odds          \", odds)\n",
    "\n",
    "# Organize letters in words more reasonably - in an alphabetical order\n",
    "sentence = \"Beautiful is better than ugly\"\n",
    "print([\"\".join(sorted(word, key = lambda x: x.lower())) for word in sentence.split()])\n",
    "# ['aBefiltuu', 'is', 'beertt', 'ahnt', 'gluy']\n",
    "\n",
    "print([x for x in range(10) if x % 2 == 0])\n",
    "# Out: [0, 2, 4, 6, 8]\n",
    "\n",
    "# <value-if-condition-is-true> if <condition> else <value-if-condition-is-false>"
   ]
  },
  {
   "cell_type": "markdown",
   "metadata": {},
   "source": [
    "## DICTIONARY COMPREHENSIONS"
   ]
  },
  {
   "cell_type": "code",
   "execution_count": 4,
   "metadata": {},
   "outputs": [
    {
     "name": "stdout",
     "output_type": "stream",
     "text": [
      "{1: 1, 2: 4, 3: 9, 4: 16}\n",
      "{'w': 1, 'x': 2, 'y': 2, 'z': 2}\n"
     ]
    }
   ],
   "source": [
    "print({x: x * x for x in (1, 2, 3, 4)})\n",
    "# Out: {1: 1, 2: 4, 3: 9, 4: 16}\n",
    "\n",
    "dict1 = {'w': 1, 'x': 1}\n",
    "dict2 = {'x': 2, 'y': 2, 'z': 2}\n",
    "print({k: v for d in [dict1, dict2] for k, v in d.items()} )\n",
    "\n",
    "# Out: {'w': 1, 'x': 2, 'y': 2, 'z': 2}\n"
   ]
  },
  {
   "cell_type": "markdown",
   "metadata": {},
   "source": [
    "## Comprehensions NEsted Loops\n"
   ]
  },
  {
   "cell_type": "code",
   "execution_count": 23,
   "metadata": {},
   "outputs": [
    {
     "name": "stdout",
     "output_type": "stream",
     "text": [
      "[1, 2, 3, 4, 5, 6]\n",
      "[1, 2, 3, 4, 5, 6]\n"
     ]
    }
   ],
   "source": [
    "# [expression for target1 in iterable1 [if condition1] <BR>\n",
    "#             for target2 in iterable2 [if condition2]...<BR>\n",
    "#             for targetN in iterableN [if conditionN] ]\n",
    "\n",
    "data = [[1, 2], [3, 4], [5, 6]] \n",
    "output = []\n",
    "for each_list in data:\n",
    "    for element in each_list: \n",
    "        output.append(element)\n",
    "print(output)\n",
    "# Out: [1, 2, 3, 4, 5, 6]\n",
    "\n",
    "data = [[1, 2], [3, 4], [5, 6]]\n",
    "output = [element for each_list in data for element in each_list] \n",
    "print(output)\n",
    "# Out: [1, 2, 3, 4, 5, 6]\n"
   ]
  },
  {
   "cell_type": "markdown",
   "metadata": {},
   "source": [
    "## Tuples  are Arrays\n",
    "Tuples are similar to lists but are immutable—that is, they can’t be modified after they’ve been created. The operators (in, +, and *) and built-in functions (len, max, and min)  operate on them the same way as they do on lists because none of them modifies the original."
   ]
  },
  {
   "cell_type": "code",
   "execution_count": 86,
   "metadata": {},
   "outputs": [
    {
     "name": "stdout",
     "output_type": "stream",
     "text": [
      "(1, 2, 3, 4, 5, 6, 7, 8, 12)\n",
      "(1, 2, 3, 4)\n",
      "(1, 2, 3, 4, 5, 6, 7, 8, 12, 111)\n"
     ]
    }
   ],
   "source": [
    "tup = (1, 2, 3, 4, 5, 6, 7, 8, 12)\n",
    "print(tup)\n",
    "\n",
    "x = [1, 2, 3, 4]\n",
    "y = tuple(x)\n",
    "print(y)\n",
    "tup2 = (1, 2, 3, 4, 5, 6, 7, 8, 12)\n",
    "list(tup2)\n",
    "tup2 += (111,)\n",
    "print(tup2)"
   ]
  },
  {
   "cell_type": "markdown",
   "metadata": {},
   "source": [
    "## Named Tuples"
   ]
  },
  {
   "cell_type": "code",
   "execution_count": 5,
   "metadata": {},
   "outputs": [
    {
     "name": "stdout",
     "output_type": "stream",
     "text": [
      "name:   Andy\n",
      "age:    30\n",
      "gender: m\n",
      "Male names: ['Andy', 'Ping', 'Sebastian']\n",
      "Teen names: ['Abby', 'Adah']\n"
     ]
    }
   ],
   "source": [
    "# Import the module collections and be able to access namedtuple\n",
    "# wihtout having to write collections.namedtuple each time.\n",
    "from collections import namedtuple\n",
    "# Create a tuple of class 'Person'\n",
    "Person = namedtuple(\"Person\", [\"name\", \"age\", \"gender\"])\n",
    "\n",
    "# Build a list of people by using Person\n",
    "people = [\n",
    "    Person(\"Andy\", 30, \"m\"),\n",
    "    Person(\"Ping\", 1, \"m\"), \n",
    "    Person(\"Tina\", 32, \"f\"),\n",
    "    Person(\"Abby\", 14, \"f\"),\n",
    "    Person(\"Adah\", 13, \"f\"),\n",
    "    Person(\"Sebastian\", 42, \"m\"),\n",
    "    Person(\"Carol\" , 68, \"f\"),\n",
    "]\n",
    "\n",
    "# first, let's show how this namedtuple works.\n",
    "# Get the first entry in the list (which is Andy from above)\n",
    "andy = people[0]\n",
    "\n",
    "# From here, you can access andy like it was a class with attributes\n",
    "# name, age, and gender (as seeon from the namedtuple)\n",
    "print(\"name:  \", andy.name)\n",
    "print(\"age:   \", andy.age)\n",
    "print(\"gender:\", andy.gender)\n",
    "\n",
    "# now let's show what we can do with a list comprehension\n",
    "male_names = [person.name for person in people if person.gender==\"m\"]\n",
    "print(\"Male names:\", male_names)\n",
    "\n",
    "# Create a list of names where there age \n",
    "teen_names = [p.name for p in people if 13 <= p.age <= 18 ]\n",
    "print(\"Teen names:\", teen_names)\n"
   ]
  },
  {
   "cell_type": "markdown",
   "metadata": {},
   "source": [
    "## Strings"
   ]
  },
  {
   "cell_type": "code",
   "execution_count": 54,
   "metadata": {},
   "outputs": [
    {
     "name": "stdout",
     "output_type": "stream",
     "text": [
      "['live', 'and', 'let', 'live']\n",
      "live and enjoy life\n",
      "hello\n",
      "HELLO\n"
     ]
    }
   ],
   "source": [
    "string_x = \"live and     let \\t   \\tlive\"\n",
    "string_split = string_x.split()\n",
    "print(string_split)\n",
    "string_repl = string_x.replace(\"    let \\t   \\tlive\", \"enjoy life\")\n",
    "print(string_repl)\n",
    "\n",
    "\n",
    "print('HELLO'.lower())\n",
    "print('hello'.upper())"
   ]
  },
  {
   "cell_type": "markdown",
   "metadata": {},
   "source": [
    "## Object-oriented programming"
   ]
  },
  {
   "cell_type": "code",
   "execution_count": 206,
   "metadata": {},
   "outputs": [],
   "source": [
    "class Shape:\n",
    "    \"\"\"Shape class: has method move\"\"\"\n",
    "    def __init__(self, x, y):\n",
    "        self.x = x\n",
    "        self.y = y\n",
    "    def move(self, deltaX, deltaY):\n",
    "            self.x = self.x + deltaX\n",
    "            self.y = self.y + deltaY\n",
    "            \n",
    "class Square(Shape):\n",
    "    \"\"\"Square Class:inherits from Shape\"\"\"\n",
    "    def __init__(self, side=1, x=0, y=0):\n",
    "        Shape.__init__(self, x, y)\n",
    "        self.side = side\n",
    "        \n",
    "class Circle(Shape):\n",
    "    \"\"\"Circle Class: inherits from Shape and has method area\"\"\"\n",
    "    pi = 3.14159\n",
    "    def __init__(self, r=1, x=0, y=0):\n",
    "        Shape.__init__(self, x, y)\n",
    "        self.radius = r\n",
    "    def area(self):\n",
    "        \"\"\"Circle area method: returns the area of the circle.\"\"\"\n",
    "        return self.radius * self.radius * self.pi\n",
    "    def __str__(self):\n",
    "        return \"Circle of radius %s at coordinates (%d, %d)\"\\\n",
    "            % (self.radius, self.x, self.y)"
   ]
  },
  {
   "cell_type": "code",
   "execution_count": 207,
   "metadata": {},
   "outputs": [
    {
     "name": "stdout",
     "output_type": "stream",
     "text": [
      "Circle of radius 1 at coordinates (0, 0)\n",
      "Circle of radius 5 at coordinates (15, 20)\n",
      "78.53975\n",
      "Circle of radius 5 at coordinates (20, 26)\n"
     ]
    }
   ],
   "source": [
    "c1 = Circle()\n",
    "c2 = Circle(5, 15,20)\n",
    "print(c1)\n",
    "print(c2)\n",
    "print(c2.area())\n",
    "c2.move(5,6)\n",
    "print(c2)"
   ]
  },
  {
   "cell_type": "markdown",
   "metadata": {},
   "source": [
    "### super init"
   ]
  },
  {
   "cell_type": "code",
   "execution_count": 181,
   "metadata": {},
   "outputs": [
    {
     "name": "stdout",
     "output_type": "stream",
     "text": [
      "Bird is ready\n",
      "Penguin is ready\n",
      "Penguin\n",
      "Swim faster\n",
      "Run faster\n"
     ]
    }
   ],
   "source": [
    "# Super init\n",
    "# parent class\n",
    "class Bird:\n",
    "    \n",
    "    def __init__(self):\n",
    "        print(\"Bird is ready\")\n",
    "\n",
    "    def whoisThis(self):\n",
    "        print(\"Bird\")\n",
    "\n",
    "    def swim(self):\n",
    "        print(\"Swim faster\")\n",
    "\n",
    "# child class\n",
    "class Penguin(Bird):\n",
    "\n",
    "    def __init__(self):\n",
    "        # call super() function\n",
    "        super().__init__()\n",
    "        print(\"Penguin is ready\")\n",
    "\n",
    "    def whoisThis(self):\n",
    "        print(\"Penguin\")\n",
    "\n",
    "    def run(self):\n",
    "        print(\"Run faster\")\n",
    "\n",
    "peggy = Penguin()\n",
    "peggy.whoisThis()\n",
    "peggy.swim()\n",
    "peggy.run()"
   ]
  },
  {
   "cell_type": "markdown",
   "metadata": {},
   "source": [
    "### @property - getter setters"
   ]
  },
  {
   "cell_type": "code",
   "execution_count": 229,
   "metadata": {},
   "outputs": [
    {
     "name": "stdout",
     "output_type": "stream",
     "text": [
      "Getting value\n",
      "30\n",
      "Setting value\n",
      "Getting value\n",
      "23\n",
      "Getting value\n",
      "73.4\n"
     ]
    }
   ],
   "source": [
    "class Celsius:\n",
    "    def __init__(self, temperature = 0):\n",
    "        self._temperature = temperature\n",
    "\n",
    "    def to_fahrenheit(self):\n",
    "        return (self.temperature * 1.8) + 32\n",
    "\n",
    "    @property\n",
    "    def temperature(self):\n",
    "        print(\"Getting value\")\n",
    "        return self._temperature\n",
    "\n",
    "    @temperature.setter\n",
    "    def temperature(self, value):\n",
    "        if value < -273:\n",
    "            raise ValueError(\"Temperature below -273 is not possible\")\n",
    "        print(\"Setting value\")\n",
    "        self._temperature = value\n",
    "        \n",
    "\n",
    "c = Celsius(30)\n",
    "print(c.temperature)\n",
    "c.temperature = 23\n",
    "print(c.temperature)\n",
    "print(c.to_fahrenheit())"
   ]
  },
  {
   "cell_type": "markdown",
   "metadata": {},
   "source": [
    "### encapsulation\n",
    "hidding data, private variables<br>\n",
    "use double underscore  for properties and functions self._variable"
   ]
  },
  {
   "cell_type": "code",
   "execution_count": 218,
   "metadata": {},
   "outputs": [
    {
     "name": "stdout",
     "output_type": "stream",
     "text": [
      "Selling Price: 900\n",
      "Selling Price: 900\n",
      "Selling Price: 1000\n"
     ]
    }
   ],
   "source": [
    "class Computer:\n",
    "\n",
    "    def __init__(self):\n",
    "        self.__maxprice = 900\n",
    "\n",
    "    def sell(self):\n",
    "        print(\"Selling Price: {}\".format(self.__maxprice))\n",
    "    \n",
    "    def setMaxPriceForReal(self, price):\n",
    "        self.__setMaxPrice(price)\n",
    "        \n",
    "    def __setMaxPrice(self, price):\n",
    "        self.__maxprice = price\n",
    "\n",
    "c = Computer()\n",
    "c.sell()\n",
    "\n",
    "# change the price\n",
    "c.__maxprice = 1000\n",
    "c.sell()\n",
    "\n",
    "# using setter function\n",
    "c.setMaxPriceForReal(1000)\n",
    "c.sell()"
   ]
  },
  {
   "cell_type": "markdown",
   "metadata": {},
   "source": [
    "### Polymophism\n",
    "Polymorphism is an ability (in OOP) to use common interface for multiple form (data types)."
   ]
  },
  {
   "cell_type": "code",
   "execution_count": 193,
   "metadata": {},
   "outputs": [
    {
     "name": "stdout",
     "output_type": "stream",
     "text": [
      "Parrot can fly\n",
      "Penguin can't fly\n"
     ]
    }
   ],
   "source": [
    "class Parrot:\n",
    "\n",
    "    def fly(self):\n",
    "        print(\"Parrot can fly\")\n",
    "    \n",
    "    def swim(self):\n",
    "        print(\"Parrot can't swim\")\n",
    "\n",
    "class Penguin:\n",
    "\n",
    "    def fly(self):\n",
    "        print(\"Penguin can't fly\")\n",
    "    \n",
    "    def swim(self):\n",
    "        print(\"Penguin can swim\")\n",
    "\n",
    "# common interface\n",
    "def flying_test(bird):\n",
    "    bird.fly()\n",
    "\n",
    "#instantiate objects\n",
    "blu = Parrot()\n",
    "peggy = Penguin()\n",
    "\n",
    "# passing the object\n",
    "flying_test(blu)\n",
    "flying_test(peggy)"
   ]
  },
  {
   "cell_type": "markdown",
   "metadata": {},
   "source": [
    "### Class Variables\n",
    "statck variables avaiable to all instances of class"
   ]
  },
  {
   "cell_type": "code",
   "execution_count": 209,
   "metadata": {},
   "outputs": [
    {
     "name": "stdout",
     "output_type": "stream",
     "text": [
      "3.14159\n",
      "3.14\n"
     ]
    }
   ],
   "source": [
    "class Circle:\n",
    "    pi = 3.14159\n",
    "    def __init__(self, radius):\n",
    "        self.radius = radius\n",
    "    def area(self):\n",
    "        return self.radius * self.radius * Circle.pi\n",
    "    \n",
    "    \n",
    "print(Circle.pi)\n",
    "Circle.pi = 3.14\n",
    "print(Circle.pi)"
   ]
  },
  {
   "cell_type": "markdown",
   "metadata": {},
   "source": [
    "### Class Static and Class Methods\n",
    "both can be invoked before an object of the class has been instantiated or by using an instance of the class. "
   ]
  },
  {
   "cell_type": "code",
   "execution_count": 214,
   "metadata": {},
   "outputs": [
    {
     "name": "stdout",
     "output_type": "stream",
     "text": [
      "15.70795\n",
      "31.415899999999997\n"
     ]
    }
   ],
   "source": [
    "\"\"\"circle module: contains the Circle class.\"\"\"\n",
    "class Circle:\n",
    "    \"\"\"Circle class\"\"\"\n",
    "    all_circles = []  # Class variable containing list of all circles that have been created\n",
    "    pi = 3.14159\n",
    "    def __init__(self, r=1):\n",
    "        \"\"\"Create a Circle with the given radius\"\"\"\n",
    "        self.radius = r \n",
    "        self.__class__.all_circles.append(self) # When an instance is initialized, it adds itself to the all_circles list.\n",
    "    def area(self):\n",
    "        \"\"\"determine the area of the Circle\"\"\"\n",
    "        return self.__class__.pi * self.radius * self.radius\n",
    "    \n",
    "    @staticmethod\n",
    "    def total_area():    \n",
    "        \"\"\"Static method to total the areas of all Circles \"\"\"\n",
    "        total = 0\n",
    "        for c in Circle.all_circles:\n",
    "            total = total + c.area()\n",
    "        return total\n",
    "    \n",
    "    @classmethod  # But class methods are implicitly passed the class they belong to as their first parameter, so you can code them more simply, as here.\n",
    "    def total_area(cls):   # cls is just an alias for  self.__class__\n",
    "        total = 0\n",
    "        for c in cls.all_circles:  # now you dont have to add the class name which is Circle\n",
    "            total = total + c.area()\n",
    "        return total\n",
    "    \n",
    "c1 = Circle(1)\n",
    "c2 = Circle(2)\n",
    "print(Circle.total_area())\n",
    "c2.radius = 3\n",
    "print(Circle.total_area())"
   ]
  },
  {
   "cell_type": "code",
   "execution_count": null,
   "metadata": {},
   "outputs": [],
   "source": []
  },
  {
   "cell_type": "code",
   "execution_count": null,
   "metadata": {},
   "outputs": [],
   "source": []
  },
  {
   "cell_type": "code",
   "execution_count": null,
   "metadata": {},
   "outputs": [],
   "source": []
  },
  {
   "cell_type": "code",
   "execution_count": null,
   "metadata": {},
   "outputs": [],
   "source": []
  },
  {
   "cell_type": "code",
   "execution_count": 46,
   "metadata": {},
   "outputs": [
    {
     "name": "stdout",
     "output_type": "stream",
     "text": [
      "true\n"
     ]
    }
   ],
   "source": [
    "x = -1\n",
    "if x:\n",
    "    print('true')\n",
    "else:\n",
    "    print('false')"
   ]
  },
  {
   "cell_type": "code",
   "execution_count": 48,
   "metadata": {},
   "outputs": [
    {
     "name": "stdout",
     "output_type": "stream",
     "text": [
      "False\n"
     ]
    }
   ],
   "source": [
    "print('a'=='A')"
   ]
  },
  {
   "cell_type": "markdown",
   "metadata": {},
   "source": [
    "## Random Numbers"
   ]
  },
  {
   "cell_type": "code",
   "execution_count": 12,
   "metadata": {},
   "outputs": [
    {
     "name": "stdout",
     "output_type": "stream",
     "text": [
      "a is 0.4240759347869999\n",
      "b is 0.7720709761858927\n",
      "c is 0.8234762000863879\n",
      "die1  4\n",
      "die2  6\n",
      "die3  6\n",
      "-8\n",
      "-4\n",
      "-4\n",
      "-7\n",
      "1\n",
      "-4\n",
      "1\n",
      "5\n",
      "1\n",
      "0\n",
      " \n",
      "1\n",
      "3\n",
      "5\n",
      "5\n",
      "3\n",
      "3\n",
      "5\n",
      "5\n",
      "1\n",
      "5\n"
     ]
    }
   ],
   "source": [
    "import random\n",
    "# random number from 1-6\n",
    "\n",
    "a = random.random()\n",
    "b = random.random()\n",
    "c = random.random()\n",
    "print(\"a is\", a)\n",
    "print(\"b is\", b)\n",
    "print(\"c is\", c)\n",
    "\n",
    "\n",
    "\n",
    "\n",
    "die1 = random.randint(1,6) # 1, 2, 3, 4, 5, 6\n",
    "die2 = random.randrange(6) # 0, 1, 2, 3, 4, 5\n",
    "die2 = random.randrange(6) + 1 #  1, 2, 3, 4, 5, 6\n",
    "print('die1 ', die1)\n",
    "print('die2 ', die2)\n",
    "print('die3 ', die2)\n",
    "\n",
    "random.seed(9001)  #use this to get the same random numbers\n",
    "\n",
    "\n",
    "for i in range(10):\n",
    "    print(random.randint(-8,5))\n",
    "print(' ')\n",
    "for i in range(10):\n",
    "    print(random.randint(1,5))"
   ]
  },
  {
   "cell_type": "markdown",
   "metadata": {},
   "source": [
    "## Functions"
   ]
  },
  {
   "cell_type": "code",
   "execution_count": 131,
   "metadata": {},
   "outputs": [
    {
     "name": "stdout",
     "output_type": "stream",
     "text": [
      "awesome\n",
      "this  awesome  world\n",
      "Cool  awesome  world\n",
      "world  awesome  this\n"
     ]
    }
   ],
   "source": [
    "def awesome_func():\n",
    "    print('awesome')\n",
    "\n",
    "awesome_func()\n",
    "\n",
    "# positional parameters\n",
    "def awesome_print(first_word, last_word):\n",
    "    print(first_word, ' awesome ' , last_word)\n",
    "\n",
    "awesome_print('this', 'world')\n",
    "\n",
    "# default parameter values\n",
    "def awesome_print(first_word = \"Cool\", last_word = \"world\"):\n",
    "    print(first_word, ' awesome ' , last_word)\n",
    "\n",
    "awesome_print()\n",
    "\n",
    "\n",
    "\n",
    "# positional parameters and keyword arguments\n",
    "def awesome_print(first_word, last_word):\n",
    "    print(first_word, ' awesome ' , last_word)\n",
    "\n",
    "awesome_print(last_word = 'this', first_word = 'world')"
   ]
  },
  {
   "cell_type": "markdown",
   "metadata": {},
   "source": [
    "## Global Scope"
   ]
  },
  {
   "cell_type": "code",
   "execution_count": 140,
   "metadata": {},
   "outputs": [
    {
     "name": "stdout",
     "output_type": "stream",
     "text": [
      "1\n",
      "50\n",
      "50\n",
      "50\n"
     ]
    }
   ],
   "source": [
    "value = 1\n",
    "\n",
    "def change_value():\n",
    "    # created a new local copy of value did not change global value\n",
    "    value = 20\n",
    "    value += 30\n",
    "    print(value)\n",
    "print(value)\n",
    "change_value()\n",
    "\n",
    "# getting access to global variable to change it\n",
    "def change_value_for_real():\n",
    "    global value\n",
    "    # created a new local copy of value did not change global value\n",
    "    value = 20\n",
    "    value += 30\n",
    "    print(value)\n",
    "\n",
    "change_value_for_real()\n",
    "print(value)"
   ]
  },
  {
   "cell_type": "markdown",
   "metadata": {},
   "source": [
    "## Files\n",
    "* r   read\n",
    "* w    write, if no file one is created\n",
    "* a    append\n",
    "* r+   read from and writeto file, no file exists error\n",
    "* w+   read from and writeto file, overwrites existing file, if no file creates new one\n",
    "* a+   append and read form a text file, appends to exiting file, if no file creates one"
   ]
  },
  {
   "cell_type": "markdown",
   "metadata": {},
   "source": [
    "### Read File"
   ]
  },
  {
   "cell_type": "code",
   "execution_count": 149,
   "metadata": {},
   "outputs": [
    {
     "name": "stdout",
     "output_type": "stream",
     "text": [
      "Opening and closing the file.\n",
      "\n",
      "Reading characters from the file.\n",
      "t\n",
      "his i\n",
      "\n",
      "Reading the entire file at once.\n",
      "this is a file\n",
      "second line\n",
      "third line\n",
      "foruth line\n",
      "\n",
      "Reading characters from a line.\n",
      "t\n",
      "his i\n",
      "\n",
      "Reading one line at a time.\n",
      "this is a file\n",
      "\n",
      "second line\n",
      "\n",
      "third line\n",
      "\n",
      "\n",
      "Reading the entire file into a list.\n",
      "['this is a file\\n', 'second line\\n', 'third line\\n', 'foruth line']\n",
      "4\n",
      "this is a file\n",
      "\n",
      "second line\n",
      "\n",
      "third line\n",
      "\n",
      "foruth line\n",
      "\n",
      "Looping through the file, line by line.\n",
      "this is a file\n",
      "\n",
      "second line\n",
      "\n",
      "third line\n",
      "\n",
      "foruth line\n"
     ]
    }
   ],
   "source": [
    "print(\"Opening and closing the file.\")\n",
    "text_file = open(\"read_it.txt\", \"r\")\n",
    "text_file.close()\n",
    "\n",
    "print(\"\\nReading characters from the file.\")\n",
    "text_file = open(\"read_it.txt\", \"r\")\n",
    "print(text_file.read(1))  # first char\n",
    "print(text_file.read(5))  # next 5 chars\n",
    "text_file.close()\n",
    "\n",
    "print(\"\\nReading the entire file at once.\")\n",
    "text_file = open(\"read_it.txt\", \"r\")\n",
    "whole_thing = text_file.read()\n",
    "print(whole_thing)\n",
    "text_file.close()\n",
    "\n",
    "print(\"\\nReading characters from a line.\")\n",
    "text_file = open(\"read_it.txt\", \"r\")\n",
    "print(text_file.readline(1))\n",
    "print(text_file.readline(5))\n",
    "text_file.close()\n",
    "\n",
    "print(\"\\nReading one line at a time.\")\n",
    "text_file = open(\"read_it.txt\", \"r\")\n",
    "print(text_file.readline())\n",
    "print(text_file.readline())\n",
    "print(text_file.readline())\n",
    "text_file.close()\n",
    "\n",
    "print(\"\\nReading the entire file into a list.\")\n",
    "text_file = open(\"read_it.txt\", \"r\")\n",
    "lines = text_file.readlines()\n",
    "print(lines) \n",
    "print(len(lines))\n",
    "for line in lines:\n",
    "    print(line)\n",
    "text_file.close()\n",
    "\n",
    "print(\"\\nLooping through the file, line by line.\")\n",
    "text_file = open(\"read_it.txt\", \"r\")\n",
    "for line in text_file:\n",
    "    print(line)\n",
    "text_file.close()\n",
    "\n"
   ]
  },
  {
   "cell_type": "markdown",
   "metadata": {},
   "source": [
    "### Write to File"
   ]
  },
  {
   "cell_type": "code",
   "execution_count": 151,
   "metadata": {},
   "outputs": [
    {
     "name": "stdout",
     "output_type": "stream",
     "text": [
      "Creating a text file with the write() method.\n",
      "\n",
      "Reading the newly created file.\n",
      "Line 1\n",
      "This is line 2\n",
      "That makes this line 3\n",
      "\n",
      "\n",
      "Creating a text file with the writelines() method.\n",
      "\n",
      "Reading the newly created file.\n",
      "Line 1\n",
      "This is line 2\n",
      "That makes this line 3\n",
      "\n"
     ]
    }
   ],
   "source": [
    "print(\"Creating a text file with the write() method.\")\n",
    "text_file = open(\"write_it.txt\", \"w\")\n",
    "text_file.write(\"Line 1\\n\")\n",
    "text_file.write(\"This is line 2\\n\")\n",
    "text_file.write(\"That makes this line 3\\n\")\n",
    "text_file.close()\n",
    "\n",
    "print(\"\\nReading the newly created file.\")\n",
    "text_file = open(\"write_it.txt\", \"r\")\n",
    "print(text_file.read())\n",
    "text_file.close()\n",
    "\n",
    "print(\"\\nCreating a text file with the writelines() method.\")\n",
    "text_file = open(\"write_it.txt\", \"w\")\n",
    "lines = [\"Line 1\\n\",\n",
    "         \"This is line 2\\n\",\n",
    "         \"That makes this line 3\\n\"]\n",
    "text_file.writelines(lines)\n",
    "text_file.close()\n",
    "\n",
    "print(\"\\nReading the newly created file.\")\n",
    "text_file = open(\"write_it.txt\", \"r\")\n",
    "print(text_file.read())\n",
    "text_file.close()"
   ]
  },
  {
   "cell_type": "markdown",
   "metadata": {},
   "source": [
    "## Binary Manipulation\n",
    "\n",
    "& binary and<br>\n",
    "| binary or<br>\n",
    "^ binary xor<br>\n",
    "~ binary ones complement effect of  flipping bits<br>\n",
    "<< binary left shift<br>\n",
    "\\>> binary right shift\n",
    "<Br>\n",
    "https://www.youtube.com/watch?v=F0RywIXmqlU&list=PL5tcWHG-UPH1u5iox6v1Hey59vNd5cnTw"
   ]
  },
  {
   "cell_type": "code",
   "execution_count": 10,
   "metadata": {},
   "outputs": [
    {
     "name": "stdout",
     "output_type": "stream",
     "text": [
      "1\n",
      "7 : 111, 1 : 1  7 & 1 = 1\n",
      "True\n",
      "False\n",
      "2 : 10, 4 : 100  2 & 4 = 0 | 0\n",
      "2 : 10,  4 : 100  2 | 4 = 110 | 6\n",
      "2 : 10,  4 : 100  2 ^ 4 = 110 | 6\n",
      "2 : 10,  ~7 = -11 | -3\n",
      "2 : 10,  7 << 1 = 100 | 4\n",
      "2 : 10,  7 << 2 = 1000 | 8\n",
      "2 : 10,  7 >> 2 = 0 | 0\n",
      "dec 16 binary 10000 \n",
      "dec False binary 0 \n",
      "dec 28 binary 11100 \n"
     ]
    }
   ],
   "source": [
    "\"\"\"\n",
    "a =   0011 1100\n",
    "b =   0000 1101\n",
    "-----------------\n",
    "a&b = 0000 1100\n",
    "a|b = 0011 1101\n",
    "a^b = 0011 0001\n",
    "~a  = 1100 0011\n",
    "\"\"\"\n",
    "\n",
    "\n",
    "# & how to check if a bit is checked  - \n",
    "a = 7\n",
    "b = 1\n",
    "\"\"\"\n",
    "    is 001  in 111 - use the and operator\n",
    "\"\"\"\n",
    "print(a & b)\n",
    "print(\"7 : {0:b}, 1 : {1:b}  7 & 1 = {2:b}\".format(a, b, a & b))\n",
    "print(a & b == b)\n",
    "print(a+1 & b == b)\n",
    "\n",
    "a = 2          # 60 = 0011 1100 \n",
    "b = 4           # 13 = 0000 1101 \n",
    "c = 0\n",
    "\n",
    "c = a & b;        # 12 = 0000 1100\n",
    "print(\"{0} : {0:b}, {1} : {1:b}  {0} & {1} = {2:b} | {2}\".format(a, b, c))\n",
    "\n",
    "c = a | b;        # 61 = 0011 1101 \n",
    "print(\"{0} : {0:b},  {1} : {1:b}  {0} | {1} = {2:b} | {2}\".format(a, b, c))\n",
    "\n",
    "c = a ^ b;        # 49 = 0011 0001\n",
    "print(\"{0} : {0:b},  {1} : {1:b}  {0} ^ {1} = {2:b} | {2}\".format(a, b, c))\n",
    "\n",
    "c = ~a;           # -61 = 1100 0011\n",
    "print(\"{0} : {0:b},  ~7 = {1:b} | {1}\".format(a, c ))\n",
    "\n",
    "# shift 1 to right\n",
    "c = a << 1;       # 240 = 1111 0000\n",
    "print(\"{0} : {0:b},  7 << 1 = {1:b} | {1}\".format(a, c))\n",
    "\n",
    "# shift 2 to right\n",
    "c = a << 2;       # 240 = 1111 0000\n",
    "print(\"{0} : {0:b},  7 << 2 = {1:b} | {1}\".format(a, c))\n",
    "\n",
    "c = a >> 2;       # 15 = 0000 1111\n",
    "print(\"{0} : {0:b},  7 >> 2 = {1:b} | {1}\".format(a, c ))\n",
    "\n",
    "\n",
    "def set_bit(position, binary):    \n",
    "    bit_mask = 1 << position\n",
    "    return bit_mask | binary\n",
    "\n",
    "print('dec {0} binary {0:b} '.format(set_bit(4, 0b000000000)))\n",
    "\n",
    "\n",
    "def get_bit(position, binary):\n",
    "    return binary & (1 << position) != 0\n",
    "\n",
    "print('dec {0} binary {0:b} '.format(get_bit(1, 0b000011101)))\n",
    "    \n",
    "\n",
    "def clear_bit(pos, num):\n",
    "    mask = ~(1 << pos)\n",
    "    return num & mask\n",
    "\n",
    "print('dec {0} binary {0:b} '.format(clear_bit(0, 0b000011101)))\n",
    "  \n",
    "    "
   ]
  },
  {
   "cell_type": "markdown",
   "metadata": {},
   "source": [
    "## First Class Functions"
   ]
  },
  {
   "cell_type": "code",
   "execution_count": 205,
   "metadata": {},
   "outputs": [
    {
     "name": "stdout",
     "output_type": "stream",
     "text": [
      "Hello\n",
      "HI, I AM CREATED BY A FUNCTION PASSED AS AN ARGUMENT.\n",
      "hi, i am created by a function passed as an argument.\n",
      "25\n"
     ]
    }
   ],
   "source": [
    "# functions can be assigned as variables\n",
    "def printHello():\n",
    "    print(\"Hello\")     \n",
    "a = printHello\n",
    "a()\n",
    "\n",
    "# can be passed as arguments to other functions \n",
    "def shout(text): \n",
    "    return text.upper() \n",
    "  \n",
    "def whisper(text): \n",
    "    return text.lower() \n",
    "  \n",
    "def greet(func): \n",
    "    # storing the function in a variable \n",
    "    greeting = func(\"Hi, I am created by a function passed as an argument.\") \n",
    "    print(greeting)\n",
    "  \n",
    "greet(shout) \n",
    "greet(whisper) \n",
    "\n",
    "\n",
    "# Functions can return another function \n",
    "  \n",
    "def create_adder(x): \n",
    "    def adder(y): \n",
    "        return x+y \n",
    "  \n",
    "    return adder \n",
    "  \n",
    "add_15 = create_adder(15) \n",
    "  \n",
    "print(add_15(10))\n",
    "\n"
   ]
  },
  {
   "cell_type": "code",
   "execution_count": 202,
   "metadata": {},
   "outputs": [
    {
     "name": "stdout",
     "output_type": "stream",
     "text": [
      "None\n"
     ]
    }
   ],
   "source": [
    "print(a)"
   ]
  },
  {
   "cell_type": "markdown",
   "metadata": {},
   "source": [
    "## Dates"
   ]
  },
  {
   "cell_type": "code",
   "execution_count": 4,
   "metadata": {},
   "outputs": [
    {
     "name": "stdout",
     "output_type": "stream",
     "text": [
      "2019-01-13 17:08:00\n"
     ]
    }
   ],
   "source": [
    "from datetime import datetime\n",
    "import dateparser\n",
    "date_str = '1/13/2019 17:08' \n",
    "date_str = str(dateparser.parse('1/13/2019 17:08'))\n",
    "created_date = datetime.strptime(date_str, '%Y-%m-%d %H:%M:%S')\n",
    "print(created_date)\n",
    "            \n",
    "            \n",
    "        \n",
    "x = datetime.datetime(2020, 5, 17)\n",
    "print(x)\n",
    "            \n",
    "            \n",
    "            "
   ]
  },
  {
   "cell_type": "code",
   "execution_count": null,
   "metadata": {},
   "outputs": [],
   "source": []
  }
 ],
 "metadata": {
  "kernelspec": {
   "display_name": "Python 3",
   "language": "python",
   "name": "python3"
  },
  "language_info": {
   "codemirror_mode": {
    "name": "ipython",
    "version": 3
   },
   "file_extension": ".py",
   "mimetype": "text/x-python",
   "name": "python",
   "nbconvert_exporter": "python",
   "pygments_lexer": "ipython3",
   "version": "3.7.5"
  }
 },
 "nbformat": 4,
 "nbformat_minor": 4
}
