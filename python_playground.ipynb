{
 "cells": [
  {
   "cell_type": "code",
   "execution_count": 1,
   "metadata": {},
   "outputs": [
    {
     "name": "stdout",
     "output_type": "stream",
     "text": [
      "6\n"
     ]
    }
   ],
   "source": [
    "ar = [2,3,3,4,6,6,6]\n",
    "print(max(ar))"
   ]
  },
  {
   "cell_type": "code",
   "execution_count": 2,
   "metadata": {},
   "outputs": [
    {
     "name": "stdout",
     "output_type": "stream",
     "text": [
      "4\n"
     ]
    }
   ],
   "source": [
    "ar2 = [2,3,4,5,6, 3,3,3,6]\n",
    "print(ar2.index(6))"
   ]
  },
  {
   "cell_type": "code",
   "execution_count": 14,
   "metadata": {},
   "outputs": [
    {
     "name": "stdout",
     "output_type": "stream",
     "text": [
      "ub 9 lb 0 index 4\n",
      "ub 9 lb 5 index 4\n",
      "2\n",
      "ub 6 lb 5 index 7\n",
      "ub 6 lb 5 index 5\n"
     ]
    }
   ],
   "source": [
    "arr = [1,2,3,4,5,6,7,8,9]\n",
    "\n",
    "ub = len(arr)\n",
    "lb = 0\n",
    "index = ub//2\n",
    "print(f'ub {ub} lb {lb} index {index}')\n",
    "lb = index+1\n",
    "print(f'ub {ub} lb {lb} index {index}')\n",
    "index = ub-lb//2\n",
    "print((ub-lb)//2)\n",
    "\n",
    "ub = index-1\n",
    "print(f'ub {ub} lb {lb} index {index}')\n",
    "index = (ub-lb)//2+lb\n",
    "print(f'ub {ub} lb {lb} index {index}')\n"
   ]
  },
  {
   "cell_type": "code",
   "execution_count": 15,
   "metadata": {},
   "outputs": [
    {
     "name": "stdout",
     "output_type": "stream",
     "text": [
      "5\n"
     ]
    }
   ],
   "source": [
    "print((6-4)//2+4)"
   ]
  },
  {
   "cell_type": "code",
   "execution_count": 26,
   "metadata": {},
   "outputs": [
    {
     "name": "stdout",
     "output_type": "stream",
     "text": [
      "ub 9 lb 0 index 4\n",
      "ub 9 lb 5 index 7\n",
      "ub 9 lb 8 index 8\n",
      "8\n"
     ]
    }
   ],
   "source": [
    "arr = [1,2,3,4,5,6,7,8,9]\n",
    "target = 9\n",
    "\n",
    "ub = len(arr)\n",
    "lb = 0\n",
    "\n",
    "while lb < ub:\n",
    "    index = (ub-lb)//2+lb\n",
    "    print(f'ub {ub} lb {lb} index {index}')\n",
    "    if arr[index] == target:\n",
    "        print(index)\n",
    "        break\n",
    "    elif target < arr[index]:\n",
    "        ub = index - 1\n",
    "    else:\n",
    "        lb = index + 1\n",
    "\n",
    "\n"
   ]
  },
  {
   "cell_type": "code",
   "execution_count": 31,
   "metadata": {},
   "outputs": [
    {
     "name": "stdout",
     "output_type": "stream",
     "text": [
      "ub 11 lb 0 index 5\n",
      "ub 11 lb 6 index 8\n",
      "ub 7 lb 6 index 6\n",
      "6\n",
      "Pass!\n"
     ]
    }
   ],
   "source": [
    "def binary_search(array, target):\n",
    "    '''Write a function that implements the binary search algorithm using iteration\n",
    "   \n",
    "    args:\n",
    "      array: a sorted array of items of the same type\n",
    "      target: the element you're searching for\n",
    "   \n",
    "    returns:\n",
    "      int: the index of the target, if found, in the source\n",
    "      -1: if the target is not found\n",
    "    '''\n",
    "\n",
    "    ub = len(array)\n",
    "    lb = 0\n",
    "\n",
    "    while lb < ub:\n",
    "        index = (ub+lb)//2\n",
    "        print(f'ub {ub} lb {lb} index {index}')\n",
    "        if array[index] == target:\n",
    "            print(index)\n",
    "            return index\n",
    "        elif target < array[index]:\n",
    "            ub = index - 1\n",
    "        else:\n",
    "            lb = index + 1\n",
    "            \n",
    "def test_function(test_case):\n",
    "    answer = binary_search(test_case[0], test_case[1])\n",
    "    if answer == test_case[2]:\n",
    "        print(\"Pass!\")\n",
    "    else:\n",
    "        print(\"Fail!\")\n",
    "        \n",
    "array = [0, 1, 2, 3, 4, 5, 6, 7, 8, 9, 10]\n",
    "target = 6\n",
    "index = 6\n",
    "test_case = [array, target, index]\n",
    "test_function(test_case)"
   ]
  },
  {
   "cell_type": "code",
   "execution_count": 32,
   "metadata": {},
   "outputs": [
    {
     "name": "stdout",
     "output_type": "stream",
     "text": [
      "0\n"
     ]
    }
   ],
   "source": [
    "print(0//2)"
   ]
  },
  {
   "cell_type": "code",
   "execution_count": 43,
   "metadata": {},
   "outputs": [],
   "source": [
    "alist = [1,2,3,4,5,6,7]\n",
    "left = alist[:4]\n",
    "right = alist[4:]\n",
    "left[2] = 10"
   ]
  },
  {
   "cell_type": "code",
   "execution_count": 44,
   "metadata": {},
   "outputs": [
    {
     "name": "stdout",
     "output_type": "stream",
     "text": [
      "[1, 2, 3, 4, 5, 6, 7]\n"
     ]
    }
   ],
   "source": [
    "print(alist)"
   ]
  },
  {
   "cell_type": "code",
   "execution_count": 45,
   "metadata": {},
   "outputs": [
    {
     "name": "stdout",
     "output_type": "stream",
     "text": [
      "[1, 2, 10, 4]\n",
      "[5, 6, 7]\n"
     ]
    }
   ],
   "source": [
    "print(left)\n",
    "print(right)"
   ]
  },
  {
   "cell_type": "code",
   "execution_count": 46,
   "metadata": {},
   "outputs": [],
   "source": [
    "left[2] = 10"
   ]
  },
  {
   "cell_type": "code",
   "execution_count": 47,
   "metadata": {},
   "outputs": [
    {
     "name": "stdout",
     "output_type": "stream",
     "text": [
      "[1, 2, 3, 4, 5, 6, 7]\n"
     ]
    }
   ],
   "source": [
    "print(alist)"
   ]
  },
  {
   "cell_type": "code",
   "execution_count": 56,
   "metadata": {},
   "outputs": [
    {
     "name": "stdout",
     "output_type": "stream",
     "text": [
      "[1, 55, 3, 33]\n"
     ]
    }
   ],
   "source": [
    "def arr_test2(alist):\n",
    "    alist[1] = 55\n",
    "    \n",
    "    \n",
    "\n",
    "def arr_test(alist):\n",
    "    alist[3] = 33\n",
    "    \n",
    "    left = alist[:4]\n",
    "    arr_test2(left)\n",
    "    print(left)\n",
    "    \n",
    "arr_test(alist)"
   ]
  },
  {
   "cell_type": "code",
   "execution_count": 55,
   "metadata": {},
   "outputs": [
    {
     "name": "stdout",
     "output_type": "stream",
     "text": [
      "[1, 2, 3, 33, 5, 6, 7]\n"
     ]
    }
   ],
   "source": [
    "print(alist)"
   ]
  },
  {
   "cell_type": "code",
   "execution_count": 58,
   "metadata": {},
   "outputs": [
    {
     "name": "stdout",
     "output_type": "stream",
     "text": [
      "[55, 55, 55, 55, 55]\n"
     ]
    }
   ],
   "source": [
    "alist = [1,2,3,4,5]\n",
    "def list_ref(arr, depth):\n",
    "    if depth < 0:\n",
    "        return\n",
    "    arr[depth] = 55\n",
    "    list_ref(arr, depth-1)\n",
    "    \n",
    "list_ref(alist, 4)\n",
    "print(alist)\n"
   ]
  },
  {
   "cell_type": "code",
   "execution_count": 59,
   "metadata": {},
   "outputs": [
    {
     "data": {
      "text/plain": [
       "0"
      ]
     },
     "execution_count": 59,
     "metadata": {},
     "output_type": "execute_result"
    }
   ],
   "source": [
    "0%2"
   ]
  },
  {
   "cell_type": "code",
   "execution_count": 60,
   "metadata": {},
   "outputs": [
    {
     "name": "stdout",
     "output_type": "stream",
     "text": [
      "-4\n"
     ]
    }
   ],
   "source": [
    "print( 2 - 3 * 2)"
   ]
  },
  {
   "cell_type": "code",
   "execution_count": 61,
   "metadata": {},
   "outputs": [
    {
     "name": "stdout",
     "output_type": "stream",
     "text": [
      "-4\n"
     ]
    }
   ],
   "source": [
    "print( 2 - (2 * 3))"
   ]
  },
  {
   "cell_type": "code",
   "execution_count": 15,
   "metadata": {},
   "outputs": [],
   "source": [
    "import dateparser\n",
    "from datetime import datetime, date"
   ]
  },
  {
   "cell_type": "code",
   "execution_count": 29,
   "metadata": {},
   "outputs": [
    {
     "name": "stdout",
     "output_type": "stream",
     "text": [
      "2020-05-16 00:00:00\n",
      "2020-05-16 00:00:00\n"
     ]
    }
   ],
   "source": [
    "the_date = '5/16/2020 12:00:00 AM'\n",
    "# the_date = '2020-05-17'\n",
    "try:\n",
    "    date_str = str(dateparser.parse(the_date))\n",
    "    print(date_str)\n",
    "    created_date = datetime.strptime(date_str, '%Y-%m-%d %H:%M:%S')\n",
    "    # check for created dates in the future\n",
    "    if created_date.date() > datetime.now().date():\n",
    "        now = datetime.now()\n",
    "        created_date = now.strftime('%Y-%m-%d %H:%M:%S')    \n",
    "except Exception as e:\n",
    "    print('Something went wrong with date...' + str(e))\n",
    "    now = datetime.now()\n",
    "    created_date = now.strftime('%Y-%m-%d %H:%M:%S')    \n",
    "    \n",
    "print(created_date)"
   ]
  },
  {
   "cell_type": "code",
   "execution_count": 13,
   "metadata": {},
   "outputs": [
    {
     "ename": "SyntaxError",
     "evalue": "unexpected EOF while parsing (<ipython-input-13-af424e9815d8>, line 1)",
     "output_type": "error",
     "traceback": [
      "\u001b[0;36m  File \u001b[0;32m\"<ipython-input-13-af424e9815d8>\"\u001b[0;36m, line \u001b[0;32m1\u001b[0m\n\u001b[0;31m    date_str = str(dateparser.parse(the_date)\u001b[0m\n\u001b[0m                                             ^\u001b[0m\n\u001b[0;31mSyntaxError\u001b[0m\u001b[0;31m:\u001b[0m unexpected EOF while parsing\n"
     ]
    }
   ],
   "source": [
    "date_str = str(dateparser.parse(the_date)\n"
   ]
  },
  {
   "cell_type": "code",
   "execution_count": 23,
   "metadata": {},
   "outputs": [
    {
     "name": "stdout",
     "output_type": "stream",
     "text": [
      "DO NOT pay for faster shipping! This is the 3rd time I paid for overnight shipping and my package didnÃ¢ÂÂÃÂÃÂ´t arrive u til a day later than I was supposed to receive it. Furthermore when I called to inquire about my package they had to transfer me because no one knew why it hadnÃ¢ÂÂÃÂÃÂ´t shipped by 8\n"
     ]
    }
   ],
   "source": [
    "myString = \"DO NOT pay for faster shipping! This is the 3rd time I paid for overnight shipping and my package didnâÃÃ´t arrive u til a day later than I was supposed to receive it. Furthermore when I called to inquire about my package they had to transfer me because no one knew why it hadnâÃÃ´t shipped by 8\"\n",
    "decoded_string = bytes(myString, \"utf-8\").decode(\"unicode_escape\") # python3 \n",
    "print(decoded_string)"
   ]
  },
  {
   "cell_type": "code",
   "execution_count": 24,
   "metadata": {},
   "outputs": [
    {
     "ename": "SyntaxError",
     "evalue": "invalid character in identifier (<ipython-input-24-e6964faf908f>, line 1)",
     "output_type": "error",
     "traceback": [
      "\u001b[0;36m  File \u001b[0;32m\"<ipython-input-24-e6964faf908f>\"\u001b[0;36m, line \u001b[0;32m1\u001b[0m\n\u001b[0;31m    âÃÃ´\u001b[0m\n\u001b[0m          ^\u001b[0m\n\u001b[0;31mSyntaxError\u001b[0m\u001b[0;31m:\u001b[0m invalid character in identifier\n"
     ]
    }
   ],
   "source": [
    "âÃÃ´"
   ]
  },
  {
   "cell_type": "code",
   "execution_count": 27,
   "metadata": {},
   "outputs": [
    {
     "name": "stdout",
     "output_type": "stream",
     "text": [
      "DO NOT pay for faster shipping! This is the 3rd time I paid for overnight shipping and my package didn’t arrive u til a day later than I was supposed to receive it. Furthermore when I called to inquire about my package they had to transfer me because no one knew why it hadn’t shipped by 8\n"
     ]
    }
   ],
   "source": [
    "from ftfy import fix_encoding\n",
    "mystr = \"DO NOT pay for faster shipping! This is the 3rd time I paid for overnight shipping and my package didnâÃÃ´t arrive u til a day later than I was supposed to receive it. Furthermore when I called to inquire about my package they had to transfer me because no one knew why it hadnâÃÃ´t shipped by 8\"\n",
    "\n",
    "print(fix_encoding(mystr))"
   ]
  },
  {
   "cell_type": "code",
   "execution_count": 31,
   "metadata": {},
   "outputs": [
    {
     "name": "stdout",
     "output_type": "stream",
     "text": [
      "1234\n"
     ]
    }
   ],
   "source": [
    "numList = ['1', '2', '3', '4']\n",
    "separator = ''\n",
    "print(separator.join(numList))"
   ]
  },
  {
   "cell_type": "code",
   "execution_count": null,
   "metadata": {},
   "outputs": [],
   "source": [
    "while True:\n",
    "    i = 0\n",
    "    print(f'outer loop {i}')\n",
    "    for x in range(4):\n",
    "        print(f'inner loop x {x}')\n",
    "        if i == 2:\n",
    "            break\n",
    "        \n",
    "    i += 1"
   ]
  },
  {
   "cell_type": "code",
   "execution_count": null,
   "metadata": {},
   "outputs": [],
   "source": []
  },
  {
   "cell_type": "code",
   "execution_count": 50,
   "metadata": {},
   "outputs": [],
   "source": [
    "def oddEvenJumps(A):\n",
    "    # high er\n",
    "    n = len(A)\n",
    "    next_higher = [0] * n\n",
    "    next_lower =  [0] * n\n",
    "\n",
    "    stack = []\n",
    "    print(sorted([a, i] for i, a in enumerate(A)))\n",
    "    for a, i in sorted([a, i] for i, a in enumerate(A)):\n",
    "        while stack and stack[-1] < i:\n",
    "            next_higher[stack.pop()] = i\n",
    "        stack.append(i)\n",
    "    print(next_higher)\n",
    "\n",
    "    stack = []\n",
    "    for a, i in sorted([-a, i] for i, a in enumerate(A)):\n",
    "        print(f'a {a} i {i} ')\n",
    "        while stack and stack[-1] < i:\n",
    "            print(f'stack {stack} stack[-1] {stack[-1]} ')\n",
    "            next_lower[stack.pop()] = i\n",
    "        print(f'new lower {next_lower}')\n",
    "        stack.append(i)\n",
    "        print(f'stack append {stack}')\n",
    "\n",
    "    higher = [0] * n\n",
    "    lower = [0] * n\n",
    "   \n",
    "    higher[-1] = lower[-1] = 1\n",
    "    print(f'next_higher {next_higher}  next_lower {next_lower}')\n",
    "    print(f'higher {higher}  lower {lower}') \n",
    "    for i in range(n - 1)[::-1]:\n",
    "        print()\n",
    "        higher[i] = lower[next_higher[i]]\n",
    "        lower[i] = higher[next_lower[i]]\n",
    "    print(f'higher {higher}  lower {lower}') \n",
    "    return sum(higher)"
   ]
  },
  {
   "cell_type": "code",
   "execution_count": 51,
   "metadata": {},
   "outputs": [
    {
     "name": "stdout",
     "output_type": "stream",
     "text": [
      "[[10, 0], [12, 2], [13, 1], [14, 3], [15, 4]]\n",
      "[2, 3, 3, 4, 0]\n",
      "a -15 i 4 \n",
      "new lower [0, 0, 0, 0, 0]\n",
      "stack append [4]\n",
      "a -14 i 3 \n",
      "new lower [0, 0, 0, 0, 0]\n",
      "stack append [4, 3]\n",
      "a -13 i 1 \n",
      "new lower [0, 0, 0, 0, 0]\n",
      "stack append [4, 3, 1]\n",
      "a -12 i 2 \n",
      "stack [4, 3, 1] stack[-1] 1 \n",
      "new lower [0, 2, 0, 0, 0]\n",
      "stack append [4, 3, 2]\n",
      "a -10 i 0 \n",
      "new lower [0, 2, 0, 0, 0]\n",
      "stack append [4, 3, 2, 0]\n",
      "next_higher [2, 3, 3, 4, 0]  next_lower [0, 2, 0, 0, 0]\n",
      "higher [0, 0, 0, 0, 1]  lower [0, 0, 0, 0, 1]\n",
      "\n",
      "\n",
      "\n",
      "\n",
      "higher [0, 0, 0, 1, 1]  lower [0, 0, 0, 0, 1]\n",
      "2\n",
      "[[1, 2], [1, 3], [2, 0], [3, 1], [4, 4]]\n",
      "[1, 4, 3, 4, 0]\n",
      "a -4 i 4 \n",
      "new lower [0, 0, 0, 0, 0]\n",
      "stack append [4]\n",
      "a -3 i 1 \n",
      "new lower [0, 0, 0, 0, 0]\n",
      "stack append [4, 1]\n",
      "a -2 i 0 \n",
      "new lower [0, 0, 0, 0, 0]\n",
      "stack append [4, 1, 0]\n",
      "a -1 i 2 \n",
      "stack [4, 1, 0] stack[-1] 0 \n",
      "stack [4, 1] stack[-1] 1 \n",
      "new lower [2, 2, 0, 0, 0]\n",
      "stack append [4, 2]\n",
      "a -1 i 3 \n",
      "stack [4, 2] stack[-1] 2 \n",
      "new lower [2, 2, 3, 0, 0]\n",
      "stack append [4, 3]\n",
      "next_higher [1, 4, 3, 4, 0]  next_lower [2, 2, 3, 0, 0]\n",
      "higher [0, 0, 0, 0, 1]  lower [0, 0, 0, 0, 1]\n",
      "\n",
      "\n",
      "\n",
      "\n",
      "higher [0, 1, 0, 1, 1]  lower [0, 0, 1, 0, 1]\n",
      "3\n",
      "[[1, 1], [2, 4], [3, 2], [4, 3], [5, 0]]\n",
      "[0, 4, 3, 0, 0]\n",
      "a -5 i 0 \n",
      "new lower [0, 0, 0, 0, 0]\n",
      "stack append [0]\n",
      "a -4 i 3 \n",
      "stack [0] stack[-1] 0 \n",
      "new lower [3, 0, 0, 0, 0]\n",
      "stack append [3]\n",
      "a -3 i 2 \n",
      "new lower [3, 0, 0, 0, 0]\n",
      "stack append [3, 2]\n",
      "a -2 i 4 \n",
      "stack [3, 2] stack[-1] 2 \n",
      "stack [3] stack[-1] 3 \n",
      "new lower [3, 0, 4, 4, 0]\n",
      "stack append [4]\n",
      "a -1 i 1 \n",
      "new lower [3, 0, 4, 4, 0]\n",
      "stack append [4, 1]\n",
      "next_higher [0, 4, 3, 0, 0]  next_lower [3, 0, 4, 4, 0]\n",
      "higher [0, 0, 0, 0, 1]  lower [0, 0, 0, 0, 1]\n",
      "\n",
      "\n",
      "\n",
      "\n",
      "higher [0, 1, 1, 0, 1]  lower [0, 0, 1, 1, 1]\n",
      "3\n"
     ]
    }
   ],
   "source": [
    "print(oddEvenJumps([10,13,12,14,15]))\n",
    "print(oddEvenJumps([2,3,1,1,4]))\n",
    "print(oddEvenJumps([5,1,3,4,2]))"
   ]
  },
  {
   "cell_type": "code",
   "execution_count": 27,
   "metadata": {},
   "outputs": [
    {
     "data": {
      "text/plain": [
       "[[10, 0], [12, 2], [13, 1], [14, 3], [15, 4]]"
      ]
     },
     "execution_count": 27,
     "metadata": {},
     "output_type": "execute_result"
    }
   ],
   "source": [
    "sorted([[a, i] for i, a in enumerate([10,13,12,14,15])])"
   ]
  },
  {
   "cell_type": "code",
   "execution_count": 33,
   "metadata": {},
   "outputs": [
    {
     "name": "stdout",
     "output_type": "stream",
     "text": [
      "8\n",
      "7\n",
      "6\n",
      "5\n",
      "4\n",
      "3\n",
      "2\n",
      "1\n",
      "0\n"
     ]
    }
   ],
   "source": [
    "for i in range(8, -1, -1):\n",
    "    print(i)"
   ]
  },
  {
   "cell_type": "code",
   "execution_count": 34,
   "metadata": {},
   "outputs": [
    {
     "name": "stdout",
     "output_type": "stream",
     "text": [
      "8\n",
      "7\n",
      "6\n",
      "5\n",
      "4\n",
      "3\n",
      "2\n",
      "1\n",
      "0\n"
     ]
    }
   ],
   "source": [
    "for i in range(10 - 1)[::-1]:\n",
    "    print(i)"
   ]
  },
  {
   "cell_type": "code",
   "execution_count": 45,
   "metadata": {},
   "outputs": [
    {
     "data": {
      "text/plain": [
       "[[-15, 4], [-14, 3], [-13, 1], [-12, 2], [-10, 0]]"
      ]
     },
     "execution_count": 45,
     "metadata": {},
     "output_type": "execute_result"
    }
   ],
   "source": [
    "sorted([-a, i] for i, a in enumerate([10,13,12,14,15]))"
   ]
  },
  {
   "cell_type": "code",
   "execution_count": 61,
   "metadata": {},
   "outputs": [
    {
     "name": "stdout",
     "output_type": "stream",
     "text": [
      "[5, 3, 2]\n"
     ]
    }
   ],
   "source": [
    "arr = [2,3,5]\n",
    "arr.sort(reverse=True)\n",
    "print([e for i,e in enumerate(arr) if i < 5])"
   ]
  },
  {
   "cell_type": "code",
   "execution_count": 55,
   "metadata": {},
   "outputs": [
    {
     "name": "stdout",
     "output_type": "stream",
     "text": [
      "None\n"
     ]
    }
   ],
   "source": [
    "arr = [2,3,5,6]\n",
    "print(arr.sort(reverse=True))"
   ]
  },
  {
   "cell_type": "code",
   "execution_count": 56,
   "metadata": {},
   "outputs": [
    {
     "name": "stdout",
     "output_type": "stream",
     "text": [
      "[6, 5, 3, 2]\n"
     ]
    }
   ],
   "source": [
    "print(arr)"
   ]
  },
  {
   "cell_type": "code",
   "execution_count": 63,
   "metadata": {},
   "outputs": [
    {
     "name": "stdout",
     "output_type": "stream",
     "text": [
      "[5, 3, 2]\n"
     ]
    }
   ],
   "source": [
    "print(arr[:39])"
   ]
  },
  {
   "cell_type": "code",
   "execution_count": 64,
   "metadata": {},
   "outputs": [
    {
     "data": {
      "text/plain": [
       "0"
      ]
     },
     "execution_count": 64,
     "metadata": {},
     "output_type": "execute_result"
    }
   ],
   "source": [
    "10 % 2"
   ]
  },
  {
   "cell_type": "code",
   "execution_count": 73,
   "metadata": {},
   "outputs": [
    {
     "name": "stdout",
     "output_type": "stream",
     "text": [
      "3\n"
     ]
    }
   ],
   "source": [
    "print(3 % 68416541684)\n"
   ]
  },
  {
   "cell_type": "code",
   "execution_count": 75,
   "metadata": {},
   "outputs": [
    {
     "data": {
      "text/plain": [
       "4"
      ]
     },
     "execution_count": 75,
     "metadata": {},
     "output_type": "execute_result"
    }
   ],
   "source": [
    "-6 % 10"
   ]
  },
  {
   "cell_type": "code",
   "execution_count": 74,
   "metadata": {},
   "outputs": [
    {
     "data": {
      "text/plain": [
       "7"
      ]
     },
     "execution_count": 74,
     "metadata": {},
     "output_type": "execute_result"
    }
   ],
   "source": [
    "-123 % 10"
   ]
  },
  {
   "cell_type": "code",
   "execution_count": 76,
   "metadata": {},
   "outputs": [
    {
     "data": {
      "text/plain": [
       "0"
      ]
     },
     "execution_count": 76,
     "metadata": {},
     "output_type": "execute_result"
    }
   ],
   "source": [
    "60 % 60"
   ]
  },
  {
   "cell_type": "code",
   "execution_count": 79,
   "metadata": {},
   "outputs": [
    {
     "data": {
      "text/plain": [
       "20"
      ]
     },
     "execution_count": 79,
     "metadata": {},
     "output_type": "execute_result"
    }
   ],
   "source": [
    "-100 % 60"
   ]
  },
  {
   "cell_type": "code",
   "execution_count": 80,
   "metadata": {},
   "outputs": [
    {
     "data": {
      "text/plain": [
       "30"
      ]
     },
     "execution_count": 80,
     "metadata": {},
     "output_type": "execute_result"
    }
   ],
   "source": [
    "150 % 60"
   ]
  },
  {
   "cell_type": "code",
   "execution_count": 81,
   "metadata": {},
   "outputs": [
    {
     "data": {
      "text/plain": [
       "40"
      ]
     },
     "execution_count": 81,
     "metadata": {},
     "output_type": "execute_result"
    }
   ],
   "source": [
    "100 % 60"
   ]
  },
  {
   "cell_type": "code",
   "execution_count": 82,
   "metadata": {},
   "outputs": [
    {
     "data": {
      "text/plain": [
       "1"
      ]
     },
     "execution_count": 82,
     "metadata": {},
     "output_type": "execute_result"
    }
   ],
   "source": [
    "1 % 10"
   ]
  },
  {
   "cell_type": "code",
   "execution_count": 83,
   "metadata": {},
   "outputs": [
    {
     "data": {
      "text/plain": [
       "2"
      ]
     },
     "execution_count": 83,
     "metadata": {},
     "output_type": "execute_result"
    }
   ],
   "source": [
    "12 % 10\n"
   ]
  },
  {
   "cell_type": "code",
   "execution_count": null,
   "metadata": {},
   "outputs": [],
   "source": [
    "8510"
   ]
  }
 ],
 "metadata": {
  "kernelspec": {
   "display_name": "Python 3.7.5 64-bit ('p37': conda)",
   "language": "python",
   "name": "python37564bitp37conda2b1eeea87ee044609be89b011a3e6682"
  },
  "language_info": {
   "codemirror_mode": {
    "name": "ipython",
    "version": 3
   },
   "file_extension": ".py",
   "mimetype": "text/x-python",
   "name": "python",
   "nbconvert_exporter": "python",
   "pygments_lexer": "ipython3",
   "version": "3.7.5"
  }
 },
 "nbformat": 4,
 "nbformat_minor": 4
}
