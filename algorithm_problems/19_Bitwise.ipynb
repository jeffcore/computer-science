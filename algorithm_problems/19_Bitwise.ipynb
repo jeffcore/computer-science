{
 "cells": [
  {
   "cell_type": "markdown",
   "metadata": {},
   "source": [
    "# Bit Manipulation\n",
    "\n",
    "\n",
    "## Binary Operators\n",
    "```\n",
    "&    binary and\n",
    "|    binary or\n",
    "^    binary xor (exclusive or)\n",
    "~    binary ones complement effect of  flipping bits\n",
    "<<   binary left shift\n",
    ">>  binary right shift\n",
    "\n",
    "    \n",
    "\n",
    "x  y    x^y\n",
    "0  0    0    \n",
    "0  1    1\n",
    "1  0    1\n",
    "1  1    0   \n",
    "    \n",
    "```\n",
    "https://www.hackerearth.com/practice/basic-programming/bit-manipulation/basics-of-bit-manipulation/tutorial/\n",
    "    \n",
    "https://www.youtube.com/watch?v=F0RywIXmqlU&list=PL5tcWHG-UPH1u5iox6v1Hey59vNd5cnTw"
   ]
  },
  {
   "cell_type": "markdown",
   "metadata": {},
   "source": [
    "## Printing Binary Numbers Formating binary"
   ]
  },
  {
   "cell_type": "code",
   "execution_count": 239,
   "metadata": {},
   "outputs": [
    {
     "name": "stdout",
     "output_type": "stream",
     "text": [
      " 3 in binary is 00000011\n",
      " 3 in binary is 11000000\n",
      "101 | 5\n",
      "0b10011\n",
      "37\n"
     ]
    }
   ],
   "source": [
    "i = 3\n",
    "print(f'{i:>2} in binary is {i:>08b}')\n",
    "print(f'{i:>2} in binary is {i:<08b}')\n",
    "print(\"{0:b} | {0}\".format(5))\n",
    "\n",
    "# converting\n",
    "print(bin(19))\n",
    "print(int(0b100101))"
   ]
  },
  {
   "cell_type": "markdown",
   "metadata": {},
   "source": [
    "### Get Num to Binary"
   ]
  },
  {
   "cell_type": "code",
   "execution_count": 192,
   "metadata": {},
   "outputs": [
    {
     "name": "stdout",
     "output_type": "stream",
     "text": [
      "101100\n"
     ]
    }
   ],
   "source": [
    "n = 44\n",
    "print(bin(n)[2:])"
   ]
  },
  {
   "cell_type": "markdown",
   "metadata": {},
   "source": [
    "## Basic Operations\n",
    "\n",
    "x << y  \n",
    "Returns x with the bits shifted to the left by y places (and new bits on the right-hand-side are zeros). This is the same as multiplying x by 2**y.\n",
    "\n",
    "x >> y  \n",
    "Returns x with the bits shifted to the right by y places. This is the same as //'ing x by 2**y.\n",
    "\n",
    "x & y  \n",
    "Does a \"bitwise and\". Each bit of the output is 1 if the corresponding bit of x AND of y is 1, otherwise it's 0.\n",
    "\n",
    "x | y  \n",
    "Does a \"bitwise or\". Each bit of the output is 0 if the corresponding bit of x AND of y is 0, otherwise it's 1.\n",
    "\n",
    "~ x  \n",
    "Returns the complement of x - the number you get by switching each 1 for a 0 and each 0 for a 1. This is the same as -x - 1.\n",
    "\n",
    "x ^ y  \n",
    "Does a \"bitwise exclusive or\". Each bit of the output is the same as the corresponding bit in x if that bit in y is 0, and it's the complement of the bit in x if that bit in y is 1.\n",
    "\n",
    "\n",
    "\n",
    "\n",
    "```\n",
    "a =   0011 1100\n",
    "b =   0000 1101\n",
    "-----------------\n",
    "a&b = 0000 1100    and\n",
    "a|b = 0011 1101     or\n",
    "a^b = 0011 0001     xor  \n",
    "~a  = 1100 0011     not or complement\n",
    "```"
   ]
  },
  {
   "cell_type": "code",
   "execution_count": 160,
   "metadata": {},
   "outputs": [
    {
     "name": "stdout",
     "output_type": "stream",
     "text": [
      "1\n",
      "7 : 111, 1 : 1  7 & 1 = 1\n",
      "True\n",
      "False\n",
      "7 : 111, 4 : 100  7 & 4 = 100 | 4\n",
      "7 : 111,  4 : 100  7 | 4 = 111 | 7\n",
      "7 : 111,  4 : 100  7 ^ 4 = 11 | 3\n",
      "7 : 111,  ~7  = -1000 | -8\n"
     ]
    }
   ],
   "source": [
    "\n",
    "\n",
    "a = 7          # 60 = 0011 1100 \n",
    "b = 4           # 13 = 0000 1101 \n",
    "c = 0\n",
    "\n",
    "c = a & b;        # 12 = 0000 1100\n",
    "print(\"{0} : {0:b}, {1} : {1:b}  {0} & {1} = {2:b} | {2}\".format(a, b, c))\n",
    "\n",
    "c = a | b;        # 61 = 0011 1101 \n",
    "print(\"{0} : {0:b},  {1} : {1:b}  {0} | {1} = {2:b} | {2}\".format(a, b, c))\n",
    "\n",
    "c = a ^ b;        # 49 = 0011 0001\n",
    "print(\"{0} : {0:b},  {1} : {1:b}  {0} ^ {1} = {2:b} | {2}\".format(a, b, c))\n",
    "\n",
    "c = ~a;           # -61 = 1100 0011\n",
    "print(\"{0} : {0:b},  ~{0}  = {1:b} | {1}\".format(a, c ))"
   ]
  },
  {
   "cell_type": "markdown",
   "metadata": {},
   "source": [
    "## Bit Facts\n",
    "0s and 1s is a sequence of the same bits"
   ]
  },
  {
   "cell_type": "code",
   "execution_count": 139,
   "metadata": {},
   "outputs": [
    {
     "name": "stdout",
     "output_type": "stream",
     "text": [
      "8 in binary 1001\n",
      "x ^ 0s = x 1001\n",
      "x ^ 1s = ~x 0110\n",
      "x ^ x  = 0 0000\n",
      "x & 0s = 0 0000\n",
      "x & 1s = x 1001\n",
      "x & x  = x 1001\n",
      "x | 0s  = x 1001\n",
      "x | 1s  = x 1111\n",
      "x | x  = x 1001\n"
     ]
    }
   ],
   "source": [
    "x = 9\n",
    "print(f'8 in binary {x:b}')\n",
    "\n",
    "# x ^ 0s = x\n",
    "print(f'x ^ 0s = x {x^0b0000:b}')\n",
    "\n",
    "# x ^ 1s = ~x\n",
    "print(f'x ^ 1s = ~x {x^0b1111:>04b}')\n",
    "\n",
    "# x ^ x = 0\n",
    "print(f'x ^ x  = 0 {x^x:>04b}')\n",
    "\n",
    "# x & 0s = 0\n",
    "print(f'x & 0s = 0 {x&0b0000:>04b}')\n",
    "\n",
    "# x & 1s = x\n",
    "print(f'x & 1s = x {x&0b1111:>04b}')\n",
    "\n",
    "# x & x = x\n",
    "print(f'x & x  = x {x&x:>04b}')\n",
    "\n",
    "# x | 0s = x\n",
    "print(f'x | 0s  = x {x|0b0000:>04b}')\n",
    "\n",
    "# x | 1s = 1s\n",
    "print(f'x | 1s  = x {x|0b1111:>04b}')\n",
    "\n",
    "# x | x = x\n",
    "print(f'x | x  = x {x|x:>04b}')"
   ]
  },
  {
   "cell_type": "markdown",
   "metadata": {},
   "source": [
    "## Bit Shifting\n",
    "\n",
    "Left Shift  \n",
    "<< inserts zeros at the right end of the bit, so bits are shifted left   \n",
    "    x << y is multiplying  x by 2\\*\\*y.   \n",
    "    \n",
    "Right Shift   \n",
    "\\>> inserts zeros at the left end of the bit, so bits are shifted right   \n",
    "    x \\>> y is dividing x by 2\\*\\*y  \n",
    "\n",
    "multiplying or dividing a number by powers of  two\n",
    "\n",
    "```\n",
    "n << 1  -  n * 2\n",
    "n << 2  -  n * 4\n",
    "\n",
    "```"
   ]
  },
  {
   "cell_type": "code",
   "execution_count": 180,
   "metadata": {},
   "outputs": [
    {
     "name": "stdout",
     "output_type": "stream",
     "text": [
      "10 : bin 1010,  10 << 1 = 10100 | 20\n",
      "10 : bin 1010,  10 << 2 = 101000 | 40\n",
      "6 : bin 110,  6 >> 1 = 11 | 3\n",
      "20 : bin 10100,  20 >> 2 = 101 | 5\n"
     ]
    }
   ],
   "source": [
    "a = 10         \n",
    "b = 4          \n",
    "\n",
    "# shift 1 to left\n",
    "c = a << 1;       \n",
    "print(\"{0} : bin {0:b},  {0} << 1 = {1:b} | {1}\".format(a, c))\n",
    "\n",
    "# shift 2 to left\n",
    "c = a << 2;       \n",
    "print(\"{0} : bin {0:b},  {0} << 2 = {1:b} | {1}\".format(a, c))\n",
    "\n",
    "a = 6\n",
    "# shift 1 to right\n",
    "c = a >> 1;      \n",
    "print(\"{0} : bin {0:b},  {0} >> 1 = {1:b} | {1}\".format(a, c ))    \n",
    "\n",
    "a = 20\n",
    "# shift 2 to right\n",
    "c = a >> 2;       \n",
    "print(\"{0} : bin {0:b},  {0} >> 2 = {1:b} | {1}\".format(a, c ))    "
   ]
  },
  {
   "cell_type": "code",
   "execution_count": null,
   "metadata": {},
   "outputs": [],
   "source": []
  },
  {
   "cell_type": "markdown",
   "metadata": {},
   "source": [
    "<hr>"
   ]
  },
  {
   "cell_type": "markdown",
   "metadata": {},
   "source": [
    "## Basic Usage\n",
    "\n"
   ]
  },
  {
   "cell_type": "markdown",
   "metadata": {},
   "source": [
    "### Check if a bit is set"
   ]
  },
  {
   "cell_type": "code",
   "execution_count": 238,
   "metadata": {},
   "outputs": [
    {
     "name": "stdout",
     "output_type": "stream",
     "text": [
      "bit mask 10\n",
      "12 : 1100, mask : 00000001  1100 & 00000001 == 00000001 is False\n",
      "1\n",
      "7 : 111, mask : 1  7 & 1 = 1\n",
      "True\n",
      "False\n"
     ]
    }
   ],
   "source": [
    "def bit_set(position, binary):\n",
    "    # create bit mask and \n",
    "    bit_mask = 1 << position\n",
    "    print(f'bit mask {bit_mask:b}')\n",
    "    # use & operator\n",
    "    return binary & bit_mask == bit_mask\n",
    "\n",
    "binary = 12\n",
    "position = 1 \n",
    "\n",
    "print(\"{0} : {0:b}, mask : {1:>08b}  {0:b} & {1:>08b} == {1:>08b} is {2}\".format(binary, position, bit_set(position, binary)))\n",
    "\n",
    "# & how to check if a bit is checked  - \n",
    "a = 7\n",
    "b = 1\n",
    "\"\"\"\n",
    "    is 001  in 111 - use the and operator\n",
    "\"\"\"\n",
    "print(a & b)\n",
    "print(\"7 : {0:b}, mask : {1:b}  7 & 1 = {2}\".format(a, b, a & b))\n",
    "print(a & b == b)\n",
    "print(a+1 & b == b)"
   ]
  },
  {
   "cell_type": "markdown",
   "metadata": {},
   "source": [
    "\n",
    "### Set bit position\n",
    "binary in this example is zero"
   ]
  },
  {
   "cell_type": "code",
   "execution_count": 79,
   "metadata": {},
   "outputs": [
    {
     "name": "stdout",
     "output_type": "stream",
     "text": [
      "set this binary 00000000 position 4 dec 16 binary 10000 \n",
      "set this binary 00010000 position 2 dec 20 binary 10100 \n"
     ]
    }
   ],
   "source": [
    "def set_bit(position, binary):   \n",
    "    # set up mask\n",
    "    bit_mask = 1 << position\n",
    "    # use or operator to set the bit\n",
    "    return bit_mask | binary\n",
    "\n",
    "print('set this binary {1:>08b} position {2} dec {0} binary {0:b} '.format(set_bit(4, 0b000000000), 0b000000000, 4))\n",
    "\n",
    "print('set this binary {1:>08b} position {2} dec {0} binary {0:b} '.format(set_bit(2, 0b000010000), 0b000010000, 2))"
   ]
  },
  {
   "cell_type": "markdown",
   "metadata": {},
   "source": [
    "### Get Bit"
   ]
  },
  {
   "cell_type": "code",
   "execution_count": 218,
   "metadata": {},
   "outputs": [
    {
     "name": "stdout",
     "output_type": "stream",
     "text": [
      "found bit False binary bit found 0 \n",
      "found bit True binary  bit found 1 \n",
      "found bit True binary   bit found 1 \n"
     ]
    }
   ],
   "source": [
    "def get_bit(position, binary):\n",
    "    # create bit mask and \n",
    "    bit_mask = 1 << position\n",
    "    # use & operator\n",
    "    return binary & bit_mask != 0\n",
    "\n",
    "print('found bit {0} binary bit found {0:b} '.format(get_bit(1, 0b000011101)))\n",
    "print('found bit {0} binary  bit found {0:b} '.format(get_bit(0, 0b000011101)))  \n",
    "print('found bit {0} binary   bit found {0:b} '.format(get_bit(4, 0b000011101)))  "
   ]
  },
  {
   "cell_type": "markdown",
   "metadata": {},
   "source": [
    "### Clear Bit"
   ]
  },
  {
   "cell_type": "code",
   "execution_count": 94,
   "metadata": {},
   "outputs": [
    {
     "name": "stdout",
     "output_type": "stream",
     "text": [
      "-0b10\n",
      "dec 28 before binary 11101 after clearing 11100 \n"
     ]
    }
   ],
   "source": [
    "def clear_bit(pos, num):\n",
    "    mask = ~(1 << pos)\n",
    "    print(bin(mask))\n",
    "    return num & mask\n",
    "\n",
    "print('dec {0} before binary {1:b} after clearing {0:b} '.format(clear_bit(0, 0b000011101), 0b000011101))"
   ]
  },
  {
   "cell_type": "markdown",
   "metadata": {},
   "source": [
    "### Update Bit"
   ]
  },
  {
   "cell_type": "code",
   "execution_count": 152,
   "metadata": {},
   "outputs": [
    {
     "name": "stdout",
     "output_type": "stream",
     "text": [
      "7 binary 111 101\n"
     ]
    }
   ],
   "source": [
    "def update_bit(num, i, bit_is_1):\n",
    "    value = 1 if bit_is_1 else 0\n",
    "    mask = ~(1 << i)\n",
    "    return (num & mask) | (value << i)\n",
    "\n",
    "print(f'7 binary {7:b} {update_bit(7, 1, False):b}')\n"
   ]
  },
  {
   "cell_type": "markdown",
   "metadata": {},
   "source": [
    "### Bitwise way to switch between true and false"
   ]
  },
  {
   "cell_type": "code",
   "execution_count": 141,
   "metadata": {},
   "outputs": [
    {
     "name": "stdout",
     "output_type": "stream",
     "text": [
      "0\n",
      "1\n",
      "0\n",
      "1\n",
      "0\n",
      "1\n",
      "0\n",
      "1\n",
      "0\n",
      "1\n"
     ]
    }
   ],
   "source": [
    "result = 0\n",
    "for _ in range(10):\n",
    "    print(result)\n",
    "    result ^= 1    "
   ]
  },
  {
   "cell_type": "markdown",
   "metadata": {},
   "source": [
    "### Bitwise return odd or even of number\n",
    "\n",
    "x & 1  \n",
    "0 = even  \n",
    "1 = odd  \n"
   ]
  },
  {
   "cell_type": "code",
   "execution_count": 176,
   "metadata": {},
   "outputs": [
    {
     "name": "stdout",
     "output_type": "stream",
     "text": [
      "0 & 1 = 0\n",
      "1 & 1 = 1\n",
      "2 & 1 = 0\n",
      "3 & 1 = 1\n",
      "4 & 1 = 0\n",
      "5 & 1 = 1\n",
      "6 & 1 = 0\n",
      "7 & 1 = 1\n",
      "8 & 1 = 0\n",
      "9 & 1 = 1\n",
      "10 & 1 = 0\n",
      "11 & 1 = 1\n",
      "12 & 1 = 0\n",
      "13 & 1 = 1\n",
      "14 & 1 = 0\n",
      "15 & 1 = 1\n",
      "16 & 1 = 0\n",
      "17 & 1 = 1\n",
      "18 & 1 = 0\n",
      "19 & 1 = 1\n",
      "20 & 1 = 0\n",
      "21 & 1 = 1\n",
      "22 & 1 = 0\n",
      "23 & 1 = 1\n",
      "24 & 1 = 0\n",
      "25 & 1 = 1\n",
      "26 & 1 = 0\n",
      "27 & 1 = 1\n",
      "28 & 1 = 0\n",
      "29 & 1 = 1\n",
      "30 & 1 = 0\n",
      "31 & 1 = 1\n"
     ]
    }
   ],
   "source": [
    "for i in range(32):\n",
    "    print(f'{i} & 1 = {i & 1}')"
   ]
  },
  {
   "cell_type": "markdown",
   "metadata": {},
   "source": [
    "### Get rightmost lowest bit 1 in binary - two ways"
   ]
  },
  {
   "cell_type": "code",
   "execution_count": 194,
   "metadata": {},
   "outputs": [
    {
     "name": "stdout",
     "output_type": "stream",
     "text": [
      "00000010\n",
      "00000010\n"
     ]
    }
   ],
   "source": [
    "x = 10  # 1010\n",
    "print(f'{x ^ (x & (x - 1)):>08b}')\n",
    "\n",
    "\n",
    "x = 10  # 1010\n",
    "print(f'{x & ~(x - 1):>08b}')"
   ]
  },
  {
   "cell_type": "markdown",
   "metadata": {},
   "source": [
    "### Clear Right Most Bit\n",
    "x & (x-1)"
   ]
  },
  {
   "cell_type": "code",
   "execution_count": 108,
   "metadata": {},
   "outputs": [
    {
     "name": "stdout",
     "output_type": "stream",
     "text": [
      "1010\n",
      "1000\n"
     ]
    }
   ],
   "source": [
    "x = 10\n",
    "print(f'{x:b}')\n",
    "x = x&(x-1)\n",
    "print(f'{x:b}')"
   ]
  },
  {
   "cell_type": "markdown",
   "metadata": {},
   "source": [
    "## Coding Problems"
   ]
  },
  {
   "cell_type": "markdown",
   "metadata": {},
   "source": [
    "### check parity of word \n",
    "even 1's it is 0  \n",
    "odd 1's it is 1"
   ]
  },
  {
   "cell_type": "code",
   "execution_count": 103,
   "metadata": {},
   "outputs": [
    {
     "name": "stdout",
     "output_type": "stream",
     "text": [
      "11 1011 1\n",
      "10 1010 0\n"
     ]
    }
   ],
   "source": [
    "## Brute Force O(n)\n",
    "def parity(x):\n",
    "    result = 0\n",
    "    while x:\n",
    "        result ^= x & 1\n",
    "        x >>= 1\n",
    "    return result\n",
    "\n",
    "print(f'11 {11:b} {parity(11)}')\n",
    "print(f'10 {10:b} {parity(10)}')"
   ]
  },
  {
   "cell_type": "code",
   "execution_count": 114,
   "metadata": {},
   "outputs": [
    {
     "name": "stdout",
     "output_type": "stream",
     "text": [
      "1\n",
      "1011\n",
      "0\n",
      "1010\n",
      "1\n",
      "1000\n",
      "11 1011 1\n",
      "1\n",
      "1010\n",
      "0\n",
      "1000\n",
      "10 1010 0\n"
     ]
    }
   ],
   "source": [
    "# drop right most bit o(k) k number of bit set to 1\n",
    "def parity(x):\n",
    "    result = 0\n",
    "    while x:  # checks for x to be zero\n",
    "        result ^= 1 #bitwise switch between true and false\n",
    "        print(f'{result:b}')\n",
    "        print(f'{x:b}')\n",
    "        x &= x - 1  # remove each left 1\n",
    "        \n",
    "    return result\n",
    "\n",
    "print(f'11 {11:b} {parity(11)}')\n",
    "print(f'10 {10:b} {parity(10)}')"
   ]
  },
  {
   "cell_type": "markdown",
   "metadata": {},
   "source": [
    "### Count all bits set to 1 in a positive integer\n",
    "\n",
    "test bits one at a time from LSB left to right. uses shifting and and masking"
   ]
  },
  {
   "cell_type": "code",
   "execution_count": 68,
   "metadata": {},
   "outputs": [
    {
     "name": "stdout",
     "output_type": "stream",
     "text": [
      "count bits: 1 bits 1000\n",
      "count bits: 3 bits 111\n"
     ]
    }
   ],
   "source": [
    "def count_bits(x):\n",
    "    num_bits = 0\n",
    "    while x:\n",
    "        num_bits += x & 1\n",
    "        x >>= 1\n",
    "    return num_bits\n",
    "\n",
    "print(f'count bits: {count_bits(8)} bits {8:b}')\n",
    "print(f'count bits: {count_bits(7)} bits {7:b}')"
   ]
  },
  {
   "cell_type": "markdown",
   "metadata": {},
   "source": [
    "### Find Element that Appears Once In A list\n",
    "Given an array of integers where every integer appears three times except for one integer, which only occurs once, find and return it."
   ]
  },
  {
   "cell_type": "code",
   "execution_count": 188,
   "metadata": {},
   "outputs": [
    {
     "name": "stdout",
     "output_type": "stream",
     "text": [
      "1\n",
      "19\n"
     ]
    }
   ],
   "source": [
    "def find_unique_threes(arr):\n",
    "    result_arr = [0] * 32\n",
    "    \n",
    "    for num in arr:\n",
    "        for i in range(32):\n",
    "            # print(f'num : {num}   {num} >>  {i}  = {num >> i}')\n",
    "            \n",
    "            bit = (num >> i) & 1\n",
    "            \n",
    "            # print(f'bit : {bit:b}')\n",
    "            \n",
    "            result_arr[i] += bit\n",
    "            \n",
    "           #  print(result_arr)\n",
    "    result = 0\n",
    "    for i, bit in enumerate(result_arr):\n",
    "        if bit % 3 != 0:\n",
    "            result += 2 ** i\n",
    "    \n",
    "    return result\n",
    "            \n",
    "arr = [6,1,3,3,3,6,6]\n",
    "\n",
    "print(find_unique_threes(arr))\n",
    "\n",
    "            \n",
    "arr = [13,19,13,13]\n",
    "\n",
    "print(find_unique_threes(arr))"
   ]
  },
  {
   "cell_type": "markdown",
   "metadata": {},
   "source": [
    "### Compute the longest consecutive string of ones in binary\n",
    "10011100 would return 3  \n",
    "\n",
    "n & (n << 1)      \n",
    "trick to remove consecutive strings of 1's one at a time.   \n",
    "```\n",
    "10110  \n",
    "shift it  \n",
    " 101100  \n",
    "& 10110  \n",
    " ------  \n",
    " 000100 only one 1\n",
    "```\n"
   ]
  },
  {
   "cell_type": "code",
   "execution_count": 206,
   "metadata": {},
   "outputs": [
    {
     "name": "stdout",
     "output_type": "stream",
     "text": [
      "n << 1 = 42\n",
      "21 & (42) = 0 0\n",
      "10101 & 101010\n"
     ]
    },
    {
     "data": {
      "text/plain": [
       "1"
      ]
     },
     "execution_count": 206,
     "metadata": {},
     "output_type": "execute_result"
    }
   ],
   "source": [
    "def find_length(n):\n",
    "    max_length = 0\n",
    "    \n",
    "    while n:\n",
    "        max_length += 1\n",
    "        print(f'n << 1 = {n << 1}')\n",
    "        print(f'{n} & ({n << 1}) = {n & (n << 1)} {n & (n << 1):b}')\n",
    "        print(f'{n:b} & {n << 1:b}')\n",
    "        \n",
    "        n = n & (n << 1)\n",
    "    return max_length\n",
    "    \n",
    "find_length(21)"
   ]
  },
  {
   "cell_type": "markdown",
   "metadata": {},
   "source": [
    "### Find nth sevenish number\n",
    "1, 7, 8, 49\n",
    "power of 7 or sum of unique powers of seven"
   ]
  },
  {
   "cell_type": "code",
   "execution_count": 214,
   "metadata": {},
   "outputs": [
    {
     "name": "stdout",
     "output_type": "stream",
     "text": [
      "n 10\n",
      "0\n",
      "n 1\n",
      "111\n",
      "7\n"
     ]
    }
   ],
   "source": [
    "def find_seven(n):\n",
    "    answer = 0\n",
    "    bit_place = 0\n",
    "    \n",
    "    while n:\n",
    "        if (n & 1):  # odd even check\n",
    "            answer += 7 ** bit_place  # just math no bitwise operatins\n",
    "        print(f'n {n:b}')\n",
    "        \n",
    "        n >>= 1 \n",
    "        bit_place += 1\n",
    "        \n",
    "        print(f'{answer:b}')\n",
    "    \n",
    "    return answer\n",
    "\n",
    "print(find_seven(2))"
   ]
  },
  {
   "cell_type": "markdown",
   "metadata": {},
   "source": [
    "## XOR  Exclusive \n",
    "\n",
    "```\n",
    "x  y    x^y\n",
    "0  0    0    \n",
    "0  1    1\n",
    "1  0    1\n",
    "1  1    0   \n",
    "    \n",
    "```\n",
    "\n",
    "XOR is a logical bitwise operator that returns 0 (false) if both bits are the same and returns 1 (true) otherwise. In other words, it only returns 1 if exactly one bit is set to 1 out of the two bits in comparison.\n",
    "\n",
    "\n",
    "Important properties of XOR to remember #\n",
    "Following are some important properties of XOR to remember:\n",
    "\n",
    "1. Taking XOR of a number with itself returns 0, e.g.,\n",
    "\n",
    "    1 ^ 1 = 0  \n",
    "    29 ^ 29 = 0  \n",
    "2. Taking XOR of a number with 0 returns the same number, e.g.,\n",
    "\n",
    "    1 ^ 0 = 1  \n",
    "    31 ^ 0 = 31  \n",
    "    \n",
    "3. XOR is Associative & Commutative, which means:\n",
    "\n",
    "    (a ^ b) ^ c = a ^ (b ^ c)  \n",
    "    a ^ b = b ^ a   "
   ]
  },
  {
   "cell_type": "code",
   "execution_count": 27,
   "metadata": {},
   "outputs": [
    {
     "name": "stdout",
     "output_type": "stream",
     "text": [
      "2 : 00000010,  4 : 00000100  2 ^ 4 = 00000110 | 6\n"
     ]
    }
   ],
   "source": [
    "a = 2          \n",
    "b = 4          \n",
    "c = 0\n",
    "\n",
    "c = a ^ b     \n",
    "print(\"{0} : {0:>08b},  {1} : {1:>08b}  {0} ^ {1} = {2:>08b} | {2}\".format(a, b, c))"
   ]
  },
  {
   "cell_type": "markdown",
   "metadata": {},
   "source": [
    "### Comparison of 2 Boolean Functions x and y.\n",
    "\n",
    "If x and y are same then x ^ y = 0  \n",
    "If x and y are different then x ^ y = 1"
   ]
  },
  {
   "cell_type": "code",
   "execution_count": 22,
   "metadata": {},
   "outputs": [
    {
     "name": "stdout",
     "output_type": "stream",
     "text": [
      "True\n",
      "False\n",
      "False\n"
     ]
    }
   ],
   "source": [
    "x = True\n",
    "y = False\n",
    "\n",
    "print(x ^ y)\n",
    "\n",
    "x = True\n",
    "y = True\n",
    "\n",
    "print(x ^ y)\n",
    "\n",
    "x = False\n",
    "y = False\n",
    "\n",
    "print(x ^ y)"
   ]
  },
  {
   "cell_type": "code",
   "execution_count": null,
   "metadata": {},
   "outputs": [],
   "source": []
  },
  {
   "cell_type": "markdown",
   "metadata": {},
   "source": [
    "### Given an array of n-1 integers in the range from 1 to n, find the one number that is missing from the array.\n",
    "Input: 1, 5, 2, 6, 4 \n",
    "Answer: 3 "
   ]
  },
  {
   "cell_type": "code",
   "execution_count": 1,
   "metadata": {},
   "outputs": [
    {
     "name": "stdout",
     "output_type": "stream",
     "text": [
      "Missing number is:3\n"
     ]
    }
   ],
   "source": [
    "def find_missing_number(arr):\n",
    "  n = len(arr) + 1\n",
    "  # find sum of all numbers from 1 to n.\n",
    "  s1 = 0\n",
    "  for i in range (1, n+1):\n",
    "    s1 += i\n",
    "\n",
    "  # subtract all numbers in input from sum.\n",
    "  for i in arr:\n",
    "    s1 -= i\n",
    "  \n",
    "  # s1, now, is the missing number\n",
    "  return s1\n",
    "\n",
    "def main():\n",
    "  arr = [1, 5, 2, 6, 4] \n",
    "  print('Missing number is:' + str(find_missing_number(arr)))\n",
    "\n",
    "main()"
   ]
  },
  {
   "cell_type": "markdown",
   "metadata": {},
   "source": [
    "Remember the important property of XOR that it returns 0 if both the bits in comparison are the same. In other words, XOR of a number with itself will always result in 0. This means that if we XOR all the numbers in the input array with all numbers from the range 11 to nn then each number in the input is going to get zeroed out except the missing number. Following are the set of steps to find the missing number using XOR:\n",
    "\n",
    "1. XOR all the numbers from 1 to n, let’s call it x1.  \n",
    "2. XOR all the numbers in the input array, let’s call it x2.  \n",
    "3. The missing number can be found by x1 XOR x2.  "
   ]
  },
  {
   "cell_type": "code",
   "execution_count": 48,
   "metadata": {},
   "outputs": [
    {
     "name": "stdout",
     "output_type": "stream",
     "text": [
      "111\n",
      "100\n",
      "Missing number is: 3\n"
     ]
    }
   ],
   "source": [
    "def find_missing_number(arr):\n",
    "    n = len(arr) + 1\n",
    "    \n",
    "    # x1 represents XOR of all values from 1 to n\n",
    "    x1 = 1\n",
    "    for i in range(2, n+1):\n",
    "        x1 = x1 ^ i\n",
    "    print(f'{x1:b}')\n",
    "    \n",
    "    # x2 represents XOR of all values in arr\n",
    "    x2 = arr[0]\n",
    "    for i in range(1, n-1):\n",
    "        x2 = x2 ^ arr[i]\n",
    "    print(f'{x2:>b}')\n",
    "    \n",
    "    # missing number is the xor of x1 and x2\n",
    "    return x1 ^ x2\n",
    "\n",
    "arr = [1, 5, 2, 6, 4] \n",
    "print('Missing number is: ' + str(find_missing_number(arr)))\n",
    "\n",
    "# 01\n",
    "# 10 ^\n",
    "# 11\n",
    "# 11 ^\n",
    "# 00\n",
    "\n",
    "# 01\n",
    "# 11^\n",
    "# 10\n",
    "\n",
    "# 00\n",
    "# 10 ^\n",
    "# 10 2"
   ]
  },
  {
   "cell_type": "code",
   "execution_count": 8,
   "metadata": {},
   "outputs": [
    {
     "data": {
      "text/plain": [
       "' 3 in binary is 00000011'"
      ]
     },
     "execution_count": 8,
     "metadata": {},
     "output_type": "execute_result"
    }
   ],
   "source": []
  },
  {
   "cell_type": "code",
   "execution_count": null,
   "metadata": {},
   "outputs": [],
   "source": []
  },
  {
   "cell_type": "markdown",
   "metadata": {},
   "source": [
    "### Single Number\n",
    "\n",
    "In a non-empty array of integers, every number appears twice except for one, find that single number.\n",
    "\n",
    "Input: 1, 4, 2, 1, 3, 2, 3   \n",
    "Output: 4  \n",
    "Example 2:  \n",
    "\n",
    "Input: 7, 9, 7  \n",
    "Output: 9  "
   ]
  },
  {
   "cell_type": "code",
   "execution_count": 50,
   "metadata": {},
   "outputs": [
    {
     "name": "stdout",
     "output_type": "stream",
     "text": [
      "4\n"
     ]
    }
   ],
   "source": [
    "def find_single_number(arr):\n",
    "    # TODO: Write your code here\n",
    "    x1 = arr[0]\n",
    "    for i in range(1, len(arr)):\n",
    "        x1 = x1 ^ arr[i]\n",
    "        \n",
    "    \n",
    "    \n",
    "    return x1\n",
    "\n",
    "def main():\n",
    "    arr = [1, 4, 2, 1, 3, 2, 3]\n",
    "    print(find_single_number(arr))\n",
    "\n",
    "main()"
   ]
  },
  {
   "cell_type": "code",
   "execution_count": 52,
   "metadata": {},
   "outputs": [
    {
     "name": "stdout",
     "output_type": "stream",
     "text": [
      "4\n"
     ]
    }
   ],
   "source": [
    "def find_single_number(arr):\n",
    "    num = 0\n",
    "    for i in arr:\n",
    "        num ^= i\n",
    "    return num\n",
    "\n",
    "arr = [1, 4, 2, 1, 3, 2, 3]\n",
    "print(find_single_number(arr))"
   ]
  },
  {
   "cell_type": "markdown",
   "metadata": {},
   "source": [
    "### Two Single Numbers (medium)\n",
    "In a non-empty array of numbers, every number appears exactly twice except two numbers that appear only once. Find the two numbers that appear only once.\n",
    "\n",
    "Input: [1, 4, 2, 1, 3, 5, 6, 2, 3, 5]  \n",
    "Output: [4, 6]  \n",
    "\n",
    "\n",
    "Input: [2, 1, 3, 2]  \n",
    "Output: [1, 3]  \n",
    "\n",
    "\n",
    "This problem is quite similar to Single Number, the only difference is that, in this problem, we have two single numbers instead of one. Can we still use XOR to solve this problem?\n",
    "\n",
    "Let’s assume num1 and num2 are the two single numbers. If we do XOR of all elements of the given array, we will be left with XOR of num1 and num2 as all other numbers will cancel each other because all of them appeared twice. Let’s call this XOR n1xn2. Now that we have XOR of num1 and num2, how can we find these two single numbers?\n",
    "\n",
    "As we know that num1 and num2 are two different numbers, therefore, they should have at least one bit different between them. If a bit in n1xn2 is ‘1’, this means that num1 and num2 have different bits in that place, as we know that we can get ‘1’ only when we do XOR of two different bits, i.e.,\n",
    "\n",
    "1 XOR 0 = 0 XOR 1 = 1\n",
    "We can take any bit which is ‘1’ in n1xn2 and partition all numbers in the given array into two groups based on that bit. One group will have all those numbers with that bit set to ‘0’ and the other with the bit set to ‘1’. This will ensure that num1 will be in one group and num2 will be in the other. We can take XOR of all numbers in each group separately to get num1 and num2, as all other numbers in each group will cancel each other. Here are the steps of our algorithm:\n",
    "\n",
    "1. Taking XOR of all numbers in the given array will give us XOR of num1 and num2, calling this XOR as n1xn2.\n",
    "2. Find any bit which is set in n1xn2. We can take the rightmost bit which is ‘1’. Let’s call this rightmostSetBit.\n",
    "3. Iterate through all numbers of the input array to partition them into two groups based on rightmostSetBit. Take XOR of all numbers in both the groups separately. Both these XORs are our required numbers."
   ]
  },
  {
   "cell_type": "code",
   "execution_count": 58,
   "metadata": {},
   "outputs": [
    {
     "name": "stdout",
     "output_type": "stream",
     "text": [
      "10\n",
      "10\n",
      "Single numbers are:[6, 4]\n",
      "10\n",
      "10\n",
      "Single numbers are:[3, 1]\n"
     ]
    }
   ],
   "source": [
    "def find_single_numbers(nums):\n",
    "    # get the XOR of the all the numbers\n",
    "    n1xn2 = 0\n",
    "    for num in nums:\n",
    "        n1xn2 ^= num\n",
    "\n",
    "    # get the rightmost bit that is '1'\n",
    "    rightmost_set_bit = 1\n",
    "    while (rightmost_set_bit & n1xn2) == 0:\n",
    "        rightmost_set_bit = rightmost_set_bit << 1\n",
    "    print(f'{rightmost_set_bit:b}')\n",
    "    rightmost_set_bit = n1xn2 ^ (n1xn2 & (n1xn2 - 1))\n",
    "    print(f'{rightmost_set_bit:b}')\n",
    "    \n",
    "    num1, num2 = 0, 0\n",
    "    \n",
    "    \n",
    "\n",
    "    for num in nums:\n",
    "        if (num & rightmost_set_bit) != 0:  # the bit is set\n",
    "            num1 ^= num\n",
    "        else:  # the bit is not set\n",
    "            num2 ^= num\n",
    "\n",
    "    return [num1, num2]\n",
    "\n",
    "\n",
    "def main():\n",
    "    print('Single numbers are:' +\n",
    "          str(find_single_numbers([1, 4, 2, 1, 3, 5, 6, 2, 3, 5])))\n",
    "    print('Single numbers are:' + str(find_single_numbers([2, 1, 3, 2])))\n",
    "\n",
    "\n",
    "main()\n"
   ]
  },
  {
   "cell_type": "markdown",
   "metadata": {},
   "source": [
    "### Complement of Base 10 Number (medium)\n",
    "\n",
    "Every non-negative integer N has a binary representation, for example, 8 can be represented as “1000” in binary and 7 as “0111” in binary.\n",
    "\n",
    "The complement of a binary representation is the number in binary that we get when we change every 1 to a 0 and every 0 to a 1. For example, the binary complement of “1010” is “0101”.\n",
    "\n",
    "For a given positive number N in base-10, return the complement of its binary representation as a base-10 integer.\n",
    "\n",
    "Example 1:\n",
    "\n",
    "Input: 8  \n",
    "Output: 7  \n",
    "Explanation: 8 is 1000 in binary, its complement is 0111 in binary, which is 7 in base-10."
   ]
  },
  {
   "cell_type": "code",
   "execution_count": 62,
   "metadata": {},
   "outputs": [
    {
     "name": "stdout",
     "output_type": "stream",
     "text": [
      "1111\n",
      "Bitwise complement is: 7\n",
      "1111\n",
      "Bitwise complement is: 5\n"
     ]
    }
   ],
   "source": [
    "def calculate_bitwise_complement(num):\n",
    "    # count number of total bits in 'num'\n",
    "    bit_count, n = 0, num\n",
    "    while n > 0:\n",
    "        bit_count += 1\n",
    "        n = n >> 1\n",
    "\n",
    "    # for a number which is a complete power of '2' i.e., it can be written as pow(2, n), if we\n",
    "    # subtract '1' from such a number, we get a number which has 'n' least significant bits set to '1'.\n",
    "    # For example, '4' which is a complete power of '2', and '3' (which is one less than 4) has a binary\n",
    "    # representation of '11' i.e., it has '2' least significant bits set to '1'\n",
    "    all_bits_set = pow(2, bit_count) - 1\n",
    "    print(f'{all_bits_set:b}')\n",
    "    # from the solution description: complement = number ^ all_bits_set\n",
    "    return num ^ all_bits_set\n",
    "\n",
    "\n",
    "print('Bitwise complement is: ' + str(calculate_bitwise_complement(8)))\n",
    "print('Bitwise complement is: ' + str(calculate_bitwise_complement(10)))\n"
   ]
  },
  {
   "cell_type": "markdown",
   "metadata": {},
   "source": [
    "### Given a binary matrix representing an image, we want to flip the image horizontally, then invert it.\n",
    "\n",
    "To flip an image horizontally means that each row of the image is reversed. For example, flipping [0, 1, 1] horizontally results in [1, 1, 0].\n",
    "\n",
    "To invert an image means that each 0 is replaced by 1, and each 1 is replaced by 0. For example, inverting [1, 1, 0] results in [0, 0, 1].\n",
    "\n",
    "```\n",
    "Input: [\n",
    "  [1,0,1],\n",
    "  [1,1,1],\n",
    "  [0,1,1]\n",
    "]\n",
    "Output: [\n",
    "  [0,1,0],\n",
    "  [0,0,0],\n",
    "  [0,0,1]\n",
    "]```\n",
    "\n",
    "Solution\n",
    "\n",
    "Flip: We can flip the image in place by replacing ith element from left with the ith element from the right.\n",
    "\n",
    "Invert: We can take XOR of each element with 1. If it is 1 then it will become 0 and if it is 0 then it will become 1."
   ]
  },
  {
   "cell_type": "code",
   "execution_count": 63,
   "metadata": {},
   "outputs": [
    {
     "name": "stdout",
     "output_type": "stream",
     "text": [
      "[[0, 1, 0], [0, 0, 0], [0, 0, 1]]\n",
      "[[1, 1, 0, 0], [0, 1, 1, 0], [0, 0, 0, 1], [1, 0, 1, 0]]\n"
     ]
    }
   ],
   "source": [
    "def flip_an_invert_image(matrix):\n",
    "  C = len(matrix)\n",
    "  for row in matrix:\n",
    "    for i in range((C+1)//2):\n",
    "      row[i], row[C - i - 1] = row[C - i - 1] ^ 1, row[i] ^ 1\n",
    "      \n",
    "  return matrix\n",
    "\n",
    "def main():\n",
    "    print(flip_an_invert_image([[1,0,1], [1,1,1], [0,1,1]]))\n",
    "    print(flip_an_invert_image([[1,1,0,0],[1,0,0,1],[0,1,1,1],[1,0,1,0]]))\n",
    "\n",
    "main()"
   ]
  },
  {
   "cell_type": "code",
   "execution_count": null,
   "metadata": {},
   "outputs": [],
   "source": []
  }
 ],
 "metadata": {
  "kernelspec": {
   "display_name": "Python 3.7.5 64-bit ('p37': conda)",
   "language": "python",
   "name": "python37564bitp37conda2b1eeea87ee044609be89b011a3e6682"
  },
  "language_info": {
   "codemirror_mode": {
    "name": "ipython",
    "version": 3
   },
   "file_extension": ".py",
   "mimetype": "text/x-python",
   "name": "python",
   "nbconvert_exporter": "python",
   "pygments_lexer": "ipython3",
   "version": "3.7.5"
  }
 },
 "nbformat": 4,
 "nbformat_minor": 4
}
