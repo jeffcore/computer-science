{
 "cells": [
  {
   "cell_type": "markdown",
   "metadata": {},
   "source": [
    "# Fast Slow Pointers"
   ]
  },
  {
   "cell_type": "markdown",
   "metadata": {},
   "source": [
    "The Fast & Slow pointer approach, also known as the Hare & Tortoise algorithm, is a pointer algorithm that uses two pointers which move through the array (or sequence/LinkedList) at different speeds. This approach is quite useful when dealing with cyclic LinkedLists or arrays\n",
    "\n",
    "By moving at different speeds (say, in a cyclic LinkedList), the algorithm proves that the two pointers are bound to meet. The fast pointer should catch the slow pointer once both the pointers are in a cyclic loop."
   ]
  },
  {
   "cell_type": "markdown",
   "metadata": {},
   "source": [
    "## Happy Number \n",
    "good for finding cycle and breaking up number"
   ]
  },
  {
   "cell_type": "code",
   "execution_count": 1,
   "metadata": {},
   "outputs": [
    {
     "name": "stdout",
     "output_type": "stream",
     "text": [
      "True\n",
      "False\n"
     ]
    }
   ],
   "source": [
    "def find_happy_number(num):\n",
    "    slow, fast = num, num\n",
    "    while True:\n",
    "        slow = find_square_sum(slow)  # move one step\n",
    "        fast = find_square_sum(find_square_sum(fast))  # move two steps\n",
    "        if slow == fast:  # found the cycle\n",
    "            break\n",
    "    return slow == 1  # see if the cycle is stuck on the number '1'\n",
    "\n",
    "def find_square_sum(num):\n",
    "    _sum = 0\n",
    "    while (num > 0):\n",
    "        digit = num % 10\n",
    "        _sum += digit * digit\n",
    "        num //= 10\n",
    "    return _sum\n",
    "\n",
    "def main():\n",
    "    print(find_happy_number(23))\n",
    "    print(find_happy_number(12))\n",
    "\n",
    "main()"
   ]
  },
  {
   "cell_type": "markdown",
   "metadata": {},
   "source": [
    "## Cycle in a Circular Array (hard) #\n",
    "We are given an array containing positive and negative numbers. Suppose the array contains a number ‘M’ at a particular index. Now, if ‘M’ is positive we will move forward ‘M’ indices and if ‘M’ is negative move backwards ‘M’ indices. You should assume that the array is circular which means two things:\n",
    "\n",
    "If, while moving forward, we reach the end of the array, we will jump to the first element to continue the movement.\n",
    "If, while moving backward, we reach the beginning of the array, we will jump to the last element to continue the movement.\n",
    "Write a method to determine if the array has a cycle. The cycle should have more than one element and should follow one direction which means the cycle should not contain both forward and backward movements.\n",
    "\n",
    "\n",
    "Input: [1, 2, -1, 2, 2]  \n",
    "Output: true  \n",
    "Explanation: The array has a cycle among indices: 0 -> 1 -> 3 -> 0\n",
    "\n",
    "Input: [2, 2, -1, 2]  \n",
    "Output: true  \n",
    "Explanation: The array has a cycle among indices: 1 -> 3 -> 1"
   ]
  },
  {
   "cell_type": "code",
   "execution_count": 4,
   "metadata": {},
   "outputs": [
    {
     "name": "stdout",
     "output_type": "stream",
     "text": [
      "True\n",
      "True\n",
      "False\n"
     ]
    }
   ],
   "source": [
    "def circular_array_loop_exists(arr):\n",
    "  for i in range(len(arr)):\n",
    "    is_forward = arr[i] >= 0  # if we are moving forward or not\n",
    "    slow, fast = i, i\n",
    "\n",
    "    # if slow or fast becomes '-1' this means we can't find cycle for this number\n",
    "    while True:\n",
    "      # move one step for slow pointer\n",
    "      slow = find_next_index(arr, is_forward, slow)\n",
    "      # move one step for fast pointer\n",
    "      fast = find_next_index(arr, is_forward, fast)\n",
    "      if (fast != -1):\n",
    "        # move another step for fast pointer\n",
    "        fast = find_next_index(arr, is_forward, fast)\n",
    "      if slow == -1 or fast == -1 or slow == fast:\n",
    "        break\n",
    "\n",
    "    if slow != -1 and slow == fast:\n",
    "      return True\n",
    "\n",
    "  return False\n",
    "\n",
    "\n",
    "def find_next_index(arr, is_forward, current_index):\n",
    "  direction = arr[current_index] >= 0\n",
    "\n",
    "  if is_forward != direction:\n",
    "    return -1  # change in direction, return -1\n",
    "\n",
    "  next_index = (current_index + arr[current_index]) % len(arr)\n",
    "\n",
    "  # one element cycle, return -1\n",
    "  if next_index == current_index:\n",
    "    next_index = -1\n",
    "\n",
    "  return next_index\n",
    "\n",
    "\n",
    "def main():\n",
    "  print(circular_array_loop_exists([1, 2, -1, 2, 2]))\n",
    "  print(circular_array_loop_exists([2, 2, -1, 2]))\n",
    "  print(circular_array_loop_exists([2, 1, -1, -2]))\n",
    "\n",
    "\n",
    "main()\n"
   ]
  },
  {
   "cell_type": "code",
   "execution_count": null,
   "metadata": {},
   "outputs": [],
   "source": []
  },
  {
   "cell_type": "markdown",
   "metadata": {},
   "source": [
    "# See Linked List Algorithms for More Fast Slow Pointers"
   ]
  },
  {
   "cell_type": "code",
   "execution_count": 5,
   "metadata": {},
   "outputs": [
    {
     "name": "stdout",
     "output_type": "stream",
     "text": [
      "LinkedList cycle length: 0\n",
      "LinkedList cycle length: 4\n",
      "LinkedList cycle length: 3\n"
     ]
    }
   ],
   "source": [
    "class Node:\n",
    "    def __init__(self, value, next=None):\n",
    "        self.value = value\n",
    "        self.next = next\n",
    "\n",
    "\n",
    "def find_cycle_length(head):\n",
    "    slow, fast = head, head\n",
    "    \n",
    "    while fast is not None and fast.next is not None:\n",
    "        slow = slow.next\n",
    "        fast = fast.next.next\n",
    "        if slow == fast:\n",
    "            return calculate_cycle_length(slow)\n",
    "    return 0 \n",
    "\n",
    "def calculate_cycle_length(slow):\n",
    "    start = slow\n",
    "    cycle_length = 1\n",
    "    while slow.next != start:\n",
    "        slow = slow.next        \n",
    "        cycle_length += 1\n",
    "        \n",
    "    return cycle_length    \n",
    "    \n",
    "def main():\n",
    "    head = Node(1)\n",
    "    head.next = Node(2)\n",
    "    head.next.next = Node(3)\n",
    "    head.next.next.next = Node(4)\n",
    "    head.next.next.next.next = Node(5)\n",
    "    head.next.next.next.next.next = Node(6)\n",
    "    print(\"LinkedList cycle length: \" + str(find_cycle_length(head)))\n",
    "    head.next.next.next.next.next.next = head.next.next\n",
    "    print(\"LinkedList cycle length: \" + str(find_cycle_length(head)))\n",
    "\n",
    "    head.next.next.next.next.next.next = head.next.next.next\n",
    "    print(\"LinkedList cycle length: \" + str(find_cycle_length(head)))\n",
    "\n",
    "\n",
    "main()"
   ]
  },
  {
   "cell_type": "code",
   "execution_count": null,
   "metadata": {},
   "outputs": [],
   "source": []
  }
 ],
 "metadata": {
  "kernelspec": {
   "display_name": "Python 3.7.5 64-bit ('p37': conda)",
   "language": "python",
   "name": "python37564bitp37conda2b1eeea87ee044609be89b011a3e6682"
  },
  "language_info": {
   "codemirror_mode": {
    "name": "ipython",
    "version": 3
   },
   "file_extension": ".py",
   "mimetype": "text/x-python",
   "name": "python",
   "nbconvert_exporter": "python",
   "pygments_lexer": "ipython3",
   "version": "3.7.5"
  }
 },
 "nbformat": 4,
 "nbformat_minor": 4
}
