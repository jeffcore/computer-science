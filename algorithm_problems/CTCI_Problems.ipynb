{
 "cells": [
  {
   "cell_type": "markdown",
   "metadata": {},
   "source": [
    "# Cracking the Coding Interview Problems"
   ]
  },
  {
   "cell_type": "code",
   "execution_count": 4,
   "metadata": {},
   "outputs": [
    {
     "name": "stdout",
     "output_type": "stream",
     "text": [
      "[5, 5, 4, 3, 2, 1]\n"
     ]
    }
   ],
   "source": [
    "# reverse a list\n",
    "l = [1,2,3,4,5,5]\n",
    "for i in range(len(l)//2):\n",
    "    l[i], l[len(l)-i-1] = l[len(l)-i-1], l[i]\n",
    "print(l)"
   ]
  },
  {
   "cell_type": "markdown",
   "metadata": {},
   "source": [
    "## Python Strings\n",
    "immutable...cant change them.... you can contactinate them but it recreates string every time"
   ]
  },
  {
   "cell_type": "code",
   "execution_count": 5,
   "metadata": {},
   "outputs": [
    {
     "name": "stdout",
     "output_type": "stream",
     "text": [
      "olleh\n",
      "olleh\n",
      "olleh\n",
      "olleh\n",
      "olleh\n",
      "olleh\n"
     ]
    }
   ],
   "source": [
    "# reverse a string\n",
    "\n",
    "\n",
    "# most popular non code way\n",
    "def reverse(s): \n",
    "    str = \"\" \n",
    "    for i in s: \n",
    "        str = i + str\n",
    "    return str\n",
    "\n",
    "def reverse_string(str):\n",
    "    return str[::-1]\n",
    "\n",
    "    \n",
    "def reverse_string2(str):\n",
    "    return ''.join(reversed(str))\n",
    "    \n",
    "def reverse_string3(our_string):\n",
    "    new_string = \"\"\n",
    "    for i in range(len(our_string)):\n",
    "        # Grab the charecter from the back of the string and add them to the new string\n",
    "        new_string += our_string[(len(our_string)-1)-i]\n",
    "\n",
    "    # Return our solution\n",
    "    return new_string\n",
    "\n",
    "# recursion\n",
    "def reverse_recursion(s):\n",
    "    if len(s) == 0:\n",
    "        return s\n",
    "    else:\n",
    "        return reverse_recursion(s[1:]) + s[0]\n",
    "\n",
    "def spin_words(sentence):\n",
    "    # Your code goes here\n",
    "    arr = list(sentence)\n",
    "    len_s = len(arr)\n",
    "    for i in range(0,len_s//2):\n",
    "        arr[i], arr[len_s-i-1] = arr[len_s-i-1], arr[i]\n",
    "    return ''.join(arr)\n",
    "\n",
    "\n",
    "# with stack\n",
    "def reverse_stack(sentence):\n",
    "    stack = []\n",
    "    \n",
    "    for char in sentence:\n",
    "        stack.insert(0, char)\n",
    "    \n",
    "    return ''.join(stack)\n",
    "\n",
    "\n",
    "\n",
    "print(reverse('hello'))\n",
    "print(reverse_string('hello'))\n",
    "print(reverse_string2('hello'))\n",
    "print(reverse_string3('hello'))\n",
    "print(reverse_recursion('hello'))\n",
    "print(reverse_stack('hello'))       \n",
    "\n"
   ]
  },
  {
   "cell_type": "code",
   "execution_count": 51,
   "metadata": {},
   "outputs": [],
   "source": [
    "# removing duplicates\n"
   ]
  },
  {
   "cell_type": "markdown",
   "metadata": {},
   "source": [
    "### is_unique"
   ]
  },
  {
   "cell_type": "code",
   "execution_count": 5,
   "metadata": {},
   "outputs": [
    {
     "name": "stdout",
     "output_type": "stream",
     "text": [
      "False\n",
      "True\n",
      "False\n",
      "True\n",
      "True\n"
     ]
    }
   ],
   "source": [
    "def is_unique(str):\n",
    "    char = {}\n",
    "    for s in str:\n",
    "        if s in char:\n",
    "            return False\n",
    "        else:\n",
    "            char[s] = 1\n",
    "    return True\n",
    "\n",
    "print(is_unique('hello'))\n",
    "print(is_unique('helo'))\n",
    "print(is_unique('shelodfyus'))\n",
    "print(is_unique('a'))\n",
    "print(is_unique('sS'))"
   ]
  },
  {
   "cell_type": "code",
   "execution_count": 10,
   "metadata": {},
   "outputs": [
    {
     "name": "stdout",
     "output_type": "stream",
     "text": [
      "False\n",
      "True\n",
      "False\n",
      "True\n",
      "True\n"
     ]
    }
   ],
   "source": [
    "def is_unique2(str):\n",
    "    count = 1\n",
    "    for s in str:              \n",
    "        if s in str[count:]:\n",
    "            return False\n",
    "        count += 1\n",
    "    return True\n",
    "print(is_unique2('hello'))\n",
    "print(is_unique2('helo'))\n",
    "print(is_unique2('shelodfyus'))\n",
    "print(is_unique2('a'))\n",
    "print(is_unique2('sS'))"
   ]
  },
  {
   "cell_type": "code",
   "execution_count": 32,
   "metadata": {},
   "outputs": [
    {
     "name": "stdout",
     "output_type": "stream",
     "text": [
      "False\n",
      "True\n",
      "False\n",
      "True\n",
      "True\n"
     ]
    }
   ],
   "source": [
    "def is_unique3(str):\n",
    "    count = 1\n",
    "    for i in range(0, len(str)-1):              \n",
    "        if str[i] in str[i+1:]:\n",
    "            return False        \n",
    "    return True\n",
    "print(is_unique3('hello'))\n",
    "print(is_unique3('helo'))\n",
    "print(is_unique3('shelodfyus'))\n",
    "print(is_unique3('a'))\n",
    "print(is_unique3('sS'))"
   ]
  },
  {
   "cell_type": "code",
   "execution_count": 34,
   "metadata": {},
   "outputs": [
    {
     "name": "stdout",
     "output_type": "stream",
     "text": [
      "False\n",
      "True\n",
      "False\n",
      "True\n",
      "True\n"
     ]
    }
   ],
   "source": [
    "def is_unique4(s):\n",
    "    return len(s) == len(set(s))\n",
    "\n",
    "print(is_unique4('hello'))\n",
    "print(is_unique4('helo'))\n",
    "print(is_unique4('shelodfyus'))\n",
    "print(is_unique4('a'))\n",
    "print(is_unique4('sS'))"
   ]
  },
  {
   "cell_type": "markdown",
   "metadata": {},
   "source": [
    "### Check if one string is a permutation of another"
   ]
  },
  {
   "cell_type": "code",
   "execution_count": 30,
   "metadata": {},
   "outputs": [
    {
     "name": "stdout",
     "output_type": "stream",
     "text": [
      "True\n",
      "False\n",
      "True\n",
      "False\n",
      "True\n",
      "False\n"
     ]
    }
   ],
   "source": [
    "# can strings be blank, case senstive, do spaces count\n",
    "# first idea is iterative\n",
    "# problem string are immutable to you can't make in place changes\n",
    "# one idea is to sort them and see fi they are equal\n",
    "# second idea is to make a set of first word, then remove from set from second word\n",
    "#     if set is empty they are a permutation\n",
    "#     problem is if there are multiples of the same letter\n",
    "# third idea is to use a dictionary where the value is the number of items\n",
    "def check_perm(string1, string2):\n",
    "    \n",
    "    s1 = list(string1)\n",
    "    s2 = list(string2)\n",
    "    \n",
    "    s1.sort()\n",
    "    s2.sort()\n",
    "   \n",
    "    if s1 == s2:\n",
    "        return True\n",
    "    else:\n",
    "        return False\n",
    "    \n",
    "print(check_perm('ada', 'daa'))\n",
    "print(check_perm('ada', 'd3ada'))  \n",
    "    \n",
    "\n",
    "def check_perm2(string1, string2):\n",
    "   \n",
    "    if sorted(string1) == sorted(string2):\n",
    "        return True\n",
    "    else:\n",
    "        return False\n",
    "    \n",
    "print(check_perm2('ada', 'daa'))\n",
    "print(check_perm2('ada', 'd3ada'))  \n",
    "    \n",
    "def check_perm3(string1, string2):   \n",
    "    string1 = string1.replace(' ', '')\n",
    "    string2 = string2.replace(' ', '')\n",
    "    \n",
    "    if len(string1) != len(string2):\n",
    "        return False\n",
    "    \n",
    "    for c in string1:\n",
    "        if c in string2:\n",
    "            string2 = string2.replace(c, '')\n",
    "    \n",
    "    return len(string2) == 0\n",
    "\n",
    "print(check_perm3('ada', 'daa'))\n",
    "print(check_perm3('ada', 'd3ada'))       \n",
    "    "
   ]
  },
  {
   "cell_type": "markdown",
   "metadata": {},
   "source": [
    "## Is Prime"
   ]
  },
  {
   "cell_type": "code",
   "execution_count": 41,
   "metadata": {},
   "outputs": [
    {
     "name": "stdout",
     "output_type": "stream",
     "text": [
      "False\n",
      " 2 3 5 7 11 13 17 19\n"
     ]
    }
   ],
   "source": [
    "def is_prime(n):\n",
    "    if (n <= 1):\n",
    "        return False\n",
    "    for i in range(2, n):\n",
    "        if n % i== 0:\n",
    "            return False\n",
    "    \n",
    "    return True\n",
    "\n",
    "\n",
    "print(is_prime(6))\n",
    "\n",
    "def find_primes(n):\n",
    "    result = ''\n",
    "    \n",
    "    for x in range(1, n + 1):\n",
    "        is_prime = True\n",
    "        if (x <= 1):\n",
    "            is_prime = False\n",
    "        for i in range(2, x):\n",
    "            if x % i== 0:\n",
    "                is_prime = False\n",
    "\n",
    "        if is_prime:\n",
    "            result += ' ' + str(x) \n",
    "            \n",
    "    print(result)\n",
    "\n",
    "    \n",
    "find_primes(20)"
   ]
  },
  {
   "cell_type": "markdown",
   "metadata": {},
   "source": [
    "## Combination unmergesort"
   ]
  },
  {
   "cell_type": "code",
   "execution_count": 42,
   "metadata": {},
   "outputs": [
    {
     "name": "stdout",
     "output_type": "stream",
     "text": [
      "true\n"
     ]
    },
    {
     "ename": "NameError",
     "evalue": "name 'words_looked' is not defined",
     "output_type": "error",
     "traceback": [
      "\u001b[0;31m---------------------------------------------------------------------------\u001b[0m",
      "\u001b[0;31mNameError\u001b[0m                                 Traceback (most recent call last)",
      "\u001b[0;32m<ipython-input-42-a7ad2de4a178>\u001b[0m in \u001b[0;36m<module>\u001b[0;34m()\u001b[0m\n\u001b[1;32m     10\u001b[0m \u001b[0mwords_visited\u001b[0m \u001b[0;34m=\u001b[0m \u001b[0mset\u001b[0m\u001b[0;34m(\u001b[0m\u001b[0;34m)\u001b[0m\u001b[0;34m\u001b[0m\u001b[0m\n\u001b[1;32m     11\u001b[0m \u001b[0;34m\u001b[0m\u001b[0m\n\u001b[0;32m---> 12\u001b[0;31m \u001b[0;32mif\u001b[0m \u001b[0;34m'cat'\u001b[0m \u001b[0;32mnot\u001b[0m \u001b[0;32min\u001b[0m \u001b[0mwords_looked\u001b[0m\u001b[0;34m:\u001b[0m\u001b[0;34m\u001b[0m\u001b[0m\n\u001b[0m\u001b[1;32m     13\u001b[0m     \u001b[0mprint\u001b[0m\u001b[0;34m(\u001b[0m\u001b[0;34m'true'\u001b[0m\u001b[0;34m)\u001b[0m\u001b[0;34m\u001b[0m\u001b[0m\n\u001b[1;32m     14\u001b[0m \u001b[0;34m\u001b[0m\u001b[0m\n",
      "\u001b[0;31mNameError\u001b[0m: name 'words_looked' is not defined"
     ]
    }
   ],
   "source": [
    "# Combination of words\n",
    "\n",
    "words = 'cdevataf'\n",
    "lex = set(['cat', 'deaf', 'at'])\n",
    "\n",
    "if 'cat' in lex:\n",
    "    print('true')\n",
    "\n",
    "words_found = set()\n",
    "words_visited = set()\n",
    "\n",
    "if 'cat' not in words_looked:\n",
    "    print('true')\n",
    "\n",
    "def find_words(words):\n",
    "\n",
    "    for i in range(0, len(words)):\n",
    "        new_word = ''\n",
    "        for j in range(0, len(words)):\n",
    "            if i != j:\n",
    "                new_word += words[j] \n",
    "        # print(new_word)        \n",
    "        if new_word in lex:\n",
    "            # print('found in lex')\n",
    "            if new_word not in words_found:\n",
    "                words_found.add(new_word)                \n",
    "                if len(new_word) > 1:\n",
    "                    if new_word in words_visited:\n",
    "                        return\n",
    "                    else:\n",
    "                        find_words(new_word)\n",
    "                else:\n",
    "                    return\n",
    "            else:\n",
    "                return\n",
    "        else:         \n",
    "            if new_word in words_visited:\n",
    "                print('in words visited')\n",
    "            else:\n",
    "                words_visited.add(new_word)\n",
    "                if len(new_word) > 1:\n",
    "                    find_words(new_word)\n",
    "                else:\n",
    "                    return\n",
    "                print('not in words visitied')\n",
    "           \n",
    "           \n",
    "        \n",
    "    return words_found \n",
    "        \n",
    "        \n",
    "print('cdevataf')       \n",
    "print(find_words(words))\n",
    "print(called)"
   ]
  },
  {
   "cell_type": "code",
   "execution_count": 66,
   "metadata": {},
   "outputs": [
    {
     "name": "stdout",
     "output_type": "stream",
     "text": [
      "75\n",
      "33\n",
      "40\n",
      "80\n",
      "\n"
     ]
    }
   ],
   "source": [
    "def gradingStudents(grades):\n",
    "    #\n",
    "    # Write your code here.\n",
    "    #\n",
    "    new_grades = ''\n",
    "    grade = ''\n",
    "    for i in range(len(grades)):        \n",
    "        grade = grades[i]\n",
    "        if grade > 37:\n",
    "            result = grade % 10           \n",
    "            if result in (3, 8):                \n",
    "                grade += 2\n",
    "            elif result in (4, 9):          \n",
    "                grade += 1\n",
    "          \n",
    "        new_grades += str(grade) + '\\n'\n",
    "        \n",
    "    return new_grades\n",
    "grade = [73, 33, 38, 78]\n",
    "print(gradingStudents(grade))\n"
   ]
  },
  {
   "cell_type": "code",
   "execution_count": null,
   "metadata": {},
   "outputs": [],
   "source": [
    "# count number of pairs in array\n",
    "def sockMerchant(n, ar):\n",
    "    pairs = {}\n",
    "    count = 0\n",
    "    \n",
    "    for a in ar:\n",
    "        if a in pairs:\n",
    "            count += 1\n",
    "            del pairs[a]\n",
    "        else:\n",
    "            pairs[a] = 1\n",
    "    \n",
    "    return count"
   ]
  },
  {
   "cell_type": "markdown",
   "metadata": {},
   "source": [
    "### Array Shift - Rotated array\n",
    "https://leetcode.com/articles/rotate-array/"
   ]
  },
  {
   "cell_type": "code",
   "execution_count": 73,
   "metadata": {},
   "outputs": [
    {
     "name": "stdout",
     "output_type": "stream",
     "text": [
      "[7, 1, 2, 3, 4, 5, 6]\n",
      "[6, 7, 1, 2, 3, 4, 5]\n",
      "[5, 6, 7, 1, 2, 3, 4]\n",
      "[4, 5, 6, 7, 1, 2, 3]\n"
     ]
    }
   ],
   "source": [
    "def rotLeft(a, d):\n",
    "    d %= len(a)\n",
    "    a = reverse(a, 0, len(a) - 1)\n",
    "    a = reverse(a, 0, d - 1)\n",
    "    a = reverse(a, d, len(a) - 1)\n",
    "    return a\n",
    "\n",
    "def reverse(a, start, end):\n",
    "    while start < end:\n",
    "        temp = a[start]\n",
    "        a[start] = a[end]\n",
    "        a[end] = temp\n",
    "        start += 1\n",
    "        end -= 1\n",
    "    return a\n",
    "    \n",
    "print(rotLeft([1,2,3,4,5,6,7], 1))\n",
    "print(rotLeft([1,2,3,4,5,6,7], 2))\n",
    "print(rotLeft([1,2,3,4,5,6,7], 3))\n",
    "print(rotLeft([1,2,3,4,5,6,7], 4))\n"
   ]
  },
  {
   "cell_type": "code",
   "execution_count": null,
   "metadata": {},
   "outputs": [],
   "source": [
    "\n",
    "def rotLeft_circular(a, d):   # did not finish  \n",
    "    if len(a) == 1 or d == len(a) or d % len(a) == 0 :\n",
    "        return a        \n",
    "\n",
    "    cur_pos = 0\n",
    "    temp = a[0]\n",
    "    for i in range(len(a)):        \n",
    "        \n",
    "        diff =  cur_pos - d\n",
    "        \n",
    "        if diff < 0: \n",
    "            diff = len(a)+diff                \n",
    "            \n",
    "        temp_temp = a[diff]                \n",
    "        cur_pos = diff\n",
    "        a[diff] = temp\n",
    "        temp = temp_temp  \n",
    "        \n",
    "    return a \n",
    "\n",
    "def rotLeft_array(a, d):    \n",
    "    if len(a) == 1 or d == len(a) or d % len(a) == 0 :\n",
    "        return a\n",
    "        \n",
    "    c = [0] * len(a)\n",
    "    \n",
    "    for i in range(0, len(a)):\n",
    "        if i - d < 0:            \n",
    "            c[len(a)+(i-d)] = a[i]    \n",
    "        else:\n",
    "            c[i-d] = a[i]\n",
    "            \n",
    "    return c   \n",
    "\n",
    "def rotLeft_brute(a, d):  \n",
    "    if len(a) == 1:\n",
    "        return a\n",
    "    for _ in range(d):\n",
    "        temp = a[0]\n",
    "        for i in range(1, len(a)):\n",
    "            a[i-1] = a[i]\n",
    "        a[len(a) - 1] = temp\n",
    "    return a\n",
    "\n"
   ]
  }
 ],
 "metadata": {
  "kernelspec": {
   "display_name": "Python 3",
   "language": "python",
   "name": "python3"
  },
  "language_info": {
   "codemirror_mode": {
    "name": "ipython",
    "version": 3
   },
   "file_extension": ".py",
   "mimetype": "text/x-python",
   "name": "python",
   "nbconvert_exporter": "python",
   "pygments_lexer": "ipython3",
   "version": "3.7.5"
  }
 },
 "nbformat": 4,
 "nbformat_minor": 4
}
