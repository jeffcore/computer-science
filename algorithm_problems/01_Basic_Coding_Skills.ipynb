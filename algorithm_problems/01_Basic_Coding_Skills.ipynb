{
 "cells": [
  {
   "cell_type": "markdown",
   "metadata": {},
   "source": [
    "# Basic Coding Skills\n",
    "https://wiki.python.org/moin/TimeComplexity"
   ]
  },
  {
   "cell_type": "markdown",
   "metadata": {},
   "source": [
    "## Naming Variables\n",
    "results = res  = result  \n",
    "dictionary = dic   lst\n",
    "arr  \n",
    "pointer = p1, p2, start, end, mid  \n",
    "max_sum, current_sum, window_sum , max_length  \n",
    "window_start, window_end  \n",
    "\n",
    "char_frequency \n"
   ]
  },
  {
   "cell_type": "markdown",
   "metadata": {},
   "source": [
    "## Comparisons\n",
    "\n",
    "### Array Iteration To Compare Technique"
   ]
  },
  {
   "cell_type": "code",
   "execution_count": 19,
   "metadata": {},
   "outputs": [
    {
     "name": "stdout",
     "output_type": "stream",
     "text": [
      "4 is greater than 2\n",
      "2 is not greater than 6\n",
      "6 is greater than 4\n"
     ]
    }
   ],
   "source": [
    "# compare current and next\n",
    "nums = [4,2,6,4]\n",
    "# iterate from index 0 - 2 \n",
    "for i in range(len(nums) - 1):\n",
    "    if nums[i] > nums[i+1]:\n",
    "        print(f'{nums[i]} is greater than {nums[i+1]}')\n",
    "    else:\n",
    "        print(f'{nums[i]} is not greater than {nums[i+1]}')\n",
    "    "
   ]
  },
  {
   "cell_type": "code",
   "execution_count": 21,
   "metadata": {},
   "outputs": [
    {
     "name": "stdout",
     "output_type": "stream",
     "text": [
      "4 is greater than 2\n",
      "2 is not greater than 6\n",
      "6 is greater than 4\n"
     ]
    }
   ],
   "source": [
    "# compare previous and current\n",
    "nums = [4,2,6,4]\n",
    "# iterate from index 1 - 3\n",
    "for i in range(1, len(nums)): \n",
    "    if nums[i-1] > nums[i]:\n",
    "        print(f'{nums[i-1]} is greater than {nums[i]}')\n",
    "    else:\n",
    "        print(f'{nums[i-1]} is not greater than {nums[i]}')"
   ]
  },
  {
   "cell_type": "markdown",
   "metadata": {},
   "source": [
    "### brute force compare all values in  a single array compariason left to right"
   ]
  },
  {
   "cell_type": "code",
   "execution_count": null,
   "metadata": {},
   "outputs": [],
   "source": [
    "# brute force compare all values in  a single array\n",
    "# comparison left to right\n",
    "print('brute force compare all values in  a single array')\n",
    "for i in range(len(arr)):\n",
    "    for j in range(i + 1, len(arr)):\n",
    "        print('{} and {}'.format(arr[i], arr[j]))       "
   ]
  },
  {
   "cell_type": "markdown",
   "metadata": {},
   "source": [
    "### brute force compare all values all directions"
   ]
  },
  {
   "cell_type": "code",
   "execution_count": 30,
   "metadata": {},
   "outputs": [
    {
     "name": "stdout",
     "output_type": "stream",
     "text": [
      "brute force compare all values in  a single array\n",
      "0 and 0\n",
      "0 and 1\n",
      "0 and 2\n",
      "0 and 3\n",
      "0 and 4\n",
      "0 and 5\n",
      "0 and 6\n",
      "1 and 0\n",
      "1 and 1\n",
      "1 and 2\n",
      "1 and 3\n",
      "1 and 4\n",
      "1 and 5\n",
      "1 and 6\n",
      "2 and 0\n",
      "2 and 1\n",
      "2 and 2\n",
      "2 and 3\n",
      "2 and 4\n",
      "2 and 5\n",
      "2 and 6\n",
      "3 and 0\n",
      "3 and 1\n",
      "3 and 2\n",
      "3 and 3\n",
      "3 and 4\n",
      "3 and 5\n",
      "3 and 6\n",
      "4 and 0\n",
      "4 and 1\n",
      "4 and 2\n",
      "4 and 3\n",
      "4 and 4\n",
      "4 and 5\n",
      "4 and 6\n",
      "5 and 0\n",
      "5 and 1\n",
      "5 and 2\n",
      "5 and 3\n",
      "5 and 4\n",
      "5 and 5\n",
      "5 and 6\n",
      "6 and 0\n",
      "6 and 1\n",
      "6 and 2\n",
      "6 and 3\n",
      "6 and 4\n",
      "6 and 5\n",
      "6 and 6\n"
     ]
    }
   ],
   "source": [
    "print('brute force compare all values in  a single array')\n",
    "for i in range(len(arr)):\n",
    "    for j in range(len(arr)):\n",
    "        print('{} and {}'.format(arr[i], arr[j]))    "
   ]
  },
  {
   "cell_type": "markdown",
   "metadata": {},
   "source": [
    "### brute force compare all values all directions except same elements"
   ]
  },
  {
   "cell_type": "code",
   "execution_count": 31,
   "metadata": {},
   "outputs": [
    {
     "name": "stdout",
     "output_type": "stream",
     "text": [
      "brute force compare all values in  a single array\n",
      "0 and 1\n",
      "0 and 2\n",
      "0 and 3\n",
      "0 and 4\n",
      "0 and 5\n",
      "0 and 6\n",
      "1 and 0\n",
      "1 and 2\n",
      "1 and 3\n",
      "1 and 4\n",
      "1 and 5\n",
      "1 and 6\n",
      "2 and 0\n",
      "2 and 1\n",
      "2 and 3\n",
      "2 and 4\n",
      "2 and 5\n",
      "2 and 6\n",
      "3 and 0\n",
      "3 and 1\n",
      "3 and 2\n",
      "3 and 4\n",
      "3 and 5\n",
      "3 and 6\n",
      "4 and 0\n",
      "4 and 1\n",
      "4 and 2\n",
      "4 and 3\n",
      "4 and 5\n",
      "4 and 6\n",
      "5 and 0\n",
      "5 and 1\n",
      "5 and 2\n",
      "5 and 3\n",
      "5 and 4\n",
      "5 and 6\n",
      "6 and 0\n",
      "6 and 1\n",
      "6 and 2\n",
      "6 and 3\n",
      "6 and 4\n",
      "6 and 5\n"
     ]
    }
   ],
   "source": [
    "print('brute force compare all values in  a single array')\n",
    "for i in range(len(arr)):\n",
    "    for j in range(len(arr)):\n",
    "        if i != j:\n",
    "            print('{} and {}'.format(arr[i], arr[j]))    "
   ]
  },
  {
   "cell_type": "markdown",
   "metadata": {},
   "source": [
    "### Get index number of diagonal - difficult to explain"
   ]
  },
  {
   "cell_type": "code",
   "execution_count": 22,
   "metadata": {},
   "outputs": [
    {
     "name": "stdout",
     "output_type": "stream",
     "text": [
      "False\n",
      "True\n"
     ]
    }
   ],
   "source": [
    "#you have an array that represents \n",
    "# rows index 1-n\n",
    "# col the number\n",
    "\n",
    "# you want to see if any preceding element from an index are a diagonal\n",
    "# or you just want to see if the \n",
    "def check_diagonal(arr, col):\n",
    "    for i in range(col):\n",
    "        if arr[i] == i:\n",
    "            return True\n",
    "    return False\n",
    "\n",
    "arr = [2,5,4,3,2,5]\n",
    "print(check_diagonal(arr,3))\n",
    "\n",
    "arr = [0,5,4,3,2,5]\n",
    "print(check_diagonal(arr,3))\n"
   ]
  },
  {
   "cell_type": "markdown",
   "metadata": {},
   "source": [
    "## Looping k number of times\n",
    "Looping is the foundation of just about every algorithm. \n",
    "\n",
    "Questions to ask when coding a loop:\n",
    "1. what is the start number of loop : 0 or 1\n",
    "2. what am i looping through: is it array index position looping, or is it looping k number of times\n",
    "3. where do I terminate: at or before loop number k times\n",
    "4. context of question: are the numbers sorted, sorted in complete increasing sequence, random"
   ]
  },
  {
   "cell_type": "code",
   "execution_count": 23,
   "metadata": {},
   "outputs": [
    {
     "name": "stdout",
     "output_type": "stream",
     "text": [
      "Loop k times start with 0 \n",
      "0 1  \n",
      "0 1  \n",
      "Loop k times start with 1 \n",
      "1 2  \n",
      "1 2  \n",
      "Loop to index k starting with 0 \n",
      "0 1 2 3  \n",
      "0 1 2 3  \n",
      "Loop to index k array starts at 1 \n",
      "1 2 3  \n",
      "1 2 3 "
     ]
    }
   ],
   "source": [
    "###### Loop k times  start with 0\n",
    "# i = 0   end  is always k - 1  \n",
    "print('Loop k times start with 0 ')\n",
    "k = 2   \n",
    "for i in range(k):\n",
    "    print(i, end = ' ')\n",
    "print(' ')\n",
    "i = 0\n",
    "\n",
    "while i < k:\n",
    "    print(i, end = ' ')\n",
    "    i+= 1\n",
    "print(' ')\n",
    "print('Loop k times start with 1 ')\n",
    "\n",
    "# Loop k times start with 1\n",
    "# i = 1 end is always k   \n",
    "k = 2\n",
    "for i in range(1, k + 1):\n",
    "    print(i, end = ' ')\n",
    "# >> 1, 2\n",
    "\n",
    "print(' ')\n",
    "i = 1\n",
    "while i < k + 1:\n",
    "    print(i, end = ' ')\n",
    "    i += 1\n",
    "\n",
    "    \n",
    "# Loop to k starting with 0\n",
    "print(' ')\n",
    "print('Loop to index k starting with 0 ')\n",
    "k = 3\n",
    "for i in range( k+1):\n",
    "    print(i, end = ' ')\n",
    "# >> 0, 1, 2, 3\n",
    "\n",
    "print(' ')\n",
    "i = 0 \n",
    "while i <= k:\n",
    "    print(i, end = ' ')\n",
    "    i+= 1\n",
    "\n",
    "\n",
    "# Loop to K start with 1\n",
    "print(' ')\n",
    "print('Loop to index k array starts at 1 ')\n",
    "k = 3\n",
    "for i in range(1, k+1):\n",
    "    print(i, end = ' ')\n",
    "# >> 1, 2, 3\n",
    "\n",
    "print(' ')\n",
    "i = 1\n",
    "while i <= k:\n",
    "    print(i, end = ' ')\n",
    "    i += 1"
   ]
  },
  {
   "cell_type": "markdown",
   "metadata": {},
   "source": [
    "## Loop through 1d arrays\n",
    "    "
   ]
  },
  {
   "cell_type": "code",
   "execution_count": 32,
   "metadata": {},
   "outputs": [
    {
     "name": "stdout",
     "output_type": "stream",
     "text": [
      "Loop through an array left to right\n",
      "0 1 2 3 4 5 6  \n",
      "0 1 2 3 4 5 6  \n",
      "Loop through an array backwards\n",
      "6 5 4 3 2 1 0  \n",
      "6 5 4 3 2 1 0  \n",
      "loop through array every 2 forward\n",
      "0 2 4 6  \n",
      "0 2 4 6  \n",
      "loop through array every 2 backwards\n",
      "6 4 2 0  \n",
      "6 4 2 0  \n",
      "loop through first half of array\n",
      "0 1 2  \n",
      "0 1 2  \n"
     ]
    }
   ],
   "source": [
    "arr = [0, 1, 2, 3, 4, 5, 6]\n",
    "\n",
    "# Loop through an array left to right\n",
    "print('Loop through an array left to right')\n",
    "for a in arr:\n",
    "    print(a, end = ' ')\n",
    "\n",
    "print(' ')\n",
    "    \n",
    "for i in range(len(arr)):\n",
    "    print(arr[i], end = ' ')\n",
    "\n",
    "print(' ')\n",
    "\n",
    "# Loop through an array backwards\n",
    "print('Loop through an array backwards')\n",
    "for a in arr[::-1]:\n",
    "    print(a, end = ' ')\n",
    "\n",
    "print(' ')\n",
    "    \n",
    "for i in range(len(arr)-1, -1, -1):\n",
    "    print(arr[i], end = ' ')\n",
    "\n",
    "print(' ')\n",
    "\n",
    "# loop through array every 2 forward\n",
    "print('loop through array every 2 forward')\n",
    "for a in arr[::2]:\n",
    "    print(a, end = ' ')\n",
    "\n",
    "print(' ')\n",
    "\n",
    "for i in range(0, len(arr), 2):\n",
    "    print(arr[i], end = ' ')\n",
    "\n",
    "print(' ')\n",
    "\n",
    "# loop through array every 2 backwards\n",
    "print('loop through array every 2 backwards')\n",
    "for a in arr[::-2]:\n",
    "     print(a, end = ' ')\n",
    "\n",
    "print(' ')\n",
    "\n",
    "for i in range(len(arr) - 1, -1, -2):\n",
    "     print(arr[i], end = ' ')\n",
    "\n",
    "print(' ')\n",
    "\n",
    "# loop through first half of array\n",
    "print('loop through first half of array')\n",
    "for a in arr[0:len(arr)//2]:\n",
    "    print(a, end = ' ')\n",
    "print(' ')   \n",
    "for i in range(0, len(arr)//2):\n",
    "    print(arr[i], end=' ')\n",
    "    \n",
    "print(' ') \n"
   ]
  },
  {
   "cell_type": "markdown",
   "metadata": {},
   "source": [
    "## Loop through multi dimensional n x n "
   ]
  },
  {
   "cell_type": "code",
   "execution_count": 33,
   "metadata": {},
   "outputs": [
    {
     "name": "stdout",
     "output_type": "stream",
     "text": [
      "print entire array\n",
      "0 1 2 3 4  \n",
      "0 1 2 3 4  \n",
      "0 1 2 3 4  \n",
      "0 1 2 3 4  \n",
      "0 1 2 3 4  \n",
      " \n",
      " diagonal l -> r\n",
      "0 1 2 3 4 \n",
      " diagonal r -> l\n",
      "4 3 2 1 0  \n",
      "adding left and right diagoinals \n",
      "10\n",
      "0\n",
      "0\n"
     ]
    }
   ],
   "source": [
    "arr = [[0,1,2,3,4],\n",
    "      [0,1,2,3,4],\n",
    "      [0,1,2,3,4],\n",
    "      [0,1,2,3,4],\n",
    "      [0,1,2,3,4]]\n",
    "\n",
    "# print entire array\n",
    "print('print entire array')\n",
    "for i in range(len(arr)):\n",
    "    for k in range(len(arr[0])):\n",
    "        print(arr[i][k], end = ' ')        \n",
    "    print(' ')\n",
    "\n",
    "print(' ')\n",
    "\n",
    "# diagonal l -> r\n",
    "print(' diagonal l -> r')\n",
    "for i in range(0, len(arr[0])): \n",
    "    print(arr[i][i], end= ' ')       \n",
    "    \n",
    "print('')\n",
    "\n",
    "# diagonal r -> l\n",
    "print(' diagonal r -> l')\n",
    "for i in range(0, len(arr[0])):  \n",
    "    print(arr[i][len(arr[0]) -1 - i], end=' ')   \n",
    "    \n",
    "print(' ') \n",
    "    \n",
    "# adding left and right diagoinals\n",
    "print('adding left and right diagoinals ')\n",
    "leftD = 0\n",
    "rightD = 0\n",
    "curInput = 0\n",
    "for j in range(0, len(arr[0])): \n",
    "    for k in range(0, len(arr[0])):         \n",
    "        curInput = arr[j][k]\n",
    "        if j == k:\n",
    "            leftD += curInput\n",
    "        # always equals the len of matrix\n",
    "        if j+k == (len(arr[0])-1):\n",
    "            rightD += curInput\n",
    "print(leftD)    \n",
    "print(abs(leftD-rightD))\n",
    "\n",
    "#or \n",
    "\n",
    "l = 0\n",
    "r = 0\n",
    "diff = 0\n",
    "\n",
    "for i in range(0, len(arr[0])):     \n",
    "    l += arr[i][i]\n",
    "\n",
    "for i in range(0, len(arr[0])):      \n",
    "    r += arr[i][len(arr[0]) -1 - i]\n",
    "\n",
    "print(abs(l-r))"
   ]
  },
  {
   "cell_type": "markdown",
   "metadata": {},
   "source": [
    "## Iterate through array replacing element in each position"
   ]
  },
  {
   "cell_type": "code",
   "execution_count": 4,
   "metadata": {},
   "outputs": [
    {
     "name": "stdout",
     "output_type": "stream",
     "text": [
      "[[6, 1, 2, 3, 4, 5], [1, 6, 2, 3, 4, 5], [1, 2, 6, 3, 4, 5], [1, 2, 3, 6, 4, 5], [1, 2, 3, 4, 6, 5], [1, 2, 3, 4, 5, 6]]\n"
     ]
    }
   ],
   "source": [
    "import copy\n",
    "arr = [1,2,3,4,5]\n",
    "element = 6\n",
    "perm = []\n",
    "for j in range(0, len(arr) + 1):\n",
    "    r = copy.deepcopy(arr)\n",
    "    r.insert(j, element)\n",
    "    perm.append(r)  \n",
    "    \n",
    "print(perm)"
   ]
  },
  {
   "cell_type": "markdown",
   "metadata": {},
   "source": [
    "###  replacing element in each position "
   ]
  },
  {
   "cell_type": "code",
   "execution_count": 40,
   "metadata": {},
   "outputs": [
    {
     "name": "stdout",
     "output_type": "stream",
     "text": [
      "['dello', 'hdllo', 'hedlo', 'heldo', 'helld']\n"
     ]
    }
   ],
   "source": [
    "# String Version\n",
    "\n",
    "permutation = 'hello'\n",
    "current_char = 'd'\n",
    "output = []\n",
    "for index in range(0, len(permutation)):            \n",
    "    new_permutation = permutation[0: index] + current_char + permutation[index+1:]    \n",
    "    output.append(new_permutation)\n",
    "\n",
    "print(output)"
   ]
  },
  {
   "cell_type": "markdown",
   "metadata": {},
   "source": [
    "###  replacing element in each position including before and after"
   ]
  },
  {
   "cell_type": "code",
   "execution_count": 38,
   "metadata": {},
   "outputs": [
    {
     "name": "stdout",
     "output_type": "stream",
     "text": [
      "['dhello', 'hdello', 'hedllo', 'heldlo', 'helldo', 'hellod']\n"
     ]
    }
   ],
   "source": [
    "# String Version\n",
    "\n",
    "permutation = 'hello'\n",
    "current_char = 'd'\n",
    "output = []\n",
    "for index in range(0, len(permutation) + 1):            \n",
    "    new_permutation = permutation[0: index] + current_char + permutation[index:]    \n",
    "    output.append(new_permutation)\n",
    "\n",
    "print(output)"
   ]
  },
  {
   "cell_type": "markdown",
   "metadata": {},
   "source": [
    "## fib iteration#"
   ]
  },
  {
   "cell_type": "code",
   "execution_count": null,
   "metadata": {},
   "outputs": [],
   "source": [
    "def fib(n):\n",
    "    fib1 = 0\n",
    "    fib2= 1\n",
    "    \n",
    "    for i in range(n):\n",
    "        temp = fib1 + fib2\n",
    "        fib2 = fib1\n",
    "        fib1 = temp\n",
    "    \n",
    "    return temp\n",
    "\n",
    "print(fib(7))\n",
    "        "
   ]
  },
  {
   "cell_type": "markdown",
   "metadata": {},
   "source": [
    "## Conditional  Techniques"
   ]
  },
  {
   "cell_type": "markdown",
   "metadata": {},
   "source": [
    "### short circuiting\n",
    "\n",
    "to prevent error: check for condition first that would prevent second condition from crashing\n",
    "* while len(stack) != 0 and nums[stack[-1]] > nums[i]\n",
    "    *second conditional could crash it\n",
    "* using conditionals to short circuit program or loop\n",
    "    * to end program\n",
    "    * or kill loop\n",
    "    * to get to a last case \n",
    "* problems\n",
    "    * used in array, linked list, other DS problems \n",
    "    * 66. Plus One  - \n",
    "\n"
   ]
  },
  {
   "cell_type": "code",
   "execution_count": 40,
   "metadata": {},
   "outputs": [
    {
     "name": "stdout",
     "output_type": "stream",
     "text": [
      "yes\n"
     ]
    }
   ],
   "source": [
    "# second part of condition would error out if  nums is empty \n",
    "stack = [5]    \n",
    "i = 0    \n",
    "x = 4\n",
    "while len(stack) > 0 and stack[i] > x:\n",
    "    print('yes')\n",
    "    stack.pop()\n",
    "    i += 1           "
   ]
  },
  {
   "cell_type": "code",
   "execution_count": 68,
   "metadata": {},
   "outputs": [
    {
     "name": "stdout",
     "output_type": "stream",
     "text": [
      "1\n",
      "3\n",
      "4\n",
      "5\n",
      "6\n",
      "7\n"
     ]
    }
   ],
   "source": [
    "arr = [1,3,4,5,5,6,7]\n",
    "for i in range(len(arr)):\n",
    "    if i > 0 and arr[i] == arr[i-1]:  #short circuit to avoid out of index error and\n",
    "        # skip same element to avoid duplicate triplets\n",
    "        continue\n",
    "    print(arr[i])"
   ]
  },
  {
   "cell_type": "code",
   "execution_count": 10,
   "metadata": {},
   "outputs": [
    {
     "ename": "NameError",
     "evalue": "name 't' is not defined",
     "output_type": "error",
     "traceback": [
      "\u001b[0;31m---------------------------------------------------------------------------\u001b[0m",
      "\u001b[0;31mNameError\u001b[0m                                 Traceback (most recent call last)",
      "\u001b[0;32m<ipython-input-10-f2d6ecb70b0e>\u001b[0m in \u001b[0;36m<module>\u001b[0;34m\u001b[0m\n\u001b[1;32m      1\u001b[0m \u001b[0;31m# two nots\u001b[0m\u001b[0;34m\u001b[0m\u001b[0;34m\u001b[0m\u001b[0;34m\u001b[0m\u001b[0m\n\u001b[0;32m----> 2\u001b[0;31m \u001b[0;32mif\u001b[0m \u001b[0mt\u001b[0m \u001b[0;34m!=\u001b[0m \u001b[0;34m'0'\u001b[0m \u001b[0;32mor\u001b[0m \u001b[0mi\u001b[0m \u001b[0;34m!=\u001b[0m \u001b[0;36m1\u001b[0m\u001b[0;34m:\u001b[0m\u001b[0;34m\u001b[0m\u001b[0;34m\u001b[0m\u001b[0m\n\u001b[0m\u001b[1;32m      3\u001b[0m     \u001b[0mcard\u001b[0m \u001b[0;34m=\u001b[0m \u001b[0;34m(\u001b[0m\u001b[0mcolor\u001b[0m\u001b[0;34m,\u001b[0m \u001b[0mt\u001b[0m\u001b[0;34m)\u001b[0m\u001b[0;34m\u001b[0m\u001b[0;34m\u001b[0m\u001b[0m\n\u001b[1;32m      4\u001b[0m     \u001b[0mdeck\u001b[0m\u001b[0;34m.\u001b[0m\u001b[0mappend\u001b[0m\u001b[0;34m(\u001b[0m\u001b[0mcard\u001b[0m\u001b[0;34m)\u001b[0m\u001b[0;34m\u001b[0m\u001b[0;34m\u001b[0m\u001b[0m\n",
      "\u001b[0;31mNameError\u001b[0m: name 't' is not defined"
     ]
    }
   ],
   "source": [
    "# two nots\n",
    "if t != '0' or i != 1:\n",
    "    card = (color, t)\n",
    "    deck.append(card)"
   ]
  },
  {
   "cell_type": "markdown",
   "metadata": {},
   "source": [
    "## Skip Duplicate element in Sorted Array"
   ]
  },
  {
   "cell_type": "code",
   "execution_count": null,
   "metadata": {},
   "outputs": [],
   "source": [
    "arr = [1,3,4,5,5,6,7]\n",
    "while(left < right):\n",
    "    while left < right and arr[left] == arr[left - 1]:\n",
    "        left += 1  # skip same element to avoid duplicate triplets\n",
    "    while left < right and arr[right] == arr[right + 1]:\n",
    "        right -= 1  # skip same element to avoid duplicate triplets\n",
    "    "
   ]
  },
  {
   "cell_type": "code",
   "execution_count": null,
   "metadata": {},
   "outputs": [],
   "source": []
  },
  {
   "cell_type": "markdown",
   "metadata": {},
   "source": [
    "## Sorting List and Dictionary\n",
    "There are many algoithms where sorting the array first improves big oh\n",
    "\n",
    "sorted() function is that the sort() function will modify the list it is called on. The sorted() function will create a new list containing a sorted version of the list it is given. The sorted() function will not modify the list passed as a parameter\n",
    "\n"
   ]
  },
  {
   "cell_type": "code",
   "execution_count": 60,
   "metadata": {},
   "outputs": [
    {
     "name": "stdout",
     "output_type": "stream",
     "text": [
      "[2, 3, 3, 5, 7, 54]\n",
      "[54, 7, 5, 3, 3, 2]\n"
     ]
    }
   ],
   "source": [
    "# USING arr.sort()\n",
    "arr = [3,5,7,3,2,54]\n",
    "# sorts original array\n",
    "arr.sort()\n",
    "print(arr)\n",
    "arr.sort(reverse=True)\n",
    "print(arr)"
   ]
  },
  {
   "cell_type": "code",
   "execution_count": 59,
   "metadata": {},
   "outputs": [
    {
     "name": "stdout",
     "output_type": "stream",
     "text": [
      "[2, 3, 3, 5, 7, 54]\n",
      "[54, 7, 5, 3, 3, 2]\n"
     ]
    }
   ],
   "source": [
    "# using sorted()\n",
    "arr = [3,5,7,3,2,54]\n",
    "# sorts original array\n",
    "arr2 = sorted(arr)\n",
    "print(arr2)\n",
    "arr2 = sorted(arr, reverse=True)\n",
    "print(arr2)"
   ]
  },
  {
   "cell_type": "code",
   "execution_count": 58,
   "metadata": {},
   "outputs": [
    {
     "name": "stdout",
     "output_type": "stream",
     "text": [
      "[1, 4, 6, 9]\n",
      "(1, 4) (4, 3) (6, 2) (9, 2) "
     ]
    }
   ],
   "source": [
    "# sort dic by keys\n",
    "dic = {1:4, 4:3, 6:2, 9:2}\n",
    "\n",
    "dic_sorted = sorted(dic.keys())\n",
    "print(dic_sorted)\n",
    "\n",
    "for i in sorted (dic) : \n",
    "    print ((i, dic[i]), end =\" \") "
   ]
  },
  {
   "cell_type": "code",
   "execution_count": 63,
   "metadata": {},
   "outputs": [
    {
     "name": "stdout",
     "output_type": "stream",
     "text": [
      "The list printed sorting by age: \n",
      "[{'name': 'Nikhil', 'age': 19}, {'name': 'Nandini', 'age': 20}, {'name': 'Manjeet', 'age': 20}]\n",
      "[{'name': 'Manjeet', 'age': 20}, {'name': 'Nandini', 'age': 20}, {'name': 'Nikhil', 'age': 19}]\n"
     ]
    }
   ],
   "source": [
    "# Sort array of dictionaries\n",
    "lis = [{ \"name\" : \"Nandini\", \"age\" : 20},  \n",
    "{ \"name\" : \"Manjeet\", \"age\" : 20 }, \n",
    "{ \"name\" : \"Nikhil\" , \"age\" : 19 }] \n",
    "print(\"The list printed sorting by age: \")\n",
    "print(sorted(lis, key = lambda i: i['age']))\n",
    "print(sorted(lis, key = lambda i: i['name']))"
   ]
  },
  {
   "cell_type": "code",
   "execution_count": 57,
   "metadata": {},
   "outputs": [
    {
     "name": "stdout",
     "output_type": "stream",
     "text": [
      "[[1, 2], [3, 5], [6, 2]]\n"
     ]
    }
   ],
   "source": [
    "# sort 2d array\n",
    "arr = [[1,2], [3,5], [6,2]]\n",
    "\n",
    "arr.sort(key=lambda x: x[0])\n",
    "print(arr)"
   ]
  },
  {
   "cell_type": "code",
   "execution_count": null,
   "metadata": {},
   "outputs": [],
   "source": [
    "# sort an object , this code does not work\n",
    "intervals.sort(key=lambda x: x.start)"
   ]
  },
  {
   "cell_type": "markdown",
   "metadata": {},
   "source": [
    "#### Sorting slice of list"
   ]
  },
  {
   "cell_type": "code",
   "execution_count": 67,
   "metadata": {},
   "outputs": [
    {
     "name": "stdout",
     "output_type": "stream",
     "text": [
      "[1, 2, 4, 3, 5]\n"
     ]
    }
   ],
   "source": [
    "a = [1,2,3,4,5]\n",
    "a[2:4] = reversed(a[2:4])  # This works!\n",
    "print(a)"
   ]
  },
  {
   "cell_type": "code",
   "execution_count": null,
   "metadata": {},
   "outputs": [],
   "source": []
  }
 ],
 "metadata": {
  "kernelspec": {
   "display_name": "Python 3",
   "language": "python",
   "name": "python3"
  },
  "language_info": {
   "codemirror_mode": {
    "name": "ipython",
    "version": 3
   },
   "file_extension": ".py",
   "mimetype": "text/x-python",
   "name": "python",
   "nbconvert_exporter": "python",
   "pygments_lexer": "ipython3",
   "version": "3.7.5"
  }
 },
 "nbformat": 4,
 "nbformat_minor": 4
}
