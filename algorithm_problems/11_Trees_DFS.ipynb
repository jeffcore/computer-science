{
 "cells": [
  {
   "cell_type": "markdown",
   "metadata": {},
   "source": [
    "# Trees\n",
    "SEE TREE DATA STRUCTURES NOTEBOOK FOR IMPLEMENTATIONS"
   ]
  },
  {
   "cell_type": "code",
   "execution_count": 49,
   "metadata": {},
   "outputs": [],
   "source": [
    "class TreeNode:\n",
    "    def __init__(self, val, left=None, right=None):\n",
    "        self.val = val\n",
    "        self.left = left\n",
    "        self.right = right"
   ]
  },
  {
   "cell_type": "markdown",
   "metadata": {},
   "source": [
    "# DFS - Depth First Search\n",
    "We will be using recursion (or we can also use a stack for the iterative approach) to keep track of all the previous (parent) nodes while traversing. This also means that the space complexity of the algorithm will be O(H)O(H), where ‘H’ is the maximum height of the tree."
   ]
  },
  {
   "cell_type": "markdown",
   "metadata": {},
   "source": [
    "### Binary Tree Path Sum (easy)\n",
    "Given a binary tree and a number ‘S’, find if the tree has a path from root-to-leaf such that the sum of all the node values of that path equals ‘S’."
   ]
  },
  {
   "cell_type": "code",
   "execution_count": 50,
   "metadata": {},
   "outputs": [
    {
     "name": "stdout",
     "output_type": "stream",
     "text": [
      "Tree has path: None\n",
      "Tree has path: None\n"
     ]
    }
   ],
   "source": [
    "def has_path(root, sum):    \n",
    "   \n",
    "    pass\n",
    "\n",
    "root = TreeNode(12)\n",
    "root.left = TreeNode(7)\n",
    "root.right = TreeNode(1)\n",
    "root.left.left = TreeNode(9)\n",
    "root.right.left = TreeNode(10)\n",
    "root.right.right = TreeNode(5)\n",
    "print(\"Tree has path: \" + str(has_path(root, 23)))\n",
    "print(\"Tree has path: \" + str(has_path(root, 16)))"
   ]
  },
  {
   "cell_type": "code",
   "execution_count": 51,
   "metadata": {},
   "outputs": [
    {
     "name": "stdout",
     "output_type": "stream",
     "text": [
      "Tree has path: True\n",
      "Tree has path: False\n"
     ]
    }
   ],
   "source": [
    "def has_path(root, num_sum):    \n",
    "    if root is None:\n",
    "        return False\n",
    "\n",
    "    # if the current node is a leaf and its value is equal to the sum, we've found a path\n",
    "    if root.val == num_sum and root.left is None and root.right is None:\n",
    "        return True\n",
    "\n",
    "    # recursively call to traverse the left and right sub-tree\n",
    "    # return true if any of the two recursive call return true\n",
    "    return has_path(root.left, num_sum - root.val) or has_path(root.right, num_sum - root.val)\n",
    "\n",
    "root = TreeNode(12)\n",
    "root.left = TreeNode(7)\n",
    "root.right = TreeNode(1)\n",
    "root.left.left = TreeNode(9)\n",
    "root.right.left = TreeNode(10)\n",
    "root.right.right = TreeNode(5)\n",
    "print(\"Tree has path: \" + str(has_path(root, 23)))\n",
    "print(\"Tree has path: \" + str(has_path(root, 16)))"
   ]
  },
  {
   "cell_type": "markdown",
   "metadata": {},
   "source": [
    "## All Paths for a Sum (medium)\n",
    "Given a binary tree and a number ‘S’, find all paths from root-to-leaf such that the sum of all the node values of each path equals ‘S’.\n",
    "<img src=\"../images/tree_dfs1.png\" width=40%>"
   ]
  },
  {
   "cell_type": "code",
   "execution_count": 52,
   "metadata": {},
   "outputs": [
    {
     "name": "stdout",
     "output_type": "stream",
     "text": [
      "Tree paths with sum 23: []\n"
     ]
    }
   ],
   "source": [
    "def find_paths(root, sum):\n",
    "    allPaths = []\n",
    "    \n",
    "    \n",
    "\n",
    "\n",
    "\n",
    "\n",
    "    return allPaths\n",
    "\n",
    "\n",
    "root = TreeNode(12)\n",
    "root.left = TreeNode(7)\n",
    "root.right = TreeNode(1)\n",
    "root.left.left = TreeNode(4)\n",
    "root.right.left = TreeNode(10)\n",
    "root.right.right = TreeNode(5)\n",
    "sum = 23\n",
    "print(\"Tree paths with sum \" + str(sum) +\n",
    "    \": \" + str(find_paths(root, sum)))\n",
    "\n"
   ]
  },
  {
   "cell_type": "code",
   "execution_count": 53,
   "metadata": {},
   "outputs": [
    {
     "name": "stdout",
     "output_type": "stream",
     "text": [
      "curr node 12\n",
      "cur path [] all paths []\n",
      "curr node 7\n",
      "cur path [12] all paths []\n",
      "curr node 4\n",
      "cur path [12, 7] all paths []\n",
      "cur path [12, 7] all paths [[12, 7, 4]]\n",
      "curr node 1\n",
      "cur path [12] all paths [[12, 7, 4]]\n",
      "curr node 10\n",
      "cur path [12, 1] all paths [[12, 7, 4]]\n",
      "curr node 5\n",
      "cur path [12, 1] all paths [[12, 7, 4], [12, 1, 10]]\n",
      "cur path [12, 1, 5] all paths [[12, 7, 4], [12, 1, 10]]\n",
      "cur path [12, 1, 5] all paths [[12, 7, 4], [12, 1, 10]]\n",
      "Tree paths with sum 23: [[12, 7, 4], [12, 1, 10]]\n"
     ]
    }
   ],
   "source": [
    "def find_paths(root, sum):\n",
    "    allPaths = []\n",
    "    find_paths_recursive(root, sum, [], allPaths)\n",
    "    return allPaths\n",
    "\n",
    "def find_paths_recursive(currentNode, sum, currentPath, allPaths):\n",
    "    if currentNode:\n",
    "        print(f'curr node {currentNode.val}')\n",
    "    print(f'cur path {currentPath} all paths {allPaths}')\n",
    "    if currentNode is None:\n",
    "        return\n",
    "\n",
    "    # add the current node to the path\n",
    "    currentPath.append(currentNode.val)\n",
    "\n",
    "    # if the current node is a leaf and its value is equal to sum, save the current path\n",
    "    if currentNode.val == sum and currentNode.left is None and currentNode.right is None:\n",
    "        allPaths.append(list(currentPath))\n",
    "    else:\n",
    "        # traverse the left sub-tree\n",
    "        find_paths_recursive(currentNode.left, sum -\n",
    "                             currentNode.val, currentPath, allPaths)\n",
    "        # traverse the right sub-tree\n",
    "        find_paths_recursive(currentNode.right, sum -\n",
    "                             currentNode.val, currentPath, allPaths)\n",
    "\n",
    "    # remove the current node from the path to backtrack,\n",
    "    # we need to remove the current node while we are going up the recursive call stack.\n",
    "    del currentPath[-1]\n",
    "\n",
    "root = TreeNode(12)\n",
    "root.left = TreeNode(7)\n",
    "root.right = TreeNode(1)\n",
    "root.left.left = TreeNode(4)\n",
    "root.right.left = TreeNode(10)\n",
    "root.right.right = TreeNode(5)\n",
    "sum = 23\n",
    "print(\"Tree paths with sum \" + str(sum) +\n",
    "    \": \" + str(find_paths(root, sum)))"
   ]
  },
  {
   "cell_type": "markdown",
   "metadata": {},
   "source": [
    "## Given a binary tree, return all root-to-leaf paths.\n",
    "\n",
    "Solution: We can follow a similar approach. We just need to remove the “check for the path sum”.\n"
   ]
  },
  {
   "cell_type": "code",
   "execution_count": 54,
   "metadata": {},
   "outputs": [
    {
     "name": "stdout",
     "output_type": "stream",
     "text": [
      "Tree paths with sum [[12, 7, 4], [12, 1, 10], [12, 1, 5]]\n"
     ]
    }
   ],
   "source": [
    "def find_paths(root):\n",
    "    all_paths = []\n",
    "    paths_recursive(root, [], all_paths)\n",
    "    return all_paths\n",
    "\n",
    "def paths_recursive(node, current_path, all_paths):\n",
    "    if node is None:\n",
    "        return\n",
    "    current_path.append(node.val)\n",
    "    if node.left is None and node.right is None:\n",
    "        all_paths.append(list(current_path))\n",
    "    else:\n",
    "         # traverse the left sub-tree\n",
    "        paths_recursive(node.left, current_path, all_paths)\n",
    "        # traverse the right sub-tree\n",
    "        paths_recursive(node.right, current_path, all_paths)\n",
    "    del current_path[-1] \n",
    "    \n",
    "\n",
    "root = TreeNode(12)\n",
    "root.left = TreeNode(7)\n",
    "root.right = TreeNode(1)\n",
    "root.left.left = TreeNode(4)\n",
    "root.right.left = TreeNode(10)\n",
    "root.right.right = TreeNode(5)\n",
    "\n",
    "print(\"Tree paths with sum \" + str(find_paths(root)))"
   ]
  },
  {
   "cell_type": "markdown",
   "metadata": {},
   "source": [
    "##  Given a binary tree, find the root-to-leaf path with the maximum sum.\n",
    "\n",
    "Solution: We need to find the path with the maximum sum. As we traverse all paths, we can keep track of the path with the maximum sum."
   ]
  },
  {
   "cell_type": "code",
   "execution_count": 69,
   "metadata": {},
   "outputs": [
    {
     "name": "stdout",
     "output_type": "stream",
     "text": [
      "Tree paths with sum [[12, 7, 4]]\n"
     ]
    }
   ],
   "source": [
    "def find_paths(root):\n",
    "    all_paths = []\n",
    "    paths_recursive(root, [], 0, all_paths)\n",
    "    return all_paths\n",
    "\n",
    "def paths_recursive(node, current_path, max_sum, all_paths):\n",
    "    if node is None:\n",
    "        return\n",
    "    current_path.append(node.val)\n",
    "    if node.left is None and node.right is None:\n",
    "        if len(all_paths) == 0:\n",
    "            all_paths.append(list(current_path))            \n",
    "        elif sum(current_path) > sum(all_paths[0]):   \n",
    "            print('got here')\n",
    "            all_paths = []\n",
    "            all_paths.append(list(current_path))            \n",
    "    else:\n",
    "        # traverse the left sub-tree\n",
    "        paths_recursive(node.left, current_path, max_sum, all_paths)\n",
    "        # traverse the right sub-tree\n",
    "        paths_recursive(node.right, current_path,  max_sum, all_paths)\n",
    "    del current_path[-1] \n",
    "    \n",
    "\n",
    "root = TreeNode(12)\n",
    "root.left = TreeNode(7)\n",
    "root.right = TreeNode(1)\n",
    "root.left.left = TreeNode(4)\n",
    "root.right.left = TreeNode(10)\n",
    "root.right.right = TreeNode(5)\n",
    "\n",
    "print(\"Tree paths with sum \" + str(find_paths(root)))"
   ]
  },
  {
   "cell_type": "markdown",
   "metadata": {},
   "source": [
    "### Sum of Path Numbers (medium)\n",
    "Given a binary tree where each node can only have a digit (0-9) value, each root-to-leaf path will represent a number. Find the total sum of all the numbers represented by all paths.  \n",
    "<img src=\"../images/tree_dfs2.png\" width=40%>\n"
   ]
  },
  {
   "cell_type": "code",
   "execution_count": 73,
   "metadata": {},
   "outputs": [
    {
     "name": "stdout",
     "output_type": "stream",
     "text": [
      "Total Sum of Path Numbers: None\n"
     ]
    }
   ],
   "source": [
    "def find_sum_of_path_numbers(root):\n",
    "    pass\n",
    "root = TreeNode(1)\n",
    "root.left = TreeNode(0)\n",
    "root.right = TreeNode(1)\n",
    "root.left.left = TreeNode(1)\n",
    "root.right.left = TreeNode(6)\n",
    "root.right.right = TreeNode(5)\n",
    "print(\"Total Sum of Path Numbers: \" + str(find_sum_of_path_numbers(root)))"
   ]
  },
  {
   "cell_type": "code",
   "execution_count": 71,
   "metadata": {},
   "outputs": [
    {
     "name": "stdout",
     "output_type": "stream",
     "text": [
      "Total Sum of Path Numbers: 332\n"
     ]
    }
   ],
   "source": [
    "def find_sum_of_path_numbers(root):\n",
    "    return find_root_to_leaf_path_numbers(root, 0)\n",
    "\n",
    "\n",
    "def find_root_to_leaf_path_numbers(currentNode, pathSum):\n",
    "    if currentNode is None:\n",
    "        return 0\n",
    "\n",
    "    # calculate the path number of the current node\n",
    "    pathSum = 10 * pathSum + currentNode.val\n",
    "\n",
    "    # if the current node is a leaf, return the current path sum\n",
    "    if currentNode.left is None and currentNode.right is None:\n",
    "        return pathSum\n",
    "\n",
    "    # traverse the left and the right sub-tree\n",
    "    return find_root_to_leaf_path_numbers(currentNode.left, pathSum) + find_root_to_leaf_path_numbers(currentNode.right, pathSum)\n",
    "\n",
    "root = TreeNode(1)\n",
    "root.left = TreeNode(0)\n",
    "root.right = TreeNode(1)\n",
    "root.left.left = TreeNode(1)\n",
    "root.right.left = TreeNode(6)\n",
    "root.right.right = TreeNode(5)\n",
    "print(\"Total Sum of Path Numbers: \" + str(find_sum_of_path_numbers(root)))"
   ]
  },
  {
   "cell_type": "markdown",
   "metadata": {},
   "source": [
    "### Count Paths for a Sum (medium)\n",
    "Given a binary tree and a number ‘S’, find all paths in the tree such that the sum of all the node values of each path equals ‘S’. Please note that the paths can start or end at any node but all paths must follow direction from parent to child (top to bottom).  \n",
    "<img src=\"../images/tree_dfs3.png\" width=40%>"
   ]
  },
  {
   "cell_type": "code",
   "execution_count": null,
   "metadata": {},
   "outputs": [],
   "source": [
    "def count_paths(root, S):\n",
    "    all_paths = []\n",
    "    \n",
    "    find_paths(root, s, [], all_paths)\n",
    "    return all_paths\n",
    "    \n",
    "def find_paths(node, val, cur_path, all_paths)\n",
    "    \n",
    "\n",
    "\n",
    "    return -1\n",
    "\n",
    "\n",
    "root = TreeNode(12)\n",
    "root.left = TreeNode(7)\n",
    "root.right = TreeNode(1)\n",
    "root.left.left = TreeNode(4)\n",
    "root.right.left = TreeNode(10)\n",
    "root.right.right = TreeNode(5)\n",
    "print(\"Tree has paths: \" + str(count_paths(root, 11)))"
   ]
  }
 ],
 "metadata": {
  "kernelspec": {
   "display_name": "Python 3.7.5 64-bit ('p37': conda)",
   "language": "python",
   "name": "python37564bitp37conda2b1eeea87ee044609be89b011a3e6682"
  },
  "language_info": {
   "codemirror_mode": {
    "name": "ipython",
    "version": 3
   },
   "file_extension": ".py",
   "mimetype": "text/x-python",
   "name": "python",
   "nbconvert_exporter": "python",
   "pygments_lexer": "ipython3",
   "version": "3.7.5"
  }
 },
 "nbformat": 4,
 "nbformat_minor": 4
}
