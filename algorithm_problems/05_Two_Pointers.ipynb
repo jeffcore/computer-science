{
 "cells": [
  {
   "cell_type": "markdown",
   "metadata": {},
   "source": [
    "# Two Pointers\n",
    "In problems where we deal with sorted arrays (or LinkedLists) and need to find a set of elements that fulfill certain constraints, the Two Pointers approach becomes quite useful.   \n",
    "The set of elements could be a pair, a triplet or even a subarray.   \n",
    "## PATTERNS\n",
    "1. Closing Window - pointer at start and end and they close in\n",
    "2. Saving Location - one point saves location of swap, other pointer travels front to back of array"
   ]
  },
  {
   "cell_type": "markdown",
   "metadata": {},
   "source": [
    "### TECHNIQUES\n",
    "1. sort the array - most problems are already sorted if not sort it first  \n",
    "2. Deciding where start and direction of pointers"
   ]
  },
  {
   "cell_type": "code",
   "execution_count": 57,
   "metadata": {},
   "outputs": [
    {
     "name": "stdout",
     "output_type": "stream",
     "text": [
      "left pointer 1 - right pointer 6\n"
     ]
    }
   ],
   "source": [
    "## start a pointer in the beginning and end:\n",
    "arr = [1, 2, 3, 4, 6]\n",
    "\n",
    "# get start and end\n",
    "left = 0\n",
    "right = len(arr) - 1\n",
    "\n",
    "print(f'left pointer {arr[left]} - right pointer {arr[right]}')"
   ]
  },
  {
   "cell_type": "markdown",
   "metadata": {},
   "source": [
    "#### Swap index pointer\n",
    "swap_pointer is controlled by some condition"
   ]
  },
  {
   "cell_type": "code",
   "execution_count": 60,
   "metadata": {},
   "outputs": [
    {
     "name": "stdout",
     "output_type": "stream",
     "text": [
      " i 1 swap_pointer 1 \n",
      " i 2 swap_pointer 2 \n",
      " i 3 swap_pointer 2 \n",
      " i 4 swap_pointer 3 \n"
     ]
    }
   ],
   "source": [
    "# set one variable use for loop for second\n",
    "# used when you want to loop through entire array but keep track of another index for operations\n",
    "swap_pointer = 1\n",
    "\n",
    "for i in range(1, len(arr)):\n",
    "    if i % 2 == 0:\n",
    "        swap_pointer += 1\n",
    "    print(f' i {i} swap_pointer {swap_pointer} ')"
   ]
  },
  {
   "cell_type": "markdown",
   "metadata": {},
   "source": [
    "####  Deciding how to loop through pointers"
   ]
  },
  {
   "cell_type": "code",
   "execution_count": 61,
   "metadata": {},
   "outputs": [
    {
     "name": "stdout",
     "output_type": "stream",
     "text": [
      "left 0 right 4\n",
      "left 1 right 3\n"
     ]
    }
   ],
   "source": [
    "## basic stop when left right match\n",
    "# control pointers in while loop\n",
    "left = 0\n",
    "right = len(arr) -1\n",
    "\n",
    "while left < right:\n",
    "    print(f'left {left} right {right}')\n",
    "    left += 1\n",
    "    right -= 1"
   ]
  },
  {
   "cell_type": "code",
   "execution_count": 33,
   "metadata": {},
   "outputs": [
    {
     "name": "stdout",
     "output_type": "stream",
     "text": [
      "index_pointer 1 - i 1\n",
      "index_pointer 1 - i 2\n",
      "index_pointer 1 - i 3\n",
      "index_pointer 1 - i 4\n"
     ]
    }
   ],
   "source": [
    "## using a for loop\n",
    "index_pointer = 1\n",
    "\n",
    "for i in range(1, len(arr)):\n",
    "    print(f'index_pointer {index_pointer} - i {i}')"
   ]
  },
  {
   "cell_type": "code",
   "execution_count": 38,
   "metadata": {},
   "outputs": [
    {
     "name": "stdout",
     "output_type": "stream",
     "text": [
      "i 0 left 1 - right 8\n",
      "i 0 left 2 - right 7\n",
      "i 0 left 3 - right 6\n",
      "i 0 left 4 - right 5\n",
      "i 1 left 2 - right 8\n",
      "i 1 left 3 - right 7\n",
      "i 1 left 4 - right 6\n",
      "i 2 left 3 - right 8\n",
      "i 2 left 4 - right 7\n",
      "i 2 left 5 - right 6\n",
      "i 3 left 4 - right 8\n",
      "i 3 left 5 - right 7\n",
      "i 4 left 5 - right 8\n",
      "i 4 left 6 - right 7\n",
      "i 5 left 6 - right 8\n",
      "i 6 left 7 - right 8\n"
     ]
    }
   ],
   "source": [
    "## using for loop with while loop similar to a nested loopabs\n",
    "arr = [1, 2, 3, 4, 6, 4, 5, 5,3]\n",
    "left = 0\n",
    "right = len(arr) -1\n",
    "\n",
    "for i in range(len(arr)-2):\n",
    "    left = i + 1\n",
    "    right = len(arr) - 1\n",
    "\n",
    "    while (left < right):\n",
    "        print(f'i {i} left {left} - right {right}')\n",
    "        left += 1\n",
    "        right -= 1"
   ]
  },
  {
   "cell_type": "markdown",
   "metadata": {},
   "source": [
    "### Check for duplicates after pointer increment"
   ]
  },
  {
   "cell_type": "code",
   "execution_count": null,
   "metadata": {},
   "outputs": [],
   "source": [
    "right -= 1\n",
    "left += 1\n",
    "\n",
    "if left < right and arr[right] == arr[right + 1]:\n",
    "    right -=1\n",
    "\n",
    "if left < right and arr[left] == arr[left - 1]:\n",
    "    left += 1"
   ]
  },
  {
   "cell_type": "markdown",
   "metadata": {},
   "source": [
    "## Pair with Target Sum (easy)  \n",
    "Given an array of sorted numbers and a target sum, find a pair in the array whose sum is equal to the given target.\n",
    "\n",
    "Write a function to return the indices of the two numbers (i.e. the pair) such that they add up to the given target.\n",
    "\n",
    "Input: [1, 2, 3, 4, 6], target=6  \n",
    "Output: [1, 3]  \n",
    "Explanation: The numbers at index 1 and 3 add up to 6: 2+4=6"
   ]
  },
  {
   "cell_type": "code",
   "execution_count": 65,
   "metadata": {},
   "outputs": [
    {
     "name": "stdout",
     "output_type": "stream",
     "text": [
      "[1, 3]\n",
      "[0, 2]\n"
     ]
    }
   ],
   "source": [
    "# Try it\n",
    "def pair_with_targetsum(arr, target_sum):\n",
    "    start = 0\n",
    "    end = len(arr) -1\n",
    "    \n",
    "    while start < end:\n",
    "        total = arr[start]+ arr[end]\n",
    "        if total == target_sum:\n",
    "            return [start, end]\n",
    "        \n",
    "        if total > target_sum:\n",
    "            end -= 1\n",
    "        else:\n",
    "            start += 1\n",
    "        \n",
    "    \n",
    "    \n",
    "    return [-1, -1]\n",
    "\n",
    "\n",
    "print(pair_with_targetsum([1, 2, 3, 4, 6], 6))\n",
    "print(pair_with_targetsum([2, 5, 9, 11], 11))\n",
    "# [1, 3]\n",
    "# [0, 2]"
   ]
  },
  {
   "cell_type": "code",
   "execution_count": 62,
   "metadata": {},
   "outputs": [
    {
     "name": "stdout",
     "output_type": "stream",
     "text": [
      "[1, 3]\n",
      "[0, 2]\n"
     ]
    }
   ],
   "source": [
    "def pair_with_targetsum(arr, target_sum):\n",
    "    # TODO: Write your code here\n",
    "    p_start = 0\n",
    "    p_end = len(arr) -1\n",
    "\n",
    "    while p_start < p_end:\n",
    "        current_sum = arr[p_start] + arr[p_end]\n",
    "        if current_sum == target_sum:\n",
    "            return [p_start, p_end]\n",
    "\n",
    "        if current_sum > target_sum:\n",
    "            p_end -= 1\n",
    "        else:\n",
    "            p_start += 1\n",
    "\n",
    "    return [-1, -1]\n",
    "\n",
    "print(pair_with_targetsum([1, 2, 3, 4, 6], 6))\n",
    "print(pair_with_targetsum([2, 5, 9, 11], 11))\n"
   ]
  },
  {
   "cell_type": "markdown",
   "metadata": {},
   "source": [
    "## hash approach\n",
    "X+Y==Target"
   ]
  },
  {
   "cell_type": "code",
   "execution_count": 71,
   "metadata": {},
   "outputs": [
    {
     "name": "stdout",
     "output_type": "stream",
     "text": [
      "[-1, -1]\n",
      "[-1, -1]\n"
     ]
    }
   ],
   "source": [
    "#try it\n",
    "def pair_with_hash(arr, target_sum):\n",
    "    return [-1,-1]\n",
    "\n",
    "print(pair_with_hash([1, 2, 3, 4, 6], 6))\n",
    "print(pair_with_hash([2, 5, 9, 11], 11))"
   ]
  },
  {
   "cell_type": "code",
   "execution_count": 3,
   "metadata": {},
   "outputs": [
    {
     "name": "stdout",
     "output_type": "stream",
     "text": [
      "[1, 3]\n",
      "[0, 2]\n"
     ]
    }
   ],
   "source": [
    "def pair_with_hash(arr, target_sum):\n",
    "    nums = {}\n",
    "    for i, v in enumerate(arr):\n",
    "        if target_sum - v in nums:\n",
    "            return [nums[target_sum - v], i]\n",
    "        else:\n",
    "            nums[arr[i]] = i\n",
    "    return [-1, -1]\n",
    "\n",
    "print(pair_with_hash([1, 2, 3, 4, 6], 6))\n",
    "print(pair_with_hash([2, 5, 9, 11], 11))"
   ]
  },
  {
   "cell_type": "markdown",
   "metadata": {},
   "source": [
    "## Remove Duplicates (easy)\n",
    "Given an array of sorted numbers, remove all duplicates from it. You should not use any extra space; after removing the duplicates in-place return the new length of the array.\n",
    "\n",
    "TRICK:  \n",
    "* keep moving i pointer (end pointer) on each iteration\n",
    "* move next_non_duplicate when there is a not a match move i to next_non_duplicate index\n",
    "\n",
    "\n",
    "Input: [2, 3, 3, 3, 6, 9, 9]  \n",
    "Output: 4  \n",
    "Explanation: The first four elements after removing the duplicates will be [2, 3, 6, 9]."
   ]
  },
  {
   "cell_type": "code",
   "execution_count": 81,
   "metadata": {},
   "outputs": [
    {
     "name": "stdout",
     "output_type": "stream",
     "text": [
      "[2, 3, 3, 3, 6, 9, 9]\n",
      "next_dup_index 1 next_dup_index - 1: 0 i 1\n",
      "[2, 3, 3, 3, 6, 9, 9]\n",
      "next_dup_index 2 next_dup_index - 1: 1 i 2\n",
      "[2, 3, 3, 3, 6, 9, 9]\n",
      "next_dup_index 2 next_dup_index - 1: 1 i 3\n",
      "[2, 3, 3, 3, 6, 9, 9]\n",
      "next_dup_index 2 next_dup_index - 1: 1 i 4\n",
      "[2, 3, 6, 3, 6, 9, 9]\n",
      "next_dup_index 3 next_dup_index - 1: 2 i 5\n",
      "[2, 3, 6, 9, 6, 9, 9]\n",
      "next_dup_index 4 next_dup_index - 1: 3 i 6\n",
      "4\n",
      "[2, 2, 2, 11]\n",
      "next_dup_index 1 next_dup_index - 1: 0 i 1\n",
      "[2, 2, 2, 11]\n",
      "next_dup_index 1 next_dup_index - 1: 0 i 2\n",
      "[2, 2, 2, 11]\n",
      "next_dup_index 1 next_dup_index - 1: 0 i 3\n",
      "2\n"
     ]
    }
   ],
   "source": [
    "# try it\n",
    "def remove_duplicates(arr):\n",
    "    next_dup_index = 1\n",
    "    \n",
    "    for i in range(1, len(arr)):\n",
    "        print(arr)\n",
    "        print(f'next_dup_index {next_dup_index} next_dup_index - 1: {next_dup_index -1} i {i}')        \n",
    "        if arr[next_dup_index - 1 ] != arr[i]:\n",
    "            arr[next_dup_index] = arr[i]\n",
    "            next_dup_index += 1\n",
    "\n",
    "    return next_dup_index\n",
    "def main():\n",
    "    print(remove_duplicates([2, 3, 3, 3, 6, 9, 9]))\n",
    "    print(remove_duplicates([2, 2, 2, 11]))\n",
    "main()"
   ]
  },
  {
   "cell_type": "code",
   "execution_count": 76,
   "metadata": {},
   "outputs": [
    {
     "name": "stdout",
     "output_type": "stream",
     "text": [
      "4\n",
      "2\n"
     ]
    }
   ],
   "source": [
    "# try it - uses space\n",
    "def remove_duplicates(arr):\n",
    "    the_set = set(arr)\n",
    "    return len(the_set)\n",
    "def main():\n",
    "    print(remove_duplicates([2, 3, 3, 3, 6, 9, 9]))\n",
    "    print(remove_duplicates([2, 2, 2, 11]))\n",
    "main()"
   ]
  },
  {
   "cell_type": "code",
   "execution_count": 53,
   "metadata": {},
   "outputs": [
    {
     "name": "stdout",
     "output_type": "stream",
     "text": [
      "[2, 3, 6, 9, 6, 9, 9]\n",
      "4\n",
      "[2, 11, 2, 11]\n",
      "2\n"
     ]
    }
   ],
   "source": [
    "def remove_duplicates(arr):\n",
    "    # index of the next non-duplicate element\n",
    "    next_non_duplicate = 1\n",
    "\n",
    "    for i in range(1, len(arr)):\n",
    "        if arr[next_non_duplicate - 1] != arr[i]:\n",
    "            arr[next_non_duplicate] = arr[i]\n",
    "            next_non_duplicate += 1\n",
    "    print(arr) \n",
    "    return next_non_duplicate\n",
    "\n",
    "def main():\n",
    "    print(remove_duplicates([2, 3, 3, 3, 6, 9, 9]))\n",
    "    print(remove_duplicates([2, 2, 2, 11]))\n",
    "main()"
   ]
  },
  {
   "cell_type": "markdown",
   "metadata": {},
   "source": [
    "### Given an unsorted array of numbers and a target ‘key’, remove all instances of ‘key’ in-place and return the new length of the array.\n",
    "\n",
    "Trick: Uses a swap index for a pointers\n",
    "\n",
    "next_element always stays on first element that matches key then moves with it for swapping\n",
    "\n",
    "Input: [3, 2, 3, 6, 3, 10, 9, 3], Key=3  \n",
    "Output: 4  \n",
    "Explanation: The first four elements after removing every 'Key' will be [2, 6, 10, 9].\n"
   ]
  },
  {
   "cell_type": "code",
   "execution_count": 86,
   "metadata": {},
   "outputs": [
    {
     "name": "stdout",
     "output_type": "stream",
     "text": [
      "Array new length: 4\n",
      "Array new length: 2\n"
     ]
    }
   ],
   "source": [
    "# try it\n",
    "def remove_element(arr, key):\n",
    "   \n",
    "    return \n",
    "\n",
    "print(\"Array new length: \" +\n",
    "    str(remove_element([3, 2, 3, 6, 3, 10, 9, 3], 3)))\n",
    "print(\"Array new length: \" +\n",
    "    str(remove_element([2, 11, 2, 2, 1], 2)))   "
   ]
  },
  {
   "cell_type": "code",
   "execution_count": 39,
   "metadata": {},
   "outputs": [
    {
     "name": "stdout",
     "output_type": "stream",
     "text": [
      "Array new length: 4\n",
      "Array new length: 2\n"
     ]
    }
   ],
   "source": [
    "def remove_element(arr, key):\n",
    "    next_element = 0\n",
    "    \n",
    "    for i in range(len(arr)):\n",
    "        if arr[i] != key:\n",
    "            arr[next_element] = arr[i]\n",
    "            next_element += 1\n",
    "            \n",
    "    return next_element\n",
    "\n",
    "print(\"Array new length: \" +\n",
    "    str(remove_element([3, 2, 3, 6, 3, 10, 9, 3], 3)))\n",
    "print(\"Array new length: \" +\n",
    "    str(remove_element([2, 11, 2, 2, 1], 2)))   "
   ]
  },
  {
   "cell_type": "markdown",
   "metadata": {},
   "source": [
    "### Squaring a Sorted Array (easy\n",
    "Given a sorted array, create a new array containing squares of all the number of the input array in the sorted order.  \n",
    "\n",
    "Input: [-2, -1, 0, 2, 3]  \n",
    "Output: [0, 1, 4, 4, 9]  \n",
    "\n",
    "\n",
    "TRICK:  start and end pointer  \n",
    "square start and end and add larger to array"
   ]
  },
  {
   "cell_type": "code",
   "execution_count": 89,
   "metadata": {},
   "outputs": [
    {
     "name": "stdout",
     "output_type": "stream",
     "text": [
      "Squares: None\n",
      "Squares: None\n"
     ]
    }
   ],
   "source": [
    "def make_squares(arr):\n",
    "   \n",
    "    return \n",
    "\n",
    "\n",
    "def main():\n",
    "\n",
    "    print(\"Squares: \" + str(make_squares([-2, -1, 0, 2, 3])))\n",
    "    print(\"Squares: \" + str(make_squares([-3, -1, 0, 1, 2])))\n",
    "    # Squares: [0, 1, 4, 4, 9]\n",
    "    # Squares: [0, 1, 1, 4, 9]\n",
    "\n",
    "main()"
   ]
  },
  {
   "cell_type": "code",
   "execution_count": 90,
   "metadata": {},
   "outputs": [
    {
     "name": "stdout",
     "output_type": "stream",
     "text": [
      "Squares: [0, 1, 4, 4, 9]\n",
      "Squares: [0, 1, 1, 4, 9]\n"
     ]
    }
   ],
   "source": [
    "def make_squares(arr):\n",
    "    n = len(arr)\n",
    "    squares = [0 for x in range(n)]\n",
    "    highestSquareIdx = n - 1\n",
    "    left, right = 0, n - 1\n",
    "    \n",
    "    while left <= right:\n",
    "        leftSquare = arr[left] * arr[left]\n",
    "        rightSquare = arr[right] * arr[right]\n",
    "        if leftSquare > rightSquare:\n",
    "            squares[highestSquareIdx] = leftSquare\n",
    "            left += 1\n",
    "        else:\n",
    "            squares[highestSquareIdx] = rightSquare\n",
    "            right -= 1\n",
    "        highestSquareIdx -= 1\n",
    "\n",
    "    return squares\n",
    "\n",
    "\n",
    "def main():\n",
    "\n",
    "    print(\"Squares: \" + str(make_squares([-2, -1, 0, 2, 3])))\n",
    "    print(\"Squares: \" + str(make_squares([-3, -1, 0, 1, 2])))\n",
    "\n",
    "main()"
   ]
  },
  {
   "cell_type": "markdown",
   "metadata": {},
   "source": [
    "### Triplet Sum to Zero (medium)\n",
    "Given an array of unsorted numbers, find all unique triplets in it that add up to zero.  \n",
    "This algoritm is complicated, uses all techiques\n",
    "\n",
    "* unsorted\n",
    "* unique triplets\n",
    "* add to zero - constant target\n",
    "\n",
    " \n",
    "Input: [-3, 0, 1, 2, -1, 1, -2]  \n",
    "Output: [-3, 1, 2], [-2, 0, 2], [-2, 1, 1], [-1, 0, 1]  \n",
    "Explanation: There are four unique triplets whose sum is  equal to zero.  \n",
    "\n",
    "\n",
    "Tricks:\n",
    "* Sort array\n",
    "* pointer one just loops through entire array : left to right\n",
    "* algrebra : Y + Z = -X\n",
    "* helper function\n",
    "    *  uses pair with target sum problem - closing window techique\n",
    "    * has 2 more pointers : left and right\n",
    "    * loops through window looking for pairs of algrebric equation\n",
    "    * based on comparison of pairs you can : append, left+ or right+\n",
    "    * if append: you have to handle for duplicates"
   ]
  },
  {
   "cell_type": "code",
   "execution_count": 94,
   "metadata": {},
   "outputs": [
    {
     "name": "stdout",
     "output_type": "stream",
     "text": [
      "[[-3, 1, 2], [-2, 0, 2], [-2, 1, 1], [-1, 0, 1]]\n",
      "[[-5, 2, 3], [-2, -1, 3]]\n"
     ]
    }
   ],
   "source": [
    "def search_triplets(arr):\n",
    "   \n",
    "    return\n",
    "        \n",
    "        \n",
    "\n",
    "def main():\n",
    "    print(search_triplets([-3, 0, 1, 2, -1, 1, -2]))\n",
    "    print(search_triplets([-5, 2, -1, -2, 3]))\n",
    "    # [[-3, 1, 2], [-2, 0, 2], [-2, 1, 1], [-1, 0, 1]]\n",
    "    # [[-5, 2, 3], [-2, -1, 3]]\n",
    "main()"
   ]
  },
  {
   "cell_type": "code",
   "execution_count": 100,
   "metadata": {},
   "outputs": [
    {
     "name": "stdout",
     "output_type": "stream",
     "text": [
      "[[-3, 1, 2], [-2, 0, 2], [-2, 1, 1], [-1, 0, 1]]\n",
      "[[-5, 2, 3], [-2, -1, 3]]\n"
     ]
    }
   ],
   "source": [
    "def search_triplets(arr):\n",
    "    arr.sort()\n",
    "    triplets = []\n",
    "    for i in range(len(arr)-2):\n",
    "        if i > 0 and arr[i] == arr[i-1]:  #short circuit # skip same element to avoid duplicate triplets\n",
    "            continue\n",
    "        search_pair(arr, -arr[i], i+1, triplets)\n",
    "\n",
    "    return triplets\n",
    "\n",
    "def search_pair(arr, target_sum, left, triplets):\n",
    "    right = len(arr) - 1\n",
    "    while(left < right):\n",
    "        current_sum = arr[left] + arr[right]\n",
    "\n",
    "        if current_sum == target_sum:  # found the triplet\n",
    "            triplets.append([-target_sum, arr[left], arr[right]])\n",
    "            left += 1\n",
    "            right -= 1\n",
    "            # avoid duplicates\n",
    "            while left < right and arr[left] == arr[left - 1]:\n",
    "                left += 1  # skip same element to avoid duplicate triplets\n",
    "            while left < right and arr[right] == arr[right + 1]:\n",
    "                right -= 1  # skip same element to avoid duplicate triplets\n",
    "        elif target_sum > current_sum:\n",
    "            left += 1  # we need a pair with a bigger sum\n",
    "        else:\n",
    "            right -= 1  # we need a pair with a smaller sum\n",
    "\n",
    "\n",
    "def main():\n",
    "    print(search_triplets([-3, 0, 1, 2, -1, 1, -2]))\n",
    "    print(search_triplets([-5, 2, -1, -2, 3]))\n",
    "\n",
    "main()"
   ]
  },
  {
   "cell_type": "markdown",
   "metadata": {},
   "source": [
    "### Triplet Sum Close to Target (medium)\n",
    "Given an array of unsorted numbers and a target number, find a triplet in the array whose sum is as close to the target number as possible, return the sum of the triplet. If there are more than one such triplet, return the sum of the triplet with the smallest sum.\n",
    "\n",
    "Input: [-2, 0, 1, 2], target=2  \n",
    "Output: 1  \n",
    "Explanation: The triplet [-2, 1, 2] has the closest sum to the target.\n",
    "\n",
    "Input: [-3, -1, 1, 2], target=1  \n",
    "Output: 0  \n",
    "Explanation: The triplet [-3, 1, 2] has the closest sum to the target.\n",
    "\n",
    "Input: [1, 0, 1, 1], target=100  \n",
    "Output: 3  \n",
    "Explanation: The triplet [1, 1, 1] has the closest sum to the target.\n",
    "\n",
    "\n",
    "* target number given\n",
    "* unsorted\n",
    "* sum close to target = return one\n",
    "\n",
    "\n",
    "Pointers with comparisons  \n",
    "problem is difficult because you are suppose to find smallest difference then return the sum\n",
    "all comparisons are done on lowest differnce  \n",
    "then subtract it from some to get total of triplets"
   ]
  },
  {
   "cell_type": "code",
   "execution_count": 99,
   "metadata": {},
   "outputs": [
    {
     "name": "stdout",
     "output_type": "stream",
     "text": [
      "1\n",
      "0\n",
      "3\n"
     ]
    }
   ],
   "source": [
    "# try it \n",
    "import math\n",
    "\n",
    "def triplet_sum_close_to_target(arr, target_sum):\n",
    "   \n",
    "    return \n",
    "\n",
    "def main():\n",
    "    print(triplet_sum_close_to_target([-2, 0, 1, 2], 2))\n",
    "    print(triplet_sum_close_to_target([-3, -1, 1, 2], 1))\n",
    "    print(triplet_sum_close_to_target([1, 0, 1, 1], 100))\n",
    "\n",
    "main()"
   ]
  },
  {
   "cell_type": "code",
   "execution_count": 30,
   "metadata": {},
   "outputs": [
    {
     "name": "stdout",
     "output_type": "stream",
     "text": [
      "1\n",
      "0\n",
      "3\n"
     ]
    }
   ],
   "source": [
    "import math\n",
    "\n",
    "def triplet_sum_close_to_target(arr, target_sum):\n",
    "    arr.sort()\n",
    "    smallest_difference = math.inf\n",
    "    \n",
    "    for i in range(len(arr)-2):\n",
    "        left = i + 1\n",
    "        right = len(arr) - 1\n",
    "        \n",
    "        while (left < right):\n",
    "            target_diff = target_sum - arr[i] - arr[left] - arr[right]\n",
    "            if target_diff == 0:  # we've found a triplet with an exact sum\n",
    "                return target_sum - target_diff  # return sum of all the numbers\n",
    "\n",
    "            # the second part of the following 'if' is to handle the smallest sum \n",
    "            #. when we have more than one solution\n",
    "            if abs(target_diff) < abs(smallest_difference) or \\\n",
    "                  (abs(target_diff) == abs(smallest_difference) and target_diff > smallest_difference):\n",
    "                smallest_difference = target_diff  # save the closest and the biggest difference\n",
    "\n",
    "            if target_diff > 0:\n",
    "                left += 1  # we need a triplet with a bigger sum\n",
    "            else:\n",
    "                right -= 1  # we need a triplet with a smaller sum\n",
    "\n",
    "    return target_sum - smallest_difference\n",
    "\n",
    "def main():\n",
    "    print(triplet_sum_close_to_target([-2, 0, 1, 2], 2))\n",
    "    print(triplet_sum_close_to_target([-3, -1, 1, 2], 1))\n",
    "    print(triplet_sum_close_to_target([1, 0, 1, 1], 100))\n",
    "\n",
    "main()\n"
   ]
  },
  {
   "cell_type": "markdown",
   "metadata": {},
   "source": [
    "## Triplets with Smaller Sum (medium)\n",
    "\n",
    "Given an array arr of unsorted numbers and a target sum, count all triplets in it such that arr[i] + arr[j] + arr[k] < target where i, j, and k are three different indices. Write a function to return the count of such triplets.\n",
    "\n",
    "Input: [-1, 0, 2, 3], target=3   \n",
    "Output: 2  \n",
    "Explanation: There are two triplets whose sum is less than the target: [-1, 0, 3], [-1, 0, 2]\n",
    "\n",
    "\n",
    "trick is  count += right - left  this assumes all of these triples are less than target"
   ]
  },
  {
   "cell_type": "code",
   "execution_count": 107,
   "metadata": {},
   "outputs": [
    {
     "name": "stdout",
     "output_type": "stream",
     "text": [
      "None\n",
      "None\n"
     ]
    }
   ],
   "source": [
    "# best version\n",
    "def triplet_with_smaller_sum(arr, target):\n",
    "    \n",
    "    return        \n",
    "\n",
    "def main():\n",
    "    print(triplet_with_smaller_sum([-1, 0, 2, 3], 3))\n",
    "    print(triplet_with_smaller_sum([-1, 4, 2, 1, 3], 5))\n",
    "\n",
    "main()"
   ]
  },
  {
   "cell_type": "code",
   "execution_count": 44,
   "metadata": {},
   "outputs": [
    {
     "name": "stdout",
     "output_type": "stream",
     "text": [
      "2\n",
      "3\n"
     ]
    }
   ],
   "source": [
    "# best version\n",
    "def triplet_with_smaller_sum(arr, target):\n",
    "    arr.sort()\n",
    "    count = 0\n",
    "    for i in range(len(arr)-2):\n",
    "        count += search_pair(arr, target - arr[i], i)\n",
    "    return count\n",
    "\n",
    "\n",
    "def search_pair(arr, target_sum, first):\n",
    "    count = 0\n",
    "    left, right = first + 1, len(arr) - 1\n",
    "    while (left < right):\n",
    "        if arr[left] + arr[right] < target_sum:  # found the triplet\n",
    "            # since arr[right] >= arr[left], therefore, we can replace arr[right] by any number between\n",
    "            # left and right to get a sum less than the target sum\n",
    "            # so [left index, right index] and [left index, rignt index - 1], [etc] would all be pairs\n",
    "        \n",
    "            count += right - left\n",
    "            left += 1\n",
    "        else:\n",
    "            right -= 1  # we need a pair with a smaller sum\n",
    "        return count\n",
    "\n",
    "\n",
    "def main():\n",
    "    print(triplet_with_smaller_sum([-1, 0, 2, 3], 3))\n",
    "    print(triplet_with_smaller_sum([-1, 4, 2, 1, 3], 5))\n",
    "\n",
    "\n",
    "main()"
   ]
  },
  {
   "cell_type": "code",
   "execution_count": 43,
   "metadata": {},
   "outputs": [],
   "source": [
    "# my version\n",
    "def triplet_with_smaller_sum(arr, target):\n",
    "    count = 0\n",
    "    arr.sort()\n",
    "    # TODO: Write your code here\n",
    "    for i in range(len(arr)-2):\n",
    "        left = i+ 1\n",
    "        right = len(arr) - 1\n",
    "        while left < right:\n",
    "            target_sum = arr[i] + arr[left] + arr[right]\n",
    "            print('target sum ' + str(target_sum) )\n",
    "            if target_sum < target:\n",
    "                count += right - left\n",
    "                left += 1\n",
    "            else:\n",
    "                right -= 1\n",
    "\n",
    "    return count"
   ]
  },
  {
   "cell_type": "markdown",
   "metadata": {},
   "source": [
    "## Return the triplets\n",
    "just add a for loop"
   ]
  },
  {
   "cell_type": "code",
   "execution_count": 46,
   "metadata": {},
   "outputs": [
    {
     "name": "stdout",
     "output_type": "stream",
     "text": [
      "[[-1, 0, 3], [-1, 0, 2]]\n",
      "[[-1, 1, 4], [-1, 1, 3], [-1, 1, 2], [-1, 2, 3]]\n"
     ]
    }
   ],
   "source": [
    "def triplet_with_smaller_sum(arr, target):\n",
    "    arr.sort()\n",
    "    triplets = []\n",
    "    for i in range(len(arr)-2):\n",
    "        search_pair(arr, target - arr[i], i, triplets)\n",
    "    return triplets\n",
    "\n",
    "\n",
    "def search_pair(arr, target_sum, first, triplets):\n",
    "    left = first + 1\n",
    "    right = len(arr) - 1\n",
    "    while (left < right):\n",
    "        if arr[left] + arr[right] < target_sum:  # found the triplet\n",
    "            # since arr[right] >= arr[left], therefore, we can replace arr[right] by any number between\n",
    "            # left and right to get a sum less than the target sum\n",
    "            for i in range(right, left, -1):\n",
    "                triplets.append([arr[first], arr[left], arr[i]])\n",
    "            left += 1\n",
    "        else:\n",
    "            right -= 1  # we need a pair with a smaller sum\n",
    "\n",
    "\n",
    "def main():\n",
    "    print(triplet_with_smaller_sum([-1, 0, 2, 3], 3))\n",
    "    print(triplet_with_smaller_sum([-1, 4, 2, 1, 3], 5))\n",
    "\n",
    "\n",
    "main()"
   ]
  },
  {
   "cell_type": "markdown",
   "metadata": {},
   "source": [
    "## Subarrays with Product Less than a Target (medium)\n",
    "Given an array with positive numbers and a target number, find all of its contiguous subarrays whose product is less than the target number.\n",
    "\n",
    "Input: [2, 5, 3, 10], target=30   \n",
    "Output: [2], [5], [2, 5], [3], [5, 3], [10]  \n",
    "Explanation: There are six contiguous subarrays whose product is less than the target.\n",
    "\n",
    "Input: [8, 2, 6, 5], target=50  \n",
    "Output: [8], [2], [8, 2], [6], [2, 6], [5], [6, 5]   \n",
    "Explanation: There are seven contiguous subarrays whose product is less than the target.  \n",
    "\n",
    "PATTERNS: Uses sliding  window  variable - for loop right , while loop left\n",
    "\n",
    "TRICK:\n",
    "1. sliding  window - left and right start at index 0, right moves until cumulative product is over target, then left moves\n",
    "2. deque - double ended queue - the reverse loop works like this:\n",
    "    * 5 added to deque, then 5 is copied to results\n",
    "    * 3 is added to deque, then 5,3 is copied.  \n",
    "    * the other trick is the are added in reverse so the number in left is not added twice\n",
    "    \n",
    "The tricks here are clever just have to find a way to describe as pattern\n",
    "\n"
   ]
  },
  {
   "cell_type": "code",
   "execution_count": 124,
   "metadata": {},
   "outputs": [
    {
     "name": "stdout",
     "output_type": "stream",
     "text": [
      "[]\n",
      "[]\n"
     ]
    }
   ],
   "source": [
    "# TRY IT\n",
    "from collections import deque\n",
    "\n",
    "def find_subarrays(arr, target):\n",
    "    results = []\n",
    "  \n",
    "                \n",
    "    return results\n",
    "\n",
    "def main():\n",
    "    print(find_subarrays([2, 5, 3, 10], 30))\n",
    "    print(find_subarrays([8, 2, 6, 5], 50))\n",
    "\n",
    "\n",
    "main()\n"
   ]
  },
  {
   "cell_type": "code",
   "execution_count": 117,
   "metadata": {},
   "outputs": [
    {
     "name": "stdout",
     "output_type": "stream",
     "text": [
      "rifht 0\n",
      "[]\n",
      "rifht 1\n",
      "[[2]]\n",
      "rifht 2\n",
      "[[2], [5], [2, 5]]\n",
      "rifht 3\n",
      "[[2], [5], [2, 5], [3], [5, 3]]\n",
      "[[2], [5], [2, 5], [3], [5, 3], [10]]\n",
      "rifht 0\n",
      "[]\n",
      "rifht 1\n",
      "[[8]]\n",
      "rifht 2\n",
      "[[8], [2], [8, 2]]\n",
      "rifht 3\n",
      "[[8], [2], [8, 2], [6], [2, 6]]\n",
      "[[8], [2], [8, 2], [6], [2, 6], [5], [6, 5]]\n"
     ]
    }
   ],
   "source": [
    "# their solution\n",
    "from collections import deque\n",
    "\n",
    "def find_subarrays(arr, target):\n",
    "    result = []\n",
    "    product = 1\n",
    "    left = 0\n",
    "    for right in range(len(arr)):\n",
    "        print(f'rifht {right}')\n",
    "        print(result)\n",
    "        product *= arr[right]\n",
    "        # uses algrebra - division to get last element that is greater than target\n",
    "        # at this point we are unable to multiply anymore numbers to this loop starting at right\n",
    "        while (product >= target and left < len(arr)):\n",
    "            # divide out number on left of sliding window\n",
    "            product /= arr[left]\n",
    "            left += 1\n",
    "        # since the product of all numbers from left to right is less than the target therefore,\n",
    "        # all subarrays from left to right will have a product less than the target too; to avoid\n",
    "        # duplicates, we will start with a subarray containing only arr[right] and then extend it\n",
    "        temp_list = deque()\n",
    "        for i in range(right, left-1, -1):            \n",
    "            temp_list.appendleft(arr[i])\n",
    "            result.append(list(temp_list))\n",
    "            \n",
    "    return result\n",
    "\n",
    "# product subs     left.   right\n",
    "# 2        2         0.      0\n",
    "# 10       5,2       0.       1\n",
    "# 30.      over      0       2\n",
    "# 15       3,5          1       2\n",
    "# 150      over      1        3\n",
    "# 30       over        2       3\n",
    "# 10        10           3    3\n",
    "def main():\n",
    "    print(find_subarrays([2, 5, 3, 10], 30))\n",
    "    print(find_subarrays([8, 2, 6, 5], 50))\n",
    "main()"
   ]
  },
  {
   "cell_type": "code",
   "execution_count": 113,
   "metadata": {},
   "outputs": [
    {
     "name": "stdout",
     "output_type": "stream",
     "text": [
      "[[2], [2, 5], [5], [5, 3], [3], [10]]\n",
      "[[8], [8, 2], [2], [2, 6], [6], [6, 5], [5]]\n"
     ]
    }
   ],
   "source": [
    "# my code\n",
    "def find_subarrays(arr, target):\n",
    "    result = []\n",
    "    \n",
    "    for left in range(len(arr)):\n",
    "        right = left\n",
    "        product = 1\n",
    "        cont_arr = []\n",
    "        while right < len(arr):\n",
    "            if left == right:\n",
    "                if arr[left] < target:\n",
    "                    product = arr[left]\n",
    "                    cont_arr.append(arr[left])\n",
    "                    result.append([arr[left]])            \n",
    "                    right += 1\n",
    "                else:\n",
    "                    break\n",
    "            else:\n",
    "                product *= arr[right]\n",
    "                if product < target:\n",
    "                    cont_arr.append(arr[right])\n",
    "                    result.append(cont_arr.copy())      \n",
    "                    right += 1\n",
    "                else:\n",
    "                    break   \n",
    "\n",
    "    return result\n",
    "print(find_subarrays([2, 5, 3, 10], 30))\n",
    "\n",
    "print(find_subarrays([8, 2, 6, 5], 50))"
   ]
  },
  {
   "cell_type": "markdown",
   "metadata": {},
   "source": [
    "## Dutch National Flag Problem Medium\n",
    "Given an array containing 0s, 1s and 2s, sort the array in-place. You should treat numbers of the array as objects, hence, we can’t count 0s, 1s, and 2s to recreate the array.\n",
    "  \n",
    "The flag of the Netherlands consists of three colors: red, white and blue; and since our input array also consists of three different numbers that is why it is called Dutch National Flag problem.\n",
    "\n",
    "\n",
    "Input: [1, 0, 2, 1, 0]  \n",
    "Output: [0 0 1 1 2]  \n",
    "\n",
    "\n",
    "Input: [2, 2, 0, 1, 2, 0]  \n",
    "Output: [0 0 1 2 2 2 ]\n",
    "\n",
    "\n",
    "TRICK: using high and low pointers to track where to swap numbers  \n",
    "then just iterate through entire array\n",
    "* low pointer keeps the lowest index of 1\n",
    "* high pointer keeps highest index of 2\n",
    "\n"
   ]
  },
  {
   "cell_type": "code",
   "execution_count": 132,
   "metadata": {},
   "outputs": [
    {
     "ename": "IndentationError",
     "evalue": "expected an indented block (<ipython-input-132-69d53a8cff49>, line 6)",
     "output_type": "error",
     "traceback": [
      "\u001b[0;36m  File \u001b[0;32m\"<ipython-input-132-69d53a8cff49>\"\u001b[0;36m, line \u001b[0;32m6\u001b[0m\n\u001b[0;31m    arr = [1, 0, 2, 1, 0]\u001b[0m\n\u001b[0m      ^\u001b[0m\n\u001b[0;31mIndentationError\u001b[0m\u001b[0;31m:\u001b[0m expected an indented block\n"
     ]
    }
   ],
   "source": [
    "# try it\n",
    "def dutch_flag_sort(arr):\n",
    "   \n",
    "    \n",
    "    \n",
    "arr = [1, 0, 2, 1, 0]\n",
    "dutch_flag_sort(arr)\n",
    "print(arr)\n",
    "\n",
    "arr = [2, 2, 0, 1, 2, 0]\n",
    "dutch_flag_sort(arr)\n",
    "print(arr)\n"
   ]
  },
  {
   "cell_type": "code",
   "execution_count": 56,
   "metadata": {},
   "outputs": [
    {
     "name": "stdout",
     "output_type": "stream",
     "text": [
      "[0, 0, 1, 1, 2]\n",
      "[0, 0, 1, 2, 2, 2]\n"
     ]
    }
   ],
   "source": [
    "def dutch_flag_sort(arr):\n",
    "  # TODO: Write your code here\n",
    "    low = 0 \n",
    "    high = len(arr) - 1\n",
    "    i = 0\n",
    "    while i <= high:\n",
    "        if arr[i] == 0:\n",
    "            arr[i], arr[low] = arr[low], arr[i]\n",
    "            low += 1      \n",
    "            i += 1\n",
    "        elif arr[i] == 1:\n",
    "            i += 1\n",
    "        else:\n",
    "            arr[i], arr[high] = arr[high], arr[i]\n",
    "            high -= 1\n",
    "        \n",
    "arr = [1, 0, 2, 1, 0]\n",
    "dutch_flag_sort(arr)\n",
    "print(arr)\n",
    "\n",
    "arr = [2, 2, 0, 1, 2, 0]\n",
    "dutch_flag_sort(arr)\n",
    "print(arr)\n"
   ]
  },
  {
   "cell_type": "markdown",
   "metadata": {},
   "source": [
    "## Quadruple Sum to Target (medium) #\n",
    "Given an array of unsorted numbers and a target number, find all unique quadruplets in it, whose sum is equal to the target number.\n",
    "\n",
    "Input: [4, 1, 2, -1, 1, -3], target=1  \n",
    "Output: [-3, -1, 1, 4], [-3, 1, 1, 2]  \n",
    "Explanation: Both the quadruplets add up to the target.\n",
    "\n",
    "Input: [2, 0, -1, 1, -2, 2], target=2  \n",
    "Output: [-2, 0, 2, 2], [-1, 0, 1, 2]  \n",
    "Explanation: Both the quadruplets add up to the target. "
   ]
  },
  {
   "cell_type": "code",
   "execution_count": 147,
   "metadata": {},
   "outputs": [
    {
     "name": "stdout",
     "output_type": "stream",
     "text": [
      "[[-3, -1, 1, 4], [-3, 1, 1, 2]]\n",
      "[[-2, 0, 2, 2], [-1, 0, 1, 2]]\n"
     ]
    }
   ],
   "source": [
    "def search_quadruplets(arr, target):\n",
    "    arr.sort()\n",
    "    quads = []\n",
    "    for i in range(0, len(arr)-3):\n",
    "        if i > 0 and arr[i] == arr[i-1]:\n",
    "            continue\n",
    "            \n",
    "        for j in range(i+1, len(arr)-2):\n",
    "            if j > i + 1 and arr[j] == arr[j-1]:\n",
    "                continue\n",
    "            compare_quads(arr, target, i, j, quads)\n",
    "    return quads\n",
    "\n",
    "def compare_quads(arr, target, i, j, quads):\n",
    "    left = j + 1\n",
    "    right = len(arr) - 1\n",
    "    \n",
    "    while left < right:\n",
    "        quad_sum = arr[i] + arr[j] + arr[left] + arr[right]\n",
    "        \n",
    "        if quad_sum == target: \n",
    "            quads.append([arr[i], arr[j], arr[left], arr[right]])\n",
    "            left += 1\n",
    "            right -= 1\n",
    "            \n",
    "            while (left < right and arr[left] == arr[left-1]):\n",
    "                left += 1\n",
    "            while(left < right and arr[right] == arr[right + 1]):\n",
    "                right -=1\n",
    "                \n",
    "        elif quad_sum > target:\n",
    "            right -= 1\n",
    "        else:\n",
    "            left += 1\n",
    "\n",
    "def main():\n",
    "    print(search_quadruplets([4, 1, 2, -1, 1, -3], 1))\n",
    "    print(search_quadruplets([2, 0, -1, 1, -2, 2], 2))\n",
    "    \n",
    "main()"
   ]
  },
  {
   "cell_type": "code",
   "execution_count": 143,
   "metadata": {},
   "outputs": [
    {
     "name": "stdout",
     "output_type": "stream",
     "text": [
      "[[-3, -1, 1, 4], [-3, 1, 1, 2]]\n",
      "[[-2, 0, 2, 2], [-1, 0, 1, 2]]\n"
     ]
    }
   ],
   "source": [
    "def search_quadruplets(arr, target):\n",
    "    arr.sort()\n",
    "    quadruplets = []\n",
    "    for i in range(0, len(arr)-3):\n",
    "        # skip same element to avoid duplicate quadruplets\n",
    "        if i > 0 and arr[i] == arr[i - 1]:\n",
    "            continue\n",
    "        for j in range(i + 1, len(arr)-2):\n",
    "            # skip same element to avoid duplicate quadruplets\n",
    "            if j > i + 1 and arr[j] == arr[j - 1]:\n",
    "                continue\n",
    "            search_pairs(arr, target, i, j, quadruplets)\n",
    "    return quadruplets\n",
    "\n",
    "def search_pairs(arr, target_sum, first, second, quadruplets):\n",
    "    left = second + 1\n",
    "    right = len(arr) - 1\n",
    "    while (left < right):\n",
    "        quad_sum = arr[first] + arr[second] + arr[left] + arr[right]\n",
    "        if quad_sum == target_sum:  # found the quadruplet\n",
    "            quadruplets.append(\n",
    "                [arr[first], arr[second], arr[left], arr[right]])\n",
    "            left += 1\n",
    "            right -= 1\n",
    "            while (left < right and arr[left] == arr[left - 1]):\n",
    "                left += 1  # skip same element to avoid duplicate quadruplets\n",
    "            while (left < right and arr[right] == arr[right + 1]):\n",
    "                right -= 1  # skip same element to avoid duplicate quadruplets\n",
    "        elif quad_sum < target_sum:\n",
    "            left += 1  # we need a pair with a bigger sum\n",
    "        else:\n",
    "            right -= 1  # we need a pair with a smaller sum\n",
    "\n",
    "def main():\n",
    "    print(search_quadruplets([4, 1, 2, -1, 1, -3], 1))\n",
    "    print(search_quadruplets([2, 0, -1, 1, -2, 2], 2))\n",
    "    \n",
    "main()\n"
   ]
  },
  {
   "cell_type": "markdown",
   "metadata": {},
   "source": [
    "### Comparing Strings containing Backspaces (medium) # no idea how this works my brain is dead\n",
    "Given two strings containing backspaces (identified by the character ‘#’), check if the two strings are equal.\n",
    "\n",
    "Input: str1=\"xy#z\", str2=\"xzz#\"  \n",
    "Output: true  \n",
    "Explanation: After applying backspaces the strings become \"xz\" and \"xz\" respectively.  \n",
    "\n",
    "Input: str1=\"xy#z\", str2=\"xyz#\"  \n",
    "Output: false  \n",
    "Explanation: After applying backspaces the strings become \"xz\" and \"xy\" respectively."
   ]
  },
  {
   "cell_type": "code",
   "execution_count": 150,
   "metadata": {},
   "outputs": [
    {
     "name": "stdout",
     "output_type": "stream",
     "text": [
      "True\n",
      "False\n",
      "True\n",
      "True\n"
     ]
    }
   ],
   "source": [
    "def backspace_compare(str1, str2):\n",
    "  # use two pointer approach to compare the strings\n",
    "\n",
    "    index1 = len(str1) - 1\n",
    "    index2 = len(str2) - 1\n",
    "    while index1 >= 0 or index2 >= 0:\n",
    "        i1 = get_next_valid_char_index(str1, index1)\n",
    "        i2 = get_next_valid_char_index(str2, index2)\n",
    "        if i1 < 0 and i2 < 0:  # reached the end of both the strings\n",
    "            return True\n",
    "        if i1 < 0 or i2 < 0:  # reached the end of one of the strings\n",
    "            return False\n",
    "        if str1[i1] != str2[i2]:  # check if the characters are equal\n",
    "            return False\n",
    "\n",
    "        index1 = i1 - 1\n",
    "        index2 = i2 - 1\n",
    "\n",
    "    return True\n",
    "\n",
    "\n",
    "def get_next_valid_char_index(str, index):\n",
    "    backspace_count = 0\n",
    "    while index >= 0:\n",
    "        if str[index] == '#':  # found a backspace character\n",
    "            backspace_count += 1\n",
    "        elif backspace_count > 0:\n",
    "            # a non-backspace character\n",
    "            backspace_count -= 1\n",
    "        else:\n",
    "            break\n",
    "\n",
    "        index -= 1  # skip a backspace or a valid character\n",
    "\n",
    "    return index\n",
    "\n",
    "\n",
    "def main():\n",
    "    print(backspace_compare(\"xy#z\", \"xzz#\"))\n",
    "    print(backspace_compare(\"xy#z\", \"xyz#\"))\n",
    "    print(backspace_compare(\"xp#\", \"xyz##\"))\n",
    "    print(backspace_compare(\"xywrrmp\", \"xywrrmu#p\"))\n",
    "\n",
    "main()\n"
   ]
  },
  {
   "cell_type": "markdown",
   "metadata": {},
   "source": [
    "### Minimum Window Sort (medium) #\n",
    "Given an array, find the length of the smallest subarray in it which when sorted will sort the whole array.\n",
    "\n",
    "\n",
    "\n",
    "Input: [1, 2, 5, 3, 7, 10, 9, 12]  \n",
    "Output: 5  \n",
    "Explanation: We need to sort only the subarray [5, 3, 7, 10, 9] to make the whole array sorted\n",
    "\n",
    "Input: [1, 3, 2, 0, -1, 7, 10] \n",
    "Output: 5 \n",
    "Explanation: We need to sort only the subarray [1, 3, 2, 0, -1] to make the whole array sorted \n",
    "\n",
    "Input: [1, 2, 3] \n",
    "Output: 0 \n",
    "Explanation: The array is already sorted\n",
    "\n",
    "How!\n",
    "1. find first out of place element on begining and end of array\n",
    "2. find min max in subarray\n",
    "3. see if min and max is in sorted part\n",
    "4. done\n",
    "\n"
   ]
  },
  {
   "cell_type": "code",
   "execution_count": 154,
   "metadata": {},
   "outputs": [
    {
     "name": "stdout",
     "output_type": "stream",
     "text": [
      "5\n",
      "5\n",
      "0\n",
      "3\n"
     ]
    }
   ],
   "source": [
    "import math\n",
    "\n",
    "def shortest_window_sort(arr):\n",
    "    (low, high) = (0, len(arr) - 1)\n",
    "\n",
    "  # find the first number out of sorting order from the beginning\n",
    "    while low < len(arr) - 1 and arr[low] <= arr[low + 1]:\n",
    "        low += 1\n",
    "\n",
    "    if low == len(arr) - 1:  # if the array is sorted\n",
    "        return 0\n",
    "\n",
    "  # find the first number out of sorting order from the end\n",
    "    while high > 0 and arr[high] >= arr[high - 1]:\n",
    "        high -= 1\n",
    "\n",
    "  # find the maximum and minimum of the subarray\n",
    "    subarray_max = -math.inf\n",
    "    subarray_min = math.inf\n",
    "    for k in range(low, high + 1):\n",
    "        subarray_max = max(subarray_max, arr[k])\n",
    "        subarray_min = min(subarray_min, arr[k])\n",
    "\n",
    "  # extend the subarray to include any number which is bigger than the minimum of the subarray\n",
    "    while low > 0 and arr[low - 1] > subarray_min:\n",
    "        low -= 1\n",
    "\n",
    "  # extend the subarray to include any number which is smaller than the maximum of the subarray\n",
    "    while high < len(arr) - 1 and arr[high + 1] < subarray_max:\n",
    "        high += 1\n",
    "\n",
    "    return high - low + 1\n",
    "\n",
    "def main():\n",
    "    print(shortest_window_sort([1, 2, 5, 3, 7, 10, 9, 12]))\n",
    "    print(shortest_window_sort([1, 3, 2, 0, -1, 7, 10]))\n",
    "    print(shortest_window_sort([1, 2, 3]))\n",
    "    print(shortest_window_sort([3, 2, 1]))\n",
    "main()"
   ]
  },
  {
   "cell_type": "code",
   "execution_count": null,
   "metadata": {},
   "outputs": [],
   "source": []
  }
 ],
 "metadata": {
  "kernelspec": {
   "display_name": "Python 3.7.5 64-bit ('p37': conda)",
   "language": "python",
   "name": "python37564bitp37conda2b1eeea87ee044609be89b011a3e6682"
  },
  "language_info": {
   "codemirror_mode": {
    "name": "ipython",
    "version": 3
   },
   "file_extension": ".py",
   "mimetype": "text/x-python",
   "name": "python",
   "nbconvert_exporter": "python",
   "pygments_lexer": "ipython3",
   "version": "3.7.5"
  }
 },
 "nbformat": 4,
 "nbformat_minor": 4
}
