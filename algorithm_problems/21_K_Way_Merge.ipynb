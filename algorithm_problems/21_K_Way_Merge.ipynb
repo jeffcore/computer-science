{
 "cells": [
  {
   "cell_type": "markdown",
   "metadata": {},
   "source": [
    "# K Way Merge\n",
    "This pattern helps us solve problems that involve a list of sorted arrays.\n",
    "\n",
    "Whenever we are given ‘K’ sorted arrays, we can use a Heap to efficiently perform a sorted traversal of all the elements of all arrays. We can push the smallest (first) element of each sorted array in a Min Heap to get the overall minimum. While inserting elements to the Min Heap we keep track of which array the element came from. We can, then, remove the top element from the heap to get the smallest element and push the next element from the same array, to which this smallest element belonged, to the heap. We can repeat this process to make a sorted traversal of all elements."
   ]
  },
  {
   "cell_type": "markdown",
   "metadata": {},
   "source": [
    "## Merge K Sorted Lists (medium)\n",
    "Given an array of ‘K’ sorted LinkedLists, merge them into one sorted list.\n",
    "\n",
    "Input: L1=[2, 6, 8], L2=[3, 6, 7], L3=[1, 3, 4]  \n",
    "Output: [1, 2, 3, 3, 4, 6, 6, 7, 8]  \n",
    "\n",
    "\n",
    "Input: L1=[5, 8, 9], L2=[1, 7]  \n",
    "Output: [1, 5, 7, 8, 9]  "
   ]
  },
  {
   "cell_type": "code",
   "execution_count": 8,
   "metadata": {},
   "outputs": [
    {
     "name": "stdout",
     "output_type": "stream",
     "text": [
      "[value 1, value 3, value 2]\n",
      "Here are the elements form the merged list: 1 2 3 3 4 6 6 7 8 "
     ]
    }
   ],
   "source": [
    "from __future__ import print_function\n",
    "from heapq import *\n",
    "\n",
    "\n",
    "class ListNode:\n",
    "    def __init__(self, value):\n",
    "        self.value = value\n",
    "        self.next = None\n",
    "    def __lt__(self, other):\n",
    "        return self.value < other.value\n",
    "    def __repr__(self):\n",
    "        return f'value {self.value}'\n",
    "\n",
    "def merge_lists(lists):\n",
    "    \n",
    "  \n",
    "    min_heap = [] \n",
    "    \n",
    "    \n",
    "    for root in lists:\n",
    "        if root is not None:\n",
    "            heappush(min_heap, root)\n",
    "    print(min_heap)    \n",
    "    result_head = None\n",
    "    result_tail = None\n",
    "    \n",
    "    while min_heap:\n",
    "        \n",
    "        node = heappop(min_heap)\n",
    "        \n",
    "        if result_head is None:\n",
    "            result_head = result_tail = node            \n",
    "        else:\n",
    "            result_tail.next = node\n",
    "            result_tail = result_tail.next\n",
    "        \n",
    "        if node.next is not None:\n",
    "            heappush(min_heap, node.next)\n",
    "        \n",
    "    return result_head\n",
    "\n",
    "l1 = ListNode(2)\n",
    "l1.next = ListNode(6)\n",
    "l1.next.next = ListNode(8)\n",
    "\n",
    "l2 = ListNode(3)\n",
    "l2.next = ListNode(6)\n",
    "l2.next.next = ListNode(7)\n",
    "\n",
    "l3 = ListNode(1)\n",
    "l3.next = ListNode(3)\n",
    "l3.next.next = ListNode(4)\n",
    "\n",
    "result = merge_lists([l1, l2, l3])\n",
    "print(\"Here are the elements form the merged list: \", end='')\n",
    "while result != None:\n",
    "    print(str(result.value) + \" \", end='')\n",
    "    result = result.next\n"
   ]
  },
  {
   "cell_type": "code",
   "execution_count": null,
   "metadata": {},
   "outputs": [],
   "source": [
    "from __future__ import print_function\n",
    "from heapq import *\n",
    "\n",
    "\n",
    "class ListNode:\n",
    "  def __init__(self, value):\n",
    "    self.value = value\n",
    "    self.next = None\n",
    "\n",
    "  # used for the min-heap\n",
    "  def __lt__(self, other):\n",
    "    return self.value < other.value\n",
    "\n",
    "\n",
    "def merge_lists(lists):\n",
    "  minHeap = []\n",
    "\n",
    "  # put the root of each list in the min heap\n",
    "  for root in lists:\n",
    "    if root is not None:\n",
    "      heappush(minHeap, root)\n",
    "\n",
    "  # take the smallest(top) element form the min-heap and add it to the result\n",
    "  # if the top element has a next element add it to the heap\n",
    "  resultHead, resultTail = None, None\n",
    "  while minHeap:\n",
    "    node = heappop(minHeap)\n",
    "    if resultHead is None:\n",
    "      resultHead = resultTail = node\n",
    "    else:\n",
    "      resultTail.next = node\n",
    "      resultTail = resultTail.next\n",
    "\n",
    "    if node.next is not None:\n",
    "      heappush(minHeap, node.next)\n",
    "\n",
    "  return resultHead\n",
    "\n",
    "\n",
    "def main():\n",
    "  l1 = ListNode(2)\n",
    "  l1.next = ListNode(6)\n",
    "  l1.next.next = ListNode(8)\n",
    "\n",
    "  l2 = ListNode(3)\n",
    "  l2.next = ListNode(6)\n",
    "  l2.next.next = ListNode(7)\n",
    "\n",
    "  l3 = ListNode(1)\n",
    "  l3.next = ListNode(3)\n",
    "  l3.next.next = ListNode(4)\n",
    "\n",
    "  result = merge_lists([l1, l2, l3])\n",
    "  print(\"Here are the elements form the merged list: \", end='')\n",
    "  while result is not None:\n",
    "    print(str(result.value) + \" \", end='')\n",
    "    result = result.next\n",
    "\n",
    "\n",
    "main()\n"
   ]
  },
  {
   "cell_type": "markdown",
   "metadata": {},
   "source": [
    "## Kth Smallest Number in M Sorted Lists (Medium)\n",
    "Given ‘M’ sorted arrays, find the K’th smallest number among all the arrays.\n",
    "\n",
    "Example 1:\n",
    "\n",
    "Input: L1=[2, 6, 8], L2=[3, 6, 7], L3=[1, 3, 4], K=5  \n",
    "Output: 4  \n",
    "Explanation: The 5th smallest number among all the arrays is 4, this can be verified from the merged \n",
    "list of all the arrays: [1, 2, 3, 3, 4, 6, 6, 7, 8]  \n",
    "\n",
    "\n",
    "Input: L1=[5, 8, 9], L2=[1, 7], K=3  \n",
    "Output: 7  \n",
    "Explanation: The 3rd smallest number among all the arrays is 7."
   ]
  },
  {
   "cell_type": "code",
   "execution_count": 13,
   "metadata": {},
   "outputs": [
    {
     "name": "stdout",
     "output_type": "stream",
     "text": [
      "Kth smallest number is: 4\n"
     ]
    }
   ],
   "source": [
    "def find_Kth_smallest(lists, k):\n",
    "    number = -1\n",
    "    # TODO: Write your code here\n",
    "    min_heap = []\n",
    "    \n",
    "    for i in range(len(lists)):\n",
    "        heappush(min_heap, (lists[i][0], 0, lists[i]))\n",
    "    \n",
    "    number_count = 0\n",
    "    number = 0\n",
    "    \n",
    "    while min_heap:\n",
    "        number, i, nums = heappop(min_heap)\n",
    "        number_count += 1\n",
    "        if number_count == k:\n",
    "            break\n",
    "        \n",
    "        if len(nums) > i + 1:\n",
    "            heappush(min_heap, (nums[i+1], i + 1, nums))\n",
    "    \n",
    "    return number\n",
    "    \n",
    "def main():\n",
    "  print(\"Kth smallest number is: \" +\n",
    "        str(find_Kth_smallest([[2, 6, 8], [3, 6, 7], [1, 3, 4]], 5)))\n",
    "\n",
    "\n",
    "main()\n"
   ]
  },
  {
   "cell_type": "markdown",
   "metadata": {},
   "source": [
    "### Given ‘M’ sorted arrays, find the median number among all arrays.\n",
    "\n",
    "Solution: This problem is similar to our parent problem with K=Median. So if there are ‘N’ total numbers in all the arrays we need to find the K’th minimum number where K=N/2K=N/2.\n",
    "\n",
    "Problem 2: Given a list of ‘K’ sorted arrays, merge them i"
   ]
  },
  {
   "cell_type": "code",
   "execution_count": 16,
   "metadata": {},
   "outputs": [
    {
     "name": "stdout",
     "output_type": "stream",
     "text": [
      "Kth smallest number is: 3\n"
     ]
    }
   ],
   "source": [
    "def find_median(lists):\n",
    "    number = -1\n",
    "    # TODO: Write your code here\n",
    "    min_heap = []\n",
    "    total_length = 0\n",
    "    for i in range(len(lists)):\n",
    "        heappush(min_heap, (lists[i][0], 0, lists[i]))\n",
    "        total_length += len(lists[i])\n",
    "    \n",
    "    k = total_length // 2\n",
    "    \n",
    "    number_count = 0\n",
    "    number = 0\n",
    "    \n",
    "    while min_heap:\n",
    "        number, i, nums = heappop(min_heap)\n",
    "        number_count += 1\n",
    "        if number_count == k:\n",
    "            break\n",
    "        \n",
    "        if len(nums) > i + 1:\n",
    "            heappush(min_heap, (nums[i+1], i + 1, nums))\n",
    "    \n",
    "    return number\n",
    "    \n",
    "def main():\n",
    "  print(\"Kth smallest number is: \" +\n",
    "        str(find_median([[2, 6, 8], [3, 6, 7], [1, 3, 4]])))\n",
    "\n",
    "\n",
    "main()"
   ]
  },
  {
   "cell_type": "markdown",
   "metadata": {},
   "source": [
    "## Given a list of ‘K’ sorted arrays, merge them into one sorted list.\n",
    "\n",
    "Solution: This problem is similar to Merge K Sorted Lists except that the input is a list of arrays compared to LinkedLists. To handle this, we can use a similar approach as discussed in our parent problem by keeping a track of the array and the element indices."
   ]
  },
  {
   "cell_type": "code",
   "execution_count": null,
   "metadata": {},
   "outputs": [],
   "source": [
    "def merge_arrays(lists):\n",
    "  \n",
    "\n",
    "  return resultHead\n",
    "\n"
   ]
  },
  {
   "cell_type": "markdown",
   "metadata": {},
   "source": [
    "## Kth Smallest Number in a Sorted Matrix (Hard)\n",
    "Input: Matrix=[  \n",
    "    [2, 6, 8],   \n",
    "    [3, 7, 10],  \n",
    "    [5, 8, 11]  \n",
    "  ],   \n",
    "  K=5  \n",
    "Output: 7  \n",
    "Explanation: The 5th smallest number in the matrix is 7.  \n"
   ]
  },
  {
   "cell_type": "code",
   "execution_count": 18,
   "metadata": {},
   "outputs": [
    {
     "name": "stdout",
     "output_type": "stream",
     "text": [
      "Kth smallest number is: 7\n"
     ]
    }
   ],
   "source": [
    "from heapq import *\n",
    "\n",
    "\n",
    "def find_Kth_smallest(matrix, k):\n",
    "    minHeap = []\n",
    "\n",
    "    # put the 1st element of each row in the min heap\n",
    "    # we don't need to push more than 'k' elements in the heap\n",
    "    for i in range(min(k, len(matrix))):\n",
    "        heappush(minHeap, (matrix[i][0], 0, matrix[i]))\n",
    "\n",
    "    # take the smallest(top) element form the min heap, if the running count is equal to k' return the number\n",
    "    # if the row of the top element has more elements, add the next element to the heap\n",
    "    numberCount, number = 0, 0\n",
    "    while minHeap:\n",
    "        number, i, row = heappop(minHeap)\n",
    "        numberCount += 1\n",
    "        if numberCount == k:\n",
    "            break\n",
    "        if len(row) > i+1:\n",
    "            heappush(minHeap, (row[i+1], i+1, row))\n",
    "    return number\n",
    "\n",
    "\n",
    "def main():\n",
    "    print(\"Kth smallest number is: \" +\n",
    "          str(find_Kth_smallest([[2, 6, 8], [3, 7, 10], [5, 8, 11]], 5)))\n",
    "\n",
    "\n",
    "main()\n"
   ]
  },
  {
   "cell_type": "code",
   "execution_count": 19,
   "metadata": {},
   "outputs": [
    {
     "name": "stdout",
     "output_type": "stream",
     "text": [
      "Kth smallest number is: 2\n",
      "Kth smallest number is: -5\n",
      "Kth smallest number is: 7\n",
      "Kth smallest number is: 13\n"
     ]
    }
   ],
   "source": [
    "def find_Kth_smallest(matrix, k):\n",
    "  n = len(matrix)\n",
    "  start, end = matrix[0][0], matrix[n - 1][n - 1]\n",
    "  while start < end:\n",
    "    mid = start + (end - start) / 2\n",
    "    smaller, larger = (matrix[0][0], matrix[n - 1][n - 1])\n",
    "\n",
    "    count, smaller, larger = count_less_equal(matrix, mid, smaller, larger)\n",
    "\n",
    "    if count == k:\n",
    "      return smaller\n",
    "    if count < k:\n",
    "      start = larger  # search higher\n",
    "    else:\n",
    "      end = smaller  # search lower\n",
    "\n",
    "  return start\n",
    "  \n",
    "\n",
    "def count_less_equal(matrix, mid, smaller, larger):\n",
    "  count, n = 0, len(matrix)\n",
    "  row, col = n - 1, 0\n",
    "  while row >= 0 and col < n:\n",
    "    if matrix[row][col] > mid:\n",
    "      # as matrix[row][col] is bigger than the mid, let's keep track of the\n",
    "      # smallest number greater than the mid\n",
    "      larger = min(larger, matrix[row][col])\n",
    "      row -= 1\n",
    "    else:\n",
    "      # as matrix[row][col] is less than or equal to the mid, let's keep track of the\n",
    "      # biggest number less than or equal to the mid\n",
    "      smaller = max(smaller, matrix[row][col])\n",
    "      count += row + 1\n",
    "      col += 1\n",
    "\n",
    "  return count, smaller, larger\n",
    "\n",
    "\n",
    "def main():\n",
    "  print(\"Kth smallest number is: \" +\n",
    "        str(find_Kth_smallest([[1, 4], [2, 5]], 2)))\n",
    "\n",
    "  print(\"Kth smallest number is: \" +\n",
    "        str(find_Kth_smallest([[-5]], 1)))\n",
    "\n",
    "  print(\"Kth smallest number is: \" +\n",
    "        str(find_Kth_smallest([[2, 6, 8], [3, 7, 10], [5, 8, 11]], 5)))\n",
    "\n",
    "  print(\"Kth smallest number is: \" +\n",
    "        str(find_Kth_smallest([[1, 5, 9], [10, 11, 13], [12, 13, 15]], 8)))\n",
    "\n",
    "\n",
    "main()"
   ]
  },
  {
   "cell_type": "markdown",
   "metadata": {},
   "source": [
    "## Smallest Number Range (Hard)\n",
    "\n",
    "Given ‘M’ sorted arrays, find the smallest range that includes at least one number from each of the ‘M’ lists.\n",
    "\n",
    "Input: L1=[1, 5, 8], L2=[4, 12], L3=[7, 8, 10]  \n",
    "Output: [4, 7]  \n",
    "Explanation: The range [4, 7] includes 5 from L1, 4 from L2 and 7 from L3.\n",
    "\n",
    "Input: L1=[1, 9], L2=[4, 12], L3=[7, 10, 16]  \n",
    "Output: [9, 12]  \n",
    "Explanation: The range [9, 12] includes 9 from L1, 12 from L2 and 10 from L3."
   ]
  },
  {
   "cell_type": "code",
   "execution_count": 20,
   "metadata": {},
   "outputs": [
    {
     "name": "stdout",
     "output_type": "stream",
     "text": [
      "Smallest range is: [4, 7]\n"
     ]
    }
   ],
   "source": [
    "from heapq import *\n",
    "import math\n",
    "\n",
    "def find_smallest_range(lists):\n",
    "    minHeap = []\n",
    "    rangeStart, rangeEnd = 0, math.inf\n",
    "    currentMaxNumber = -math.inf\n",
    "\n",
    "    # put the 1st element of each array in the max heap\n",
    "    for arr in lists:\n",
    "        heappush(minHeap, (arr[0], 0, arr))\n",
    "        currentMaxNumber = max(currentMaxNumber, arr[0])\n",
    "\n",
    "    # take the smallest(top) element form the min heap, if it gives us smaller range, update the ranges\n",
    "    # if the array of the top element has more elements, insert the next element in the heap\n",
    "    while len(minHeap) == len(lists):\n",
    "        num, i, arr = heappop(minHeap)\n",
    "        if rangeEnd - rangeStart > currentMaxNumber - num:\n",
    "            rangeStart = num\n",
    "            rangeEnd = currentMaxNumber\n",
    "\n",
    "        if len(arr) > i+1:\n",
    "            # insert the next element in the heap\n",
    "            heappush(minHeap, (arr[i+1], i+1, arr))\n",
    "            currentMaxNumber = max(currentMaxNumber, arr[i+1])\n",
    "\n",
    "    return [rangeStart, rangeEnd]\n",
    "\n",
    "print(\"Smallest range is: \" +\n",
    "        str(find_smallest_range([[1, 5, 8], [4, 12], [7, 8, 10]])))"
   ]
  },
  {
   "cell_type": "code",
   "execution_count": null,
   "metadata": {},
   "outputs": [],
   "source": []
  }
 ],
 "metadata": {
  "kernelspec": {
   "display_name": "Python 3.7.5 64-bit ('p37': conda)",
   "language": "python",
   "name": "python37564bitp37conda2b1eeea87ee044609be89b011a3e6682"
  },
  "language_info": {
   "codemirror_mode": {
    "name": "ipython",
    "version": 3
   },
   "file_extension": ".py",
   "mimetype": "text/x-python",
   "name": "python",
   "nbconvert_exporter": "python",
   "pygments_lexer": "ipython3",
   "version": "3.7.5"
  }
 },
 "nbformat": 4,
 "nbformat_minor": 4
}
