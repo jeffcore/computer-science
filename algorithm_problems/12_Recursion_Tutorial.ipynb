{
 "cells": [
  {
   "cell_type": "markdown",
   "metadata": {},
   "source": [
    "# Recursion Tutorial\n",
    "1. Base Case: Have a base case that ends recursive calls2. \n",
    "3. Inductive Step: must change its state and move toward the base case\n",
    "    * how does the algorithms build up the solution\n",
    "3. Function calls itself\n",
    "\n",
    "The power is always in the returning of the functions on the call stack\n",
    "Python has a limit on the depth of recursion to prevent a stack overflow. \n",
    "https://stackoverflow.com/questions/30214531/basics-of-recursion-in-python\n",
    "https://medium.com/@mich_berr/demystifying-recursion-38f569b52335\n",
    "\n",
    "## When to use recursion\n",
    "* Recursion is useful for problems that are difficult to solve when using the iterative solution.\n",
    "* Problem Breaks Down Into Smaller Similar Subproblems\n",
    "* Problem Requires an Arbitrary Number of Nested Loops \n",
    "    * If you know the number of loops that need to be nested, use the iterative approach. If you do not know the number of loops that need to be nested, use the recursive method.\n",
    "* for example, use recursion when iterating through a graph or a tree, finding all permutations of a string, etc.\n",
    "\n",
    "## How to analyze\n",
    "* data prep before recursive call\n",
    "* what is the base case\n",
    "* use of recursive call\n",
    "* is processing/data manipulation done top-down or bottom-up recursive call\n",
    "    * before or after recursive call\n",
    "* what is the returned data of recursive call or is it a global variable\n",
    "\n",
    "## How to solve Recursion Problems\n",
    "1. what kind of recursion problems is this?\n",
    "2. what is the base case?\n",
    "3. do we need variables for post recursive call\n",
    "4. what data structures do we need to hold output during each call\n",
    "4. how many recursive calls do we need?\n",
    "5. what parameters for recursive calls?\n",
    "7. what does recursive call do?\n",
    "8. algorithms for after recusive call data manipulation before output\n",
    "9. what is the output\n",
    "\n",
    "## To Do \n",
    "* Add max subarray"
   ]
  },
  {
   "cell_type": "markdown",
   "metadata": {},
   "source": [
    "# Patterns\n",
    "## Single Recursion aka Linear Recursion\n",
    "1. [Linear Recursion - Iteration](#iteration)\n",
    "    1. Tail and Head Recursion\n",
    "    2. Subpatterns : build-up, return value, accumulation\n",
    "    3. [One Recursive Call - One Parameter](#linear1)   \n",
    "    4. [One Recursive Call - Conditionals on Recursive Call - One Parameter - Variable is mutated ](#linear3)    \n",
    "    5. [One Recursive Call - One Parameter - One Costant](#linear4)\n",
    "    6. [One Recursive Call - One Parameter -  Parameter used Twice in Calculation](#linear5)\n",
    "    3. [One Recursive Call - Multiple Parameters](#linear2)\n",
    "    7. [One Recursive Call - Multiple Parameters - Conditional on recusive call](#linear6)\n",
    "\n",
    "    \n",
    "##  Multiple Recursion - Tree Recursion\n",
    "1. [Breaking into Subproblems](#subproblems)\n",
    "    2. recursive tree - two recursive call - one variable TREE\n",
    "2. [Permutations (Ordering)](#permuatations)\n",
    "3. [Combinations (Selections)](#combinations)\n",
    "4. [Divide and Conquer](#dandc)\n",
    "5. [Searching](#searching)\n",
    "6. [Depth First Search DFS](#dfs)\n",
    "7. [Backtracking](#backtracking)\n",
    "\n",
    "##  Other Types\n",
    "1. Indirect Recursion - function1 calls function 2 , then function2 calls function 1 - confusing as hell\n",
    "2. Nested Recursion\n",
    "3. Caching the Results - Dynamic Programming - Fib with cache\n",
    "3. Misc"
   ]
  },
  {
   "cell_type": "markdown",
   "metadata": {},
   "source": [
    "### Byte By Byte Patterns\n",
    "##### Iterations \n",
    "\n",
    "##### Breaking INto SUbproblems\n",
    "\n",
    "##### Selection (combinations)\n",
    "* problems that can be solved by finding al valid combinations\n",
    "* optimize by validating as we go/backtracking\n",
    "* examples\n",
    "    * knapsack problem\n",
    "    * work break\n",
    "    * phonespell\n",
    "    * n queens\n",
    "\n",
    "##### Ordering (permutations)\n",
    "* similar to selection except order matters\n",
    "* examples\n",
    "    * find all permutaation of inputs\n",
    "    * find all n digit numbers whose digits sum to a specific value\n",
    "    * word squares\n",
    "    \n",
    "##### Divide and Conquer\n",
    "\n",
    "##### Depth First Search\n",
    "* trees and graphs\n",
    "* examples\n",
    "    * search in a tree\n",
    "    * probability of a knight on a chessboard\n",
    "    * "
   ]
  },
  {
   "cell_type": "markdown",
   "metadata": {},
   "source": [
    "<a id='iteration'></a>\n",
    "## Linear Recursion - Single Recursion - Iteration\n",
    "* anytime you would use a for loop\n",
    "* iterate over an array /list using recursion\n",
    "* rarely useful except for simplifiying code\n",
    "* example\n",
    "    * print linked list in reverse order\n",
    "    * factorial    \n",
    "* Recursion that only contains a single self-reference\n",
    "* Single recursion is often much more efficient than multiple recursion, and can generally be replaced by an iterative computation, running in linear time and requiring constant space.\n",
    "* iterate over array/list using recursion\n",
    "* rarely useful except to simplify code\n",
    "* can replace for loop with recursive calls\n",
    "\n",
    "These are basic problems where:\n",
    "1. you have variable being passed to recursive funtion\n",
    "2. it is changed everytime it is called\n",
    "3. then you do something with the variable during the call\n",
    "\n",
    "The trick:\n",
    "1. depending on where you put the \"do something with variable\" decides in which order it is printed out\n",
    "2. examples below - before recursive call it prints in order of process\n",
    "                    after recursive call it prints in reverse"
   ]
  },
  {
   "cell_type": "markdown",
   "metadata": {},
   "source": [
    "## Sub-Patterns\n"
   ]
  },
  {
   "cell_type": "markdown",
   "metadata": {},
   "source": [
    "### Tail Recursion\n",
    "If the recursive call occurs at the end of a method, it is called a tail recursion. The tail recursion is similar to a loop. The method executes all the statements before jumping into the next recursive call.\n",
    "\n",
    "A recursive function is tail recursive when recursive call is the last thing executed by the function.\n",
    "\n",
    "The tail recursive functions considered better than non tail recursive functions as tail-recursion can be optimized by compiler\n",
    "\n",
    "\n",
    "```\n",
    "public void tail(int n)                 public void head(int n)\n",
    "{                                       {\n",
    "   if(n == 1)                             if(n == 0)\n",
    "      return;                                return;\n",
    "   else                                   else\n",
    "      System.out.println(n);                 head(n-1);\n",
    "\n",
    "   tail(n-1);                              System.out.println(n);\n",
    "}\n",
    "```"
   ]
  },
  {
   "cell_type": "markdown",
   "metadata": {},
   "source": [
    "### Head Recursion\n",
    "\n",
    "If the recursive call occurs at the beginning of a method, it is called a head recursion. The method saves the state before jumping into the next recursive call. Compare these:\n",
    "```\n",
    "public void tail(int n)                 public void head(int n)\n",
    "{                                       {\n",
    "   if(n == 1)                             if(n == 0)\n",
    "      return;                                return;\n",
    "   else                                   else\n",
    "      System.out.println(n);                 head(n-1);\n",
    "\n",
    "   tail(n-1);                              System.out.println(n);\n",
    "}\n",
    "```"
   ]
  },
  {
   "cell_type": "markdown",
   "metadata": {},
   "source": [
    "#### Pattern 1: The result is built-up in the return statement\n",
    "The first solution works by adding the count, along with the sliced list, in the return statement. Essentially, it adds 1 every time we recurse, and we recurse n-times.\n",
    "\n",
    "If our list was [1, 2, 3], our function calls would look like this:  \n",
    "1 + [2, 3]  \n",
    "1 + 1 + [3]  \n",
    "1 + 1 + 1 + []  \n",
    "1 + 1 + 1 + 0  "
   ]
  },
  {
   "cell_type": "code",
   "execution_count": 70,
   "metadata": {},
   "outputs": [],
   "source": [
    "# Solution 1\n",
    "def count_rec1(lst):\n",
    "    if not lst:\n",
    "        return 0\n",
    "    return 1 + count_rec1(lst[1:])\n"
   ]
  },
  {
   "cell_type": "markdown",
   "metadata": {},
   "source": [
    "#### Pattern 2: The return value is a function argument\n",
    "In solution 2, we pass the thing we want to return — the count variable — as an argument to our function. This pattern is an example of something called tail recursion, and this argument has a special name, the accumulator. What distinguishes tail recursion from traditional recursion, is that the final function-call contains everything that’s needed to make the final return statement. In this example, we return the value of the count variable at the last call, and we disregard values from the previous function calls. Accumulator variables are common in tail recursive solutions, but they are not strictly necessary."
   ]
  },
  {
   "cell_type": "code",
   "execution_count": 68,
   "metadata": {},
   "outputs": [],
   "source": [
    "# Solution 2\n",
    "def count_rec2(lst, count=0):\n",
    "    if not lst:\n",
    "        return count\n",
    "    return count_rec2(lst[1:], count+1)"
   ]
  },
  {
   "cell_type": "markdown",
   "metadata": {},
   "source": [
    "#### Pattern 3: Accumulate the count in a variable, aka WTF???\n",
    "This particular pattern is a real mind-bender. Doesn’t the count variable get reset to 1 every time you call the function? Yes, yes it does. But herein lies the magic of recursion. Every recursive call is a separate function call, and as such, it maintains its own set of local variables. This means that for the list [1, 2, 3], there are three different frames on the call stack, each with a variable called count, set to the value of 1. When we reach our base case, we return zero. Then, our function at the top of the stack returns 1 to the previous function and so on, until all of the counts have accumulated into our count variable from our first function call. "
   ]
  },
  {
   "cell_type": "code",
   "execution_count": 69,
   "metadata": {},
   "outputs": [],
   "source": [
    "# Solution 3\n",
    "def count_rec3(lst):\n",
    "    if not lst:\n",
    "        return 0\n",
    "    count = 1\n",
    "    count += count_rec3(lst[1:])\n",
    "    return count"
   ]
  },
  {
   "cell_type": "markdown",
   "metadata": {},
   "source": [
    "<a id='linear1'></a>\n",
    "### One Recursive call - One Parameter\n",
    "these problems only deal with:\n",
    "1. only one variable that is altered\n",
    "2. outputs the variable in some way usually print or add to another array\n",
    "\n",
    "Since these problems only have one recursive call there is not a tree structure generated. It just adds the function calls to the call stack"
   ]
  },
  {
   "cell_type": "code",
   "execution_count": 2,
   "metadata": {},
   "outputs": [
    {
     "name": "stdout",
     "output_type": "stream",
     "text": [
      "5\n",
      "4\n",
      "3\n",
      "2\n",
      "1\n"
     ]
    }
   ],
   "source": [
    "def print_integers(n):\n",
    "    if n <= 0:\n",
    "        return \n",
    "    print(n)\n",
    "    print_integers(n-1)\n",
    "\n",
    "print_integers(5)"
   ]
  },
  {
   "cell_type": "code",
   "execution_count": 4,
   "metadata": {},
   "outputs": [
    {
     "name": "stdout",
     "output_type": "stream",
     "text": [
      "1\n",
      "2\n",
      "3\n",
      "4\n"
     ]
    }
   ],
   "source": [
    "# in reverse\n",
    "def print_integers_reversed(n):   \n",
    "    if n <= 0:\n",
    "        return \n",
    "\n",
    "    print_integers_reversed(n-1)       \n",
    "    print(n)\n",
    "\n",
    "print_integers_reversed(4)   "
   ]
  },
  {
   "cell_type": "markdown",
   "metadata": {},
   "source": [
    "#### Print Array Reversed\n",
    "in this code we have to \n",
    "1. store the element we wanted to print\n",
    "2. then print it after the recursive call \n",
    "3. the recursive call alters the array"
   ]
  },
  {
   "cell_type": "code",
   "execution_count": 7,
   "metadata": {},
   "outputs": [
    {
     "name": "stdout",
     "output_type": "stream",
     "text": [
      "5\n",
      "4\n",
      "3\n",
      "2\n",
      "1\n"
     ]
    }
   ],
   "source": [
    "## print array\n",
    "def print_array_reverse(arr):\n",
    "    if len(arr) == 0:\n",
    "        return\n",
    "    element = arr[0]\n",
    "    print_array_reverse(arr[1:])\n",
    "    print(str(element))\n",
    "    \n",
    "print_array_reverse([1,2,3,4,5])"
   ]
  },
  {
   "cell_type": "code",
   "execution_count": 12,
   "metadata": {},
   "outputs": [
    {
     "name": "stdout",
     "output_type": "stream",
     "text": [
      "10\n",
      "5\n",
      "0\n",
      "5\n",
      "10\n"
     ]
    }
   ],
   "source": [
    "# using both \n",
    "def printPattern(targetNumber) :\n",
    "  \n",
    "  if (targetNumber <= 0) :\n",
    "    print(targetNumber)\n",
    "    return\n",
    "\n",
    "  print(targetNumber)\n",
    "  printPattern(targetNumber - 5)\n",
    "  print(targetNumber)\n",
    "\n",
    "# Driver Program \n",
    "n = 10\n",
    "printPattern(n)"
   ]
  },
  {
   "cell_type": "markdown",
   "metadata": {},
   "source": [
    "#### Print Linked List Reversed\n",
    "this uses the same pattern as the above"
   ]
  },
  {
   "cell_type": "code",
   "execution_count": 13,
   "metadata": {},
   "outputs": [
    {
     "name": "stdout",
     "output_type": "stream",
     "text": [
      "6\n",
      "5\n",
      "4\n",
      "3\n",
      "2\n",
      "1\n"
     ]
    }
   ],
   "source": [
    "class Node():\n",
    "    def __init__(self, value):\n",
    "        self.data = value\n",
    "        self.next = None\n",
    "        \n",
    "class LinkedList():\n",
    "    def __init__(self, node=None):\n",
    "        self.head = node        \n",
    "    \n",
    "    def add(self, node):\n",
    "        node.next = self.head\n",
    "        self.head = node\n",
    "        \n",
    "    def append(self, node):\n",
    "        if not self.head:\n",
    "            self.head = node\n",
    "            return\n",
    "        current = self.head\n",
    "        while current.next:\n",
    "            current = current.next\n",
    "        current.next = node\n",
    "            \n",
    "linklist = LinkedList()\n",
    "linklist.append(Node('1'))\n",
    "linklist.append(Node('2'))\n",
    "linklist.append(Node('3'))\n",
    "linklist.append(Node('4'))\n",
    "linklist.append(Node('5'))\n",
    "linklist.append(Node('6'))\n",
    "\n",
    "def print_reversed_linked_list(node):\n",
    "    if node == None:\n",
    "        return\n",
    "    print_reversed_linked_list(node.next)\n",
    "    print(node.data)\n",
    "\n",
    "print_reversed_linked_list(linklist.head)"
   ]
  },
  {
   "cell_type": "markdown",
   "metadata": {},
   "source": [
    "**Pascal Triangle**\n",
    "builds up entire  tree with recursion, pretty cool"
   ]
  },
  {
   "cell_type": "code",
   "execution_count": 40,
   "metadata": {},
   "outputs": [
    {
     "name": "stdout",
     "output_type": "stream",
     "text": [
      "[1, 5, 10, 10, 5, 1]\n"
     ]
    }
   ],
   "source": [
    "def printPascal(testVariable) :\n",
    "    # Base Case\n",
    "    if testVariable == 0 :\n",
    "        return [1]\n",
    "\n",
    "    else :\n",
    "        line = [1]\n",
    "\n",
    "        # Recursive Case\n",
    "        previousLine = printPascal(testVariable - 1)\n",
    "        for i in range(len(previousLine) - 1):\n",
    "            line.append(previousLine[i] + previousLine[i + 1])\n",
    "        line += [1]\n",
    "    return line\n",
    "\n",
    "# Driver Code\n",
    "testVariable = 5\n",
    "print(printPascal(testVariable))"
   ]
  },
  {
   "cell_type": "markdown",
   "metadata": {},
   "source": [
    "<a id=\"linear3\"></a>\n",
    "### Conditionals - One Recursive Call - One Paramter - Variable is mutated \n",
    "* mutated into one or more other variables and use for a contition"
   ]
  },
  {
   "cell_type": "markdown",
   "metadata": {},
   "source": [
    " **is paladrome**\n",
    " * this mutates the array into two variables `first_char` and `last_char`\n",
    " * then uses these variables in a condition \n",
    " * if it ever become false it will bubble false up the entire stack"
   ]
  },
  {
   "cell_type": "code",
   "execution_count": 45,
   "metadata": {},
   "outputs": [
    {
     "name": "stdout",
     "output_type": "stream",
     "text": [
      "Pass\n",
      "Pass\n",
      "Pass\n",
      "Pass\n",
      "Pass\n"
     ]
    }
   ],
   "source": [
    "def is_palindrome(input):\n",
    "    \"\"\"\n",
    "    Return True if input is palindrome, False otherwise.\n",
    "    \n",
    "    Args:\n",
    "       input(str): input to be checked if it is palindrome\n",
    "    \"\"\"\n",
    "    if len(input) <= 0:\n",
    "        return True\n",
    "    \n",
    "    first_char = input[0]\n",
    "    last_char = input[-1]\n",
    " \n",
    "    return (first_char == last_char) and is_palindrome(input[1:-1])\n",
    "\n",
    "print (\"Pass\" if  (is_palindrome(\"\")) else \"Fail\")\n",
    "print (\"Pass\" if  (is_palindrome(\"a\")) else \"Fail\")\n",
    "print (\"Pass\" if  (is_palindrome(\"madam\")) else \"Fail\")\n",
    "print (\"Pass\" if  (is_palindrome(\"abba\")) else \"Fail\")\n",
    "print (\"Pass\" if not (is_palindrome(\"Udacity\")) else \"Fail\")"
   ]
  },
  {
   "cell_type": "code",
   "execution_count": 56,
   "metadata": {},
   "outputs": [
    {
     "name": "stdout",
     "output_type": "stream",
     "text": [
      "True\n"
     ]
    }
   ],
   "source": [
    "# another version\n",
    "def isPalindrome(testVariable) :\n",
    "  # Base Case\n",
    "  if len(testVariable) <= 1 : # Strings that have length 1 or 0 are palindrome\n",
    "      return True\n",
    "\n",
    "  # Recursive Case\n",
    "  length = len(testVariable)\n",
    "  if testVariable[0] == testVariable[length - 1] : # compare the first and last elements\n",
    "      return isPalindrome(testVariable[1: length - 1])\n",
    "\n",
    "  return False\n",
    "\n",
    "# Driver Code\n",
    "print(isPalindrome(\"madam\"))"
   ]
  },
  {
   "cell_type": "markdown",
   "metadata": {},
   "source": [
    "<a id=\"linear4\"></a>\n",
    "### One recursive call - one Parameter and one constant\n",
    "**Power of 2**"
   ]
  },
  {
   "cell_type": "code",
   "execution_count": 31,
   "metadata": {},
   "outputs": [
    {
     "name": "stdout",
     "output_type": "stream",
     "text": [
      "16\n"
     ]
    }
   ],
   "source": [
    "def power_of_2(n):    \n",
    "    if n == 0:\n",
    "        return 1\n",
    "   \n",
    "    return 2 * power_of_2(n - 1)\n",
    "\n",
    "print(power_of_2(4))"
   ]
  },
  {
   "cell_type": "markdown",
   "metadata": {},
   "source": [
    "<a id=\"linear5\"></a>\n",
    "### One recursive call - One Parameter -  Parameter used Twice in Calculation\n",
    "1. these problems will use the original variable to perform an action with the output retured from the recusive call.  n * recursive_call(n-1)\n",
    "\n",
    "**Factorials**"
   ]
  },
  {
   "cell_type": "code",
   "execution_count": 21,
   "metadata": {},
   "outputs": [
    {
     "name": "stdout",
     "output_type": "stream",
     "text": [
      "3628800\n"
     ]
    }
   ],
   "source": [
    "def factorial(n):\n",
    "    if n == 1:\n",
    "        return 1\n",
    "    return n * factorial(n-1)\n",
    "print(factorial(10))"
   ]
  },
  {
   "cell_type": "markdown",
   "metadata": {},
   "source": [
    "**Sum of Integers**"
   ]
  },
  {
   "cell_type": "code",
   "execution_count": 34,
   "metadata": {},
   "outputs": [
    {
     "name": "stdout",
     "output_type": "stream",
     "text": [
      "answer: 10\n"
     ]
    }
   ],
   "source": [
    "def sum_integers(n):\n",
    "    if n == 1:\n",
    "        return 1\n",
    "   \n",
    "    return  n + sum_integers(n-1)  \n",
    "\n",
    "print(f'answer: {sum_integers(4)}')"
   ]
  },
  {
   "cell_type": "markdown",
   "metadata": {},
   "source": [
    "**Find Square**"
   ]
  },
  {
   "cell_type": "code",
   "execution_count": 14,
   "metadata": {},
   "outputs": [
    {
     "name": "stdout",
     "output_type": "stream",
     "text": [
      "25\n"
     ]
    }
   ],
   "source": [
    "def findSquare(targetNumber) :\n",
    "    # Base case\n",
    "    if targetNumber == 0 :\n",
    "        return 0\n",
    "    # Recursive case\n",
    "    else:\n",
    "        return findSquare(targetNumber - 1) + (2 * targetNumber) - 1\n",
    "\n",
    "# Driver Code\n",
    "targetNumber = 5\n",
    "print(findSquare(targetNumber))"
   ]
  },
  {
   "cell_type": "markdown",
   "metadata": {},
   "source": [
    "**Sum an array index**"
   ]
  },
  {
   "cell_type": "code",
   "execution_count": 39,
   "metadata": {},
   "outputs": [
    {
     "name": "stdout",
     "output_type": "stream",
     "text": [
      "10\n"
     ]
    }
   ],
   "source": [
    "## not a good way list slice is expensive O(k*n)\n",
    "def sum_array_bad(array):\n",
    "    # Base Case\n",
    "    if len(array) == 1:\n",
    "        return array[0]\n",
    "    \n",
    "    return array[0] + sum_array_bad(array[1:])\n",
    "\n",
    "arr = [1, 2, 3, 4]\n",
    "print(sum_array_bad(arr))"
   ]
  },
  {
   "cell_type": "markdown",
   "metadata": {},
   "source": [
    "**Reversing a String**"
   ]
  },
  {
   "cell_type": "code",
   "execution_count": 43,
   "metadata": {},
   "outputs": [
    {
     "name": "stdout",
     "output_type": "stream",
     "text": [
      "cba\n",
      "Pass\n",
      "Pass\n"
     ]
    }
   ],
   "source": [
    "def reverse_string(input):\n",
    "    if len(input) == 0:\n",
    "        return ''\n",
    "    \n",
    "    result =  reverse_string(input[1:]) + input[0] \n",
    "    \n",
    "    return result\n",
    "\n",
    "print(reverse_string(\"abc\"))\n",
    "# Test Cases\n",
    "    \n",
    "print (\"Pass\" if  (\"\" == reverse_string(\"\")) else \"Fail\")\n",
    "print (\"Pass\" if  (\"cba\" == reverse_string(\"abc\")) else \"Fail\")"
   ]
  },
  {
   "cell_type": "markdown",
   "metadata": {},
   "source": [
    "**Count Vowels**"
   ]
  },
  {
   "cell_type": "code",
   "execution_count": 13,
   "metadata": {},
   "outputs": [
    {
     "name": "stdout",
     "output_type": "stream",
     "text": [
      "5\n"
     ]
    }
   ],
   "source": [
    "def isVowel(character): # function to check whether input character is a vowel\n",
    "  character = character.lower() # convert character to lower case so upper cases can also be handled\n",
    "\n",
    "  vowels = \"aeiou\" # string containing all vowels\n",
    "\n",
    "  if character in vowels : # check if given character is in vowels\n",
    "    return 1\n",
    "  else:\n",
    "      return 0\n",
    "\n",
    "def countVowels(string, n): # function that returns the count of vowels\n",
    "\t# Base Case\n",
    "  if n == 1 :\n",
    "\t  return isVowel(string[0]) \n",
    "\n",
    "  # Recursive Case\n",
    "  return countVowels(string, n - 1) + isVowel(string[n - 1]) \n",
    "\n",
    "# Driver code \n",
    "string = \"Educative\"\n",
    "print(countVowels(string, len(string))) "
   ]
  },
  {
   "cell_type": "markdown",
   "metadata": {},
   "source": [
    "**remove spaces**"
   ]
  },
  {
   "cell_type": "code",
   "execution_count": 45,
   "metadata": {},
   "outputs": [
    {
     "name": "stdout",
     "output_type": "stream",
     "text": [
      "HelloWorld\n"
     ]
    }
   ],
   "source": [
    "def remove(string):\n",
    "  # Base Case\n",
    "  if not string:\n",
    "      return \"\"\n",
    "\n",
    "  # Recursive Case\n",
    "  if string[0] == \"\\t\" or string[0] == \" \":\n",
    "      return remove(string[1:])\n",
    "  else:\n",
    "      return string[0] + remove(string[1:])\n",
    "\n",
    "# Driver Code\n",
    "print(remove(\"Hello\\tWorld\"))"
   ]
  },
  {
   "cell_type": "markdown",
   "metadata": {},
   "source": [
    "**remove adjacent duplicated**"
   ]
  },
  {
   "cell_type": "code",
   "execution_count": 50,
   "metadata": {},
   "outputs": [
    {
     "name": "stdout",
     "output_type": "stream",
     "text": [
      "Helo\n"
     ]
    }
   ],
   "source": [
    "def remove(string):\n",
    "    # Base Case\n",
    "    if not string:\n",
    "        return \"\"\n",
    "    elif len(string) == 1 :\n",
    "        return string\n",
    "  \n",
    "    \n",
    "    if string[0] != string[1]:\n",
    "        return string[0] + remove(string[1:])\n",
    "    else:\n",
    "        return remove(string[1:])\n",
    "\n",
    "# Driver Code\n",
    "print(remove(\"Hellloo\"))"
   ]
  },
  {
   "cell_type": "markdown",
   "metadata": {},
   "source": [
    "**length of a string**"
   ]
  },
  {
   "cell_type": "code",
   "execution_count": 53,
   "metadata": {},
   "outputs": [
    {
     "name": "stdout",
     "output_type": "stream",
     "text": [
      "9\n"
     ]
    }
   ],
   "source": [
    "def recursiveLength(testVariable) : \n",
    "\t# Write your code here\n",
    "\tif testVariable == \"\":\t\t\n",
    "\t\treturn  0\t\n",
    "\t\n",
    "\treturn 1 + recursiveLength(testVariable[1:])\n",
    "print(recursiveLength(\"Educative\"))"
   ]
  },
  {
   "cell_type": "markdown",
   "metadata": {},
   "source": [
    "**sum of digites in a string**"
   ]
  },
  {
   "cell_type": "code",
   "execution_count": 54,
   "metadata": {},
   "outputs": [
    {
     "name": "stdout",
     "output_type": "stream",
     "text": [
      "12\n"
     ]
    }
   ],
   "source": [
    "def sumDigits(testVariable):\n",
    "  # Base Case\n",
    "  if testVariable == \"\":\n",
    "    return 0\n",
    "\n",
    "  # Recursive Case \n",
    "  else:\n",
    "    return int(testVariable[0]) + sumDigits(testVariable[1:])\n",
    "\n",
    "# Driver Code\n",
    "print(sumDigits(\"345\"))"
   ]
  },
  {
   "cell_type": "markdown",
   "metadata": {},
   "source": [
    "**invert array**"
   ]
  },
  {
   "cell_type": "code",
   "execution_count": null,
   "metadata": {},
   "outputs": [],
   "source": [
    "def reverse(array):\n",
    "  # Base case1\n",
    "  if len(array) == 0: # If we encounter an empty array, simply return an empty array\n",
    "    return []\n",
    "  \n",
    "  # Base case2\n",
    "  elif len(array) == 1 : # Inverting an array of size 1 returns the same array\n",
    "   return array\n",
    "\n",
    "  # Recursive case\n",
    "  return [array[len(array) - 1]] + reverse(array[:len(array) - 1])\n",
    "  # The first part is storing the last element to be appended later\n",
    "  # The second part is calling another instance of the same function with the last element removed\n",
    "\n",
    "# Driver Code\n",
    "array = [1, 2, 3, 4]\n",
    "print(reverse(array))"
   ]
  },
  {
   "cell_type": "markdown",
   "metadata": {},
   "source": [
    "<a id='linear2'></a>\n",
    "### One Recursive Call - Multiple Parameters"
   ]
  },
  {
   "cell_type": "code",
   "execution_count": 16,
   "metadata": {},
   "outputs": [
    {
     "name": "stdout",
     "output_type": "stream",
     "text": [
      "2\n"
     ]
    }
   ],
   "source": [
    "def firstIndex(arr, testVariable, currentIndex) : # returns the first occurrence of testVariable\n",
    "  # Base Case1\n",
    "  if len(arr) == currentIndex :\n",
    "    return -1;\n",
    "\n",
    "  # Base Case2  \n",
    "  if arr[currentIndex] == testVariable :\n",
    "    return currentIndex\n",
    "\n",
    "  # Recursive Case\n",
    "  return firstIndex(arr, testVariable, currentIndex + 1)\n",
    "\n",
    "# Driver Code\n",
    "arr = [9, 8, 1, 8, 1, 7]\n",
    "testVariable = 1\n",
    "currentIndex = 0\n",
    "\n",
    "print(firstIndex(arr, testVariable, currentIndex))"
   ]
  },
  {
   "cell_type": "markdown",
   "metadata": {},
   "source": [
    "**power**"
   ]
  },
  {
   "cell_type": "code",
   "execution_count": 35,
   "metadata": {},
   "outputs": [
    {
     "name": "stdout",
     "output_type": "stream",
     "text": [
      "8\n"
     ]
    }
   ],
   "source": [
    "def power(base, exponent):\n",
    "  # Base Case\n",
    "  if exponent == 0 :\n",
    "    return 1\n",
    "    \n",
    "  # Recursive Case\n",
    "  else :\n",
    "    return base * power(base, exponent - 1);\n",
    "\n",
    "# Driver Code\n",
    "print(power(2, 3))"
   ]
  },
  {
   "cell_type": "code",
   "execution_count": 39,
   "metadata": {},
   "outputs": [
    {
     "name": "stdout",
     "output_type": "stream",
     "text": [
      "2\n"
     ]
    }
   ],
   "source": [
    "def mod(dividend, divisor) :\n",
    "    # Check division by 0\n",
    "    if divisor == 0 :\n",
    "        print(\"Divisor cannot be \")\n",
    "        return 0\n",
    "\n",
    "    # Base Case\n",
    "    if dividend < divisor :\n",
    "        return dividend\n",
    "\n",
    "    # Recursive Case\n",
    "    else :\n",
    "        return mod(dividend - divisor, divisor)\n",
    "\n",
    "# Driver Code\n",
    "print(mod(10, 4))"
   ]
  },
  {
   "cell_type": "markdown",
   "metadata": {},
   "source": [
    "#### Sum Array without altering array "
   ]
  },
  {
   "cell_type": "code",
   "execution_count": 42,
   "metadata": {},
   "outputs": [
    {
     "name": "stdout",
     "output_type": "stream",
     "text": [
      "10\n"
     ]
    }
   ],
   "source": [
    "#better way\n",
    "def sum_array(array, index):\n",
    "    # Base Cases\n",
    "    if len(array) - 1 == index:\n",
    "        return array[index]\n",
    "    \n",
    "    return array[index] + sum_array(array, index + 1)\n",
    "\n",
    "arr = [1, 2, 3, 4]\n",
    "print(sum_array_index(arr, 0))"
   ]
  },
  {
   "cell_type": "markdown",
   "metadata": {},
   "source": [
    "#### Replace all Negative Numbers with 0” Mean? #\n",
    "An array can contain negative numbers. Our task is to replace all instances of negative numbers with 00 starting from a given index of the array."
   ]
  },
  {
   "cell_type": "code",
   "execution_count": 85,
   "metadata": {},
   "outputs": [
    {
     "name": "stdout",
     "output_type": "stream",
     "text": [
      "Original Array --> [2, -3, 4, -1, -7, 8]\n",
      "Modified Array --> [2, 0, 4, 0, 0, 8]\n"
     ]
    }
   ],
   "source": [
    "def replace(array, currentIndex) :\n",
    "    if currentIndex < len(array) :\n",
    "        if array[currentIndex] < 0 :\n",
    "            array[currentIndex] = 0\n",
    "\n",
    "        replace(array, currentIndex + 1)\n",
    "\n",
    "    return\n",
    "  \n",
    "# Driver Code\n",
    "array = [2, -3, 4, -1, -7, 8]\n",
    "print(\"Original Array --> \" + str(array))\n",
    "replace(array, 0)\n",
    "print(\"Modified Array --> \" + str(array))"
   ]
  },
  {
   "cell_type": "markdown",
   "metadata": {},
   "source": [
    "<a id=\"linear6\"></a>\n",
    "### One Recursive Call - Multiple Parameters - Conditional on recusive call "
   ]
  },
  {
   "cell_type": "markdown",
   "metadata": {},
   "source": [
    "####  merge two strings"
   ]
  },
  {
   "cell_type": "code",
   "execution_count": null,
   "metadata": {},
   "outputs": [],
   "source": [
    "def merge(string1, string2) :\n",
    "  # Base Case1\n",
    "  if string1 == \"\" :\n",
    "    if string2 == \"\" : \n",
    "      return \"\"\n",
    "    return string2\n",
    "\n",
    "  # Base Case2\n",
    "  elif string2 == \"\" :\n",
    "    return string1\n",
    "\n",
    "  # Recursive Case1\n",
    "  elif string1[0] > string2[0] :\n",
    "      return string2[0] + merge(string1, string2[1:])\n",
    "\n",
    "  # Recursive Case2\n",
    "  return string1[0] + merge(string1[1:], string2)\n",
    "\n",
    "# Driver Code\n",
    "string1 = \"acu\"\n",
    "string2 = \"bst\"\n",
    "print(merge(string1, string2))   "
   ]
  },
  {
   "cell_type": "markdown",
   "metadata": {},
   "source": [
    "#### GCD\n",
    "y > x then x, y - x"
   ]
  },
  {
   "cell_type": "code",
   "execution_count": null,
   "metadata": {},
   "outputs": [],
   "source": [
    "def gcd(testVariable1, testVariable2) :\n",
    "    # Base Case\n",
    "    if testVariable1 == testVariable2 :\n",
    "        return testVariable1\n",
    "\n",
    "    # Recursive Case\n",
    "    if testVariable1 > testVariable2 :\n",
    "        return gcd(testVariable1 - testVariable2, testVariable2)\n",
    "    else :\n",
    "        return gcd(testVariable1, testVariable2 - testVariable1)\n",
    "\n",
    "# Driver Code\n",
    "number1 = 6\n",
    "number2 = 9\n",
    "print(gcd(number1, number2))"
   ]
  },
  {
   "cell_type": "markdown",
   "metadata": {},
   "source": [
    "#### GCD2\n",
    "y > x then x, y mod x"
   ]
  },
  {
   "cell_type": "code",
   "execution_count": 123,
   "metadata": {},
   "outputs": [
    {
     "name": "stdout",
     "output_type": "stream",
     "text": [
      "12\n"
     ]
    }
   ],
   "source": [
    "def gcd2(x, y):\n",
    "    if y == 0:\n",
    "        return x\n",
    "    \n",
    "    return gcd2(y, x % y)\n",
    "print(gcd2(156, 36))"
   ]
  },
  {
   "cell_type": "markdown",
   "metadata": {},
   "source": [
    "#### Count all occurances of a number"
   ]
  },
  {
   "cell_type": "code",
   "execution_count": 83,
   "metadata": {},
   "outputs": [
    {
     "name": "stdout",
     "output_type": "stream",
     "text": [
      "3\n"
     ]
    }
   ],
   "source": [
    "def count(array, key) :\n",
    "    # Base Case\n",
    "    if array == []: \n",
    "        return 0\n",
    "\n",
    "    # Recursive case1\n",
    "    if array[0] == key:\n",
    "        return 1 + count(array[1:], key)\n",
    "\n",
    "    # Recursive case2\n",
    "    else:\n",
    "        return 0 + count(array[1:], key)\n",
    "\n",
    "# Driver Code\n",
    "array = [1, 2, 1, 4, 5, 1]\n",
    "key  = 1\n",
    "print(count(array, key))"
   ]
  },
  {
   "cell_type": "markdown",
   "metadata": {},
   "source": [
    "#### Average of Numbers"
   ]
  },
  {
   "cell_type": "code",
   "execution_count": 61,
   "metadata": {},
   "outputs": [
    {
     "name": "stdout",
     "output_type": "stream",
     "text": [
      "4.5\n"
     ]
    }
   ],
   "source": [
    "def average(testVariable, currentIndex = 0) : \n",
    "\t# Base Case\n",
    "\tif currentIndex == len(testVariable) - 1 : \n",
    "\t\treturn testVariable[currentIndex] \n",
    "\t\n",
    "  # Recursive case1\n",
    "\t# When currentIndex is 0, divide sum computed so far by len(testVariable). \n",
    "\tif currentIndex == 0 : \n",
    "\t\treturn ((testVariable[currentIndex] + average(testVariable, currentIndex + 1)) / len(testVariable)) \n",
    "\t\n",
    "  # Recursive case2\n",
    "\t# Compute sum \n",
    "\treturn (testVariable[currentIndex] + average(testVariable, currentIndex + 1)) \n",
    "\n",
    "# Driver code \n",
    "arr = [10, 2, 3, 4, 8, 0] \n",
    "print(average(arr)) "
   ]
  },
  {
   "cell_type": "markdown",
   "metadata": {},
   "source": [
    "#### Balance Parenthesis"
   ]
  },
  {
   "cell_type": "code",
   "execution_count": 84,
   "metadata": {},
   "outputs": [
    {
     "name": "stdout",
     "output_type": "stream",
     "text": [
      "True\n"
     ]
    }
   ],
   "source": [
    "def balanced(testVariable, startIndex = 0, currentIndex = 0) :\n",
    "    # Base case1 and 2\n",
    "    if startIndex == len(testVariable) : \n",
    "        return currentIndex == 0\n",
    "\n",
    "    # Base case3\n",
    "    if currentIndex < 0 : # A closing bracket did not find its corresponding opening bracket\n",
    "        return False\n",
    "\n",
    "    # Recursive case1\n",
    "    # currentIndex tracks last available starting partenthesis\n",
    "    if testVariable[startIndex] == \"(\" : \n",
    "        return  balanced(testVariable, startIndex + 1, currentIndex + 1)\n",
    "\n",
    "    # Recursive case2\n",
    "    elif testVariable[startIndex] == \")\" : \n",
    "        return  balanced(testVariable, startIndex + 1, currentIndex - 1)\n",
    "\n",
    "# Driver Code\n",
    "testVariable = [\"(\", \"(\", \")\", \")\", \"(\", \")\"]\n",
    "print(balanced(testVariable))"
   ]
  },
  {
   "cell_type": "markdown",
   "metadata": {},
   "source": [
    "#### Regex\n",
    "\n",
    "Implement regular expression matching with the following special characters:\n",
    "\n",
    ". (period) which matches any single character\n",
    "\n",
    "  \\* (asterisk) which matches zero or more of the preceding element That is, implement a function that takes in a string and a valid regular expression and returns whether or not the string matches the regular expression.\n",
    "For example, given the regular expression \"ra.\" and the string \"ray\", your function should return true. The same regular expression on the string \"raymond\" should return false.\n",
    "\n",
    "Given the regular expression \".*at\" and the string \"chat\", your function should return true. The same regular expression on the string \"chats\" should return false."
   ]
  },
  {
   "cell_type": "code",
   "execution_count": 117,
   "metadata": {},
   "outputs": [
    {
     "name": "stdout",
     "output_type": "stream",
     "text": [
      "s sa r sa\n",
      "s a r a\n",
      "got here\n",
      "s raymond r ra.\n",
      "s aymond r a.\n",
      "s ymond r .\n",
      "s chat r at\n",
      "s chat r .*at\n",
      "s hat r at\n",
      "s hat r .*at\n",
      "s at r at\n",
      "s t r t\n",
      "s chats r at\n",
      "s chats r .*at\n",
      "s hats r at\n",
      "s hats r .*at\n",
      "s ats r at\n",
      "s ts r t\n",
      "s ats r .*at\n",
      "s ts r at\n",
      "s ts r .*at\n",
      "s s r at\n",
      "s s r .*at\n",
      "s  r at\n",
      "s  r .*at\n"
     ]
    }
   ],
   "source": [
    "def matches_first_char(s, r):\n",
    "    print(f's {s} r {r}')\n",
    "    if len(s) == 0:\n",
    "        return False\n",
    "    return s[0] == r[0] or (r[0] == '.' and len(s) > 0)\n",
    "\n",
    "def matches(s,r):\n",
    "    if r == '':\n",
    "        return s == ''\n",
    "    \n",
    "    # handle for . case  (with no *)\n",
    "    if len(r) == 1 or r[1] != '*':\n",
    "        if matches_first_char(s, r):\n",
    "            return matches(s[1:], r[1:])\n",
    "        else:\n",
    "            return False\n",
    "    else:\n",
    "        #handle for .* case\n",
    "        \n",
    "        # zero leght \"sa\", \".*sa case\n",
    "        if matches(s, r[2:]):\n",
    "            print('got here')\n",
    "            return True\n",
    "        \n",
    "        i = 0 \n",
    "        while matches_first_char(s[i:], r):\n",
    "            if matches(s[i+1:], r[2:]):\n",
    "                return True\n",
    "            i += 1\n",
    "\n",
    "assert matches(\"sa\", \".*sa\", )\n",
    "assert not matches(\"raymond\", \"ra.\")\n",
    "assert matches(\"chat\", \".*at\")\n",
    "assert not matches(\"chats\", \".*at\")"
   ]
  },
  {
   "cell_type": "code",
   "execution_count": null,
   "metadata": {},
   "outputs": [],
   "source": []
  },
  {
   "cell_type": "markdown",
   "metadata": {},
   "source": [
    "#### Deep N Dimensional Array Reverse\n",
    "\n",
    "1. This code uses the helper function as part of the recursian\n",
    "2. The deep_reverse is the start of reversing an array\n",
    "3. deep reverse func - does a simple append to output list after recursion ( this is typical of reversing using recursion\n",
    "4. the second variable is the index position, this is position of the element that is being reviewe at any given time"
   ]
  },
  {
   "cell_type": "code",
   "execution_count": 2,
   "metadata": {},
   "outputs": [
    {
     "name": "stdout",
     "output_type": "stream",
     "text": [
      "Pass\n",
      "Pass\n",
      "Pass\n",
      "Pass\n"
     ]
    }
   ],
   "source": [
    "def is_list(element):\n",
    "    \"\"\"\n",
    "    Check if element is a Python list\n",
    "    \"\"\"\n",
    "    return isinstance(element, list)\n",
    "\n",
    "def deep_reverse(arr):\n",
    "    \"\"\"\n",
    "    Function to deep_reverse an input list\n",
    "    \"\"\"\n",
    "    return deep_reverse_func(arr, 0)\n",
    "\n",
    "def deep_reverse_func(arr, index):\n",
    "    \"\"\"\n",
    "    Recursive function to deep_reverse the input list\n",
    "    \"\"\"\n",
    "    # Base Case\n",
    "    if index == len(arr):\n",
    "        return list()\n",
    "    \n",
    "    output = deep_reverse_func(arr, index + 1)\n",
    "    \n",
    "    # if element is a list --> deep_reverse the list\n",
    "    if is_list(arr[index]):\n",
    "        to_append = deep_reverse(arr[index])\n",
    "    else:\n",
    "        to_append = arr[index]\n",
    "        \n",
    "    output.append(to_append)\n",
    "    return output\n",
    "\n",
    "def test_function(test_case):\n",
    "    arr = test_case[0]\n",
    "    solution = test_case[1]\n",
    "    \n",
    "    output = deep_reverse(arr)\n",
    "    if output == solution:\n",
    "        print(\"Pass\")\n",
    "    else:\n",
    "        print(\"False\")\n",
    "        \n",
    "arr = [1, 2, 3, 4, 5]\n",
    "solution = [5, 4, 3, 2, 1]\n",
    "test_case = [arr, solution]\n",
    "test_function(test_case)\n",
    "\n",
    "arr = [1, 2, [3, 4, 5], 4, 5]\n",
    "solution = [5, 4, [5, 4, 3], 2, 1]\n",
    "test_case = [arr, solution]\n",
    "test_function(test_case)\n",
    "\n",
    "arr = [1, [2, 3, [4, [5, 6]]]]\n",
    "solution = [[[[6, 5], 4], 3, 2], 1]\n",
    "test_case = [arr, solution]\n",
    "test_function(test_case)\n",
    "\n",
    "arr =  [1, [2,3], 4, [5,6]]\n",
    "solution = [ [6,5], 4, [3, 2], 1]\n",
    "test_case = [arr, solution]\n",
    "test_function(test_case)"
   ]
  },
  {
   "cell_type": "markdown",
   "metadata": {},
   "source": [
    "# Tree / Multiple Recursion\n",
    "Recursion that contains multiple self-references is known as multiple recursion.\n",
    "\n",
    "\n",
    "Multiple recursion, by contrast, may require exponential time and space, and is more fundamentally recursive, not being able to be replaced by iteration without an explicit stack."
   ]
  },
  {
   "cell_type": "markdown",
   "metadata": {},
   "source": [
    "<a id='subproblems'></a>\n",
    "## Breaking into Subproblems\n",
    "* classic recursive problems\n",
    "* all recursive problems are this\n",
    "* use pattern if it makes sense to you\n",
    "* examples\n",
    "    * towers of hanoi\n",
    "    * fibonacci\n",
    "* these problems always have a recursive tree\n",
    "* how to spot these problems? two or more recursive calls\n",
    "\n",
    "### Recursive Tree - Two Recursive Calls - One variable, both outputs are altered"
   ]
  },
  {
   "cell_type": "markdown",
   "metadata": {},
   "source": [
    "**fibannaci**"
   ]
  },
  {
   "cell_type": "code",
   "execution_count": 16,
   "metadata": {},
   "outputs": [
    {
     "name": "stdout",
     "output_type": "stream",
     "text": [
      "55\n"
     ]
    }
   ],
   "source": [
    "# fibannaci\n",
    "def fib(n: int) -> int:\n",
    "    if n < 2:\n",
    "        return n\n",
    "    return fib(n - 2) + fib(n-1)\n",
    "print(fib(10))"
   ]
  },
  {
   "cell_type": "markdown",
   "metadata": {},
   "source": [
    "**fib with memoization**"
   ]
  },
  {
   "cell_type": "code",
   "execution_count": 18,
   "metadata": {},
   "outputs": [
    {
     "name": "stdout",
     "output_type": "stream",
     "text": [
      "55\n"
     ]
    }
   ],
   "source": [
    "# fib with memoization\n",
    "from typing import Dict\n",
    "memo: Dict[int, int] = {0: 0, 1: 1} # our base cases\n",
    "    \n",
    "def fib2(n: int) -> int:\n",
    "    if n not in memo:\n",
    "        memo[n] = fib2(n-1) + fib2(n-2)\n",
    "    return memo[n]\n",
    "print(fib2(10))"
   ]
  },
  {
   "cell_type": "code",
   "execution_count": 63,
   "metadata": {},
   "outputs": [
    {
     "name": "stdout",
     "output_type": "stream",
     "text": [
      "8\n",
      "[0, 1, 1, 2, 3, 5, 8]\n",
      "8\n"
     ]
    }
   ],
   "source": [
    "# more fib\n",
    "\"\"\"Implement a function recursively to get the desired\n",
    "Fibonacci sequence value.\n",
    "Your code should have the same input/output as the \n",
    "iterative code in the instructions.\"\"\"\n",
    "\n",
    "def get_fib(position):\n",
    "    if position == 0:\n",
    "        return 0\n",
    "    elif position == 1:\n",
    "        return 1\n",
    "    else:\n",
    "        return get_fib(position-1)+get_fib(position-2)\n",
    "    \n",
    "def get_fib2(position):\n",
    "    if position == 0 or position == 1:\n",
    "        return position\n",
    "    return get_fib(position - 1) + get_fib(position - 2)   \n",
    "\n",
    "\n",
    "def get_fib2(position):\n",
    "    if position == 0 or position == 1:\n",
    "        return position\n",
    "    return get_fib(position - 1) + get_fib(position - 2)  \n",
    "\n",
    "def get_fib_mem(num, memo):\n",
    "    if num == 0 or num == 1:\n",
    "        memo[num] = num\n",
    "        return num\n",
    "    \n",
    "    if memo[num] == 0:\n",
    "        memo[num] = get_fib_mem(num-1, memo) + get_fib_mem(num-2, memo)\n",
    "    return mem[num]\n",
    "        \n",
    "def fib_bottom(n):\n",
    "    if n == 0:\n",
    "        return 0\n",
    "    a = 0 \n",
    "    b = 1\n",
    "    for i in range(2, n):\n",
    "        c = a + b\n",
    "        a = b\n",
    "        b = c\n",
    "    return a + b\n",
    "    \n",
    "fib_num = 6\n",
    "mem = [0] * (fib_num +1 )\n",
    "print(get_fib_mem(fib_num, mem))\n",
    "print(mem)\n",
    "print(fib_bottom(6))    "
   ]
  },
  {
   "cell_type": "markdown",
   "metadata": {},
   "source": [
    "**decimal to binary**  "
   ]
  },
  {
   "cell_type": "code",
   "execution_count": 41,
   "metadata": {},
   "outputs": [
    {
     "name": "stdout",
     "output_type": "stream",
     "text": [
      "1011\n"
     ]
    }
   ],
   "source": [
    "def decimalToBinary(testVariable) :\n",
    "  # Base Case\n",
    "  if testVariable <= 1:\n",
    "    return str(testVariable)\n",
    "\n",
    "  # Recursive Case\n",
    "  else:\n",
    "    return decimalToBinary(testVariable // 2) + decimalToBinary(testVariable % 2) # Floor division - \n",
    "      # division that results into whole number adjusted to the left in the number line\n",
    "\n",
    "# Driver Code\n",
    "testVariable = 11\n",
    "print(decimalToBinary(testVariable))"
   ]
  },
  {
   "cell_type": "markdown",
   "metadata": {},
   "source": [
    "### Recursive Tree - Two Recursive Calls - Multiple Parameters"
   ]
  },
  {
   "cell_type": "markdown",
   "metadata": {},
   "source": [
    "#### Tower of Hanoi\n",
    "##### Problem Statement\n",
    "\n",
    "The Tower of Hanoi is a puzzle where we have three rods and `n` disks. The three rods are:\n",
    "    1. source\n",
    "    2. destination\n",
    "    3. auxiliary\n",
    "\n",
    "Initally, all the `n` disks are present on the source rod. The final objective of the puzzle is to move all disks from the source rod to the destination rod using the auxiliary rod. However, there are some rules according to which this has to be done:\n",
    "    1. Only one disk can be moved at a time.\n",
    "    2. A disk can be moved only if it is on the top of a rod.\n",
    "    3. No disk can be placed on the top of a smaller disk.\n",
    "    \n",
    "You will be given the number of disks `num_disks` as the input parameter. \n",
    "\n",
    "For example, if you have `num_disks = 3`, then the disks should be moved as follows:\n",
    "    \n",
    "        1. move disk from source to auxiliary\n",
    "        2. move disk from source to destination\n",
    "        3. move disk from auxiliary to destination\n",
    "        \n",
    "You must print these steps as follows:    \n",
    "\n",
    "        S A\n",
    "        S D\n",
    "        A D\n",
    "        \n",
    "Where S = source, D = destination, A = auxiliary\n",
    "\n",
    "#### Analysis\n",
    "1. there is a three step way to move pieces in TOH\n",
    "2. because there are two calls it takes you to base case twice per call\n",
    "    1. first rec call base case print\n",
    "    2. inbtweeen recursive calls pring\n",
    "    2. 2nd rec call -  base case print\n",
    "3. There are multiple ways to organize the three poles, it does not matter as long as the entire algo reflect changes\n",
    "4. in this version the printing is always from parameters 2 (source) and 4 (destination)\n",
    "5. So to red this any move printed is always based on which letters are in pareamters 2 and 4\n",
    "    1. first\n",
    "    \n",
    "      \n",
    "even disks is always the same   \n",
    "odd disks are always the same\n"
   ]
  },
  {
   "cell_type": "code",
   "execution_count": 82,
   "metadata": {},
   "outputs": [
    {
     "name": "stdout",
     "output_type": "stream",
     "text": [
      "S A\n",
      "S D\n",
      "A D\n",
      " \n",
      "S D\n",
      "S A\n",
      "D A\n",
      "S D\n",
      "A S\n",
      "A D\n",
      "S D\n",
      " \n",
      "S A\n",
      "S D\n",
      "A D\n",
      "S A\n",
      "D S\n",
      "D A\n",
      "S A\n",
      "S D\n",
      "A D\n",
      "A S\n",
      "D S\n",
      "A D\n",
      "S A\n",
      "S D\n",
      "A D\n",
      " \n",
      "S D\n",
      "S A\n",
      "D A\n",
      "S D\n",
      "A S\n",
      "A D\n",
      "S D\n",
      "S A\n",
      "D A\n",
      "D S\n",
      "A S\n",
      "D A\n",
      "S D\n",
      "S A\n",
      "D A\n",
      "S D\n",
      "A S\n",
      "A D\n",
      "S D\n",
      "A S\n",
      "D A\n",
      "D S\n",
      "A S\n",
      "A D\n",
      "S D\n",
      "S A\n",
      "D A\n",
      "S D\n",
      "A S\n",
      "A D\n",
      "S D\n",
      "\n",
      "S A\n",
      "S D\n",
      "A D\n",
      "S A\n",
      "D S\n",
      "D A\n",
      "S A\n",
      "S D\n",
      "A D\n",
      "A S\n",
      "D S\n",
      "A D\n",
      "S A\n",
      "S D\n",
      "A D\n",
      "S A\n",
      "D S\n",
      "D A\n",
      "S A\n",
      "D S\n",
      "A D\n",
      "A S\n",
      "D S\n",
      "D A\n",
      "S A\n",
      "S D\n",
      "A D\n",
      "S A\n",
      "D S\n",
      "D A\n",
      "S A\n",
      "S D\n",
      "A D\n",
      "A S\n",
      "D S\n",
      "A D\n",
      "S A\n",
      "S D\n",
      "A D\n",
      "A S\n",
      "D S\n",
      "D A\n",
      "S A\n",
      "D S\n",
      "A D\n",
      "A S\n",
      "D S\n",
      "A D\n",
      "S A\n",
      "S D\n",
      "A D\n",
      "S A\n",
      "D S\n",
      "D A\n",
      "S A\n",
      "S D\n",
      "A D\n",
      "A S\n",
      "D S\n",
      "A D\n",
      "S A\n",
      "S D\n",
      "A D\n"
     ]
    }
   ],
   "source": [
    "# Solution\n",
    "def tower_of_Hanoi_soln(num_disks, source, auxiliary, destination):\n",
    "    \n",
    "    if num_disks == 0:\n",
    "        return\n",
    "    \n",
    "    if num_disks >= 1:\n",
    "        \n",
    "        # moving everything from source to aux\n",
    "        tower_of_Hanoi_soln(num_disks - 1, source, destination, auxiliary)\n",
    "        # this is the move where you move the bottom piece to destination\n",
    "        print(\"{} {}\".format(source, destination))\n",
    "        # this is where you move the aux tower to destination\n",
    "        tower_of_Hanoi_soln(num_disks - 1, auxiliary, source, destination)\n",
    "    \n",
    "def tower_of_Hanoi(num_disks):\n",
    "    tower_of_Hanoi_soln(num_disks, 'S', 'A', 'D')\n",
    "\n",
    "tower_of_Hanoi(2)\n",
    "#     t-h(2, s, a, d)\n",
    "#         t-h(1, s, d, a)\n",
    "#             t-h(0, s, a, d) return\n",
    "#             print s a\n",
    "#             t-h(0, d, s, a) return\n",
    "#         print s d\n",
    "#         t-h(1, a, s, d)\n",
    "#             t-h(0, a, d, s) return\n",
    "#             print a d\n",
    "#             t-h(0, s, a, d) return\n",
    "            \n",
    "\n",
    "print(' ')\n",
    "tower_of_Hanoi(3)   \n",
    "print(' ')\n",
    "tower_of_Hanoi(4) \n",
    "print(' ')\n",
    "tower_of_Hanoi(5)\n",
    "print('')\n",
    "tower_of_Hanoi(6) "
   ]
  },
  {
   "cell_type": "markdown",
   "metadata": {},
   "source": [
    "#### Staircaise\n",
    "Suppose there is a staircase that you can climb in either 1 step, 2 steps, or 3 steps. In how many possible ways can you climb the staircase if the staircase has `n` steps? Write a recursive function to solve the problem.\n",
    "\n",
    "**Example:**\n",
    "\n",
    "* `n = 3`\n",
    "* `output = 4`\n",
    "    \n",
    "The output is `4` because there are four ways we can climb the staircase:\n",
    "    \n",
    "    1. 1 step +  1 step + 1 step\n",
    "    2. 1 step + 2 steps \n",
    "    3. 2 steps + 1 step\n",
    "    4. 3 steps\n",
    "    \n",
    "Problems\n",
    "1. what is base case?  \n",
    "    * 1 = 1, 2 = 2, 3 = 4 . 0 = 1"
   ]
  },
  {
   "cell_type": "code",
   "execution_count": 79,
   "metadata": {},
   "outputs": [
    {
     "name": "stdout",
     "output_type": "stream",
     "text": [
      "Pass\n",
      "Pass\n",
      "Pass\n"
     ]
    }
   ],
   "source": [
    "# with cache\n",
    "def staircase_cache(n):\n",
    "    cache = {0: 0, 1: 1, 2: 2, 3: 4}\n",
    "    return staircase_faster(n, cache)\n",
    "\n",
    "def staircase_faster(n, cache):\n",
    "\n",
    "    if n not in cache:\n",
    "        cache[n] = staircase_faster(n-1, cache) + staircase_faster(n-2, cache) + staircase_faster(n-3, cache)\n",
    "   \n",
    "    return cache[n]\n",
    "\n",
    "\n",
    "\n",
    "def staircase(n):\n",
    "    \"\"\"\n",
    "    :param: n - number of steps in the staircase\n",
    "    Return number of possible ways in which you can climb the staircase\n",
    "    TODO - write a recursive function to solve this problem\n",
    "    \"\"\"\n",
    "    if n <= 0:\n",
    "        return 1\n",
    "    if n == 1:\n",
    "        return 1\n",
    "    elif n == 2:\n",
    "        return 2\n",
    "    elif n == 3:\n",
    "        return 4\n",
    "    \n",
    "    \n",
    "    return staircase(n - 1) + staircase(n-2) + staircase(n-3)\n",
    "\n",
    "def test_function(test_case):\n",
    "    n = test_case[0]\n",
    "    solution = test_case[1]\n",
    "    output = staircase(n)\n",
    "    if output == solution:\n",
    "        print(\"Pass\")\n",
    "    else:\n",
    "        print(\"Fail\")\n",
    "\n",
    "        \n",
    "n = 3\n",
    "solution = 4\n",
    "test_case = [n, solution]\n",
    "test_function(test_case)\n",
    "\n",
    "n = 4\n",
    "solution = 7\n",
    "test_case = [n, solution]\n",
    "test_function(test_case)\n",
    "\n",
    "n = 7\n",
    "solution = 44\n",
    "test_case = [n, solution]\n",
    "test_function(test_case)"
   ]
  },
  {
   "cell_type": "markdown",
   "metadata": {},
   "source": [
    "<hr>"
   ]
  },
  {
   "cell_type": "markdown",
   "metadata": {},
   "source": [
    "<a id='permutations'></a>\n",
    "## Selection or Permutations - ORDER MATTERS -  \n",
    "if you care about order - then every order of numbers is unique   \n",
    "[0, 1] ->[[0, 1], [1, 0]]\n",
    "* This is the most difficult use of recursive algoithms\n",
    "* They are very confusing\n",
    "\n",
    "#### Two Types of Permutations\n",
    "* repitition allowed - [0, 1] ->[[0, 1], [1, 0], [0, 0], [1, 1]]\n",
    "* repitition not allowed - [0, 1] ->[[0, 1], [1, 0]]\n",
    "\n",
    "Findings\n",
    "* the functions adopt mostly additional code to solve problems\n",
    "* recursion seems to be a small part of function\n",
    "* data prep \n",
    "    * v1 - variable for after recursive call \n",
    "    * v2 - data for recursive call\n",
    "    * post call code that combines v1 and v2\n",
    "\n",
    "\n",
    "I need to figure out:\n",
    "* focus on the functionality of the resursive call\n",
    "* patterns they use\n",
    "* focus on additional use of code to assist recursion\n",
    "* code structure tricks\n",
    "\n",
    "<hr>"
   ]
  },
  {
   "cell_type": "markdown",
   "metadata": {},
   "source": [
    "### **Permutation of a List - building up from single characters**  -  One Recursive Call, One Parameter\n",
    "* repitition not allowed - [0, 1] ->[[0, 1], [1, 0]]\n",
    "\n",
    "\n",
    "* permutatation by breaking down the list into smaller pieces\n",
    "* uses the ``r.insert(j, first_element)`` technique for building each permutation\n",
    "\n",
    "\n",
    "findings\n",
    "* Grabs Variable 1 - (first_element) - first element of list -  this is not used in the recursive call, it is used after\n",
    "* Alters Variable 2 - List (l) - before permute recursive call grabbing index 1 and after l[1:0]\n",
    "* base case: The permutes() call breaks Variable 2 down to an empty list []\n",
    "* The main process in this code is after the recursion, recursion is only breaking down the list to get ready for processing\n",
    "* All the main code does is:\n",
    "    * take last letter (first_element) variable \n",
    "    * plugs it into every position of the list returned from recursion\n",
    "    * adds each variatoin to the list and return the entire list\n",
    "* return:  it returns \n",
    "  \n",
    " \n",
    "how it works\n",
    "* permute([0,1])\n",
    "* after recursive calls you have an empty list within a list [[]]  and first_element V1 1\n",
    "* then you loop 1 through all positions of [[]]  and since there is only one position return [[1]]\n",
    "* on the next recursive call you loop 0 through all position of [[1]]  and return [[0,1],[1,0]]\n",
    "\n",
    "Summary:\n",
    "* the recursive call just breaks down data on the downward recursive calls\n",
    "* then on the upward recombines all the data to get the permutation\n"
   ]
  },
  {
   "cell_type": "code",
   "execution_count": 190,
   "metadata": {},
   "outputs": [
    {
     "name": "stdout",
     "output_type": "stream",
     "text": [
      "before recursive call : first element 0 | l[1:] [1, 2]\n",
      "before recursive call : first element 1 | l[1:] [2]\n",
      "before recursive call : first element 2 | l[1:] []\n",
      "base case\n",
      "after permute call - first element 2 sub_permutes [[]]\n",
      "return result  [[2]]\n",
      "after permute call - first element 1 sub_permutes [[2]]\n",
      "return result  [[1, 2], [2, 1]]\n",
      "after permute call - first element 0 sub_permutes [[1, 2], [2, 1]]\n",
      "return result  [[0, 1, 2], [1, 0, 2], [1, 2, 0], [0, 2, 1], [2, 0, 1], [2, 1, 0]]\n",
      "final  [[0, 1, 2], [1, 0, 2], [1, 2, 0], [0, 2, 1], [2, 0, 1], [2, 1, 0]]\n"
     ]
    }
   ],
   "source": [
    "import copy\n",
    "\n",
    "def permute(l):\n",
    "    \"\"\"\n",
    "    Return a list of permutations\n",
    "\n",
    "    Examples:\n",
    "       permute([0, 1]) returns [ [0, 1], [1, 0] ]\n",
    "\n",
    "    Args:\n",
    "      l(list): list of items to be permuted\n",
    "\n",
    "    Returns:\n",
    "      list of permutation with each permuted item be represented by a list\n",
    "    \"\"\"\n",
    "    perm = []\n",
    "    if len(l) == 0:\n",
    "        perm.append([])\n",
    "        print('base case')\n",
    "    else:\n",
    "        first_element = l[0]         \n",
    "        print(f'before recursive call : first element {first_element} | l[1:] {l[1:]}')\n",
    "        \n",
    "        sub_permutes = permute(l[1:])\n",
    "        print(f'after permute call - first element {first_element} sub_permutes {sub_permutes}')\n",
    "        \n",
    "        for p in sub_permutes:\n",
    "            # this loop inserts the first element in all the positions of given array \n",
    "            # 0 with [1] would become [0,1] , [1, 0]\n",
    "            for j in range(0, len(p) + 1):\n",
    "                r = copy.deepcopy(p)\n",
    "                r.insert(j, first_element)\n",
    "                perm.append(r)    \n",
    "        print('return result ' , perm)\n",
    "    # returns array or arrays\n",
    "    return perm\n",
    "\n",
    "def check_output(output, expected_output):   \n",
    "    o = copy.deepcopy(output)  # so that we don't mutate input\n",
    "    e = copy.deepcopy(expected_output)  # so that we don't mutate input\n",
    "    \n",
    "    o.sort()\n",
    "    e.sort()\n",
    "    return o == e\n",
    "\n",
    "print('final ' , permute([0, 1, 2]))\n",
    "\n",
    "# print (\"Pass\" if  (check_output(permute([]), [[]])) else \"Fail\")\n",
    "# print (\"Pass\" if  (check_output(permute([0]), [[0]])) else \"Fail\")\n",
    "# print (\"Pass\" if  (check_output(permute([0, 1]), [[0, 1], [1, 0]])) else \"Fail\")\n",
    "# print (\"Pass\" if  (check_output(permute([0, 1, 2]), [[0, 1, 2], [0, 2, 1], [1, 0, 2], [1, 2, 0], [2, 0, 1], [2, 1, 0]])) else \"Fail\")\n"
   ]
  },
  {
   "cell_type": "code",
   "execution_count": 4,
   "metadata": {},
   "outputs": [
    {
     "name": "stdout",
     "output_type": "stream",
     "text": [
      "final  [[0, 1], [1, 0]]\n",
      "Pass\n",
      "Pass\n",
      "Pass\n",
      "Pass\n"
     ]
    }
   ],
   "source": [
    "# Practice *permutation of a list\n",
    "import copy\n",
    "def permutes2(arr):\n",
    "  \n",
    "        \n",
    "    return perm\n",
    "\n",
    "print('final ' , permutes2([0, 1]))\n",
    "print (\"Pass\" if  (check_output(permutes2([]), [[]])) else \"Fail\")\n",
    "print (\"Pass\" if  (check_output(permutes2([0]), [[0]])) else \"Fail\")\n",
    "print (\"Pass\" if  (check_output(permutes2([0, 1]), [[0, 1], [1, 0]])) else \"Fail\")\n",
    "print (\"Pass\" if  (check_output(permutes2([0, 1, 2]), [[0, 1, 2], [0, 2, 1], [1, 0, 2], [1, 2, 0], [2, 0, 1], [2, 1, 0]])) else \"Fail\")\n"
   ]
  },
  {
   "cell_type": "code",
   "execution_count": 197,
   "metadata": {},
   "outputs": [
    {
     "name": "stdout",
     "output_type": "stream",
     "text": [
      "['1', '2', '3']\n",
      "['1', '3', '2']\n",
      "['2', '1', '3']\n",
      "['2', '3', '1']\n",
      "['3', '1', '2']\n",
      "['3', '2', '1']\n"
     ]
    }
   ],
   "source": [
    "# another versoni - geeksforgeeks\n",
    "# Python function to print permutations of a given list \n",
    "def permutation(lst): \n",
    "\n",
    "    # If lst is empty then there are no permutations \n",
    "    if len(lst) == 0: \n",
    "        return [] \n",
    "\n",
    "    # If there is only one element in lst then, only \n",
    "    # one permuatation is possible \n",
    "    if len(lst) == 1: \n",
    "        return [lst] \n",
    "\n",
    "    # Find the permutations for lst if there are \n",
    "    # more than 1 characters \n",
    "\n",
    "    l = [] # empty list that will store current permutation \n",
    "\n",
    "    # Iterate the input(lst) and calculate the permutation \n",
    "    for i in range(len(lst)):\n",
    "        m = lst[i]\n",
    "\n",
    "        # Extract lst[i] or m from the list. remLst is \n",
    "        # remaining list \n",
    "        remLst = lst[:i] + lst[i+1:] \n",
    "\n",
    "        # Generating all permutations where m is first \n",
    "        # element \n",
    "        for p in permutation(remLst): \n",
    "            l.append([m] + p) \n",
    "    return l \n",
    "\n",
    "\n",
    "# Driver program to test above function \n",
    "data = list('123') \n",
    "for p in permutation(data): \n",
    "\tprint(p) \n"
   ]
  },
  {
   "cell_type": "markdown",
   "metadata": {},
   "source": [
    "##### Heaps algo - Multiple Recursion - multiple parameter - use of swaps to alter arr"
   ]
  },
  {
   "cell_type": "code",
   "execution_count": 211,
   "metadata": {},
   "outputs": [
    {
     "name": "stdout",
     "output_type": "stream",
     "text": [
      "ha run\n",
      "arr start algo  [0, 1, 2] k  3\n",
      "ha run\n",
      "arr start algo  [0, 1, 2] k  2\n",
      "ha run\n",
      "arr start algo  [0, 1, 2] k  1\n",
      "  base case  [0, 1, 2]\n",
      "  after first heap algo  [0, 1, 2] k  2\n",
      "swap even\n",
      "ha run\n",
      "arr start algo  [1, 0, 2] k  1\n",
      "  base case  [1, 0, 2]\n",
      "     after second heap algo  [1, 0, 2] k  2\n",
      "  after first heap algo  [1, 0, 2] k  3\n",
      "swap odd\n",
      "ha run\n",
      "arr start algo  [2, 0, 1] k  2\n",
      "ha run\n",
      "arr start algo  [2, 0, 1] k  1\n",
      "  base case  [2, 0, 1]\n",
      "  after first heap algo  [2, 0, 1] k  2\n",
      "swap even\n",
      "ha run\n",
      "arr start algo  [0, 2, 1] k  1\n",
      "  base case  [0, 2, 1]\n",
      "     after second heap algo  [0, 2, 1] k  2\n",
      "     after second heap algo  [0, 2, 1] k  3\n",
      "swap odd\n",
      "ha run\n",
      "arr start algo  [1, 2, 0] k  2\n",
      "ha run\n",
      "arr start algo  [1, 2, 0] k  1\n",
      "  base case  [1, 2, 0]\n",
      "  after first heap algo  [1, 2, 0] k  2\n",
      "swap even\n",
      "ha run\n",
      "arr start algo  [2, 1, 0] k  1\n",
      "  base case  [2, 1, 0]\n",
      "     after second heap algo  [2, 1, 0] k  2\n",
      "     after second heap algo  [2, 1, 0] k  3\n"
     ]
    }
   ],
   "source": [
    "\n",
    "def heaps_algo(k, arr):\n",
    "    print('ha run')\n",
    "    print('arr start algo ' , arr , 'k ' , k)\n",
    "    if k == 1:\n",
    "        print('  base case ' , arr)\n",
    "    else:\n",
    "        heaps_algo(k-1, arr)\n",
    "        print('  after first heap algo ' , arr , 'k ' , k)\n",
    "        for i in range(k-1):\n",
    "            if k % 2 == 0:\n",
    "                arr[i], arr[k-1] = arr[k-1], arr[i]\n",
    "                print('swap even')\n",
    "            else:\n",
    "                arr[0], arr[k-1] = arr[k-1], arr[0]\n",
    "                print('swap odd')\n",
    "            heaps_algo(k-1, arr)\n",
    "            print('     after second heap algo ' , arr , 'k ' , k)\n",
    "            \n",
    "arr = [0,1,2]\n",
    "heaps_algo(len(arr), arr)                     \n",
    "        "
   ]
  },
  {
   "cell_type": "code",
   "execution_count": 199,
   "metadata": {},
   "outputs": [
    {
     "name": "stdout",
     "output_type": "stream",
     "text": [
      "[(1, 2, 3), (1, 3, 2), (2, 1, 3), (2, 3, 1), (3, 1, 2), (3, 2, 1)]\n"
     ]
    }
   ],
   "source": [
    "# lazy method\n",
    "from itertools import permutations \n",
    "l = list(permutations(range(1, 4))) \n",
    "print(l)"
   ]
  },
  {
   "cell_type": "markdown",
   "metadata": {},
   "source": [
    "## String permutations - building up from length of substring 1 substring - 2 substring - 3 substring  -  One Recursive Call, One Parameter- One Recursive Call - One Parameter\n",
    "repitition not allowed - [ab] ->[[ab], [ba]]\n",
    "\n",
    "this technque uses an index variable passed around to guide where you add the last element but follows the same algoritm as above\n",
    "``new_permutation = permutation[0: index] + current_char + permutation[index:]``\n",
    "this line of code does the same thing as the  ``r.insert(j, first_element)``\n",
    "\n",
    "### Problem Statement\n",
    "\n",
    "Given an input string, return all permutations of the string in an array.\n",
    "\n",
    "**Example 1:**\n",
    "* `string = 'ab'`\n",
    "* `output = ['ab', 'ba']`\n",
    "\n",
    "**Example 2:**\n",
    "* `string = 'abc'`\n",
    "* `output = ['abc', 'bac', 'bca', 'acb', 'cab', 'cba']`\n",
    "\n",
    "These recursive functions both work with the same trick\n",
    "take a base string 'ab'  then take the another letter 'c' and plug it in at the begining, middle and end\n"
   ]
  },
  {
   "cell_type": "code",
   "execution_count": 98,
   "metadata": {},
   "outputs": [
    {
     "name": "stdout",
     "output_type": "stream",
     "text": [
      "start of return_permutations function arguments: string ab index 0\n",
      "start of return_permutations function arguments: string ab index 1\n",
      "start of return_permutations function arguments: string ab index 2\n",
      "base case hit\n",
      "output of return_permutaions rescursive call ['']]\n",
      "current_char b\n",
      "permutation  \n",
      "new_permutation b\n",
      "output of return_permutaions rescursive call ['b']]\n",
      "current_char a\n",
      "permutation  b\n",
      "new_permutation ab\n",
      "new_permutation ba\n",
      "Pass\n",
      "start of return_permutations function arguments: string abc index 0\n",
      "start of return_permutations function arguments: string abc index 1\n",
      "start of return_permutations function arguments: string abc index 2\n",
      "start of return_permutations function arguments: string abc index 3\n",
      "base case hit\n",
      "output of return_permutaions rescursive call ['']]\n",
      "current_char c\n",
      "permutation  \n",
      "new_permutation c\n",
      "output of return_permutaions rescursive call ['c']]\n",
      "current_char b\n",
      "permutation  c\n",
      "new_permutation bc\n",
      "new_permutation cb\n",
      "output of return_permutaions rescursive call ['bc', 'cb']]\n",
      "current_char a\n",
      "permutation  bc\n",
      "new_permutation abc\n",
      "new_permutation bac\n",
      "new_permutation bca\n",
      "permutation  cb\n",
      "new_permutation acb\n",
      "new_permutation cab\n",
      "new_permutation cba\n",
      "Pass\n",
      "start of return_permutations function arguments: string abcd index 0\n",
      "start of return_permutations function arguments: string abcd index 1\n",
      "start of return_permutations function arguments: string abcd index 2\n",
      "start of return_permutations function arguments: string abcd index 3\n",
      "start of return_permutations function arguments: string abcd index 4\n",
      "base case hit\n",
      "output of return_permutaions rescursive call ['']]\n",
      "current_char d\n",
      "permutation  \n",
      "new_permutation d\n",
      "output of return_permutaions rescursive call ['d']]\n",
      "current_char c\n",
      "permutation  d\n",
      "new_permutation cd\n",
      "new_permutation dc\n",
      "output of return_permutaions rescursive call ['cd', 'dc']]\n",
      "current_char b\n",
      "permutation  cd\n",
      "new_permutation bcd\n",
      "new_permutation cbd\n",
      "new_permutation cdb\n",
      "permutation  dc\n",
      "new_permutation bdc\n",
      "new_permutation dbc\n",
      "new_permutation dcb\n",
      "output of return_permutaions rescursive call ['bcd', 'cbd', 'cdb', 'bdc', 'dbc', 'dcb']]\n",
      "current_char a\n",
      "permutation  bcd\n",
      "new_permutation abcd\n",
      "new_permutation bacd\n",
      "new_permutation bcad\n",
      "new_permutation bcda\n",
      "permutation  cbd\n",
      "new_permutation acbd\n",
      "new_permutation cabd\n",
      "new_permutation cbad\n",
      "new_permutation cbda\n",
      "permutation  cdb\n",
      "new_permutation acdb\n",
      "new_permutation cadb\n",
      "new_permutation cdab\n",
      "new_permutation cdba\n",
      "permutation  bdc\n",
      "new_permutation abdc\n",
      "new_permutation badc\n",
      "new_permutation bdac\n",
      "new_permutation bdca\n",
      "permutation  dbc\n",
      "new_permutation adbc\n",
      "new_permutation dabc\n",
      "new_permutation dbac\n",
      "new_permutation dbca\n",
      "permutation  dcb\n",
      "new_permutation adcb\n",
      "new_permutation dacb\n",
      "new_permutation dcab\n",
      "new_permutation dcba\n",
      "Pass\n"
     ]
    }
   ],
   "source": [
    "def permutations(string):\n",
    "  \n",
    "    return return_permutations(string, 0)\n",
    "    \n",
    "def return_permutations(string, index):\n",
    "    # Base Case\n",
    "    print(f'start of return_permutations function arguments: string {string} index {index}')\n",
    "    if index >= len(string):\n",
    "        print('base case hit')\n",
    "        return [\"\"]\n",
    "    \n",
    "    current_char = string[index]\n",
    "    small_output = return_permutations(string, index + 1)\n",
    "    print(f'output of return_permutaions rescursive call {small_output}]')\n",
    "    \n",
    "    output = list()\n",
    "   \n",
    "    print(f'current_char {current_char}')\n",
    "    # iterate over each permutation string received thus far\n",
    "    # and place the current character at between different indices of the string\n",
    "    for permutation in small_output:\n",
    "        print('permutation ' , permutation)\n",
    "        for index in range(len(small_output[0]) + 1):            \n",
    "            new_permutation = permutation[0: index] + current_char + permutation[index:]\n",
    "            print(f'new_permutation {new_permutation}')\n",
    "            output.append(new_permutation)\n",
    "    return output\n",
    "\n",
    "def test_function(test_case):\n",
    "    string = test_case[0]\n",
    "    solution = test_case[1]\n",
    "    output = permutations(string)\n",
    "    \n",
    "    output.sort()\n",
    "    solution.sort()\n",
    "    \n",
    "    if output == solution:\n",
    "        print(\"Pass\")\n",
    "    else:\n",
    "        print(\"Fail\")\n",
    "        \n",
    "\n",
    "        \n",
    "string = 'ab'\n",
    "solution = ['ab', 'ba']\n",
    "test_case = [string, solution]\n",
    "test_function(test_case)\n",
    "\n",
    "string = 'abc'\n",
    "output = ['abc', 'bac', 'bca', 'acb', 'cab', 'cba']\n",
    "test_case = [string, output]\n",
    "test_function(test_case)\n",
    "\n",
    "string = 'abcd'\n",
    "output = ['abcd', 'bacd', 'bcad', 'bcda', 'acbd', 'cabd', 'cbad', 'cbda', 'acdb', 'cadb', 'cdab', 'cdba', 'abdc', 'badc', 'bdac', 'bdca', 'adbc', 'dabc', 'dbac', 'dbca', 'adcb', 'dacb', 'dcab', 'dcba']\n",
    "test_case = [string, output]\n",
    "test_function(test_case)"
   ]
  },
  {
   "cell_type": "markdown",
   "metadata": {},
   "source": [
    "<hr>"
   ]
  },
  {
   "cell_type": "markdown",
   "metadata": {},
   "source": [
    "<a id='combinations'></a>\n",
    "## Combinations or Ordering - \n",
    "#### Order Does Not Matters = \n",
    "this means.  0,1 is the same as 1,0\n",
    "\n",
    "### Recongnize an Combination Problem\n",
    "* Always start with a collection of numbers (or something else) then you have to put them together combinations\n",
    "* ask if 0,1 is the same as 1,0\n",
    "* the nature of the problem can also distinquish it as a combinations problem\n",
    "* the order of the inputs guide the results - key pad combinations\n",
    "* asks for subsets"
   ]
  },
  {
   "cell_type": "markdown",
   "metadata": {},
   "source": [
    "###  Keypad Combinations - One Recursive Call - One Parameter\n",
    "\n",
    "A keypad on a cellphone has alphabets for all numbers between 2 and 9. \n",
    "\n",
    "You can make different combinations of alphabets by pressing the numbers.\n",
    "\n",
    "For example, if you press `23,  (2 = abc, 3 = def)` the following combinations are possible:\n",
    "\n",
    "`ad, ae, af, bd, be, bf, cd, ce, cf`\n",
    "\n",
    "Note that because 2 is pressed before 3, the first letter is always an alphabet on the number 2.\n",
    "Likewise, if the user types 32, the order would be\n",
    "\n",
    "`da, db, dc, ea, eb, ec, fa, fb, fc`\n",
    "\n",
    "\n",
    "Given an integer `num`, find out all the possible strings that can be made using digits of input `num`. \n",
    "Return these strings in a list. The order of strings in the list does not matter. However, as stated earlier, the order of letters in a particular string matters.\n",
    "\n",
    "Analysis\n",
    "\n",
    "number 375\n",
    "* the prep work before recursion is used to grab every digit except the first (3)\n",
    "* the recursive call is a used to break down the number from right to left \n",
    "* the last recursive call base base case will have the first number (3) and convert it to the characters ['d', 'e', 'f']  in a list form - - small_output\n",
    "* after base case: last_digit (7) will be coverted to characters (pqrs)\n",
    "* now the code takes these characters and combines them like :  small_output + last_digit loop - this is simple nested for loop \n",
    "\n",
    "The big oh is bad on this N^2\n",
    "\n"
   ]
  },
  {
   "cell_type": "code",
   "execution_count": 5,
   "metadata": {},
   "outputs": [
    {
     "name": "stdout",
     "output_type": "stream",
     "text": [
      "outside of recursion small_output ['d', 'e', 'f'] last digit 5 keypad_String - jkl\n",
      "new item dj\n",
      "new item ej\n",
      "new item fj\n",
      "new item dk\n",
      "new item ek\n",
      "new item fk\n",
      "new item dl\n",
      "new item el\n",
      "new item fl\n",
      "outside of recursion small_output ['dj', 'ej', 'fj', 'dk', 'ek', 'fk', 'dl', 'el', 'fl'] last digit 4 keypad_String - ghi\n",
      "new item djg\n",
      "new item ejg\n",
      "new item fjg\n",
      "new item dkg\n",
      "new item ekg\n",
      "new item fkg\n",
      "new item dlg\n",
      "new item elg\n",
      "new item flg\n",
      "new item djh\n",
      "new item ejh\n",
      "new item fjh\n",
      "new item dkh\n",
      "new item ekh\n",
      "new item fkh\n",
      "new item dlh\n",
      "new item elh\n",
      "new item flh\n",
      "new item dji\n",
      "new item eji\n",
      "new item fji\n",
      "new item dki\n",
      "new item eki\n",
      "new item fki\n",
      "new item dli\n",
      "new item eli\n",
      "new item fli\n",
      "Yay. We got it right.\n"
     ]
    }
   ],
   "source": [
    "def get_characters(num):\n",
    "    if num == 2:\n",
    "        return \"abc\"\n",
    "    elif num == 3:\n",
    "        return \"def\"\n",
    "    elif num == 4:\n",
    "        return \"ghi\"\n",
    "    elif num == 5:\n",
    "        return \"jkl\"\n",
    "    elif num == 6:\n",
    "        return \"mno\"\n",
    "    elif num == 7:\n",
    "        return \"pqrs\"\n",
    "    elif num == 8:\n",
    "        return \"tuv\"\n",
    "    elif num == 9:\n",
    "        return \"wxyz\"\n",
    "    else:\n",
    "        return \"\"\n",
    "    \n",
    "def keypad(num):\n",
    "    if num <= 1:\n",
    "        return [\"\"]\n",
    "    elif 1 < num <= 9:\n",
    "        return list(get_characters(num))\n",
    "    # input 24\n",
    "    last_digit = num % 10 # get last digit = 4\n",
    "    \n",
    "    # recursion\n",
    "    small_output = keypad(num//10) # recurse with every digit but last = 2\n",
    "    \n",
    "    keypad_string = get_characters(last_digit)\n",
    "   \n",
    "    print(f'outside of recursion small_output {small_output} last digit {last_digit} keypad_String - {keypad_string}')\n",
    "    output = list()\n",
    "    for character in keypad_string:\n",
    "        for item in small_output:\n",
    "            new_item = item + character\n",
    "            print(f'new item {new_item}')\n",
    "            output.append(new_item)\n",
    "    return output\n",
    "\n",
    "def test_keypad(input, expected_output):\n",
    "    if sorted(keypad(input)) == expected_output:\n",
    "        print(\"Yay. We got it right.\")\n",
    "    else:\n",
    "        print(\"Oops! That was incorrect.\")\n",
    "\n",
    "# input = 23\n",
    "# expected_output = sorted([\"ad\", \"ae\", \"af\", \"bd\", \"be\", \"bf\", \"cd\", \"ce\", \"cf\"])\n",
    "# test_keypad(input, expected_output)\n",
    "\n",
    "input = 354\n",
    "expected_output = sorted([\"djg\", \"ejg\", \"fjg\", \"dkg\", \"ekg\", \"fkg\", \"dlg\", \"elg\", \"flg\", \"djh\", \"ejh\", \"fjh\", \"dkh\", \"ekh\", \"fkh\", \"dlh\", \"elh\", \"flh\", \"dji\", \"eji\", \"fji\", \"dki\", \"eki\", \"fki\", \"dli\", \"eli\", \"fli\"])\n",
    "test_keypad(input, expected_output)\n",
    "        \n",
    "# # Base case: list with empty string\n",
    "# input = 0\n",
    "# expected_output = [\"\"]\n",
    "# test_keypad(input, expected_output)\n"
   ]
  },
  {
   "cell_type": "markdown",
   "metadata": {},
   "source": [
    "### Combination of digits with conditions - Return-Codes\n",
    "#### Two Recursive Calls - Two Parameters used before recursion - NEW: Two output data structures one for each recusive call output, then combined into one for return \n",
    "\n",
    "In an encryption system where ASCII lower case letters represent numbers in the pattern `a=1, b=2, c=3...` and so on, find out all the codes that are possible for a given input number. \n",
    "\n",
    "**Example 1**\n",
    "\n",
    "* `number = 123`\n",
    "* `codes_possible = [\"aw\", \"abc\", \"lc\"]`\n",
    "\n",
    "Explanation: The codes are for the following number:\n",
    "         \n",
    "* 1 . 23     = \"aw\"\n",
    "* 1 . 2 . 3  = \"abc\"\n",
    "* 12 . 3     = \"lc\"\n",
    "    \n",
    "\n",
    "**Example 2**  \n",
    "\n",
    "* `number = 145`\n",
    "* `codes_possible = [\"ade\", \"ne\"]`\n",
    "\n",
    "Return the codes in a list. The order of codes in the list is not important.\n",
    "\n",
    "def get_alphabet(number):\n",
    "    \"\"\"\n",
    "    Helper function to figure out alphabet of a particular number\n",
    "    Remember: \n",
    "        * ASCII for lower case 'a' = 97\n",
    "        * chr(num) returns ASCII character for a number e.g. chr(65) ==> 'A'\n",
    "    \"\"\"\n",
    "    return chr(number + 96)*Note: you can assume that the input number will not contain any 0s*\n",
    "    \n",
    "    \n",
    "#### What is going on here:\n",
    "This is a clever use of recusion I have not see this format yet\n",
    "* two recursive calls each using different modifications of passed variable (first two digits and first digit). the algo breaks it into double or single digits\n",
    "1. before recursinon: get first two digits as variable used after recursion\n",
    "2. if first two digits are valid , send all digits before first two digits into recursion land \n",
    "3. 123 example \n",
    "    1. first recursive call gets us 1 23\n",
    "    2. second recursive call gets us 12 3 and 1 2 3 \n",
    "4. the trick he is we are recusivly breaking down the number in order by twos and \n",
    "ones\n",
    "5. the other tricks is there are two output lists for building the twos and ones recursive calls"
   ]
  },
  {
   "cell_type": "code",
   "execution_count": 4,
   "metadata": {},
   "outputs": [
    {
     "name": "stdout",
     "output_type": "stream",
     "text": [
      "Pass\n",
      "Pass\n",
      "Pass\n",
      "Pass\n"
     ]
    }
   ],
   "source": [
    "def get_alphabet(number):\n",
    "    \"\"\"\n",
    "    Helper function to figure out alphabet of a particular number\n",
    "    Remember: \n",
    "        * ASCII for lower case 'a' = 97\n",
    "        * chr(num) returns ASCII character for a number e.g. chr(65) ==> 'A'\n",
    "    \"\"\"\n",
    "    return chr(number + 96)\n",
    "\n",
    "def all_codes(number):\n",
    "    if number == 0:\n",
    "        return [\"\"]\n",
    "    \n",
    "    # calculation for two right-most digits e.g. if number = 1123, this calculation is meant for 23\n",
    "    # variable one used after recursion\n",
    "    remainder = number % 100\n",
    "    # first output list\n",
    "    output_100 = list()\n",
    "    if remainder <= 26 and number > 9 :\n",
    "        \n",
    "        # get all codes for the remaining number\n",
    "        output_100 = all_codes(number // 100)\n",
    "        alphabet = get_alphabet(remainder)\n",
    "        \n",
    "        for index, element in enumerate(output_100):\n",
    "            output_100[index] = element + alphabet\n",
    "    \n",
    "    # calculation for right-most digit e.g. if number = 1123, this calculation is meant for 3\n",
    "    # variable two used after recursion    \n",
    "    remainder = number % 10\n",
    "    \n",
    "    # get all codes for the remaining number\n",
    "    output_10 = all_codes(number // 10)\n",
    "    alphabet = get_alphabet(remainder)\n",
    "    \n",
    "    for index, element in enumerate(output_10):\n",
    "        output_10[index] = element + alphabet\n",
    "    \n",
    "    # second output list\n",
    "    output = list()\n",
    "    output.extend(output_100)\n",
    "    output.extend(output_10)\n",
    "    \n",
    "    return output\n",
    "\n",
    "def test_function(test_case):\n",
    "    number = test_case[0]\n",
    "    solution = test_case[1]\n",
    "    \n",
    "    output = all_codes(number)\n",
    "    \n",
    "    output.sort()\n",
    "    solution.sort()\n",
    "    \n",
    "    if output == solution:\n",
    "        print(\"Pass\")\n",
    "    else:\n",
    "        print(\"Fail\")\n",
    "  \n",
    "\n",
    "number = 123\n",
    "solution = ['abc', 'aw', 'lc']\n",
    "test_case = [number, solution]\n",
    "test_function(test_case)\n",
    "\n",
    "number = 145\n",
    "solution =  ['ade', 'ne']\n",
    "test_case = [number, solution]\n",
    "test_function(test_case)\n",
    "\n",
    "number = 1145\n",
    "solution =  ['aade', 'ane', 'kde']\n",
    "test_case = [number, solution]\n",
    "test_function(test_case)\n",
    "\n",
    "number = 4545\n",
    "solution = ['dede']\n",
    "test_case = [number, solution]\n",
    "test_function(test_case)\n",
    "\n",
    "\n"
   ]
  },
  {
   "cell_type": "markdown",
   "metadata": {},
   "source": [
    "## Return Subsets - called Power Sets\n",
    "\n",
    "\n",
    "Given an integer array, find and return all the subsets of the array.\n",
    "The order of subsets in the output array is not important. However the order of elements in a particular subset should remain the same as in the input array.\n",
    "\n",
    "*Note: An empty set will be represented by an empty list*\n",
    "\n",
    "**Example 1**\n",
    "\n",
    "```\n",
    "arr = [9]\n",
    "\n",
    "output = [[]\n",
    "          [9]]\n",
    "```\n",
    "\n",
    "**Example 2**\n",
    "\n",
    "```\n",
    "arr = [9, 12, 15]\n",
    "\n",
    "output =  [[],\n",
    "           [15],\n",
    "           [12],\n",
    "           [12, 15],\n",
    "           [9],\n",
    "           [9, 15],\n",
    "           [9, 12],\n",
    "           [9, 12, 15]]\n",
    "```\n",
    "\n",
    "## How to solve\n",
    "* ordered combinations - no premutations\n",
    "* base case: empty array we need to recusive it down to empty array\n",
    "* we are going to need to break list down into individual elements and rebuild it back up the recursion tree\n",
    "* the output is recreated after every resursion\n",
    "    * previous elements, from recursive call, are re-added\n",
    "    * then index element is added by itself then added to each of the previous elements\n",
    "\n",
    "Problems\n",
    "1. have to return base case as empty list [[]] - this enables adding to other lists\n",
    "2. deep copy of results - if you are going to alter the results you have to deep opy them \n",
    "3. adding list together was a problem\n",
    "4. appending results to output before alter them"
   ]
  },
  {
   "cell_type": "code",
   "execution_count": 212,
   "metadata": {},
   "outputs": [
    {
     "name": "stdout",
     "output_type": "stream",
     "text": [
      "[[]]\n",
      "current  [9]\n",
      "[[], [9]]\n",
      "Pass\n",
      "[[]]\n",
      "current  [7]\n",
      "[[], [7]]\n",
      "current  [5]\n",
      "current  [5, 7]\n",
      "[[], [7], [5], [5, 7]]\n",
      "Pass\n",
      "[[]]\n",
      "current  [15]\n",
      "[[], [15]]\n",
      "current  [12]\n",
      "current  [12, 15]\n",
      "[[], [15], [12], [12, 15]]\n",
      "current  [9]\n",
      "current  [9, 15]\n",
      "current  [9, 12]\n",
      "current  [9, 12, 15]\n",
      "[[], [15], [12], [12, 15], [9], [9, 15], [9, 12], [9, 12, 15]]\n",
      "Pass\n",
      "[[]]\n",
      "current  [8]\n",
      "[[], [8]]\n",
      "current  [9]\n",
      "current  [9, 8]\n",
      "[[], [8], [9], [9, 8]]\n",
      "current  [8]\n",
      "current  [8, 8]\n",
      "current  [8, 9]\n",
      "current  [8, 9, 8]\n",
      "[[], [8], [9], [9, 8], [8], [8, 8], [8, 9], [8, 9, 8]]\n",
      "current  [9]\n",
      "current  [9, 8]\n",
      "current  [9, 9]\n",
      "current  [9, 9, 8]\n",
      "current  [9, 8]\n",
      "current  [9, 8, 8]\n",
      "current  [9, 8, 9]\n",
      "current  [9, 8, 9, 8]\n",
      "[[], [8], [9], [9, 8], [8], [8, 8], [8, 9], [8, 9, 8], [9], [9, 8], [9, 9], [9, 9, 8], [9, 8], [9, 8, 8], [9, 8, 9], [9, 8, 9, 8]]\n",
      "Pass\n"
     ]
    }
   ],
   "source": [
    "# my solution\n",
    "def subsets2(arr):\n",
    "    \"\"\"\n",
    "    :param: arr - input integer array\n",
    "    Return - list of lists (two dimensional array) where each list represents a subset\n",
    "    TODO: complete this method to return subsets of an array\n",
    "    \"\"\"\n",
    "    \n",
    "    if len(arr) == 0:\n",
    "        return [[]]\n",
    "                   \n",
    "    output = []\n",
    "    \n",
    "    element = arr[0]\n",
    "    results = subsets(arr[1:])\n",
    "   \n",
    "    output.extend(results)\n",
    "    \n",
    "    for r in results:           \n",
    "        current = list()\n",
    "        current.append(element)\n",
    "        current.extend(r)\n",
    "        output.append(current)\n",
    "\n",
    "    return output\n",
    "    \n",
    "# their solution\n",
    "# . breaks it down to empty array\n",
    "# variable on each recusive call is index\n",
    "# only one recusive call\n",
    "\n",
    "def subsets(arr):\n",
    "    return return_subsets(arr, 0)\n",
    "\n",
    "def return_subsets(arr, index):\n",
    "    if index >= len(arr):\n",
    "        return [[]]\n",
    "\n",
    "    small_output = return_subsets(arr, index + 1)\n",
    "    \n",
    "    print(small_output)\n",
    "    \n",
    "    output = list()\n",
    "    \n",
    "    # append existing subsets\n",
    "    for element in small_output:\n",
    "        output.append(element)\n",
    "\n",
    "    # add current elements to existing subsets and add them to the output\n",
    "    #\n",
    "    # this is just use to add the current element (arr[index]) to the front of all the small_output\n",
    "    for element in small_output:\n",
    "        current = list()\n",
    "        # adds element at current list\n",
    "        current.append(arr[index])\n",
    "        # adds entire element to current list\n",
    "        current.extend(element)\n",
    "        # adds both to output\n",
    "        output.append(current)\n",
    "        print('current ', current)\n",
    "    return output\n",
    "    \n",
    "    \n",
    "def test_function(test_case):\n",
    "    arr = test_case[0]\n",
    "    solution = test_case[1]\n",
    "    \n",
    "    output = subsets(arr)\n",
    "    \n",
    "    print(output)\n",
    "    \n",
    "    output.sort()\n",
    "    solution.sort()\n",
    "    \n",
    "    \n",
    "    if output == solution:\n",
    "        print(\"Pass\")\n",
    "    else:\n",
    "        print(\"Fail\")    \n",
    "    \n",
    "    \n",
    "arr = [9]\n",
    "solution = [[], [9]]\n",
    "\n",
    "\n",
    "test_case = [arr, solution]\n",
    "test_function(test_case)\n",
    "\n",
    "arr = [5, 7]\n",
    "solution = [[], [7], [5], [5, 7]]\n",
    "test_case = [arr, solution]\n",
    "test_function(test_case)\n",
    "\n",
    "arr = [9, 12, 15]\n",
    "solution = [[], [15], [12], [12, 15], [9], [9, 15], [9, 12], [9, 12, 15]]\n",
    "\n",
    "test_case = [arr, solution]\n",
    "test_function(test_case)\n",
    "\n",
    "arr = [9, 8, 9, 8]\n",
    "solution = [[],\n",
    "[8],\n",
    "[9],\n",
    "[9, 8],\n",
    "[8],\n",
    "[8, 8],\n",
    "[8, 9],\n",
    "[8, 9, 8],\n",
    "[9],\n",
    "[9, 8],\n",
    "[9, 9],\n",
    "[9, 9, 8],\n",
    "[9, 8],\n",
    "[9, 8, 8],\n",
    "[9, 8, 9],\n",
    "[9, 8, 9, 8]]\n",
    "\n",
    "test_case = [arr, solution]\n",
    "test_function(test_case)"
   ]
  },
  {
   "cell_type": "markdown",
   "metadata": {},
   "source": [
    "#### Generate all Subsets of size K\n",
    "k = size of sets. {0,1} is size 2  \n",
    "n = number of digits to use 1 - n.   3 would be {1,2,3}\n",
    "k = 2 and n = 5  \n",
    "{{1,2}, {1,3}, {1,4}, {1,5}, {2,3}, {2,4}, {2,5}, {3,4}, {3,5}, {4,5} }\n",
    "\n",
    "How \n",
    "* build up from []\n",
    "* add [1]\n",
    "* add all variations of [1, n]\n",
    "* \n"
   ]
  },
  {
   "cell_type": "code",
   "execution_count": 218,
   "metadata": {},
   "outputs": [
    {
     "name": "stdout",
     "output_type": "stream",
     "text": [
      "[]\n",
      "[1]\n",
      "[1, 2]\n",
      "[1, 3]\n",
      "[1, 4]\n",
      "[2]\n",
      "[2, 3]\n",
      "[2, 4]\n",
      "[3]\n",
      "[3, 4]\n",
      "[4]\n",
      "[[1, 2], [1, 3], [1, 4], [2, 3], [2, 4], [3, 4]]\n"
     ]
    }
   ],
   "source": [
    "def combinations(n, k):\n",
    "    result = []\n",
    "    \n",
    "    def directed_combinations(offset, partial_combination):\n",
    "        print(partial_combination)\n",
    "        \n",
    "        if len(partial_combination) == k:\n",
    "            result.append(list(partial_combination))\n",
    "            return\n",
    "        \n",
    "        num_remaining = k - len(partial_combination)\n",
    "        \n",
    "        # offset keeps moving n number of digits to use to the right one\n",
    "        # start with [2,3,4,5] then [3,4,5]\n",
    "        i = offset        \n",
    "        while i < n and num_remaining <= n - i + 1:\n",
    "            directed_combinations(i + 1, partial_combination + [i])\n",
    "            i += 1\n",
    "            \n",
    "    directed_combinations(1, [])        \n",
    "    print(result)\n",
    "    \n",
    "    \n",
    "combinations(5, 2)\n"
   ]
  },
  {
   "cell_type": "markdown",
   "metadata": {},
   "source": [
    "####  Generate Strings of Matched Parens\n",
    "k = 2   would be '()()' '(())'"
   ]
  },
  {
   "cell_type": "code",
   "execution_count": 225,
   "metadata": {},
   "outputs": [
    {
     "name": "stdout",
     "output_type": "stream",
     "text": [
      "['((()))', '(()())', '(())()', '()(())', '()()()']\n"
     ]
    }
   ],
   "source": [
    "def generate_balance_parenthese(num_pairs):\n",
    "    def directed_generate_balanced_parentheses(num_left_parens_needed, \n",
    "                                               num_right_parens_needed, \n",
    "                                               valid_prefix, \n",
    "                                               result=[]):\n",
    "        if num_left_parens_needed > 0:\n",
    "            directed_generate_balanced_parentheses(num_left_parens_needed - 1, \n",
    "                                                   num_right_parens_needed,\n",
    "                                                   valid_prefix + '(')\n",
    "        if num_left_parens_needed < num_right_parens_needed:\n",
    "            directed_generate_balanced_parentheses(num_left_parens_needed,\n",
    "                                                  num_right_parens_needed - 1,\n",
    "                                                  valid_prefix + ')')\n",
    "        if not num_right_parens_needed:\n",
    "            result.append(valid_prefix)\n",
    "        \n",
    "        return result\n",
    "    \n",
    "    return directed_generate_balanced_parentheses(num_pairs, num_pairs, '')\n",
    "print(generate_balance_parenthese(3))   "
   ]
  },
  {
   "cell_type": "code",
   "execution_count": null,
   "metadata": {},
   "outputs": [],
   "source": []
  },
  {
   "cell_type": "markdown",
   "metadata": {},
   "source": [
    "<a id='dandc'></a>\n",
    "## Divide and Conquer\n",
    "* split input into two paths\n",
    "* searching/sorting/trees\n",
    "* examples\n",
    "    * mergesort\n",
    "    * quick sort\n",
    "    * generate all BSTs for s set of items\n",
    "    * find all valud parentheses\n",
    "\n",
    "How?  \n",
    "Works by repeatedly decomposing a problems into two or more smaller independent subproblems of the same kind, until it gets to instances that are simple enough to be solved directly. the solutions to the subproblems are then combined to give a solution to the original problems. \n"
   ]
  },
  {
   "cell_type": "markdown",
   "metadata": {},
   "source": [
    "### Merge Sort - 2 recursive calls, one variable array (split down middle left half and right half)\n",
    "does not return anything, array is sorted in place"
   ]
  },
  {
   "cell_type": "code",
   "execution_count": 81,
   "metadata": {},
   "outputs": [
    {
     "name": "stdout",
     "output_type": "stream",
     "text": [
      "[8, 3, 1, 7, 0, 10, 2] to [0, 1, 2, 3, 7, 8, 10]\n",
      "[1, 0] to [0, 1]\n",
      "[97, 98, 99] to [97, 98, 99]\n"
     ]
    }
   ],
   "source": [
    "def mergesort(items):\n",
    "    if len(items) <= 1:\n",
    "        return items\n",
    "    \n",
    "    mid = len(items) // 2\n",
    "    left = items[:mid]\n",
    "    right = items[mid:]\n",
    "    \n",
    "    left = mergesort(left)\n",
    "    right = mergesort(right)\n",
    "    \n",
    "    return merge(left, right)\n",
    "    \n",
    "def merge(left, right):\n",
    "    \n",
    "    merged = []\n",
    "    left_index = 0\n",
    "    right_index = 0\n",
    "    \n",
    "    while left_index < len(left) and right_index < len(right):\n",
    "        if left[left_index] > right[right_index]:\n",
    "            merged.append(right[right_index])\n",
    "            right_index += 1\n",
    "        else:\n",
    "            merged.append(left[left_index])\n",
    "            left_index += 1\n",
    "\n",
    "    merged += left[left_index:]\n",
    "    merged += right[right_index:]\n",
    "        \n",
    "    return merged\n",
    "\n",
    "\n",
    "test_list_1 = [8, 3, 1, 7, 0, 10, 2]\n",
    "test_list_2 = [1, 0]\n",
    "test_list_3 = [97, 98, 99]\n",
    "print('{} to {}'.format(test_list_1, mergesort(test_list_1)))\n",
    "print('{} to {}'.format(test_list_2, mergesort(test_list_2)))\n",
    "print('{} to {}'.format(test_list_3, mergesort(test_list_3)))"
   ]
  },
  {
   "cell_type": "markdown",
   "metadata": {},
   "source": [
    "### Find Array Extremes Efficiently - Multiple Recursion \n",
    "\n",
    "* breaks problems down to length 2 \n",
    "* if array is len 1 it duplicates is {6} -. [6,6]\n",
    "* then just compares 2 at base case \n",
    "* only returns min and max on each return"
   ]
  },
  {
   "cell_type": "code",
   "execution_count": 121,
   "metadata": {},
   "outputs": [
    {
     "name": "stdout",
     "output_type": "stream",
     "text": [
      "(2, 22)\n"
     ]
    }
   ],
   "source": [
    "def min_and_max(arr):\n",
    "    if len(arr) == 1:\n",
    "        return arr[0], arr[0]\n",
    "    elif len(arr) == 2:\n",
    "        return (arr[0], arr[1]) if arr[0] < arr[1] else (arr[1], arr[0])\n",
    "    else:\n",
    "        n = len(arr) // 2\n",
    "        lmin, lmax = min_and_max(arr[:n])\n",
    "        rmin, rmax = min_and_max(arr[n:])\n",
    "        return min(lmin, rmin), max(lmax, rmax)\n",
    "    \n",
    "print(min_and_max([2,5,8,3,5,22]))"
   ]
  },
  {
   "cell_type": "markdown",
   "metadata": {},
   "source": [
    "<a id='searching'></a>\n",
    "## Searching"
   ]
  },
  {
   "cell_type": "markdown",
   "metadata": {},
   "source": [
    "### Last index recursion\n",
    "\n",
    "Given an array `arr` and a target element `target`, find the last index of occurence of `target` in `arr` using recursion. If `target` is not present in `arr`, return `-1`.\n",
    "\n",
    "For example:\n",
    "\n",
    "1. For `arr = [1, 2, 5, 5, 4]` and `target = 5`, `output = 3`\n",
    "\n",
    "2. For `arr = [1, 2, 5, 5, 4]` and `target = 7`, `output = -1`\n",
    "\n",
    "Just searches full array and the return of the recursion will always the index closes to the base case"
   ]
  },
  {
   "cell_type": "code",
   "execution_count": 78,
   "metadata": {},
   "outputs": [
    {
     "name": "stdout",
     "output_type": "stream",
     "text": [
      "Pass\n",
      "Pass\n",
      "Pass\n",
      "Pass\n"
     ]
    }
   ],
   "source": [
    "# Solution\n",
    "def last_index(arr, target):\n",
    "    # we start looking from the last index\n",
    "    return last_index_arr(arr, target, len(arr) - 1)\n",
    "\n",
    "\n",
    "def last_index_arr(arr, target, index):\n",
    "    if index < 0:\n",
    "        return -1\n",
    "    \n",
    "    # check if target is found\n",
    "    if arr[index] == target:\n",
    "        return index\n",
    "\n",
    "    # else make a recursive call to the rest of the array\n",
    "    return last_index_arr(arr, target, index - 1)\n",
    "\n",
    "\n",
    "def test_function(test_case):\n",
    "    arr = test_case[0]\n",
    "    target = test_case[1]\n",
    "    solution = test_case[2]\n",
    "    output = last_index(arr, target)\n",
    "    if output == solution:\n",
    "        print(\"Pass\")\n",
    "    else:\n",
    "        print(\"False\")\n",
    "        \n",
    "arr = [1, 2, 5, 5, 4]\n",
    "target = 5\n",
    "solution = 3\n",
    "\n",
    "test_case = [arr, target, solution]\n",
    "test_function(test_case)\n",
    "\n",
    "arr = [1, 2, 5, 5, 4]\n",
    "target = 7\n",
    "solution = -1\n",
    "\n",
    "test_case = [arr, target, solution]\n",
    "test_function(test_case)\n",
    "\n",
    "arr = [91, 19, 3, 8, 9]\n",
    "target = 91\n",
    "solution = 0\n",
    "\n",
    "test_case = [arr, target, solution]\n",
    "test_function(test_case)\n",
    "\n",
    "arr = [1, 1, 1, 1, 1, 1]\n",
    "target = 1\n",
    "solution = 5\n",
    "\n",
    "test_case = [arr, target, solution]\n",
    "test_function(test_case)"
   ]
  },
  {
   "cell_type": "markdown",
   "metadata": {},
   "source": [
    "<a id='dfs'></a>\n",
    "## Depth First Search\n",
    "### SEE 11_TREES_DFS"
   ]
  },
  {
   "cell_type": "code",
   "execution_count": null,
   "metadata": {},
   "outputs": [],
   "source": []
  },
  {
   "cell_type": "markdown",
   "metadata": {},
   "source": [
    "<a id='backtracking'></a>\n",
    "# Backtracking\n",
    "\n",
    "* The call stack remembers our choices and knows what to choose next\n",
    "* if there are multiple decision to make usually use backtracking\n",
    "\n",
    "#### 3 keys\n",
    "1. Our choice\n",
    "    * what choice do we want to make at each call of the function\n",
    "    * recursion expresses decision\n",
    "2. Our Constraints\n",
    "    * when do we stop following a certain path?    \n",
    "    * when do we not even go on way?\n",
    "3. Our Goal - Base Case\n",
    "    * What's our target?\n",
    "    * What are we trying to find?"
   ]
  },
  {
   "cell_type": "markdown",
   "metadata": {},
   "source": [
    "## n Queens\n",
    "1. Choice - what location to place queen\n",
    "2. Constraints - places you cant place as queen\n",
    "3. "
   ]
  },
  {
   "cell_type": "code",
   "execution_count": 189,
   "metadata": {},
   "outputs": [
    {
     "name": "stdout",
     "output_type": "stream",
     "text": [
      "[[1, 3, 0, 2], [2, 0, 3, 1]]\n",
      "2\n",
      "_ Q _ _  \n",
      "_ _ _ Q  \n",
      "Q _ _ _  \n",
      "_ _ Q _  \n",
      " \n",
      "_ _ Q _  \n",
      "Q _ _ _  \n",
      "_ _ _ Q  \n",
      "_ Q _ _  \n",
      " \n"
     ]
    }
   ],
   "source": [
    "def n_queens(n):\n",
    "    result = []\n",
    "    col_placement = [None] * n     \n",
    "    \n",
    "    def solver_n_queens(row):\n",
    "        if row == n:           \n",
    "            result.append(list(col_placement))\n",
    "            return\n",
    "        \n",
    "        # place queen in each position of a row\n",
    "        for col in range(n):\n",
    "            col_placement[row] = col\n",
    "            if (is_valid(col_placement, row)):\n",
    "                solver_n_queens(row+1)\n",
    "            \n",
    "    def is_valid(col_placement, row):\n",
    "        for i in range(row):\n",
    "            # check columns\n",
    "            if col_placement[i] == col_placement[row]:\n",
    "                return False\n",
    "            # check UP diagonal left\n",
    "            elif  col_placement[i] ==  col_placement[row] - (row-i):\n",
    "                return False\n",
    "            # check UP diagonal right\n",
    "            elif  col_placement[i] == (row -i) + col_placement[row]:\n",
    "                return False\n",
    "             \n",
    "        return True\n",
    "    \n",
    "    def build_board(arr):\n",
    "        board = []\n",
    "        n = len(arr)\n",
    "        for i in range(n):\n",
    "            row = []\n",
    "            for k in range(n):\n",
    "                if k == arr[i]:\n",
    "                    row.append('Q')\n",
    "                else:\n",
    "                    row.append('_')\n",
    "            board.append(row)            \n",
    "        return board   \n",
    "    \n",
    "    def print_board(board):\n",
    "        for row in board:\n",
    "            for col in row:\n",
    "                print(col, end=' ')\n",
    "            print(' ')\n",
    "        print(' ')\n",
    "    \n",
    "    \n",
    "    solver_n_queens(0)\n",
    "    print(result)\n",
    "    print(len(result))\n",
    "    for board in result:\n",
    "        print_board(build_board(board))\n",
    "        \n",
    "    \n",
    "    \n",
    "n_queens(4)"
   ]
  },
  {
   "cell_type": "code",
   "execution_count": 162,
   "metadata": {},
   "outputs": [
    {
     "name": "stdout",
     "output_type": "stream",
     "text": [
      "False\n",
      "False\n",
      "True\n",
      "diagonal left\n",
      "False\n",
      "False\n",
      "False\n",
      "True\n",
      "diagonal right\n",
      "False\n",
      "True\n",
      "False\n"
     ]
    }
   ],
   "source": [
    "def is_valid(col_placement, row, col):\n",
    "#     for i in range(row):\n",
    "#         if col_placement[i] == col or col_placement[i] ==  col - row  or col_placement[i] + i == row + col: \n",
    "#             return False\n",
    "#     return True\n",
    "    for i in range(row):\n",
    "        if col_placement[i] == col_placement[row]:\n",
    "            return False\n",
    "        if  col_placement[i] ==  col_placement[row] - (row-i):\n",
    "            return False\n",
    "        if  col_placement[i] == (row - 1) + col_placement[row]:\n",
    "            return False\n",
    "    return True\n",
    "\n",
    "# check same column       \n",
    "print(is_valid([0,2,2,None], 2, 2)) # false\n",
    "print(is_valid([2,1,2,None], 2, 2)) # f\n",
    "print(is_valid([3,0,2,None], 2, 2)) # t\n",
    "print('diagonal left')\n",
    "# check diagonal left\n",
    "print(is_valid([0,2,3,None], 2, 3)) # false\n",
    "print(is_valid([1,0,3,None], 2, 3)) # false\n",
    "print(is_valid([0,1,2,None], 2, 2)) # f\n",
    "print(is_valid([1,0,2,None], 2, 2)) # true\n",
    "print('diagonal right')\n",
    "# check diagonal right\n",
    "print(is_valid([0,2,1,None], 2, 1)) # false\n",
    "print(is_valid([1,3,0,None], 2, 0)) # rtrue\n",
    "print(is_valid([0,1,0,None], 2, 0))  # false\n"
   ]
  },
  {
   "cell_type": "markdown",
   "metadata": {},
   "source": [
    "## Indirect Recursion\n",
    "\n",
    "Indirect recursion (also called mutual recursion) occurs when a function calls another function until the original function is called, again.\n",
    "\n",
    "For example, if function function1() calls another function, function2(), function2() eventually calls the original function function1() - This completes the process of indirect recursion.\n",
    "\n"
   ]
  },
  {
   "cell_type": "code",
   "execution_count": null,
   "metadata": {},
   "outputs": [],
   "source": [
    "def function1(p1, p2, ..., pn) :\n",
    "  # Some code here\n",
    "  function2(p1, p2, ..., pn)\n",
    "  # Some code here\n",
    " \n",
    "def function2(p1, p2, ..., pn) :\n",
    "  # Some code here\n",
    "  function1(p1, p2, ..., pn)\n",
    "  # Some code here"
   ]
  },
  {
   "cell_type": "code",
   "execution_count": 10,
   "metadata": {},
   "outputs": [
    {
     "name": "stdout",
     "output_type": "stream",
     "text": [
      "1\n",
      "2\n",
      "3\n",
      "4\n",
      "5\n"
     ]
    }
   ],
   "source": [
    "def printNaturalNumbers(lowerRange, upperRange) :\n",
    "\tif lowerRange <= upperRange :\n",
    "\t    print(lowerRange)\n",
    "\t    lowerRange += 1\n",
    "\t    helperFunction(lowerRange, upperRange)\n",
    "\telse :\n",
    "\t\treturn\n",
    "\n",
    "def helperFunction(lowerRange, upperRange) :\n",
    "    if lowerRange <= upperRange :\n",
    "        print(lowerRange)\n",
    "        lowerRange += 1\n",
    "        printNaturalNumbers(lowerRange, upperRange)\n",
    "    else :\n",
    "        return\n",
    "\n",
    "# Driver Program \n",
    "n = 5\n",
    "printNaturalNumbers(1, n)"
   ]
  },
  {
   "cell_type": "markdown",
   "metadata": {},
   "source": [
    "### Reverse A Stack - two recursive calls that call each other"
   ]
  },
  {
   "cell_type": "code",
   "execution_count": 64,
   "metadata": {},
   "outputs": [
    {
     "name": "stdout",
     "output_type": "stream",
     "text": [
      "Original Stack\n",
      "2 3 5 8 \n",
      "\n",
      "Reversed Stack\n",
      "8 5 3 2 "
     ]
    }
   ],
   "source": [
    "# HELPER FUNCTION FOR CREATING AND MANIPULATING A STACK\n",
    "\n",
    "def createStack() : # Function to create an empty stack\n",
    "  stack = []\n",
    "  return stack \n",
    "\n",
    "def isEmpty(stack) :\n",
    "  return len(stack) == 0\n",
    "\n",
    "def push(stack, item) : # push item to stack\n",
    "  stack.append( item ) \n",
    "\n",
    "def pop(stack) : # pop item from stack\n",
    "\n",
    "  if(isEmpty(stack)) : # display error if stack empty  \n",
    "    print(\"Stack Underflow \")\n",
    "    exit(1)\n",
    "\n",
    "  return stack.pop() \n",
    "\n",
    "def printStack(stack):\n",
    "  for i in range(len(stack)-1, -1, -1) :\n",
    "    print(stack[i], end = ' ')\n",
    " \n",
    "def insertAtBottom(stack, item) : # Recursive function that inserts an element at the bottom of a stack.\n",
    "  # Base case\n",
    "  if isEmpty(stack) :\n",
    "    push(stack, item)\n",
    "\n",
    "  # Recursive case\n",
    "  else:\n",
    "    temp = pop(stack)\n",
    "    insertAtBottom(stack, item)\n",
    "    push(stack, temp) \n",
    "\n",
    "def reverse(stack) :\n",
    "  # Recursive case\n",
    "  if not isEmpty(stack) :\n",
    "    temp = pop(stack)\n",
    "    reverse(stack)\n",
    "    insertAtBottom(stack, temp) \n",
    "\n",
    "# Driver Code \n",
    "myStack = createStack() \n",
    "push(myStack, str(8)) \n",
    "push(myStack, str(5)) \n",
    "push(myStack, str(3)) \n",
    "push(myStack, str(2)) \n",
    "\n",
    "print(\"Original Stack\") \n",
    "printStack(myStack) \n",
    "\n",
    "reverse(myStack) \n",
    "\n",
    "print(\"\\n\\nReversed Stack\") \n",
    "printStack(myStack) "
   ]
  },
  {
   "cell_type": "markdown",
   "metadata": {},
   "source": [
    "## Nested Recursion - this is fucking inception style ridiculous \n",
    "In this recursion, a recursive function will pass the parameter as a recursive call.That means “recursion inside recursion”. "
   ]
  },
  {
   "cell_type": "code",
   "execution_count": null,
   "metadata": {},
   "outputs": [],
   "source": [
    "// C program to show Nested Recursion \n",
    "  \n",
    "#include <stdio.h> \n",
    "int fun(int n) \n",
    "{ \n",
    "    if (n > 100) \n",
    "        return n - 10; \n",
    "  \n",
    "    // A recursive function passing parameter \n",
    "    // as a recursive call or recursion \n",
    "    // inside the recursion \n",
    "    return fun(fun(n + 11)); \n",
    "} \n",
    "  \n",
    "// Driver code \n",
    "int main() \n",
    "{ \n",
    "    int r; \n",
    "    r = fun(95); \n",
    "    printf(\"%d\\n\", r); \n",
    "    return 0; \n",
    "} "
   ]
  },
  {
   "cell_type": "code",
   "execution_count": null,
   "metadata": {},
   "outputs": [],
   "source": [
    "def foo(n):\n",
    "    if n > 100 :\n",
    "        return n - 5\n",
    "    return foo(foo(n + 11))\n",
    "  \n",
    "# Driver Code\n",
    "print(foo(45))"
   ]
  },
  {
   "cell_type": "markdown",
   "metadata": {},
   "source": [
    "## MISC\n",
    "### Recursion with cache - no idea where to put this"
   ]
  },
  {
   "cell_type": "code",
   "execution_count": 80,
   "metadata": {},
   "outputs": [
    {
     "name": "stdout",
     "output_type": "stream",
     "text": [
      "Pass\n",
      "Pass\n"
     ]
    }
   ],
   "source": [
    "def staircase(n):\n",
    "    cache = {0: 0, 1: 1, 2: 2, 3: 4}\n",
    "    return staircase_faster(n, cache)\n",
    "\n",
    "def staircase_faster(n, cache):\n",
    "\n",
    "    if n not in cache:\n",
    "        cache[n] = staircase_faster(n-1, cache) + staircase_faster(n-2, cache) + staircase_faster(n-3, cache)\n",
    "   \n",
    "    return cache[n]\n",
    "\n",
    "def test_function(test_case):\n",
    "    answer = staircase(test_case[0])\n",
    "    if answer == test_case[1]:\n",
    "        print(\"Pass\")\n",
    "    else:\n",
    "        print(\"Fail\")\n",
    "        \n",
    "test_case = [4, 7]\n",
    "test_function(test_case)\n",
    "\n",
    "test_case = [20, 121415]\n",
    "test_function(test_case)"
   ]
  },
  {
   "cell_type": "code",
   "execution_count": null,
   "metadata": {},
   "outputs": [],
   "source": []
  }
 ],
 "metadata": {
  "kernelspec": {
   "display_name": "Python 3",
   "language": "python",
   "name": "python3"
  },
  "language_info": {
   "codemirror_mode": {
    "name": "ipython",
    "version": 3
   },
   "file_extension": ".py",
   "mimetype": "text/x-python",
   "name": "python",
   "nbconvert_exporter": "python",
   "pygments_lexer": "ipython3",
   "version": "3.7.5"
  }
 },
 "nbformat": 4,
 "nbformat_minor": 4
}
