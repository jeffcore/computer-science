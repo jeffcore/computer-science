{
 "cells": [
  {
   "cell_type": "code",
   "execution_count": null,
   "metadata": {},
   "outputs": [],
   "source": []
  },
  {
   "cell_type": "markdown",
   "metadata": {},
   "source": [
    "## Python List\n",
    "https://wiki.python.org/moin/TimeComplexity"
   ]
  },
  {
   "cell_type": "markdown",
   "metadata": {},
   "source": [
    "### Loop through 1d arrays# Loop through array"
   ]
  },
  {
   "cell_type": "code",
   "execution_count": 55,
   "metadata": {},
   "outputs": [
    {
     "name": "stdout",
     "output_type": "stream",
     "text": [
      "0 1 2 3 4 5 6  \n",
      "0 1 2 3 4 5 6  \n",
      "6 5 4 3 2 1 0  \n",
      "6 5 4 3 2 1 0  \n",
      "0 2 4 6  \n",
      "0 2 4 6  \n",
      "6 4 2 0  \n",
      "6 4 2 0  \n",
      "0 1 2 0 1 2  \n",
      "0 and 1\n",
      "0 and 2\n",
      "0 and 3\n",
      "0 and 4\n",
      "0 and 5\n",
      "0 and 6\n",
      "1 and 2\n",
      "1 and 3\n",
      "1 and 4\n",
      "1 and 5\n",
      "1 and 6\n",
      "2 and 3\n",
      "2 and 4\n",
      "2 and 5\n",
      "2 and 6\n",
      "3 and 4\n",
      "3 and 5\n",
      "3 and 6\n",
      "4 and 5\n",
      "4 and 6\n",
      "5 and 6\n"
     ]
    }
   ],
   "source": [
    "arr = [0, 1, 2, 3, 4, 5, 6]\n",
    "\n",
    "# Loop through an array left to right\n",
    "for a in arr:\n",
    "    print(a, end = ' ')\n",
    "\n",
    "print(' ')\n",
    "    \n",
    "for i in range(len(arr)):\n",
    "    print(arr[i], end = ' ')\n",
    "\n",
    "print(' ')\n",
    "\n",
    "# Loop through an array backwards\n",
    "for a in arr[::-1]:\n",
    "    print(a, end = ' ')\n",
    "\n",
    "print(' ')\n",
    "    \n",
    "for i in range(len(arr)-1, -1, -1):\n",
    "    print(arr[i], end = ' ')\n",
    "\n",
    "print(' ')\n",
    "\n",
    "# loop through array every 2 forward\n",
    "for a in arr[::2]:\n",
    "    print(a, end = ' ')\n",
    "\n",
    "print(' ')\n",
    "\n",
    "for i in range(0, len(arr), 2):\n",
    "    print(arr[i], end = ' ')\n",
    "\n",
    "print(' ')\n",
    "\n",
    "# loop through array every 2 backwards\n",
    "for a in arr[::-2]:\n",
    "     print(a, end = ' ')\n",
    "\n",
    "print(' ')\n",
    "\n",
    "for i in range(len(arr) - 1, -1, -2):\n",
    "     print(arr[i], end = ' ')\n",
    "\n",
    "print(' ')\n",
    "\n",
    "# loop through first half of array\n",
    "for a in arr[0:len(arr)//2]:\n",
    "    print(a, end = ' ')\n",
    "    \n",
    "for i in range(0, len(arr)//2):\n",
    "    print(arr[i], end=' ')\n",
    "    \n",
    "print(' ') \n",
    "# brute force compare all values in  a single array\n",
    "for i in range(len(arr)):\n",
    "    for j in range(i + 1, len(arr)):\n",
    "        print('{} and {}'.format(arr[i], arr[j]))\n",
    "        \n",
    "        "
   ]
  },
  {
   "cell_type": "markdown",
   "metadata": {},
   "source": [
    "### Loop through 2d arrays"
   ]
  },
  {
   "cell_type": "code",
   "execution_count": null,
   "metadata": {},
   "outputs": [],
   "source": []
  },
  {
   "cell_type": "markdown",
   "metadata": {},
   "source": [
    "### Loop through multi dimensional n x n "
   ]
  },
  {
   "cell_type": "code",
   "execution_count": 22,
   "metadata": {},
   "outputs": [
    {
     "name": "stdout",
     "output_type": "stream",
     "text": [
      "0 1 2 3 4 \n",
      "4 3 2 1 0 8\n",
      "4\n",
      "4\n"
     ]
    }
   ],
   "source": [
    "arr = [[0,1,2,3,4],\n",
    "      [0,1,2,3,4],\n",
    "      [0,1,2,3,4],\n",
    "      [0,1,2,3,4],\n",
    "      [0,1,2,3,4]]\n",
    "\n",
    "# diagonal l -> r\n",
    "for i in range(0, len(arr[0])): \n",
    "    print(arr[i][i], end= ' ')       \n",
    "    \n",
    "print('')\n",
    "# diagonal r -> l\n",
    "for i in range(0, len(arr[0])):  \n",
    "    print(arr[i][len(arr[0]) -1 - i], end=' ')   \n",
    "    \n",
    "    \n",
    "    \n",
    "# adding left and right diagoinals\n",
    "arr = [[0,1,2,3,4],\n",
    "      [0,1,2,3,4],\n",
    "      [0,1,2,3,4],\n",
    "      [0,1,2,3,4],\n",
    "      [2,2,2,2,2]]\n",
    "leftD = 0\n",
    "rightD = 0\n",
    "curInput = 0\n",
    "for j in range(0, len(arr[0])): \n",
    "    for k in range(0, len(arr[0])):         \n",
    "        curInput = arr[j][k]\n",
    "        if j == k:\n",
    "            leftD += curInput\n",
    "        # always equals the len of matrix\n",
    "        if j+k == (len(arr[0])-1):\n",
    "            rightD += curInput\n",
    "print(leftD)    \n",
    "print(abs(leftD-rightD))\n",
    "\n",
    "#or \n",
    "\n",
    "l = 0\n",
    "r = 0\n",
    "diff = 0\n",
    "\n",
    "for i in range(0, len(arr[0])):     \n",
    "    l += arr[i][i]\n",
    "\n",
    "for i in range(0, len(arr[0])):      \n",
    "    r += arr[i][len(arr[0]) -1 - i]\n",
    "\n",
    "print(abs(l-r))"
   ]
  },
  {
   "cell_type": "code",
   "execution_count": 45,
   "metadata": {},
   "outputs": [
    {
     "name": "stdout",
     "output_type": "stream",
     "text": [
      "    #\n",
      "   ##\n",
      "  ###\n",
      " ####\n",
      "#####\n",
      "\n"
     ]
    }
   ],
   "source": [
    "# create a structure with preceding spaces a staricase\n",
    "def staircase(n):\n",
    "    to_print = ''\n",
    "    for i in range(1, n + 1):  \n",
    "        cur_row = ''\n",
    "        for j in range(1, n + 1):          \n",
    "            if j <= n - i:\n",
    "                cur_row += ' '\n",
    "            else:\n",
    "                cur_row += '#'\n",
    "        to_print += cur_row + '\\n'           \n",
    "        \n",
    "    print(to_print)\n",
    "    \n",
    "#     1,1 1,2\n",
    "#     2,1 2,2\n",
    "\n",
    "staircase(5)\n",
    "        "
   ]
  },
  {
   "cell_type": "code",
   "execution_count": 73,
   "metadata": {},
   "outputs": [
    {
     "name": "stdout",
     "output_type": "stream",
     "text": [
      "12 AM\n",
      "00:05:45\n",
      "\n",
      "00:05:45\n",
      "\n",
      "01 PM\n",
      "13:05:45\n",
      "\n",
      "13:05:45\n",
      "\n"
     ]
    }
   ],
   "source": [
    "def timeConversion(s):\n",
    "    #\n",
    "    # Write your code here.\n",
    "    #\n",
    "    s = [s for s in s.split(':')]\n",
    "    sec = s[2][:2]\n",
    "    end = s[2][2:]\n",
    "  \n",
    "    if end == 'AM':\n",
    "        if s[0] == '12':\n",
    "            return  '00:' + s[1] + ':' + sec       \n",
    "    else:\n",
    "        if s[0] != '12':\n",
    "            return str(int(s[0]) + 12) + ':' + s[1] + ':' + sec\n",
    "\n",
    "    return  s[0] + ':' + s[1] + ':' + sec\n",
    "\n",
    "\n",
    "def timeConversion2(s):\n",
    "    #\n",
    "    # Write your code here.\n",
    "    #\n",
    "    hour = s[:2]\n",
    "    end = s[-2:]\n",
    "    print('{} {}'.format(hour, end))\n",
    "    if end == 'AM':\n",
    "        if hour == '12':\n",
    "            hour = '00'\n",
    "    else:\n",
    "        if hour != '12':\n",
    "            hour = str(int(hour) + 12)\n",
    "\n",
    "    return  hour + '' + s[2:-2] \n",
    "\n",
    "\n",
    "\n",
    "result = timeConversion('12:05:45AM')\n",
    "result2 = timeConversion2('12:05:45AM')\n",
    "print(result + '\\n')\n",
    "print(result2 + '\\n')\n",
    "\n",
    "result = timeConversion('01:05:45PM')\n",
    "result2 = timeConversion2('01:05:45PM')\n",
    "print(result + '\\n')\n",
    "print(result2 + '\\n')"
   ]
  },
  {
   "cell_type": "code",
   "execution_count": null,
   "metadata": {},
   "outputs": [],
   "source": [
    "result = timeConversion(s)\n",
    "\n",
    "    f.write(result + '\\n')"
   ]
  }
 ],
 "metadata": {
  "kernelspec": {
   "display_name": "Python 3",
   "language": "python",
   "name": "python3"
  },
  "language_info": {
   "codemirror_mode": {
    "name": "ipython",
    "version": 3
   },
   "file_extension": ".py",
   "mimetype": "text/x-python",
   "name": "python",
   "nbconvert_exporter": "python",
   "pygments_lexer": "ipython3",
   "version": "3.7.5"
  }
 },
 "nbformat": 4,
 "nbformat_minor": 4
}
