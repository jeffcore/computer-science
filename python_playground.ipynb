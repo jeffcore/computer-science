{
 "cells": [
  {
   "cell_type": "code",
   "execution_count": 1,
   "metadata": {},
   "outputs": [
    {
     "name": "stdout",
     "output_type": "stream",
     "text": [
      "6\n"
     ]
    }
   ],
   "source": [
    "ar = [2,3,3,4,6,6,6]\n",
    "print(max(ar))"
   ]
  },
  {
   "cell_type": "code",
   "execution_count": 2,
   "metadata": {},
   "outputs": [
    {
     "name": "stdout",
     "output_type": "stream",
     "text": [
      "4\n"
     ]
    }
   ],
   "source": [
    "ar2 = [2,3,4,5,6, 3,3,3,6]\n",
    "print(ar2.index(6))"
   ]
  },
  {
   "cell_type": "code",
   "execution_count": 14,
   "metadata": {},
   "outputs": [
    {
     "name": "stdout",
     "output_type": "stream",
     "text": [
      "ub 9 lb 0 index 4\n",
      "ub 9 lb 5 index 4\n",
      "2\n",
      "ub 6 lb 5 index 7\n",
      "ub 6 lb 5 index 5\n"
     ]
    }
   ],
   "source": [
    "arr = [1,2,3,4,5,6,7,8,9]\n",
    "\n",
    "ub = len(arr)\n",
    "lb = 0\n",
    "index = ub//2\n",
    "print(f'ub {ub} lb {lb} index {index}')\n",
    "lb = index+1\n",
    "print(f'ub {ub} lb {lb} index {index}')\n",
    "index = ub-lb//2\n",
    "print((ub-lb)//2)\n",
    "\n",
    "ub = index-1\n",
    "print(f'ub {ub} lb {lb} index {index}')\n",
    "index = (ub-lb)//2+lb\n",
    "print(f'ub {ub} lb {lb} index {index}')\n"
   ]
  },
  {
   "cell_type": "code",
   "execution_count": 15,
   "metadata": {},
   "outputs": [
    {
     "name": "stdout",
     "output_type": "stream",
     "text": [
      "5\n"
     ]
    }
   ],
   "source": [
    "print((6-4)//2+4)"
   ]
  },
  {
   "cell_type": "code",
   "execution_count": 26,
   "metadata": {},
   "outputs": [
    {
     "name": "stdout",
     "output_type": "stream",
     "text": [
      "ub 9 lb 0 index 4\n",
      "ub 9 lb 5 index 7\n",
      "ub 9 lb 8 index 8\n",
      "8\n"
     ]
    }
   ],
   "source": [
    "arr = [1,2,3,4,5,6,7,8,9]\n",
    "target = 9\n",
    "\n",
    "ub = len(arr)\n",
    "lb = 0\n",
    "\n",
    "while lb < ub:\n",
    "    index = (ub-lb)//2+lb\n",
    "    print(f'ub {ub} lb {lb} index {index}')\n",
    "    if arr[index] == target:\n",
    "        print(index)\n",
    "        break\n",
    "    elif target < arr[index]:\n",
    "        ub = index - 1\n",
    "    else:\n",
    "        lb = index + 1\n",
    "\n",
    "\n"
   ]
  },
  {
   "cell_type": "code",
   "execution_count": 31,
   "metadata": {},
   "outputs": [
    {
     "name": "stdout",
     "output_type": "stream",
     "text": [
      "ub 11 lb 0 index 5\n",
      "ub 11 lb 6 index 8\n",
      "ub 7 lb 6 index 6\n",
      "6\n",
      "Pass!\n"
     ]
    }
   ],
   "source": [
    "def binary_search(array, target):\n",
    "    '''Write a function that implements the binary search algorithm using iteration\n",
    "   \n",
    "    args:\n",
    "      array: a sorted array of items of the same type\n",
    "      target: the element you're searching for\n",
    "   \n",
    "    returns:\n",
    "      int: the index of the target, if found, in the source\n",
    "      -1: if the target is not found\n",
    "    '''\n",
    "\n",
    "    ub = len(array)\n",
    "    lb = 0\n",
    "\n",
    "    while lb < ub:\n",
    "        index = (ub+lb)//2\n",
    "        print(f'ub {ub} lb {lb} index {index}')\n",
    "        if array[index] == target:\n",
    "            print(index)\n",
    "            return index\n",
    "        elif target < array[index]:\n",
    "            ub = index - 1\n",
    "        else:\n",
    "            lb = index + 1\n",
    "            \n",
    "def test_function(test_case):\n",
    "    answer = binary_search(test_case[0], test_case[1])\n",
    "    if answer == test_case[2]:\n",
    "        print(\"Pass!\")\n",
    "    else:\n",
    "        print(\"Fail!\")\n",
    "        \n",
    "array = [0, 1, 2, 3, 4, 5, 6, 7, 8, 9, 10]\n",
    "target = 6\n",
    "index = 6\n",
    "test_case = [array, target, index]\n",
    "test_function(test_case)"
   ]
  },
  {
   "cell_type": "code",
   "execution_count": 32,
   "metadata": {},
   "outputs": [
    {
     "name": "stdout",
     "output_type": "stream",
     "text": [
      "0\n"
     ]
    }
   ],
   "source": [
    "print(0//2)"
   ]
  },
  {
   "cell_type": "code",
   "execution_count": 43,
   "metadata": {},
   "outputs": [],
   "source": [
    "alist = [1,2,3,4,5,6,7]\n",
    "left = alist[:4]\n",
    "right = alist[4:]\n",
    "left[2] = 10"
   ]
  },
  {
   "cell_type": "code",
   "execution_count": 44,
   "metadata": {},
   "outputs": [
    {
     "name": "stdout",
     "output_type": "stream",
     "text": [
      "[1, 2, 3, 4, 5, 6, 7]\n"
     ]
    }
   ],
   "source": [
    "print(alist)"
   ]
  },
  {
   "cell_type": "code",
   "execution_count": 45,
   "metadata": {},
   "outputs": [
    {
     "name": "stdout",
     "output_type": "stream",
     "text": [
      "[1, 2, 10, 4]\n",
      "[5, 6, 7]\n"
     ]
    }
   ],
   "source": [
    "print(left)\n",
    "print(right)"
   ]
  },
  {
   "cell_type": "code",
   "execution_count": 46,
   "metadata": {},
   "outputs": [],
   "source": [
    "left[2] = 10"
   ]
  },
  {
   "cell_type": "code",
   "execution_count": 47,
   "metadata": {},
   "outputs": [
    {
     "name": "stdout",
     "output_type": "stream",
     "text": [
      "[1, 2, 3, 4, 5, 6, 7]\n"
     ]
    }
   ],
   "source": [
    "print(alist)"
   ]
  },
  {
   "cell_type": "code",
   "execution_count": 56,
   "metadata": {},
   "outputs": [
    {
     "name": "stdout",
     "output_type": "stream",
     "text": [
      "[1, 55, 3, 33]\n"
     ]
    }
   ],
   "source": [
    "def arr_test2(alist):\n",
    "    alist[1] = 55\n",
    "    \n",
    "    \n",
    "\n",
    "def arr_test(alist):\n",
    "    alist[3] = 33\n",
    "    \n",
    "    left = alist[:4]\n",
    "    arr_test2(left)\n",
    "    print(left)\n",
    "    \n",
    "arr_test(alist)"
   ]
  },
  {
   "cell_type": "code",
   "execution_count": 55,
   "metadata": {},
   "outputs": [
    {
     "name": "stdout",
     "output_type": "stream",
     "text": [
      "[1, 2, 3, 33, 5, 6, 7]\n"
     ]
    }
   ],
   "source": [
    "print(alist)"
   ]
  },
  {
   "cell_type": "code",
   "execution_count": 58,
   "metadata": {},
   "outputs": [
    {
     "name": "stdout",
     "output_type": "stream",
     "text": [
      "[55, 55, 55, 55, 55]\n"
     ]
    }
   ],
   "source": [
    "alist = [1,2,3,4,5]\n",
    "def list_ref(arr, depth):\n",
    "    if depth < 0:\n",
    "        return\n",
    "    arr[depth] = 55\n",
    "    list_ref(arr, depth-1)\n",
    "    \n",
    "list_ref(alist, 4)\n",
    "print(alist)\n"
   ]
  },
  {
   "cell_type": "code",
   "execution_count": 59,
   "metadata": {},
   "outputs": [
    {
     "data": {
      "text/plain": [
       "0"
      ]
     },
     "execution_count": 59,
     "metadata": {},
     "output_type": "execute_result"
    }
   ],
   "source": [
    "0%2"
   ]
  },
  {
   "cell_type": "code",
   "execution_count": 60,
   "metadata": {},
   "outputs": [
    {
     "name": "stdout",
     "output_type": "stream",
     "text": [
      "-4\n"
     ]
    }
   ],
   "source": [
    "print( 2 - 3 * 2)"
   ]
  },
  {
   "cell_type": "code",
   "execution_count": 61,
   "metadata": {},
   "outputs": [
    {
     "name": "stdout",
     "output_type": "stream",
     "text": [
      "-4\n"
     ]
    }
   ],
   "source": [
    "print( 2 - (2 * 3))"
   ]
  },
  {
   "cell_type": "code",
   "execution_count": null,
   "metadata": {},
   "outputs": [],
   "source": [
    "."
   ]
  }
 ],
 "metadata": {
  "kernelspec": {
   "display_name": "Python 3.7.5 64-bit ('p37': conda)",
   "language": "python",
   "name": "python37564bitp37conda2b1eeea87ee044609be89b011a3e6682"
  },
  "language_info": {
   "codemirror_mode": {
    "name": "ipython",
    "version": 3
   },
   "file_extension": ".py",
   "mimetype": "text/x-python",
   "name": "python",
   "nbconvert_exporter": "python",
   "pygments_lexer": "ipython3",
   "version": "3.7.5"
  }
 },
 "nbformat": 4,
 "nbformat_minor": 4
}
