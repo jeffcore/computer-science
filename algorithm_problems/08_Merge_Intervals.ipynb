{
 "cells": [
  {
   "cell_type": "markdown",
   "metadata": {},
   "source": [
    "# Merge Intervals\n",
    "This pattern describes an efficient technique to deal with overlapping intervals. In a lot of problems involving intervals, we either need to find overlapping intervals or merge intervals if they overlap.\n",
    "\n",
    "Given two intervals (‘a’ and ‘b’), there will be six different ways the two intervals can relate to each other:\n",
    "    \n",
    "    \n",
    "<img src='../images/merge_int.png' width=40% />\n",
    "\n",
    "TECHNIQUES:  \n",
    "* is intervals sorted...if not sort it \n",
    "    * interval.sort(key=lambda x: x.start)\n",
    "    * intervals.sort(key=lambda x:x[0])\n",
    "* ways to check for six different merges\n",
    "    * one list of merge intervals\n",
    "    * compare two lists of merge intervals"
   ]
  },
  {
   "cell_type": "code",
   "execution_count": 5,
   "metadata": {},
   "outputs": [],
   "source": [
    "# run this first\n",
    "class Interval:\n",
    "    def __init__(self, start, end):\n",
    "        self.start = start\n",
    "        self.end = end\n",
    "\n",
    "    def print_interval(self):\n",
    "        print(\"[\" + str(self.start) + \", \" + str(self.end) + \"]\", end='')"
   ]
  },
  {
   "cell_type": "markdown",
   "metadata": {},
   "source": [
    "### Sorting with Array of Interval Objects"
   ]
  },
  {
   "cell_type": "code",
   "execution_count": 10,
   "metadata": {},
   "outputs": [
    {
     "name": "stdout",
     "output_type": "stream",
     "text": [
      "start 1 end 4\n",
      "start 2 end 5\n",
      "start 7 end 9\n",
      "start 1 end 4\n",
      "start 2 end 5\n",
      "start 7 end 9\n"
     ]
    }
   ],
   "source": [
    "# sort by start\n",
    "def sort_intervals(interval):\n",
    "    interval.sort(key=lambda x:x.start)\n",
    "    return interval\n",
    "    \n",
    "\n",
    "interval = sort_intervals([Interval(1, 4), Interval(2, 5), Interval(7, 9)])\n",
    "\n",
    "for i in interval:\n",
    "    print(f'start {i.start} end {i.end}')\n",
    "    \n",
    "# sort by end\n",
    "def sort_intervals(interval):\n",
    "    interval.sort(key=lambda x:x.end)\n",
    "    return interval\n",
    "    \n",
    "\n",
    "interval = sort_intervals([Interval(1, 4), Interval(2, 5), Interval(7, 9)])\n",
    "\n",
    "for i in interval:\n",
    "    print(f'start {i.start} end {i.end}')"
   ]
  },
  {
   "cell_type": "markdown",
   "metadata": {},
   "source": [
    "### Sorting with 2d Array Representation"
   ]
  },
  {
   "cell_type": "code",
   "execution_count": 15,
   "metadata": {},
   "outputs": [
    {
     "name": "stdout",
     "output_type": "stream",
     "text": [
      "start 1 end 4\n",
      "start 2 end 5\n",
      "start 7 end 9\n",
      "start 1 end 4\n",
      "start 2 end 5\n",
      "start 7 end 9\n"
     ]
    }
   ],
   "source": [
    "# sort by start\n",
    "def sort_intervals(interval):\n",
    "    interval.sort(key=lambda x:x[0])\n",
    "    return interval\n",
    "    \n",
    "\n",
    "interval = sort_intervals([[1, 4], [2, 5], [7, 9]])\n",
    "\n",
    "for i in interval:\n",
    "    print(f'start {i[0]} end {i[1]}')\n",
    "    \n",
    "# sort by end\n",
    "def sort_intervals(interval):\n",
    "    interval.sort(key=lambda x:x[1])\n",
    "    return interval    \n",
    "\n",
    "interval = sort_intervals([[1, 4], [2, 5], [7, 9]])\n",
    "\n",
    "for i in interval:\n",
    "    print(f'start {i[0]} end {i[1]}')"
   ]
  },
  {
   "cell_type": "markdown",
   "metadata": {},
   "source": [
    "### Using A Min Heap When Searching for overlaps\n",
    "\n",
    "1. In object you have to define the comparison. __lt__\n",
    "2. while loop to clear heap of old meetings based on current meeting start time\n",
    "3. push all meetings onto heap\n",
    "4. result variable to track min or max:   example:   tracks min number of rooms based on how many are in minheap\n"
   ]
  },
  {
   "cell_type": "code",
   "execution_count": 39,
   "metadata": {},
   "outputs": [
    {
     "name": "stdout",
     "output_type": "stream",
     "text": [
      "[start: 2 end: 3]\n",
      "[start: 2 end: 3, start: 2 end: 4]\n",
      "[start: 2 end: 4, start: 3 end: 5]\n",
      "[start: 3 end: 5, start: 4 end: 5]\n",
      "Minimum meeting rooms required: 2\n"
     ]
    }
   ],
   "source": [
    "# see this problem below\n",
    "from heapq import *\n",
    "\n",
    "class Meeting:\n",
    "    def __init__(self, start, end):\n",
    "        self.start = start\n",
    "        self.end = end\n",
    "\n",
    "    def __lt__(self, other):\n",
    "        # min heap based on meeting.end\n",
    "        return self.end < other.end\n",
    "\n",
    "    def __repr__(self):\n",
    "        return f'start: {self.start} end: {self.end}'\n",
    "\n",
    "def min_meeting_rooms(meetings):\n",
    "    # sort the meetings by start time\n",
    "    meetings.sort(key=lambda x: x.start)\n",
    "\n",
    "    minRooms = 0\n",
    "    minHeap = []\n",
    "    for meeting in meetings:\n",
    "   \n",
    "        # remove all the meetings that have ended\n",
    "        while(len(minHeap) > 0 and meeting.start >= minHeap[0].end):\n",
    "          heappop(minHeap)\n",
    "        # add the current meeting into min_heap\n",
    "        heappush(minHeap, meeting)\n",
    "        # all active meetings are in the min_heap, so we need rooms for all of them.\n",
    "        print(minHeap)\n",
    "        minRooms = max(minRooms, len(minHeap))\n",
    "  \n",
    "    return minRooms\n",
    "\n",
    "print(\"Minimum meeting rooms required: \" + str(min_meeting_rooms(\n",
    "        [Meeting(4, 5), Meeting(2, 3), Meeting(2, 4), Meeting(3, 5)])))"
   ]
  },
  {
   "cell_type": "markdown",
   "metadata": {},
   "source": [
    "## Merge Intervals (medium)\n",
    "Given a list of intervals, merge all the overlapping intervals to produce a list that has only mutually exclusive intervals.\n",
    "  \n",
    "\n",
    "Intervals: [[1,4], [2,5], [7,9]]  \n",
    "Output: [[1,5], [7,9]]  \n",
    "Explanation: Since the first two intervals [1,4] and [2,5] overlap, we merged them into \n",
    "one [1,5].  \n",
    "\n",
    "<img src='../images/merge_int_prob.png' width=40% />\n",
    "\n",
    "Intervals: [[6,7], [2,4], [5,9]]  \n",
    "Output: [[2,4], [5,9]]  \n",
    "Explanation: Since the intervals [6,7] and [5,9] overlap, we merged them into one [5,9].\n",
    "\n",
    "\n",
    "TRICKS:\n",
    "* sort by start interval so you only have to compare ends\n",
    "* only have to check if next interval start is <= first interval end, then take max of ends\n",
    "* last trick is to add the last interval to the DS"
   ]
  },
  {
   "cell_type": "code",
   "execution_count": 21,
   "metadata": {},
   "outputs": [
    {
     "name": "stdout",
     "output_type": "stream",
     "text": [
      "Merged intervals: [1, 5][7, 9]\n",
      "Merged intervals: [2, 4][5, 9]\n",
      "Merged intervals: [1, 6]\n"
     ]
    }
   ],
   "source": [
    "# try it\n",
    "def merge(intervals):\n",
    "   \n",
    "def main():\n",
    "    print(\"Merged intervals: \", end='')\n",
    "    for i in merge([Interval(1, 4), Interval(2, 5), Interval(7, 9)]):\n",
    "        i.print_interval()\n",
    "    print()\n",
    "\n",
    "    print(\"Merged intervals: \", end='')\n",
    "    for i in merge([Interval(6, 7), Interval(2, 4), Interval(5, 9)]):\n",
    "        i.print_interval()\n",
    "    print()\n",
    "\n",
    "    print(\"Merged intervals: \", end='')\n",
    "    for i in merge([Interval(1, 4), Interval(2, 6), Interval(3, 5)]):\n",
    "        i.print_interval()\n",
    "    print()\n",
    "\n",
    "main()"
   ]
  },
  {
   "cell_type": "code",
   "execution_count": 3,
   "metadata": {},
   "outputs": [
    {
     "name": "stdout",
     "output_type": "stream",
     "text": [
      "Merged intervals: [1, 5][7, 9]\n",
      "Merged intervals: [2, 4][5, 9]\n",
      "Merged intervals: [1, 6]\n"
     ]
    }
   ],
   "source": [
    "def merge(intervals):\n",
    "    if len(intervals) < 2:\n",
    "        return intervals\n",
    "\n",
    "    # sort the intervals on the start time\n",
    "    intervals.sort(key=lambda x: x.start)\n",
    "\n",
    "    mergedIntervals = []\n",
    "    start = intervals[0].start\n",
    "    end = intervals[0].end\n",
    "    for i in range(1, len(intervals)):\n",
    "        interval = intervals[i]\n",
    "        if interval.start <= end:  # overlapping intervals, adjust the 'end'\n",
    "            end = max(interval.end, end)\n",
    "        else:  # non-overlapping interval, add the previous internval and reset\n",
    "            mergedIntervals.append(Interval(start, end))\n",
    "            start = interval.start\n",
    "            end = interval.end\n",
    "\n",
    "    # add the last interval\n",
    "    mergedIntervals.append(Interval(start, end))\n",
    "    return mergedIntervals\n",
    "\n",
    "def main():\n",
    "    print(\"Merged intervals: \", end='')\n",
    "    for i in merge([Interval(1, 4), Interval(2, 5), Interval(7, 9)]):\n",
    "    i.print_interval()\n",
    "    print()\n",
    "\n",
    "    print(\"Merged intervals: \", end='')\n",
    "    for i in merge([Interval(6, 7), Interval(2, 4), Interval(5, 9)]):\n",
    "    i.print_interval()\n",
    "    print()\n",
    "\n",
    "    print(\"Merged intervals: \", end='')\n",
    "    for i in merge([Interval(1, 4), Interval(2, 6), Interval(3, 5)]):\n",
    "    i.print_interval()\n",
    "    print()\n",
    "\n",
    "main()"
   ]
  },
  {
   "cell_type": "markdown",
   "metadata": {},
   "source": [
    "## Overlaping Intervals \n",
    "Given a set of intervals, find out if any two intervals overlap.\n",
    "\n",
    "Intervals: [[1,4], [2,5], [7,9]]  \n",
    "Output: true  \n",
    "Explanation: Intervals [1,4] and [2,5] overlap  "
   ]
  },
  {
   "cell_type": "code",
   "execution_count": null,
   "metadata": {},
   "outputs": [],
   "source": [
    "def merge(intervals):\n",
    "   \n",
    "    \n",
    "    \n",
    "def main():\n",
    "    print(merge([Interval(1, 4), Interval(2, 5), Interval(7, 9)]))  \n",
    "    print(merge([Interval(6, 7), Interval(2, 4), Interval(5, 9)]))\n",
    "    print(merge([Interval(1, 4), Interval(2, 6), Interval(3, 5)]))\n",
    "    print(merge([Interval(1, 4), Interval(5, 6), Interval(7, 9)]))\n",
    "main()\n",
    "# t t t f"
   ]
  },
  {
   "cell_type": "code",
   "execution_count": 7,
   "metadata": {},
   "outputs": [
    {
     "name": "stdout",
     "output_type": "stream",
     "text": [
      "True\n",
      "True\n",
      "True\n",
      "False\n"
     ]
    }
   ],
   "source": [
    "def merge(intervals):\n",
    "    if len(intervals) < 2:\n",
    "        return False\n",
    "    \n",
    "    intervals.sort(key=lambda x: x.start)\n",
    "    \n",
    "    start = intervals[0].start\n",
    "    end = intervals[0].end\n",
    "    \n",
    "    for i in range(1, len(intervals)):\n",
    "        interval_next = intervals[i]\n",
    "        \n",
    "        if interval_next.start <= end:\n",
    "            return True\n",
    "        else:\n",
    "            start = interval_next.start\n",
    "            end = interval_next.end\n",
    "    \n",
    "    return False\n",
    "\n",
    "def main():\n",
    "    print(merge([Interval(1, 4), Interval(2, 5), Interval(7, 9)]))  \n",
    "    print(merge([Interval(6, 7), Interval(2, 4), Interval(5, 9)]))\n",
    "    print(merge([Interval(1, 4), Interval(2, 6), Interval(3, 5)]))\n",
    "    print(merge([Interval(1, 4), Interval(5, 6), Interval(8, 9)]))\n",
    "main()"
   ]
  },
  {
   "cell_type": "markdown",
   "metadata": {},
   "source": [
    "## Insert Interval Medium\n",
    "* Given a list of non-overlapping intervals sorted by their start time,\n",
    "* insert a given interval at the correct position and merge all necessary intervals to produce a list that has only mutually exclusive intervals.\n",
    "\n",
    "Input: Intervals=[[1,3], [5,7], [8,12]], New Interval=[4,6]  \n",
    "Output: [[1,3], [4,7], [8,12]]  \n",
    "Explanation: After insertion, since [4,6] overlaps with [5,7], we merged them into one [4,7].\n",
    "\n",
    "Input: Intervals=[[1,3], [5,7], [8,12]], New Interval=[4,10]  \n",
    "Output: [[1,3], [4,12]]  \n",
    "Explanation: After insertion, since [4,10] overlaps with [5,7] & [8,12], we merged them into [4,12].\n",
    "\n",
    "TRICK:  \n",
    "* iterate to intevals lower\n",
    "* merge new interval\n",
    "* add remaining"
   ]
  },
  {
   "cell_type": "code",
   "execution_count": 33,
   "metadata": {},
   "outputs": [
    {
     "name": "stdout",
     "output_type": "stream",
     "text": [
      "Intervals after inserting the new interval: [[1, 3], [4, 7], [8, 12]]\n",
      "Intervals after inserting the new interval: [[1, 3], [4, 12]]\n",
      "Intervals after inserting the new interval: [[1, 4], [5, 7]]\n"
     ]
    }
   ],
   "source": [
    "# try it\n",
    "def insert(intervals, new_interval):\n",
    "   \n",
    "    return merged\n",
    "\n",
    "def main():\n",
    "    print(\"Intervals after inserting the new interval: \" + str(insert([[1, 3], [5, 7], [8, 12]], [4, 6])))\n",
    "    print(\"Intervals after inserting the new interval: \" + str(insert([[1, 3], [5, 7], [8, 12]], [4, 10])))\n",
    "    print(\"Intervals after inserting the new interval: \" + str(insert([[2, 3], [5, 7]], [1, 4])))\n",
    "main()"
   ]
  },
  {
   "cell_type": "code",
   "execution_count": 29,
   "metadata": {},
   "outputs": [
    {
     "name": "stdout",
     "output_type": "stream",
     "text": [
      "Intervals after inserting the new interval: [[1, 3], [4, 7], [8, 12]]\n",
      "Intervals after inserting the new interval: [[1, 3], [4, 12]]\n",
      "Intervals after inserting the new interval: [[1, 4], [5, 7]]\n"
     ]
    }
   ],
   "source": [
    "## Their code\n",
    "def insert(intervals, new_interval):\n",
    "    merged = []\n",
    "    i, start, end = 0, 0, 1\n",
    "\n",
    "    # skip (and add to output) all intervals that come before the 'new_interval'\n",
    "    #  intervals[i].end < newInterval.start\n",
    "    while i < len(intervals) and intervals[i][end] < new_interval[start]:\n",
    "        merged.append(intervals[i])\n",
    "        i += 1\n",
    "\n",
    "    # merge all intervals that overlap with 'new_interval' \n",
    "    # keeps merging until new interval is merged correctly\n",
    "    while i < len(intervals) and intervals[i][start] <= new_interval[end]:  ## stop if current interval is greater then new interval\n",
    "        new_interval[start] = min(intervals[i][start], new_interval[start])\n",
    "        new_interval[end] = max(intervals[i][end], new_interval[end])\n",
    "        i += 1\n",
    "\n",
    "    # insert the new_interval\n",
    "    merged.append(new_interval)\n",
    "\n",
    "    # add all the remaining intervals to the output\n",
    "    while i < len(intervals):\n",
    "        merged.append(intervals[i])\n",
    "        i += 1\n",
    "    return merged\n",
    "\n",
    "def main():\n",
    "    print(\"Intervals after inserting the new interval: \" + str(insert([[1, 3], [5, 7], [8, 12]], [4, 6])))\n",
    "    print(\"Intervals after inserting the new interval: \" + str(insert([[1, 3], [5, 7], [8, 12]], [4, 10])))\n",
    "    print(\"Intervals after inserting the new interval: \" + str(insert([[2, 3], [5, 7]], [1, 4])))\n",
    "main()"
   ]
  },
  {
   "cell_type": "markdown",
   "metadata": {},
   "source": [
    "## Intervals Intersection (medium)\n",
    "Given two lists of intervals, find the intersection of these two lists. Each list consists of disjoint intervals sorted on their start time.\n",
    "\n",
    "Example 1:\n",
    "\n",
    "Input: arr1=[[1, 3], [5, 6], [7, 9]], arr2=[[2, 3], [5, 7]]  \n",
    "Output: [2, 3], [5, 6], [7, 7]   \n",
    "Explanation: The output list contains the common intervals between the two lists.  \n",
    "\n",
    "\n",
    "Example 2:\n",
    "\n",
    "Input: arr1=[[1, 3], [5, 7], [9, 12]], arr2=[[5, 10]]  \n",
    "Output: [5, 7], [9, 10]  \n",
    "Explanation: The output list contains the common intervals between the two lists.  \n",
    "\n",
    "\n",
    "Trick:\n",
    "* is you are only checking if they completely inside each other.  \n",
    "* then take the follow max min to get the interval in the middle  \n",
    "    start = max(a.start, b.start)  \n",
    "    end = min(a.end, b.end) \n",
    "* the move head with the interval with greades end\n"
   ]
  },
  {
   "cell_type": "code",
   "execution_count": null,
   "metadata": {},
   "outputs": [],
   "source": [
    "def merge(intervals_a, intervals_b):\n",
    "   \n",
    "\n",
    "def main():\n",
    "    print(\"Intervals Intersection: \" + str(merge([[1, 3], [5, 6], [7, 9]], [[2, 3], [5, 7]])))\n",
    "    print(\"Intervals Intersection: \" + str(merge([[1, 3], [5, 7], [9, 12]], [[5, 10]])))\n",
    "\n",
    "main()"
   ]
  },
  {
   "cell_type": "code",
   "execution_count": 11,
   "metadata": {},
   "outputs": [
    {
     "name": "stdout",
     "output_type": "stream",
     "text": [
      "Intervals Intersection: [[2, 3], [5, 6], [7, 7]]\n",
      "Intervals Intersection: [[5, 7], [9, 10]]\n"
     ]
    }
   ],
   "source": [
    "def merge(intervals_a, intervals_b):\n",
    "    result = []\n",
    "    i, j, start, end = 0, 0, 0, 1\n",
    "\n",
    "    while i < len(intervals_a) and j < len(intervals_b):\n",
    "        # check if intervals overlap and intervals_a[i]'s start time lies within the other intervals_b[j]\n",
    "        #  case: i  [2, 4]   j [1, 3] \n",
    "        a_overlaps_b = intervals_a[i][start] >= intervals_b[j][start] and \\\n",
    "                       intervals_a[i][start] <= intervals_b[j][end]\n",
    "\n",
    "        # check if intervals overlap and intervals_a[j]'s start time lies within the other intervals_b[i]\n",
    "        #  case: i  [1, 4]   j [2, 3] \n",
    "        b_overlaps_a = intervals_b[j][start] >= intervals_a[i][start] and \\\n",
    "                       intervals_b[j][start] <= intervals_a[i][end]\n",
    "\n",
    "        \n",
    "        # store the the intersection part\n",
    "        if (a_overlaps_b or b_overlaps_a):\n",
    "            result.append([max(intervals_a[i][start], intervals_b[j][start]), min(\n",
    "                intervals_a[i][end], intervals_b[j][end])])\n",
    "\n",
    "        # move foward from the interval with smallest ending\n",
    "        # case [5, 6] [5, 7]\n",
    "        if intervals_a[i][end] < intervals_b[j][end]:\n",
    "            i += 1\n",
    "        else:\n",
    "            j += 1\n",
    "\n",
    "    return result\n",
    "\n",
    "def main():\n",
    "    print(\"Intervals Intersection: \" + str(merge([[1, 3], [5, 6], [7, 9]], [[2, 3], [5, 7]])))\n",
    "    print(\"Intervals Intersection: \" + str(merge([[1, 3], [5, 7], [9, 12]], [[5, 10]])))\n",
    "main()"
   ]
  },
  {
   "cell_type": "markdown",
   "metadata": {},
   "source": [
    "## Conflicting Appointment\n",
    "\n",
    "Given an array of intervals representing ‘N’ appointments, find out if a person can attend all the appointments.\n",
    "\n",
    "Appointments: [[1,4], [2,5], [7,9]]  \n",
    "Output: false  \n",
    "Explanation: Since [1,4] and [2,5] overlap, a person cannot attend both of these appointments.  \n"
   ]
  },
  {
   "cell_type": "code",
   "execution_count": 36,
   "metadata": {},
   "outputs": [
    {
     "name": "stdout",
     "output_type": "stream",
     "text": [
      "Can attend all appointments: False\n",
      "Can attend all appointments: True\n",
      "Can attend all appointments: False\n"
     ]
    }
   ],
   "source": [
    "def can_attend_all_appointments(intervals):\n",
    "    # TODO: Write your code here\n",
    "    if len(intervals) < 2:  \n",
    "        return True\n",
    "\n",
    "def main():\n",
    "    print(\"Can attend all appointments: \" + str(can_attend_all_appointments([[1, 4], [2, 5], [7, 9]])))\n",
    "    print(\"Can attend all appointments: \" + str(can_attend_all_appointments([[6, 7], [2, 4], [8, 12]])))\n",
    "    print(\"Can attend all appointments: \" + str(can_attend_all_appointments([[4, 5], [2, 3], [3, 6]])))\n",
    "\n",
    "\n",
    "main()"
   ]
  },
  {
   "cell_type": "code",
   "execution_count": 15,
   "metadata": {},
   "outputs": [
    {
     "name": "stdout",
     "output_type": "stream",
     "text": [
      "Can attend all appointments: False\n",
      "Can attend all appointments: True\n",
      "Can attend all appointments: False\n"
     ]
    }
   ],
   "source": [
    "# Solution with more concise code as always \n",
    "def can_attend_all_appointments(intervals):\n",
    "  intervals.sort(key=lambda x: x[0])\n",
    "  start, end = 0, 1\n",
    "  for i in range(1, len(intervals)):\n",
    "    if intervals[i][start] < intervals[i-1][end]:\n",
    "      # please note the comparison above, it is \"<\" and not \"<=\"\n",
    "      # while merging we needed \"<=\" comparison, as we will be merging the two\n",
    "      # intervals having condition \"intervals[i][start] == intervals[i - 1][end]\" but\n",
    "      # such intervals don't represent conflicting appointments as one starts right\n",
    "      # after the other\n",
    "      return False\n",
    "  return True\n",
    "\n",
    "\n",
    "def main():\n",
    "  print(\"Can attend all appointments: \" + str(can_attend_all_appointments([[1, 4], [2, 5], [7, 9]])))\n",
    "  print(\"Can attend all appointments: \" + str(can_attend_all_appointments([[6, 7], [2, 4], [8, 12]])))\n",
    "  print(\"Can attend all appointments: \" + str(can_attend_all_appointments([[4, 5], [2, 3], [3, 6]])))\n",
    "\n",
    "\n",
    "main()\n"
   ]
  },
  {
   "cell_type": "markdown",
   "metadata": {},
   "source": [
    "# Using a min heap\n",
    "\n",
    "## Minimum Meeting Rooms (hard) #\n",
    "Given a list of intervals representing the start and end time of ‘N’ meetings, find the minimum number of rooms required to hold all the meetings.\n",
    "\n",
    "\n",
    "\n",
    "Meetings: [[1,4], [2,5], [7,9]]    \n",
    "Output: 2    \n",
    "Explanation: Since [1,4] and [2,5] overlap, we need two rooms to hold these two meetings. [7,9] can \n",
    "occur in any of the two rooms later.\n",
    "\n",
    "Meetings: [[6,7], [2,4], [8,12]]  \n",
    "Output: 1  \n",
    "Explanation: None of the meetings overlap, therefore we only need one room to hold all meetings.\n",
    "\n",
    "Meetings: [[1,4], [2,3], [3,6]]  \n",
    "Output:2  \n",
    "Explanation: Since [1,4] overlaps with the other two meetings [2,3] and [3,6], we need two rooms to \n",
    "hold all the meetings.\n",
    " \n",
    "Meetings: [[4,5], [2,3], [2,4], [3,5]]  \n",
    "Output: 2  \n",
    "Explanation: We will need one room for [2,3] and [3,5], and another room for [2,4] and [4,5].\n",
    " "
   ]
  },
  {
   "cell_type": "code",
   "execution_count": 37,
   "metadata": {},
   "outputs": [
    {
     "name": "stdout",
     "output_type": "stream",
     "text": [
      "[start: 2 end: 3]\n",
      "[start: 2 end: 3, start: 2 end: 4]\n",
      "[start: 2 end: 4, start: 3 end: 5]\n",
      "[start: 3 end: 5, start: 4 end: 5]\n",
      "Minimum meeting rooms required: 2\n",
      "[start: 1 end: 4]\n",
      "[start: 1 end: 4, start: 2 end: 5]\n",
      "[start: 7 end: 9]\n",
      "Minimum meeting rooms required: 2\n",
      "[start: 2 end: 4]\n",
      "[start: 6 end: 7]\n",
      "[start: 8 end: 12]\n",
      "Minimum meeting rooms required: 1\n",
      "[start: 1 end: 4]\n",
      "[start: 2 end: 3, start: 1 end: 4]\n",
      "[start: 1 end: 4, start: 3 end: 6]\n",
      "Minimum meeting rooms required: 2\n",
      "[start: 2 end: 3]\n",
      "[start: 2 end: 3, start: 2 end: 4]\n",
      "[start: 2 end: 4, start: 3 end: 5]\n",
      "[start: 3 end: 5, start: 4 end: 5]\n",
      "Minimum meeting rooms required: 2\n"
     ]
    }
   ],
   "source": [
    "from heapq import *\n",
    "\n",
    "class Meeting:\n",
    "  def __init__(self, start, end):\n",
    "    self.start = start\n",
    "    self.end = end\n",
    "\n",
    "  def __lt__(self, other):\n",
    "    # min heap based on meeting.end\n",
    "    return self.end < other.end\n",
    "\n",
    "  def __repr__(self):\n",
    "    return f'start: {self.start} end: {self.end}'\n",
    "\n",
    "def min_meeting_rooms(meetings):\n",
    "  # sort the meetings by start time\n",
    "  meetings.sort(key=lambda x: x.start)\n",
    "\n",
    "  minRooms = 0\n",
    "  minHeap = []\n",
    "  for meeting in meetings:\n",
    "   \n",
    "    # remove all the meetings that have ended\n",
    "    while(len(minHeap) > 0 and meeting.start >= minHeap[0].end):\n",
    "      heappop(minHeap)\n",
    "    # add the current meeting into min_heap\n",
    "    heappush(minHeap, meeting)\n",
    "    # all active meetings are in the min_heap, so we need rooms for all of them.\n",
    "    print(minHeap)\n",
    "    minRooms = max(minRooms, len(minHeap))\n",
    "  return minRooms\n",
    "\n",
    "\n",
    "def main():\n",
    "    print(\"Minimum meeting rooms required: \" + str(min_meeting_rooms(\n",
    "        [Meeting(4, 5), Meeting(2, 3), Meeting(2, 4), Meeting(3, 5)])))\n",
    "    print(\"Minimum meeting rooms required: \" +\n",
    "        str(min_meeting_rooms([Meeting(1, 4), Meeting(2, 5), Meeting(7, 9)])))\n",
    "    print(\"Minimum meeting rooms required: \" +\n",
    "        str(min_meeting_rooms([Meeting(6, 7), Meeting(2, 4), Meeting(8, 12)])))\n",
    "    print(\"Minimum meeting rooms required: \" +\n",
    "        str(min_meeting_rooms([Meeting(1, 4), Meeting(2, 3), Meeting(3, 6)])))\n",
    "    print(\"Minimum meeting rooms required: \" + str(min_meeting_rooms(\n",
    "    [Meeting(4, 5), Meeting(2, 3), Meeting(2, 4), Meeting(3, 5)])))\n",
    "\n",
    "\n",
    "main()"
   ]
  },
  {
   "cell_type": "markdown",
   "metadata": {},
   "source": [
    "### Similar Problems #\n",
    "Problem 1: Given a list of intervals, find the point where the maximum number of intervals overlap.\n",
    "\n",
    "Problem 2: Given a list of intervals representing the arrival and departure times of trains to a train station, our goal is to find the minimum number of platforms required for the train station so that no train has to wait.\n",
    "\n",
    "Both of these problems can be solved using the approach discussed above."
   ]
  },
  {
   "cell_type": "markdown",
   "metadata": {},
   "source": [
    "## Maximum CPU Load (hard)\n",
    "We are given a list of Jobs. Each job has a Start time, an End time, and a CPU load when it is running. Our goal is to find the maximum CPU load at any time if all the jobs are running on the same machine.\n",
    "\n",
    "\n",
    "Jobs: [[1,4,3], [2,5,4], [7,9,6]]  \n",
    "Output: 7  \n",
    "Explanation: Since [1,4,3] and [2,5,4] overlap, their maximum CPU load (3+4=7) will be when both the \n",
    "jobs are running at the same time i.e., during the time interval (2,4).\n"
   ]
  },
  {
   "cell_type": "code",
   "execution_count": 23,
   "metadata": {},
   "outputs": [
    {
     "name": "stdout",
     "output_type": "stream",
     "text": [
      "Maximum CPU load at any time: 7\n",
      "Maximum CPU load at any time: 15\n",
      "Maximum CPU load at any time: 8\n"
     ]
    }
   ],
   "source": [
    "from heapq import *\n",
    "\n",
    "class job:\n",
    "    def __init__(self, start, end, cpu_load):\n",
    "        self.start = start\n",
    "        self.end = end\n",
    "        self.cpu_load = cpu_load\n",
    "\n",
    "    def __lt__(self, other):\n",
    "        # min heap based on job.end\n",
    "        return self.end < other.end\n",
    "\n",
    "\n",
    "def find_max_cpu_load(jobs):\n",
    "    # sort the jobs by start time\n",
    "    jobs.sort(key=lambda x: x.start)\n",
    "    max_cpu_load, current_cpu_load = 0, 0\n",
    "    min_heap = []\n",
    "\n",
    "    for j in jobs:\n",
    "        # remove all the jobs that have ended\n",
    "        while(len(min_heap) > 0 and j.start >= min_heap[0].end):\n",
    "            current_cpu_load -= min_heap[0].cpu_load\n",
    "            heappop(min_heap)\n",
    "        # add the current job into min_heap\n",
    "        heappush(min_heap, j)\n",
    "        current_cpu_load += j.cpu_load\n",
    "        max_cpu_load = max(max_cpu_load, current_cpu_load)\n",
    "    return max_cpu_load\n",
    "\n",
    "\n",
    "def main():\n",
    "    print(\"Maximum CPU load at any time: \" + str(find_max_cpu_load([job(1, 4, 3), job(2, 5, 4), job(7, 9, 6)])))\n",
    "    print(\"Maximum CPU load at any time: \" + str(find_max_cpu_load([job(6, 7, 10), job(2, 4, 11), job(8, 12, 15)])))\n",
    "    print(\"Maximum CPU load at any time: \" + str(find_max_cpu_load([job(1, 4, 2), job(2, 4, 1), job(3, 6, 5)])))\n",
    "\n",
    "\n",
    "main()\n"
   ]
  },
  {
   "cell_type": "markdown",
   "metadata": {},
   "source": [
    "## Employee Free Time (hard)  THIS PROBLEM IS SO HARD NEED TO REVIEW AGAIN\n",
    "For ‘K’ employees, we are given a list of intervals representing the working hours of each employee. Our goal is to find out if there is a free interval that is common to all employees. You can assume that each list of employee working hours is sorted on the start time.\n",
    "\n",
    "Input: Employee Working Hours=[[[1,3], [5,6]], [[2,3], [6,8]]]  \n",
    "Output: [3,5]  \n",
    "Explanation: Both the employess are free between [3,5]."
   ]
  },
  {
   "cell_type": "code",
   "execution_count": 24,
   "metadata": {},
   "outputs": [
    {
     "name": "stdout",
     "output_type": "stream",
     "text": [
      "Free intervals: [3, 5]\n",
      "Free intervals: [4, 6][8, 9]\n",
      "Free intervals: [5, 7]\n"
     ]
    }
   ],
   "source": [
    "from __future__ import print_function\n",
    "from heapq import *\n",
    "\n",
    "\n",
    "class Interval:\n",
    "    def __init__(self, start, end):\n",
    "        self.start = start\n",
    "        self.end = end\n",
    "\n",
    "    def print_interval(self):\n",
    "        print(\"[\" + str(self.start) + \", \" + str(self.end) + \"]\", end='')\n",
    "\n",
    "\n",
    "class EmployeeInterval:\n",
    "\n",
    "    def __init__(self, interval, employeeIndex, intervalIndex):\n",
    "        self.interval = interval  # interval representing employee's working hours\n",
    "        # index of the list containing working hours of this employee\n",
    "        self.employeeIndex = employeeIndex\n",
    "        self.intervalIndex = intervalIndex  # index of the interval in the employee list\n",
    "\n",
    "    def __lt__(self, other):\n",
    "        # min heap based on meeting.end\n",
    "        return self.interval.start < other.interval.start\n",
    "\n",
    "\n",
    "def find_employee_free_time(schedule):\n",
    "    if schedule is None:\n",
    "        return []\n",
    "\n",
    "    n = len(schedule)\n",
    "    result, minHeap = [], []\n",
    "\n",
    "    # insert the first interval of each employee to the queue\n",
    "    for i in range(n):\n",
    "        heappush(minHeap, EmployeeInterval(schedule[i][0], i, 0))\n",
    "\n",
    "    previousInterval = minHeap[0].interval\n",
    "    while minHeap:\n",
    "        queueTop = heappop(minHeap)\n",
    "        # if previousInterval is not overlapping with the next interval, insert a free interval\n",
    "        if previousInterval.end < queueTop.interval.start:\n",
    "            result.append(Interval(previousInterval.end,\n",
    "                                   queueTop.interval.start))\n",
    "            previousInterval = queueTop.interval\n",
    "        else:  # overlapping intervals, update the previousInterval if needed\n",
    "            if previousInterval.end < queueTop.interval.end:\n",
    "                previousInterval = queueTop.interval\n",
    "\n",
    "        # if there are more intervals available for the same employee, add their next interval\n",
    "        employeeSchedule = schedule[queueTop.employeeIndex]\n",
    "        if len(employeeSchedule) > queueTop.intervalIndex + 1:\n",
    "            heappush(minHeap, EmployeeInterval(employeeSchedule[queueTop.intervalIndex + 1], queueTop.employeeIndex,\n",
    "                                               queueTop.intervalIndex + 1))\n",
    "\n",
    "    return result\n",
    "\n",
    "\n",
    "def main():\n",
    "\n",
    "    input = [[Interval(1, 3), Interval(5, 6)], [\n",
    "        Interval(2, 3), Interval(6, 8)]]\n",
    "    print(\"Free intervals: \", end='')\n",
    "    for interval in find_employee_free_time(input):\n",
    "        interval.print_interval()\n",
    "    print()\n",
    "\n",
    "    input = [[Interval(1, 3), Interval(9, 12)], [\n",
    "        Interval(2, 4)], [Interval(6, 8)]]\n",
    "    print(\"Free intervals: \", end='')\n",
    "    for interval in find_employee_free_time(input):\n",
    "        interval.print_interval()\n",
    "    print()\n",
    "\n",
    "    input = [[Interval(1, 3)], [\n",
    "        Interval(2, 4)], [Interval(3, 5), Interval(7, 9)]]\n",
    "    print(\"Free intervals: \", end='')\n",
    "    for interval in find_employee_free_time(input):\n",
    "        interval.print_interval()\n",
    "    print()\n",
    "\n",
    "\n",
    "main()\n"
   ]
  },
  {
   "cell_type": "code",
   "execution_count": null,
   "metadata": {},
   "outputs": [],
   "source": []
  }
 ],
 "metadata": {
  "kernelspec": {
   "display_name": "Python 3.7.5 64-bit ('p37': conda)",
   "language": "python",
   "name": "python37564bitp37conda2b1eeea87ee044609be89b011a3e6682"
  },
  "language_info": {
   "codemirror_mode": {
    "name": "ipython",
    "version": 3
   },
   "file_extension": ".py",
   "mimetype": "text/x-python",
   "name": "python",
   "nbconvert_exporter": "python",
   "pygments_lexer": "ipython3",
   "version": "3.7.5"
  }
 },
 "nbformat": 4,
 "nbformat_minor": 4
}
