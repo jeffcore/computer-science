{
 "cells": [
  {
   "cell_type": "markdown",
   "metadata": {},
   "source": [
    "# Math Coding Techniques\n",
    "*  Operators and Functions\n",
    "*  Algrebra Storage Method\n",
    "*  Negative  Positive Numbers\n",
    "*  Algrebra Storage Method\n",
    "*   Get the Middle Index of an Array\n",
    "*  Comparison of inner and outer elements \n",
    "     * Reverse a List\n",
    "*  Middle of Array\n",
    "    *  Get the middle of subset of array\n",
    "    *  Splitting up Array\n",
    "*  Modulo\n",
    "*  Remove Last Digit\n",
    "*  Finding Mean\n",
    "*  Algorithms\n",
    "   *  GCD\n",
    "   *  LCM\n",
    "   *  Distance Two Points\n",
    "   *  slope\n",
    "   *  Midpoint\n",
    "   *  Convert Degrees to Radians\n",
    "   *  Area of Trapezoid\n",
    "   *  Matrix Math"
   ]
  },
  {
   "cell_type": "markdown",
   "metadata": {},
   "source": [
    "## Operators and Functions\n",
    "### exponent operator"
   ]
  },
  {
   "cell_type": "code",
   "execution_count": 41,
   "metadata": {},
   "outputs": [
    {
     "name": "stdout",
     "output_type": "stream",
     "text": [
      "16\n"
     ]
    }
   ],
   "source": [
    "print(4**2)"
   ]
  },
  {
   "cell_type": "markdown",
   "metadata": {},
   "source": [
    "### abs()"
   ]
  },
  {
   "cell_type": "code",
   "execution_count": 33,
   "metadata": {},
   "outputs": [
    {
     "name": "stdout",
     "output_type": "stream",
     "text": [
      "3.14159265\n"
     ]
    }
   ],
   "source": [
    "print(abs(-3.14159265))"
   ]
  },
  {
   "cell_type": "markdown",
   "metadata": {},
   "source": [
    "### round() Formatting Output"
   ]
  },
  {
   "cell_type": "code",
   "execution_count": 34,
   "metadata": {},
   "outputs": [
    {
     "name": "stdout",
     "output_type": "stream",
     "text": [
      "3.142\n"
     ]
    }
   ],
   "source": [
    "print(round(3.14159265, 3))"
   ]
  },
  {
   "cell_type": "markdown",
   "metadata": {},
   "source": [
    "### sum()"
   ]
  },
  {
   "cell_type": "code",
   "execution_count": 35,
   "metadata": {},
   "outputs": [
    {
     "name": "stdout",
     "output_type": "stream",
     "text": [
      "4.5\n",
      "14.5\n"
     ]
    }
   ],
   "source": [
    "numbers = [2.5, 3, 4, -5]\n",
    "\n",
    "# start parameter is not provided\n",
    "numbers_sum = sum(numbers)\n",
    "print(numbers_sum)\n",
    "\n",
    "# start with 10   or.  10 + array of nums\n",
    "numbers_sum = sum(numbers, 10)\n",
    "print(numbers_sum)"
   ]
  },
  {
   "cell_type": "markdown",
   "metadata": {},
   "source": [
    "### max()"
   ]
  },
  {
   "cell_type": "code",
   "execution_count": 92,
   "metadata": {},
   "outputs": [
    {
     "name": "stdout",
     "output_type": "stream",
     "text": [
      "The largest number is: 10\n"
     ]
    }
   ],
   "source": [
    "number = [3, 2, 8, 5, 10, 6]\n",
    "largest_number = max(number);\n",
    "\n",
    "print(\"The largest number is:\", largest_number)"
   ]
  },
  {
   "cell_type": "markdown",
   "metadata": {},
   "source": [
    "### min()"
   ]
  },
  {
   "cell_type": "code",
   "execution_count": 93,
   "metadata": {},
   "outputs": [
    {
     "name": "stdout",
     "output_type": "stream",
     "text": [
      "The smallest number is: 2\n"
     ]
    }
   ],
   "source": [
    "number = [3, 2, 8, 5, 10, 6]\n",
    "smallest_number = min(number);\n",
    "\n",
    "print(\"The smallest number is:\", smallest_number)"
   ]
  },
  {
   "cell_type": "markdown",
   "metadata": {},
   "source": [
    "### divmod()\n",
    "The divmod() method takes two numbers and returns a pair of numbers (a tuple) consisting of their quotient and remainder."
   ]
  },
  {
   "cell_type": "code",
   "execution_count": 91,
   "metadata": {},
   "outputs": [
    {
     "name": "stdout",
     "output_type": "stream",
     "text": [
      "divmod(8, 3) =  (2, 2)\n",
      "divmod(3, 8) =  (0, 3)\n",
      "divmod(5, 5) =  (1, 0)\n",
      "divmod(8.0, 3) =  (2.0, 2.0)\n",
      "divmod(3, 8.0) =  (0.0, 3.0)\n",
      "divmod(7.5, 2.5) =  (3.0, 0.0)\n",
      "divmod(2.6, 0.5) =  (5.0, 0.10000000000000009)\n"
     ]
    }
   ],
   "source": [
    "print('divmod(8, 3) = ', divmod(8, 3))\n",
    "print('divmod(3, 8) = ', divmod(3, 8))\n",
    "print('divmod(5, 5) = ', divmod(5, 5))\n",
    "\n",
    "# divmod() with Floats\n",
    "print('divmod(8.0, 3) = ', divmod(8.0, 3))\n",
    "print('divmod(3, 8.0) = ', divmod(3, 8.0))\n",
    "print('divmod(7.5, 2.5) = ', divmod(7.5, 2.5))\n",
    "print('divmod(2.6, 0.5) = ', divmod(2.6, 0.5))"
   ]
  },
  {
   "cell_type": "markdown",
   "metadata": {},
   "source": [
    "### cast to int or float"
   ]
  },
  {
   "cell_type": "code",
   "execution_count": 67,
   "metadata": {},
   "outputs": [
    {
     "name": "stdout",
     "output_type": "stream",
     "text": [
      "3.0\n",
      "4\n"
     ]
    }
   ],
   "source": [
    "a = 3\n",
    "b = 4.4\n",
    "\n",
    "print(float(a))\n",
    "print(int(b))"
   ]
  },
  {
   "cell_type": "markdown",
   "metadata": {},
   "source": [
    "## Math Functions\n",
    "### Floor and Ceiling"
   ]
  },
  {
   "cell_type": "code",
   "execution_count": 62,
   "metadata": {},
   "outputs": [
    {
     "name": "stdout",
     "output_type": "stream",
     "text": [
      "The ceil of 2.3 is : 3\n",
      "The floor of 2.3 is : 2\n"
     ]
    }
   ],
   "source": [
    "import math \n",
    "  \n",
    "a = 2.3\n",
    "  \n",
    "# returning the ceil of 2.3 \n",
    "print (\"The ceil of 2.3 is : \", end=\"\") \n",
    "print (math.ceil(a)) \n",
    "  \n",
    "# returning the floor of 2.3 \n",
    "print (\"The floor of 2.3 is : \", end=\"\") \n",
    "print (math.floor(a)) "
   ]
  },
  {
   "cell_type": "markdown",
   "metadata": {},
   "source": [
    "## Negative  Positive Numbers\n",
    "### Negative <--> Positive"
   ]
  },
  {
   "cell_type": "code",
   "execution_count": 42,
   "metadata": {},
   "outputs": [
    {
     "name": "stdout",
     "output_type": "stream",
     "text": [
      "True\n",
      "False\n",
      "-1\n",
      "1\n"
     ]
    }
   ],
   "source": [
    "# find out if element is negative or positive\n",
    "x = 1\n",
    "is_positive = x >= 0\n",
    "print(is_positive)\n",
    "\n",
    "x = -1\n",
    "is_positive = x >= 0\n",
    "print(is_positive)\n",
    "\n",
    "#Switch Sign\n",
    "x = 1\n",
    "x = -x\n",
    "print(x)\n",
    "x = -x\n",
    "print(x)"
   ]
  },
  {
   "cell_type": "markdown",
   "metadata": {},
   "source": [
    "### Ignore Negative option"
   ]
  },
  {
   "cell_type": "code",
   "execution_count": 43,
   "metadata": {},
   "outputs": [
    {
     "name": "stdout",
     "output_type": "stream",
     "text": [
      "0\n",
      "5\n"
     ]
    }
   ],
   "source": [
    "maxPathSumFromRight = -1\n",
    "result = max(maxPathSumFromRight, 0)\n",
    "print(result)\n",
    "\n",
    "\n",
    "maxPathSumFromRight = 5\n",
    "result = max(maxPathSumFromRight, 0)\n",
    "print(result)"
   ]
  },
  {
   "cell_type": "markdown",
   "metadata": {},
   "source": [
    "## Algrebra Storage Method\n",
    "When you are asking if pairs or triplets of numbers sum to equal a number or less than a number\n",
    "\n",
    "### Pairs X + Y = SUM  \n",
    "Use the DIffernec\n",
    "SUM - X = Y\n"
   ]
  },
  {
   "cell_type": "code",
   "execution_count": 193,
   "metadata": {},
   "outputs": [
    {
     "name": "stdout",
     "output_type": "stream",
     "text": [
      "3\n",
      "true\n",
      "4\n"
     ]
    }
   ],
   "source": [
    "sum_to = 4\n",
    "x = 1\n",
    "y = 3\n",
    "\n",
    "\n",
    "sum_diff =  sum_to - x\n",
    "print(sum_diff)\n",
    "\n",
    "if y  == sum_diff:\n",
    "    print('true')\n",
    "    print(y + x)\n"
   ]
  },
  {
   "cell_type": "markdown",
   "metadata": {},
   "source": [
    "### Triplets X + Y + Z  = 0\n",
    "x + y = -z"
   ]
  },
  {
   "cell_type": "code",
   "execution_count": 196,
   "metadata": {},
   "outputs": [
    {
     "name": "stdout",
     "output_type": "stream",
     "text": [
      "true\n",
      "0\n"
     ]
    }
   ],
   "source": [
    "sum_to = 0\n",
    "x = -1\n",
    "y = -3\n",
    "z = 4\n",
    "\n",
    "\n",
    "z = -z\n",
    "\n",
    "if x + y == z:\n",
    "    print('true')\n",
    "    print(x + y + -z)"
   ]
  },
  {
   "cell_type": "code",
   "execution_count": null,
   "metadata": {},
   "outputs": [],
   "source": [
    "### Triplets X + Y + Z  = 0\n",
    "x + y = -z"
   ]
  },
  {
   "cell_type": "markdown",
   "metadata": {},
   "source": [
    "## Get the Middle Index of an Array\n",
    "\n",
    "### HINT: always base the middle index of array based off or 0 index then adjust\n",
    "\n",
    "### Lets start of with simple division"
   ]
  },
  {
   "cell_type": "code",
   "execution_count": 39,
   "metadata": {},
   "outputs": [
    {
     "name": "stdout",
     "output_type": "stream",
     "text": [
      "4/2 = 2.0\n",
      "5/2 = 2.5\n",
      "6/2 = 3.0\n",
      "4//2 = 2\n",
      "5//2 = 2\n",
      "6//2 = 3\n"
     ]
    }
   ],
   "source": [
    "print(f'4/2 = {4/2}')\n",
    "print(f'5/2 = {5/2}')\n",
    "print(f'6/2 = {6/2}')\n",
    "print(f'4//2 = {4//2}')\n",
    "print(f'5//2 = {5//2}')\n",
    "print(f'6//2 = {6//2}')"
   ]
  },
  {
   "cell_type": "markdown",
   "metadata": {},
   "source": [
    "notice the floor division  on 5//2 = 2   \n",
    "this is the confusing part - it can either be a problem or a helper"
   ]
  },
  {
   "cell_type": "markdown",
   "metadata": {},
   "source": [
    "### usually with arrays you are dealing with indexes that start at zero\n",
    "so here is what happens when you use the floor divisor //"
   ]
  },
  {
   "cell_type": "code",
   "execution_count": 36,
   "metadata": {},
   "outputs": [
    {
     "name": "stdout",
     "output_type": "stream",
     "text": [
      "even example len(arr)//2 = 3: index  3 element  4\n",
      "odd example  len(arr)//2 = 3: index  3 element  4\n"
     ]
    }
   ],
   "source": [
    "# even example\n",
    "arr = [1,2,3,4,5,6]\n",
    "result = len(arr)//2\n",
    "print('even example len(arr)//2 = 3: index ', result, 'element ', arr[result])\n",
    "\n",
    "# odd example\n",
    "arr = [1,2,3,4,5,6,7]\n",
    "result = len(arr)//2\n",
    "print('odd example  len(arr)//2 = 3: index ', result, 'element ', arr[result])"
   ]
  },
  {
   "cell_type": "markdown",
   "metadata": {},
   "source": [
    "### holy crap it is the same number\n",
    "this is where it gets confusing, because based on the situation it changes how you calculate the array middle  \n",
    "every even to odd number have same quotient - ex 2, 3    4,5"
   ]
  },
  {
   "cell_type": "markdown",
   "metadata": {},
   "source": [
    "### based on the basic calculation len(arr)//2\n",
    "you will alwys be given:\n",
    "* odd length- the middle element \n",
    "* even length- one element after the true middle"
   ]
  },
  {
   "cell_type": "code",
   "execution_count": 147,
   "metadata": {},
   "outputs": [
    {
     "name": "stdout",
     "output_type": "stream",
     "text": [
      "even example len(arr)//2 = 3:  3 element  4\n",
      "odd example  len(arr)//2 = 3:  3 element  4\n"
     ]
    }
   ],
   "source": [
    "arr = [1,2,3,4,5,6]\n",
    "result = len(arr)//2\n",
    "print('even example len(arr)//2 = 3: ', result, 'element ', arr[result])\n",
    "\n",
    "# odd example\n",
    "arr = [1,2,3,4,5,6,7]\n",
    "result = len(arr)//2\n",
    "print('odd example  len(arr)//2 = 3: ', result, 'element ', arr[result])"
   ]
  },
  {
   "cell_type": "markdown",
   "metadata": {},
   "source": [
    "### so the first decision you have to make is based on the even length\n",
    "Do you want the element before or after the middle  \n",
    "* if after do the calc above\n",
    "* PICK FROM THE FOLLOWING TRICKS  \n",
    " (len(arr)-1) // 2   \n",
    " OR.  \n",
    " CONDITIONAL\n",
    " \n",
    "### (length - 1) // 2 trick for even before also works with odd"
   ]
  },
  {
   "cell_type": "code",
   "execution_count": 162,
   "metadata": {},
   "outputs": [
    {
     "name": "stdout",
     "output_type": "stream",
     "text": [
      "even example len(arr)//2 = 3:  2 element  3\n",
      "odd example  len(arr)//2 = 3:  3 element  4\n"
     ]
    }
   ],
   "source": [
    "# even Example\n",
    "arr = [1,2,3,4,5,6]\n",
    "result = (len(arr)-1)//2 \n",
    "print('even example len(arr)//2 = 3: ', result, 'element ', arr[result])\n",
    "\n",
    "# odd example\n",
    "arr = [1,2,3,4,5,6,7]\n",
    "result =  (len(arr)-1)//2\n",
    "print('odd example  len(arr)//2 = 3: ', result, 'element ', arr[result])"
   ]
  },
  {
   "cell_type": "markdown",
   "metadata": {},
   "source": [
    "### conditional trick for even before middle"
   ]
  },
  {
   "cell_type": "code",
   "execution_count": null,
   "metadata": {},
   "outputs": [],
   "source": [
    "# even Example\n",
    "arr = [1,2,3,4,5,6]\n",
    "if len(arr) % 2 == 0:\n",
    "    result = len(arr)//2 - 1\n",
    "else:\n",
    "    result = len(arr)//2\n",
    "print('even example  len(arr)//2 = 3: ', result, 'element ', arr[result])\n",
    "\n",
    "# odd example\n",
    "arr = [1,2,3,4,5,6,7]\n",
    "if len(arr) % 2 == 0:\n",
    "    result = len(arr)//2 - 1\n",
    "else:\n",
    "    result = len(arr)//2\n",
    "print('odd example  len(arr)//2 = 3: ', result, 'element ', arr[result])"
   ]
  },
  {
   "cell_type": "markdown",
   "metadata": {},
   "source": [
    "### so the final way to wrap your head around this problem is ask the question\n",
    "#### Do I want the middle index of the array and if even do i want the before or after middle?\n",
    "\n",
    "\n"
   ]
  },
  {
   "cell_type": "markdown",
   "metadata": {},
   "source": [
    "### Simple Explanation Get Middle of Array by index"
   ]
  },
  {
   "cell_type": "code",
   "execution_count": 40,
   "metadata": {},
   "outputs": [
    {
     "name": "stdout",
     "output_type": "stream",
     "text": [
      "always the higher of the middle two  len(arr)//2 = 3:  3\n",
      "lower of the middle two len(arr)//2-1 = 2:  2\n",
      "works Should be 3 : 3\n",
      "works Should be 3 : 3\n"
     ]
    }
   ],
   "source": [
    "# always the higher index of the middle two\n",
    "arr = [1,2,3,4,5,6]\n",
    "result = len(arr)//2\n",
    "print('always the higher of the middle two  len(arr)//2 = 3: ', result)\n",
    "\n",
    "# if you want the lower index of the middle two numbers\n",
    "arr = [1,2,3,4,5,6]\n",
    "result = len(arr)//2-1\n",
    "print('lower of the middle two len(arr)//2-1 = 2: ', result)\n",
    "\n",
    "# both works for odd arrays\n",
    "arr = [1,2,3,4,5,6,7]\n",
    "result = len(arr)//2\n",
    "print('works Should be 3 :', result)\n",
    "\n",
    "arr = [1,2,3,4,5,6,7]\n",
    "result = (len(arr)-1)//2\n",
    "print('works Should be 3 :', result)"
   ]
  },
  {
   "cell_type": "markdown",
   "metadata": {},
   "source": [
    "### Find the median of an array of numbers - Perfect example"
   ]
  },
  {
   "cell_type": "code",
   "execution_count": 160,
   "metadata": {},
   "outputs": [
    {
     "name": "stdout",
     "output_type": "stream",
     "text": [
      "3.5\n",
      "4\n"
     ]
    }
   ],
   "source": [
    "def median(arr):\n",
    "    n = len(arr)\n",
    "    mid = len(arr)//2\n",
    "    if n % 2 == 0:\n",
    "        left = mid - 1\n",
    "        right = mid\n",
    "        return (arr[left]+arr[right])/2\n",
    "    else:\n",
    "        return arr[mid]\n",
    "\n",
    "arr = [1,2,3,4,5,6]\n",
    "print(median(arr))\n",
    "\n",
    "arr = [1,2,3,4,5,6,7]\n",
    "print(median(arr))"
   ]
  },
  {
   "cell_type": "markdown",
   "metadata": {},
   "source": [
    "## Comparison of inner and outer elements - Using Range remember range goes up to one less length // 2\n",
    "for i in range(length // 2)   \n",
    "will take you to:  \n",
    "* odd - ignore middle element  [1,2,3,4,5] return value 3\n",
    "* even - first half   [1,2,3,4] return value 3\n",
    "\n",
    "for i in range( (length - 1) // 2)   \n",
    "there is no use for this - because even lengths\n",
    "* odd - ignore middle and left of middle : [1,2,3,4,5] return value 3\n",
    "* even - first half  [1,2,3,4] return value 2\n",
    "\n",
    "\n",
    "### Reverse a List\n",
    "this solution ignores the middle element of odd length array\n",
    "\n",
    "When iteration over array with middle\n"
   ]
  },
  {
   "cell_type": "code",
   "execution_count": 47,
   "metadata": {},
   "outputs": [
    {
     "name": "stdout",
     "output_type": "stream",
     "text": [
      "2\n",
      "3\n",
      "[5, 4, 3, 2, 1]\n",
      "3\n",
      "4\n",
      "[6, 5, 4, 3, 2, 1]\n",
      "[6, 5, 4, 3, 2, 1]\n",
      "[5, 4, 3, 2, 1]\n"
     ]
    }
   ],
   "source": [
    "# reverse a list odd\n",
    "l = [1,2,3,4,5]\n",
    "print(len(l)//2)\n",
    "print(l[len(l)//2])\n",
    "\n",
    "for i in range(len(l)//2):    \n",
    "    l[i], l[len(l)-i-1] = l[len(l)-i-1], l[i]\n",
    "    \n",
    "print(l)\n",
    "\n",
    "\n",
    "# reverse a list even\n",
    "l = [1,2,3,4,5,6]\n",
    "print(len(l)//2)\n",
    "print(l[len(l)//2])\n",
    "\n",
    "for i in range(len(l)//2):    \n",
    "    l[i], l[len(l)-i-1] = l[len(l)-i-1], l[i]\n",
    "    \n",
    "print(l)\n",
    "\n",
    "# two pointers even\n",
    "l = [1,2,3,4,5,6]\n",
    "start = 0\n",
    "end = len(l)-1\n",
    "\n",
    "while start < end:\n",
    "    l[start], l[end] = l[end], l[start]\n",
    "    start += 1\n",
    "    end -=1\n",
    "    \n",
    "print(l)\n",
    "    \n",
    " # odd\n",
    "l = [1,2,3,4,5]\n",
    "start = 0\n",
    "end = len(l)-1\n",
    "\n",
    "while start < end:\n",
    "    l[start], l[end] = l[end], l[start]\n",
    "    start += 1\n",
    "    end -=1\n",
    "    \n",
    "print(l)"
   ]
  },
  {
   "cell_type": "markdown",
   "metadata": {},
   "source": [
    "## Middle of Array - Not by index - Starts with 1\n",
    "\n",
    "just at 1 to index based middle\n",
    "### Get To Middle of data structure starting at 1"
   ]
  },
  {
   "cell_type": "code",
   "execution_count": 55,
   "metadata": {},
   "outputs": [
    {
     "name": "stdout",
     "output_type": "stream",
     "text": [
      "always the higher of the middle two  len(arr)//2 = index 3 element value 4\n",
      "always the higher of the middle two  len(arr)//2 = index 2 element value 3\n",
      "works Should be 4 : index 4\n"
     ]
    }
   ],
   "source": [
    "# EVEN\n",
    "# always the higher of the middle two\n",
    "arr = [1,2,3,4,5,6]\n",
    "result = len(arr)//2\n",
    "print(f'always the higher of the middle two  len(arr)//2 = index {result} element value {arr[result]}')\n",
    "\n",
    "# if you want the lower of the middle two numbers\n",
    "arr = [1,2,3,4,5,6]\n",
    "result = (len(arr)//2) - 1\n",
    "print(f'always the higher of the middle two  len(arr)//2 = index {result} element value {arr[result]}')\n",
    "\n",
    "# works for odd arrays\n",
    "arr = [1,2,3,4,5,6,7]\n",
    "result = len(arr)//2+1\n",
    "print('works Should be 4 : index', result)"
   ]
  },
  {
   "cell_type": "markdown",
   "metadata": {},
   "source": [
    "### Get the middle of subset of array\n",
    "\n",
    "[1,2,3,4,5,6,7]   want middle of index 3 - 6\n",
    "\n",
    "(left + right) // 2\n",
    "\n",
    "if you want even left of middle  \n",
    "((left + right) - 1) // 2"
   ]
  },
  {
   "cell_type": "code",
   "execution_count": 165,
   "metadata": {},
   "outputs": [
    {
     "name": "stdout",
     "output_type": "stream",
     "text": [
      "index  4\n",
      "value  5\n"
     ]
    }
   ],
   "source": [
    "arr = [1,2,3,4,5,6]\n",
    "left = 3\n",
    "right = 6\n",
    "print('index ' , (left + right) // 2)\n",
    "print('value ' , arr[(left + right) // 2])"
   ]
  },
  {
   "cell_type": "markdown",
   "metadata": {},
   "source": [
    "Another solution used in binary search "
   ]
  },
  {
   "cell_type": "code",
   "execution_count": 24,
   "metadata": {},
   "outputs": [
    {
     "name": "stdout",
     "output_type": "stream",
     "text": [
      "12\n",
      "14\n",
      "11\n",
      "9\n",
      "27\n",
      "7\n",
      "3\n",
      " \n",
      "12\n",
      "14\n",
      "11\n",
      "9\n",
      "27\n",
      "7\n",
      "3\n"
     ]
    }
   ],
   "source": [
    "start = 10\n",
    "end = 14\n",
    "def get_middle_yo(start, end):\n",
    "    print(start + (end - start) // 2)\n",
    "    \n",
    "def get_middle_yo2(start, end):\n",
    "    print((start + end) // 2)\n",
    "\n",
    "get_middle_yo(10, 15)\n",
    "get_middle_yo(10, 18)\n",
    "get_middle_yo(8, 15)\n",
    "get_middle_yo(7, 12)\n",
    "get_middle_yo(5, 50)\n",
    "get_middle_yo(0, 15)\n",
    "get_middle_yo(1, 6)\n",
    "print(' ')\n",
    "get_middle_yo2(10, 15)\n",
    "get_middle_yo2(10, 18)\n",
    "get_middle_yo2(8, 15)\n",
    "get_middle_yo2(7, 12)\n",
    "get_middle_yo2(5, 50)\n",
    "get_middle_yo2(0, 15)\n",
    "get_middle_yo2(1, 6)"
   ]
  },
  {
   "cell_type": "markdown",
   "metadata": {},
   "source": [
    "### Splitting up Array"
   ]
  },
  {
   "cell_type": "code",
   "execution_count": 175,
   "metadata": {},
   "outputs": [
    {
     "name": "stdout",
     "output_type": "stream",
     "text": [
      "[1, 2, 3]\n",
      "[4, 5, 6]\n",
      "\n",
      "[1, 2, 3]\n",
      "[4, 5, 6, 7]\n",
      "\n",
      "[1, 2, 3]\n",
      "[4, 5, 6]\n",
      "\n",
      "[1, 2, 3, 4]\n",
      "[5, 6, 7]\n"
     ]
    }
   ],
   "source": [
    "# split even length array \n",
    "arr = [1,2,3,4,5,6]\n",
    "mid  = len(arr) // 2\n",
    "\n",
    "print(arr[0:mid])\n",
    "print(arr[mid:])\n",
    "print('')\n",
    "\n",
    "# split odd length array  - heavy right\n",
    "arr = [1,2,3,4,5,6, 7]\n",
    "mid = len(arr) // 2\n",
    "\n",
    "print(arr[0:mid])\n",
    "print(arr[mid:])\n",
    "print('')\n",
    "\n",
    "# split even length array same as above\n",
    "arr = [1,2,3,4,5,6]\n",
    "mid = (len(arr) +1)// 2\n",
    "print(arr[0:mid])\n",
    "print(arr[mid:])\n",
    "print('')\n",
    "\n",
    "# split odd length array - heavy left\n",
    "arr = [1,2,3,4,5,6,7]\n",
    "mid = (len(arr) +1)// 2\n",
    "print(arr[0:mid])\n",
    "print(arr[mid:])"
   ]
  },
  {
   "cell_type": "markdown",
   "metadata": {},
   "source": [
    "## Comparing Larger and Smaller Absolute Values\n",
    "If you have to store the larger of equal absolute values"
   ]
  },
  {
   "cell_type": "code",
   "execution_count": 184,
   "metadata": {},
   "outputs": [
    {
     "name": "stdout",
     "output_type": "stream",
     "text": [
      "5\n",
      "5\n",
      "5\n",
      "-5\n",
      "5\n",
      "5\n",
      "4\n"
     ]
    }
   ],
   "source": [
    "def larger_of_absolute(target_diff, smallest_difference):\n",
    "    if abs(target_diff) < abs(smallest_difference) or \\\n",
    "          (abs(target_diff) == abs(smallest_difference) and target_diff > smallest_difference):\n",
    "        smallest_difference = target_diff  # save the closest and the biggest difference\n",
    "    return smallest_difference\n",
    "\n",
    "print(larger_of_absolute(10, 5))\n",
    "print(larger_of_absolute(5, 10))\n",
    "print(larger_of_absolute(-5, 5))    \n",
    "print(larger_of_absolute(-5, -5))\n",
    "print(larger_of_absolute(5, -5))\n",
    "print(larger_of_absolute(5, 5))     \n",
    "print(larger_of_absolute(5, 4))  \n"
   ]
  },
  {
   "cell_type": "markdown",
   "metadata": {},
   "source": [
    "## Sum Array in reverse"
   ]
  },
  {
   "cell_type": "code",
   "execution_count": 5,
   "metadata": {},
   "outputs": [
    {
     "name": "stdout",
     "output_type": "stream",
     "text": [
      "1\n"
     ]
    }
   ],
   "source": [
    "currentPath = [3,4,5,6,3,2]\n",
    "S = 11\n",
    "pathSum = 0\n",
    "pathCount = 0\n",
    "for i in range(len(currentPath)-1, -1, -1):\n",
    "    pathSum += currentPath[i]\n",
    "    # if the sum of any sub-path is equal to 'S' we increment our path count.\n",
    "    if pathSum == S:\n",
    "        pathCount += 1\n",
    "print(pathCount)"
   ]
  },
  {
   "cell_type": "markdown",
   "metadata": {},
   "source": [
    "## Modulo"
   ]
  },
  {
   "cell_type": "markdown",
   "metadata": {},
   "source": [
    "### Check if number if even"
   ]
  },
  {
   "cell_type": "code",
   "execution_count": 56,
   "metadata": {},
   "outputs": [
    {
     "name": "stdout",
     "output_type": "stream",
     "text": [
      "odd\n",
      "even\n"
     ]
    }
   ],
   "source": [
    "def is_even(num):\n",
    "    if num % 2 == 0:\n",
    "        print('even')\n",
    "    else:\n",
    "        print('odd')\n",
    "        \n",
    "is_even(5)\n",
    "is_even(6)        "
   ]
  },
  {
   "cell_type": "markdown",
   "metadata": {},
   "source": [
    "### Get mid or high mid of number based in index of array"
   ]
  },
  {
   "cell_type": "code",
   "execution_count": 37,
   "metadata": {},
   "outputs": [
    {
     "name": "stdout",
     "output_type": "stream",
     "text": [
      "6\n",
      "3\n"
     ]
    }
   ],
   "source": [
    "#Get mid or high mid of number\n",
    "list_length = 10\n",
    "if list_length % 2 == 0:\n",
    "    print(list_length//2 + 1)\n",
    "else:\n",
    "    print(list_length//2)\n",
    "\n",
    "\n",
    "list_length = 7\n",
    "if list_length % 2 == 0:\n",
    "    print(list_length//2 + 1)\n",
    "else:\n",
    "    print(list_length//2)"
   ]
  },
  {
   "cell_type": "markdown",
   "metadata": {},
   "source": [
    "### Get Last Digit\n",
    "14 get 4"
   ]
  },
  {
   "cell_type": "code",
   "execution_count": 43,
   "metadata": {},
   "outputs": [
    {
     "name": "stdout",
     "output_type": "stream",
     "text": [
      "14 % 10 = 4\n",
      "215 % 10 = 5\n"
     ]
    }
   ],
   "source": [
    "print(f'14 % 10 = {14 % 10}')\n",
    "print(f'215 % 10 = {215 % 10}')"
   ]
  },
  {
   "cell_type": "markdown",
   "metadata": {},
   "source": [
    "### Is Divisable\n",
    "easy trick to find odd number or if number is divisible by another, or find remainder  \n",
    "10 % 5 = 0      \n",
    "\n",
    "if it equals zero the number is divisible \n",
    "\n",
    "How Calc works:  \n",
    "\n",
    "```10 % 6 = 4  \n",
    "Mod calculation  \n",
    "10 / 6 = 1.666667  \n",
    "floor(1.666667) x 6 = 1 x 6 =  6  \n",
    "10 - 6 = 4  \n",
    "```"
   ]
  },
  {
   "cell_type": "code",
   "execution_count": 42,
   "metadata": {},
   "outputs": [
    {
     "name": "stdout",
     "output_type": "stream",
     "text": [
      "10 % 5  = 0\n"
     ]
    }
   ],
   "source": [
    "print(f'10 % 5  = {10 % 5 }')"
   ]
  },
  {
   "cell_type": "markdown",
   "metadata": {},
   "source": [
    "### Negative modulo - how can A be divisible by number B?\n",
    "what do i have to add to number a to be divisible by number b\n",
    "```\n",
    "-6 % 10 = 4\n",
    "-150 % 60 = 30\n",
    "```\n",
    "2 is the number that you'd have to add to that to get -8. Therefore, -8 % 5 is 2.\n",
    "use this trick for divisor type questions combined with algebra ds trick\n",
    "```\n",
    "-6 % 10 = 4\n",
    "Mod calculation\n",
    "-6 / 10 = -.1\n",
    "floor(-.1) = -1 \n",
    "-1 * 10 = -10\n",
    "-6 - (-10) =  4\n",
    "```"
   ]
  },
  {
   "cell_type": "code",
   "execution_count": 48,
   "metadata": {},
   "outputs": [
    {
     "name": "stdout",
     "output_type": "stream",
     "text": [
      "-6 % 10  = 4\n",
      "-150 % 60  = 30\n"
     ]
    }
   ],
   "source": [
    "print(f'-6 % 10  = {-6 % 10}')\n",
    "print(f'-150 % 60  = {-150 % 60}')\n"
   ]
  },
  {
   "cell_type": "markdown",
   "metadata": {},
   "source": [
    "### fraction based mod calcs\n",
    "this is used if you want to store the difference of division for an algebraic look up DS \n",
    "```\n",
    "2 % 10 = 2\n",
    "12 % 10 = 2\n",
    "\n",
    "2 % 10 = 2\n",
    "Mod calculation\n",
    "2 / 10 = 0.2\n",
    "floor(.2) = 0\n",
    "0 x 10 = 0\n",
    "2 - 0 = 2\n",
    "```"
   ]
  },
  {
   "cell_type": "code",
   "execution_count": 49,
   "metadata": {},
   "outputs": [
    {
     "name": "stdout",
     "output_type": "stream",
     "text": [
      "2 % 10  = 2\n",
      "6 % 10 = 6\n"
     ]
    }
   ],
   "source": [
    "print(f'2 % 10  = {2 % 10}')\n",
    "print(f'6 % 10 = {6 % 10}')"
   ]
  },
  {
   "cell_type": "markdown",
   "metadata": {},
   "source": [
    "# ultimate modulos problem uses all tricks\n",
    "Input: [30,20,150,100,40]  \n",
    "Output: 3  \n",
    "Explanation: Three pairs have a total duration divisible by 60:  \n",
    "(time[0] = 30, time[2] = 150): total duration 180  \n",
    "(time[1] = 20, time[3] = 100): total duration 120  \n",
    "(time[1] = 20, time[4] = 40): total duration 60  "
   ]
  },
  {
   "cell_type": "code",
   "execution_count": null,
   "metadata": {},
   "outputs": [],
   "source": []
  },
  {
   "cell_type": "code",
   "execution_count": 58,
   "metadata": {},
   "outputs": [
    {
     "name": "stdout",
     "output_type": "stream",
     "text": [
      "if 30 in dic:  -30 % 60 = 30\n",
      "if 30 in dic:  30 % 60 = 30\n",
      "if 40 in dic:  -20 % 60 = 40\n",
      "if 20 in dic:  20 % 60 = 20\n",
      "if 30 in dic:  -150 % 60 = 30\n",
      "if 30 in dic:  150 % 60 = 30\n",
      "if 20 in dic:  -100 % 60 = 20\n",
      "if 40 in dic:  100 % 60 = 40\n",
      "if 20 in dic:  -40 % 60 = 20\n",
      "if 40 in dic:  40 % 60 = 40\n",
      "3\n"
     ]
    }
   ],
   "source": [
    "def numPairsDivisibleBy60(time):\n",
    "    if time == None and len(time) <= 1:\n",
    "        return 0\n",
    "    dic = {}\n",
    "    res = 0\n",
    "    for i in time:\n",
    "    # checks of number needed to be divisible is in dict : can use all quanities\n",
    "        print(f'if {-i % 60 } in dic:  -{i} % 60 = {-i % 60 }')\n",
    "        if -i % 60 in dic:        \n",
    "            res += dic[-i % 60]\n",
    "    ## stores either digit below 60 or reminder above 60\n",
    "    ##  saying you can use me or use my reminder \n",
    "    #if 20 in dic:  20 % 60 = 20\n",
    "    #if 30 in dic:  150 % 60 = 30\n",
    "        print(f'if {i % 60} in dic:  {i} % 60 = {i % 60 }')\n",
    "        if i % 60 in dic:\n",
    "            dic[i % 60] += 1\n",
    "        else:\n",
    "            dic[i % 60] = 1\n",
    "    return len(dic)\n",
    "print(numPairsDivisibleBy60([30,20,150,100,40]))"
   ]
  },
  {
   "cell_type": "markdown",
   "metadata": {},
   "source": [
    "### 681. Next Closest Time - uses every math trick in the book\n",
    "Given a time represented in the format \"HH:MM\", form the next closest time by reusing the current digits. There is no limit on how many times a digit can be reused.\n",
    "\n",
    "You may assume the given input string is always valid. For example, \"01:34\", \"12:09\" are all valid. \"1:34\", \"12:9\" are all invalid.\n",
    "\n",
    "Example 1:  \n",
    "\n",
    "Input: \"19:34\"  \n",
    "Output: \"19:39\"  \n",
    "Explanation: The next closest time choosing from digits 1, 9, 3, 4, is 19:39, which occurs 5 minutes later.  It is not 19:33, because this occurs 23 hours and 59 minutes later."
   ]
  },
  {
   "cell_type": "code",
   "execution_count": 3,
   "metadata": {},
   "outputs": [
    {
     "name": "stdout",
     "output_type": "stream",
     "text": [
      " mins 1174 \n",
      "19:39\n",
      " mins 1439 \n",
      "22:22\n"
     ]
    }
   ],
   "source": [
    "def next_closest_time(time):\n",
    "    # convert to minutes    \n",
    "    mins = int(time[:2]) * 60 + int(time[3:])        \n",
    "    print(f' mins {mins} ')\n",
    "    \n",
    "    # make set of all digits\n",
    "    allowed = {int(x) for x in time if x != ':'}\n",
    "    \n",
    "    while True:\n",
    "        # add one minute use modulos to flip at end of day\n",
    "        mins = (mins + 1) % (24*60)\n",
    "        \n",
    "        # convert minutes to time digits\n",
    "        hour_1 = mins // 60 // 10\n",
    "        hour_2 = mins // 60 % 10\n",
    "        minute_1 = mins % 60 // 10\n",
    "        minute_2 = mins % 60 % 10\n",
    "        \n",
    "        next_time_digits = [hour_1, hour_2, minute_1, minute_2]\n",
    "        \n",
    "        # check if all digits are all in set\n",
    "        is_value = True        \n",
    "        for item in next_time_digits:\n",
    "            if item not in allowed:\n",
    "                is_value = False \n",
    "        \n",
    "        # if time is value\n",
    "        if is_value:   \n",
    "            # convert mins into time\n",
    "            hour, mins = divmod(mins, 60)\n",
    "            return str(hour) + ':' + str(mins)       \n",
    "    \n",
    "print(next_closest_time('19:34'))\n",
    "print(next_closest_time('23:59'))"
   ]
  },
  {
   "cell_type": "code",
   "execution_count": 5,
   "metadata": {},
   "outputs": [
    {
     "data": {
      "text/plain": [
       "59"
      ]
     },
     "execution_count": 5,
     "metadata": {},
     "output_type": "execute_result"
    }
   ],
   "source": [
    "1439%60"
   ]
  },
  {
   "cell_type": "markdown",
   "metadata": {},
   "source": [
    "## circular array get index of array based on number of steps"
   ]
  },
  {
   "cell_type": "code",
   "execution_count": 58,
   "metadata": {},
   "outputs": [
    {
     "name": "stdout",
     "output_type": "stream",
     "text": [
      "c\n",
      "a\n",
      "b\n"
     ]
    }
   ],
   "source": [
    "# jumps from index 0\n",
    "letters = ['a', 'b', 'c']\n",
    "jumps = 2\n",
    "print(letters[jumps % len(letters)])\n",
    "jumps = 3\n",
    "print(letters[jumps % len(letters)])\n",
    "\n",
    "jumps = 7\n",
    "print(letters[jumps % len(letters)])"
   ]
  },
  {
   "cell_type": "markdown",
   "metadata": {},
   "source": [
    "## Remove Last Digit\n",
    "245 get 24"
   ]
  },
  {
   "cell_type": "code",
   "execution_count": 31,
   "metadata": {},
   "outputs": [
    {
     "name": "stdout",
     "output_type": "stream",
     "text": [
      "245//10 = 24\n",
      "22//10 = 2\n"
     ]
    }
   ],
   "source": [
    "print(f'245//10 = {245//10}')\n",
    "print(f'22//10 = {22//10}')"
   ]
  },
  {
   "cell_type": "code",
   "execution_count": 63,
   "metadata": {},
   "outputs": [
    {
     "name": "stdout",
     "output_type": "stream",
     "text": [
      "0\n",
      "1\n",
      "2\n",
      "3\n",
      "4\n",
      "5\n"
     ]
    }
   ],
   "source": [
    "def find_square_sum(num):    \n",
    "    while (num > 0):\n",
    "        digit = num % 10\n",
    "        print(digit)\n",
    "        num //= 10\n",
    "  \n",
    "\n",
    "find_square_sum(543210)"
   ]
  },
  {
   "cell_type": "markdown",
   "metadata": {},
   "source": [
    "## Find Square Sums  and split number into individual numbers"
   ]
  },
  {
   "cell_type": "code",
   "execution_count": 41,
   "metadata": {},
   "outputs": [
    {
     "name": "stdout",
     "output_type": "stream",
     "text": [
      "18\n"
     ]
    }
   ],
   "source": [
    "def find_square_sum(num):\n",
    "    _sum = 0\n",
    "    while (num > 0):\n",
    "        digit = num % 10\n",
    "        _sum += digit * digit\n",
    "        num //= 10\n",
    "    return _sum\n",
    "\n",
    "print(find_square_sum(33))\n"
   ]
  },
  {
   "cell_type": "markdown",
   "metadata": {},
   "source": [
    "## Finding Mean \n",
    "### Mean (average)"
   ]
  },
  {
   "cell_type": "code",
   "execution_count": 69,
   "metadata": {},
   "outputs": [
    {
     "name": "stdout",
     "output_type": "stream",
     "text": [
      "4.166666666666667\n"
     ]
    }
   ],
   "source": [
    "arr = [1, 2, 4 ,5, 6, 7]\n",
    "\n",
    "def find_mean(arr):\n",
    "    return sum(arr)/len(arr)\n",
    "\n",
    "print(find_mean(arr))"
   ]
  },
  {
   "cell_type": "markdown",
   "metadata": {},
   "source": [
    "# Algorithms\n",
    "* Finding Square Root of Number\n",
    "* gcd\n",
    "* finding factors\n",
    "* matrix operations\n",
    "* solve equations\n",
    "* review more leetcode problems based on interviews"
   ]
  },
  {
   "cell_type": "markdown",
   "metadata": {},
   "source": [
    "## GCD - Greatest Common Divisor/Denominator\n",
    "The divisor is always b\n",
    "20/b     20 divided by b\n",
    "\n",
    "so the greatest common divisor of 24 and 18 is 6  \n",
    "24 / 6 = 4  \n",
    "18 / 6 = 3  "
   ]
  },
  {
   "cell_type": "code",
   "execution_count": 9,
   "metadata": {},
   "outputs": [
    {
     "name": "stdout",
     "output_type": "stream",
     "text": [
      "3\n"
     ]
    }
   ],
   "source": [
    "def gcd(testVariable1, testVariable2) :\n",
    "    # Base Case\n",
    "    if testVariable1 == testVariable2 :\n",
    "        return testVariable1\n",
    "\n",
    "    # Recursive Case\n",
    "    if testVariable1 > testVariable2 :\n",
    "        return gcd(testVariable1 - testVariable2, testVariable2)\n",
    "    else :\n",
    "        return gcd(testVariable1, testVariable2 - testVariable1)\n",
    "\n",
    "# Driver Code\n",
    "number1 = 6\n",
    "number2 = 9\n",
    "print(gcd(number1, number2))"
   ]
  },
  {
   "cell_type": "markdown",
   "metadata": {},
   "source": [
    "## LCM Least Common Multiple\n",
    "\n",
    "Least Common Multiple of 3 and 5:  \n",
    "List the Multiples of each number,  \n",
    "  \n",
    "The multiples of 3 are 3, 6, 9, 12, 15, 18, ... etc  \n",
    "The multiples of 5 are 5, 10, 15, 20, 25, ... etc  \n",
    "  \n",
    "Find the first Common (same) value:  \n",
    "  \n",
    "LCM of 3 and 5 is 15  \n",
    "  \n",
    "The Least Common Multiple of 3 and 5 is 15\n",
    "\n",
    "\n",
    "### What Is a multiple?   \n",
    "a number times other numbers  \n",
    "3  \n",
    "3 x 1, 3 x 2, 3 x 3, 3 x 4"
   ]
  },
  {
   "cell_type": "markdown",
   "metadata": {},
   "source": [
    "## Distance\n",
    "Manhattan and Euclidean are the same thing"
   ]
  },
  {
   "cell_type": "markdown",
   "metadata": {},
   "source": [
    "#### Euclidean Distance\n",
    "straight line distance - used for a* search.   \n",
    "Euclidean: Take the square root of the sum of the squares of the differences of the coordinates.\n",
    "\n",
    "sqrt( (x2-x1)** 2 + (y2-y1) ** 2 )\n"
   ]
  },
  {
   "cell_type": "code",
   "execution_count": 115,
   "metadata": {},
   "outputs": [
    {
     "name": "stdout",
     "output_type": "stream",
     "text": [
      "3.606\n"
     ]
    }
   ],
   "source": [
    "import math\n",
    "def euc_dist(p1, p2):\n",
    "    return math.sqrt((p2[0]-p1[0])**2 + (p2[1]-p1[1])**2)\n",
    "\n",
    "p1 = (0,2)\n",
    "p2 = (3,4)\n",
    "\n",
    "print(round(euc_dist(p1, p2), 3))"
   ]
  },
  {
   "cell_type": "code",
   "execution_count": 117,
   "metadata": {},
   "outputs": [
    {
     "name": "stdout",
     "output_type": "stream",
     "text": [
      "3.606\n"
     ]
    }
   ],
   "source": [
    "# or if you dont have math.sqrt\n",
    "def euc_dist(p1, p2):\n",
    "    return ((p2[0]-p1[0])**2 + (p2[1]-p1[1])**2)**0.5\n",
    "\n",
    "p1 = (0,2)\n",
    "p2 = (3,4)\n",
    "\n",
    "print(round(euc_dist(p1, p2), 3))"
   ]
  },
  {
   "cell_type": "markdown",
   "metadata": {},
   "source": [
    "#### Manhattan Distance -would be used in google maps navigation\n",
    "The Manhattan distance (aka taxicab distance) is a measure of the distance between two points on a 2D plan when the path between these two points has to follow the grid layout. It is based on the idea that a taxi will have to stay on the road and will not be able to drive through buildings! The following paths all have the same taxicab distance:\n",
    "\n",
    "NOT THE STRAIGHT LINE DISTANCE, BUT THE UP AND DOWN OF CITY BLOCKS\n",
    "\n",
    "Definition: The distance between two points measured along axes at right angles.   \n",
    "In a plane with p1 at (x1, y1) and p2 at (x2, y2), it is |x1 - x2| + |y1 - y2|."
   ]
  },
  {
   "cell_type": "code",
   "execution_count": 108,
   "metadata": {},
   "outputs": [
    {
     "name": "stdout",
     "output_type": "stream",
     "text": [
      "5\n"
     ]
    }
   ],
   "source": [
    "def man_dist(p1, p2):\n",
    "    return abs(p1[0] - p2[0]) + abs(p1[1] - p2[1])\n",
    "\n",
    "p1 = (0,2)\n",
    "p2 = (3,4)\n",
    "print(man_dist(p1, p2))"
   ]
  },
  {
   "cell_type": "markdown",
   "metadata": {},
   "source": [
    "## Slope"
   ]
  },
  {
   "cell_type": "code",
   "execution_count": 128,
   "metadata": {},
   "outputs": [
    {
     "name": "stdout",
     "output_type": "stream",
     "text": [
      "0.6666666666666666\n"
     ]
    },
    {
     "data": {
      "text/plain": [
       "[<matplotlib.lines.Line2D at 0x7fa968976810>]"
      ]
     },
     "execution_count": 128,
     "metadata": {},
     "output_type": "execute_result"
    },
    {
     "data": {
      "image/png": "[encoded data removed]",
      "text/plain": [
       "<Figure size 432x288 with 1 Axes>"
      ]
     },
     "metadata": {
      "needs_background": "light"
     },
     "output_type": "display_data"
    }
   ],
   "source": [
    "import matplotlib.pyplot as plt\n",
    "%matplotlib inline  \n",
    " \n",
    "def slope(p1, p2):\n",
    "    return  (p2[1] - p1[1]) / (p2[0] - p1[0])\n",
    "\n",
    "p1 = (0,2)\n",
    "p2 = (3,4)\n",
    "print(slope(p1, p2))\n",
    "\n",
    "point1 = [0, 2]\n",
    "point2 = [3, 4]\n",
    "\n",
    "x_values = [point1[0], point2[0]]\n",
    "y_values = [point1[1], point2[1]]\n",
    "\n",
    "\n",
    "\n",
    "plt.plot(x_values, y_values)"
   ]
  },
  {
   "cell_type": "markdown",
   "metadata": {},
   "source": [
    "### Midpoint Formula"
   ]
  },
  {
   "cell_type": "code",
   "execution_count": 130,
   "metadata": {},
   "outputs": [
    {
     "name": "stdout",
     "output_type": "stream",
     "text": [
      "[1.5, 3.0]\n"
     ]
    }
   ],
   "source": [
    "def midpoint(p1, p2):\n",
    "    x = (p1[0]+p2[0]) / 2\n",
    "    y = (p1[1]+p2[1]) / 2\n",
    "   \n",
    "    return [x,y]\n",
    "\n",
    "p1 = (0,2)\n",
    "p2 = (3,4)\n",
    "print(midpoint(p1, p2))"
   ]
  },
  {
   "cell_type": "markdown",
   "metadata": {},
   "source": [
    "## CONVERT DEGREES <--> RADIANS"
   ]
  },
  {
   "cell_type": "code",
   "execution_count": 84,
   "metadata": {},
   "outputs": [
    {
     "name": "stdout",
     "output_type": "stream",
     "text": [
      "3.141592653589793\n"
     ]
    }
   ],
   "source": [
    "# DEGREES TO Radians\n",
    "import math \n",
    "pi=math.pi\n",
    "degree = 180\n",
    "radian = degree*(pi/180)\n",
    "print(radian)"
   ]
  },
  {
   "cell_type": "code",
   "execution_count": 85,
   "metadata": {},
   "outputs": [
    {
     "name": "stdout",
     "output_type": "stream",
     "text": [
      "114.59155902616465\n"
     ]
    }
   ],
   "source": [
    "# Radians to Degrees\n",
    "import math \n",
    "pi=math.pi\n",
    "radian = 2\n",
    "degree = radian*(180/pi)\n",
    "print(degree)"
   ]
  },
  {
   "cell_type": "markdown",
   "metadata": {},
   "source": [
    "## Find Area of Trapezoid"
   ]
  },
  {
   "cell_type": "code",
   "execution_count": 87,
   "metadata": {},
   "outputs": [
    {
     "name": "stdout",
     "output_type": "stream",
     "text": [
      "Area is: 22.0\n"
     ]
    }
   ],
   "source": [
    "height = 4\n",
    "base_1 = 5\n",
    "base_2 = 6\n",
    "area = ((base_1 + base_2) / 2) * height\n",
    "print(\"Area is:\", area)"
   ]
  },
  {
   "cell_type": "markdown",
   "metadata": {},
   "source": [
    "# Matrix Math"
   ]
  },
  {
   "cell_type": "code",
   "execution_count": 32,
   "metadata": {},
   "outputs": [
    {
     "name": "stdout",
     "output_type": "stream",
     "text": [
      "[[6, 6], [22, 22]]\n"
     ]
    }
   ],
   "source": [
    "def matrix_multiply(A, B, C):\n",
    "    n = len(A[0])\n",
    "    for i in range(n):\n",
    "        for j in range(n):\n",
    "            C[i][j] = 0\n",
    "            for k in range(n):\n",
    "                C[i][j] += A[i][k]*B[k][j]\n",
    "\n",
    "A = [[1,2], [5,6]]\n",
    "B = [[2,2], [2,2]]\n",
    "C = [[0,0], [0,0]]\n",
    "matrix_multiply(A, B, C)\n",
    "print(C)"
   ]
  },
  {
   "cell_type": "code",
   "execution_count": null,
   "metadata": {},
   "outputs": [],
   "source": []
  },
  {
   "cell_type": "code",
   "execution_count": null,
   "metadata": {},
   "outputs": [],
   "source": [
    "import math\n",
    "from math import sqrt\n",
    "import numbers\n",
    "\n",
    "def zeroes(height, width):\n",
    "        \"\"\"\n",
    "        Creates a matrix of zeroes.\n",
    "        \"\"\"\n",
    "        g = [[0.0 for _ in range(width)] for __ in range(height)]\n",
    "        return Matrix(g)\n",
    "\n",
    "def identity(n):\n",
    "        \"\"\"\n",
    "        Creates a n x n identity matrix.\n",
    "        \"\"\"\n",
    "        I = zeroes(n, n)\n",
    "        for i in range(n):\n",
    "            I.g[i][i] = 1.0\n",
    "        return I\n",
    "\n",
    "class Matrix(object):\n",
    "\n",
    "    # Constructor\n",
    "    def __init__(self, grid):\n",
    "        self.g = grid\n",
    "        self.h = len(grid)\n",
    "        self.w = len(grid[0])\n",
    "\n",
    "    #\n",
    "    # Primary matrix math methods\n",
    "    #############################\n",
    " \n",
    "    def determinant(self):\n",
    "        \"\"\"\n",
    "        Calculates the determinant of a 1x1 or 2x2 matrix.\n",
    "        \"\"\"\n",
    "        if not self.is_square():\n",
    "            raise(ValueError, \"Cannot calculate determinant of non-square matrix.\")\n",
    "        if self.h > 2:\n",
    "            raise(NotImplementedError, \"Calculating determinant not implemented for matrices largerer than 2x2.\")\n",
    "        \n",
    "        # TODO - your code here\n",
    "        if self.h == 1:\n",
    "            return self[0][0]\n",
    "        elif self.h == 2:  \n",
    "            a = self[0][0]\n",
    "            b = self[0][1]\n",
    "            c = self[1][0]\n",
    "            d = self[1][1]\n",
    "            return (a * d) - (c * b)\n",
    "    \n",
    "    def trace(self):\n",
    "        \"\"\"\n",
    "        Calculates the trace of a matrix (sum of diagonal entries).\n",
    "        \"\"\"\n",
    "        if not self.is_square():\n",
    "            raise(ValueError, \"Cannot calculate the trace of a non-square matrix.\")\n",
    "\n",
    "        # TODO - your code here\n",
    "        trace_sum = 0\n",
    "        for i in range(self.h):            \n",
    "            trace_sum += self[i][i]\n",
    "           \n",
    "        return trace_sum\n",
    "        \n",
    "    def inverse(self):\n",
    "        \"\"\"\n",
    "        Calculates the inverse of a 1x1 or 2x2 Matrix.\n",
    "        \"\"\"\n",
    "        if not self.is_square():\n",
    "            raise(ValueError, \"Non-square Matrix does not have an inverse.\")\n",
    "        if self.h > 2:\n",
    "            raise(NotImplementedError, \"inversion not implemented for matrices larger than 2x2.\")\n",
    "\n",
    "        # TODO - your code here\n",
    "        if self.h == 1:           \n",
    "            return Matrix([[1 / self[0][0]]])\n",
    "        elif self.h == 2:\n",
    "            a = self[0][0]\n",
    "            b = self[0][1]\n",
    "            c = self[1][0]\n",
    "            d = self[1][1]\n",
    "            \n",
    "            factor = 1 / (a * d - b * c)\n",
    "            \n",
    "            inverse = [[d, -b], [-c, a]]\n",
    "            \n",
    "            for i in range(len(inverse)):\n",
    "                for j in range(len(inverse[0])):\n",
    "                    inverse[i][j] = factor * inverse[i][j]\n",
    "            return Matrix(inverse)\n",
    "        \n",
    "    def T(self):\n",
    "        \"\"\"\n",
    "        Returns a transposed copy of this Matrix.\n",
    "        \"\"\"\n",
    "        # TODO - your code here\n",
    "        matrix_transpose = []\n",
    "\n",
    "        for i in range(self.w):\n",
    "            row = []\n",
    "            for j in range(self.h):\n",
    "                row.append(self[j][i])\n",
    "            matrix_transpose.append(row)\n",
    "     \n",
    "        return Matrix(matrix_transpose)\n",
    "    \n",
    "    def is_square(self):\n",
    "        return self.h == self.w\n",
    "\n",
    "    #\n",
    "    # Begin Operator Overloading\n",
    "    ############################\n",
    "    def __getitem__(self,idx):\n",
    "        \"\"\"\n",
    "        Defines the behavior of using square brackets [] on instances\n",
    "        of this class.\n",
    "\n",
    "        Example:\n",
    "\n",
    "        > my_matrix = Matrix([ [1, 2], [3, 4] ])\n",
    "        > my_matrix[0]\n",
    "          [1, 2]\n",
    "\n",
    "        > my_matrix[0][0]\n",
    "          1\n",
    "        \"\"\"\n",
    "        return self.g[idx]\n",
    "\n",
    "    def __repr__(self):\n",
    "        \"\"\"\n",
    "        Defines the behavior of calling print on an instance of this class.\n",
    "        \"\"\"\n",
    "        s = \"\"\n",
    "        for row in self.g:\n",
    "            s += \" \".join([\"{} \".format(x) for x in row])\n",
    "            s += \"\\n\"\n",
    "        return s\n",
    "\n",
    "    def __add__(self,other):\n",
    "        \"\"\"\n",
    "        Defines the behavior of the + operator\n",
    "        \"\"\"\n",
    "        if self.h != other.h or self.w != other.w:\n",
    "            raise(ValueError, \"Matrices can only be added if the dimensions are the same\") \n",
    "        #   \n",
    "        # TODO - your code here\n",
    "        #\n",
    "        matrix_sum = []\n",
    "\n",
    "        for i in range(self.h):\n",
    "            row = []\n",
    "            for j in range(self.w):\n",
    "                row.append(self[i][j] + other[i][j])\n",
    "            matrix_sum.append(row)\n",
    "            \n",
    "        return Matrix(matrix_sum)\n",
    "   \n",
    "    def __neg__(self):\n",
    "        \"\"\"\n",
    "        Defines the behavior of - operator (NOT subtraction)\n",
    "\n",
    "        Example:\n",
    "\n",
    "        > my_matrix = Matrix([ [1, 2], [3, 4] ])\n",
    "        > negative  = -my_matrix\n",
    "        > print(negative)\n",
    "          -1.0  -2.0\n",
    "          -3.0  -4.0\n",
    "        \"\"\"\n",
    "        #   \n",
    "        # TODO - your code here\n",
    "        #\n",
    "        matrix_neg = []\n",
    "\n",
    "        for i in range(self.h):\n",
    "            row = []\n",
    "            for j in range(self.w):\n",
    "                row.append(-self[i][j])\n",
    "            matrix_neg.append(row)\n",
    "            \n",
    "        return Matrix(matrix_neg)\n",
    "    \n",
    "    \n",
    "    def __sub__(self, other):\n",
    "        \"\"\"\n",
    "        Defines the behavior of - operator (as subtraction)\n",
    "        \"\"\"\n",
    "        #   \n",
    "        # TODO - your code here\n",
    "        #\n",
    "        \n",
    "        matrix_sub = []\n",
    "\n",
    "        for i in range(self.h):\n",
    "            row = []\n",
    "            for j in range(self.w):\n",
    "                row.append(self[i][j] - other[i][j])\n",
    "            matrix_sub.append(row)\n",
    "            \n",
    "        return Matrix(matrix_sub)\n",
    "    \n",
    "    \n",
    "    def __mul__(self, other):\n",
    "        \"\"\"\n",
    "        Defines the behavior of * operator (matrix multiplication)\n",
    "        \"\"\"\n",
    "        #   \n",
    "        # TODO - your code here\n",
    "        #\n",
    "        product = []\n",
    "\n",
    "        # Take the transpose of matrixB and store the result\n",
    "        transposeB = other.T()\n",
    "        \n",
    "        for r1 in range(self.h):\n",
    "            new_row = []\n",
    "            for r2 in range(transposeB.h):\n",
    "                result = 0\n",
    "                matrix1_row = self[r1]\n",
    "                matrix2_row = transposeB[r2]\n",
    "                for i in range(0,len(matrix1_row)):\n",
    "                    result += matrix1_row[i] * matrix2_row[i]\n",
    "              \n",
    "                new_row.append(result)\n",
    "            \n",
    "            product.append(new_row)\n",
    "        \n",
    "        return Matrix(product)\n",
    "\n",
    "        \n",
    "    def __rmul__(self, other):\n",
    "        \"\"\"\n",
    "        Called when the thing on the left of the * is not a matrix.\n",
    "\n",
    "        Example:\n",
    "\n",
    "        > identity = Matrix([ [1,0], [0,1] ])\n",
    "        > doubled  = 2 * identity\n",
    "        > print(doubled)\n",
    "          2.0  0.0\n",
    "          0.0  2.0\n",
    "        \"\"\"\n",
    "        if isinstance(other, numbers.Number):\n",
    "            \n",
    "            #   \n",
    "            # TODO - your code here\n",
    "            #\n",
    "            matrix_rmul = []\n",
    "\n",
    "            for i in range(self.h):\n",
    "                row = []\n",
    "                for j in range(self.w):\n",
    "                    row.append(other * self[i][j])\n",
    "                matrix_rmul.append(row)\n",
    "\n",
    "            return Matrix(matrix_rmul)\n",
    "   "
   ]
  },
  {
   "cell_type": "code",
   "execution_count": null,
   "metadata": {},
   "outputs": [],
   "source": []
  },
  {
   "cell_type": "markdown",
   "metadata": {},
   "source": [
    "## LC2. Add Two Numbers - HIGH FREQUENCY\n",
    "You are given two non-empty linked lists representing two non-negative integers. The digits are stored in reverse order and each of their nodes contain a single digit. Add the two numbers and return it as a linked list.\n",
    "\n",
    "You may assume the two numbers do not contain any leading zero, except the number 0 itself.\n",
    "\n",
    "\n",
    "Input: (2 -> 4 -> 3) + (5 -> 6 -> 4)  \n",
    "Output: 7 -> 0 -> 8  \n",
    "Explanation: 342 + 465 = 807  "
   ]
  },
  {
   "cell_type": "code",
   "execution_count": 104,
   "metadata": {},
   "outputs": [
    {
     "name": "stdout",
     "output_type": "stream",
     "text": [
      "7\n",
      "0\n",
      "8\n"
     ]
    }
   ],
   "source": [
    "class ListNode:\n",
    "    def __init__(self, x):\n",
    "        self.val = x\n",
    "        self.next = None\n",
    "\n",
    "def addTwoNumbers(l1, l2):\n",
    "    carry = 0\n",
    "    # the first node is not returned, root.next next is\n",
    "    root = n = ListNode(0)\n",
    "    \n",
    "    while l1 or l2 or carry:\n",
    "        v1 = v2 = 0\n",
    "        if l1:\n",
    "            v1 = l1.val\n",
    "            l1 = l1.next\n",
    "        if l2:\n",
    "            v2 = l2.val\n",
    "            l2 = l2.next\n",
    "        carry, val = divmod(v1+v2+carry, 10)\n",
    "        n.next = ListNode(val)\n",
    "        n = n.next\n",
    "    return root.next\n",
    "\n",
    "a = ListNode(2)\n",
    "a.next = ListNode(4)\n",
    "a.next.next = ListNode(3)\n",
    "\n",
    "b = ListNode(5)\n",
    "b.next = ListNode(6)\n",
    "b.next.next = ListNode(4)\n",
    "l = addTwoNumbers(a, b)\n",
    "current = l\n",
    "\n",
    "while current:\n",
    "    print(current.val)\n",
    "    current = current.next\n"
   ]
  },
  {
   "cell_type": "code",
   "execution_count": null,
   "metadata": {},
   "outputs": [],
   "source": []
  }
 ],
 "metadata": {
  "kernelspec": {
   "display_name": "Python 3.7.5 64-bit ('p37': conda)",
   "language": "python",
   "name": "python37564bitp37conda2b1eeea87ee044609be89b011a3e6682"
  },
  "language_info": {
   "codemirror_mode": {
    "name": "ipython",
    "version": 3
   },
   "file_extension": ".py",
   "mimetype": "text/x-python",
   "name": "python",
   "nbconvert_exporter": "python",
   "pygments_lexer": "ipython3",
   "version": "3.7.5"
  }
 },
 "nbformat": 4,
 "nbformat_minor": 4
}
