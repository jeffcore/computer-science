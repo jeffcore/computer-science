{
 "cells": [
  {
   "cell_type": "markdown",
   "metadata": {},
   "source": [
    "# Modified Binary Search\n",
    "\n",
    "As we know, whenever we are given a sorted Array or LinkedList or Matrix, and we are asked to find a certain element, the best algorithm we can use is the Binary Search.\n",
    "\n",
    "This pattern describes an efficient way to handle all problems involving Binary Search. We will go through a set of problems that will help us build an understanding of this pattern so that we can apply this technique to other problems we might come across in the interviews."
   ]
  },
  {
   "cell_type": "markdown",
   "metadata": {},
   "source": [
    "### Binary Search - Iterative"
   ]
  },
  {
   "cell_type": "code",
   "execution_count": 9,
   "metadata": {},
   "outputs": [
    {
     "name": "stdout",
     "output_type": "stream",
     "text": [
      "2\n",
      "6\n"
     ]
    }
   ],
   "source": [
    "## try it\n",
    "def binary_search(input_array, value):\n",
    "    \n",
    "    low = 0\n",
    "    high = len(input_array) -1\n",
    "    \n",
    "    while low <= high:\n",
    "        mid = (high + low) // 2\n",
    "        \n",
    "        if input_array[mid] == value:\n",
    "            return mid\n",
    "        elif input_array[mid] < value:\n",
    "            low = mid + 1            \n",
    "        else:\n",
    "            high = mid - 1\n",
    "            \n",
    "    return None\n",
    "test_list = [1,3,9,11,15,19,29]\n",
    "test_val1 = 9\n",
    "test_val2 = 29\n",
    "print(binary_search(test_list, test_val1))\n",
    "print(binary_search(test_list, test_val2))\n"
   ]
  },
  {
   "cell_type": "code",
   "execution_count": 93,
   "metadata": {},
   "outputs": [
    {
     "name": "stdout",
     "output_type": "stream",
     "text": [
      "mid 3\n",
      "mid 5\n",
      "mid 6\n",
      "None\n",
      "mid 3\n",
      "mid 5\n",
      "mid 4\n",
      "4\n",
      "[29, 19, 15, 11, 9, 3, 1]\n",
      "mid 3\n",
      "mid 5\n",
      "mid 6\n",
      "None\n",
      "mid 3\n",
      "mid 5\n",
      "mid 6\n",
      "None\n"
     ]
    }
   ],
   "source": [
    "def binary_search(input_array, value):\n",
    "    \"\"\"Your code goes here.\"\"\"\n",
    "    if len(input_array) == 0 :\n",
    "        return None\n",
    "    \n",
    "    low = 0\n",
    "    high = len(input_array) - 1\n",
    "    \n",
    "    while low <= high:\n",
    "        mid = (low + high)//2\n",
    "        print(f'mid {mid}')\n",
    "        guess = input_array[mid]\n",
    "        if guess == value:\n",
    "            return mid\n",
    "        if value < guess:\n",
    "            high = mid - 1\n",
    "        else:\n",
    "            low = mid + 1\n",
    "            \n",
    "    return None\n",
    "    \n",
    "\n",
    "test_list = [1,3,9,11,15,19,29]\n",
    "test_val1 = 25\n",
    "test_val2 = 15\n",
    "print(binary_search(test_list, test_val1))\n",
    "print(binary_search(test_list, test_val2))\n",
    "\n",
    "test_list = [1,3,9,11,15,19,29]\n",
    "test_list.reverse()\n",
    "print(test_list)\n",
    "print(binary_search(test_list, test_val1))\n",
    "print(binary_search(test_list, test_val2))"
   ]
  },
  {
   "cell_type": "markdown",
   "metadata": {},
   "source": [
    "### Order-agnostic Binary Search (easy)\n",
    "\n",
    "Given a sorted array of numbers, find if a given number ‘key’ is present in the array. Though we know that the array is sorted, we don’t know if it’s sorted in ascending or descending order. You should assume that the array can have duplicates.\n",
    "\n",
    "Write a function to return the index of the ‘key’ if it is present in the array, otherwise return -1.\n",
    "\n",
    "Input: [4, 6, 10], key = 10  \n",
    "Output: 2  \n",
    "\n",
    "Input: [1, 2, 3, 4, 5, 6, 7], key = 5  \n",
    "Output: 4  "
   ]
  },
  {
   "cell_type": "code",
   "execution_count": 5,
   "metadata": {},
   "outputs": [
    {
     "name": "stdout",
     "output_type": "stream",
     "text": [
      "2\n",
      "4\n",
      "0\n",
      "2\n"
     ]
    }
   ],
   "source": [
    "def binary_search(arr, key):\n",
    "    start, end = 0, len(arr) - 1\n",
    "    isAscending = arr[start] < arr[end]\n",
    "    while start <= end:\n",
    "        # calculate the middle of the current range\n",
    "        mid = start + (end - start) // 2\n",
    "\n",
    "        if key == arr[mid]:\n",
    "            return mid\n",
    "\n",
    "        if isAscending:  # ascending order\n",
    "            if key < arr[mid]:\n",
    "                end = mid - 1  # the 'key' can be in the first half\n",
    "            else:  # key > arr[mid]\n",
    "                start = mid + 1  # the 'key' can be in the second half\n",
    "        else:  # descending order\n",
    "            if key > arr[mid]:\n",
    "                end = mid - 1  # the 'key' can be in the first half\n",
    "            else:  # key < arr[mid]\n",
    "                start = mid + 1  # the 'key' can be in the second half\n",
    "\n",
    "    return -1  # element not found\n",
    "\n",
    "print(binary_search([4, 6, 10], 10))\n",
    "print(binary_search([1, 2, 3, 4, 5, 6, 7], 5))\n",
    "print(binary_search([10, 6, 4], 10))\n",
    "print(binary_search([10, 6, 4], 4))"
   ]
  },
  {
   "cell_type": "code",
   "execution_count": null,
   "metadata": {},
   "outputs": [],
   "source": []
  },
  {
   "cell_type": "markdown",
   "metadata": {},
   "source": [
    "## Ceiling of a Number (medium)\n",
    "\n",
    "Given an array of numbers sorted in an ascending order, find the ceiling of a given number ‘key’. The ceiling of the ‘key’ will be the smallest element in the given array greater than or equal to the ‘key’.\n",
    "\n",
    "Write a function to return the index of the ceiling of the ‘key’. If there isn’t any ceiling return -1.\n",
    "\n",
    "Input: [4, 6, 10], key = 6  \n",
    "Output: 1  \n",
    "Explanation: The smallest number greater than or equal to '6' is '6' having index '1'.  "
   ]
  },
  {
   "cell_type": "code",
   "execution_count": 1,
   "metadata": {},
   "outputs": [
    {
     "ename": "IndentationError",
     "evalue": "expected an indented block (<ipython-input-1-70efad332385>, line 5)",
     "output_type": "error",
     "traceback": [
      "\u001b[0;36m  File \u001b[0;32m\"<ipython-input-1-70efad332385>\"\u001b[0;36m, line \u001b[0;32m5\u001b[0m\n\u001b[0;31m    :\u001b[0m\n\u001b[0m    ^\u001b[0m\n\u001b[0;31mIndentationError\u001b[0m\u001b[0;31m:\u001b[0m expected an indented block\n"
     ]
    }
   ],
   "source": [
    "def search_ceiling_of_a_number(arr, key):\n",
    "  # TODO: Write your code here\n",
    "  \n",
    "\n",
    "\n",
    "print(search_ceiling_of_a_number([4, 6, 10], 6))\n",
    "print(search_ceiling_of_a_number([1, 3, 8, 10, 15], 12))\n",
    "print(search_ceiling_of_a_number([4, 6, 10], 17))\n",
    "print(search_ceiling_of_a_number([4, 6, 10], -1))\n",
    "# 1\n",
    "# 4\n",
    "# -1\n",
    "# 0\n"
   ]
  },
  {
   "cell_type": "code",
   "execution_count": 2,
   "metadata": {},
   "outputs": [
    {
     "name": "stdout",
     "output_type": "stream",
     "text": [
      "1\n",
      "4\n",
      "-1\n",
      "0\n"
     ]
    }
   ],
   "source": [
    "def search_ceiling_of_a_number(arr, key):\n",
    "   \n",
    "    if key > arr[len(arr) - 1]:\n",
    "        return -1\n",
    "    \n",
    "    low = 0\n",
    "    high = len(arr) - 1\n",
    "    \n",
    "    while low <=high:\n",
    "        mid = (high+low) //2\n",
    "\n",
    "        if key < arr[mid]:\n",
    "            high = mid - 1\n",
    "        elif key > arr[mid]:\n",
    "            low = mid + 1\n",
    "        else:  # found the key\n",
    "            return mid     \n",
    "\n",
    "    return low \n",
    "\n",
    "print(search_ceiling_of_a_number([4, 6, 10], 6))\n",
    "print(search_ceiling_of_a_number([1, 3, 8, 10, 15], 12))\n",
    "print(search_ceiling_of_a_number([4, 6, 10], 17))\n",
    "print(search_ceiling_of_a_number([4, 6, 10], -1))"
   ]
  },
  {
   "cell_type": "markdown",
   "metadata": {},
   "source": [
    "### Floor of a Number (medium)\n",
    "Given an array of numbers sorted in ascending order, find the floor of a given number ‘key’. The floor of the ‘key’ will be the biggest element in the given array smaller than or equal to the ‘key’\n",
    "\n",
    "Input: [1, 3, 8, 10, 15], key = 12  \n",
    "Output: 3  \n",
    "Explanation: The biggest number smaller than or equal to '12' is '10' having index '3'"
   ]
  },
  {
   "cell_type": "code",
   "execution_count": 18,
   "metadata": {},
   "outputs": [
    {
     "name": "stdout",
     "output_type": "stream",
     "text": [
      "1\n",
      "3\n",
      "2\n",
      "-1\n"
     ]
    }
   ],
   "source": [
    "def search_floor_of_a_number(arr, key):\n",
    "    if key < arr[0]:  # if the 'key' is smaller than the smallest element\n",
    "        return -1\n",
    "\n",
    "    start, end = 0, len(arr) - 1\n",
    "    while start <= end:\n",
    "        mid = start + (end - start) // 2\n",
    "        if key < arr[mid]:\n",
    "            end = mid - 1\n",
    "        elif key > arr[mid]:\n",
    "            start = mid + 1\n",
    "        else:  # found the key\n",
    "              return mid\n",
    "\n",
    "    # since the loop is running until 'start <= end', so at the end of the while loop, 'start == end+1'\n",
    "    # we are not able to find the element in the given array, so the next smaller number will be arr[end]\n",
    "    return end\n",
    "\n",
    "\n",
    "print(search_floor_of_a_number([4, 6, 10], 6))\n",
    "print(search_floor_of_a_number([1, 3, 8, 10, 15], 12))\n",
    "print(search_floor_of_a_number([4, 6, 10], 17))\n",
    "print(search_floor_of_a_number([4, 6, 10], -1))"
   ]
  },
  {
   "cell_type": "markdown",
   "metadata": {},
   "source": [
    "### Next Letter (medium)\n",
    "Given an array of lowercase letters sorted in ascending order, find the smallest letter in the given array greater than a given ‘key’.\n",
    "\n",
    "Assume the given array is a circular list, which means that the last letter is assumed to be connected with the first letter. This also means that the smallest letter in the given array is greater than the last letter of the array and is also the first letter of the array.\n",
    "\n",
    "Input: ['a', 'c', 'f', 'h'], key = 'f'  \n",
    "Output: 'h'  \n",
    "Explanation: The smallest letter greater than 'f' is 'h' in the given array.\n",
    "\n",
    "Input: ['a', 'c', 'f', 'h'], key = 'b'  \n",
    "Output: 'c'  \n",
    "Explanation: The smallest letter greater than 'b' is 'c'."
   ]
  },
  {
   "cell_type": "code",
   "execution_count": 30,
   "metadata": {},
   "outputs": [
    {
     "name": "stdout",
     "output_type": "stream",
     "text": [
      "h\n",
      "c\n",
      "a\n"
     ]
    }
   ],
   "source": [
    "def search_next_letter(letters, key):\n",
    "    n = len(letters)\n",
    "    if key < letters[0] or key > letters[n - 1]:\n",
    "        return letters[0]\n",
    "\n",
    "    start, end = 0, n - 1\n",
    "    while start <= end:\n",
    "        mid = start + (end - start) // 2\n",
    "        if key < letters[mid]:\n",
    "            end = mid - 1\n",
    "        else: # key >= letters[mid]:\n",
    "            start = mid + 1\n",
    "\n",
    "    # since the loop is running until 'start <= end', so at the end of \n",
    "    # the while loop, 'start == end+1'\n",
    "    return letters[start % n]\n",
    "\n",
    "print(search_next_letter(['a', 'c', 'f', 'h'], 'f'))\n",
    "print(search_next_letter(['a', 'c', 'f', 'h'], 'b'))\n",
    "print(search_next_letter(['a', 'c', 'f', 'h'], 'm'))"
   ]
  },
  {
   "cell_type": "markdown",
   "metadata": {},
   "source": [
    "### Number Range (medium)\n",
    "Given an array of numbers sorted in ascending order, find the range of a given number ‘key’. The range of the ‘key’ will be the first and last position of the ‘key’ in the array.\n",
    "\n",
    "Write a function to return the range of the ‘key’. If the ‘key’ is not present return [-1, -1].\n",
    "\n",
    "\n",
    "Input: [4, 6, 6, 6, 9], key = 6  \n",
    "Output: [1, 3]  \n",
    "\n",
    "Input: [1, 3, 8, 10, 15], key = 10  \n",
    "Output: [3, 3]"
   ]
  },
  {
   "cell_type": "code",
   "execution_count": 3,
   "metadata": {},
   "outputs": [
    {
     "name": "stdout",
     "output_type": "stream",
     "text": [
      "mid 2\n",
      "got here\n",
      "2\n",
      "1\n",
      "[1, 3]\n",
      "mid 2\n",
      "mid 3\n",
      "got here\n",
      "3\n",
      "[3, 3]\n",
      "mid 2\n",
      "mid 3\n",
      "mid 4\n",
      "[-1, -1]\n"
     ]
    }
   ],
   "source": [
    "# my way garbage\n",
    "def find_range(arr, key):\n",
    "    result = [- 1, -1]\n",
    " \n",
    "    n = len(arr)\n",
    "    \n",
    "    low = 0\n",
    "    high = n-1\n",
    "    \n",
    "    while low <= high:\n",
    "        mid = (low + high)//2\n",
    "        print(f'mid {mid}')\n",
    "        guess = arr[mid]\n",
    "        if guess == key:\n",
    "            return find_start_end(arr, mid, key)\n",
    "        if key < guess:\n",
    "            high = mid - 1\n",
    "        else:\n",
    "            low = mid + 1\n",
    "    \n",
    "    return result\n",
    "\n",
    "\n",
    "def find_start_end(arr, index, key):\n",
    "    window_start = index \n",
    "    window_end = index\n",
    "    \n",
    "    print('got here')\n",
    "    key_start = index\n",
    "    key_end = index\n",
    "    \n",
    "    \n",
    "    while arr[window_start] == key or arr[window_end] == key:\n",
    "        print(window_start)\n",
    "        if window_start - 1 >= 0:\n",
    "            if arr[window_start - 1] == key:\n",
    "                window_start -= 1\n",
    "                key_start -= 1 \n",
    "            else:\n",
    "                window_start -= 1\n",
    "            \n",
    "        if window_end + 1 < len(arr):\n",
    "            if arr[window_end + 1] == key:\n",
    "                window_end += 1\n",
    "                key_end += 1\n",
    "            else:\n",
    "                window_end += 1\n",
    "            \n",
    "    return [key_start, key_end]\n",
    "    \n",
    "    \n",
    "    \n",
    "    \n",
    "    \n",
    "\n",
    "\n",
    "print(find_range([4, 6, 6, 6, 9], 6))\n",
    "print(find_range([1, 3, 8, 10, 15], 10))\n",
    "print(find_range([1, 3, 8, 10, 15], 12))\n"
   ]
  },
  {
   "cell_type": "code",
   "execution_count": 4,
   "metadata": {},
   "outputs": [
    {
     "name": "stdout",
     "output_type": "stream",
     "text": [
      "[1, 3]\n",
      "[3, 3]\n",
      "[-1, -1]\n"
     ]
    }
   ],
   "source": [
    "def find_range(arr, key):\n",
    "    result = [- 1, -1]\n",
    "    result[0] = binary_search(arr, key, False)\n",
    "    if result[0] != -1:  # no need to search, if 'key' is not present in the input array\n",
    "        result[1] = binary_search(arr, key, True)\n",
    "    return result\n",
    "\n",
    "\n",
    "# modified Binary Search\n",
    "def binary_search(arr, key, findMaxIndex):\n",
    "    keyIndex = -1\n",
    "    start, end = 0, len(arr) - 1\n",
    "    while start <= end:\n",
    "        mid = start + (end - start) // 2\n",
    "        if key < arr[mid]:\n",
    "            end = mid - 1\n",
    "        elif key > arr[mid]:\n",
    "            start = mid + 1\n",
    "        else:  # key == arr[mid]\n",
    "            keyIndex = mid\n",
    "            if findMaxIndex:\n",
    "                start = mid + 1  # search ahead to find the last index of 'key'\n",
    "            else:\n",
    "                end = mid - 1  # search behind to find the first index of 'key'\n",
    "\n",
    "    return keyIndex\n",
    "\n",
    "print(find_range([4, 6, 6, 6, 9], 6))\n",
    "print(find_range([1, 3, 8, 10, 15], 10))\n",
    "print(find_range([1, 3, 8, 10, 15], 12))"
   ]
  },
  {
   "cell_type": "markdown",
   "metadata": {},
   "source": [
    "### Search in a Sorted Infinite Array (medium)\n",
    "Given an infinite sorted array (or an array with unknown size), find if a given number ‘key’ is present in the array. Write a function to return the index of the ‘key’ if it is present in the array, otherwise return -1.\n",
    "\n",
    "Since it is not possible to define an array with infinite (unknown) size, you will be provided with an interface ArrayReader to read elements of the array. ArrayReader.get(index) will return the number at index; if the array’s size is smaller than the index, it will return Integer.MAX_VALUE.\n",
    "\n",
    "Input: [4, 6, 8, 10, 12, 14, 16, 18, 20, 22, 24, 26, 28, 30], key = 16   \n",
    "Output: 6  \n",
    "Explanation: The key is present at index '6' in the array. \n",
    "\n",
    "\n",
    "increase by window size * 2\n"
   ]
  },
  {
   "cell_type": "code",
   "execution_count": 59,
   "metadata": {},
   "outputs": [
    {
     "name": "stdout",
     "output_type": "stream",
     "text": [
      "6\n",
      "-1\n",
      "4\n",
      "-1\n"
     ]
    }
   ],
   "source": [
    "import math\n",
    "\n",
    "class ArrayReader:\n",
    "\n",
    "    def __init__(self, arr):\n",
    "        self.arr = arr\n",
    "\n",
    "    def get(self, index):\n",
    "        if index >= len(self.arr):\n",
    "            return math.inf\n",
    "        return self.arr[index]\n",
    "\n",
    "\n",
    "def search_in_infinite_array(reader, key):\n",
    "    start = 0\n",
    "    end = 1\n",
    "    \n",
    "    \n",
    "    while reader.get(end) < key:\n",
    "        new_start = end + 1\n",
    "        end = (end - start + 1) * 2\n",
    "        start = new_start\n",
    "    \n",
    "    return binary_search(reader, key, start, end)\n",
    "\n",
    " \n",
    "def binary_search(reader, key, start, end):\n",
    "    while start <= end:\n",
    "        mid = start + (end - start) // 2\n",
    "        if key < reader.get(mid):\n",
    "            end = mid - 1\n",
    "        elif key > reader.get(mid):\n",
    "            start = mid + 1\n",
    "        else:  # found the key\n",
    "            return mid\n",
    "\n",
    "    return -1       \n",
    "        \n",
    "\n",
    "\n",
    "reader = ArrayReader([4, 6, 8, 10, 12, 14, 16, 18, 20, 22, 24, 26, 28, 30])\n",
    "print(search_in_infinite_array(reader, 16))\n",
    "print(search_in_infinite_array(reader, 11))\n",
    "reader = ArrayReader([1, 3, 8, 10, 15])\n",
    "print(search_in_infinite_array(reader, 15))\n",
    "print(search_in_infinite_array(reader, 200))"
   ]
  },
  {
   "cell_type": "markdown",
   "metadata": {},
   "source": [
    "### Minimum Difference Element (medium)\n",
    "\n",
    "Given an array of numbers sorted in ascending order, find the element in the array that has the minimum difference with the given ‘key’.\n",
    "\n",
    "\n",
    "Input: [4, 6, 10], key = 7  \n",
    "Output: 6  \n",
    "Explanation: The difference between the key '7' and '6' is minimum than any other number in the array \n",
    "\n",
    "Input: [4, 6, 10], key = 4  \n",
    "Output: 4  \n"
   ]
  },
  {
   "cell_type": "code",
   "execution_count": 6,
   "metadata": {},
   "outputs": [
    {
     "name": "stdout",
     "output_type": "stream",
     "text": [
      "None\n",
      "None\n",
      "None\n",
      "None\n"
     ]
    }
   ],
   "source": [
    "# try it\n",
    "def search_min_diff_element(arr, key):\n",
    "    pass\n",
    "\n",
    "\n",
    "print(search_min_diff_element([4, 6, 10], 7))\n",
    "print(search_min_diff_element([4, 6, 10], 4))\n",
    "print(search_min_diff_element([1, 3, 8, 10, 15], 12))\n",
    "print(search_min_diff_element([4, 6, 10], 17))\n"
   ]
  },
  {
   "cell_type": "code",
   "execution_count": 7,
   "metadata": {},
   "outputs": [
    {
     "name": "stdout",
     "output_type": "stream",
     "text": [
      "6\n",
      "4\n",
      "10\n",
      "10\n"
     ]
    }
   ],
   "source": [
    "def search_min_diff_element(arr, key):\n",
    "  if key < arr[0]:\n",
    "    return arr[0]\n",
    "  n = len(arr)\n",
    "  if key > arr[n - 1]:\n",
    "    return arr[n - 1]\n",
    "\n",
    "  start, end = 0, n - 1\n",
    "  while start <= end:\n",
    "    mid = start + (end - start) // 2\n",
    "    if key < arr[mid]:\n",
    "      end = mid - 1\n",
    "    elif key > arr[mid]:\n",
    "      start = mid + 1\n",
    "    else:\n",
    "      return arr[mid]\n",
    "\n",
    "  # at the end of the while loop, 'start == end+1'\n",
    "  # we are not able to find the element in the given array\n",
    "  # return the element which is closest to the 'key'\n",
    "  if (arr[start] - key) < (key - arr[end]):\n",
    "    return arr[start]\n",
    "  return arr[end]\n",
    "\n",
    "print(search_min_diff_element([4, 6, 10], 7))\n",
    "print(search_min_diff_element([4, 6, 10], 4))\n",
    "print(search_min_diff_element([1, 3, 8, 10, 15], 12))\n",
    "print(search_min_diff_element([4, 6, 10], 17))"
   ]
  },
  {
   "cell_type": "markdown",
   "metadata": {},
   "source": [
    "### Bitonic Array Maximum (easy)\n",
    "\n",
    "Find the maximum value in a given Bitonic array. An array is considered bitonic if it is monotonically increasing and then monotonically decreasing. Monotonically increasing or decreasing means that for any index i in the array arr[i] != arr[i+1].\n",
    "\n",
    "Input: [1, 3, 8, 12, 4, 2]  \n",
    "Output: 12  \n",
    "Explanation: The maximum number in the input bitonic array is '12'.\n",
    "\n",
    "Input: [3, 8, 3, 1]  \n",
    "Output: 8  \n"
   ]
  },
  {
   "cell_type": "code",
   "execution_count": 79,
   "metadata": {},
   "outputs": [
    {
     "name": "stdout",
     "output_type": "stream",
     "text": [
      "12\n",
      "8\n",
      "12\n",
      "10\n"
     ]
    }
   ],
   "source": [
    "def find_max_in_bitonic_array(arr):\n",
    "    n = len(arr)\n",
    "    if arr[n-1] > arr[n-2]:\n",
    "        return arr[n-1]\n",
    "    if arr[0] > arr[1]:\n",
    "        return arr[0]\n",
    "\n",
    "    start = 0\n",
    "    end = n - 1\n",
    "    \n",
    "    while start <= end:\n",
    "        mid = (start + end) // 2\n",
    "        \n",
    "        \n",
    "        if arr[mid] > arr[mid+1] and arr[mid-1] < arr[mid]: \n",
    "            return arr[mid]\n",
    "        if arr[mid] > arr[mid+1]:\n",
    "            end = mid \n",
    "        elif arr[mid] > arr[mid-1]:\n",
    "            start = mid + 1\n",
    "    \n",
    "    return -1\n",
    "\n",
    "print(find_max_in_bitonic_array([1, 3, 8, 12, 4, 2]))\n",
    "print(find_max_in_bitonic_array([3, 8, 3, 1]))\n",
    "print(find_max_in_bitonic_array([1, 3, 8, 12]))\n",
    "print(find_max_in_bitonic_array([10, 9, 8]))"
   ]
  },
  {
   "cell_type": "markdown",
   "metadata": {},
   "source": [
    "#### This solution just checks if midpoint element and one above is desc or asc"
   ]
  },
  {
   "cell_type": "code",
   "execution_count": 10,
   "metadata": {},
   "outputs": [
    {
     "name": "stdout",
     "output_type": "stream",
     "text": [
      "12\n",
      "8\n",
      "12\n",
      "10\n"
     ]
    }
   ],
   "source": [
    "# their solution easier as usual\n",
    "def find_max_in_bitonic_array(arr):\n",
    "    start, end = 0, len(arr) - 1\n",
    "    while start < end:\n",
    "        mid = start + (end - start) // 2\n",
    "        if arr[mid] > arr[mid + 1]:\n",
    "            end = mid\n",
    "        else:\n",
    "            start = mid + 1\n",
    "\n",
    "    # at the end of the while loop, 'start == end'\n",
    "    return arr[start]\n",
    "\n",
    "print(find_max_in_bitonic_array([1, 3, 8, 12, 4, 2]))\n",
    "print(find_max_in_bitonic_array([3, 8, 3, 1]))\n",
    "print(find_max_in_bitonic_array([1, 3, 8, 12]))\n",
    "print(find_max_in_bitonic_array([10, 9, 8]))"
   ]
  },
  {
   "cell_type": "markdown",
   "metadata": {},
   "source": [
    "### Search Bitonic Array (medium) #\n",
    "Given a Bitonic array, find if a given ‘key’ is present in it. An array is considered bitonic if it is monotonically increasing and then monotonically decreasing. Monotonically increasing or decreasing means that for any index i in the array arr[i] != arr[i+1].\n",
    "\n",
    "Write a function to return the index of the ‘key’. If the ‘key’ is not present, return -1.\n",
    "\n",
    "Input: [1, 3, 8, 4, 3], key=4  \n",
    "Output: 3  \n",
    "\n",
    "Input: [3, 8, 3, 1], key=8  \n",
    "Output: 1"
   ]
  },
  {
   "cell_type": "code",
   "execution_count": 96,
   "metadata": {},
   "outputs": [
    {
     "name": "stdout",
     "output_type": "stream",
     "text": [
      "3\n",
      "1\n",
      "3\n",
      "0\n"
     ]
    }
   ],
   "source": [
    "# mysolution\n",
    "\n",
    "def find_max_in_bitonic_array(arr):\n",
    "    start, end = 0, len(arr) - 1\n",
    "    while start < end:\n",
    "        mid = start + (end - start) // 2\n",
    "        if arr[mid] > arr[mid + 1]:\n",
    "            end = mid\n",
    "        else:\n",
    "            start = mid + 1\n",
    "\n",
    "    # at the end of the while loop, 'start == end'\n",
    "    return start\n",
    "\n",
    "\n",
    "def search_bitonic_array(arr, key):\n",
    "    max_bio = find_max_in_bitonic_array(arr)\n",
    "    if arr[max_bio] == key:\n",
    "        return max_bio\n",
    "    result =  binary_search(arr[:max_bio], key)\n",
    "    if result:\n",
    "        return result\n",
    "    \n",
    "    result =  binary_search(arr[max_bio:], key)\n",
    "        \n",
    "    if result:\n",
    "        return result\n",
    "    \n",
    "    return -1\n",
    "    \n",
    "    \n",
    "    \n",
    "\n",
    "def binary_search(arr, k):\n",
    "    n = len(arr)\n",
    "    start = 0\n",
    "    end = n - 1\n",
    "    \n",
    "    while start < end:\n",
    "        mid = (start + end) // n\n",
    "        \n",
    "        if key == arr[mid]:\n",
    "            return mid\n",
    "\n",
    "        if arr[start] < arr[end]:  # ascending order\n",
    "            if key < arr[mid]:\n",
    "                end = mid - 1\n",
    "            else:  # key > arr[mid]\n",
    "                start = mid + 1\n",
    "        else:  # descending order\n",
    "            if key > arr[mid]:\n",
    "                end = mid - 1\n",
    "            else:  # key < arr[mid]\n",
    "                start = mid + 1\n",
    "    return -1\n",
    "\n",
    "\n",
    "print(find_max_in_bitonic_array([1, 3, 8, 12, 4, 2]))\n",
    "print(find_max_in_bitonic_array([3, 8, 3, 1]))\n",
    "print(find_max_in_bitonic_array([1, 3, 8, 12]))\n",
    "print(find_max_in_bitonic_array([10, 9, 8]))"
   ]
  },
  {
   "cell_type": "code",
   "execution_count": 95,
   "metadata": {},
   "outputs": [
    {
     "name": "stdout",
     "output_type": "stream",
     "text": [
      "3\n",
      "1\n",
      "3\n",
      "0\n"
     ]
    }
   ],
   "source": [
    "def search_bitonic_array(arr, key):\n",
    "  maxIndex = find_max(arr)\n",
    "  keyIndex = binary_search(arr, key, 0, maxIndex)\n",
    "  if keyIndex != -1:\n",
    "    return keyIndex\n",
    "  return binary_search(arr, key, maxIndex + 1, len(arr) - 1)\n",
    "\n",
    "\n",
    "# find index of the maximum value in a bitonic array\n",
    "def find_max(arr):\n",
    "  start, end = 0, len(arr) - 1\n",
    "  while start < end:\n",
    "    mid = start + (end - start) // 2\n",
    "    if arr[mid] > arr[mid + 1]:\n",
    "      end = mid\n",
    "    else:\n",
    "      start = mid + 1\n",
    "\n",
    "  # at the end of the while loop, 'start == end'\n",
    "  return start\n",
    "\n",
    "\n",
    "# order-agnostic binary search\n",
    "def binary_search(arr, key, start, end):\n",
    "  while start <= end:\n",
    "    mid = int(start + (end - start) / 2)\n",
    "\n",
    "    if key == arr[mid]:\n",
    "      return mid\n",
    "\n",
    "    if arr[start] < arr[end]:  # ascending order\n",
    "      if key < arr[mid]:\n",
    "        end = mid - 1\n",
    "      else:  # key > arr[mid]\n",
    "        start = mid + 1\n",
    "    else:  # descending order\n",
    "      if key > arr[mid]:\n",
    "        end = mid - 1\n",
    "      else:  # key < arr[mid]\n",
    "        start = mid + 1\n",
    "\n",
    "  return -1  # element is not found\n",
    "\n",
    "\n",
    "def main():\n",
    "  print(search_bitonic_array([1, 3, 8, 4, 3], 4))\n",
    "  print(search_bitonic_array([3, 8, 3, 1], 8))\n",
    "  print(search_bitonic_array([1, 3, 8, 12], 12))\n",
    "  print(search_bitonic_array([10, 9, 8], 10))\n",
    "\n",
    "\n",
    "main()\n"
   ]
  },
  {
   "cell_type": "markdown",
   "metadata": {},
   "source": [
    "### Search in Rotated Array (medium) #\n",
    "Given an array of numbers which is sorted in ascending order and also rotated by some arbitrary number, find if a given ‘key’ is present in it.\n",
    "\n",
    "Write a function to return the index of the ‘key’ in the rotated array. If the ‘key’ is not present, return -1. You can assume that the given array does not have any duplicates.\n",
    "\n",
    "Input: [10, 15, 1, 3, 8], key = 15  \n",
    "Output: 1  \n",
    "Explanation: '15' is present in the array at index '1'.\n",
    "\n",
    "The big trick is you can assume two things:\n",
    "* if left side is sorted - test if key is in the range\n",
    "* if left side is not sorted - then the right side has to be sorted - so test if key is in that range"
   ]
  },
  {
   "cell_type": "code",
   "execution_count": 98,
   "metadata": {},
   "outputs": [
    {
     "name": "stdout",
     "output_type": "stream",
     "text": [
      "1\n",
      "4\n"
     ]
    }
   ],
   "source": [
    "def search_rotated_array(arr, key):\n",
    "    start, end = 0, len(arr) - 1\n",
    "    while start <= end:\n",
    "        mid = start + (end - start) // 2\n",
    "        if arr[mid] == key:\n",
    "            return mid\n",
    "\n",
    "        if arr[start] <= arr[mid]:  # left side is sorted in ascending order\n",
    "            if key >= arr[start] and key < arr[mid]:\n",
    "                end = mid - 1\n",
    "            else:  # key > arr[mid]\n",
    "                start = mid + 1\n",
    "        else:  # right side is sorted in ascending order\n",
    "            if key > arr[mid] and key <= arr[end]:\n",
    "                start = mid + 1\n",
    "            else:\n",
    "                end = mid - 1\n",
    "\n",
    "    # we are not able to find the element in the given array\n",
    "    return -1\n",
    "\n",
    "print(search_rotated_array([10, 15, 1, 3, 8], 15))\n",
    "print(search_rotated_array([4, 5, 7, 9, 10, -1, 2], 10))\n"
   ]
  },
  {
   "cell_type": "markdown",
   "metadata": {},
   "source": [
    "### How do we search in a sorted and rotated array that also has duplicates?\n",
    "\n",
    "Input: [3, 7, 3, 3, 3], key = 7  \n",
    "Output: 1  \n",
    "Explanation: '7' is present in the array at index '1'."
   ]
  },
  {
   "cell_type": "code",
   "execution_count": 100,
   "metadata": {},
   "outputs": [
    {
     "name": "stdout",
     "output_type": "stream",
     "text": [
      "1\n"
     ]
    }
   ],
   "source": [
    "def search_rotated_with_duplicates(arr, key):\n",
    "    start, end = 0, len(arr) - 1\n",
    "    while start <= end:\n",
    "        mid = start + (end - start) // 2\n",
    "        if arr[mid] == key:\n",
    "            return mid\n",
    "\n",
    "        # the only difference from the previous solution,\n",
    "        # if numbers at indexes start, mid, and end are same, we can't choose a side\n",
    "        #   the best we can do, is to skip one number from both ends as key != arr[mid]\n",
    "        if arr[start] == arr[mid] and arr[end] == arr[mid]:\n",
    "            start += 1\n",
    "            end -= 1\n",
    "        elif arr[start] <= arr[mid]:  # left side is sorted in ascending order\n",
    "            if key >= arr[start] and key < arr[mid]:\n",
    "                end = mid - 1\n",
    "            else:  # key > arr[mid]\n",
    "                start = mid + 1\n",
    "\n",
    "        else:  # right side is sorted in ascending order\n",
    "            if key > arr[mid] and key <= arr[end]:\n",
    "                start = mid + 1\n",
    "            else:\n",
    "                end = mid - 1\n",
    "\n",
    "    # we are not able to find the element in the given array\n",
    "    return -1\n",
    "\n",
    "print(search_rotated_with_duplicates([3, 7, 3, 3, 3], 7))"
   ]
  },
  {
   "cell_type": "markdown",
   "metadata": {},
   "source": [
    "### Rotation Count (medium) #\n",
    "Given an array of numbers which is sorted in ascending order and is rotated ‘k’ times around a pivot, find ‘k’.\n",
    "\n",
    "You can assume that the array does not have any duplicates.\n",
    "\n",
    "\n",
    "Input: [10, 15, 1, 3, 8]  \n",
    "Output: 2  \n",
    "Explanation: The array has been rotated 2 times.\n",
    "\n",
    "nput: [4, 5, 7, 9, 10, -1, 2]  \n",
    "Output: 5  \n",
    "Explanation: The array has been rotated 5 times."
   ]
  },
  {
   "cell_type": "code",
   "execution_count": 107,
   "metadata": {},
   "outputs": [
    {
     "name": "stdout",
     "output_type": "stream",
     "text": [
      "2\n",
      "5\n",
      "0\n"
     ]
    }
   ],
   "source": [
    "def count_rotations(arr):\n",
    "    start, end = 0, len(arr) - 1\n",
    "    while start < end:\n",
    "        mid = start + (end - start) // 2\n",
    "        if mid < end and arr[mid] > arr[mid + 1]:\n",
    "            return mid + 1\n",
    "        elif mid > start and arr[mid] < arr[mid - 1]:\n",
    "            return mid\n",
    "        \n",
    "        if arr[start] < arr[mid]:  # left side is sorted in ascending order\n",
    "            start = mid + 1 \n",
    "        else:  # right side is sorted in ascending order\n",
    "            end = mid - 1\n",
    "    # we are not able to find the element in the given array\n",
    "    return 0\n",
    "\n",
    "\n",
    "print(count_rotations([10, 15, 1, 3, 8]))\n",
    "print(count_rotations([4, 5, 7, 9, 10, -1, 2]))\n",
    "print(count_rotations([1, 3, 8, 10]))\n",
    "\n"
   ]
  },
  {
   "cell_type": "markdown",
   "metadata": {},
   "source": [
    "### How do we find the rotation count of a sorted and rotated array that has duplicates too?"
   ]
  },
  {
   "cell_type": "code",
   "execution_count": 109,
   "metadata": {},
   "outputs": [
    {
     "name": "stdout",
     "output_type": "stream",
     "text": [
      "3\n"
     ]
    }
   ],
   "source": [
    "def count_rotations_with_duplicates(arr):\n",
    "  start, end = 0, len(arr) - 1\n",
    "  while start < end:\n",
    "    mid = start + (end - start) // 2\n",
    "    # if element at mid is greater than the next element\n",
    "    if mid < end and arr[mid] > arr[mid + 1]:\n",
    "      return mid + 1\n",
    "    # if element at mid is smaller than the previous element\n",
    "    if mid > start and arr[mid - 1] > arr[mid]:\n",
    "      return mid\n",
    "\n",
    "    # this is the only difference from the previous solution\n",
    "    # if numbers at indices start, mid, and end are same, we can't choose a side\n",
    "    # the best we can do is to skip one number from both ends if they are not the smallest number\n",
    "    if arr[start] == arr[mid] and arr[end] == arr[mid]:\n",
    "      if arr[start] > arr[start + 1]:  # if element at start+1 is not the smallest\n",
    "        return start + 1\n",
    "      start += 1\n",
    "      if arr[end - 1] > arr[end]:  # if the element at end is not the smallest\n",
    "        return end\n",
    "      end -= 1\n",
    "    # left side is sorted, so the pivot is on right side\n",
    "    elif arr[start] < arr[mid] or (arr[start] == arr[mid] and arr[mid] > arr[end]):\n",
    "      start = mid + 1\n",
    "    else:  # right side is sorted, so the pivot is on the left side\n",
    "      end = mid - 1\n",
    "\n",
    "  return 0  # the array has not been rotated\n",
    "\n",
    "\n",
    "def main():\n",
    "  print(count_rotations_with_duplicates([3, 3, 7, 3]))\n",
    "\n",
    "\n",
    "main()\n"
   ]
  },
  {
   "cell_type": "markdown",
   "metadata": {},
   "source": [
    "## Find floor and ceiling of number at index x\n",
    "\n",
    "lst = [1, 2, 3, 5, 7]  \n",
    "x = 3  \n",
    "result = 2, 5  "
   ]
  },
  {
   "cell_type": "code",
   "execution_count": 110,
   "metadata": {},
   "outputs": [
    {
     "name": "stdout",
     "output_type": "stream",
     "text": [
      "Floor and Ceil of  4 :  (3, 5)\n"
     ]
    }
   ],
   "source": [
    "def find_floor(lst, low, high, x):\n",
    "    \"\"\"\n",
    "    Modified binary search function to find the floor of given number x\n",
    "    :param lst: List of integers\n",
    "    :param low: Starting index of the list\n",
    "    :param high: Ending index of the list\n",
    "    :return: Returns the floor of an integer x if exists, otherwise -1\n",
    "    \"\"\"\n",
    "\n",
    "    # Base Case\n",
    "    if low > high:\n",
    "        return -1\n",
    "\n",
    "    # If last element < x\n",
    "    if x >= lst[high]:\n",
    "        return lst[high]\n",
    "\n",
    "    # Finding mid\n",
    "    mid = (low + high) // 2\n",
    "\n",
    "    # If x is in the list\n",
    "    if lst[mid] == x:\n",
    "        return lst[mid]\n",
    "\n",
    "    # If x in between the interval (mid-1, mid)\n",
    "    if mid > 0 and lst[mid - 1] <= x and x < lst[mid]:\n",
    "        return lst[mid - 1]\n",
    "\n",
    "    # If x is smaller than lst[mid] then required number is in the left half of the list\n",
    "    if x < lst[mid]:\n",
    "        return find_floor(lst, low, mid - 1, x)\n",
    "\n",
    "    # If x is greater than lst[mid] then required number is in the right half of the list\n",
    "    return find_floor(lst, mid + 1, high, x)\n",
    "\n",
    "\n",
    "def find_ceiling(lst, low, high, x):\n",
    "    \"\"\"\n",
    "    Modified binary search function to find the floor of given number x\n",
    "    :param lst: List of integers\n",
    "    :param low: Starting index of the list\n",
    "    :param high: Ending index of the list\n",
    "    :return: Returns the ceiling of an integer x if exists, otherwise -1\n",
    "    \"\"\"\n",
    "\n",
    "    # Base Case\n",
    "    if x <= lst[low]:\n",
    "        return lst[low]\n",
    "\n",
    "    # If  x > last element in list\n",
    "    if x > lst[high]:\n",
    "        return -1\n",
    "\n",
    "    # Finding mid\n",
    "    mid = (low + high) // 2\n",
    "\n",
    "    # If x is in the list\n",
    "    if lst[mid] == x:\n",
    "        return lst[mid]\n",
    "\n",
    "    # If x is greater than lst[mid] then required number is in the right half of the list\n",
    "    elif lst[mid] < x:\n",
    "        if mid + 1 <= high and x <= lst[mid + 1]:\n",
    "            return lst[mid + 1]\n",
    "        else:\n",
    "            return find_ceiling(lst, mid + 1, high, x)\n",
    "\n",
    "    # If x is smaller than lst[mid] then required number is in the left half of the list\n",
    "    else:\n",
    "        if mid - 1 >= low and x > lst[mid - 1]: # Checking if the next element is the ceiling\n",
    "            return lst[mid]\n",
    "        else:\n",
    "            return find_ceiling(lst, low, mid - 1, x) # Checking in the left half\n",
    "\n",
    "def find_floor_ceiling(lst, x):\n",
    "    # DO NOT MODIFY THIS FUNCTION #\n",
    "\n",
    "    \"\"\"\n",
    "    Calls the find_floor and find_ceiling functions and returns their results\n",
    "    :param lst: List of integers\n",
    "    :param x: An integer\n",
    "    :return: Returns the floor of an integer x, otherwise -1\n",
    "    \"\"\"\n",
    "    return find_floor(lst, 0, len(lst) - 1, x), find_ceiling(lst, 0, len(lst) - 1, x)\n",
    "\n",
    "\n",
    "# Driver code to test above function\n",
    "if __name__ == '__main__':\n",
    "    lst = [1, 2, 3, 5, 7]\n",
    "    x = 4\n",
    "    print(\"Floor and Ceil of \", x, \": \", find_floor_ceiling(lst, x))"
   ]
  },
  {
   "cell_type": "markdown",
   "metadata": {},
   "source": [
    "### Missing Number in a Sorted List\n",
    "\n",
    "Trick:  \n",
    "Line 21-22:  If the element at middle is not equal to middle + 1 and this is the first missing element, then middle + 1 is the missing element\n",
    "\n",
    "Line 25-26: Otherwise, if this is not the first missing element, and lst[middle] is equal to middle + 1, search in the left half. Else, search in the right half of the list"
   ]
  },
  {
   "cell_type": "code",
   "execution_count": 112,
   "metadata": {},
   "outputs": [
    {
     "name": "stdout",
     "output_type": "stream",
     "text": [
      "3\n",
      "5\n",
      "1\n",
      "-1\n"
     ]
    }
   ],
   "source": [
    "def missing_number(lst):\n",
    "     \"\"\"\n",
    "    Finds a missing number from the list which contains sorted numbers from 1 to onwards\n",
    "    :param lst: List of sorted integers\n",
    "    :return: Missing number in the sorted list\n",
    "    \"\"\"\n",
    "\n",
    "    left_limit = 0 # Start of the list\n",
    "    right_limit = len(lst) - 1 # End of the list\n",
    "\n",
    "    # Keeping in check the boundary case\n",
    "    if lst[left_limit] is not 1: # If 1 is not present at 0th index\n",
    "        return 1\n",
    "\n",
    "    # Binary Search\n",
    "    while left_limit <= right_limit:\n",
    "        middle = (left_limit + right_limit) // 2 # Finding mid\n",
    "\n",
    "        # Element at index `i` should be `i+1` (e.g. 1 at index 0). If this is the first element  which is not `i`+ 1,\n",
    "        # then  missing element is middle + 1\n",
    "        if lst[middle] is not middle + 1 and lst[middle -1] is middle:\n",
    "        # 3 is not 3 and 2 is 2\n",
    "        # 4 is not 4 and 3 is 3\n",
    "        # 6 is not 5 triggered\n",
    "            return middle + 1\n",
    "        \n",
    "\n",
    "        # If this is not the first missing number then search in left sub-list\n",
    "        if lst[middle] is not middle + 1:\n",
    "        # 3 is not 3\n",
    "        # 4 is not 4\n",
    "            right_limit = middle - 1\n",
    "        # If it follows index + 1 property then search in right side of the list\n",
    "        else:\n",
    "            # 3 == 3\n",
    "            # 4 == 4\n",
    "            # search top half because we know 1-3 is in array\n",
    "            # search top half becasue we know 4 is in the array\n",
    "            left_limit = middle + 1\n",
    "    return -1 # If there is no missing number\n",
    "\n",
    "# Driver code to test above function\n",
    "if __name__ == '__main__':\n",
    "  print(missing_number([1, 2, 4]))\n",
    "  print(missing_number([1, 2, 3, 4, 6]))\n",
    "  print(missing_number([2, 3, 4, 5, 6]))\n",
    "  print(missing_number([1, 2, 3, 4, 5, 6, 7, 8, 9, 10]))"
   ]
  },
  {
   "cell_type": "markdown",
   "metadata": {},
   "source": [
    "## Find the Closest Number\n",
    "\n",
    "In any given sorted list, the closest number to a given number is the one whose absolute difference with the given number is closest to zero.'\n",
    "\n",
    "lst = [-9, -4, -2, 0, 1, 3, 4, 10]\n",
    "  \n",
    "target = 5 \n",
    "Sample output #  \n",
    "result = 4\n",
    "\n"
   ]
  },
  {
   "cell_type": "code",
   "execution_count": null,
   "metadata": {},
   "outputs": [],
   "source": [
    "def find_closest(lst, target):\n",
    "    \"\"\"\n",
    "    Finds the closest number to the target in the list\n",
    "    :param lst: Sorted list of integers\n",
    "    :param target: Left sided index of the list\n",
    "    :return: Closest element from the list to the target\n",
    "    \"\"\"\n",
    "\n",
    "    length = len(lst)\n",
    "\n",
    "    # If the target is less or equal to first element of the list\n",
    "    if target <= lst[0]:\n",
    "        return lst[0]\n",
    "\n",
    "    # If the target is less or equal to first element of the list\n",
    "    if target >= lst[length - 1]:\n",
    "        return lst[length - 1]\n",
    "\n",
    "    # Binary Search\n",
    "    i = 0  # Starting index of the list\n",
    "    j = length  # Ending index of the list\n",
    "    mid = 0  # Middle index of the list\n",
    "\n",
    "    while i < j:\n",
    "        mid = (i + j) // 2\n",
    "\n",
    "        if lst[mid] == target:\n",
    "            return lst[mid]\n",
    "\n",
    "        # If target is less than list element then go to left side of list\n",
    "        if target < lst[mid]:\n",
    "\n",
    "            # If target is not in the list and the element of list exceeds the target then find the closest one\n",
    "            if mid > 0 and target > lst[mid - 1]:\n",
    "                if target - lst[mid] >= lst[mid - 1] - target:\n",
    "                    return lst[mid - 1]\n",
    "                else:\n",
    "                    return lst[mid]\n",
    "\n",
    "            # Repeat for left half\n",
    "            j = mid\n",
    "\n",
    "        # If target is greater than mid then go towards the right of the list\n",
    "        else:\n",
    "            if mid < length - 1 and target < lst[mid + 1]:\n",
    "                if target - lst[mid] >= lst[mid + 1] - target:\n",
    "                    return lst[mid + 1]\n",
    "                else:\n",
    "                    return lst[mid]\n",
    "\n",
    "            i = mid + 1\n",
    "\n",
    "    # Last possible option left\n",
    "    return lst[mid]\n",
    "\n",
    "# Driver code to test above function\n",
    "if __name__ == '__main__':\n",
    "        print(find_closest([-9, -4, -2, 0, 1, 3, 4, 10], 5))\n",
    "        print(find_closest([1, 2, 5, 10, 23, 25, 30, 50], 100))"
   ]
  }
 ],
 "metadata": {
  "kernelspec": {
   "display_name": "Python 3.7.5 64-bit ('p37': conda)",
   "language": "python",
   "name": "python37564bitp37conda2b1eeea87ee044609be89b011a3e6682"
  },
  "language_info": {
   "codemirror_mode": {
    "name": "ipython",
    "version": 3
   },
   "file_extension": ".py",
   "mimetype": "text/x-python",
   "name": "python",
   "nbconvert_exporter": "python",
   "pygments_lexer": "ipython3",
   "version": "3.7.5"
  }
 },
 "nbformat": 4,
 "nbformat_minor": 4
}
