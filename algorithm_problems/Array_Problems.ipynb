{
 "cells": [
  {
   "cell_type": "markdown",
   "metadata": {},
   "source": [
    "## Arrays"
   ]
  },
  {
   "cell_type": "markdown",
   "metadata": {},
   "source": [
    "### Tricks\n",
    "- most basic array problems will be some form of iteration - nest loops are usually brute force\n",
    "- does the data need stored in a data structure - list, dict, set?\n",
    "- do you need a pointer or sliding pointers?\n",
    "- do you need and additional algorithm technique: recursion, dynamic, divide and conquer.|"
   ]
  },
  {
   "cell_type": "markdown",
   "metadata": {},
   "source": [
    "### Two Sums -- leetcode 1\n",
    "for this problem\n",
    "\n",
    "trick using data stucture,simliar to dynamic programming\n",
    "\n",
    "{1: 0, 5: 1, 9: 2}   value, index  \n",
    "stores a dict like this [1, 5, 9, 7]  \n",
    "\n",
    "you just subtract 8 from each element (7) and see if the difference (1) is in the dict\n",
    "if it isn't just add element to dict"
   ]
  },
  {
   "cell_type": "code",
   "execution_count": 18,
   "metadata": {},
   "outputs": [
    {
     "name": "stdout",
     "output_type": "stream",
     "text": [
      "[0, 3]\n",
      "Pass\n",
      "[0, 7]\n",
      "Pass\n",
      "[0, 4]\n",
      "Pass\n"
     ]
    }
   ],
   "source": [
    "# code it yourself\n",
    "def twoSumPractice(nums, target):\n",
    "    if nums is None or nums == [] or len(nums) <= 1:\n",
    "        return False\n",
    "   \n",
    "\n",
    "               \n",
    "def test_function(test_case):\n",
    "    output = twoSumPractice(test_case[0], test_case[1])\n",
    "    print(output)\n",
    "    if sorted(output) == test_case[2]:\n",
    "        print(\"Pass\")\n",
    "    else:\n",
    "        print(\"Fail\")    \n",
    "        \n",
    "test_case_1 = [[1, 5, 9, 7], 8, [0, 3]]\n",
    "test_function(test_case_1)\n",
    "\n",
    "test_case_2 = [[10, 5, 9, 8, 12, 1, 16, 6], 16, [0, 7]]\n",
    "test_function(test_case_2)\n",
    "\n",
    "test_case_3 = [[0, 1, 2, 3, -4], -4, [0, 4]]\n",
    "test_function(test_case_3)"
   ]
  },
  {
   "cell_type": "code",
   "execution_count": 14,
   "metadata": {},
   "outputs": [
    {
     "name": "stdout",
     "output_type": "stream",
     "text": [
      "[0, 1]\n",
      "False\n",
      "False\n",
      "False\n",
      "[1, 2]\n",
      "[0, 3]\n",
      "[2, 3]\n"
     ]
    }
   ],
   "source": [
    "# fastest version\n",
    "def twoSum(nums, target):\n",
    "    if nums is None or nums == [] or len(nums) <= 1:\n",
    "        return False\n",
    "    \n",
    "    # {difference number : index in nums list}\n",
    "    temp_dict = {}\n",
    "    \n",
    "    # gets first number if it is in the buff_dict return\n",
    "    # else subtract current number from target add to buff dict                \n",
    "    for i in range(0, len(nums)):\n",
    "        if nums[i] in temp_dict:\n",
    "            return [temp_dict[nums[i]], i]\n",
    "       \n",
    "        temp_dict[target - nums[i]] = i\n",
    "        \n",
    "print(twoSum([2, 7, 11, 15], 9))\n",
    "print(twoSum(None, 9))\n",
    "print(twoSum([], 9))\n",
    "print(twoSum([2], 9))\n",
    "\n",
    "print(twoSum([2, 5, 5, 11], 10))\n",
    "print(twoSum([2, 5, 5, 11], 13))\n",
    "print(twoSum([2, 5, 5, 11], 16))"
   ]
  },
  {
   "cell_type": "code",
   "execution_count": 9,
   "metadata": {},
   "outputs": [
    {
     "name": "stdout",
     "output_type": "stream",
     "text": [
      "{1: 0, 5: 1, 9: 2}\n",
      "[0, 3]\n",
      "Pass\n",
      "{10: 0, 5: 1, 9: 2, 8: 3, 12: 4, 1: 5, 16: 6}\n",
      "[0, 7]\n",
      "Pass\n",
      "{0: 0, 1: 1, 2: 2, 3: 3}\n",
      "[0, 4]\n",
      "Pass\n"
     ]
    }
   ],
   "source": [
    "# different version with enumeration of input list - had duplicate action of subtraction\n",
    "def twoSum2(input_list, target):\n",
    "    if input_list is None or input_list == [] or len(input_list) <= 1:\n",
    "        return False\n",
    "    \n",
    "    index_dict = {}\n",
    "    for index, element in enumerate(input_list):\n",
    "        if target - element in index_dict:\n",
    "            print(index_dict)\n",
    "            return [index_dict[target - element], index]\n",
    "        index_dict[element] = index\n",
    "    \n",
    "        \n",
    "def test_function(test_case):\n",
    "    output = twoSum2(test_case[0], test_case[1])\n",
    "    print(output)\n",
    "    if sorted(output) == test_case[2]:\n",
    "        print(\"Pass\")\n",
    "    else:\n",
    "        print(\"Fail\")    \n",
    "test_case_1 = [[1, 5, 9, 7], 8, [0, 3]]\n",
    "test_function(test_case_1)\n",
    "\n",
    "test_case_2 = [[10, 5, 9, 8, 12, 1, 16, 6], 16, [0, 7]]\n",
    "test_function(test_case_2)\n",
    "\n",
    "test_case_3 = [[0, 1, 2, 3, -4], -4, [0, 4]]\n",
    "test_function(test_case_3)\n"
   ]
  },
  {
   "cell_type": "code",
   "execution_count": 15,
   "metadata": {},
   "outputs": [
    {
     "name": "stdout",
     "output_type": "stream",
     "text": [
      "twosums bool\n",
      "True\n"
     ]
    }
   ],
   "source": [
    "# boolean return version\n",
    "def twoSumsBool(nums, target):\n",
    "    set_nums = set()\n",
    "\n",
    "    for i in range(0, len(nums)):       \n",
    "        if nums[i] in set_nums:\n",
    "            return True\n",
    "        else:\n",
    "            set_nums.add(target - nums[i])\n",
    "    \n",
    "    return False\n",
    "\n",
    "print('twosums bool')\n",
    "print(twoSumsBool([1, 2, 3, 9], 5))"
   ]
  },
  {
   "cell_type": "code",
   "execution_count": 4,
   "metadata": {},
   "outputs": [
    {
     "name": "stdout",
     "output_type": "stream",
     "text": [
      "[0, 1]\n",
      "False\n",
      "False\n",
      "False\n",
      "[1, 2]\n",
      "[0, 3]\n",
      "[1, 3]\n"
     ]
    }
   ],
   "source": [
    "# brute force approach - no good\n",
    "def twoSumBrute(nums, target):\n",
    "    \"\"\"\n",
    "    :type nums: List[int]\n",
    "    :type target: int\n",
    "    :rtype: List[int]\n",
    "    \"\"\"\n",
    "    if nums is None or nums == [] or len(nums) <= 1:\n",
    "        return False\n",
    "    for i in range(0, len(nums)):\n",
    "        for j in range(i+1, len(nums)):\n",
    "            if nums[i] + nums[j] == target:\n",
    "                return [i, j]\n",
    "\n",
    "print(twoSumBrute([2, 7, 11, 15], 9))\n",
    "print(twoSumBrute(None, 9))\n",
    "print(twoSumBrute([], 9))\n",
    "print(twoSumBrute([2], 9))\n",
    "\n",
    "print(twoSumBrute([2, 5, 5, 11], 10))\n",
    "print(twoSumBrute([2, 5, 5, 11], 13))\n",
    "print(twoSumBrute([2, 5, 5, 11], 16))"
   ]
  },
  {
   "cell_type": "markdown",
   "metadata": {},
   "source": [
    "### Product of all other Elements - with division"
   ]
  },
  {
   "cell_type": "code",
   "execution_count": 4,
   "metadata": {},
   "outputs": [
    {
     "name": "stdout",
     "output_type": "stream",
     "text": [
      "[120, 60, 40, 30, 24]\n",
      "[2, 3, 6]\n"
     ]
    }
   ],
   "source": [
    "def products(arr):\n",
    "    result = 1\n",
    "    for x in arr:\n",
    "        result *= x\n",
    "    new_arr = []\n",
    "    for x in arr:\n",
    "        new_arr.append(result//x)\n",
    "    return new_arr\n",
    "\n",
    "arr = [1,2,3,4,5]\n",
    "print(products(arr))\n",
    "arr = [3,2,1]\n",
    "print(products(arr)) "
   ]
  },
  {
   "cell_type": "markdown",
   "metadata": {},
   "source": [
    "### Product of all other Elements - no division"
   ]
  },
  {
   "cell_type": "code",
   "execution_count": 11,
   "metadata": {},
   "outputs": [
    {
     "name": "stdout",
     "output_type": "stream",
     "text": [
      "[1, 2, 6, 24, 120]\n",
      "[120, 120, 60, 20, 5]\n",
      "[120, 60, 40, 30, 24]\n"
     ]
    }
   ],
   "source": [
    "def products2(nums):\n",
    "    prefix_products = []\n",
    "    for num in nums:\n",
    "        if prefix_products:\n",
    "            prefix_products.append(prefix_products[-1] * num)\n",
    "        else:\n",
    "            prefix_products.append(num)\n",
    "    \n",
    "    print(prefix_products)\n",
    "    \n",
    "    suffix_products = []\n",
    "    for num in reversed(nums):\n",
    "        if suffix_products:\n",
    "            suffix_products.append(suffix_products[-1] * num)\n",
    "        else:\n",
    "            suffix_products.append(num)\n",
    "    suffix_products = list(reversed(suffix_products))\n",
    "    print(suffix_products)\n",
    "    \n",
    "    # generateresults from the product of prefixed ans suffixed\n",
    "    result = []\n",
    "    for i in range(len(nums)):\n",
    "        if i == 0:\n",
    "            result.append(suffix_products[i + 1])\n",
    "        elif i == len(nums) - 1:\n",
    "            result.append(prefix_products[i -1])\n",
    "        else:\n",
    "            result.append(prefix_products[i - 1] * suffix_products[i + 1])\n",
    "\n",
    "    return result\n",
    "\n",
    "arr = [1,2,3,4,5]\n",
    "print(products2(arr))"
   ]
  },
  {
   "cell_type": "markdown",
   "metadata": {},
   "source": [
    "# Longest Consecutive Subsequence"
   ]
  },
  {
   "cell_type": "code",
   "execution_count": 2,
   "metadata": {},
   "outputs": [
    {
     "name": "stdout",
     "output_type": "stream",
     "text": [
      "Pass\n",
      "Pass\n",
      "Pass\n"
     ]
    }
   ],
   "source": [
    "def longest_consecutive_subsequence(input_list):\n",
    "    element_dict = dict()\n",
    "\n",
    "    for index, element in enumerate(input_list):\n",
    "        element_dict[element] = index\n",
    "\n",
    "    max_length = -1\n",
    "    starts_at = len(input_list)\n",
    "\n",
    "    for index, element in enumerate(input_list):\n",
    "        current_starts = index\n",
    "        element_dict[element] = -1\n",
    "\n",
    "        current_count = 1\n",
    "\n",
    "        # check upwards\n",
    "        current = element + 1\n",
    "\n",
    "        while current in element_dict and element_dict[current] > 0:\n",
    "            current_count += 1\n",
    "            element_dict[current] = -1\n",
    "            current = current + 1\n",
    "\n",
    "        # check downwards\n",
    "        current = element - 1\n",
    "        while current in element_dict and element_dict[current] > 0:\n",
    "            current_starts = element_dict[current]\n",
    "            current_count += 1\n",
    "            element_dict[current] = -1\n",
    "            current = current - 1\n",
    "\n",
    "        if current_count >= max_length:\n",
    "            if current_count == max_length and current_starts > starts_at:\n",
    "                continue\n",
    "            starts_at = current_starts\n",
    "            max_length = current_count\n",
    "\n",
    "    start_element = input_list[starts_at]\n",
    "    return [element for element in range(start_element, start_element + max_length)]\n",
    "\n",
    "def test_function(test_case):\n",
    "    output = longest_consecutive_subsequence(test_case[0])\n",
    "    if output == test_case[1]:\n",
    "        print(\"Pass\")\n",
    "    else:\n",
    "        print(\"Fail\")\n",
    "        \n",
    "test_case_1 = [[5, 4, 7, 10, 1, 3, 55, 2], [1, 2, 3, 4, 5]]\n",
    "test_function(test_case_1)\n",
    "\n",
    "test_case_2 = [[2, 12, 9, 16, 10, 5, 3, 20, 25, 11, 1, 8, 6 ], [8, 9, 10, 11, 12]]\n",
    "test_function(test_case_2)\n",
    "\n",
    "test_case_3 = [[0, 1, 2, 3, 4], [0, 1, 2, 3, 4]]\n",
    "test_function(test_case_3)"
   ]
  },
  {
   "cell_type": "code",
   "execution_count": null,
   "metadata": {},
   "outputs": [],
   "source": []
  }
 ],
 "metadata": {
  "kernelspec": {
   "display_name": "Python 3",
   "language": "python",
   "name": "python3"
  },
  "language_info": {
   "codemirror_mode": {
    "name": "ipython",
    "version": 3
   },
   "file_extension": ".py",
   "mimetype": "text/x-python",
   "name": "python",
   "nbconvert_exporter": "python",
   "pygments_lexer": "ipython3",
   "version": "3.7.5"
  }
 },
 "nbformat": 4,
 "nbformat_minor": 4
}
