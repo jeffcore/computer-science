{
 "cells": [
  {
   "cell_type": "markdown",
   "metadata": {},
   "source": [
    "## Longest Common Subsequence\n",
    "\n",
    "### The matrix rules\n",
    "\n",
    "One thing to notice here is that, you can efficiently fill up this matrix one cell at a time. Each grid cell only depends on the values in the grid cells that are directly on top and to the left of it, or on the diagonal/top-left. The rules are as follows:\n",
    "* Start with a matrix that has one extra row and column of zeros.\n",
    "* As you traverse your string:\n",
    "    * If there is a match, fill that grid cell with the value to the top-left of that cell *plus* one. So, in our case, when we found a matching B-B, we added +1 to the value in the top-left of the matching cell, 0.\n",
    "    * If there is not a match, take the *maximum* value from either directly to the left or the top cell, and carry that value over to the non-match cell.\n",
    "\n",
    "<img src='matrix_rules.png' width=40% />\n",
    "\n",
    "* After completely filling the matrix, **the bottom-right cell will hold the non-normalized LCS value**.\n",
    "\n",
    "\n",
    "### Complexity\n",
    "The time complexity of the above implementation\n",
    "is dominated by the two nested loops,\n",
    "which give us an O(N^2) time complexity."
   ]
  },
  {
   "cell_type": "code",
   "execution_count": 4,
   "metadata": {},
   "outputs": [
    {
     "name": "stdout",
     "output_type": "stream",
     "text": [
      "LCS val 1 =  5\n",
      "LCS val 2 =  7\n",
      "Tests passed!\n"
     ]
    }
   ],
   "source": [
    "def lcs(string_a, string_b):\n",
    "    matrix = [[0] * (len(string_a) + 1) for _ in range(len(string_b) + 1)]\n",
    "  \n",
    "    for r, b1 in enumerate(string_b):\n",
    "        for c, a1 in enumerate(string_a):            \n",
    "            if b1 == a1:\n",
    "                matrix[r+1][c+1] = 1 + matrix[r][c]\n",
    "            else:\n",
    "                matrix[r+1][c+1] = max(matrix[r+1][c], matrix[r][c+1])\n",
    "  \n",
    "    return matrix[-1][-1]\n",
    "\n",
    "## Test cell\n",
    "\n",
    "# Run this cell to see how your function is working\n",
    "test_A1 = \"WHOWEEKLY\"\n",
    "test_B1 = \"HOWONLY\"\n",
    "\n",
    "lcs_val1 = lcs(test_A1, test_B1)\n",
    "\n",
    "test_A2 = \"CATSINSPACETWO\"\n",
    "test_B2 = \"DOGSPACEWHO\"\n",
    "\n",
    "lcs_val2 = lcs(test_A2, test_B2)\n",
    "\n",
    "print('LCS val 1 = ', lcs_val1)\n",
    "assert lcs_val1==5, \"Incorrect LCS value.\"\n",
    "print('LCS val 2 = ', lcs_val2)\n",
    "assert lcs_val2==7, \"Incorrect LCS value.\"\n",
    "print('Tests passed!')"
   ]
  },
  {
   "cell_type": "markdown",
   "metadata": {},
   "source": [
    "## Knapsack Problem"
   ]
  },
  {
   "cell_type": "code",
   "execution_count": 7,
   "metadata": {},
   "outputs": [],
   "source": [
    "import collections\n",
    "\n",
    "Item = collections.namedtuple('Item', ['weight', 'value'])\n",
    "\n",
    "def max_value(knapsack_max_weight, items):\n",
    "    lookup_table = [0] * (knapsack_max_weight + 1)\n",
    "\n",
    "    for item in items:\n",
    "        for capacity in reversed(range(knapsack_max_weight + 1)):\n",
    "            if item.weight <= capacity:\n",
    "                lookup_table[capacity] = max(lookup_table[capacity], lookup_table[capacity - item.weight] + item.value)\n",
    "\n",
    "    return lookup_table[-1]\n",
    "\n",
    "\n",
    "\n",
    "tests = [\n",
    "    {\n",
    "        'correct_output': 14,\n",
    "        'input':\n",
    "            {\n",
    "                'knapsack_max_weight': 15,\n",
    "                'items': [Item(10, 7), Item(9, 8), Item(5, 6)]}},\n",
    "    {\n",
    "        'correct_output': 13,\n",
    "        'input':\n",
    "            {\n",
    "                'knapsack_max_weight': 25,\n",
    "                'items': [Item(10, 2), Item(29, 10), Item(5, 7), Item(5, 3), Item(5, 1), Item(24, 12)]}}]\n",
    "for test in tests:\n",
    "    assert test['correct_output'] == max_value(**test['input'])"
   ]
  },
  {
   "cell_type": "code",
   "execution_count": null,
   "metadata": {},
   "outputs": [],
   "source": []
  },
  {
   "cell_type": "code",
   "execution_count": null,
   "metadata": {},
   "outputs": [],
   "source": []
  }
 ],
 "metadata": {
  "kernelspec": {
   "display_name": "Python 3.7.5 64-bit ('p37': conda)",
   "language": "python",
   "name": "python37564bitp37conda2b1eeea87ee044609be89b011a3e6682"
  },
  "language_info": {
   "codemirror_mode": {
    "name": "ipython",
    "version": 3
   },
   "file_extension": ".py",
   "mimetype": "text/x-python",
   "name": "python",
   "nbconvert_exporter": "python",
   "pygments_lexer": "ipython3",
   "version": "3.7.5"
  }
 },
 "nbformat": 4,
 "nbformat_minor": 4
}
