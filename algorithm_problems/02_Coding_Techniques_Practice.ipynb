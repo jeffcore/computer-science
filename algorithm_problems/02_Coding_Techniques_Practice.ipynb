{
 "cells": [
  {
   "cell_type": "markdown",
   "metadata": {
    "colab_type": "text",
    "id": "xHwfW3GO5W11"
   },
   "source": [
    "## Coding Techniques Practice"
   ]
  },
  {
   "cell_type": "markdown",
   "metadata": {
    "colab_type": "text",
    "id": "0JzPkQpI5dqO"
   },
   "source": [
    "## Lists"
   ]
  },
  {
   "cell_type": "markdown",
   "metadata": {
    "colab_type": "text",
    "id": "m--WU1jWUqaw"
   },
   "source": [
    "#### Create List"
   ]
  },
  {
   "cell_type": "code",
   "execution_count": 4,
   "metadata": {
    "colab": {
     "base_uri": "https://localhost:8080/",
     "height": 51
    },
    "colab_type": "code",
    "id": "UKXBxnHWUiwf",
    "outputId": "4e1d271f-d0ed-4c51-f610-5985c8044f73"
   },
   "outputs": [
    {
     "name": "stdout",
     "output_type": "stream",
     "text": [
      "[0, 1, 2, 3, 4, 5]\n",
      "Pass\n"
     ]
    }
   ],
   "source": [
    "# create a list with 0-5 using range\n",
    "def create_list():\n",
    "    data = \n",
    "    \n",
    "    return data\n",
    "print(create_list())\n",
    "print (\"Pass\" if ([0,1,2,3,4,5] == create_list()) else \"Fail\")"
   ]
  },
  {
   "cell_type": "markdown",
   "metadata": {
    "colab_type": "text",
    "id": "joHDnv7ZGgKb"
   },
   "source": [
    "##### Loop through and List\n"
   ]
  },
  {
   "cell_type": "code",
   "execution_count": null,
   "metadata": {
    "colab": {
     "base_uri": "https://localhost:8080/",
     "height": 51
    },
    "colab_type": "code",
    "id": "TaIhuXCVGZdX",
    "outputId": "f84b600b-19f3-49c4-85f0-1d581fba89d9"
   },
   "outputs": [
    {
     "name": "stdout",
     "output_type": "stream",
     "text": [
      "23567\n",
      "Pass\n"
     ]
    }
   ],
   "source": [
    "#loop through list return string of items - use range - output: 12345\n",
    "def loop_array(arr):\n",
    "    output = ''\n",
    "    \n",
    "    return output\n",
    "print(loop_array([2,3,5,6,7]))\n",
    "print (\"Pass\" if ('23567' == loop_array([2,3,5,6,7])) else \"Fail\")"
   ]
  },
  {
   "cell_type": "code",
   "execution_count": null,
   "metadata": {
    "colab": {
     "base_uri": "https://localhost:8080/",
     "height": 34
    },
    "colab_type": "code",
    "id": "LkkVqWZ2KvW-",
    "outputId": "567a1fe1-51dd-4ef5-c9f1-b45ef075f1d5"
   },
   "outputs": [
    {
     "name": "stdout",
     "output_type": "stream",
     "text": [
      "Pass\n"
     ]
    }
   ],
   "source": [
    "#loop through list return string of items - no not use an iteration do join\n",
    "def loop_array(arr):\n",
    "   \n",
    "    return ''.join(arr)\n",
    "\n",
    "print (\"Pass\" if ('23567' == loop_array(['2','3','5','6','7'])) else \"Fail\")"
   ]
  },
  {
   "cell_type": "code",
   "execution_count": null,
   "metadata": {
    "colab": {
     "base_uri": "https://localhost:8080/",
     "height": 34
    },
    "colab_type": "code",
    "id": "Dw2OZ6XS_cog",
    "outputId": "3c1c95ea-b852-4cd2-cb49-3b33c726a202"
   },
   "outputs": [
    {
     "name": "stdout",
     "output_type": "stream",
     "text": [
      "Pass\n"
     ]
    }
   ],
   "source": [
    "#loop through list - get index and value - get return dict of index and value\n",
    "def loop_array(arr):\n",
    "    output = {}\n",
    "    for i, v in enumerate(arr):\n",
    "      output[i] = v\n",
    "   \n",
    "    return output\n",
    "\n",
    "print (\"Pass\" if ({0: 2, 1: 3, 2: 5, 3: 6, 4: 7} == loop_array([2,3,5,6,7])) else \"Fail\")"
   ]
  },
  {
   "cell_type": "code",
   "execution_count": null,
   "metadata": {
    "colab": {
     "base_uri": "https://localhost:8080/",
     "height": 51
    },
    "colab_type": "code",
    "id": "By-8G26lHEye",
    "outputId": "29595d79-44f5-47d7-f65e-9de0a2c950cc"
   },
   "outputs": [
    {
     "name": "stdout",
     "output_type": "stream",
     "text": [
      "\n",
      "Fail\n"
     ]
    }
   ],
   "source": [
    "#loop through list brackwards  return string of items - use range\n",
    "def loop_array_backwards(arr):\n",
    "    output = ''\n",
    " \n",
    "    for i in range(len(arr)-1, -1, -1):\n",
    "      output += str(arr[i])\n",
    "    print(output)\n",
    "    return output\n",
    "print(loop_array_backwards([2,3,5,6,7]))\n",
    "print (\"Pass\" if ('76532' == loop_array_backwards([2,3,5,6,7])) else \"Fail\")"
   ]
  },
  {
   "cell_type": "code",
   "execution_count": null,
   "metadata": {
    "colab": {
     "base_uri": "https://localhost:8080/",
     "height": 34
    },
    "colab_type": "code",
    "id": "TgmKUdcGSe9w",
    "outputId": "7e81c963-ebba-4b9c-de4e-1e6ce1da3863"
   },
   "outputs": [
    {
     "name": "stdout",
     "output_type": "stream",
     "text": [
      "Pass\n"
     ]
    }
   ],
   "source": [
    "#loop through list brackwards  return string of items - don't use range\n",
    "def loop_array_backwards(arr):\n",
    "    output = ''\n",
    " \n",
    "    for i in arr[::-1]:\n",
    "        output += str(i)\n",
    "    return output\n",
    "print(loop_array_backwards([2,3,5,6,7]))\n",
    "print (\"Pass\" if ('76532' == loop_array_backwards([2,3,5,6,7])) else \"Fail\")"
   ]
  },
  {
   "cell_type": "code",
   "execution_count": null,
   "metadata": {
    "colab": {
     "base_uri": "https://localhost:8080/",
     "height": 51
    },
    "colab_type": "code",
    "id": "EZe9vCD4HZI0",
    "outputId": "14ab9182-f781-4013-efa3-443b8f31d1c4"
   },
   "outputs": [
    {
     "name": "stdout",
     "output_type": "stream",
     "text": [
      "752\n",
      "Pass\n"
     ]
    }
   ],
   "source": [
    "#loop through list backwards by two -  return string of items - use range\n",
    "def loop_array_backwards_by_two(arr):\n",
    "    output = ''\n",
    "\n",
    "    for i in range(len(arr)-1, -1, -2):\n",
    "        output += str(arr[i])\n",
    " \n",
    "    return output\n",
    "print(loop_array_backwards_by_two([2,3,5,6,7]))\n",
    "print (\"Pass\" if ('752' == loop_array_backwards_by_two([2,3,5,6,7])) else \"Fail\")"
   ]
  },
  {
   "cell_type": "code",
   "execution_count": null,
   "metadata": {
    "colab": {
     "base_uri": "https://localhost:8080/",
     "height": 51
    },
    "colab_type": "code",
    "id": "swTgwNAwHhdF",
    "outputId": "3e42cf04-92a4-45d5-b837-1dd2c1fb05c4"
   },
   "outputs": [
    {
     "name": "stdout",
     "output_type": "stream",
     "text": [
      "257\n",
      "Pass\n"
     ]
    }
   ],
   "source": [
    "#loop through list forwards_by_two  return string of items\n",
    "def loop_array_forwards_by_two(arr):\n",
    "    output = ''\n",
    "\n",
    "    \n",
    "  \n",
    "\n",
    "\n",
    "    return output\n",
    "\n",
    "print(loop_array_forwards_by_two([2,3,5,6,7]))\n",
    "print (\"Pass\" if ('257' == loop_array_forwards_by_two([2,3,5,6,7])) else \"Fail\")"
   ]
  },
  {
   "cell_type": "code",
   "execution_count": null,
   "metadata": {
    "colab": {
     "base_uri": "https://localhost:8080/",
     "height": 51
    },
    "colab_type": "code",
    "id": "_ezQcovTHtZl",
    "outputId": "85ff3406-de81-4332-a6a9-c38de3d2539f"
   },
   "outputs": [
    {
     "name": "stdout",
     "output_type": "stream",
     "text": [
      "yppah\n",
      "Pass\n"
     ]
    }
   ],
   "source": [
    "## reverse string with stack made with list\n",
    "def reverse_string_with_stack(data):\n",
    "    output = ''\n",
    "  \n",
    "    \n",
    "    return output\n",
    "print(reverse_string_with_stack('happy'))\n",
    "print (\"Pass\" if ('yppah' == reverse_string_with_stack('happy')) else \"Fail\")"
   ]
  },
  {
   "cell_type": "code",
   "execution_count": null,
   "metadata": {
    "colab": {
     "base_uri": "https://localhost:8080/",
     "height": 68
    },
    "colab_type": "code",
    "id": "77nW9M2p1hla",
    "outputId": "d64150f6-7255-4680-8bdc-5e7ff801ece4"
   },
   "outputs": [
    {
     "name": "stdout",
     "output_type": "stream",
     "text": [
      "[1, 'b', 'c', 'd']\n",
      "Pass\n",
      "[1, 'b', 'c', 'd']\n"
     ]
    }
   ],
   "source": [
    "## make a copy of the list change first element to 1 return copy - do not use copy function\n",
    "def copy_list(arr):\n",
    "    list_copy = arr.copy()\n",
    "\n",
    "    list_copy[0] = 1\n",
    "\n",
    "    return list_copy\n",
    "\n",
    "print(copy_list(['a', 'b', 'c', 'd']))\n",
    "arr = ['a', 'b', 'c', 'd']\n",
    "print (\"Pass\" if ([1, 'b', 'c', 'd'] == copy_list(arr)) else \"Fail\")\n",
    "print(arr)"
   ]
  },
  {
   "cell_type": "code",
   "execution_count": null,
   "metadata": {
    "colab": {
     "base_uri": "https://localhost:8080/",
     "height": 34
    },
    "colab_type": "code",
    "id": "ZG5om2srFx79",
    "outputId": "608e7ff7-3ac2-4718-807f-e001c3606dec"
   },
   "outputs": [
    {
     "name": "stdout",
     "output_type": "stream",
     "text": [
      "Pass\n"
     ]
    }
   ],
   "source": [
    "## fill array with 5 zeros - also try with range comprehension\n",
    "def fill_array():\n",
    "    \n",
    "    \n",
    "    return arr\n",
    "\n",
    "print (\"Pass\" if ([0,0,0,0,0] == fill_array()) else \"Fail\")"
   ]
  },
  {
   "cell_type": "code",
   "execution_count": null,
   "metadata": {
    "colab": {
     "base_uri": "https://localhost:8080/",
     "height": 34
    },
    "colab_type": "code",
    "id": "jBeFuK_FbOY-",
    "outputId": "1bc84f87-bef3-44cd-e218-c9957d2269d4"
   },
   "outputs": [
    {
     "name": "stdout",
     "output_type": "stream",
     "text": [
      "Pass\n"
     ]
    }
   ],
   "source": [
    "# Create a 2d array .size 4 x 4 filled with zeros. -- use range comprehension\n",
    "\n",
    "def create_array():\n",
    "   \n",
    "    \n",
    "    return arr\n",
    "\n",
    "print (\"Pass\" if ([[0,0,0,0],[0,0,0,0],[0,0,0,0],[0,0,0,0]] == create_array()) else \"Fail\")"
   ]
  },
  {
   "cell_type": "code",
   "execution_count": 6,
   "metadata": {
    "colab": {
     "base_uri": "https://localhost:8080/",
     "height": 51
    },
    "colab_type": "code",
    "id": "gMSZr-HGV_Ee",
    "outputId": "4a773538-4c64-4caf-92cf-70380bf8b4d1"
   },
   "outputs": [
    {
     "name": "stdout",
     "output_type": "stream",
     "text": [
      "[(1, 'a'), (1, 'b'), (3, 'a'), (3, 'b'), (5, 'a'), (5, 'b')]\n",
      "Pass\n"
     ]
    }
   ],
   "source": [
    "# combine to arrays in all pairs with list comprehsnsions\n",
    "\n",
    "def create_array(A, B):\n",
    "    \n",
    "    return \n",
    "A = [1, 3, 5]\n",
    "B = ['a', 'b']\n",
    "print( create_array(A, B))\n",
    "print (\"Pass\" if ([(1, 'a'), (1, 'b'), (3, 'a'), (3, 'b'), (5, 'a'), (5, 'b')] == create_array(A, B)) else \"Fail\")\n",
    "\n",
    "#  [(x, y) for x in A for y in B]"
   ]
  },
  {
   "cell_type": "code",
   "execution_count": null,
   "metadata": {
    "colab": {},
    "colab_type": "code",
    "id": "FSHFWz8bbOj2"
   },
   "outputs": [],
   "source": []
  },
  {
   "cell_type": "markdown",
   "metadata": {
    "colab_type": "text",
    "id": "dD2_FDBOM4x6"
   },
   "source": [
    "##### List Functions"
   ]
  },
  {
   "cell_type": "code",
   "execution_count": null,
   "metadata": {
    "colab": {
     "base_uri": "https://localhost:8080/",
     "height": 51
    },
    "colab_type": "code",
    "id": "tnXYez95MHth",
    "outputId": "e04b9e79-628d-4085-dad7-25662f9f7c41"
   },
   "outputs": [
    {
     "name": "stdout",
     "output_type": "stream",
     "text": [
      "xhg\n",
      "Pass\n"
     ]
    }
   ],
   "source": [
    "## list functions\n",
    "# create list\n",
    "\n",
    "def list_functions():\n",
    "  output_list = []\n",
    "  #add string to list  'a' 'x' 'c' 'd' ins stack order\n",
    "  output_list.append('a')\n",
    "  output_list.append('x')\n",
    "  output_list.append('c')\n",
    "  output_list.append('d')\n",
    "  # delete one from the end\n",
    "  output_list.pop()\n",
    "  \n",
    "  # add string to stack .  'h'\n",
    "  output_list.append('h')\n",
    "  # remove first element\n",
    "  output_list.pop(0)\n",
    "  # add 'g' to index 2 \n",
    "  output_list.insert(2, 'g')\n",
    "\n",
    "  # remove at index 1\n",
    "  output_list.pop(1)\n",
    "  # sort it \n",
    "  output_list.sort()\n",
    "\n",
    "  # reverse it\n",
    "  output_list.reverse()\n",
    "  # convert results to string\n",
    "  output = ''\n",
    "  for i in output_list:\n",
    "      output += i\n",
    "  print(output)\n",
    "  return output\n",
    "\n",
    "\n",
    "print (\"Pass\" if ('xhg' == list_functions()) else \"Fail\")"
   ]
  },
  {
   "cell_type": "code",
   "execution_count": null,
   "metadata": {
    "colab": {
     "base_uri": "https://localhost:8080/",
     "height": 153
    },
    "colab_type": "code",
    "id": "5EBWDgbXLWS0",
    "outputId": "450dde7a-ba4f-4bfa-f37a-da46851f5470"
   },
   "outputs": [
    {
     "name": "stdout",
     "output_type": "stream",
     "text": [
      "True\n",
      "2\n",
      "3\n",
      "3\n",
      "2\n",
      "False\n",
      "[1, 2]\n",
      "Pass\n"
     ]
    }
   ],
   "source": [
    "## Create a stack with the following functions\n",
    "\n",
    "class Stack:\n",
    "    def __init__(self):  \n",
    "        self.stack = []\n",
    "        \n",
    "    def push(self, item):\n",
    "        self.stack.append(item)\n",
    "    \n",
    "    def pop(self):               \n",
    "        return self.stack.pop() \n",
    "    \n",
    "    def peek(self):\n",
    "        return self.stack[-1]\n",
    "        \n",
    "    def size(self):\n",
    "        return len(self.stack)\n",
    "            \n",
    "    def is_empty(self):\n",
    "        return len(self.stack) == 0\n",
    "        \n",
    "    def __str__(self):\n",
    "        \n",
    "\n",
    "        return str(self.stack)\n",
    "  \n",
    "    \n",
    "stack = Stack()\n",
    "print(stack.is_empty())\n",
    "stack.push(1)\n",
    "stack.push(2)\n",
    "\n",
    "print(stack.peek())\n",
    "stack.push(3)\n",
    "print(stack.size())\n",
    "print(stack.pop())\n",
    "print(stack.size())\n",
    "print(stack.is_empty())  \n",
    "print(stack)\n",
    "\n",
    "print (\"Pass\" if ([1, 2] == stack.stack) else \"Fail\")\n",
    "\n"
   ]
  },
  {
   "cell_type": "markdown",
   "metadata": {
    "colab_type": "text",
    "id": "0oUaM6fS1uAe"
   },
   "source": [
    "## Balance Parenthese\n",
    "Use the above stack to solve this problem\n"
   ]
  },
  {
   "cell_type": "code",
   "execution_count": null,
   "metadata": {
    "colab": {},
    "colab_type": "code",
    "id": "Jsyw3G301sCC"
   },
   "outputs": [],
   "source": [
    "def equation_checker(equation):\n",
    "    \"\"\"\n",
    "    Check equation for balanced parentheses\n",
    "\n",
    "    Args:\n",
    "       equation(string): String form of equation\n",
    "    Returns:\n",
    "       bool: Return if parentheses are balanced or not\n",
    "    \"\"\"\n",
    "    \n",
    "    pass\n",
    "\n",
    "print (\"Pass\" if (equation_checker('((3^2 + 8)*(5/2))/(2+6)')) else \"Fail\")\n",
    "print (\"Pass\" if not (equation_checker('((3^2 + 8)*(5/2))/(2+6))')) else \"Fail\")"
   ]
  },
  {
   "cell_type": "markdown",
   "metadata": {
    "colab_type": "text",
    "id": "wdVIw9aF5ff0"
   },
   "source": [
    "#### Reverse Strings"
   ]
  },
  {
   "cell_type": "code",
   "execution_count": null,
   "metadata": {
    "colab": {},
    "colab_type": "code",
    "id": "tWKeKFEA5kzd"
   },
   "outputs": [],
   "source": [
    "# Code\n",
    "\n",
    "def string_reverser(our_string):\n",
    "\n",
    "    \"\"\"\n",
    "    Reverse the input string\n",
    "\n",
    "    Args:\n",
    "       our_string(string): String to be reversed\n",
    "    Returns:\n",
    "       string: The reversed string\n",
    "    \"\"\"\n",
    "    \n",
    "    # TODO: Write your solution here\n",
    "   pass"
   ]
  },
  {
   "cell_type": "code",
   "execution_count": null,
   "metadata": {
    "colab": {
     "base_uri": "https://localhost:8080/",
     "height": 68
    },
    "colab_type": "code",
    "id": "_21z4Rzn5tom",
    "outputId": "79c4b32b-09af-45ca-b007-7620be239128"
   },
   "outputs": [
    {
     "name": "stdout",
     "output_type": "stream",
     "text": [
      "Pass\n",
      "Pass\n",
      "Pass\n"
     ]
    }
   ],
   "source": [
    "# Test Cases\n",
    "\n",
    "print (\"Pass\" if ('retaw' == string_reverser('water')) else \"Fail\")\n",
    "print (\"Pass\" if ('!noitalupinam gnirts gnicitcarP' == string_reverser('Practicing string manipulation!')) else \"Fail\")\n",
    "print (\"Pass\" if ('3432 :si edoc esuoh ehT' == string_reverser('The house code is: 2343')) else \"Fail\")"
   ]
  },
  {
   "cell_type": "markdown",
   "metadata": {
    "colab_type": "text",
    "id": "V0od4AtQ__iP"
   },
   "source": [
    "solution"
   ]
  },
  {
   "cell_type": "markdown",
   "metadata": {
    "colab_type": "text",
    "id": "Lph3ah4R5-iE"
   },
   "source": [
    "### Anagram Checker"
   ]
  },
  {
   "cell_type": "code",
   "execution_count": null,
   "metadata": {
    "colab": {},
    "colab_type": "code",
    "id": "8ZzGuPTK5zA-"
   },
   "outputs": [],
   "source": [
    "# Code\n",
    "\n",
    "def anagram_checker(str1, str2):\n",
    "\n",
    "    \"\"\"\n",
    "    Check if the input strings are anagrams of each other\n",
    "\n",
    "    Args:\n",
    "       str1(string),str2(string): Strings to be checked\n",
    "    Returns:\n",
    "       bool: Indicates whether strings are anagrams\n",
    "    \"\"\"\n",
    "    \n",
    "    # TODO: Write your solution here\n",
    "    \n",
    "    pass\n",
    "    "
   ]
  },
  {
   "cell_type": "code",
   "execution_count": null,
   "metadata": {
    "colab": {
     "base_uri": "https://localhost:8080/",
     "height": 102
    },
    "colab_type": "code",
    "id": "MfNzoNdA6EI1",
    "outputId": "2225eedc-d513-43cc-89f6-de13646fed11"
   },
   "outputs": [
    {
     "name": "stdout",
     "output_type": "stream",
     "text": [
      "Pass\n",
      "Pass\n",
      "Pass\n",
      "Pass\n",
      "Pass\n"
     ]
    }
   ],
   "source": [
    "# Test Cases\n",
    "\n",
    "print (\"Pass\" if not (anagram_checker('water','waiter')) else \"Fail\")\n",
    "print (\"Pass\" if anagram_checker('Dormitory','Dirty room') else \"Fail\")\n",
    "print (\"Pass\" if anagram_checker('Slot machines', 'Cash lost in me') else \"Fail\")\n",
    "print (\"Pass\" if not (anagram_checker('A gentleman','Elegant men')) else \"Fail\")\n",
    "print (\"Pass\" if anagram_checker('Time and tide wait for no man','Notified madman into water') else \"Fail\")"
   ]
  },
  {
   "cell_type": "markdown",
   "metadata": {
    "colab_type": "text",
    "id": "AyYGTnVKbIj6"
   },
   "source": [
    "### Reverse the words in sentence"
   ]
  },
  {
   "cell_type": "code",
   "execution_count": null,
   "metadata": {
    "colab": {},
    "colab_type": "code",
    "id": "pQRs3oai6E1e"
   },
   "outputs": [],
   "source": [
    "# Code \n",
    "\n",
    "def word_flipper(our_string):\n",
    "\n",
    "    \"\"\"\n",
    "    Flip the individual words in a sentence\n",
    "\n",
    "    Args:\n",
    "       our_string(string): String with words to flip\n",
    "    Returns:\n",
    "       string: String with words flipped\n",
    "    \"\"\"\n",
    "    \n",
    "    # TODO: Write your solution here\n",
    "    \n",
    "    pass\n",
    "    # "
   ]
  },
  {
   "cell_type": "code",
   "execution_count": null,
   "metadata": {
    "colab": {
     "base_uri": "https://localhost:8080/",
     "height": 68
    },
    "colab_type": "code",
    "id": "0xJahd54cRro",
    "outputId": "ed02f9cf-cb51-4bee-d30c-b7b1fa45bef6"
   },
   "outputs": [
    {
     "name": "stdout",
     "output_type": "stream",
     "text": [
      "Fail\n",
      "Fail\n",
      "Fail\n"
     ]
    }
   ],
   "source": [
    "# Test Cases\n",
    "\n",
    "print (\"Pass\" if ('retaw' == word_flipper('water')) else \"Fail\")\n",
    "print (\"Pass\" if ('sihT si na elpmaxe' == word_flipper('This is an example')) else \"Fail\")\n",
    "print (\"Pass\" if ('sihT si eno llams pets rof ...' == word_flipper('This is one small step for ...')) else \"Fail\")"
   ]
  },
  {
   "cell_type": "markdown",
   "metadata": {
    "colab_type": "text",
    "id": "yMaiPG6ZOn1i"
   },
   "source": [
    "## Hamming Distance"
   ]
  },
  {
   "cell_type": "code",
   "execution_count": null,
   "metadata": {
    "colab": {},
    "colab_type": "code",
    "id": "1kI4BkXleuU7"
   },
   "outputs": [],
   "source": [
    "# Code\n",
    "\n",
    "def hamming_distance_s(str1, str2):\n",
    "\n",
    "    \"\"\"\n",
    "    Calculate the hamming distance of the two strings\n",
    "\n",
    "    Args:\n",
    "       str1(string),str2(string): Strings to be used for finding the hamming distance\n",
    "    Returns:\n",
    "       int: Hamming Distance\n",
    "    \"\"\"\n",
    "    \n",
    "    # TODO: Write your solution here\n",
    "    hamming_distance = 0\n",
    "    \n",
    "    if len(str1) != len(str2):\n",
    "        return None\n",
    "  \n",
    "    for i in range(0, len(str1)):\n",
    "        if str1[i] != str2[i]:\n",
    "            hamming_distance += 1\n",
    "    \n",
    "    return hamming_distance"
   ]
  },
  {
   "cell_type": "code",
   "execution_count": null,
   "metadata": {
    "colab": {},
    "colab_type": "code",
    "id": "WHs-YkO6jSWF"
   },
   "outputs": [],
   "source": []
  },
  {
   "cell_type": "markdown",
   "metadata": {
    "colab_type": "text",
    "id": "2LTJyVfdJfpz"
   },
   "source": [
    "## Linked List"
   ]
  },
  {
   "cell_type": "code",
   "execution_count": null,
   "metadata": {
    "colab": {},
    "colab_type": "code",
    "id": "rdF5AERIJhLI"
   },
   "outputs": [],
   "source": [
    "class Node:\n",
    "    def __init__(self, value):\n",
    "        self.value = value\n",
    "        self.next = None\n",
    "      \n",
    "class LinkedList:\n",
    "    def __init__(self):\n",
    "        self.head = None\n",
    "        \n",
    "    def prepend(self, value):\n",
    "        \"\"\" Prepend a value to the beginning of the list. \"\"\"\n",
    "        \n",
    "        # TODO: Write function to prepend here\n",
    "        pass\n",
    "           \n",
    "    def append(self, value):\n",
    "        \"\"\" Append a value to the end of the list. \"\"\"\n",
    "        \n",
    "        # TODO: Write function to append here\n",
    "        pass\n",
    "    \n",
    "    def search(self, value):\n",
    "        \"\"\" Search the linked list for a node with the requested value and return the node. \"\"\"\n",
    "        \n",
    "        # TODO: Write function to search here\n",
    "        \n",
    "        pass\n",
    "    \n",
    "    def remove(self, value):\n",
    "        \"\"\" Remove first occurrence of value. \"\"\"\n",
    "        \n",
    "        # TODO: Write function to remove here\n",
    "        \n",
    "        pass\n",
    "    \n",
    "    def pop(self):\n",
    "        \"\"\" Return the first node's value and remove it from the list. \"\"\"\n",
    "        \n",
    "        # TODO: Write function to pop here\n",
    "        \n",
    "        pass\n",
    "    \n",
    "    def insert(self, value, pos):\n",
    "        \"\"\" Insert value at pos position in the list. If pos is larger than the\n",
    "            length of the list, append to the end of the list. \"\"\"\n",
    "        \n",
    "        # TODO: Write function to insert here\n",
    "        \n",
    "        pass\n",
    "    \n",
    "    def size(self):\n",
    "        \"\"\" Return the size or length of the linked list. \"\"\"\n",
    "        \n",
    "        \n",
    "        # TODO: Write function to get size here\n",
    "        \n",
    "        pass\n",
    "    \n",
    "    def to_list(self):\n",
    "        out = []\n",
    "        node = self.head\n",
    "        while node:\n",
    "            out.append(node.value)\n",
    "            node = node.next\n",
    "        return out"
   ]
  },
  {
   "cell_type": "code",
   "execution_count": null,
   "metadata": {
    "colab": {},
    "colab_type": "code",
    "id": "IiCRd3tGJom9"
   },
   "outputs": [],
   "source": [
    "## Test your implementation here\n",
    "\n",
    "# Test prepend\n",
    "linked_list = LinkedList()\n",
    "linked_list.prepend(1)\n",
    "assert linked_list.to_list() == [1], f\"list contents: {linked_list.to_list()}\"\n",
    "linked_list.append(3)\n",
    "linked_list.prepend(2)\n",
    "assert linked_list.to_list() == [2, 1, 3], f\"list contents: {linked_list.to_list()}\"\n",
    "    \n",
    "# Test append\n",
    "linked_list = LinkedList()\n",
    "linked_list.append(1)\n",
    "assert linked_list.to_list() == [1], f\"list contents: {linked_list.to_list()}\"\n",
    "linked_list.append(3)\n",
    "assert linked_list.to_list() == [1, 3], f\"list contents: {linked_list.to_list()}\"\n",
    "\n",
    "# Test search\n",
    "linked_list.prepend(2)\n",
    "linked_list.prepend(1)\n",
    "linked_list.append(4)\n",
    "linked_list.append(3)\n",
    "assert linked_list.search(1).value == 1, f\"list contents: {linked_list.to_list()}\"\n",
    "assert linked_list.search(4).value == 4, f\"list contents: {linked_list.to_list()}\"\n",
    "\n",
    "# Test remove\n",
    "linked_list.remove(1)\n",
    "assert linked_list.to_list() == [2, 1, 3, 4, 3], f\"list contents: {linked_list.to_list()}\"\n",
    "linked_list.remove(3)\n",
    "assert linked_list.to_list() == [2, 1, 4, 3], f\"list contents: {linked_list.to_list()}\"\n",
    "linked_list.remove(3)\n",
    "assert linked_list.to_list() == [2, 1, 4], f\"list contents: {linked_list.to_list()}\"\n",
    "\n",
    "# Test pop\n",
    "value = linked_list.pop()\n",
    "assert value == 2, f\"list contents: {linked_list.to_list()}\"\n",
    "assert linked_list.head.value == 1, f\"list contents: {linked_list.to_list()}\"\n",
    "\n",
    "# Test insert \n",
    "linked_list.insert(5, 0)\n",
    "assert linked_list.to_list() == [5, 1, 4], f\"list contents: {linked_list.to_list()}\"\n",
    "linked_list.insert(2, 1)\n",
    "assert linked_list.to_list() == [5, 2, 1, 4], f\"list contents: {linked_list.to_list()}\"\n",
    "linked_list.insert(3, 6)\n",
    "assert linked_list.to_list() == [5, 2, 1, 4, 3], f\"list contents: {linked_list.to_list()}\"\n",
    "\n",
    "# Test size\n",
    "assert linked_list.size() == 5, f\"list contents: {linked_list.to_list()}\""
   ]
  },
  {
   "cell_type": "markdown",
   "metadata": {
    "colab_type": "text",
    "id": "8waGYTIrjtif"
   },
   "source": [
    "### Reverse a linked list"
   ]
  },
  {
   "cell_type": "code",
   "execution_count": null,
   "metadata": {
    "colab": {},
    "colab_type": "code",
    "id": "SmvGnRQCjsLK"
   },
   "outputs": [],
   "source": [
    "# Helper Code\n",
    "\n",
    "class Node:\n",
    "    def __init__(self, value):\n",
    "        self.value = value\n",
    "        self.next = None\n",
    "\n",
    "class LinkedList:\n",
    "    def __init__(self):\n",
    "        self.head = None\n",
    "        \n",
    "    def append(self, value):\n",
    "        if self.head is None:\n",
    "            self.head = Node(value)\n",
    "            return\n",
    "        \n",
    "        node = self.head\n",
    "        while node.next:\n",
    "            node = node.next\n",
    "\n",
    "        node.next = Node(value)\n",
    "        \n",
    "    def __iter__(self):\n",
    "        node = self.head\n",
    "        while node:\n",
    "            yield node.value\n",
    "            node = node.next\n",
    "            \n",
    "    def __repr__(self):\n",
    "        return str([v for v in self])"
   ]
  },
  {
   "cell_type": "code",
   "execution_count": null,
   "metadata": {
    "colab": {},
    "colab_type": "code",
    "id": "jvSEVWBBjvZI"
   },
   "outputs": [],
   "source": [
    "def reverse(linked_list):\n",
    "    \"\"\"\n",
    "    Reverse the inputted linked list\n",
    "\n",
    "    Args:\n",
    "       linked_list(obj): Linked List to be reversed\n",
    "    Returns:\n",
    "       obj: Reveresed Linked List\n",
    "    \"\"\"\n",
    "    \n",
    "    # TODO: Write your function to reverse linked lists here\n",
    "    \n",
    "    pass"
   ]
  },
  {
   "cell_type": "code",
   "execution_count": null,
   "metadata": {
    "colab": {},
    "colab_type": "code",
    "id": "k7zfQZx3j34V"
   },
   "outputs": [],
   "source": [
    "llist = LinkedList()\n",
    "for value in [4,2,5,1,-3,0]:\n",
    "    llist.append(value)\n",
    "\n",
    "flipped = reverse(llist)\n",
    "is_correct = list(flipped) == list([0,-3,1,5,2,4]) and list(llist) == list(reverse(flipped))\n",
    "print(\"Pass\" if is_correct else \"Fail\")"
   ]
  },
  {
   "cell_type": "code",
   "execution_count": null,
   "metadata": {
    "colab": {},
    "colab_type": "code",
    "id": "2QI2wwI6j4Wj"
   },
   "outputs": [],
   "source": [
    "# Solution\n",
    "\n",
    "class Node:\n",
    "    def __init__(self, value):\n",
    "        self.value = value\n",
    "        self.next = None\n",
    "\n",
    "class LinkedList:\n",
    "    def __init__(self):\n",
    "        self.head = None\n",
    "        \n",
    "    def append(self, value):\n",
    "        if self.head is None:\n",
    "            self.head = Node(value)\n",
    "            return\n",
    "        \n",
    "        node = self.head\n",
    "        while node.next:\n",
    "            node = node.next\n",
    "\n",
    "        node.next = Node(value)\n",
    "        \n",
    "    def __iter__(self):\n",
    "        node = self.head\n",
    "        while node:\n",
    "            yield node.value\n",
    "            node = node.next\n",
    "            \n",
    "    def __repr__(self):\n",
    "        return str([v for v in self])\n",
    "\n",
    "# Time complexity O(N)\n",
    "def reverse(linked_list):\n",
    "    \"\"\"\n",
    "    Reverse the inputted linked list\n",
    "\n",
    "    Args:\n",
    "       linked_list(obj): Linked List to be reversed\n",
    "    Returns:\n",
    "       obj: Reveresed Linked List\n",
    "    \"\"\"\n",
    "    new_list = LinkedList()\n",
    "    node = linked_list.head\n",
    "    prev_node = None\n",
    "\n",
    "    # A bit of a complex operation here. We want to take the\n",
    "    # node from the original linked list and prepend it to \n",
    "    # the new linked list\n",
    "    for value in linked_list:\n",
    "        new_node = Node(value)\n",
    "        new_node.next = prev_node\n",
    "        prev_node = new_node\n",
    "    new_list.head = prev_node\n",
    "    return new_list\n",
    "\n",
    "llist = LinkedList()\n",
    "for value in [4,2,5,1,-3,0]:\n",
    "    llist.append(value)\n",
    "\n",
    "flipped = reverse(llist)\n",
    "is_correct = list(flipped) == list([0,-3,1,5,2,4]) and list(llist) == list(reverse(flipped))\n",
    "print(\"Pass\" if is_correct else \"Fail\")\n"
   ]
  },
  {
   "cell_type": "markdown",
   "metadata": {
    "colab_type": "text",
    "id": "DYmB2TtWAu01"
   },
   "source": [
    "# algos to add\n",
    "* string methods\n",
    "* dictionary \n",
    "* sets\n",
    "* deque\n",
    "* max sums \n",
    "* coin change\n",
    "* dfs\n",
    "* bfs"
   ]
  },
  {
   "cell_type": "code",
   "execution_count": null,
   "metadata": {
    "colab": {},
    "colab_type": "code",
    "id": "9LpOBCLyA85g"
   },
   "outputs": [],
   "source": [
    "# Code binary search iteratively\n",
    "def binary_search(array, target):\n",
    "\n",
    "\n",
    "\n",
    "def test_function(test_case):\n",
    "    answer = binary_search(test_case[0], test_case[1])\n",
    "    if answer == test_case[2]:\n",
    "        print(\"Pass!\")\n",
    "    else:\n",
    "        print(\"Fail!\")\n",
    "\n",
    "array = [0, 1, 2, 3, 4, 5, 6, 7, 8, 9, 10]\n",
    "target = 6\n",
    "index = 6\n",
    "test_case = [array, target, index]\n",
    "test_function(test_case)"
   ]
  },
  {
   "cell_type": "code",
   "execution_count": null,
   "metadata": {
    "colab": {},
    "colab_type": "code",
    "id": "Ff0tfreScnOq"
   },
   "outputs": [],
   "source": [
    "# Code binary search recursively\n",
    "def binary_search_recursive():\n",
    "\n",
    "\n",
    "  \n",
    "def test_function(test_case):\n",
    "    answer = binary_search_recursive(test_case[0], test_case[1])\n",
    "    if answer == test_case[2]:\n",
    "        print(\"Pass!\")\n",
    "    else:\n",
    "        print(\"Fail!\")\n",
    "        \n",
    "array = [0, 1, 2, 3, 4, 5, 6, 7, 8, 9]\n",
    "target = 4\n",
    "index = 4\n",
    "test_case = [array, target, index]\n",
    "test_function(test_case)  "
   ]
  },
  {
   "cell_type": "code",
   "execution_count": null,
   "metadata": {
    "colab": {},
    "colab_type": "code",
    "id": "0XnL3nuqcnRd"
   },
   "outputs": [],
   "source": []
  },
  {
   "cell_type": "code",
   "execution_count": null,
   "metadata": {
    "colab": {},
    "colab_type": "code",
    "id": "RW0QL4TncnUM"
   },
   "outputs": [],
   "source": []
  }
 ],
 "metadata": {
  "colab": {
   "collapsed_sections": [],
   "name": "Common-Algorithm-Problems.ipynb",
   "provenance": []
  },
  "kernelspec": {
   "display_name": "Python 3",
   "language": "python",
   "name": "python3"
  },
  "language_info": {
   "codemirror_mode": {
    "name": "ipython",
    "version": 3
   },
   "file_extension": ".py",
   "mimetype": "text/x-python",
   "name": "python",
   "nbconvert_exporter": "python",
   "pygments_lexer": "ipython3",
   "version": "3.7.5"
  }
 },
 "nbformat": 4,
 "nbformat_minor": 4
}
