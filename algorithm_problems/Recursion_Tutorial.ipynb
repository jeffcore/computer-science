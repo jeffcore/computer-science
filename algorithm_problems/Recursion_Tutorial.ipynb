{
 "cells": [
  {
   "cell_type": "markdown",
   "metadata": {},
   "source": [
    "# Recursion\n",
    "1. Have a base case that ends recursive calls\n",
    "2. Function calls itself\n",
    "3. input is altered\n",
    "\n",
    "The power is always in the returning of the functions on the call stack\n",
    "Python has a limit on the depth of recursion to prevent a stack overflow. \n",
    "https://stackoverflow.com/questions/30214531/basics-of-recursion-in-python\n",
    "\n",
    "\n",
    "## How to analyze\n",
    "* data prep before rec call\n",
    "* use of rec call\n",
    "* what is the base case\n",
    "* post recursive call code that manipulates data\n",
    "* return data of rec call\n"
   ]
  },
  {
   "cell_type": "markdown",
   "metadata": {},
   "source": [
    "# Patterns\n",
    "1. Iteration\n",
    "    1. one recursive call - one variable\n",
    "    2. recursive tree - two recursive call - one variable TREE\n",
    "2. Breaking into Subproblems\n",
    "3. Selection\n",
    "4. Ordering\n",
    "5. Divide and Conquer\n",
    "6. Searching"
   ]
  },
  {
   "cell_type": "markdown",
   "metadata": {},
   "source": [
    "## Iteration\n",
    " * iterate over array/list using recursion\n",
    " * rarely useful except to simplify code\n",
    " * can replace for loop with recursive calls\n",
    "\n",
    "These are basic problems where:\n",
    "1. you have variable being passed to recursive funtion\n",
    "2. it is changed everytime it is called\n",
    "3. then you do something with the variable during the call\n",
    "\n",
    "The trick:\n",
    "1. depending on where you put the \"do something with variable\" decides in which order it is printed out\n",
    "2. examples below - before recursive call it prints in order of process\n",
    "                    after recursive call it prints in reverse"
   ]
  },
  {
   "cell_type": "markdown",
   "metadata": {},
   "source": [
    "### One Recursive call - One variable, One output \n",
    "these problems only deal with:\n",
    "1. only one variable that is altered\n",
    "2. outputs the variable in some way usually print or add to another array\n",
    "\n",
    "Since these problems only have one recursive call there is not a tree structure generated. It just adds the function calls to the call stack"
   ]
  },
  {
   "cell_type": "code",
   "execution_count": 2,
   "metadata": {},
   "outputs": [
    {
     "name": "stdout",
     "output_type": "stream",
     "text": [
      "5\n",
      "4\n",
      "3\n",
      "2\n",
      "1\n"
     ]
    }
   ],
   "source": [
    "def print_integers(n):\n",
    "    if n <= 0:\n",
    "        return \n",
    "    print(n)\n",
    "    print_integers(n-1)\n",
    "\n",
    "print_integers(5)"
   ]
  },
  {
   "cell_type": "code",
   "execution_count": 4,
   "metadata": {},
   "outputs": [
    {
     "name": "stdout",
     "output_type": "stream",
     "text": [
      "1\n",
      "2\n",
      "3\n",
      "4\n"
     ]
    }
   ],
   "source": [
    "# in reverse\n",
    "def print_integers_reversed(n):   \n",
    "    if n <= 0:\n",
    "        return \n",
    "\n",
    "    print_integers_reversed(n-1)       \n",
    "    print(n)\n",
    "\n",
    "print_integers_reversed(4)   "
   ]
  },
  {
   "cell_type": "markdown",
   "metadata": {},
   "source": [
    "#### Print Array Reversed\n",
    "in this code we have to \n",
    "1. store the element we wanted to print\n",
    "2. then print it after the recursive call \n",
    "3. the recursive call alters the array"
   ]
  },
  {
   "cell_type": "code",
   "execution_count": 7,
   "metadata": {},
   "outputs": [
    {
     "name": "stdout",
     "output_type": "stream",
     "text": [
      "5\n",
      "4\n",
      "3\n",
      "2\n",
      "1\n"
     ]
    }
   ],
   "source": [
    "## print array\n",
    "def print_array_reverse(arr):\n",
    "    if len(arr) == 0:\n",
    "        return\n",
    "    element = arr[0]\n",
    "    print_array_reverse(arr[1:])\n",
    "    print(str(element))\n",
    "    \n",
    "print_array_reverse([1,2,3,4,5])"
   ]
  },
  {
   "cell_type": "markdown",
   "metadata": {},
   "source": [
    "#### Print Linked List Reversed\n",
    "this uses the same pattern as the above"
   ]
  },
  {
   "cell_type": "code",
   "execution_count": 13,
   "metadata": {},
   "outputs": [
    {
     "name": "stdout",
     "output_type": "stream",
     "text": [
      "6\n",
      "5\n",
      "4\n",
      "3\n",
      "2\n",
      "1\n"
     ]
    }
   ],
   "source": [
    "class Node():\n",
    "    def __init__(self, value):\n",
    "        self.data = value\n",
    "        self.next = None\n",
    "        \n",
    "class LinkedList():\n",
    "    def __init__(self, node=None):\n",
    "        self.head = node        \n",
    "    \n",
    "    def add(self, node):\n",
    "        node.next = self.head\n",
    "        self.head = node\n",
    "        \n",
    "    def append(self, node):\n",
    "        if not self.head:\n",
    "            self.head = node\n",
    "            return\n",
    "        current = self.head\n",
    "        while current.next:\n",
    "            current = current.next\n",
    "        current.next = node\n",
    "            \n",
    "linklist = LinkedList()\n",
    "linklist.append(Node('1'))\n",
    "linklist.append(Node('2'))\n",
    "linklist.append(Node('3'))\n",
    "linklist.append(Node('4'))\n",
    "linklist.append(Node('5'))\n",
    "linklist.append(Node('6'))\n",
    "\n",
    "def print_reversed_linked_list(node):\n",
    "    if node == None:\n",
    "        return\n",
    "    print_reversed_linked_list(node.next)\n",
    "    print(node.data)\n",
    "\n",
    "print_reversed_linked_list(linklist.head)"
   ]
  },
  {
   "cell_type": "markdown",
   "metadata": {},
   "source": [
    "### Conditionals - One Recursive Call - One Variable - Variable is mutated \n",
    "* mutated into one or more other variables and use for a contition"
   ]
  },
  {
   "cell_type": "markdown",
   "metadata": {},
   "source": [
    " **is paladrome**\n",
    " * this mutates the array into two variables `first_char` and `last_char`\n",
    " * then uses these variables in a condition \n",
    " * if it ever become false it will bubble false up the entire stack"
   ]
  },
  {
   "cell_type": "code",
   "execution_count": 45,
   "metadata": {},
   "outputs": [
    {
     "name": "stdout",
     "output_type": "stream",
     "text": [
      "Pass\n",
      "Pass\n",
      "Pass\n",
      "Pass\n",
      "Pass\n"
     ]
    }
   ],
   "source": [
    "def is_palindrome(input):\n",
    "    \"\"\"\n",
    "    Return True if input is palindrome, False otherwise.\n",
    "    \n",
    "    Args:\n",
    "       input(str): input to be checked if it is palindrome\n",
    "    \"\"\"\n",
    "    if len(input) <= 0:\n",
    "        return True\n",
    "    \n",
    "    first_char = input[0]\n",
    "    last_char = input[-1]\n",
    " \n",
    "    return (first_char == last_char) and is_palindrome(input[1:-1])\n",
    "\n",
    "print (\"Pass\" if  (is_palindrome(\"\")) else \"Fail\")\n",
    "print (\"Pass\" if  (is_palindrome(\"a\")) else \"Fail\")\n",
    "print (\"Pass\" if  (is_palindrome(\"madam\")) else \"Fail\")\n",
    "print (\"Pass\" if  (is_palindrome(\"abba\")) else \"Fail\")\n",
    "print (\"Pass\" if not (is_palindrome(\"Udacity\")) else \"Fail\")"
   ]
  },
  {
   "cell_type": "markdown",
   "metadata": {},
   "source": [
    "### One Recursive Call - One variable or constant reused with recursive output\n",
    "1. these problems will use the original variable to perform an action with the output retured from the recusive call.  n * recursive_call(n-1)\n",
    "\n",
    "**Factorials**"
   ]
  },
  {
   "cell_type": "code",
   "execution_count": 21,
   "metadata": {},
   "outputs": [
    {
     "name": "stdout",
     "output_type": "stream",
     "text": [
      "3628800\n"
     ]
    }
   ],
   "source": [
    "def factorial(n):\n",
    "    if n == 1:\n",
    "        return 1\n",
    "    return n * factorial(n-1)\n",
    "print(factorial(10))"
   ]
  },
  {
   "cell_type": "markdown",
   "metadata": {},
   "source": [
    "**Sum of Integers**"
   ]
  },
  {
   "cell_type": "code",
   "execution_count": 34,
   "metadata": {},
   "outputs": [
    {
     "name": "stdout",
     "output_type": "stream",
     "text": [
      "answer: 10\n"
     ]
    }
   ],
   "source": [
    "def sum_integers(n):\n",
    "    if n == 1:\n",
    "        return 1\n",
    "   \n",
    "    return  n + sum_integers(n-1)  \n",
    "\n",
    "print(f'answer: {sum_integers(4)}')"
   ]
  },
  {
   "cell_type": "markdown",
   "metadata": {},
   "source": [
    "**Power of 2**"
   ]
  },
  {
   "cell_type": "code",
   "execution_count": 31,
   "metadata": {},
   "outputs": [
    {
     "name": "stdout",
     "output_type": "stream",
     "text": [
      "16\n"
     ]
    }
   ],
   "source": [
    "def power_of_2(n):    \n",
    "    if n == 0:\n",
    "        return 1\n",
    "   \n",
    "    return 2 * power_of_2(n - 1)\n",
    "\n",
    "print(power_of_2(4))"
   ]
  },
  {
   "cell_type": "markdown",
   "metadata": {},
   "source": [
    "**Sum an array index**"
   ]
  },
  {
   "cell_type": "code",
   "execution_count": 39,
   "metadata": {},
   "outputs": [
    {
     "name": "stdout",
     "output_type": "stream",
     "text": [
      "10\n"
     ]
    }
   ],
   "source": [
    "## not a good way list slice is expensive O(k*n)\n",
    "def sum_array_bad(array):\n",
    "    # Base Case\n",
    "    if len(array) == 1:\n",
    "        return array[0]\n",
    "    \n",
    "    return array[0] + sum_array_bad(array[1:])\n",
    "\n",
    "arr = [1, 2, 3, 4]\n",
    "print(sum_array_bad(arr))"
   ]
  },
  {
   "cell_type": "markdown",
   "metadata": {},
   "source": [
    "**Reversing a String**"
   ]
  },
  {
   "cell_type": "code",
   "execution_count": 43,
   "metadata": {},
   "outputs": [
    {
     "name": "stdout",
     "output_type": "stream",
     "text": [
      "cba\n",
      "Pass\n",
      "Pass\n"
     ]
    }
   ],
   "source": [
    "def reverse_string(input):\n",
    "    if len(input) == 0:\n",
    "        return ''\n",
    "    \n",
    "    result =  reverse_string(input[1:]) + input[0] \n",
    "    \n",
    "    return result\n",
    "\n",
    "print(reverse_string(\"abc\"))\n",
    "# Test Cases\n",
    "    \n",
    "print (\"Pass\" if  (\"\" == reverse_string(\"\")) else \"Fail\")\n",
    "print (\"Pass\" if  (\"cba\" == reverse_string(\"abc\")) else \"Fail\")"
   ]
  },
  {
   "cell_type": "markdown",
   "metadata": {},
   "source": [
    "### One Recursive Call - Two variables in function(one used to track data changes) - variable used with recursive output "
   ]
  },
  {
   "cell_type": "markdown",
   "metadata": {},
   "source": [
    "Sum Array without altering array "
   ]
  },
  {
   "cell_type": "code",
   "execution_count": 42,
   "metadata": {},
   "outputs": [
    {
     "name": "stdout",
     "output_type": "stream",
     "text": [
      "10\n"
     ]
    }
   ],
   "source": [
    "#better way\n",
    "def sum_array(array, index):\n",
    "    # Base Cases\n",
    "    if len(array) - 1 == index:\n",
    "        return array[index]\n",
    "    \n",
    "    return array[index] + sum_array(array, index + 1)\n",
    "\n",
    "arr = [1, 2, 3, 4]\n",
    "print(sum_array_index(arr, 0))"
   ]
  },
  {
   "cell_type": "markdown",
   "metadata": {},
   "source": [
    "### Deep Array Reverse\n",
    "\n",
    "1. This code uses the helper function as part of the recursian\n",
    "2. The deep_reverse is the start of reversing an array\n",
    "3. deep reverse func - does a simple append to output list after recursion ( this is typical of reversing using recursion\n",
    "4. the second variable is the index position, this is position of the element that is being reviewe at any given time"
   ]
  },
  {
   "cell_type": "code",
   "execution_count": 2,
   "metadata": {},
   "outputs": [
    {
     "name": "stdout",
     "output_type": "stream",
     "text": [
      "Pass\n",
      "Pass\n",
      "Pass\n",
      "Pass\n"
     ]
    }
   ],
   "source": [
    "def is_list(element):\n",
    "    \"\"\"\n",
    "    Check if element is a Python list\n",
    "    \"\"\"\n",
    "    return isinstance(element, list)\n",
    "\n",
    "def deep_reverse(arr):\n",
    "    \"\"\"\n",
    "    Function to deep_reverse an input list\n",
    "    \"\"\"\n",
    "    return deep_reverse_func(arr, 0)\n",
    "\n",
    "def deep_reverse_func(arr, index):\n",
    "    \"\"\"\n",
    "    Recursive function to deep_reverse the input list\n",
    "    \"\"\"\n",
    "    # Base Case\n",
    "    if index == len(arr):\n",
    "        return list()\n",
    "    \n",
    "    output = deep_reverse_func(arr, index + 1)\n",
    "    \n",
    "    # if element is a list --> deep_reverse the list\n",
    "    if is_list(arr[index]):\n",
    "        to_append = deep_reverse(arr[index])\n",
    "    else:\n",
    "        to_append = arr[index]\n",
    "        \n",
    "    output.append(to_append)\n",
    "    return output\n",
    "\n",
    "def test_function(test_case):\n",
    "    arr = test_case[0]\n",
    "    solution = test_case[1]\n",
    "    \n",
    "    output = deep_reverse(arr)\n",
    "    if output == solution:\n",
    "        print(\"Pass\")\n",
    "    else:\n",
    "        print(\"False\")\n",
    "        \n",
    "arr = [1, 2, 3, 4, 5]\n",
    "solution = [5, 4, 3, 2, 1]\n",
    "test_case = [arr, solution]\n",
    "test_function(test_case)\n",
    "\n",
    "arr = [1, 2, [3, 4, 5], 4, 5]\n",
    "solution = [5, 4, [5, 4, 3], 2, 1]\n",
    "test_case = [arr, solution]\n",
    "test_function(test_case)\n",
    "\n",
    "arr = [1, [2, 3, [4, [5, 6]]]]\n",
    "solution = [[[[6, 5], 4], 3, 2], 1]\n",
    "test_case = [arr, solution]\n",
    "test_function(test_case)\n",
    "\n",
    "arr =  [1, [2,3], 4, [5,6]]\n",
    "solution = [ [6,5], 4, [3, 2], 1]\n",
    "test_case = [arr, solution]\n",
    "test_function(test_case)"
   ]
  },
  {
   "cell_type": "markdown",
   "metadata": {},
   "source": [
    "## Breaking into Subproblems\n",
    "* these problems always have a recursive tree\n",
    "* how to spot there problems? two or more recursive calls\n",
    "\n",
    "### Recursive Tree - Two Recursive Calls - One variable, both outputs are altered"
   ]
  },
  {
   "cell_type": "markdown",
   "metadata": {},
   "source": [
    "**fibannaci**"
   ]
  },
  {
   "cell_type": "code",
   "execution_count": 16,
   "metadata": {},
   "outputs": [
    {
     "name": "stdout",
     "output_type": "stream",
     "text": [
      "55\n"
     ]
    }
   ],
   "source": [
    "# fibannaci\n",
    "def fib(n: int) -> int:\n",
    "    if n < 2:\n",
    "        return n\n",
    "    return fib(n - 2) + fib(n-1)\n",
    "print(fib(10))"
   ]
  },
  {
   "cell_type": "markdown",
   "metadata": {},
   "source": [
    "**fib with memoization**"
   ]
  },
  {
   "cell_type": "code",
   "execution_count": 18,
   "metadata": {},
   "outputs": [
    {
     "name": "stdout",
     "output_type": "stream",
     "text": [
      "55\n"
     ]
    }
   ],
   "source": [
    "# fib with memoization\n",
    "from typing import Dict\n",
    "memo: Dict[int, int] = {0: 0, 1: 1} # our base cases\n",
    "    \n",
    "def fib2(n: int) -> int:\n",
    "    if n not in memo:\n",
    "        memo[n] = fib2(n-1) + fib2(n-2)\n",
    "    return memo[n]\n",
    "print(fib2(10))"
   ]
  },
  {
   "cell_type": "markdown",
   "metadata": {},
   "source": [
    "### Recursive Tree - Two Recursive Calls - four variable, 1 variable altered, others rearranged"
   ]
  },
  {
   "cell_type": "markdown",
   "metadata": {},
   "source": [
    "#### Tower of Hanoi\n",
    "##### Problem Statement\n",
    "\n",
    "The Tower of Hanoi is a puzzle where we have three rods and `n` disks. The three rods are:\n",
    "    1. source\n",
    "    2. destination\n",
    "    3. auxiliary\n",
    "\n",
    "Initally, all the `n` disks are present on the source rod. The final objective of the puzzle is to move all disks from the source rod to the destination rod using the auxiliary rod. However, there are some rules according to which this has to be done:\n",
    "    1. Only one disk can be moved at a time.\n",
    "    2. A disk can be moved only if it is on the top of a rod.\n",
    "    3. No disk can be placed on the top of a smaller disk.\n",
    "    \n",
    "You will be given the number of disks `num_disks` as the input parameter. \n",
    "\n",
    "For example, if you have `num_disks = 3`, then the disks should be moved as follows:\n",
    "    \n",
    "        1. move disk from source to auxiliary\n",
    "        2. move disk from source to destination\n",
    "        3. move disk from auxiliary to destination\n",
    "        \n",
    "You must print these steps as follows:    \n",
    "\n",
    "        S A\n",
    "        S D\n",
    "        A D\n",
    "        \n",
    "Where S = source, D = destination, A = auxiliary\n",
    "\n",
    "#### Analysis\n",
    "1. there is a three step way to move pieces in TOH\n",
    "2. because there are two calls it takes you to base case twice per call\n",
    "    1. first rec call base case print\n",
    "    2. inbtweeen recursive calls pring\n",
    "    2. 2nd rec call -  base case print\n",
    "3. There are multiple ways to organize the three poles, it does not matter as long as the entire algo reflect changes\n",
    "4. in this version the printing is always from parameters 2 (source) and 4 (destination)\n",
    "5. So to red this any move printed is always based on which letters are in pareamters 2 and 4\n",
    "    1. first"
   ]
  },
  {
   "cell_type": "code",
   "execution_count": 99,
   "metadata": {},
   "outputs": [
    {
     "name": "stdout",
     "output_type": "stream",
     "text": [
      "S A\n",
      "S D\n",
      "A D\n",
      " \n",
      "S D\n",
      "S A\n",
      "D A\n",
      "S D\n",
      "A S\n",
      "A D\n",
      "S D\n",
      " \n",
      "S A\n",
      "S D\n",
      "A D\n",
      "S A\n",
      "D S\n",
      "D A\n",
      "S A\n",
      "S D\n",
      "A D\n",
      "A S\n",
      "D S\n",
      "A D\n",
      "S A\n",
      "S D\n",
      "A D\n"
     ]
    }
   ],
   "source": [
    "# Solution\n",
    "def tower_of_Hanoi_soln(num_disks, source, auxiliary, destination):\n",
    "    \n",
    "    if num_disks == 0:\n",
    "        return\n",
    "    \n",
    "    if num_disks == 1:\n",
    "        print(\"{} {}\".format(source, destination))\n",
    "        return\n",
    "    \n",
    "    # moving everything from source to aux\n",
    "    tower_of_Hanoi_soln(num_disks - 1, source, destination, auxiliary)\n",
    "    # this is the move where you move the bottom piece to destination\n",
    "    print(\"{} {}\".format(source, destination))\n",
    "    # this is where you move the aux tower to destination\n",
    "    tower_of_Hanoi_soln(num_disks - 1, auxiliary, source, destination)\n",
    "    \n",
    "def tower_of_Hanoi(num_disks):\n",
    "    tower_of_Hanoi_soln(num_disks, 'S', 'A', 'D')\n",
    "\n",
    "tower_of_Hanoi(2)\n",
    "print(' ')\n",
    "tower_of_Hanoi(3)   \n",
    "print(' ')\n",
    "tower_of_Hanoi(4) "
   ]
  },
  {
   "cell_type": "markdown",
   "metadata": {},
   "source": [
    "### Recursive Tree - Three Recursive Calls - 1 variable altered\n",
    "\n",
    "#### Staircaise\n",
    "Suppose there is a staircase that you can climb in either 1 step, 2 steps, or 3 steps. In how many possible ways can you climb the staircase if the staircase has `n` steps? Write a recursive function to solve the problem.\n",
    "\n",
    "**Example:**\n",
    "\n",
    "* `n = 3`\n",
    "* `output = 4`\n",
    "    \n",
    "The output is `4` because there are four ways we can climb the staircase:\n",
    "    \n",
    "    1. 1 step +  1 step + 1 step\n",
    "    2. 1 step + 2 steps \n",
    "    3. 2 steps + 1 step\n",
    "    4. 3 steps\n",
    "    \n",
    "Problems\n",
    "1. what is base case?  \n",
    "    * 1 = 1, 2 = 2, 3 = 4 . 0 = 1"
   ]
  },
  {
   "cell_type": "code",
   "execution_count": null,
   "metadata": {},
   "outputs": [],
   "source": []
  },
  {
   "cell_type": "code",
   "execution_count": null,
   "metadata": {},
   "outputs": [],
   "source": []
  },
  {
   "cell_type": "code",
   "execution_count": null,
   "metadata": {},
   "outputs": [],
   "source": []
  },
  {
   "cell_type": "code",
   "execution_count": null,
   "metadata": {},
   "outputs": [],
   "source": []
  },
  {
   "cell_type": "code",
   "execution_count": 79,
   "metadata": {},
   "outputs": [
    {
     "name": "stdout",
     "output_type": "stream",
     "text": [
      "Pass\n",
      "Pass\n",
      "Pass\n"
     ]
    }
   ],
   "source": [
    "# with cache\n",
    "def staircase_cache(n):\n",
    "    cache = {0: 0, 1: 1, 2: 2, 3: 4}\n",
    "    return staircase_faster(n, cache)\n",
    "\n",
    "def staircase_faster(n, cache):\n",
    "\n",
    "    if n not in cache:\n",
    "        cache[n] = staircase_faster(n-1, cache) + staircase_faster(n-2, cache) + staircase_faster(n-3, cache)\n",
    "   \n",
    "    return cache[n]\n",
    "\n",
    "\n",
    "\n",
    "def staircase(n):\n",
    "    \"\"\"\n",
    "    :param: n - number of steps in the staircase\n",
    "    Return number of possible ways in which you can climb the staircase\n",
    "    TODO - write a recursive function to solve this problem\n",
    "    \"\"\"\n",
    "    if n <= 0:\n",
    "        return 1\n",
    "    if n == 1:\n",
    "        return 1\n",
    "    elif n == 2:\n",
    "        return 2\n",
    "    elif n == 3:\n",
    "        return 4\n",
    "    \n",
    "    \n",
    "    return staircase(n - 1) + staircase(n-2) + staircase(n-3)\n",
    "\n",
    "def test_function(test_case):\n",
    "    n = test_case[0]\n",
    "    solution = test_case[1]\n",
    "    output = staircase(n)\n",
    "    if output == solution:\n",
    "        print(\"Pass\")\n",
    "    else:\n",
    "        print(\"Fail\")\n",
    "\n",
    "        \n",
    "n = 3\n",
    "solution = 4\n",
    "test_case = [n, solution]\n",
    "test_function(test_case)\n",
    "\n",
    "n = 4\n",
    "solution = 7\n",
    "test_case = [n, solution]\n",
    "test_function(test_case)\n",
    "\n",
    "n = 7\n",
    "solution = 44\n",
    "test_case = [n, solution]\n",
    "test_function(test_case)"
   ]
  },
  {
   "cell_type": "code",
   "execution_count": null,
   "metadata": {},
   "outputs": [],
   "source": []
  },
  {
   "cell_type": "code",
   "execution_count": null,
   "metadata": {},
   "outputs": [],
   "source": []
  },
  {
   "cell_type": "markdown",
   "metadata": {},
   "source": [
    "## Selection or Permutations - care about order\n",
    "[0, 1] ->[[0, 1], [1, 0]]\n",
    "* This is the most difficult use of recursive algoithms\n",
    "* They are very confusing\n",
    "\n",
    "Findings\n",
    "* the functions adopt mostly additional code to solve problems\n",
    "* recursion seems to be a small part of function\n",
    "* data prep \n",
    "    * v1 - variable for after recursive call \n",
    "    * v2 - data for recursive call\n",
    "    * post call code that combines v1 and v2\n",
    "\n",
    "\n",
    "I need to figure out:\n",
    "* focus on the functionality of the resursive call\n",
    "* patterns they use\n",
    "* focus on additional use of code to assist recursion\n",
    "* code structure tricks"
   ]
  },
  {
   "cell_type": "markdown",
   "metadata": {},
   "source": [
    "### **permutation of a list**  -  One Recursive Call, One Parameter\n",
    "\n",
    "* permutatation by breaking down the list into smaller pieces\n",
    "* uses the ``r.insert(j, first_element)`` technique for building each permutation\n",
    "\n",
    "\n",
    "findings\n",
    "* Grabs Variable 1 - (first_element) - first element of list -  this is not used in the recursive call, it is used after\n",
    "* Alters Variable 2 - List (l) - before permute recursive call grabbing index 1 and after l[1:0]\n",
    "* RECURSION: The permutes() call breaks Variable 2 down to an empty list []\n",
    "* The main process in this code is after the recursion, recursion is only breaking down the list to get ready for processing\n",
    "* All the main code does is:\n",
    "    * take last letter (first_element) variable \n",
    "    * plugs it into every position of the list returned from recursion\n",
    "    * adds each variatoin to the list and return the entire list\n",
    "  \n",
    " \n",
    "how it works\n",
    "* permute([0,1])\n",
    "* after recursive calls you have an empty list within a list [[]]  and first_element V1 1\n",
    "* then you loop 1 through all positions of [[]]  and since there is only one position return [[1]]\n",
    "* on the next recursive call you loop 0 through all position of [[1]]  and return [[0,1],[1,0]]\n",
    "\n",
    "Summary:\n",
    "* the recursive call just breaks down data on the downward recursive calls\n",
    "* then on the upward recombines all the data to get the permutation\n"
   ]
  },
  {
   "cell_type": "code",
   "execution_count": 75,
   "metadata": {},
   "outputs": [
    {
     "name": "stdout",
     "output_type": "stream",
     "text": [
      "before recursive call : first element 0 | l[1:] [1]\n",
      "before recursive call : first element 1 | l[1:] []\n",
      "base case\n",
      "after permute call - first element 1 sub_permutes [[]]\n",
      "return result  [[1]]\n",
      "after permute call - first element 0 sub_permutes [[1]]\n",
      "return result  [[0, 1], [1, 0]]\n",
      "final  [[0, 1], [1, 0]]\n"
     ]
    }
   ],
   "source": [
    "import copy\n",
    "\n",
    "def permute(l):\n",
    "    \"\"\"\n",
    "    Return a list of permutations\n",
    "\n",
    "    Examples:\n",
    "       permute([0, 1]) returns [ [0, 1], [1, 0] ]\n",
    "\n",
    "    Args:\n",
    "      l(list): list of items to be permuted\n",
    "\n",
    "    Returns:\n",
    "      list of permutation with each permuted item be represented by a list\n",
    "    \"\"\"\n",
    "    perm = []\n",
    "    if len(l) == 0:\n",
    "        perm.append([])\n",
    "        print('base case')\n",
    "    else:\n",
    "        first_element = l[0]         \n",
    "        print(f'before recursive call : first element {first_element} | l[1:] {l[1:]}')\n",
    "        \n",
    "        sub_permutes = permute(l[1:])\n",
    "        print(f'after permute call - first element {first_element} sub_permutes {sub_permutes}')\n",
    "        \n",
    "        for p in sub_permutes:\n",
    "            # this loop inserts the first element in all the positions of given array \n",
    "            # 0 with [1] would become [0,1] , [1, 0]\n",
    "            for j in range(0, len(p) + 1):\n",
    "                r = copy.deepcopy(p)\n",
    "                r.insert(j, first_element)\n",
    "                perm.append(r)    \n",
    "        print('return result ' , perm)\n",
    "    # returns array or arrays\n",
    "    return perm\n",
    "\n",
    "def check_output(output, expected_output):   \n",
    "    o = copy.deepcopy(output)  # so that we don't mutate input\n",
    "    e = copy.deepcopy(expected_output)  # so that we don't mutate input\n",
    "    \n",
    "    o.sort()\n",
    "    e.sort()\n",
    "    return o == e\n",
    "\n",
    "print('final ' , permute([0, 1]))\n",
    "\n",
    "# print (\"Pass\" if  (check_output(permute([]), [[]])) else \"Fail\")\n",
    "# print (\"Pass\" if  (check_output(permute([0]), [[0]])) else \"Fail\")\n",
    "# print (\"Pass\" if  (check_output(permute([0, 1]), [[0, 1], [1, 0]])) else \"Fail\")\n",
    "# print (\"Pass\" if  (check_output(permute([0, 1, 2]), [[0, 1, 2], [0, 2, 1], [1, 0, 2], [1, 2, 0], [2, 0, 1], [2, 1, 0]])) else \"Fail\")\n"
   ]
  },
  {
   "cell_type": "code",
   "execution_count": 1,
   "metadata": {},
   "outputs": [
    {
     "ename": "NameError",
     "evalue": "name 'perm' is not defined",
     "output_type": "error",
     "traceback": [
      "\u001b[0;31m---------------------------------------------------------------------------\u001b[0m",
      "\u001b[0;31mNameError\u001b[0m                                 Traceback (most recent call last)",
      "\u001b[0;32m<ipython-input-1-a712f3a24165>\u001b[0m in \u001b[0;36m<module>\u001b[0;34m\u001b[0m\n\u001b[1;32m      6\u001b[0m     \u001b[0;32mreturn\u001b[0m \u001b[0mperm\u001b[0m\u001b[0;34m\u001b[0m\u001b[0;34m\u001b[0m\u001b[0m\n\u001b[1;32m      7\u001b[0m \u001b[0;34m\u001b[0m\u001b[0m\n\u001b[0;32m----> 8\u001b[0;31m \u001b[0mprint\u001b[0m\u001b[0;34m(\u001b[0m\u001b[0;34m'final '\u001b[0m \u001b[0;34m,\u001b[0m \u001b[0mpermutes2\u001b[0m\u001b[0;34m(\u001b[0m\u001b[0;34m[\u001b[0m\u001b[0;36m0\u001b[0m\u001b[0;34m,\u001b[0m \u001b[0;36m1\u001b[0m\u001b[0;34m]\u001b[0m\u001b[0;34m)\u001b[0m\u001b[0;34m)\u001b[0m\u001b[0;34m\u001b[0m\u001b[0;34m\u001b[0m\u001b[0m\n\u001b[0m\u001b[1;32m      9\u001b[0m \u001b[0mprint\u001b[0m \u001b[0;34m(\u001b[0m\u001b[0;34m\"Pass\"\u001b[0m \u001b[0;32mif\u001b[0m  \u001b[0;34m(\u001b[0m\u001b[0mcheck_output\u001b[0m\u001b[0;34m(\u001b[0m\u001b[0mpermutes2\u001b[0m\u001b[0;34m(\u001b[0m\u001b[0;34m[\u001b[0m\u001b[0;34m]\u001b[0m\u001b[0;34m)\u001b[0m\u001b[0;34m,\u001b[0m \u001b[0;34m[\u001b[0m\u001b[0;34m[\u001b[0m\u001b[0;34m]\u001b[0m\u001b[0;34m]\u001b[0m\u001b[0;34m)\u001b[0m\u001b[0;34m)\u001b[0m \u001b[0;32melse\u001b[0m \u001b[0;34m\"Fail\"\u001b[0m\u001b[0;34m)\u001b[0m\u001b[0;34m\u001b[0m\u001b[0;34m\u001b[0m\u001b[0m\n\u001b[1;32m     10\u001b[0m \u001b[0mprint\u001b[0m \u001b[0;34m(\u001b[0m\u001b[0;34m\"Pass\"\u001b[0m \u001b[0;32mif\u001b[0m  \u001b[0;34m(\u001b[0m\u001b[0mcheck_output\u001b[0m\u001b[0;34m(\u001b[0m\u001b[0mpermutes2\u001b[0m\u001b[0;34m(\u001b[0m\u001b[0;34m[\u001b[0m\u001b[0;36m0\u001b[0m\u001b[0;34m]\u001b[0m\u001b[0;34m)\u001b[0m\u001b[0;34m,\u001b[0m \u001b[0;34m[\u001b[0m\u001b[0;34m[\u001b[0m\u001b[0;36m0\u001b[0m\u001b[0;34m]\u001b[0m\u001b[0;34m]\u001b[0m\u001b[0;34m)\u001b[0m\u001b[0;34m)\u001b[0m \u001b[0;32melse\u001b[0m \u001b[0;34m\"Fail\"\u001b[0m\u001b[0;34m)\u001b[0m\u001b[0;34m\u001b[0m\u001b[0;34m\u001b[0m\u001b[0m\n",
      "\u001b[0;32m<ipython-input-1-a712f3a24165>\u001b[0m in \u001b[0;36mpermutes2\u001b[0;34m(arr)\u001b[0m\n\u001b[1;32m      4\u001b[0m \u001b[0;34m\u001b[0m\u001b[0m\n\u001b[1;32m      5\u001b[0m \u001b[0;34m\u001b[0m\u001b[0m\n\u001b[0;32m----> 6\u001b[0;31m     \u001b[0;32mreturn\u001b[0m \u001b[0mperm\u001b[0m\u001b[0;34m\u001b[0m\u001b[0;34m\u001b[0m\u001b[0m\n\u001b[0m\u001b[1;32m      7\u001b[0m \u001b[0;34m\u001b[0m\u001b[0m\n\u001b[1;32m      8\u001b[0m \u001b[0mprint\u001b[0m\u001b[0;34m(\u001b[0m\u001b[0;34m'final '\u001b[0m \u001b[0;34m,\u001b[0m \u001b[0mpermutes2\u001b[0m\u001b[0;34m(\u001b[0m\u001b[0;34m[\u001b[0m\u001b[0;36m0\u001b[0m\u001b[0;34m,\u001b[0m \u001b[0;36m1\u001b[0m\u001b[0;34m]\u001b[0m\u001b[0;34m)\u001b[0m\u001b[0;34m)\u001b[0m\u001b[0;34m\u001b[0m\u001b[0;34m\u001b[0m\u001b[0m\n",
      "\u001b[0;31mNameError\u001b[0m: name 'perm' is not defined"
     ]
    }
   ],
   "source": [
    "# Practice *permutation of a list\n",
    "import copy\n",
    "def permutes2(arr):\n",
    "    \n",
    "  \n",
    "    return perm\n",
    "\n",
    "print('final ' , permutes2([0, 1]))\n",
    "print (\"Pass\" if  (check_output(permutes2([]), [[]])) else \"Fail\")\n",
    "print (\"Pass\" if  (check_output(permutes2([0]), [[0]])) else \"Fail\")\n",
    "print (\"Pass\" if  (check_output(permutes2([0, 1]), [[0, 1], [1, 0]])) else \"Fail\")\n",
    "print (\"Pass\" if  (check_output(permutes2([0, 1, 2]), [[0, 1, 2], [0, 2, 1], [1, 0, 2], [1, 2, 0], [2, 0, 1], [2, 1, 0]])) else \"Fail\")\n"
   ]
  },
  {
   "cell_type": "markdown",
   "metadata": {},
   "source": [
    "## String permutations - One Recursive Call - One Parameter\n",
    "this technque uses an index variable passed around to guide where you add the last element but follows the same algoritm as above\n",
    "``new_permutation = permutation[0: index] + current_char + permutation[index:]``\n",
    "this line of code does the same thing as the  ``r.insert(j, first_element)``\n",
    "\n",
    "### Problem Statement\n",
    "\n",
    "Given an input string, return all permutations of the string in an array.\n",
    "\n",
    "**Example 1:**\n",
    "* `string = 'ab'`\n",
    "* `output = ['ab', 'ba']`\n",
    "\n",
    "**Example 2:**\n",
    "* `string = 'abc'`\n",
    "* `output = ['abc', 'bac', 'bca', 'acb', 'cab', 'cba']`\n",
    "\n",
    "These recursive functions both work with the same trick\n",
    "take a base string 'ab'  then take the another letter 'c' and plug it in at the begining, middle and end\n"
   ]
  },
  {
   "cell_type": "code",
   "execution_count": 98,
   "metadata": {},
   "outputs": [
    {
     "name": "stdout",
     "output_type": "stream",
     "text": [
      "start of return_permutations function arguments: string ab index 0\n",
      "start of return_permutations function arguments: string ab index 1\n",
      "start of return_permutations function arguments: string ab index 2\n",
      "base case hit\n",
      "output of return_permutaions rescursive call ['']]\n",
      "current_char b\n",
      "permutation  \n",
      "new_permutation b\n",
      "output of return_permutaions rescursive call ['b']]\n",
      "current_char a\n",
      "permutation  b\n",
      "new_permutation ab\n",
      "new_permutation ba\n",
      "Pass\n",
      "start of return_permutations function arguments: string abc index 0\n",
      "start of return_permutations function arguments: string abc index 1\n",
      "start of return_permutations function arguments: string abc index 2\n",
      "start of return_permutations function arguments: string abc index 3\n",
      "base case hit\n",
      "output of return_permutaions rescursive call ['']]\n",
      "current_char c\n",
      "permutation  \n",
      "new_permutation c\n",
      "output of return_permutaions rescursive call ['c']]\n",
      "current_char b\n",
      "permutation  c\n",
      "new_permutation bc\n",
      "new_permutation cb\n",
      "output of return_permutaions rescursive call ['bc', 'cb']]\n",
      "current_char a\n",
      "permutation  bc\n",
      "new_permutation abc\n",
      "new_permutation bac\n",
      "new_permutation bca\n",
      "permutation  cb\n",
      "new_permutation acb\n",
      "new_permutation cab\n",
      "new_permutation cba\n",
      "Pass\n",
      "start of return_permutations function arguments: string abcd index 0\n",
      "start of return_permutations function arguments: string abcd index 1\n",
      "start of return_permutations function arguments: string abcd index 2\n",
      "start of return_permutations function arguments: string abcd index 3\n",
      "start of return_permutations function arguments: string abcd index 4\n",
      "base case hit\n",
      "output of return_permutaions rescursive call ['']]\n",
      "current_char d\n",
      "permutation  \n",
      "new_permutation d\n",
      "output of return_permutaions rescursive call ['d']]\n",
      "current_char c\n",
      "permutation  d\n",
      "new_permutation cd\n",
      "new_permutation dc\n",
      "output of return_permutaions rescursive call ['cd', 'dc']]\n",
      "current_char b\n",
      "permutation  cd\n",
      "new_permutation bcd\n",
      "new_permutation cbd\n",
      "new_permutation cdb\n",
      "permutation  dc\n",
      "new_permutation bdc\n",
      "new_permutation dbc\n",
      "new_permutation dcb\n",
      "output of return_permutaions rescursive call ['bcd', 'cbd', 'cdb', 'bdc', 'dbc', 'dcb']]\n",
      "current_char a\n",
      "permutation  bcd\n",
      "new_permutation abcd\n",
      "new_permutation bacd\n",
      "new_permutation bcad\n",
      "new_permutation bcda\n",
      "permutation  cbd\n",
      "new_permutation acbd\n",
      "new_permutation cabd\n",
      "new_permutation cbad\n",
      "new_permutation cbda\n",
      "permutation  cdb\n",
      "new_permutation acdb\n",
      "new_permutation cadb\n",
      "new_permutation cdab\n",
      "new_permutation cdba\n",
      "permutation  bdc\n",
      "new_permutation abdc\n",
      "new_permutation badc\n",
      "new_permutation bdac\n",
      "new_permutation bdca\n",
      "permutation  dbc\n",
      "new_permutation adbc\n",
      "new_permutation dabc\n",
      "new_permutation dbac\n",
      "new_permutation dbca\n",
      "permutation  dcb\n",
      "new_permutation adcb\n",
      "new_permutation dacb\n",
      "new_permutation dcab\n",
      "new_permutation dcba\n",
      "Pass\n"
     ]
    }
   ],
   "source": [
    "def permutations(string):\n",
    "  \n",
    "    return return_permutations(string, 0)\n",
    "    \n",
    "def return_permutations(string, index):\n",
    "    # Base Case\n",
    "    print(f'start of return_permutations function arguments: string {string} index {index}')\n",
    "    if index >= len(string):\n",
    "        print('base case hit')\n",
    "        return [\"\"]\n",
    "    \n",
    "    current_char = string[index]\n",
    "    small_output = return_permutations(string, index + 1)\n",
    "    print(f'output of return_permutaions rescursive call {small_output}]')\n",
    "    \n",
    "    output = list()\n",
    "   \n",
    "    print(f'current_char {current_char}')\n",
    "    # iterate over each permutation string received thus far\n",
    "    # and place the current character at between different indices of the string\n",
    "    for permutation in small_output:\n",
    "        print('permutation ' , permutation)\n",
    "        for index in range(len(small_output[0]) + 1):            \n",
    "            new_permutation = permutation[0: index] + current_char + permutation[index:]\n",
    "            print(f'new_permutation {new_permutation}')\n",
    "            output.append(new_permutation)\n",
    "    return output\n",
    "\n",
    "def test_function(test_case):\n",
    "    string = test_case[0]\n",
    "    solution = test_case[1]\n",
    "    output = permutations(string)\n",
    "    \n",
    "    output.sort()\n",
    "    solution.sort()\n",
    "    \n",
    "    if output == solution:\n",
    "        print(\"Pass\")\n",
    "    else:\n",
    "        print(\"Fail\")\n",
    "        \n",
    "\n",
    "        \n",
    "string = 'ab'\n",
    "solution = ['ab', 'ba']\n",
    "test_case = [string, solution]\n",
    "test_function(test_case)\n",
    "\n",
    "string = 'abc'\n",
    "output = ['abc', 'bac', 'bca', 'acb', 'cab', 'cba']\n",
    "test_case = [string, output]\n",
    "test_function(test_case)\n",
    "\n",
    "string = 'abcd'\n",
    "output = ['abcd', 'bacd', 'bcad', 'bcda', 'acbd', 'cabd', 'cbad', 'cbda', 'acdb', 'cadb', 'cdab', 'cdba', 'abdc', 'badc', 'bdac', 'bdca', 'adbc', 'dabc', 'dbac', 'dbca', 'adcb', 'dacb', 'dcab', 'dcba']\n",
    "test_case = [string, output]\n",
    "test_function(test_case)"
   ]
  },
  {
   "cell_type": "markdown",
   "metadata": {},
   "source": [
    "## Combinations or Ordering"
   ]
  },
  {
   "cell_type": "markdown",
   "metadata": {},
   "source": [
    "###  Keypad Combinations - One Recursive Call - One Parameter\n",
    "\n",
    "A keypad on a cellphone has alphabets for all numbers between 2 and 9. \n",
    "\n",
    "You can make different combinations of alphabets by pressing the numbers.\n",
    "\n",
    "For example, if you press 23, the following combinations are possible:\n",
    "\n",
    "`ad, ae, af, bd, be, bf, cd, ce, cf`\n",
    "\n",
    "Note that because 2 is pressed before 3, the first letter is always an alphabet on the number 2.\n",
    "Likewise, if the user types 32, the order would be\n",
    "\n",
    "`da, db, dc, ea, eb, ec, fa, fb, fc`\n",
    "\n",
    "\n",
    "Given an integer `num`, find out all the possible strings that can be made using digits of input `num`. \n",
    "Return these strings in a list. The order of strings in the list does not matter. However, as stated earlier, the order of letters in a particular string matters.\n",
    "\n",
    "Analysis\n",
    "\n",
    "number 375\n",
    "* the prep work before recursion is used to grab every digit except the first (3)\n",
    "* the recursive call is a used to break down the number from right to left \n",
    "* the last recursive call base base case will have the first number (3) and convert it to the characters ['d', 'e', 'f']  in a list form - - small_output\n",
    "* after base case: last_digit (7) will be coverted to characters (pqrs)\n",
    "* now the code takes these characters and combines them like :  small_output + last_digit loop - this is simple nested for loop\n",
    "\n"
   ]
  },
  {
   "cell_type": "code",
   "execution_count": null,
   "metadata": {},
   "outputs": [],
   "source": [
    "def get_characters(num):\n",
    "    if num == 2:\n",
    "        return \"abc\"\n",
    "    elif num == 3:\n",
    "        return \"def\"\n",
    "    elif num == 4:\n",
    "        return \"ghi\"\n",
    "    elif num == 5:\n",
    "        return \"jkl\"\n",
    "    elif num == 6:\n",
    "        return \"mno\"\n",
    "    elif num == 7:\n",
    "        return \"pqrs\"\n",
    "    elif num == 8:\n",
    "        return \"tuv\"\n",
    "    elif num == 9:\n",
    "        return \"wxyz\"\n",
    "    else:\n",
    "        return \"\"\n",
    "    \n",
    "def keypad(num):\n",
    "    if num <= 1:\n",
    "        return [\"\"]\n",
    "    elif 1 < num <= 9:\n",
    "        return list(get_characters(num))\n",
    "\n",
    "    last_digit = num % 10 # get last digit \n",
    "    \n",
    "    small_output = keypad(num//10) # recurse with every digit but last\n",
    "    keypad_string = get_characters(last_digit)\n",
    "   \n",
    "    print(f'outside of recursion small_output {small_output} last digit {last_digit} keypad_String - {keypad_string}')\n",
    "    output = list()\n",
    "    for character in keypad_string:\n",
    "        for item in small_output:\n",
    "            new_item = item + character\n",
    "            print(f'new item {new_item}')\n",
    "            output.append(new_item)\n",
    "    return output\n",
    "\n",
    "def test_keypad(input, expected_output):\n",
    "    if sorted(keypad(input)) == expected_output:\n",
    "        print(\"Yay. We got it right.\")\n",
    "    else:\n",
    "        print(\"Oops! That was incorrect.\")\n",
    "\n",
    "# input = 23\n",
    "# expected_output = sorted([\"ad\", \"ae\", \"af\", \"bd\", \"be\", \"bf\", \"cd\", \"ce\", \"cf\"])\n",
    "# test_keypad(input, expected_output)\n",
    "\n",
    "input = 354\n",
    "expected_output = sorted([\"djg\", \"ejg\", \"fjg\", \"dkg\", \"ekg\", \"fkg\", \"dlg\", \"elg\", \"flg\", \"djh\", \"ejh\", \"fjh\", \"dkh\", \"ekh\", \"fkh\", \"dlh\", \"elh\", \"flh\", \"dji\", \"eji\", \"fji\", \"dki\", \"eki\", \"fki\", \"dli\", \"eli\", \"fli\"])\n",
    "test_keypad(input, expected_output)\n",
    "        \n",
    "# # Base case: list with empty string\n",
    "# input = 0\n",
    "# expected_output = [\"\"]\n",
    "# test_keypad(input, expected_output)\n"
   ]
  },
  {
   "cell_type": "markdown",
   "metadata": {},
   "source": [
    "## Combination of digits with conditions - Return-Codes\n",
    "### Two Recursive Calls - Two Parameters used before recursion - NEW: Two output data structures one for each recusive call output, then combined into one for return \n",
    "\n",
    "In an encryption system where ASCII lower case letters represent numbers in the pattern `a=1, b=2, c=3...` and so on, find out all the codes that are possible for a given input number. \n",
    "\n",
    "**Example 1**\n",
    "\n",
    "* `number = 123`\n",
    "* `codes_possible = [\"aw\", \"abc\", \"lc\"]`\n",
    "\n",
    "Explanation: The codes are for the following number:\n",
    "         \n",
    "* 1 . 23     = \"aw\"\n",
    "* 1 . 2 . 3  = \"abc\"\n",
    "* 12 . 3     = \"lc\"\n",
    "    \n",
    "\n",
    "**Example 2**  \n",
    "\n",
    "* `number = 145`\n",
    "* `codes_possible = [\"ade\", \"ne\"]`\n",
    "\n",
    "Return the codes in a list. The order of codes in the list is not important.\n",
    "\n",
    "def get_alphabet(number):\n",
    "    \"\"\"\n",
    "    Helper function to figure out alphabet of a particular number\n",
    "    Remember: \n",
    "        * ASCII for lower case 'a' = 97\n",
    "        * chr(num) returns ASCII character for a number e.g. chr(65) ==> 'A'\n",
    "    \"\"\"\n",
    "    return chr(number + 96)*Note: you can assume that the input number will not contain any 0s*\n",
    "    \n",
    "    \n",
    "#### What is going on here:\n",
    "This is a clever use of recusion I have not see this format yet\n",
    "* two recursive calls each using different modifications of passed variable (first two digits and first digit). the algo breaks it into double or single digits\n",
    "1. before recursinon: get first two digits as variable used after recursion\n",
    "2. if first two digits are valid , send all digits before first two digits into recursion land \n",
    "3. 123 example \n",
    "    1. first recursive call gets us 1 23\n",
    "    2. second recursive call gets us 12 3 and 1 2 3 \n",
    "4. the trick he is we are recusivly breaking down the number in order by twos and \n",
    "ones\n",
    "5. the other tricks is there are two output lists for building the twos and ones recursive calls"
   ]
  },
  {
   "cell_type": "code",
   "execution_count": 4,
   "metadata": {},
   "outputs": [
    {
     "name": "stdout",
     "output_type": "stream",
     "text": [
      "Pass\n",
      "Pass\n",
      "Pass\n",
      "Pass\n"
     ]
    }
   ],
   "source": [
    "def get_alphabet(number):\n",
    "    \"\"\"\n",
    "    Helper function to figure out alphabet of a particular number\n",
    "    Remember: \n",
    "        * ASCII for lower case 'a' = 97\n",
    "        * chr(num) returns ASCII character for a number e.g. chr(65) ==> 'A'\n",
    "    \"\"\"\n",
    "    return chr(number + 96)\n",
    "\n",
    "def all_codes(number):\n",
    "    if number == 0:\n",
    "        return [\"\"]\n",
    "    \n",
    "    # calculation for two right-most digits e.g. if number = 1123, this calculation is meant for 23\n",
    "    # variable one used after recursion\n",
    "    remainder = number % 100\n",
    "    # first output list\n",
    "    output_100 = list()\n",
    "    if remainder <= 26 and number > 9 :\n",
    "        \n",
    "        # get all codes for the remaining number\n",
    "        output_100 = all_codes(number // 100)\n",
    "        alphabet = get_alphabet(remainder)\n",
    "        \n",
    "        for index, element in enumerate(output_100):\n",
    "            output_100[index] = element + alphabet\n",
    "    \n",
    "    # calculation for right-most digit e.g. if number = 1123, this calculation is meant for 3\n",
    "    # variable two used after recursion    \n",
    "    remainder = number % 10\n",
    "    \n",
    "    # get all codes for the remaining number\n",
    "    output_10 = all_codes(number // 10)\n",
    "    alphabet = get_alphabet(remainder)\n",
    "    \n",
    "    for index, element in enumerate(output_10):\n",
    "        output_10[index] = element + alphabet\n",
    "    \n",
    "    # second output list\n",
    "    output = list()\n",
    "    output.extend(output_100)\n",
    "    output.extend(output_10)\n",
    "    \n",
    "    return output\n",
    "\n",
    "def test_function(test_case):\n",
    "    number = test_case[0]\n",
    "    solution = test_case[1]\n",
    "    \n",
    "    output = all_codes(number)\n",
    "    \n",
    "    output.sort()\n",
    "    solution.sort()\n",
    "    \n",
    "    if output == solution:\n",
    "        print(\"Pass\")\n",
    "    else:\n",
    "        print(\"Fail\")\n",
    "  \n",
    "\n",
    "number = 123\n",
    "solution = ['abc', 'aw', 'lc']\n",
    "test_case = [number, solution]\n",
    "test_function(test_case)\n",
    "\n",
    "number = 145\n",
    "solution =  ['ade', 'ne']\n",
    "test_case = [number, solution]\n",
    "test_function(test_case)\n",
    "\n",
    "number = 1145\n",
    "solution =  ['aade', 'ane', 'kde']\n",
    "test_case = [number, solution]\n",
    "test_function(test_case)\n",
    "\n",
    "number = 4545\n",
    "solution = ['dede']\n",
    "test_case = [number, solution]\n",
    "test_function(test_case)\n",
    "\n",
    "\n"
   ]
  },
  {
   "cell_type": "markdown",
   "metadata": {},
   "source": [
    "## Return Subsets\n",
    "\n",
    "\n",
    "Given an integer array, find and return all the subsets of the array.\n",
    "The order of subsets in the output array is not important. However the order of elements in a particular subset should remain the same as in the input array.\n",
    "\n",
    "*Note: An empty set will be represented by an empty list*\n",
    "\n",
    "**Example 1**\n",
    "\n",
    "```\n",
    "arr = [9]\n",
    "\n",
    "output = [[]\n",
    "          [9]]\n",
    "```\n",
    "\n",
    "**Example 2**\n",
    "\n",
    "```\n",
    "arr = [9, 12, 15]\n",
    "\n",
    "output =  [[],\n",
    "           [15],\n",
    "           [12],\n",
    "           [12, 15],\n",
    "           [9],\n",
    "           [9, 15],\n",
    "           [9, 12],\n",
    "           [9, 12, 15]]\n",
    "```\n",
    "\n",
    "## How to solve\n",
    "1. what kind of recursion problems is this?\n",
    "2. what is the base case?\n",
    "3. do we need variables for post recursive call\n",
    "4. what data structures do we need to hold output during each call\n",
    "4. how many recursive calls do we need?\n",
    "5. what parameters for recursive calls?\n",
    "7. what does recursive call do?\n",
    "8. algorithms for after recusive call data manipulation before output\n",
    "9. what is the output\n",
    "\n",
    "## How to solve\n",
    "* ordered combinations - no premutations\n",
    "* base case: empty array we need to recusive it down to empty array\n",
    "* we are going to need to break list down into individual elements and rebuild it back up the recursion tree\n",
    "\n",
    "Problems\n",
    "1. have to return base case as empty list [[]] - this enables adding to other lists\n",
    "2. deep copy of results - if you are going to alter the results you have to deep opy them \n",
    "3. adding list together was a problem\n",
    "4. appending results to output before alter them"
   ]
  },
  {
   "cell_type": "code",
   "execution_count": 76,
   "metadata": {},
   "outputs": [
    {
     "name": "stdout",
     "output_type": "stream",
     "text": [
      "[[], [9]]\n",
      "Pass\n",
      "[[], [7], [5], [5, 7]]\n",
      "Pass\n",
      "[[], [15], [12], [12, 15], [9], [9, 15], [9, 12], [9, 12, 15]]\n",
      "Pass\n",
      "[[], [8], [9], [9, 8], [8], [8, 8], [8, 9], [8, 9, 8], [9], [9, 8], [9, 9], [9, 9, 8], [9, 8], [9, 8, 8], [9, 8, 9], [9, 8, 9, 8]]\n",
      "Pass\n"
     ]
    }
   ],
   "source": [
    "# my solution\n",
    "def subsets(arr):\n",
    "    \"\"\"\n",
    "    :param: arr - input integer array\n",
    "    Return - list of lists (two dimensional array) where each list represents a subset\n",
    "    TODO: complete this method to return subsets of an array\n",
    "    \"\"\"\n",
    "    \n",
    "    if len(arr) == 0:\n",
    "        return [[]]\n",
    "                   \n",
    "    output = []\n",
    "    \n",
    "    element = arr[0]\n",
    "    results = subsets(arr[1:])\n",
    "   \n",
    "    output.extend(results)\n",
    "    \n",
    "    for r in results:           \n",
    "        current = list()\n",
    "        current.append(element)\n",
    "        current.extend(r)\n",
    "        output.append(current)\n",
    "\n",
    "    return output\n",
    "  \n",
    "    \n",
    "# their solution\n",
    "# . breaks it down to empty array\n",
    "# variable on each recusive call is index\n",
    "# only one recusive call\n",
    "\n",
    "\n",
    "def subsets2(arr):\n",
    "    return return_subsets(arr, 0)\n",
    "\n",
    "def return_subsets(arr, index):\n",
    "    if index >= len(arr):\n",
    "        return [[]]\n",
    "\n",
    "    small_output = return_subsets(arr, index + 1)\n",
    "    print(small_output)\n",
    "    output = list()\n",
    "    # append existing subsets\n",
    "    for element in small_output:\n",
    "        output.append(element)\n",
    "\n",
    "    # add current elements to existing subsets and add them to the output\n",
    "    #\n",
    "    # this is just use to add the current element (arr[index]) to the front of all the small_output\n",
    "    for element in small_output:\n",
    "        current = list()\n",
    "        # adds element at current list\n",
    "        current.append(arr[index])\n",
    "        # adds entire element to current list\n",
    "        current.extend(element)\n",
    "        # adds both to output\n",
    "        output.append(current)\n",
    "    return output\n",
    "    \n",
    "    \n",
    "def test_function(test_case):\n",
    "    arr = test_case[0]\n",
    "    solution = test_case[1]\n",
    "    \n",
    "    output = subsets(arr)\n",
    "    \n",
    "    print(output)\n",
    "    \n",
    "    output.sort()\n",
    "    solution.sort()\n",
    "    \n",
    "    \n",
    "    if output == solution:\n",
    "        print(\"Pass\")\n",
    "    else:\n",
    "        print(\"Fail\")    \n",
    "    \n",
    "    \n",
    "arr = [9]\n",
    "solution = [[], [9]]\n",
    "\n",
    "\n",
    "test_case = [arr, solution]\n",
    "test_function(test_case)\n",
    "\n",
    "arr = [5, 7]\n",
    "solution = [[], [7], [5], [5, 7]]\n",
    "test_case = [arr, solution]\n",
    "test_function(test_case)\n",
    "\n",
    "arr = [9, 12, 15]\n",
    "solution = [[], [15], [12], [12, 15], [9], [9, 15], [9, 12], [9, 12, 15]]\n",
    "\n",
    "test_case = [arr, solution]\n",
    "test_function(test_case)\n",
    "\n",
    "arr = [9, 8, 9, 8]\n",
    "solution = [[],\n",
    "[8],\n",
    "[9],\n",
    "[9, 8],\n",
    "[8],\n",
    "[8, 8],\n",
    "[8, 9],\n",
    "[8, 9, 8],\n",
    "[9],\n",
    "[9, 8],\n",
    "[9, 9],\n",
    "[9, 9, 8],\n",
    "[9, 8],\n",
    "[9, 8, 8],\n",
    "[9, 8, 9],\n",
    "[9, 8, 9, 8]]\n",
    "\n",
    "test_case = [arr, solution]\n",
    "test_function(test_case)"
   ]
  },
  {
   "cell_type": "markdown",
   "metadata": {},
   "source": [
    "## Divide and Conquer"
   ]
  },
  {
   "cell_type": "markdown",
   "metadata": {},
   "source": [
    "## Merge Sort - 2 recursive calls, one variable array (split down middle left half and right half)\n",
    "does not return anything, array is sorted in place"
   ]
  },
  {
   "cell_type": "code",
   "execution_count": 81,
   "metadata": {},
   "outputs": [
    {
     "name": "stdout",
     "output_type": "stream",
     "text": [
      "[8, 3, 1, 7, 0, 10, 2] to [0, 1, 2, 3, 7, 8, 10]\n",
      "[1, 0] to [0, 1]\n",
      "[97, 98, 99] to [97, 98, 99]\n"
     ]
    }
   ],
   "source": [
    "def mergesort(items):\n",
    "    if len(items) <= 1:\n",
    "        return items\n",
    "    \n",
    "    mid = len(items) // 2\n",
    "    left = items[:mid]\n",
    "    right = items[mid:]\n",
    "    \n",
    "    left = mergesort(left)\n",
    "    right = mergesort(right)\n",
    "    \n",
    "    return merge(left, right)\n",
    "    \n",
    "def merge(left, right):\n",
    "    \n",
    "    merged = []\n",
    "    left_index = 0\n",
    "    right_index = 0\n",
    "    \n",
    "    while left_index < len(left) and right_index < len(right):\n",
    "        if left[left_index] > right[right_index]:\n",
    "            merged.append(right[right_index])\n",
    "            right_index += 1\n",
    "        else:\n",
    "            merged.append(left[left_index])\n",
    "            left_index += 1\n",
    "\n",
    "    merged += left[left_index:]\n",
    "    merged += right[right_index:]\n",
    "        \n",
    "    return merged\n",
    "\n",
    "\n",
    "test_list_1 = [8, 3, 1, 7, 0, 10, 2]\n",
    "test_list_2 = [1, 0]\n",
    "test_list_3 = [97, 98, 99]\n",
    "print('{} to {}'.format(test_list_1, mergesort(test_list_1)))\n",
    "print('{} to {}'.format(test_list_2, mergesort(test_list_2)))\n",
    "print('{} to {}'.format(test_list_3, mergesort(test_list_3)))"
   ]
  },
  {
   "cell_type": "markdown",
   "metadata": {},
   "source": [
    "## Median Problem"
   ]
  },
  {
   "cell_type": "code",
   "execution_count": null,
   "metadata": {},
   "outputs": [],
   "source": []
  },
  {
   "cell_type": "code",
   "execution_count": null,
   "metadata": {},
   "outputs": [],
   "source": []
  },
  {
   "cell_type": "markdown",
   "metadata": {},
   "source": [
    "## Searching"
   ]
  },
  {
   "cell_type": "markdown",
   "metadata": {},
   "source": [
    "### Last index recursion\n",
    "\n",
    "Given an array `arr` and a target element `target`, find the last index of occurence of `target` in `arr` using recursion. If `target` is not present in `arr`, return `-1`.\n",
    "\n",
    "For example:\n",
    "\n",
    "1. For `arr = [1, 2, 5, 5, 4]` and `target = 5`, `output = 3`\n",
    "\n",
    "2. For `arr = [1, 2, 5, 5, 4]` and `target = 7`, `output = -1`\n",
    "\n",
    "Just searches full array and the return of the recursion will always the index closes to the base case"
   ]
  },
  {
   "cell_type": "code",
   "execution_count": 78,
   "metadata": {},
   "outputs": [
    {
     "name": "stdout",
     "output_type": "stream",
     "text": [
      "Pass\n",
      "Pass\n",
      "Pass\n",
      "Pass\n"
     ]
    }
   ],
   "source": [
    "# Solution\n",
    "def last_index(arr, target):\n",
    "    # we start looking from the last index\n",
    "    return last_index_arr(arr, target, len(arr) - 1)\n",
    "\n",
    "\n",
    "def last_index_arr(arr, target, index):\n",
    "    if index < 0:\n",
    "        return -1\n",
    "    \n",
    "    # check if target is found\n",
    "    if arr[index] == target:\n",
    "        return index\n",
    "\n",
    "    # else make a recursive call to the rest of the array\n",
    "    return last_index_arr(arr, target, index - 1)\n",
    "def test_function(test_case):\n",
    "    arr = test_case[0]\n",
    "    target = test_case[1]\n",
    "    solution = test_case[2]\n",
    "    output = last_index(arr, target)\n",
    "    if output == solution:\n",
    "        print(\"Pass\")\n",
    "    else:\n",
    "        print(\"False\")\n",
    "        \n",
    "arr = [1, 2, 5, 5, 4]\n",
    "target = 5\n",
    "solution = 3\n",
    "\n",
    "test_case = [arr, target, solution]\n",
    "test_function(test_case)\n",
    "\n",
    "arr = [1, 2, 5, 5, 4]\n",
    "target = 7\n",
    "solution = -1\n",
    "\n",
    "test_case = [arr, target, solution]\n",
    "test_function(test_case)\n",
    "\n",
    "arr = [91, 19, 3, 8, 9]\n",
    "target = 91\n",
    "solution = 0\n",
    "\n",
    "test_case = [arr, target, solution]\n",
    "test_function(test_case)\n",
    "\n",
    "arr = [1, 1, 1, 1, 1, 1]\n",
    "target = 1\n",
    "solution = 5\n",
    "\n",
    "test_case = [arr, target, solution]\n",
    "test_function(test_case)"
   ]
  },
  {
   "cell_type": "markdown",
   "metadata": {},
   "source": [
    "# recursion with cache"
   ]
  },
  {
   "cell_type": "code",
   "execution_count": 80,
   "metadata": {},
   "outputs": [
    {
     "name": "stdout",
     "output_type": "stream",
     "text": [
      "Pass\n",
      "Pass\n"
     ]
    }
   ],
   "source": [
    "def staircase(n):\n",
    "    cache = {0: 0, 1: 1, 2: 2, 3: 4}\n",
    "    return staircase_faster(n, cache)\n",
    "\n",
    "def staircase_faster(n, cache):\n",
    "\n",
    "    if n not in cache:\n",
    "        cache[n] = staircase_faster(n-1, cache) + staircase_faster(n-2, cache) + staircase_faster(n-3, cache)\n",
    "   \n",
    "    return cache[n]\n",
    "\n",
    "def test_function(test_case):\n",
    "    answer = staircase(test_case[0])\n",
    "    if answer == test_case[1]:\n",
    "        print(\"Pass\")\n",
    "    else:\n",
    "        print(\"Fail\")\n",
    "        \n",
    "test_case = [4, 7]\n",
    "test_function(test_case)\n",
    "\n",
    "test_case = [20, 121415]\n",
    "test_function(test_case)"
   ]
  },
  {
   "cell_type": "code",
   "execution_count": null,
   "metadata": {},
   "outputs": [],
   "source": []
  }
 ],
 "metadata": {
  "kernelspec": {
   "display_name": "Python 3",
   "language": "python",
   "name": "python3"
  },
  "language_info": {
   "codemirror_mode": {
    "name": "ipython",
    "version": 3
   },
   "file_extension": ".py",
   "mimetype": "text/x-python",
   "name": "python",
   "nbconvert_exporter": "python",
   "pygments_lexer": "ipython3",
   "version": "3.7.5"
  }
 },
 "nbformat": 4,
 "nbformat_minor": 4
}
