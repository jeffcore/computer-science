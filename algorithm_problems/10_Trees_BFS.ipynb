{
 "cells": [
  {
   "cell_type": "markdown",
   "metadata": {},
   "source": [
    "# Trees\n",
    "SEE TREE DATA STRUCTURES NOTEBOOK FOR IMPLEMENTATIONS"
   ]
  },
  {
   "cell_type": "code",
   "execution_count": 62,
   "metadata": {},
   "outputs": [],
   "source": [
    "# run this first\n",
    "class TreeNode:\n",
    "    def __init__(self, val):\n",
    "        self.val = val\n",
    "        self.left, self.right, self.next = None, None, None\n",
    "\n",
    "    # level order traversal using 'next' pointer\n",
    "    def print_level_order(self):\n",
    "        nextLevelRoot = self\n",
    "        while nextLevelRoot:\n",
    "            current = nextLevelRoot\n",
    "            nextLevelRoot = None\n",
    "            while current:\n",
    "                print(str(current.val) + \" \", end='')\n",
    "                if not nextLevelRoot:\n",
    "                    if current.left:\n",
    "                        nextLevelRoot = current.left\n",
    "                    elif current.right:\n",
    "                        nextLevelRoot = current.right\n",
    "                current = current.next\n",
    "            print()\n",
    "    def print_tree(self):\n",
    "        print(\"Traversal using 'next' pointer: \", end='')\n",
    "        current = self\n",
    "        while current:\n",
    "            print(str(current.val) + \" \", end='')\n",
    "            current = current.next"
   ]
  },
  {
   "cell_type": "markdown",
   "metadata": {},
   "source": [
    "# BFS\n",
    "\n",
    "Any problem involving the traversal of a tree in a level-by-level order can be efficiently solved using this approach. We will use a Queue to keep track of all the nodes of a level before we jump onto the next level. This also means that the space complexity of the algorithm will be O(W)O(W), where ‘W’ is the maximum number of nodes on any level."
   ]
  },
  {
   "cell_type": "markdown",
   "metadata": {},
   "source": [
    "## Traversals\n",
    "\n",
    "### Binary Tree Level Order Traversal easy\n",
    "\n",
    "Given a binary tree, populate an array to represent its level-by-level traversal. You should populate the values of all nodes of each level from left to right in separate sub-arrays.\n"
   ]
  },
  {
   "cell_type": "code",
   "execution_count": 14,
   "metadata": {},
   "outputs": [
    {
     "name": "stdout",
     "output_type": "stream",
     "text": [
      "Level order traversal: [[12], [7, 1], [9, 10, 5]]\n"
     ]
    }
   ],
   "source": [
    "# try it\n",
    "from collections import deque\n",
    "\n",
    "def traverse(root):\n",
    "    result = []\n",
    "    if root is None:\n",
    "        return result\n",
    "    \n",
    "    queue = deque()\n",
    "    queue.append(root)\n",
    "    \n",
    "    while queue:\n",
    "        level_size = len(queue)\n",
    "        current_level = []\n",
    "        for _ in range(level_size):\n",
    "            current_node = queue.popleft()\n",
    "            \n",
    "            current_level.append(current_node.val)\n",
    "            \n",
    "            if current_node.left:\n",
    "                queue.append(current_node.left)\n",
    "            if current_node.right:\n",
    "                queue.append(current_node.right)\n",
    "        \n",
    "        result.append(current_level)\n",
    "        \n",
    "    return result\n",
    "\n",
    "root = TreeNode(12)\n",
    "root.left = TreeNode(7)\n",
    "root.right = TreeNode(1)\n",
    "root.left.left = TreeNode(9)\n",
    "root.right.left = TreeNode(10)\n",
    "root.right.right = TreeNode(5)\n",
    "print(\"Level order traversal: \" + str(traverse(root)))"
   ]
  },
  {
   "cell_type": "code",
   "execution_count": 10,
   "metadata": {},
   "outputs": [
    {
     "name": "stdout",
     "output_type": "stream",
     "text": [
      "Level order traversal: [[12], [7, 1], [9, 10, 5]]\n"
     ]
    }
   ],
   "source": [
    "from collections import deque\n",
    "\n",
    "def traverse(root):\n",
    "    result = []\n",
    "    if root is None:\n",
    "        return result\n",
    "\n",
    "    queue = deque()\n",
    "    queue.append(root)\n",
    "    while queue:\n",
    "        levelSize = len(queue)\n",
    "        currentLevel = []\n",
    "        for _ in range(levelSize):\n",
    "            currentNode = queue.popleft()\n",
    "            # add the node to the current level\n",
    "            currentLevel.append(currentNode.val)\n",
    "            # insert the children of current node in the queue\n",
    "            if currentNode.left:\n",
    "                queue.append(currentNode.left)\n",
    "            if currentNode.right:\n",
    "                queue.append(currentNode.right)\n",
    "\n",
    "        result.append(currentLevel)\n",
    "\n",
    "    return result\n",
    "\n",
    "root = TreeNode(12)\n",
    "root.left = TreeNode(7)\n",
    "root.right = TreeNode(1)\n",
    "root.left.left = TreeNode(9)\n",
    "root.right.left = TreeNode(10)\n",
    "root.right.right = TreeNode(5)\n",
    "print(\"Level order traversal: \" + str(traverse(root)))"
   ]
  },
  {
   "cell_type": "markdown",
   "metadata": {},
   "source": [
    "### Reverse Level Order Traversal (easy)\n",
    "Given a binary tree, populate an array to represent its level-by-level traversal in reverse order, i.e., the lowest level comes first. You should populate the values of all nodes in each level from left to right in separate sub-arrays."
   ]
  },
  {
   "cell_type": "code",
   "execution_count": 19,
   "metadata": {},
   "outputs": [
    {
     "name": "stdout",
     "output_type": "stream",
     "text": [
      "Reverse level order traversal: deque([[9, 10, 5], [7, 1], [12]])\n"
     ]
    }
   ],
   "source": [
    "from collections import deque\n",
    "\n",
    "def traverse(root):\n",
    "    result = deque()\n",
    "    if root == None:\n",
    "        return result\n",
    "    \n",
    "    queue = deque()\n",
    "    queue.append(root)\n",
    "    while queue:\n",
    "        level_size = len(queue)\n",
    "        current_level = []\n",
    "        for _ in range(level_size):\n",
    "            cur_node = queue.popleft()\n",
    "            current_level.append(cur_node.val)\n",
    "            if cur_node.left:\n",
    "                queue.append(cur_node.left)\n",
    "            if cur_node.right:\n",
    "                queue.append(cur_node.right)\n",
    "                \n",
    "        result.appendleft(current_level)\n",
    "    \n",
    "    return result\n",
    "    \n",
    "    \n",
    "root = TreeNode(12)\n",
    "root.left = TreeNode(7)\n",
    "root.right = TreeNode(1)\n",
    "root.left.left = TreeNode(9)\n",
    "root.right.left = TreeNode(10)\n",
    "root.right.right = TreeNode(5)\n",
    "print(\"Reverse level order traversal: \" + str(traverse(root)))"
   ]
  },
  {
   "cell_type": "code",
   "execution_count": 21,
   "metadata": {},
   "outputs": [
    {
     "name": "stdout",
     "output_type": "stream",
     "text": [
      "Reverse level order traversal: deque([[9, 10, 5], [7, 1], [12]])\n"
     ]
    }
   ],
   "source": [
    "from collections import deque\n",
    "\n",
    "def traverse(root):\n",
    "    result = deque()\n",
    "    if root is None:\n",
    "        return result\n",
    "\n",
    "    queue = deque()\n",
    "    queue.append(root)\n",
    "    while queue:\n",
    "        levelSize = len(queue)\n",
    "        currentLevel = []\n",
    "        for _ in range(levelSize):\n",
    "            currentNode = queue.popleft()\n",
    "            # add the node to the current level\n",
    "            # insert the children of current node in the queue\n",
    "            if currentNode.left:\n",
    "                queue.append(currentNode.left)\n",
    "            if currentNode.right:\n",
    "                queue.append(currentNode.right)\n",
    "\n",
    "        result.appendleft(currentLevel)\n",
    "\n",
    "    return result\n",
    "\n",
    "root = TreeNode(12)\n",
    "root.left = TreeNode(7)\n",
    "root.right = TreeNode(1)\n",
    "root.left.left = TreeNode(9)\n",
    "root.right.left = TreeNode(10)\n",
    "root.right.right = TreeNode(5)\n",
    "print(\"Reverse level order traversal: \" + str(traverse(root)))"
   ]
  },
  {
   "cell_type": "markdown",
   "metadata": {},
   "source": [
    "### Zigzag Traversal (medium)\n",
    "\n",
    "Given a binary tree, populate an array to represent its zigzag level order traversal. You should populate the values of all nodes of the first level from left to right, then right to left for the next level and keep alternating in the same manner for the following levels.\n",
    "\n"
   ]
  },
  {
   "cell_type": "code",
   "execution_count": 28,
   "metadata": {},
   "outputs": [
    {
     "name": "stdout",
     "output_type": "stream",
     "text": [
      "Zigzag traversal: deque([[12], [1, 7], [9, 10, 5], [17, 20]])\n"
     ]
    }
   ],
   "source": [
    "from collections import deque\n",
    "\n",
    "def traverse(root):\n",
    "    result = deque()\n",
    "    if root is None:\n",
    "        return result\n",
    "    \n",
    "    queue = deque()\n",
    "    queue.append(root)\n",
    "    dir_left_to_right = True\n",
    "    while queue:\n",
    "        num_nodes_in_cur_level = len(queue)\n",
    "        cur_nodes = []\n",
    "        \n",
    "        for _ in range(num_nodes_in_cur_level):\n",
    "            cur_node = queue.popleft()\n",
    "            \n",
    "            if dir_left_to_right:\n",
    "                cur_nodes.append(cur_node.val)\n",
    "            else:\n",
    "                cur_nodes.insert(0, cur_node.val)            \n",
    "                \n",
    "            if cur_node.left:               \n",
    "                queue.append(cur_node.left)\n",
    "            \n",
    "            if cur_node.right:\n",
    "                queue.append(cur_node.right)\n",
    "            \n",
    "        dir_left_to_right =  not dir_left_to_right\n",
    "        result.append(cur_nodes)\n",
    "            \n",
    "    return result\n",
    "\n",
    "root = TreeNode(12)\n",
    "root.left = TreeNode(7)\n",
    "root.right = TreeNode(1)\n",
    "root.left.left = TreeNode(9)\n",
    "root.right.left = TreeNode(10)\n",
    "root.right.right = TreeNode(5)\n",
    "root.right.left.left = TreeNode(20)\n",
    "root.right.left.right = TreeNode(17)\n",
    "print(\"Zigzag traversal: \" + str(traverse(root)))"
   ]
  },
  {
   "cell_type": "code",
   "execution_count": 30,
   "metadata": {},
   "outputs": [
    {
     "name": "stdout",
     "output_type": "stream",
     "text": [
      "Zigzag traversal: [[12], [1, 7], [9, 10, 5], [17, 20]]\n"
     ]
    }
   ],
   "source": [
    "from collections import deque\n",
    "\n",
    "def traverse(root):\n",
    "    result = []\n",
    "    if root is None:\n",
    "        return result\n",
    "\n",
    "    queue = deque()\n",
    "    queue.append(root)\n",
    "    leftToRight = True\n",
    "    while queue:\n",
    "        levelSize = len(queue)\n",
    "        currentLevel = deque()\n",
    "        for _ in range(levelSize):\n",
    "            currentNode = queue.popleft()\n",
    "\n",
    "            # add the node to the current level based on the traverse direction\n",
    "            if leftToRight:\n",
    "                currentLevel.append(currentNode.val)\n",
    "            else:\n",
    "                currentLevel.appendleft(currentNode.val)\n",
    "\n",
    "            # insert the children of current node in the queue\n",
    "            if currentNode.left:\n",
    "                queue.append(currentNode.left)\n",
    "            if currentNode.right:\n",
    "                queue.append(currentNode.right)\n",
    "\n",
    "        result.append(list(currentLevel))\n",
    "        # reverse the traversal direction\n",
    "        leftToRight = not leftToRight\n",
    "\n",
    "    return result\n",
    "\n",
    "root = TreeNode(12)\n",
    "root.left = TreeNode(7)\n",
    "root.right = TreeNode(1)\n",
    "root.left.left = TreeNode(9)\n",
    "root.right.left = TreeNode(10)\n",
    "root.right.right = TreeNode(5)\n",
    "root.right.left.left = TreeNode(20)\n",
    "root.right.left.right = TreeNode(17)\n",
    "print(\"Zigzag traversal: \" + str(traverse(root)))"
   ]
  },
  {
   "cell_type": "markdown",
   "metadata": {},
   "source": [
    "### Level Averages in a Binary Tree (easy)\n",
    "Given a binary tree, populate an array to represent the averages of all of its levels."
   ]
  },
  {
   "cell_type": "code",
   "execution_count": 34,
   "metadata": {},
   "outputs": [
    {
     "name": "stdout",
     "output_type": "stream",
     "text": [
      "Level averages are: deque([12.0, 4.0, 6.5])\n"
     ]
    }
   ],
   "source": [
    "from collections import deque\n",
    "\n",
    "def find_level_averages(root):\n",
    "    results = deque()\n",
    "    \n",
    "    if root is None:\n",
    "        return results\n",
    "    \n",
    "    queue = deque()\n",
    "    queue.append(root)\n",
    "    while queue:\n",
    "        num_node_in_cur_level = len(queue)\n",
    "        cur_nodes = []\n",
    "        \n",
    "        for _ in range(num_node_in_cur_level):\n",
    "            cur_node = queue.popleft()\n",
    "            \n",
    "            cur_nodes.append(cur_node.val)\n",
    "            \n",
    "            if cur_node.left:\n",
    "                queue.append(cur_node.left)\n",
    "            \n",
    "            if cur_node.right:\n",
    "                queue.append(cur_node.right)\n",
    "                \n",
    "        results.append(sum(cur_nodes)/num_node_in_cur_level)    \n",
    "            \n",
    "    return results\n",
    "            \n",
    "    \n",
    "    \n",
    "\n",
    "root = TreeNode(12)\n",
    "root.left = TreeNode(7)\n",
    "root.right = TreeNode(1)\n",
    "root.left.left = TreeNode(9)\n",
    "root.left.right = TreeNode(2)\n",
    "root.right.left = TreeNode(10)\n",
    "root.right.right = TreeNode(5)\n",
    "print(\"Level averages are: \" + str(find_level_averages(root)))"
   ]
  },
  {
   "cell_type": "code",
   "execution_count": null,
   "metadata": {},
   "outputs": [],
   "source": [
    "from collections import deque\n",
    "\n",
    "def find_level_averages(root):\n",
    "  result = []\n",
    "  if root is None:\n",
    "    return result\n",
    "\n",
    "  queue = deque()\n",
    "  queue.append(root)\n",
    "  while queue:\n",
    "    levelSize = len(queue)\n",
    "    levelSum = 0.0\n",
    "    for _ in range(levelSize):\n",
    "      currentNode = queue.popleft()\n",
    "      # add the node's value to the running sum\n",
    "      levelSum += currentNode.val\n",
    "      # insert the children of current node to the queue\n",
    "      if currentNode.left:\n",
    "        queue.append(currentNode.left)\n",
    "      if currentNode.right:\n",
    "        queue.append(currentNode.right)\n",
    "\n",
    "    # append the current level's average to the result array\n",
    "    result.append(levelSum / levelSize)\n",
    "\n",
    "  return result\n",
    "\n",
    "root = TreeNode(12)\n",
    "root.left = TreeNode(7)\n",
    "root.right = TreeNode(1)\n",
    "root.left.left = TreeNode(9)\n",
    "root.left.right = TreeNode(2)\n",
    "root.right.left = TreeNode(10)\n",
    "root.right.right = TreeNode(5)\n",
    "print(\"Level averages are: \" + str(find_level_averages(root)))"
   ]
  },
  {
   "cell_type": "markdown",
   "metadata": {},
   "source": [
    "### Minimum Depth of a Binary Tree (easy)\n",
    "Find the minimum depth of a binary tree. The minimum depth is the number of nodes along the shortest path from the root node to the nearest leaf node."
   ]
  },
  {
   "cell_type": "code",
   "execution_count": 43,
   "metadata": {},
   "outputs": [
    {
     "name": "stdout",
     "output_type": "stream",
     "text": [
      "Tree Minimum Depth: 2\n",
      "Tree Minimum Depth: 3\n"
     ]
    }
   ],
   "source": [
    "from collections import deque\n",
    "\n",
    "def find_minimum_depth(root):\n",
    "    if root is None:\n",
    "        return -1\n",
    "\n",
    "    queue = deque()\n",
    "    queue.append(root)\n",
    "    level = 0\n",
    "    \n",
    "    while queue:\n",
    "        level += 1\n",
    "        num_nodes_level = len(queue)\n",
    "    \n",
    "        for _ in range(num_nodes_level):\n",
    "            cur_node = queue.popleft()\n",
    "            \n",
    "              # check if this is a leaf node\n",
    "            if not cur_node.left and not cur_node.right:\n",
    "                return level\n",
    "            \n",
    "            if cur_node.left:\n",
    "                queue.append(cur_node.left)\n",
    "            if cur_node.right:\n",
    "                queue.append(cur_node.right)\n",
    "                \n",
    "root = TreeNode(12)\n",
    "root.left = TreeNode(7)\n",
    "root.right = TreeNode(1)\n",
    "root.right.left = TreeNode(10)\n",
    "root.right.right = TreeNode(5)\n",
    "print(\"Tree Minimum Depth: \" + str(find_minimum_depth(root)))\n",
    "root.left.left = TreeNode(9)\n",
    "root.right.left.left = TreeNode(11)\n",
    "print(\"Tree Minimum Depth: \" + str(find_minimum_depth(root)))"
   ]
  },
  {
   "cell_type": "code",
   "execution_count": 41,
   "metadata": {},
   "outputs": [
    {
     "name": "stdout",
     "output_type": "stream",
     "text": [
      "Tree Minimum Depth: 2\n",
      "Tree Minimum Depth: 3\n"
     ]
    }
   ],
   "source": [
    "from collections import deque\n",
    "\n",
    "def find_minimum_depth(root):\n",
    "  if root is None:\n",
    "    return 0\n",
    "\n",
    "  queue = deque()\n",
    "  queue.append(root)\n",
    "  minimumTreeDepth = 0\n",
    "  while queue:\n",
    "    minimumTreeDepth += 1\n",
    "    levelSize = len(queue)\n",
    "    for _ in range(levelSize):\n",
    "      currentNode = queue.popleft()\n",
    "\n",
    "      # check if this is a leaf node\n",
    "      if not currentNode.left and not currentNode.right:\n",
    "        return minimumTreeDepth\n",
    "\n",
    "      # insert the children of current node in the queue\n",
    "      if currentNode.left:\n",
    "        queue.append(currentNode.left)\n",
    "      if currentNode.right:\n",
    "        queue.append(currentNode.right)\n",
    "\n",
    "root = TreeNode(12)\n",
    "root.left = TreeNode(7)\n",
    "root.right = TreeNode(1)\n",
    "root.right.left = TreeNode(10)\n",
    "root.right.right = TreeNode(5)\n",
    "print(\"Tree Minimum Depth: \" + str(find_minimum_depth(root)))\n",
    "root.left.left = TreeNode(9)\n",
    "root.right.left.left = TreeNode(11)\n",
    "print(\"Tree Minimum Depth: \" + str(find_minimum_depth(root)))"
   ]
  },
  {
   "cell_type": "markdown",
   "metadata": {},
   "source": [
    "### Minimum Depth of a Binary Tree (easy)\n",
    "Given a binary tree, find its maximum depth (or height)."
   ]
  },
  {
   "cell_type": "code",
   "execution_count": 45,
   "metadata": {},
   "outputs": [
    {
     "name": "stdout",
     "output_type": "stream",
     "text": [
      "Tree Minimum Depth: 3\n",
      "Tree Minimum Depth: 4\n"
     ]
    }
   ],
   "source": [
    "from collections import deque\n",
    "\n",
    "def find_minimum_depth(root):\n",
    "    if root is None:\n",
    "        return -1\n",
    "\n",
    "    queue = deque()\n",
    "    queue.append(root)\n",
    "    level = 0\n",
    "    \n",
    "    while queue:\n",
    "        level += 1\n",
    "        num_nodes_level = len(queue)\n",
    "    \n",
    "        for _ in range(num_nodes_level):\n",
    "            cur_node = queue.popleft()\n",
    "            \n",
    "            if cur_node.left:\n",
    "                queue.append(cur_node.left)\n",
    "            if cur_node.right:\n",
    "                queue.append(cur_node.right)\n",
    "    \n",
    "    return level\n",
    "                \n",
    "root = TreeNode(12)\n",
    "root.left = TreeNode(7)\n",
    "root.right = TreeNode(1)\n",
    "root.right.left = TreeNode(10)\n",
    "root.right.right = TreeNode(5)\n",
    "print(\"Tree Minimum Depth: \" + str(find_minimum_depth(root)))\n",
    "root.left.left = TreeNode(9)\n",
    "root.right.left.left = TreeNode(11)\n",
    "print(\"Tree Minimum Depth: \" + str(find_minimum_depth(root)))"
   ]
  },
  {
   "cell_type": "code",
   "execution_count": 44,
   "metadata": {},
   "outputs": [
    {
     "name": "stdout",
     "output_type": "stream",
     "text": [
      "Tree Maximum Depth: 3\n",
      "Tree Maximum Depth: 4\n"
     ]
    }
   ],
   "source": [
    "from collections import deque\n",
    "\n",
    "\n",
    "class TreeNode:\n",
    "  def __init__(self, val):\n",
    "    self.val = val\n",
    "    self.left, self.right = None, None\n",
    "\n",
    "\n",
    "def find_maximum_depth(root):\n",
    "  if root is None:\n",
    "    return 0\n",
    "\n",
    "  queue = deque()\n",
    "  queue.append(root)\n",
    "  maximumTreeDepth = 0\n",
    "  while queue:\n",
    "    maximumTreeDepth += 1\n",
    "    levelSize = len(queue)\n",
    "    for _ in range(levelSize):\n",
    "      currentNode = queue.popleft()\n",
    "\n",
    "      # insert the children of current node in the queue\n",
    "      if currentNode.left:\n",
    "        queue.append(currentNode.left)\n",
    "      if currentNode.right:\n",
    "        queue.append(currentNode.right)\n",
    "\n",
    "  return maximumTreeDepth\n",
    "\n",
    "\n",
    "def main():\n",
    "  root = TreeNode(12)\n",
    "  root.left = TreeNode(7)\n",
    "  root.right = TreeNode(1)\n",
    "  root.right.left = TreeNode(10)\n",
    "  root.right.right = TreeNode(5)\n",
    "  print(\"Tree Maximum Depth: \" + str(find_maximum_depth(root)))\n",
    "  root.left.left = TreeNode(9)\n",
    "  root.right.left.left = TreeNode(11)\n",
    "  print(\"Tree Maximum Depth: \" + str(find_maximum_depth(root)))\n",
    "\n",
    "\n",
    "main()\n"
   ]
  },
  {
   "cell_type": "markdown",
   "metadata": {},
   "source": [
    "### Level Order Successor (easy)\n",
    "Given a binary tree and a node, find the level order successor of the given node in the tree. The level order successor is the node that appears right after the given node in the level order traversal."
   ]
  },
  {
   "cell_type": "code",
   "execution_count": 49,
   "metadata": {},
   "outputs": [
    {
     "name": "stdout",
     "output_type": "stream",
     "text": [
      "7\n",
      "10\n"
     ]
    }
   ],
   "source": [
    "from collections import deque\n",
    "\n",
    "def find_successor(root, key):\n",
    "    if root is None:\n",
    "        return -1\n",
    "\n",
    "    queue = deque()\n",
    "    queue.append(root)\n",
    "    level = 0\n",
    "    found_key = False\n",
    "    while queue:\n",
    "        level += 1\n",
    "        num_nodes_level = len(queue)\n",
    "    \n",
    "        for _ in range(num_nodes_level):\n",
    "            cur_node = queue.popleft()\n",
    "            if found_key:\n",
    "                return cur_node\n",
    "            \n",
    "            \n",
    "            if cur_node.val == key:\n",
    "                found_key = True\n",
    "            if cur_node.left:\n",
    "                queue.append(cur_node.left)\n",
    "            if cur_node.right:\n",
    "                queue.append(cur_node.right)\n",
    "    \n",
    "    return None\n",
    "    \n",
    "    \n",
    "root = TreeNode(12)\n",
    "root.left = TreeNode(7)\n",
    "root.right = TreeNode(1)\n",
    "root.left.left = TreeNode(9)\n",
    "root.right.left = TreeNode(10)\n",
    "root.right.right = TreeNode(5)\n",
    "result = find_successor(root, 12)\n",
    "if result:\n",
    "    print(result.val)\n",
    "result = find_successor(root, 9)\n",
    "if result:\n",
    "    print(result.val)"
   ]
  },
  {
   "cell_type": "code",
   "execution_count": 50,
   "metadata": {},
   "outputs": [
    {
     "name": "stdout",
     "output_type": "stream",
     "text": [
      "7\n",
      "10\n"
     ]
    }
   ],
   "source": [
    "from collections import deque\n",
    "\n",
    "def find_successor(root, key):\n",
    "    if root is None:\n",
    "        return None\n",
    "\n",
    "    queue = deque()\n",
    "    queue.append(root)\n",
    "    while queue:\n",
    "        currentNode = queue.popleft()\n",
    "        # insert the children of current node in the queue\n",
    "        if currentNode.left:\n",
    "            queue.append(currentNode.left)\n",
    "        if currentNode.right:\n",
    "            queue.append(currentNode.right)\n",
    "\n",
    "        # break if we have found the key\n",
    "        if currentNode.val == key:\n",
    "            break\n",
    "\n",
    "    return queue[0] if queue else None\n",
    "\n",
    "root = TreeNode(12)\n",
    "root.left = TreeNode(7)\n",
    "root.right = TreeNode(1)\n",
    "root.left.left = TreeNode(9)\n",
    "root.right.left = TreeNode(10)\n",
    "root.right.right = TreeNode(5)\n",
    "result = find_successor(root, 12)\n",
    "if result:\n",
    "    print(result.val)\n",
    "result = find_successor(root, 9)\n",
    "if result:\n",
    "    print(result.val)"
   ]
  },
  {
   "cell_type": "markdown",
   "metadata": {},
   "source": [
    "### Connect Level Order Siblings (medium)\n",
    "Given a binary tree, connect each node with its level order successor. The last node of each level should point to a null node.\n",
    "<img src='../images/tree1.png' width=30% />"
   ]
  },
  {
   "cell_type": "code",
   "execution_count": 58,
   "metadata": {},
   "outputs": [
    {
     "name": "stdout",
     "output_type": "stream",
     "text": [
      "Level order traversal using 'next' pointer: \n",
      "12 \n",
      "7 1 \n",
      "9 10 5 \n"
     ]
    }
   ],
   "source": [
    "from collections import deque\n",
    "\n",
    "def connect_level_order_siblings(root):\n",
    "    if root is None:\n",
    "        return \n",
    "    \n",
    "    queue = deque()\n",
    "    queue.append(root)\n",
    "    while queue:\n",
    "        num_nodes_level = len(queue)\n",
    "        prev_node = None\n",
    "        for _ in range(num_nodes_level):\n",
    "            cur_node = queue.popleft()\n",
    "            \n",
    "            if prev_node:                \n",
    "                prev_node.next = cur_node\n",
    "    \n",
    "            if cur_node.left:\n",
    "                queue.append(cur_node.left)\n",
    "            if cur_node.right:\n",
    "                queue.append(cur_node.right)\n",
    "        \n",
    "            prev_node = cur_node\n",
    "    \n",
    "root = TreeNode(12)\n",
    "root.left = TreeNode(7)\n",
    "root.right = TreeNode(1)\n",
    "root.left.left = TreeNode(9)\n",
    "root.right.left = TreeNode(10)\n",
    "root.right.right = TreeNode(5)\n",
    "connect_level_order_siblings(root)\n",
    "\n",
    "print(\"Level order traversal using 'next' pointer: \")\n",
    "root.print_level_order()\n"
   ]
  },
  {
   "cell_type": "code",
   "execution_count": null,
   "metadata": {},
   "outputs": [],
   "source": [
    "from collections import deque\n",
    "\n",
    "def connect_level_order_siblings(root):\n",
    "  if root is None:\n",
    "    return\n",
    "\n",
    "  queue = deque()\n",
    "  queue.append(root)\n",
    "  while queue:\n",
    "    previousNode = None\n",
    "    levelSize = len(queue)\n",
    "    # connect all nodes of this level\n",
    "    for _ in range(levelSize):\n",
    "      currentNode = queue.popleft()\n",
    "      if previousNode:\n",
    "        previousNode.next = currentNode\n",
    "      previousNode = currentNode\n",
    "\n",
    "      # insert the children of current node in the queue\n",
    "      if currentNode.left:\n",
    "        queue.append(currentNode.left)\n",
    "      if currentNode.right:\n",
    "        queue.append(currentNode.right)\n",
    "\n",
    "root = TreeNode(12)\n",
    "root.left = TreeNode(7)\n",
    "root.right = TreeNode(1)\n",
    "root.left.left = TreeNode(9)\n",
    "root.right.left = TreeNode(10)\n",
    "root.right.right = TreeNode(5)\n",
    "connect_level_order_siblings(root)\n",
    "print(\"Level order traversal using 'next' pointer: \")\n",
    "root.print_level_order()"
   ]
  },
  {
   "cell_type": "markdown",
   "metadata": {},
   "source": [
    "### Connect All Level Order Siblings (medium) #\n",
    "Given a binary tree, connect each node with its level order successor. The last node of each level should point to the first node of the next level.\n",
    "Given a binary tree, connect each node with its level order successor. The last node of each level should point to a null node.  \n",
    "<img src='../images/tree2.png' width=30% />"
   ]
  },
  {
   "cell_type": "code",
   "execution_count": 63,
   "metadata": {},
   "outputs": [
    {
     "name": "stdout",
     "output_type": "stream",
     "text": [
      "Traversal using 'next' pointer: 12 7 1 9 10 5 "
     ]
    }
   ],
   "source": [
    "from collections import deque\n",
    "\n",
    "def connect_all_siblings(root):\n",
    "  \n",
    "    queue = deque()\n",
    "    queue.append(root)\n",
    "    prev_node = None\n",
    "    while queue:\n",
    "        num_node_level = len(queue)\n",
    "        \n",
    "        for _ in range(num_node_level):\n",
    "            cur_node = queue.popleft()\n",
    "            \n",
    "            if prev_node:\n",
    "                prev_node.next = cur_node\n",
    "            \n",
    "            prev_node = cur_node\n",
    "\n",
    "            if cur_node.left:\n",
    "                queue.append(cur_node.left)\n",
    "            if cur_node.right:\n",
    "                queue.append(cur_node.right)\n",
    "    \n",
    "\n",
    "root = TreeNode(12)\n",
    "root.left = TreeNode(7)\n",
    "root.right = TreeNode(1)\n",
    "root.left.left = TreeNode(9)\n",
    "root.right.left = TreeNode(10)\n",
    "root.right.right = TreeNode(5)\n",
    "connect_all_siblings(root)\n",
    "root.print_tree()"
   ]
  },
  {
   "cell_type": "code",
   "execution_count": 64,
   "metadata": {},
   "outputs": [
    {
     "name": "stdout",
     "output_type": "stream",
     "text": [
      "Traversal using 'next' pointer: 12 7 1 9 10 5 "
     ]
    }
   ],
   "source": [
    "from __future__ import print_function\n",
    "from collections import deque\n",
    "\n",
    "\n",
    "class TreeNode:\n",
    "  def __init__(self, val):\n",
    "    self.val = val\n",
    "    self.left, self.right, self.next = None, None, None\n",
    "\n",
    "  # tree traversal using 'next' pointer\n",
    "  def print_tree(self):\n",
    "    print(\"Traversal using 'next' pointer: \", end='')\n",
    "    current = self\n",
    "    while current:\n",
    "      print(str(current.val) + \" \", end='')\n",
    "      current = current.next\n",
    "\n",
    "\n",
    "def connect_all_siblings(root):\n",
    "  if root is None:\n",
    "    return\n",
    "\n",
    "  queue = deque()\n",
    "  queue.append(root)\n",
    "  currentNode, previousNode = None, None\n",
    "  while queue:\n",
    "    currentNode = queue.popleft()\n",
    "    if previousNode:\n",
    "      previousNode.next = currentNode\n",
    "    previousNode = currentNode\n",
    "\n",
    "    # insert the children of current node in the queue\n",
    "    if currentNode.left:\n",
    "      queue.append(currentNode.left)\n",
    "    if currentNode.right:\n",
    "      queue.append(currentNode.right)\n",
    "\n",
    "\n",
    "def main():\n",
    "  root = TreeNode(12)\n",
    "  root.left = TreeNode(7)\n",
    "  root.right = TreeNode(1)\n",
    "  root.left.left = TreeNode(9)\n",
    "  root.right.left = TreeNode(10)\n",
    "  root.right.right = TreeNode(5)\n",
    "  connect_all_siblings(root)\n",
    "  root.print_tree()\n",
    "\n",
    "\n",
    "main()\n"
   ]
  },
  {
   "cell_type": "markdown",
   "metadata": {},
   "source": [
    "### Right View of a Binary Tree (easy) \n",
    "Given a binary tree, return an array containing nodes in its right view. The right view of a binary tree is the set of nodes visible when the tree is seen from the right side.\n",
    "<img src='../images/tree3.png' width=30% />"
   ]
  },
  {
   "cell_type": "code",
   "execution_count": 70,
   "metadata": {},
   "outputs": [
    {
     "name": "stdout",
     "output_type": "stream",
     "text": [
      "Tree right view: \n",
      "12 1 5 3 "
     ]
    }
   ],
   "source": [
    "from collections import deque\n",
    "\n",
    "def tree_right_view(root):\n",
    "    result = []\n",
    "    \n",
    "    if root is None:\n",
    "        return result\n",
    "    \n",
    "    queue = deque()\n",
    "    queue.append(root)\n",
    "    while len(queue):\n",
    "        num_nodes_level = len(queue)\n",
    "        result.append(queue[-1])\n",
    "        for _ in range(num_nodes_level):            \n",
    "            cur_node = queue.popleft()\n",
    "            \n",
    "            if cur_node.left:\n",
    "                queue.append(cur_node.left)\n",
    "            if cur_node.right:\n",
    "                queue.append(cur_node.right)\n",
    "                \n",
    "        return result\n",
    "\n",
    "root = TreeNode(12)\n",
    "root.left = TreeNode(7)\n",
    "root.right = TreeNode(1)\n",
    "root.left.left = TreeNode(9)\n",
    "root.right.left = TreeNode(10)\n",
    "root.right.right = TreeNode(5)\n",
    "root.left.left.left = TreeNode(3)\n",
    "result = tree_right_view(root)\n",
    "print(\"Tree right view: \")\n",
    "for node in result:\n",
    "    print(str(node.val) + \" \", end='')"
   ]
  },
  {
   "cell_type": "code",
   "execution_count": 72,
   "metadata": {},
   "outputs": [
    {
     "name": "stdout",
     "output_type": "stream",
     "text": [
      "Tree right view: \n",
      "12 1 5 3 "
     ]
    }
   ],
   "source": [
    "def tree_right_view(root):\n",
    "    result = []\n",
    "    if root is None:\n",
    "        return result\n",
    "\n",
    "    queue = deque()\n",
    "    queue.append(root)\n",
    "    while queue:\n",
    "        levelSize = len(queue)\n",
    "        for i in range(0, levelSize):\n",
    "            currentNode = queue.popleft()\n",
    "            # if it is the last node of this level, add it to the result\n",
    "            if i == levelSize - 1:\n",
    "                result.append(currentNode)\n",
    "            # insert the children of current node in the queue\n",
    "            if currentNode.left:\n",
    "                queue.append(currentNode.left)\n",
    "            if currentNode.right:\n",
    "                queue.append(currentNode.right)\n",
    "\n",
    "    return result\n",
    "\n",
    "root = TreeNode(12)\n",
    "root.left = TreeNode(7)\n",
    "root.right = TreeNode(1)\n",
    "root.left.left = TreeNode(9)\n",
    "root.right.left = TreeNode(10)\n",
    "root.right.right = TreeNode(5)\n",
    "root.left.left.left = TreeNode(3)\n",
    "result = tree_right_view(root)\n",
    "print(\"Tree right view: \")\n",
    "for node in result:\n",
    "    print(str(node.val) + \" \", end='')"
   ]
  },
  {
   "cell_type": "markdown",
   "metadata": {},
   "source": [
    "# DFS - Depth First Search\n",
    "We will be using recursion (or we can also use a stack for the iterative approach) to keep track of all the previous (parent) nodes while traversing. This also means that the space complexity of the algorithm will be O(H)O(H), where ‘H’ is the maximum height of the tree."
   ]
  },
  {
   "cell_type": "markdown",
   "metadata": {},
   "source": [
    "### Binary Tree Path Sum (easy)\n",
    "Given a binary tree and a number ‘S’, find if the tree has a path from root-to-leaf such that the sum of all the node values of that path equals ‘S’."
   ]
  },
  {
   "cell_type": "code",
   "execution_count": 75,
   "metadata": {},
   "outputs": [
    {
     "name": "stdout",
     "output_type": "stream",
     "text": [
      "Tree has path: False\n",
      "Tree has path: False\n"
     ]
    }
   ],
   "source": [
    "class TreeNode:\n",
    "    def __init__(self, val, left=None, right=None):\n",
    "        self.val = val\n",
    "        self.left = left\n",
    "        self.right = right\n",
    "\n",
    "\n",
    "def has_path(root, sum):\n",
    "    # TODO: Write your code here\n",
    "    \n",
    "    \n",
    "    \n",
    "    \n",
    "    return False\n",
    "\n",
    "root = TreeNode(12)\n",
    "root.left = TreeNode(7)\n",
    "root.right = TreeNode(1)\n",
    "root.left.left = TreeNode(9)\n",
    "root.right.left = TreeNode(10)\n",
    "root.right.right = TreeNode(5)\n",
    "print(\"Tree has path: \" + str(has_path(root, 23)))\n",
    "print(\"Tree has path: \" + str(has_path(root, 16)))"
   ]
  },
  {
   "cell_type": "code",
   "execution_count": null,
   "metadata": {},
   "outputs": [],
   "source": []
  }
 ],
 "metadata": {
  "kernelspec": {
   "display_name": "Python 3.7.5 64-bit ('p37': conda)",
   "language": "python",
   "name": "python37564bitp37conda2b1eeea87ee044609be89b011a3e6682"
  },
  "language_info": {
   "codemirror_mode": {
    "name": "ipython",
    "version": 3
   },
   "file_extension": ".py",
   "mimetype": "text/x-python",
   "name": "python",
   "nbconvert_exporter": "python",
   "pygments_lexer": "ipython3",
   "version": "3.7.5"
  }
 },
 "nbformat": 4,
 "nbformat_minor": 4
}
