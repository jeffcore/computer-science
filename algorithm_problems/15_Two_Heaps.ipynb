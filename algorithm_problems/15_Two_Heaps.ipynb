{
 "cells": [
  {
   "cell_type": "markdown",
   "metadata": {},
   "source": [
    "# Two Heaps\n",
    "In many problems, where we are given a set of elements such that we can divide them into two parts. To solve the problem, we are interested in knowing the smallest element in one part and the biggest element in the other part. This pattern is an efficient approach to solve such problems.  \n",
    "\n",
    "This pattern uses two Heaps to solve these problems; \n",
    "* Min Heap to find the smallest element and \n",
    "* Max Heap to find the biggest element.\n",
    "\n"
   ]
  },
  {
   "cell_type": "code",
   "execution_count": 11,
   "metadata": {},
   "outputs": [
    {
     "name": "stdout",
     "output_type": "stream",
     "text": [
      "[1, 3, 5, 78, 21, 45]\n",
      "1\n",
      "3\n",
      "5\n",
      "21\n",
      "45\n",
      "78\n"
     ]
    }
   ],
   "source": [
    "import heapq\n",
    "\n",
    "H = [21,1,45,78,3,5]\n",
    "# Use heapify to rearrange the elements\n",
    "heapq.heapify(H)\n",
    "print(H)\n",
    "while H:    \n",
    "    print(heapq.heappop(H))"
   ]
  },
  {
   "cell_type": "code",
   "execution_count": 8,
   "metadata": {},
   "outputs": [
    {
     "name": "stdout",
     "output_type": "stream",
     "text": [
      "[-78, -21, -45, -1, -3, -5]\n",
      "-78\n",
      "-45\n",
      "-21\n",
      "-5\n",
      "-3\n",
      "-1\n"
     ]
    }
   ],
   "source": [
    "import heapq\n",
    "\n",
    "H = [-21,-1,-45,-78,-3,-5]\n",
    "# Use heapify to rearrange the elements\n",
    "heapq.heapify(H)\n",
    "print(H)\n",
    "while H:    \n",
    "    print(heappop(H))"
   ]
  },
  {
   "cell_type": "code",
   "execution_count": null,
   "metadata": {},
   "outputs": [],
   "source": []
  },
  {
   "cell_type": "markdown",
   "metadata": {},
   "source": [
    "## Find the Median of a Number Stream (medium)\n",
    "Design a class to calculate the median of a number stream. The class should have the following two methods:\n",
    "\n",
    "1. insertNum(int num): stores the number in the class\n",
    "2. findMedian(): returns the median of all numbers inserted in the class\n",
    "\n",
    "    \n",
    "If the count of numbers inserted in the class is even, the median will be the average of the middle two numbers.\n",
    "\n",
    "Example 1:\n",
    "\n",
    "1. insertNum(3)  \n",
    "2. insertNum(1)  \n",
    "3. findMedian() -> output: 2  \n",
    "4. insertNum(5)  \n",
    "5. findMedian() -> output: 3  \n",
    "6. insertNum(4)  \n",
    "7. findMedian() -> output: 3.5  "
   ]
  },
  {
   "cell_type": "code",
   "execution_count": 3,
   "metadata": {},
   "outputs": [
    {
     "name": "stdout",
     "output_type": "stream",
     "text": [
      "The median is: 2.0\n",
      "The median is: 3.0\n",
      "The median is: 3.5\n"
     ]
    }
   ],
   "source": [
    "from heapq import *\n",
    "\n",
    "\n",
    "class MedianOfAStream:\n",
    "\n",
    "    maxHeap = []  # containing first half of numbers\n",
    "    minHeap = []  # containing second half of numbers\n",
    "\n",
    "    def insert_num(self, num):\n",
    "        if not self.maxHeap or -self.maxHeap[0] >= num:\n",
    "            heappush(self.maxHeap, -num)\n",
    "        else:\n",
    "            heappush(self.minHeap, num)\n",
    "\n",
    "        # either both the heaps will have equal number of elements or max-heap will have one\n",
    "        # more element than the min-heap\n",
    "        if len(self.maxHeap) > len(self.minHeap) + 1:\n",
    "            heappush(self.minHeap, -heappop(self.maxHeap))\n",
    "        elif len(self.maxHeap) < len(self.minHeap):\n",
    "            heappush(self.maxHeap, -heappop(self.minHeap))\n",
    "\n",
    "    def find_median(self):\n",
    "        if len(self.maxHeap) == len(self.minHeap):\n",
    "            # we have even number of elements, take the average of middle two elements\n",
    "            return -self.maxHeap[0] / 2.0 + self.minHeap[0] / 2.0\n",
    "\n",
    "        # because max-heap will have one more element than the min-heap\n",
    "        return -self.maxHeap[0] / 1.0\n",
    "\n",
    "\n",
    "medianOfAStream = MedianOfAStream()\n",
    "medianOfAStream.insert_num(3)\n",
    "medianOfAStream.insert_num(1)\n",
    "print(\"The median is: \" + str(medianOfAStream.find_median()))\n",
    "medianOfAStream.insert_num(5)\n",
    "print(\"The median is: \" + str(medianOfAStream.find_median()))\n",
    "medianOfAStream.insert_num(4)\n",
    "print(\"The median is: \" + str(medianOfAStream.find_median()))\n",
    "\n"
   ]
  },
  {
   "cell_type": "markdown",
   "metadata": {},
   "source": [
    "## Sliding Window Median (hard)\n",
    "Given an array of numbers and a number ‘k’, find the median of all the ‘k’ sized sub-arrays (or windows) of the array.\n",
    "\n",
    "\n",
    "Input: nums=[1, 2, -1, 3, 5], k = 2   \n",
    "Output: [1.5, 0.5, 1.0, 4.0]  \n",
    "Explanation: Lets consider all windows of size ‘2’:  \n",
    "\n",
    "[1, 2, -1, 3, 5] -> median is 1.5  \n",
    "[1, 2, -1, 3, 5] -> median is 0.5  \n",
    "[1, 2, -1, 3, 5] -> median is 1.0  \n",
    "[1, 2, -1, 3, 5] -> median is 4.0  "
   ]
  },
  {
   "cell_type": "code",
   "execution_count": null,
   "metadata": {},
   "outputs": [],
   "source": [
    "from heapq import *\n",
    "import heapq\n",
    "\n",
    "\n",
    "class SlidingWindowMedian:\n",
    "  def __init__(self):\n",
    "    self.maxHeap, self.minHeap = [], []\n",
    "\n",
    "  def find_sliding_window_median(self, nums, k):\n",
    "    result = [0.0 for x in range(len(nums) - k + 1)]\n",
    "    for i in range(0, len(nums)):\n",
    "      if not self.maxHeap or nums[i] <= -self.maxHeap[0]:\n",
    "        heappush(self.maxHeap, -nums[i])\n",
    "      else:\n",
    "        heappush(self.minHeap, nums[i])\n",
    "\n",
    "      self.rebalance_heaps()\n",
    "\n",
    "      if i - k + 1 >= 0:  # if we have at least 'k' elements in the sliding window\n",
    "        # add the median to the the result array\n",
    "        if len(self.maxHeap) == len(self.minHeap):\n",
    "          # we have even number of elements, take the average of middle two elements\n",
    "          result[i - k + 1] = -self.maxHeap[0] / \\\n",
    "                              2.0 + self.minHeap[0] / 2.0\n",
    "        else:  # because max-heap will have one more element than the min-heap\n",
    "          result[i - k + 1] = -self.maxHeap[0] / 1.0\n",
    "\n",
    "        # remove the the element going out of the sliding window\n",
    "        elementToBeRemoved = nums[i - k + 1]\n",
    "        if elementToBeRemoved <= -self.maxHeap[0]:\n",
    "          self.remove(self.maxHeap, -elementToBeRemoved)\n",
    "        else:\n",
    "          self.remove(self.minHeap, elementToBeRemoved)\n",
    "\n",
    "        self.rebalance_heaps()\n",
    "\n",
    "    return result\n",
    "\n",
    "  # removes an element from the heap keeping the heap property\n",
    "  def remove(self, heap, element):\n",
    "    ind = heap.index(element)  # find the element\n",
    "    # move the element to the end and delete it\n",
    "    heap[ind] = heap[-1]\n",
    "    del heap[-1]\n",
    "    # we can use heapify to readjust the elements but that would be O(N),\n",
    "    # instead, we will adjust only one element which will O(logN)\n",
    "    if ind < len(heap):\n",
    "      heapq._siftup(heap, ind)\n",
    "      heapq._siftdown(heap, 0, ind)\n",
    "\n",
    "  def rebalance_heaps(self):\n",
    "    # either both the heaps will have equal number of elements or max-heap will have\n",
    "    # one more element than the min-heap\n",
    "    if len(self.maxHeap) > len(self.minHeap) + 1:\n",
    "      heappush(self.minHeap, -heappop(self.maxHeap))\n",
    "    elif len(self.maxHeap) < len(self.minHeap):\n",
    "      heappush(self.maxHeap, -heappop(self.minHeap))\n",
    "\n",
    "\n",
    "def main():\n",
    "\n",
    "  slidingWindowMedian = SlidingWindowMedian()\n",
    "  result = slidingWindowMedian.find_sliding_window_median(\n",
    "    [1, 2, -1, 3, 5], 2)\n",
    "  print(\"Sliding window medians are: \" + str(result))\n",
    "\n",
    "  slidingWindowMedian = SlidingWindowMedian()\n",
    "  result = slidingWindowMedian.find_sliding_window_median(\n",
    "    [1, 2, -1, 3, 5], 3)\n",
    "  print(\"Sliding window medians are: \" + str(result))\n",
    "\n",
    "\n",
    "main()\n",
    "\n",
    "\n",
    "\n",
    "\n",
    "\n",
    "\n",
    "\n"
   ]
  }
 ],
 "metadata": {
  "kernelspec": {
   "display_name": "Python 3.7.5 64-bit ('p37': conda)",
   "language": "python",
   "name": "python37564bitp37conda2b1eeea87ee044609be89b011a3e6682"
  },
  "language_info": {
   "codemirror_mode": {
    "name": "ipython",
    "version": 3
   },
   "file_extension": ".py",
   "mimetype": "text/x-python",
   "name": "python",
   "nbconvert_exporter": "python",
   "pygments_lexer": "ipython3",
   "version": "3.7.5"
  }
 },
 "nbformat": 4,
 "nbformat_minor": 4
}
