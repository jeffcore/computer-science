{
 "cells": [
  {
   "cell_type": "markdown",
   "metadata": {},
   "source": [
    "# Hash Table Problems"
   ]
  },
  {
   "cell_type": "markdown",
   "metadata": {},
   "source": [
    "## 388. Longemst Absolute File Path  leet code"
   ]
  },
  {
   "cell_type": "code",
   "execution_count": 5,
   "metadata": {},
   "outputs": [
    {
     "name": "stdout",
     "output_type": "stream",
     "text": [
      "20\n",
      "32\n"
     ]
    }
   ],
   "source": [
    "def lengthLongestPath(input):\n",
    "    maxlen = 0\n",
    "    pathlen = {0: 0}\n",
    "    for line in input.splitlines():\n",
    "        name = line.lstrip('\\t')\n",
    "        depth = len(line) - len(name)\n",
    "        if '.' in name:\n",
    "            maxlen = max(maxlen, pathlen[depth] + len(name))\n",
    "        else:\n",
    "            pathlen[depth + 1] = pathlen[depth] + len(name) + 1\n",
    "    return maxlen\n",
    "\n",
    "print(lengthLongestPath('dir\\n\\tsubdir1\\n\\tsubdir2\\n\\t\\tfile.ext'))\n",
    "print(lengthLongestPath('dir\\n\\tsubdir1\\n\\t\\tfile1.ext\\n\\t\\tsubsubdir1\\n\\tsubdir2\\n\\t\\tsubsubdir2\\n\\t\\t\\tfile2.ext'))"
   ]
  },
  {
   "cell_type": "markdown",
   "metadata": {},
   "source": [
    "## Subarray with Negatives\n",
    "\n",
    "### 560. Subarray Sum Equals K\n",
    "\n",
    "Given an array of integers and an integer k, you need to find the total number of continuous subarrays whose sum equals to k.\n",
    "\n",
    "Input:nums = [1,1,1], k = 2  \n",
    "Output: 2"
   ]
  },
  {
   "cell_type": "code",
   "execution_count": 6,
   "metadata": {},
   "outputs": [
    {
     "name": "stdout",
     "output_type": "stream",
     "text": [
      "1\n"
     ]
    }
   ],
   "source": [
    "def subbarry_sum(nums, k):\n",
    "    \n",
    "    count = 0\n",
    "    for start in range(len(nums)):\n",
    "        for end in range(start + 1, len(nums)+1):\n",
    "            sums = 0\n",
    "            for i in range(start, end):\n",
    "                sums += nums[i]\n",
    "            if sums == k:\n",
    "                count += 1\n",
    "    return count\n",
    "\n",
    "print(subbarry_sum([-1,-1,1],0))\n",
    "    \n",
    "    "
   ]
  },
  {
   "cell_type": "markdown",
   "metadata": {},
   "source": [
    "### Hash map approach\n",
    "Tricks:\n",
    "1. uses hash map to keep track of frequency of running sums of digits left to right\n",
    "2. Uses algreba trick to find k sums\n",
    "    1. current sum - k is it in num_dict"
   ]
  },
  {
   "cell_type": "code",
   "execution_count": 16,
   "metadata": {},
   "outputs": [
    {
     "name": "stdout",
     "output_type": "stream",
     "text": [
      "{0: 1}\n",
      "{0: 1, -1: 1}\n",
      "{0: 1, -1: 1, -2: 1}\n",
      "1\n",
      "{0: 1}\n",
      "{0: 1, 1: 1}\n",
      "{0: 1, 1: 1, 2: 1}\n",
      "2\n",
      "{0: 1}\n",
      "{0: 1, 3: 1}\n",
      "{0: 1, 3: 1, 7: 1}\n",
      "{0: 1, 3: 1, 7: 1, 14: 1}\n",
      "{0: 1, 3: 1, 7: 1, 14: 1, 16: 1}\n",
      "{0: 1, 3: 1, 7: 1, 14: 1, 16: 1, 13: 1}\n",
      "{0: 1, 3: 1, 7: 1, 14: 2, 16: 1, 13: 1}\n",
      "{0: 1, 3: 1, 7: 1, 14: 2, 16: 1, 13: 1, 18: 1}\n",
      "4\n"
     ]
    }
   ],
   "source": [
    "def subbarry_sum(nums, k):    \n",
    "    count = 0\n",
    "    sums = 0\n",
    "    \n",
    "    num_dict = {}\n",
    "    num_dict[0] = 1\n",
    "    \n",
    "    for i in range(len(nums)):\n",
    "        print(num_dict)\n",
    "        sums += nums[i]\n",
    "        count += num_dict.get(sums - k, 0)\n",
    "        \n",
    "        num_dict[sums] = num_dict.get(sums, 0) + 1\n",
    "    return count\n",
    "\n",
    "print(subbarry_sum([-1,-1,1],0))\n",
    "print(subbarry_sum([1,1,1],2))\n",
    "print(subbarry_sum([3,4,7,2,-3,1,4,2],7))"
   ]
  },
  {
   "cell_type": "code",
   "execution_count": null,
   "metadata": {},
   "outputs": [],
   "source": []
  }
 ],
 "metadata": {
  "kernelspec": {
   "display_name": "Python 3.7.5 64-bit ('p37': conda)",
   "language": "python",
   "name": "python37564bitp37conda2b1eeea87ee044609be89b011a3e6682"
  },
  "language_info": {
   "codemirror_mode": {
    "name": "ipython",
    "version": 3
   },
   "file_extension": ".py",
   "mimetype": "text/x-python",
   "name": "python",
   "nbconvert_exporter": "python",
   "pygments_lexer": "ipython3",
   "version": "3.7.5"
  }
 },
 "nbformat": 4,
 "nbformat_minor": 4
}
