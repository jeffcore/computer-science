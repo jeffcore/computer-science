{
 "cells": [
  {
   "cell_type": "markdown",
   "metadata": {},
   "source": [
    "# Sliding window\n",
    "\n",
    "In many problems dealing with an array (or a LinkedList), we are asked to find or calculate something among all the contiguous subarrays (or sublists) of a given size. For example, take a look at this   \n",
    "\n",
    "usually use two pointers - fixed size or variable\n",
    "easy to solve with nested loops  \n",
    "\n",
    "keywords in problems:   \n",
    "* calculate|sum|find|average along contiguous subarray \n",
    "* size K - usually the size of a fixed sliding window\n",
    "* longest substring\n",
    "* subarray\n",
    "* repeating elements\n",
    "\n",
    "tips:\n",
    "* if the problem seesm\n"
   ]
  },
  {
   "cell_type": "markdown",
   "metadata": {},
   "source": [
    "### Building A Fixed Window"
   ]
  },
  {
   "cell_type": "code",
   "execution_count": 74,
   "metadata": {},
   "outputs": [],
   "source": [
    "# sample data\n",
    "arr = [2, 1, 5, 1, 3, 2]\n",
    "k=3 "
   ]
  },
  {
   "cell_type": "markdown",
   "metadata": {},
   "source": [
    "#### First step is main loop  \n",
    "* this loop needs to loop through the entire array"
   ]
  },
  {
   "cell_type": "code",
   "execution_count": 75,
   "metadata": {},
   "outputs": [
    {
     "name": "stdout",
     "output_type": "stream",
     "text": [
      "0\n",
      "1\n",
      "2\n",
      "3\n",
      "4\n",
      "5\n"
     ]
    }
   ],
   "source": [
    "for i in range(len(arr)):\n",
    "    print(i)"
   ]
  },
  {
   "cell_type": "markdown",
   "metadata": {},
   "source": [
    "#### Second Step is the Action Condition at the end of the window\n",
    "*  if i >= k - 1: if K = 3 this condition has to trigger at index 2 = K-1\n",
    "* so it triggers during the last index in window\n",
    "* you can remove elments at beginning and add element at end\n",
    "* in a fixed window if you reach the last element of the fixed window size you either have a match or you don't, so you need to start shrinking the window\n"
   ]
  },
  {
   "cell_type": "code",
   "execution_count": 76,
   "metadata": {},
   "outputs": [
    {
     "name": "stdout",
     "output_type": "stream",
     "text": [
      "0\n",
      "1\n",
      "2\n",
      "triggered 2\n",
      "3\n",
      "triggered 3\n",
      "4\n",
      "triggered 4\n",
      "5\n",
      "triggered 5\n"
     ]
    }
   ],
   "source": [
    "for i in range(len(arr)):\n",
    "    print(i)   \n",
    "\n",
    "    if i >= k - 1:          \n",
    "        print('triggered' , i)\n",
    "    "
   ]
  },
  {
   "cell_type": "markdown",
   "metadata": {},
   "source": [
    "#### Third Step - is to actually build a window -  the start of the window\n",
    "* use a win_start variable to slide start of window"
   ]
  },
  {
   "cell_type": "code",
   "execution_count": 14,
   "metadata": {},
   "outputs": [
    {
     "name": "stdout",
     "output_type": "stream",
     "text": [
      "window start 0 end 0\n",
      "window start 0 end 1\n",
      "window start 0 end 2\n",
      "triggered 2\n",
      "window start 1 end 3\n",
      "triggered 3\n",
      "window start 2 end 4\n",
      "triggered 4\n",
      "window start 3 end 5\n",
      "triggered 5\n"
     ]
    }
   ],
   "source": [
    "win_start = 0\n",
    "for i in range(len(arr)):\n",
    "    print(f'window start {win_start} end {i}')\n",
    "    if i >= k - 1:        \n",
    "        print('triggered' , i)\n",
    "        win_start += 1"
   ]
  },
  {
   "cell_type": "markdown",
   "metadata": {},
   "source": [
    "# Problems\n",
    "## Fixed Window\n",
    "These are the easiest problems but they give you practice building a sliding window with action condition\n",
    "\n",
    "TRIGGER CONDITION TO START SLIDING window IS ALWAYS AND IF STATEMENT - meaning we hit the max size of window now it has to slide until end of array"
   ]
  },
  {
   "cell_type": "markdown",
   "metadata": {},
   "source": [
    "### Maximum Sum Subarray of Size K (easy)  GTCI\n",
    "Input: [2, 1, 5, 1, 3, 2], k=3   \n",
    "Output: 9  \n",
    "Explanation: Subarray with maximum sum is [5, 1, 3].  "
   ]
  },
  {
   "cell_type": "code",
   "execution_count": 54,
   "metadata": {},
   "outputs": [
    {
     "name": "stdout",
     "output_type": "stream",
     "text": [
      "Maximum sum of a subarray of size K: 9\n",
      "Maximum sum of a subarray of size K: 7\n"
     ]
    }
   ],
   "source": [
    "def max_sub_array_of_size_k(k, arr):\n",
    "    max_sum , window_sum = 0, 0\n",
    "    window_start = 0\n",
    "\n",
    "    for window_end in range(len(arr)):\n",
    "        window_sum += arr[window_end]  # add the next element\n",
    "        # slide the window, we don't need to slide if we've not hit the required window size of 'k'\n",
    "        if window_end >= k-1:\n",
    "            max_sum = max(max_sum, window_sum)\n",
    "            window_sum -= arr[window_start]  # subtract the element going out\n",
    "            window_start += 1  # slide the window ahead\n",
    "    return max_sum\n",
    "\n",
    "print(\"Maximum sum of a subarray of size K: \" + str(max_sub_array_of_size_k(3, [2, 1, 5, 1, 3, 2])))\n",
    "print(\"Maximum sum of a subarray of size K: \" + str(max_sub_array_of_size_k(2, [2, 3, 4, 1, 5])))"
   ]
  },
  {
   "cell_type": "code",
   "execution_count": 80,
   "metadata": {},
   "outputs": [
    {
     "name": "stdout",
     "output_type": "stream",
     "text": [
      "Maximum sum of a subarray of size K: 9\n",
      "Maximum sum of a subarray of size K: 7\n"
     ]
    }
   ],
   "source": [
    "# Try it\n",
    "# Input: [2, 1, 5, 1, 3, 2], k=3\n",
    "def max_sub_array_of_size_k(k, arr):\n",
    "    max_total = 0\n",
    "    current_total = 0\n",
    "    window_start = 0\n",
    "    \n",
    "    for window_end in range(len(arr)):\n",
    "        current_total += arr[window_end]\n",
    "        if window_end >= k - 1:\n",
    "            max_total = max(current_total, max_total)\n",
    "            current_total -= arr[window_start]\n",
    "            window_start += 1\n",
    "            \n",
    "    \n",
    "    return max_total\n",
    "\n",
    "print(\"Maximum sum of a subarray of size K: \" + str(max_sub_array_of_size_k(3, [2, 1, 5, 1, 3, 2])))\n",
    "print(\"Maximum sum of a subarray of size K: \" + str(max_sub_array_of_size_k(2, [2, 3, 4, 1, 5])))"
   ]
  },
  {
   "cell_type": "markdown",
   "metadata": {},
   "source": [
    "### Given an array, find the average of all contiguous subarrays of size ‘K’ in it. GTCI  \n",
    "Array: [1, 3, 2, 6, -1, 4, 1, 8, 2], K=5"
   ]
  },
  {
   "cell_type": "code",
   "execution_count": 27,
   "metadata": {},
   "outputs": [
    {
     "name": "stdout",
     "output_type": "stream",
     "text": [
      "Averages of subarrays of size K: [2.2, 2.8, 2.4, 3.6, 2.8]\n"
     ]
    }
   ],
   "source": [
    "def find_averages_of_subarrays(K, arr):\n",
    "    result = []\n",
    "    windowSum, windowStart = 0.0, 0\n",
    "    for windowEnd in range(len(arr)):\n",
    "        windowSum += arr[windowEnd]  # add the next element\n",
    "        # slide the window, we don't need to slide if we've not hit the required window size of 'k'\n",
    "        if windowEnd >= K - 1:\n",
    "            result.append(windowSum / K)  # calculate the average\n",
    "            windowSum -= arr[windowStart]  # subtract the element going out\n",
    "            windowStart += 1  # slide the window ahead\n",
    "\n",
    "    return result\n",
    "\n",
    "\n",
    "\n",
    "result = find_averages_of_subarrays(5, [1, 3, 2, 6, -1, 4, 1, 8, 2])\n",
    "print(\"Averages of subarrays of size K: \" + str(result))\n"
   ]
  },
  {
   "cell_type": "code",
   "execution_count": 86,
   "metadata": {},
   "outputs": [
    {
     "name": "stdout",
     "output_type": "stream",
     "text": [
      "Averages of subarrays of size K: None\n"
     ]
    }
   ],
   "source": [
    "def find_averages_of_subarrays(K, arr):\n",
    "   \n",
    "\n",
    "    return \n",
    "\n",
    "\n",
    "\n",
    "result = find_averages_of_subarrays(5, [1, 3, 2, 6, -1, 4, 1, 8, 2])\n",
    "print(\"Averages of subarrays of size K: \" + str(result))\n"
   ]
  },
  {
   "cell_type": "markdown",
   "metadata": {},
   "source": [
    "### Permutation in a String (hard) #\n",
    "Given a string and a pattern, find out if the string contains any permutation of the pattern.\n",
    "\n",
    "Permutation is defined as the re-arranging of the characters of the string. For example, “abc” has the following six permutations:\n",
    "\n",
    "abc\n",
    "acb\n",
    "bac\n",
    "bca\n",
    "cab\n",
    "cba\n",
    "\n",
    "If a string has ‘n’ distinct characters it will have n!n! permutations.\n",
    "\n",
    "Input: String=\"oidbcaf\", Pattern=\"abc\"  \n",
    "Output: true  \n",
    "Explanation: The string contains \"bca\" which is a permutation of the given pattern.\n",
    "\n",
    "Input: String=\"odicf\", Pattern=\"dc\"  \n",
    "Output: false  \n",
    "Explanation: No permutation of the pattern is present in the given string as a substring.\n",
    "\n",
    "Input: String=\"bcdxabcdy\", Pattern=\"bcdyabcdx\"  \n",
    "Output: true  \n",
    "Explanation: Both the string and the pattern are a permutation of each other."
   ]
  },
  {
   "cell_type": "code",
   "execution_count": 136,
   "metadata": {},
   "outputs": [
    {
     "name": "stdout",
     "output_type": "stream",
     "text": [
      "Permutation exist: None\n",
      "Permutation exist: None\n",
      "Permutation exist: None\n",
      "Permutation exist: None\n"
     ]
    }
   ],
   "source": [
    "# Try it\n",
    "def find_permutation(str1, pattern):\n",
    "   \n",
    "    return\n",
    "\n",
    "\n",
    "def main():\n",
    "    print('Permutation exist: ' + str(find_permutation(\"oidbcaf\", \"abc\"))) # true\n",
    "    print('Permutation exist: ' + str(find_permutation(\"odicf\", \"dc\"))) # false\n",
    "    print('Permutation exist: ' + str(find_permutation(\"bcdxabcdy\", \"bcdyabcdx\"))) # true\n",
    "    print('Permutation exist: ' + str(find_permutation(\"aaacb\", \"abc\")))  # true\n",
    "\n",
    "main()"
   ]
  },
  {
   "cell_type": "code",
   "execution_count": 132,
   "metadata": {},
   "outputs": [
    {
     "name": "stdout",
     "output_type": "stream",
     "text": [
      "Permutation exist: True\n",
      "Permutation exist: True\n",
      "Permutation exist: True\n",
      "Permutation exist: True\n"
     ]
    }
   ],
   "source": [
    "def find_permutation(str1, pattern):\n",
    "    if str1 == pattern:\n",
    "        return True\n",
    "    \n",
    "    window_start = 0\n",
    "    perm_dict = {}\n",
    "    matched = 0\n",
    "    \n",
    "    for p in pattern:\n",
    "        if p not in perm_dict:\n",
    "            perm_dict[p] = 0\n",
    "        perm_dict[p] += 1\n",
    "    \n",
    "    for window_end in range(len(str1)):\n",
    "        right_char = str1[window_end]\n",
    "        if right_char in perm_dict:\n",
    "            perm_dict[right_char] -= 1\n",
    "            if perm_dict[right_char] == 0:\n",
    "                matched += 1\n",
    "\n",
    "        if matched == len(perm_dict):\n",
    "            return True\n",
    "        \n",
    "        if (window_end) >= len(pattern) - 1:\n",
    "            left_char = str1[window_start]\n",
    "            window_start += 1\n",
    "            \n",
    "            if left_char in perm_dict:                \n",
    "                if perm_dict[left_char] == 0:\n",
    "                    matched -= 1\n",
    "                perm_dict[left_char] += 1\n",
    "        \n",
    "    return False\n",
    "\n",
    "\n",
    "def main():\n",
    "    print('Permutation exist: ' + str(find_permutation(\"oidbcaf\", \"abc\")))\n",
    "    print('Permutation exist: ' + str(find_permutation(\"odicf\", \"dc\")))\n",
    "    print('Permutation exist: ' + str(find_permutation(\"bcdxabcdy\", \"bcdyabcdx\")))\n",
    "    print('Permutation exist: ' + str(find_permutation(\"aaacb\", \"abc\")))\n",
    "\n",
    "\n",
    "main()"
   ]
  },
  {
   "cell_type": "markdown",
   "metadata": {},
   "source": [
    "### String Anagrams (hard) #\n",
    "Given a string and a pattern, find all anagrams of the pattern in the given string.\n",
    "\n",
    "Anagram is actually a Permutation of a string. For example, “abc” has the following six anagrams:  \n",
    "abc acb bac bca cab cba\n",
    "\n",
    "Write a function to return a list of starting indices of the anagrams of the pattern in the given string.\n",
    "\n",
    "Input: String=\"ppqp\", Pattern=\"pq\"  \n",
    "Output: [1, 2]  \n",
    "Explanation: The two anagrams of the pattern in the given string are \"pq\" and \"qp\".\n",
    "    \n",
    "Input: String=\"abbcabc\", Pattern=\"abc\"  \n",
    "Output: [2, 3, 4]  \n",
    "Explanation: The three anagrams of the pattern in the given string are \"bca\", \"cab\", and \"abc\"."
   ]
  },
  {
   "cell_type": "code",
   "execution_count": 142,
   "metadata": {},
   "outputs": [
    {
     "name": "stdout",
     "output_type": "stream",
     "text": [
      "None\n",
      "None\n"
     ]
    }
   ],
   "source": [
    "# try it\n",
    "def find_string_anagrams(str1, pattern):\n",
    "  \n",
    "            \n",
    "    return \n",
    "\n",
    "def main():\n",
    "    print(find_string_anagrams(\"ppqp\", \"pq\"))    # [1, 2]\n",
    "    print(find_string_anagrams(\"abbcabc\", \"abc\"))  # [2, 3, 4]\n",
    "\n",
    "main()"
   ]
  },
  {
   "cell_type": "code",
   "execution_count": 141,
   "metadata": {},
   "outputs": [
    {
     "name": "stdout",
     "output_type": "stream",
     "text": [
      "[1, 2]\n",
      "[2, 3, 4]\n"
     ]
    }
   ],
   "source": [
    "def find_string_anagrams(str1, pattern):\n",
    "    window_start = 0\n",
    "    matched = 0\n",
    "    matched_index = []\n",
    "    \n",
    "    char_freq = {}\n",
    "    for char in pattern:\n",
    "        if char not in char_freq:\n",
    "            char_freq[char] = 0\n",
    "        char_freq[char] += 1    \n",
    "    \n",
    "    for window_end in range(len(str1)):\n",
    "        right_char = str1[window_end]\n",
    "        if right_char in char_freq:\n",
    "            char_freq[right_char] -= 1\n",
    "            if char_freq[right_char] == 0:\n",
    "                matched += 1\n",
    "        \n",
    "        if matched == len(char_freq):\n",
    "            matched_index.append(window_start)\n",
    "        \n",
    "        if window_end >= len(pattern) - 1:\n",
    "            left_char = str1[window_start]\n",
    "            window_start +=1\n",
    "            if left_char in char_freq:\n",
    "                if char_freq[left_char] == 0:\n",
    "                    matched -= 1\n",
    "                char_freq[left_char] += 1\n",
    "            \n",
    "    return matched_index\n",
    "\n",
    "def main():\n",
    "    print(find_string_anagrams(\"ppqp\", \"pq\"))    # [1, 2]\n",
    "    print(find_string_anagrams(\"abbcabc\", \"abc\"))  # [2, 3, 4]\n",
    "\n",
    "main()"
   ]
  },
  {
   "cell_type": "markdown",
   "metadata": {},
   "source": [
    "##  Variable window \n",
    "### Building a Variable window - start of window keeps moving\n",
    "that start of window continues sliding when front hits end of array"
   ]
  },
  {
   "cell_type": "code",
   "execution_count": 1,
   "metadata": {},
   "outputs": [],
   "source": [
    "# sample data\n",
    "arr = [2, 1, 5, 1, 3, 2]\n",
    "s =  3   "
   ]
  },
  {
   "cell_type": "code",
   "execution_count": 87,
   "metadata": {},
   "outputs": [
    {
     "name": "stdout",
     "output_type": "stream",
     "text": [
      "0\n",
      "1\n",
      "2\n",
      "3\n",
      "4\n",
      "5\n"
     ]
    }
   ],
   "source": [
    "# Main loop is the same\n",
    "for window_end in range(len(arr)):\n",
    "    print(window_end)"
   ]
  },
  {
   "cell_type": "markdown",
   "metadata": {},
   "source": [
    "### While loop: The Sum Calculation has to be the trigger of when the window end moves forward\n",
    "* While Loop: uses the while loop trick on the start of window and end othe movement"
   ]
  },
  {
   "cell_type": "code",
   "execution_count": 88,
   "metadata": {},
   "outputs": [
    {
     "name": "stdout",
     "output_type": "stream",
     "text": [
      "window start 0 end 0\n",
      "window start 0 end 1\n",
      "sum 3 window start 0 end 1\n",
      "window start 1 end 2\n",
      "sum 6 window start 1 end 2\n",
      "sum 5 window start 2 end 2\n",
      "window start 3 end 3\n",
      "window start 3 end 4\n",
      "sum 4 window start 3 end 4\n",
      "sum 3 window start 4 end 4\n",
      "window start 5 end 5\n"
     ]
    }
   ],
   "source": [
    "window_start = 0\n",
    "window_sum = 0\n",
    "    \n",
    "for window_end in range(0, len(arr)):\n",
    "    window_sum += arr[window_end] \n",
    "    print(f'window start {window_start} end {window_end}')\n",
    "    # move forward until\n",
    "    while window_sum >= s:\n",
    "        print(f'sum {window_sum} window start {window_start} end {window_end}')\n",
    "        window_sum -= arr[window_start]\n",
    "        window_start += 1"
   ]
  },
  {
   "cell_type": "markdown",
   "metadata": {},
   "source": [
    "## Variable Window Example problems\n",
    "Trigger condition to start sliding variable windows is always a WHILE LOOP. This enables the start of window to slide until a condition is met.\n"
   ]
  },
  {
   "cell_type": "markdown",
   "metadata": {},
   "source": [
    "### Smallest Subarray with a given sum (easy) GTCI\n",
    "Given an array of positive numbers and a positive number ‘S’, find the length of the smallest contiguous subarray whose sum is greater than or equal to ‘S’. Return 0, if no such subarray exists.\n",
    "\n",
    "Input: [2, 1, 5, 2, 3, 2], S=7   \n",
    "Output: 2  \n",
    "Explanation: The smallest subarray with a sum great than or equal to '7' is [5, 2].  \n",
    "\n",
    "Input: [2, 1, 5, 2, 8], S=7   \n",
    "Output: 1  \n",
    "Explanation: The smallest subarray with a sum greater than or equal to '7' is [8].  \n",
    "\n",
    "Trick: used the Variable Window , start of window keeps moving trick"
   ]
  },
  {
   "cell_type": "code",
   "execution_count": 57,
   "metadata": {},
   "outputs": [
    {
     "name": "stdout",
     "output_type": "stream",
     "text": [
      "Smallest subarray length: 2\n",
      "Smallest subarray length: 1\n",
      "Smallest subarray length: 3\n"
     ]
    }
   ],
   "source": [
    "import math\n",
    "\n",
    "def smallest_subarray_with_given_sum(s, arr):\n",
    "    window_sum = 0\n",
    "    min_length = math.inf\n",
    "    window_start = 0\n",
    "\n",
    "    for window_end in range(0, len(arr)):\n",
    "        window_sum += arr[window_end]  # add the next element\n",
    "        \n",
    "        # shrink the window as small as possible until the 'window_sum' is smaller than 's'\n",
    "        while window_sum >= s:\n",
    "            min_length = min(min_length, window_end - window_start + 1)\n",
    "            window_sum -= arr[window_start]\n",
    "            window_start += 1\n",
    "\n",
    "    if min_length == math.inf:\n",
    "        return 0\n",
    "    \n",
    "    return min_length\n",
    "\n",
    "print(\"Smallest subarray length: \" + str(smallest_subarray_with_given_sum(7, [2, 1, 5, 2, 3, 2])))\n",
    "print(\"Smallest subarray length: \" + str(smallest_subarray_with_given_sum(7, [2, 1, 5, 2, 8])))\n",
    "print(\"Smallest subarray length: \" + str(smallest_subarray_with_given_sum(8, [3, 4, 1, 1, 6])))"
   ]
  },
  {
   "cell_type": "code",
   "execution_count": 91,
   "metadata": {},
   "outputs": [
    {
     "name": "stdout",
     "output_type": "stream",
     "text": [
      "Smallest subarray length: None\n",
      "Smallest subarray length: None\n",
      "Smallest subarray length: None\n"
     ]
    }
   ],
   "source": [
    "# try it\n",
    "import math\n",
    "\n",
    "def smallest_subarray_with_given_sum(s, arr):\n",
    " \n",
    "    return \n",
    "\n",
    "\n",
    "print(\"Smallest subarray length: \" + str(smallest_subarray_with_given_sum(7, [2, 1, 5, 2, 3, 2])))\n",
    "print(\"Smallest subarray length: \" + str(smallest_subarray_with_given_sum(7, [2, 1, 5, 2, 8])))\n",
    "print(\"Smallest subarray length: \" + str(smallest_subarray_with_given_sum(8, [3, 4, 1, 1, 6])))"
   ]
  },
  {
   "cell_type": "markdown",
   "metadata": {},
   "source": [
    "## Variable Window using DS Hash\n",
    "* trick for deleting element from hash table  \n",
    "    dic[start_char] -= 1  \n",
    "    if dic[start_char] == 0:  \n",
    "        del dic[start_char]        \n",
    "* Trick here is the window trigger is based off the length of the DS\n",
    "* max length check can be done  at end of for loop, \n",
    "    * window_end - window_start + 1 \n",
    "    * but have to add 1 to make up for index calc\n",
    "  "
   ]
  },
  {
   "cell_type": "markdown",
   "metadata": {},
   "source": [
    "### Problems"
   ]
  },
  {
   "cell_type": "markdown",
   "metadata": {},
   "source": [
    "### Longest Substring with K Distinct Characters Repeats allowed (medium)\n",
    "Given a string, find the length of the longest substring in it with no more than K distinct characters.\n",
    "\n",
    "\n",
    "Input: String=\"araaci\", K=2  \n",
    "Output: 4  \n",
    "Explanation: The longest substring with no more than '2' distinct characters is \"araa\".  \n",
    "\n",
    "Input: String=\"araaci\", K=1  \n",
    "Output: 2  \n",
    "Explanation: The longest substring with no more than '1' distinct characters is \"aa\"."
   ]
  },
  {
   "cell_type": "code",
   "execution_count": 95,
   "metadata": {},
   "outputs": [
    {
     "name": "stdout",
     "output_type": "stream",
     "text": [
      "Length of the longest substr1ing: 4\n",
      "Length of the longest substr1ing: 2\n",
      "Length of the longest substr1ing: 5\n"
     ]
    }
   ],
   "source": [
    "def longest_substring_with_k_distinct(str, k):   \n",
    "    char_frequency = {}\n",
    "    max_length = 0\n",
    "    window_start = 0\n",
    "\n",
    "    for window_end in range(len(str)):    \n",
    "        right_char = str[window_end]        \n",
    "        if right_char not in char_frequency:\n",
    "            char_frequency[right_char] = 0\n",
    "        char_frequency[right_char] += 1\n",
    "\n",
    "        # shrink the sliding window, until we are left with 'k' distinct characters in the char_frequency\n",
    "        while len(char_frequency) > k:\n",
    "            left_char = str[window_start]\n",
    "            char_frequency[left_char] -= 1\n",
    "            if char_frequency[left_char] == 0:\n",
    "                del char_frequency[left_char]\n",
    "                \n",
    "            window_start += 1  # shrink the window\n",
    "            \n",
    "        # remember the maximum length so far\n",
    "        max_length = max(max_length, window_end-window_start + 1)\n",
    "        \n",
    "    return max_length\n",
    "\n",
    "print(\"Length of the longest substr1ing: \" + str(longest_substring_with_k_distinct(\"araaci\", 2)))\n",
    "print(\"Length of the longest substr1ing: \" + str(longest_substring_with_k_distinct(\"araaci\", 1)))\n",
    "print(\"Length of the longest substr1ing: \" + str(longest_substring_with_k_distinct(\"cbbebi\", 3)))\n"
   ]
  },
  {
   "cell_type": "code",
   "execution_count": 101,
   "metadata": {},
   "outputs": [
    {
     "name": "stdout",
     "output_type": "stream",
     "text": [
      "Length of the longest substr1ing: None\n",
      "Length of the longest substr1ing: None\n",
      "Length of the longest substr1ing: None\n"
     ]
    }
   ],
   "source": [
    "# try it\n",
    "def longest_substring_with_k_distinct(str, k):   \n",
    "    return\n",
    "\n",
    "print(\"Length of the longest substr1ing: \" + str(longest_substring_with_k_distinct(\"araaci\", 2)))\n",
    "print(\"Length of the longest substr1ing: \" + str(longest_substring_with_k_distinct(\"araaci\", 1)))\n",
    "print(\"Length of the longest substr1ing: \" + str(longest_substring_with_k_distinct(\"cbbebi\", 3)))\n"
   ]
  },
  {
   "cell_type": "markdown",
   "metadata": {},
   "source": [
    "## Fruits in Basket   \n",
    "Given an array of characters where each character represents a fruit tree, you are given two baskets and your goal is to put maximum number of fruits in each basket. The only restriction is that each basket can have only one type of fruit.\n",
    "\n",
    "You can start with any tree, but once you have started you can’t skip a tree. You will pick one fruit from each tree until you cannot, i.e., you will stop when you have to pick from a third fruit type.\n",
    "\n",
    "Write a function to return the maximum number of fruits in both the baskets.\n",
    "\n",
    "\n",
    "Input: Fruit=['A', 'B', 'C', 'A', 'C']  \n",
    "Output: 3  \n",
    "Explanation: We can put 2 'C' in one basket and one 'A' in the other from the subarray ['C', 'A', 'C']\n",
    "\n",
    "\n",
    "Input: Fruit=['A', 'B', 'C', 'B', 'B', 'C']  \n",
    "Output: 5  \n",
    "Explanation: We can put 3 'B' in one basket and two 'C' in the other basket. \n",
    "This can be done if we start with the second letter: ['B', 'C', 'B', 'B', 'C']\n",
    "\n",
    "google question - medium leetcode.   same as above longest_substring_with_k_distinct problem  "
   ]
  },
  {
   "cell_type": "code",
   "execution_count": 20,
   "metadata": {},
   "outputs": [
    {
     "name": "stdout",
     "output_type": "stream",
     "text": [
      "Maximum number of fruits: 3\n",
      "Maximum number of fruits: 5\n"
     ]
    }
   ],
   "source": [
    "def fruits_into_baskets(fruits):   \n",
    "    if fruits == None:\n",
    "        return 0\n",
    "    if len(fruits) <= 1:\n",
    "        return len(fruits)\n",
    "\n",
    "    BASKET_SIZE = 2\n",
    "    window_start = 0 \n",
    "    max_num_fruits = 0\n",
    "    basket = {}\n",
    "\n",
    "    for window_end in range(len(fruits)):\n",
    "        right_fruit = fruits[window_end]    \n",
    "        if right_fruit in basket:\n",
    "            basket[right_fruit] += 1\n",
    "        else:\n",
    "            basket[right_fruit] = 1\n",
    "\n",
    "        while len(basket) > BASKET_SIZE:\n",
    "            left_fruit = fruits[window_start]\n",
    "            basket[left_fruit] -= 1\n",
    "            if basket[left_fruit] == 0:\n",
    "                del basket[left_fruit]\n",
    "\n",
    "            window_start += 1\n",
    "\n",
    "        max_num_fruits = max(max_num_fruits, window_end - window_start + 1)\n",
    "    return max_num_fruits\n",
    "\n",
    "print(\"Maximum number of fruits: \" + str(fruits_into_baskets(['A', 'B', 'C', 'A', 'C'])))\n",
    "print(\"Maximum number of fruits: \" + str(fruits_into_baskets(['A', 'B', 'C', 'B', 'B', 'C'])))\n",
    "# 3 \n",
    "# 5"
   ]
  },
  {
   "cell_type": "code",
   "execution_count": 115,
   "metadata": {},
   "outputs": [
    {
     "name": "stdout",
     "output_type": "stream",
     "text": [
      "Maximum number of fruits: 3\n",
      "Maximum number of fruits: 5\n"
     ]
    }
   ],
   "source": [
    "# try it\n",
    "def fruits_into_baskets(fruits):   \n",
    "  \n",
    "    return\n",
    "\n",
    "print(\"Maximum number of fruits: \" + str(fruits_into_baskets(['A', 'B', 'C', 'A', 'C'])))\n",
    "print(\"Maximum number of fruits: \" + str(fruits_into_baskets(['A', 'B', 'C', 'B', 'B', 'C'])))\n",
    "# 3 \n",
    "# 5"
   ]
  },
  {
   "cell_type": "markdown",
   "metadata": {},
   "source": [
    "## 3. Longest Substring Without Repeating Characters  leetcode\n",
    "Given a string, find the length of the longest substring without repeating characters.  \n",
    "\n",
    "Example 1:  \n",
    "\n",
    "Input: \"abcabcbb\"  \n",
    "Output: 3   \n",
    "Explanation: The answer is \"abc\", with the length of 3.   "
   ]
  },
  {
   "cell_type": "code",
   "execution_count": 120,
   "metadata": {},
   "outputs": [
    {
     "name": "stdout",
     "output_type": "stream",
     "text": [
      "3\n",
      "1\n",
      "11\n"
     ]
    }
   ],
   "source": [
    "def lengthOfLongestSubstring(s: str) -> int:\n",
    "    if len(s) <= 1 :\n",
    "        return len(s)\n",
    "\n",
    "    window_start = 0\n",
    "    letters = set()\n",
    "    max_length = 0\n",
    "   \n",
    "    for window_end in range(len(s)):\n",
    "        letter_end = s[window_end]\n",
    "        \n",
    "        if letter_end in letters:\n",
    "            while letter_end in letters:                \n",
    "                letters.remove(s[window_start])\n",
    "                window_start += 1            \n",
    "            \n",
    "        letters.add(letter_end)\n",
    "        \n",
    "        max_length = max(max_length, window_end - window_start + 1)\n",
    "\n",
    "    return max_length\n",
    "\n",
    "\n",
    "\n",
    "print(lengthOfLongestSubstring(\"pwwkew\")) #3\n",
    "print(lengthOfLongestSubstring(\"bbbbb\"))  #1\n",
    "print(lengthOfLongestSubstring(\"abcabdefghizqcbb\"))  #2"
   ]
  },
  {
   "cell_type": "code",
   "execution_count": 106,
   "metadata": {},
   "outputs": [
    {
     "name": "stdout",
     "output_type": "stream",
     "text": [
      "3\n",
      "1\n",
      "11\n"
     ]
    }
   ],
   "source": [
    "def lengthOfLongestSubstring(s: str) -> int:\n",
    "   \n",
    "\n",
    "print(lengthOfLongestSubstring(\"pwwkew\"))\n",
    "print(lengthOfLongestSubstring(\"bbbbb\"))\n",
    "print(lengthOfLongestSubstring(\"abcabdefghizqcbb\"))"
   ]
  },
  {
   "cell_type": "code",
   "execution_count": 110,
   "metadata": {},
   "outputs": [
    {
     "name": "stdout",
     "output_type": "stream",
     "text": [
      "3\n"
     ]
    }
   ],
   "source": [
    "# another implementation using dict and tracking index of letter\n",
    "def lengthOfLongestSubstring(s):\n",
    "\n",
    "    if len(s) == 0: return 0\n",
    "\n",
    "    start = maxLength = 0\n",
    "\n",
    "    usedChars = {}\n",
    "\n",
    "    for i in range(len(s)):\n",
    "        if s[i] in usedChars and start <= usedChars[s[i]]:\n",
    "            start = usedChars[s[i]] + 1\n",
    "        else:\n",
    "            maxLength = max(maxLength, i - start + 1)\n",
    "        usedChars[s[i]] = i\n",
    "\n",
    "\n",
    "    return maxLength\n",
    "print(lengthOfLongestSubstring(\"pwwkew\"))"
   ]
  },
  {
   "cell_type": "code",
   "execution_count": 111,
   "metadata": {},
   "outputs": [
    {
     "name": "stdout",
     "output_type": "stream",
     "text": [
      "The input string is geeksforgeeks\n",
      "The length of the longest non-repeating character substring is 7\n"
     ]
    }
   ],
   "source": [
    "# Another Implemetation\n",
    "# Python program to find the length of the longest substring \n",
    "# without repeating characters \n",
    "NO_OF_CHARS = 256\n",
    "  \n",
    "def longestUniqueSubsttr(string): \n",
    "  \n",
    "    # Initialize the last index array as -1, -1 is used to store \n",
    "    # last index of every character \n",
    "    lastIndex = [-1] * NO_OF_CHARS \n",
    "  \n",
    "    n = len(string) \n",
    "    res = 0   # Result \n",
    "    i = 0\n",
    "  \n",
    "    for j in range(0, n): \n",
    "        # Find the last index of str[j] \n",
    "        # Update i (starting index of current window) \n",
    "        # as maximum of current value of i and last \n",
    "        # index plus 1 \n",
    "        i = max(i, lastIndex[ord(string[j])] + 1); \n",
    "  \n",
    "        # Update result if we get a larger window \n",
    "        res =  max(res, j - i + 1) \n",
    "  \n",
    "        # Update last index of j. \n",
    "        lastIndex[ord(string[j])] = j; \n",
    "  \n",
    "    return res \n",
    "  \n",
    "# Driver program to test the above function \n",
    "string = \"geeksforgeeks\"\n",
    "print (\"The input string is \" + string) \n",
    "length = longestUniqueSubsttr(string) \n",
    "print (\"The length of the longest non-repeating character\" +\n",
    "       \" substring is \" + str(length)) \n",
    "  \n",
    "# This code is contributed by Bhavya Jain \n"
   ]
  },
  {
   "cell_type": "markdown",
   "metadata": {},
   "source": [
    "## No-repeat Substring (hard) same as above\n",
    "Given a string, find the length of the longest substring which has no repeating characters.\n",
    "\n",
    "Input: String=\"aabccbb\"  \n",
    "Output: 3  \n",
    "Explanation: The longest substring without any repeating characters is \"abc\".\n",
    "\n",
    "Input: String=\"abbbb\"  \n",
    "Output: 2  \n",
    "Explanation: The longest substring without any repeating characters is \"ab\".\n",
    "\n",
    "Input: String=\"abccde\"  \n",
    "Output: 3  \n",
    "Explanation: Longest substrings without any repeating characters are \"abc\" & \"cde\".\n",
    "\n",
    "\n",
    "this was not really that hard  \n",
    "my solution used a set, but you have to do all the checks, below is an easier way  \n",
    "NEW TRICK: see below"
   ]
  },
  {
   "cell_type": "code",
   "execution_count": 121,
   "metadata": {},
   "outputs": [
    {
     "name": "stdout",
     "output_type": "stream",
     "text": [
      "Length of the longest substring: 3\n",
      "Length of the longest substring: 2\n",
      "Length of the longest substring: 3\n"
     ]
    }
   ],
   "source": [
    "# MY Code: using a set\n",
    "def non_repeat_substring_with_set(str):\n",
    "    if str == None or len(str) == 0:\n",
    "        return 0\n",
    "    if len(str) == 1:\n",
    "        return 1\n",
    "    \n",
    "    window_start = 0\n",
    "    max_length = 0\n",
    "    letters = set()\n",
    "\n",
    "    for window_end in range(len(str)):\n",
    "        right_char = str[window_end]\n",
    "        \n",
    "        if right_char in letters:           \n",
    "            while right_char in letters:\n",
    "                letters.remove(str[window_start])\n",
    "                window_start += 1\n",
    "           \n",
    "        \n",
    "        letters.add(right_char)\n",
    "        \n",
    "        max_length = max(max_length, window_end - window_start + 1)\n",
    "\n",
    "    return max_length\n",
    "print(\"Length of the longest substring: \" + str(non_repeat_substring_with_set(\"aabccbb\")))\n",
    "print(\"Length of the longest substring: \" + str(non_repeat_substring_with_set(\"abbbb\")))\n",
    "print(\"Length of the longest substring: \" + str(non_repeat_substring_with_set(\"abccde\")))\n"
   ]
  },
  {
   "cell_type": "markdown",
   "metadata": {},
   "source": [
    "#### TRICK\n",
    "USING THE HASH TABLE TO RECORD THE window_end  \n",
    "then all you have to do it add the window end to the hashtable and don't have to check anything  \n",
    "it also acts as the slider for the window start"
   ]
  },
  {
   "cell_type": "code",
   "execution_count": 27,
   "metadata": {},
   "outputs": [
    {
     "name": "stdout",
     "output_type": "stream",
     "text": [
      "Length of the longest substring: 3\n",
      "Length of the longest substring: 2\n",
      "Length of the longest substring: 3\n"
     ]
    }
   ],
   "source": [
    "def non_repeat_substring(str1):\n",
    "    window_start = 0\n",
    "    max_length = 0\n",
    "    char_index_map = {}\n",
    "\n",
    "    # try to extend the range [windowStart, windowEnd]\n",
    "    for window_end in range(len(str1)):\n",
    "        right_char = str1[window_end]\n",
    "        # if the map already contains the 'right_char', shrink the window from the beginning so that\n",
    "        # we have only one occurrence of 'right_char'\n",
    "        if right_char in char_index_map:\n",
    "            # this is tricky; in the current window, we will not have any 'right_char' after its previous index\n",
    "            # and if 'window_start' is already ahead of the last index of 'right_char', we'll keep 'window_start'\n",
    "            window_start = max(window_start, char_index_map[right_char] + 1)\n",
    "        # insert the 'right_char' into the map\n",
    "        char_index_map[right_char] = window_end\n",
    "        # remember the maximum length so far\n",
    "        max_length = max(max_length, window_end - window_start + 1)\n",
    "    return max_length\n",
    "\n",
    "\n",
    "\n",
    "print(\"Length of the longest substring: \" + str(non_repeat_substring(\"aabccbb\")))\n",
    "print(\"Length of the longest substring: \" + str(non_repeat_substring(\"abbbb\")))\n",
    "print(\"Length of the longest substring: \" + str(non_repeat_substring(\"abccde\")))\n"
   ]
  },
  {
   "cell_type": "markdown",
   "metadata": {},
   "source": [
    "### Longest Substring with Same Letters after Replacement (hard)\n",
    "\n",
    "Given a string with lowercase letters only, if you are allowed to replace no more than ‘k’ letters with any letter, find the length of the longest substring having the same letters after replacement.\n",
    "\n",
    "Input: String=\"aabccbb\", k=2  \n",
    "Output: 5  \n",
    "Explanation: Replace the two 'c' with 'b' to have a longest repeating substring \"bbbbb\".  \n",
    "\n",
    "Input: String=\"abbcb\", k=1  \n",
    "Output: 4  \n",
    "Explanation: Replace the 'c' with 'b' to have a longest repeating substring \"bbbb\".\n",
    "\n",
    "Input: String=\"abccde\", k=1  \n",
    "Output: 3  \n",
    "Explanation: Replace the 'b' or 'd' with 'c' to have the longest repeating substring \"ccc\".\n",
    "\n",
    "TRICK: the trick here is in a calcuation:\n",
    "* this is solved with a sliding window\n",
    "* we use a freq map to keep track of the max number of letter repeats within the sliding window\n",
    "* the Calc:  size of sliding window - max repeat letters in sliding window > k\n",
    "* you can have as many repeating letters and the window will keep growing\n",
    "* the second you hit a non repeating letter this calc only lets you have k more than total same repeating letter in window\n",
    "* example:   4 repeating letters window size can only be max 6  if k = 2\n",
    "\n",
    "There is no while loop because we just slide window and remove based on the conditional:  \n",
    "        if (window_end - window_start + 1 - max_repeat_letter_count) > k:"
   ]
  },
  {
   "cell_type": "code",
   "execution_count": 123,
   "metadata": {},
   "outputs": [
    {
     "name": "stdout",
     "output_type": "stream",
     "text": [
      "5\n",
      "4\n",
      "3\n"
     ]
    }
   ],
   "source": [
    "# try it\n",
    "def length_of_longest_substring(str1, k):\n",
    "    window_start = 0\n",
    "    frequency = {}\n",
    "    max_repeating_count = 0\n",
    "    max_length = 0\n",
    "    \n",
    "    for window_end in range(len(str1)):\n",
    "        right_char = str1[window_end]\n",
    "        if right_char not in frequency:\n",
    "            frequency[right_char] = 0\n",
    "        frequency[right_char] += 1\n",
    "        \n",
    "        max_repeating_count = max(max_repeating_count, frequency[right_char])\n",
    "        \n",
    "        while (window_end - window_start + 1 - max_repeating_count > k):\n",
    "            left_char = str1[window_start]\n",
    "            frequency[left_char] -= 1\n",
    "            window_start += 1\n",
    "            \n",
    "        max_length = max(max_length, window_end - window_start + 1)\n",
    "\n",
    "    return max_length\n",
    "\n",
    "print(length_of_longest_substring(\"aabccbb\", 2)) # 5\n",
    "print(length_of_longest_substring(\"abbcb\", 1)) # 4\n",
    "print(length_of_longest_substring(\"abccde\", 1)) # 3"
   ]
  },
  {
   "cell_type": "code",
   "execution_count": null,
   "metadata": {},
   "outputs": [],
   "source": [
    "def length_of_longest_substring(str1, k):\n",
    "    window_start, max_length, max_repeat_letter_count = 0, 0, 0\n",
    "    frequency_map = {}\n",
    "\n",
    "    # Try to extend the range [window_start, window_end]\n",
    "    for window_end in range(len(str1)):\n",
    "        print(f'window_end {window_end}')\n",
    "        \n",
    "        right_char = str1[window_end]\n",
    "        if right_char not in frequency_map:\n",
    "            frequency_map[right_char] = 0\n",
    "        frequency_map[right_char] += 1\n",
    "        \n",
    "        max_repeat_letter_count = max(\n",
    "            max_repeat_letter_count, frequency_map[right_char])\n",
    "        \n",
    "        print(str1[window_start: window_end+1])\n",
    "        print(frequency_map)\n",
    "        print(f'max_repeat_letter_count {max_repeat_letter_count}')\n",
    "        \n",
    "        # Current window size is from window_start to window_end, overall we have a letter which is\n",
    "        # repeating 'max_repeat_letter_count' times, this means we can have a window which has one letter\n",
    "        # repeating 'max_repeat_letter_count' times and the remaining letters we should replace.\n",
    "        # if the remaining letters are more than 'k', it is the time to shrink the window as we\n",
    "        # are not allowed to replace more than 'k' letters\n",
    "        if (window_end - window_start + 1 - max_repeat_letter_count) > k:\n",
    "            print(f'window_end - window_start + 1 - max_repeat_letter_count ' \\\n",
    "                f'{window_end - window_start + 1 - max_repeat_letter_count}' \\\n",
    "                f' k {k}')\n",
    "            left_char = str1[window_start]\n",
    "            frequency_map[left_char] -= 1\n",
    "            window_start += 1\n",
    "            \n",
    "        print('max_length', max_length)\n",
    "        \n",
    "        max_length = max(max_length, window_end - window_start + 1)\n",
    "        \n",
    "    return max_length\n",
    "\n",
    "print(length_of_longest_substring(\"aabccbb\", 2))\n",
    "print(length_of_longest_substring(\"abbcb\", 1))\n",
    "print(length_of_longest_substring(\"abccde\", 1))"
   ]
  },
  {
   "cell_type": "markdown",
   "metadata": {},
   "source": [
    "### Longest Subarray with Ones after Replacement (hard)\n",
    "SAME HAS ABOVE PROBLEMS JUST DON'T NEED A HASH TO STORE FREQUENCY  \n",
    "Input: Array=[0, 1, 1, 0, 0, 0, 1, 1, 0, 1, 1], k=2  \n",
    "Output: 6  \n",
    "Explanation: Replace the '0' at index   5 and 8 to have the longest contiguous subarray of 1s having length 6."
   ]
  },
  {
   "cell_type": "code",
   "execution_count": 126,
   "metadata": {},
   "outputs": [
    {
     "name": "stdout",
     "output_type": "stream",
     "text": [
      "None\n",
      "None\n"
     ]
    }
   ],
   "source": [
    "def length_of_longest_substring(arr, k):\n",
    "\n",
    "\n",
    "    return \n",
    "\n",
    "print(length_of_longest_substring([0, 1, 1, 0, 0, 0, 1, 1, 0, 1, 1], 2)) # 6\n",
    "print(length_of_longest_substring([0, 1, 0, 0, 1, 1, 0, 1, 1, 0, 0, 1, 1], 3))  #9"
   ]
  },
  {
   "cell_type": "code",
   "execution_count": 48,
   "metadata": {},
   "outputs": [
    {
     "name": "stdout",
     "output_type": "stream",
     "text": [
      "6\n",
      "9\n"
     ]
    }
   ],
   "source": [
    "def length_of_longest_substring(arr, k):\n",
    "    window_start = 0\n",
    "    max_length = 0\n",
    "    frequency_ones = 0\n",
    "   \n",
    "    for window_end in range(len(arr)):\n",
    "        if arr[window_end] == 1:\n",
    "            frequency_ones += 1    \n",
    "   \n",
    "        if (window_end - window_start + 1 - frequency_ones) > k:\n",
    "            if arr[window_start] == 1:        \n",
    "                frequency_ones -= 1\n",
    "                \n",
    "            window_start += 1\n",
    "\n",
    "    max_length = max(max_length, window_end - window_start + 1)\n",
    "\n",
    "    return max_length\n",
    "\n",
    "print(length_of_longest_substring([0, 1, 1, 0, 0, 0, 1, 1, 0, 1, 1], 2))\n",
    "print(length_of_longest_substring([0, 1, 0, 0, 1, 1, 0, 1, 1, 0, 0, 1, 1], 3))"
   ]
  },
  {
   "cell_type": "markdown",
   "metadata": {},
   "source": [
    "## Smallest Window containing Substring (hard) # variable window\n",
    "Given a string and a pattern, find the smallest substring in the given string which has all the characters of the given pattern.\n",
    "\n",
    "Input: String=\"aabdec\", Pattern=\"abc\"  \n",
    "Output: \"abdec\"  \n",
    "Explanation: The smallest substring having all characters of the pattern is \"abdec\"\n",
    "\n",
    "Input: String=\"abdabca\", Pattern=\"abc\"  \n",
    "Output: \"abc\"  \n",
    "Explanation: The smallest substring having all characters of the pattern is \"abc\".\n",
    "\n",
    "Input: String=\"adcad\", Pattern=\"abc\"   \n",
    "Output: \"\"  \n",
    "Explanation: No substring in the given string has all characters of the pattern.\n",
    "\n",
    "the concept is easy the trick is hard\n",
    "TRICK:\n",
    "* TRIGGER - when there is a match\n",
    "* slide window start until there is not a match - keep updating results if lower\n",
    "* continue sliding window end until at end"
   ]
  },
  {
   "cell_type": "code",
   "execution_count": 149,
   "metadata": {},
   "outputs": [
    {
     "name": "stdout",
     "output_type": "stream",
     "text": [
      "None\n",
      "None\n",
      "None\n"
     ]
    }
   ],
   "source": [
    "def find_substring(str1, pattern):\n",
    "    return\n",
    "\n",
    "def main():\n",
    "    print(find_substring(\"aabdec\", \"abc\")) # abdec\n",
    "    print(find_substring(\"abdabca\", \"abc\")) # abc\n",
    "    print(find_substring(\"adcad\", \"abc\"))  # none\n",
    "\n",
    "main()"
   ]
  },
  {
   "cell_type": "code",
   "execution_count": 148,
   "metadata": {},
   "outputs": [
    {
     "name": "stdout",
     "output_type": "stream",
     "text": [
      "abdec\n",
      "abc\n",
      "\n"
     ]
    }
   ],
   "source": [
    "# my version\n",
    "def find_substring(str1, pattern):\n",
    "    window_start = 0\n",
    "    matched = 0\n",
    "    min_length = len(str1) + 1\n",
    "    substring = ''\n",
    "    char_freq = {}\n",
    "    for char in pattern:\n",
    "        if char not in char_freq:\n",
    "            char_freq[char] = 0\n",
    "        char_freq[char] += 1\n",
    "        \n",
    "    \n",
    "    for window_end in range(len(str1)):\n",
    "        right_char = str1[window_end]\n",
    "        if right_char in char_freq:\n",
    "            char_freq[right_char] -= 1\n",
    "            if char_freq[right_char] >= 0: # IDU\n",
    "                matched += 1\n",
    "                \n",
    "        while matched == len(pattern):\n",
    "            if min_length > (window_end - window_start + 1):\n",
    "                min_length = (window_end - window_start + 1)\n",
    "                substring = str1[window_start:window_end+1]\n",
    "                 \n",
    "            left_char = str1[window_start]\n",
    "            window_start += 1\n",
    "            if left_char in char_freq:                \n",
    "                if char_freq[left_char] == 0:\n",
    "                    matched -= 1\n",
    "                char_freq[left_char] += 1\n",
    "\n",
    "        \n",
    "    if min_length > len(str1):\n",
    "        return \"\"\n",
    "        \n",
    "    return substring\n",
    "\n",
    "def main():\n",
    "    print(find_substring(\"aabdec\", \"abc\")) # abdec\n",
    "    print(find_substring(\"abdabca\", \"abc\")) # abc\n",
    "    print(find_substring(\"adcad\", \"abc\"))  # none\n",
    "\n",
    "main()"
   ]
  },
  {
   "cell_type": "code",
   "execution_count": 51,
   "metadata": {},
   "outputs": [
    {
     "name": "stdout",
     "output_type": "stream",
     "text": [
      "abdec\n",
      "abc\n",
      "\n"
     ]
    }
   ],
   "source": [
    "def find_substring(str1, pattern):\n",
    "    window_start, matched, substr_start = 0, 0, 0\n",
    "    min_length = len(str1) + 1\n",
    "    char_frequency = {}\n",
    "\n",
    "    for chr in pattern:\n",
    "        if chr not in char_frequency:\n",
    "            char_frequency[chr] = 0\n",
    "        char_frequency[chr] += 1\n",
    "\n",
    "    # try to extend the range [window_start, window_end]\n",
    "    for window_end in range(len(str1)):\n",
    "        right_char = str1[window_end]\n",
    "        if right_char in char_frequency:\n",
    "            char_frequency[right_char] -= 1\n",
    "            if char_frequency[right_char] >= 0:  # Count every matching of a character\n",
    "                matched += 1\n",
    "\n",
    "        # Shrink the window if we can, finish as soon as we remove a matched character\n",
    "        while matched == len(pattern):\n",
    "            if min_length > window_end - window_start + 1:\n",
    "                min_length = window_end - window_start + 1\n",
    "                substr_start = window_start\n",
    "\n",
    "            left_char = str1[window_start]\n",
    "            window_start += 1\n",
    "            if left_char in char_frequency:\n",
    "                # Note that we could have redundant matching characters, therefore we'll decrement the\n",
    "                # matched count only when a useful occurrence of a matched character is going out of the window\n",
    "                if char_frequency[left_char] == 0:\n",
    "                    matched -= 1\n",
    "                char_frequency[left_char] += 1\n",
    "\n",
    "    if min_length > len(str1):\n",
    "        return \"\"\n",
    "    return str1[substr_start:substr_start + min_length]\n",
    "\n",
    "\n",
    "def main():\n",
    "    print(find_substring(\"aabdec\", \"abc\"))\n",
    "    print(find_substring(\"abdabca\", \"abc\"))\n",
    "    print(find_substring(\"adcad\", \"abc\"))\n",
    "\n",
    "main()"
   ]
  },
  {
   "cell_type": "markdown",
   "metadata": {},
   "source": [
    "### Words Concatenation (hard) GTCI - still don't fully understand\n",
    "Given a string and a list of words, find all the starting indices of substrings in the given string that are a concatenation of all the given words exactly once without any overlapping of words. It is given that all words are of the same length.\n",
    "\n",
    "Input: String=\"catfoxcat\", Words=[\"cat\", \"fox\"]  \n",
    "Output: [0, 3]  \n",
    "Explanation: The two substring containing both the words are \"catfox\" & \"foxcat\".\n",
    "\n",
    "\n",
    "Input: String=\"catcatfoxfox\", Words=[\"cat\", \"fox\"]  \n",
    "Output: [3]  \n",
    "Explanation: The only substring containing both the words is \"catfox\".\n",
    "\n",
    "TRICKs: \n",
    "* words are all same length\n",
    "* number of words * word length - gives you length of first window\n",
    "* first window loop is also variable\n",
    "* Use of second word_seen dict\n",
    "* second loop - loops through str based on lenght of word - looking for more words"
   ]
  },
  {
   "cell_type": "code",
   "execution_count": null,
   "metadata": {},
   "outputs": [],
   "source": [
    "# Try it\n",
    "def find_word_concatenation(str1, words):\n",
    "    \n",
    "        \n",
    "\n",
    "    return \n",
    "\n",
    "\n",
    "def main():\n",
    "  print(find_word_concatenation(\"catfoxcat\", [\"cat\", \"fox\"]))\n",
    "  print(find_word_concatenation(\"catcatfoxfox\", [\"cat\", \"fox\"]))\n",
    "\n",
    "\n",
    "main()\n",
    "\n",
    "  \n",
    "\n",
    "print(find_word_concatenation(\"catfoxcat\", [\"cat\", \"fox\"]))"
   ]
  },
  {
   "cell_type": "code",
   "execution_count": 152,
   "metadata": {},
   "outputs": [
    {
     "name": "stdout",
     "output_type": "stream",
     "text": [
      "[0, 3]\n",
      "[3]\n",
      "[3, 6]\n"
     ]
    }
   ],
   "source": [
    "def find_word_concatenation(str1, words):\n",
    "    if len(words) == 0 or len(words[0]) == 0:\n",
    "        return []\n",
    "\n",
    "    word_frequency = {}\n",
    "\n",
    "    for word in words:\n",
    "        if word not in word_frequency:\n",
    "            word_frequency[word] = 0\n",
    "        word_frequency[word] += 1\n",
    "\n",
    "    result_indices = []\n",
    "    words_count = len(words)\n",
    "    word_length = len(words[0])\n",
    "\n",
    "    for i in range((len(str1) - words_count * word_length)+1):\n",
    "        words_seen = {}\n",
    "        for j in range(0, words_count):\n",
    "            next_word_index = i + j * word_length\n",
    "            # Get the next word from the string\n",
    "            word = str1[next_word_index: next_word_index + word_length]\n",
    "            if word not in word_frequency:  # Break if we don't need this word\n",
    "                break\n",
    "\n",
    "            # Add the word to the 'words_seen' map\n",
    "            if word not in words_seen:\n",
    "                words_seen[word] = 0\n",
    "            words_seen[word] += 1\n",
    "\n",
    "            # No need to process further if the word has higher frequency than required\n",
    "            if words_seen[word] > word_frequency.get(word, 0):\n",
    "                break\n",
    "\n",
    "            if j + 1 == words_count:  # Store index if we have found all the words\n",
    "                result_indices.append(i)\n",
    "\n",
    "    return result_indices\n",
    "\n",
    "\n",
    "def main():\n",
    "    print(find_word_concatenation(\"catfoxcat\", [\"cat\", \"fox\"]))\n",
    "    print(find_word_concatenation(\"catcatfoxfox\", [\"cat\", \"fox\"]))\n",
    "    print(find_word_concatenation(\"catcatfoxcat\", [\"cat\", \"fox\"]))\n",
    "\n",
    "main()"
   ]
  },
  {
   "cell_type": "code",
   "execution_count": null,
   "metadata": {},
   "outputs": [],
   "source": []
  },
  {
   "cell_type": "code",
   "execution_count": null,
   "metadata": {},
   "outputs": [],
   "source": [
    "\n",
    "   "
   ]
  }
 ],
 "metadata": {
  "kernelspec": {
   "display_name": "Python 3.7.5 64-bit ('p37': conda)",
   "language": "python",
   "name": "python37564bitp37conda2b1eeea87ee044609be89b011a3e6682"
  },
  "language_info": {
   "codemirror_mode": {
    "name": "ipython",
    "version": 3
   },
   "file_extension": ".py",
   "mimetype": "text/x-python",
   "name": "python",
   "nbconvert_exporter": "python",
   "pygments_lexer": "ipython3",
   "version": "3.7.5"
  }
 },
 "nbformat": 4,
 "nbformat_minor": 4
}
