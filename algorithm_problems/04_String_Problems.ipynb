{
 "cells": [
  {
   "cell_type": "markdown",
   "metadata": {},
   "source": [
    "# String Algorithms"
   ]
  },
  {
   "cell_type": "markdown",
   "metadata": {},
   "source": [
    "## ASCII Char count array\n",
    "techique used, similar to dictionary, to track string questions when you need to know frequency\n",
    "* use less operations of creating and deleteing\n",
    "* "
   ]
  },
  {
   "cell_type": "code",
   "execution_count": 27,
   "metadata": {},
   "outputs": [
    {
     "name": "stdout",
     "output_type": "stream",
     "text": [
      "[0, 0, 0, 0, 0, 0, 0, 0, 0, 0, 0, 0, 0, 0, 0, 0, 0, 0, 0, 0, 0, 0, 0, 0, 0, 0, 0, 0, 0, 0, 0, 0, 0, 0, 0, 0, 0, 0, 0, 0, 0, 0, 0, 0, 0, 0, 0, 0, 0, 0, 0, 0, 0, 0, 0, 0, 0, 0, 0, 0, 0, 0, 0, 0, 0, 0, 0, 0, 0, 0, 0, 0, 0, 0, 0, 0, 0, 0, 0, 0, 0, 0, 0, 0, 0, 0, 0, 0, 0, 0, 0, 0, 0, 0, 0, 0, 0, 0, 0, 0, 0, 0, 0, 0, 0, 0, 0, 0, 0, 0, 0, 0, 0, 0, 0, 0, 0, 0, 0, 0, 0, 0, 0, 0, 0, 0, 0, 0, 0, 0, 0, 0, 0, 0, 0, 0, 0, 0, 0, 0, 0, 0, 0, 0, 0, 0, 0, 0, 0, 0, 0, 0, 0, 0, 0, 0, 0, 0, 0, 0, 0, 0, 0, 0, 0, 0, 0, 0, 0, 0, 0, 0, 0, 0, 0, 0, 0, 0, 0, 0, 0, 0, 0, 0, 0, 0, 0, 0, 0, 0, 0, 0, 0, 0, 0, 0, 0, 0, 0, 0, 0, 0, 0, 0, 0, 0, 0, 0, 0, 0, 0, 0, 0, 0, 0, 0, 0, 0, 0, 0, 0, 0, 0, 0, 0, 0, 0, 0, 0, 0, 0, 0, 0, 0, 0, 0, 0, 0, 0, 0, 0, 0, 0, 0, 0, 0, 0, 0, 0, 0, 0, 0, 0, 0, 0, 0]\n",
      "[0, 0, 0, 0, 0, 0, 0, 0, 0, 0, 0, 0, 0, 0, 0, 0, 0, 0, 0, 0, 0, 0, 0, 0, 0, 0, 0, 0, 0, 0, 0, 0, 4, 0, 0, 0, 0, 0, 0, 0, 0, 0, 0, 0, 0, 0, 0, 0, 0, 0, 0, 0, 0, 0, 0, 0, 0, 0, 0, 0, 0, 0, 0, 0, 0, 0, 0, 0, 0, 0, 0, 0, 0, 0, 0, 0, 0, 0, 0, 0, 0, 0, 0, 0, 0, 0, 0, 0, 0, 0, 0, 0, 0, 0, 0, 0, 0, 0, 2, 0, 0, 2, 0, 0, 3, 2, 0, 0, 2, 1, 0, 2, 0, 0, 0, 2, 2, 0, 0, 1, 0, 0, 0, 0, 0, 0, 0, 0, 0, 0, 0, 0, 0, 0, 0, 0, 0, 0, 0, 0, 0, 0, 0, 0, 0, 0, 0, 0, 0, 0, 0, 0, 0, 0, 0, 0, 0, 0, 0, 0, 0, 0, 0, 0, 0, 0, 0, 0, 0, 0, 0, 0, 0, 0, 0, 0, 0, 0, 0, 0, 0, 0, 0, 0, 0, 0, 0, 0, 0, 0, 0, 0, 0, 0, 0, 0, 0, 0, 0, 0, 0, 0, 0, 0, 0, 0, 0, 0, 0, 0, 0, 0, 0, 0, 0, 0, 0, 0, 0, 0, 0, 0, 0, 0, 0, 0, 0, 0, 0, 0, 0, 0, 0, 0, 0, 0, 0, 0, 0, 0, 0, 0, 0, 0, 0, 0, 0, 0, 0, 0, 0, 0, 0, 0, 0, 0]\n"
     ]
    }
   ],
   "source": [
    "char_count = [0] * 256\n",
    "print(char_count)\n",
    "word = 'hellow this is the bomb'\n",
    "\n",
    "for w in word:\n",
    "    char_count[ord(w)] += 1\n",
    "    \n",
    "print(char_count)"
   ]
  },
  {
   "cell_type": "code",
   "execution_count": null,
   "metadata": {},
   "outputs": [],
   "source": []
  },
  {
   "cell_type": "code",
   "execution_count": null,
   "metadata": {},
   "outputs": [],
   "source": []
  },
  {
   "cell_type": "markdown",
   "metadata": {},
   "source": [
    "### 1190. Reverse Substrings Between Each Pair of Parentheses\n",
    "\n",
    "You are given a string s that consists of lower case English letters and brackets. \n",
    "\n",
    "Reverse the strings in each pair of matching parentheses, starting from the innermost one.\n",
    "\n",
    "Your result should not contain any brackets.\n",
    "\n",
    " \n",
    "Input: s = \"(abcd)\"  \n",
    "Output: \"dcba\"  \n",
    "\n",
    "Input: s = \"(u(love)i)\"  \n",
    "Output: \"iloveu\"  \n",
    "Explanation: The substring \"love\" is reversed first, then the whole string is reversed.\n",
    "\n",
    "Input: s = \"(ed(et(oc))el)\"  \n",
    "Output: \"leetcode\"  \n",
    "Explanation: First, we reverse the substring \"oc\", then \"etco\", and finally, the whole string.\n",
    "\n",
    "Input: s = \"a(bcdefghijkl(mno)p)q\"\n",
    "Output: \"apmnolkjihgfedcbq\"\n",
    "\n",
    "TRICK: this problem is first solved with a trick of reversing string within each part pair  \n",
    "(u(love)i)  \n",
    "(uevoli)  \n",
    "iloveu  "
   ]
  },
  {
   "cell_type": "code",
   "execution_count": 22,
   "metadata": {},
   "outputs": [
    {
     "name": "stdout",
     "output_type": "stream",
     "text": [
      "iloveu\n",
      "leetcode\n",
      "apmnolkjihgfedcbq\n"
     ]
    }
   ],
   "source": [
    "def reverseParentheses(str_input: str) -> str:\n",
    "    if len(str_input) == 3:\n",
    "        return str[1]\n",
    "    if len(str_input) <= 2:\n",
    "        return None\n",
    "    \n",
    "    \n",
    "    stack = []\n",
    "    str_list = [s for s in str_input]\n",
    "    result = ''\n",
    "    # print(str_list)\n",
    "    \n",
    "    for i in range(len(str_list)):\n",
    "        if str_list[i] == '(':\n",
    "            stack.append(i)\n",
    "        elif str_list[i] == ')':\n",
    "            start_index = stack.pop()\n",
    "            # print(str_list[start_index + 1 : i])\n",
    "            str_list[start_index + 1 : i] = reversed(str_list[start_index + 1 : i])\n",
    "        #print(stack)  \n",
    "            \n",
    "    for s in str_list:\n",
    "        if (s != ')' and s != '('): \n",
    "            result += s\n",
    "    \n",
    "    return result\n",
    "\n",
    "print(reverseParentheses('(u(love)i)'))\n",
    "print(reverseParentheses('(ed(et(oc))el)'))\n",
    "print(reverseParentheses('a(bcdefghijkl(mno)p)q'))"
   ]
  },
  {
   "cell_type": "code",
   "execution_count": null,
   "metadata": {},
   "outputs": [],
   "source": []
  },
  {
   "cell_type": "code",
   "execution_count": null,
   "metadata": {},
   "outputs": [],
   "source": []
  },
  {
   "cell_type": "code",
   "execution_count": null,
   "metadata": {},
   "outputs": [],
   "source": []
  }
 ],
 "metadata": {
  "kernelspec": {
   "display_name": "Python 3.7.5 64-bit ('p37': conda)",
   "language": "python",
   "name": "python37564bitp37conda2b1eeea87ee044609be89b011a3e6682"
  },
  "language_info": {
   "codemirror_mode": {
    "name": "ipython",
    "version": 3
   },
   "file_extension": ".py",
   "mimetype": "text/x-python",
   "name": "python",
   "nbconvert_exporter": "python",
   "pygments_lexer": "ipython3",
   "version": "3.7.5"
  }
 },
 "nbformat": 4,
 "nbformat_minor": 4
}
