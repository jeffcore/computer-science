{
 "cells": [
  {
   "cell_type": "markdown",
   "metadata": {},
   "source": [
    "# Cyclic Sort"
   ]
  },
  {
   "cell_type": "markdown",
   "metadata": {},
   "source": [
    "This pattern describes an interesting approach to deal with problems involving arrays containing numbers in a given range. For example, take the following problem:\n",
    "\n",
    "You are given an unsorted array containing numbers taken from the range 1 to ‘n’. The array can have duplicates, which means that some numbers will be missing. Find all the missing numbers.\n",
    "\n",
    "To efficiently solve this problem, we can use the fact that the input array contains numbers in the range of 1 to ‘n’. For example, to efficiently sort the array, we can try placing each number in its correct place, i.e., placing ‘1’ at index ‘0’, placing ‘2’ at index ‘1’, and so on. Once we are done with the sorting, we can iterate the array to find all indices that are missing the correct numbers. These will be our required numbers."
   ]
  },
  {
   "cell_type": "markdown",
   "metadata": {},
   "source": [
    "## Problems usually always start with a cyclic sort\n",
    "See implementation below"
   ]
  },
  {
   "cell_type": "code",
   "execution_count": 25,
   "metadata": {},
   "outputs": [
    {
     "name": "stdout",
     "output_type": "stream",
     "text": [
      "[1, 2, 4, 4, 5, 6]\n"
     ]
    }
   ],
   "source": [
    "def cyclic_sort(nums):\n",
    "    i = 0\n",
    "    while i < len(nums):\n",
    "        j = nums[i] - 1 # negative one to get correct index\n",
    "        # check if number in i is in the correct index.  so 2 is in index 1\n",
    "        if nums[i] != nums[j]:\n",
    "            nums[i], nums[j] = nums[j], nums[i]  # swap\n",
    "        else:\n",
    "            i += 1\n",
    "    return nums\n",
    "\n",
    "print(cyclic_sort([1, 5, 6, 4, 4, 2]))"
   ]
  },
  {
   "cell_type": "markdown",
   "metadata": {},
   "source": [
    "## then you usually loop through sorted array to find out of place numbers"
   ]
  },
  {
   "cell_type": "code",
   "execution_count": 27,
   "metadata": {},
   "outputs": [
    {
     "name": "stdout",
     "output_type": "stream",
     "text": [
      "4\n"
     ]
    }
   ],
   "source": [
    "nums = cyclic_sort([1, 5, 6, 4, 4, 2])\n",
    "for i in range(len(nums)):\n",
    "    if nums[i] != i+1:\n",
    "        print(nums[i])"
   ]
  },
  {
   "cell_type": "markdown",
   "metadata": {},
   "source": [
    "## Cyclic Sort this array\n",
    "\n",
    "Let’s jump on to our first problem to understand the Cyclic Sort pattern in detail.\n",
    "\n",
    "\n",
    "<img src='../images/cyclic.png' width=40% />\n",
    "\n",
    "Input: [3, 1, 5, 4, 2]  \n",
    "Output: [1, 2, 3, 4, 5]  \n",
    "\n",
    "\n",
    "Input: [2, 6, 4, 3, 1, 5]  \n",
    "Output: [1, 2, 3, 4, 5, 6]  \n",
    "\n",
    "\n",
    "Input: [1, 5, 6, 4, 3, 2]  \n",
    "Output: [1, 2, 3, 4, 5, 6]"
   ]
  },
  {
   "cell_type": "code",
   "execution_count": 3,
   "metadata": {},
   "outputs": [
    {
     "name": "stdout",
     "output_type": "stream",
     "text": [
      "[1, 2, 3, 4, 5]\n",
      "[1, 2, 3, 4, 5, 6]\n",
      "[1, 2, 3, 4, 5, 6]\n"
     ]
    }
   ],
   "source": [
    "def cyclic_sort(nums):\n",
    "        \n",
    "\n",
    "\n",
    "print(cyclic_sort([3, 1, 5, 4, 2]))\n",
    "print(cyclic_sort([2, 6, 4, 3, 1, 5]))\n",
    "print(cyclic_sort([1, 5, 6, 4, 3, 2]))\n"
   ]
  },
  {
   "cell_type": "code",
   "execution_count": 6,
   "metadata": {},
   "outputs": [
    {
     "name": "stdout",
     "output_type": "stream",
     "text": [
      "[1, 2, 3, 4, 5]\n",
      "[1, 2, 3, 4, 5, 6]\n",
      "[1, 2, 3, 4, 5, 6]\n"
     ]
    }
   ],
   "source": [
    "def cyclic_sort(nums):\n",
    "    i = 0\n",
    "    while i < len(nums):\n",
    "        j = nums[i] - 1 # negative one to get correct index\n",
    "        # check if number in i is in the correct index.  so 2 is in index 1\n",
    "        if nums[i] != nums[j]:\n",
    "            nums[i], nums[j] = nums[j], nums[i]  # swap\n",
    "        else:\n",
    "            i += 1\n",
    "    return nums\n",
    "\n",
    "def main():\n",
    "    print(cyclic_sort([3, 1, 5, 4, 2]))\n",
    "    print(cyclic_sort([2, 6, 4, 3, 1, 5]))\n",
    "    print(cyclic_sort([1, 5, 6, 4, 3, 2]))\n",
    "\n",
    "main()"
   ]
  },
  {
   "cell_type": "markdown",
   "metadata": {},
   "source": [
    "# Find the Missing Number (easy)\n",
    "\n",
    "We are given an array containing ‘n’ distinct numbers taken from the range 0 to ‘n’. Since the array has only ‘n’ numbers out of the total ‘n+1’ numbers, find the missing number.\n",
    "\n",
    "Input: [4, 0, 3, 1]  \n",
    "Output: 2  \n",
    "\n",
    "Input: [8, 3, 5, 2, 4, 6, 0, 1]  \n",
    "Output: 7\n",
    "\n",
    "REMEMBER start with 0 "
   ]
  },
  {
   "cell_type": "code",
   "execution_count": 7,
   "metadata": {},
   "outputs": [
    {
     "name": "stdout",
     "output_type": "stream",
     "text": [
      "2\n",
      "7\n"
     ]
    }
   ],
   "source": [
    "# Try it\n",
    "def find_missing_number(nums):\n",
    "\n",
    "    \n",
    "\n",
    "print(find_missing_number([4, 0, 3, 1]))\n",
    "print(find_missing_number([8, 3, 5, 2, 4, 6, 0, 1]))"
   ]
  },
  {
   "cell_type": "code",
   "execution_count": 8,
   "metadata": {},
   "outputs": [
    {
     "name": "stdout",
     "output_type": "stream",
     "text": [
      "2\n",
      "7\n"
     ]
    }
   ],
   "source": [
    "def find_missing_number(nums):\n",
    "    i, n = 0, len(nums)\n",
    "    while i < n:\n",
    "        j = nums[i]\n",
    "        if nums[i] < n and nums[i] != nums[j]:  # nums[i] != nums[j] handles for element in correct psotision\n",
    "            nums[i], nums[j] = nums[j], nums[i]  # swap\n",
    "        else:\n",
    "            i += 1\n",
    "\n",
    "    # find the first number missing from its index, that will be our required number\n",
    "    for i in range(n):\n",
    "        if nums[i] != i:\n",
    "            return i\n",
    "\n",
    "    return n\n",
    "\n",
    "print(find_missing_number([4, 0, 3, 1]))\n",
    "print(find_missing_number([8, 3, 5, 2, 4, 6, 0, 1]))"
   ]
  },
  {
   "cell_type": "markdown",
   "metadata": {},
   "source": [
    "## Find all Missing Numbers (easy)\n",
    "We are given an unsorted array containing numbers taken from the range 1 to ‘n’. The array can have duplicates, which means some numbers will be missing. Find all those missing numbers.\n",
    "\n",
    "Input: [2, 3, 1, 8, 2, 3, 5, 1]  \n",
    "Output: 4, 6, 7  \n",
    "Explanation: The array should have all numbers from 1 to 8, due to duplicates 4, 6, and 7 are missing.\n",
    "\n",
    "Input: [2, 4, 1, 2]  \n",
    "Output: 3  \n",
    "\n",
    "\n",
    "Input: [2, 3, 2, 1]  \n",
    "Output: 4\n"
   ]
  },
  {
   "cell_type": "code",
   "execution_count": 12,
   "metadata": {},
   "outputs": [
    {
     "name": "stdout",
     "output_type": "stream",
     "text": [
      "[4, 6, 7]\n",
      "[3]\n",
      "[4]\n"
     ]
    }
   ],
   "source": [
    "def find_missing_numbers(nums):\n",
    "  \n",
    "    return missing\n",
    "\n",
    "print(find_missing_numbers([2, 3, 1, 8, 2, 3, 5, 1]))\n",
    "print(find_missing_numbers([2, 4, 1, 2]))\n",
    "print(find_missing_numbers([2, 3, 2, 1]))"
   ]
  },
  {
   "cell_type": "code",
   "execution_count": 13,
   "metadata": {},
   "outputs": [
    {
     "name": "stdout",
     "output_type": "stream",
     "text": [
      "[4, 6, 7]\n",
      "[3]\n",
      "[4]\n"
     ]
    }
   ],
   "source": [
    "def find_missing_numbers(nums):\n",
    "    i = 0\n",
    "    while i < len(nums):\n",
    "        j = nums[i] - 1\n",
    "        if nums[i] != nums[j]: \n",
    "            nums[i], nums[j] = nums[j], nums[i]  # swap\n",
    "        else: # dont have to swap they are the same numbers\n",
    "            i += 1\n",
    "\n",
    "    missingNumbers = []\n",
    "\n",
    "    for i in range(len(nums)):\n",
    "        if nums[i] != i + 1:\n",
    "            missingNumbers.append(i + 1)\n",
    "\n",
    "    return missingNumbers\n",
    "\n",
    "print(find_missing_numbers([2, 3, 1, 8, 2, 3, 5, 1]))\n",
    "print(find_missing_numbers([2, 4, 1, 2]))\n",
    "print(find_missing_numbers([2, 3, 2, 1]))"
   ]
  },
  {
   "cell_type": "markdown",
   "metadata": {},
   "source": [
    "## Find the Duplicate Number (easy)\n",
    "\n",
    "We are given an unsorted array containing ‘n+1’ numbers taken from the range 1 to ‘n’. The array has only one duplicate but it can be repeated multiple times. Find that duplicate number without using any extra space. You are, however, allowed to modify the input array.\n",
    "\n",
    "Input: [1, 4, 4, 3, 2]  \n",
    "Output: 4  \n",
    "\n",
    "Input: [2, 1, 3, 3, 5, 4]  \n",
    "Output: 3  \n",
    "\n",
    "Input: [2, 4, 1, 4, 4]  \n",
    "Output: 4  "
   ]
  },
  {
   "cell_type": "code",
   "execution_count": 17,
   "metadata": {},
   "outputs": [
    {
     "name": "stdout",
     "output_type": "stream",
     "text": [
      "4\n",
      "3\n",
      "4\n"
     ]
    }
   ],
   "source": [
    "def find_duplicate(nums):\n",
    "    i = 0\n",
    "    while i < len(nums):\n",
    "        j = nums[i] - 1\n",
    "        if nums[i] != nums[j]:      \n",
    "            nums[i], nums[j] = nums[j], nums[i]                  \n",
    "        else:\n",
    "            if i != j:\n",
    "                return nums[i]\n",
    "            i += 1\n",
    "    return -1\n",
    "def main():\n",
    "    print(find_duplicate([1, 4, 4, 3, 2]))\n",
    "    print(find_duplicate([2, 1, 3, 3, 5, 4]))\n",
    "    print(find_duplicate([2, 4, 1, 4, 4]))\n",
    "\n",
    "\n",
    "main()"
   ]
  },
  {
   "cell_type": "code",
   "execution_count": 13,
   "metadata": {},
   "outputs": [
    {
     "name": "stdout",
     "output_type": "stream",
     "text": [
      "4\n",
      "3\n",
      "4\n"
     ]
    }
   ],
   "source": [
    "# their solution\n",
    "def find_duplicate(nums):\n",
    "    i = 0\n",
    "    while i < len(nums):\n",
    "        # check if current i not in the right place\n",
    "        if nums[i] != i + 1:\n",
    "            j = nums[i] - 1\n",
    "            # check if same value is already there\n",
    "            if nums[i] != nums[j]:\n",
    "                nums[i], nums[j] = nums[j], nums[i]  # swap\n",
    "            else:  # we have found the duplicate\n",
    "                return nums[i]\n",
    "        else:\n",
    "            i += 1\n",
    "\n",
    "    return -1\n",
    "\n",
    "\n",
    "def main():\n",
    "    print(find_duplicate([1, 4, 4, 3, 2]))\n",
    "    print(find_duplicate([2, 1, 3, 3, 5, 4]))\n",
    "    print(find_duplicate([2, 4, 1, 4, 4]))\n",
    "\n",
    "\n",
    "main()"
   ]
  },
  {
   "cell_type": "code",
   "execution_count": 19,
   "metadata": {},
   "outputs": [
    {
     "name": "stdout",
     "output_type": "stream",
     "text": [
      "4\n",
      "3\n",
      "4\n"
     ]
    }
   ],
   "source": [
    "# using fast slow pointer\n",
    "\n",
    "# Solution: While doing the cyclic sort, we realized that the array will have a cycle due to t\n",
    "# he duplicate number and that the start of the cycle will always point to the duplicate number. \n",
    "# This means that we can use the fast & the slow pointer method to find the duplicate number or \n",
    "# the start of the cycle similar to Start of LinkedList Cycle.\n",
    "\n",
    "\n",
    "def find_duplicate(arr):\n",
    "  slow, fast = arr[0], arr[arr[0]]\n",
    "  while slow != fast:\n",
    "    slow = arr[slow]\n",
    "    fast = arr[arr[fast]]\n",
    "\n",
    "  # find cycle length\n",
    "  current = arr[arr[slow]]\n",
    "  cycleLength = 1\n",
    "  while current != arr[slow]:\n",
    "    current = arr[current]\n",
    "    cycleLength += 1\n",
    "\n",
    "  return find_start(arr, cycleLength)\n",
    "\n",
    "\n",
    "def find_start(arr, cycleLength):\n",
    "  pointer1, pointer2 = arr[0], arr[0]\n",
    "  # move pointer2 ahead 'cycleLength' steps\n",
    "  while cycleLength > 0:\n",
    "    pointer2 = arr[pointer2]\n",
    "    cycleLength -= 1\n",
    "\n",
    "  # increment both pointers until they meet at the start of the cycle\n",
    "  while pointer1 != pointer2:\n",
    "    pointer1 = arr[pointer1]\n",
    "    pointer2 = arr[pointer2]\n",
    "\n",
    "  return pointer1\n",
    "\n",
    "\n",
    "def main():\n",
    "  print(find_duplicate([1, 4, 4, 3, 2]))\n",
    "  print(find_duplicate([2, 1, 3, 3, 5, 4]))\n",
    "  print(find_duplicate([2, 4, 1, 4, 4]))\n",
    "\n",
    "\n",
    "main()"
   ]
  },
  {
   "cell_type": "markdown",
   "metadata": {},
   "source": [
    "# Find all Duplicate Numbers (easy)\n",
    "We are given an unsorted array containing ‘n’ numbers taken from the range 1 to ‘n’. The array has some duplicates, find all the duplicate numbers without using any extra space.\n",
    "\n",
    "Input: [3, 4, 4, 5, 5]  \n",
    "Output: [4, 5]  \n",
    "\n",
    "Input: [5, 4, 7, 2, 3, 5, 3]  \n",
    "Output: [3, 5]"
   ]
  },
  {
   "cell_type": "code",
   "execution_count": 19,
   "metadata": {},
   "outputs": [
    {
     "name": "stdout",
     "output_type": "stream",
     "text": [
      "[]\n",
      "[]\n"
     ]
    }
   ],
   "source": [
    "def find_all_duplicates(nums):\n",
    "    duplicateNumbers = []\n",
    "    \n",
    "    return duplicateNumbers\n",
    "\n",
    "print(find_all_duplicates([3, 4, 4, 5, 5]))\n",
    "print(find_all_duplicates([5, 4, 7, 2, 3, 5, 3]))"
   ]
  },
  {
   "cell_type": "code",
   "execution_count": 23,
   "metadata": {},
   "outputs": [
    {
     "name": "stdout",
     "output_type": "stream",
     "text": [
      "[5, 4]\n",
      "[3, 5]\n"
     ]
    }
   ],
   "source": [
    "def find_all_duplicates(nums):\n",
    "    i = 0\n",
    "    while i < len(nums):\n",
    "        j = nums[i] - 1\n",
    "        if nums[i] != nums[j]:\n",
    "            nums[i], nums[j] = nums[j], nums[i]  # swap\n",
    "        else:\n",
    "            i += 1\n",
    "\n",
    "    duplicateNumbers = []\n",
    "    for i in range(len(nums)):\n",
    "        if nums[i] != i + 1:\n",
    "            duplicateNumbers.append(nums[i])\n",
    "\n",
    "    return duplicateNumbers\n",
    "\n",
    "\n",
    "def main():\n",
    "    print(find_all_duplicates([3, 4, 4, 5, 5]))\n",
    "    print(find_all_duplicates([5, 4, 7, 2, 3, 5, 3]))\n",
    "\n",
    "\n",
    "main()\n"
   ]
  },
  {
   "cell_type": "markdown",
   "metadata": {},
   "source": [
    "## Find the Corrupt Pair (easy) #\n",
    "We are given an unsorted array containing ‘n’ numbers taken from the range 1 to ‘n’. The array originally contained all the numbers from 1 to ‘n’, but due to a data error, one of the numbers got duplicated which also resulted in one number going missing. Find both these numbers.\n",
    "\n",
    "\n",
    "Input: [3, 1, 2, 5, 2]  \n",
    "Output: [2, 4]  \n",
    "Explanation: '2' is duplicated and '4' is missing.\n",
    "\n",
    "Input: [3, 1, 2, 3, 6, 4]  \n",
    "Output: [3, 5]  \n",
    "Explanation: '3' is duplicated and '5' is missing."
   ]
  },
  {
   "cell_type": "code",
   "execution_count": 25,
   "metadata": {},
   "outputs": [
    {
     "name": "stdout",
     "output_type": "stream",
     "text": [
      "[1, 2, 3, 2, 5]\n",
      "[3, 2]\n",
      "[1, 2, 3, 4, 3, 6]\n",
      "[4, 3]\n"
     ]
    }
   ],
   "source": [
    "def find_corrupt_numbers(nums):\n",
    "    missing = []\n",
    "    # TODO: Write your code here\n",
    "    i = 0\n",
    "    while i < len(nums):\n",
    "        j = nums[i] -1\n",
    "        if nums[i] != nums[j]:\n",
    "            nums[i], nums[j] = nums[j], nums[i]\n",
    "        else:      \n",
    "            i += 1\n",
    "    print(nums)\n",
    "\n",
    "    for i in range(len(nums)):\n",
    "        if i + 1 != nums[i]:\n",
    "            return [i, nums[i]]\n",
    "\n",
    "    return [-1,-1]\n",
    "\n",
    "print(find_corrupt_numbers([3, 1, 2, 5, 2]))\n",
    "print(find_corrupt_numbers([3, 1, 2, 3, 6, 4]))\n"
   ]
  },
  {
   "cell_type": "markdown",
   "metadata": {},
   "source": [
    "## Find the Smallest Missing Positive Number (medium) #\n",
    "Given an unsorted array containing numbers, find the smallest missing positive number in it.\n",
    "\n",
    "\n",
    "Input: [-3, 1, 5, 4, 2]  \n",
    "Output: 3  \n",
    "Explanation: The smallest missing positive number is '3'  \n",
    "\n",
    "Input: [3, -2, 0, 1, 2]  \n",
    "Output: 4  \n",
    "\n",
    "Input: [3, 2, 5, 1]  \n",
    "Output: 4"
   ]
  },
  {
   "cell_type": "code",
   "execution_count": 28,
   "metadata": {},
   "outputs": [
    {
     "name": "stdout",
     "output_type": "stream",
     "text": [
      "3\n",
      "4\n",
      "4\n"
     ]
    }
   ],
   "source": [
    "def find_first_missing_positive(nums):\n",
    "    i, n = 0, len(nums)\n",
    "    while i < n:\n",
    "        j = nums[i] - 1\n",
    "        if nums[i] > 0 and nums[i] <= n and nums[i] != nums[j]:\n",
    "            nums[i], nums[j] = nums[j], nums[i]  # swap\n",
    "        else:\n",
    "            i += 1\n",
    "\n",
    "    for i in range(n):\n",
    "        if nums[i] != i + 1:\n",
    "            return i + 1\n",
    "\n",
    "    return len(nums) + 1\n",
    "\n",
    "\n",
    "def main():\n",
    "    print(find_first_missing_positive([-3, 1, 5, 4, 2]))\n",
    "    print(find_first_missing_positive([3, -2, 0, 1, 2]))\n",
    "    print(find_first_missing_positive([3, 2, 5, 1]))\n",
    "\n",
    "\n",
    "main()"
   ]
  },
  {
   "cell_type": "markdown",
   "metadata": {},
   "source": [
    "## Find the First K Missing Positive Numbers (hard) #\n",
    "Given an unsorted array containing numbers and a number ‘k’, find the first ‘k’ missing positive numbers in the array.\n",
    "\n",
    "\n",
    "\n",
    "Input: [3, -1, 4, 5, 5], k=3  \n",
    "Output: [1, 2, 6]  \n",
    "Explanation: The smallest missing positive numbers are 1, 2 and 6.  "
   ]
  },
  {
   "cell_type": "code",
   "execution_count": 30,
   "metadata": {},
   "outputs": [
    {
     "name": "stdout",
     "output_type": "stream",
     "text": [
      "[1, 2, 6]\n",
      "[1, 5, 6]\n",
      "[1, 2]\n"
     ]
    }
   ],
   "source": [
    "def find_first_k_missing_positive(nums, k):\n",
    "    n = len(nums)\n",
    "    i = 0\n",
    "    while i < len(nums):\n",
    "        j = nums[i] - 1\n",
    "        if nums[i] > 0 and nums[i] <= n and nums[i] != nums[j]:\n",
    "            nums[i], nums[j] = nums[j], nums[i]  # swap\n",
    "        else:\n",
    "            i += 1\n",
    "\n",
    "    missingNumbers = []\n",
    "    extraNumbers = set()\n",
    "    for i in range(n):\n",
    "        if len(missingNumbers) < k:\n",
    "            if nums[i] != i + 1:\n",
    "                missingNumbers.append(i + 1)\n",
    "                extraNumbers.add(nums[i])\n",
    "\n",
    "    # add the remaining missing numbers\n",
    "    i = 1\n",
    "    while len(missingNumbers) < k:\n",
    "        candidateNumber = i + n\n",
    "        # ignore if the array contains the candidate number\n",
    "        if candidateNumber not in extraNumbers:\n",
    "            missingNumbers.append(candidateNumber)\n",
    "        i += 1\n",
    "\n",
    "    return missingNumbers\n",
    "\n",
    "\n",
    "def main():\n",
    "  print(find_first_k_missing_positive([3, -1, 4, 5, 5], 3))\n",
    "  print(find_first_k_missing_positive([2, 3, 4], 3))\n",
    "  print(find_first_k_missing_positive([-2, -3, 4], 2))\n",
    "\n",
    "\n",
    "main()\n"
   ]
  },
  {
   "cell_type": "code",
   "execution_count": null,
   "metadata": {},
   "outputs": [],
   "source": []
  },
  {
   "cell_type": "code",
   "execution_count": null,
   "metadata": {},
   "outputs": [],
   "source": []
  }
 ],
 "metadata": {
  "kernelspec": {
   "display_name": "Python 3.7.5 64-bit ('p37': conda)",
   "language": "python",
   "name": "python37564bitp37conda2b1eeea87ee044609be89b011a3e6682"
  },
  "language_info": {
   "codemirror_mode": {
    "name": "ipython",
    "version": 3
   },
   "file_extension": ".py",
   "mimetype": "text/x-python",
   "name": "python",
   "nbconvert_exporter": "python",
   "pygments_lexer": "ipython3",
   "version": "3.7.5"
  }
 },
 "nbformat": 4,
 "nbformat_minor": 4
}
