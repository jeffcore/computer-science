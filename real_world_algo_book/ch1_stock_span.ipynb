{
 "cells": [
  {
   "cell_type": "markdown",
   "metadata": {},
   "source": [
    "### Simple Stock Span - Chap 1.1"
   ]
  },
  {
   "cell_type": "code",
   "execution_count": 6,
   "metadata": {},
   "outputs": [],
   "source": [
    "def simple_stock_span(quotes):\n",
    "    spans = [0]*len(quotes)\n",
    "    for i in range(len(quotes)):\n",
    "        k = 1\n",
    "        span_end = False\n",
    "        while i - k >= 0 and not span_end:\n",
    "            if quotes[i-k] <= quotes[i]:\n",
    "                k += 1\n",
    "            else:\n",
    "                span_end = True\n",
    "        spans[i] = k\n",
    "    return spans    "
   ]
  },
  {
   "cell_type": "code",
   "execution_count": 7,
   "metadata": {},
   "outputs": [
    {
     "name": "stdout",
     "output_type": "stream",
     "text": [
      "[1, 2, 1, 1, 1, 4, 5]\n"
     ]
    }
   ],
   "source": [
    "arr = [7,11,8,6,3,8,9]\n",
    "print(simple_stock_span(arr))"
   ]
  },
  {
   "cell_type": "code",
   "execution_count": 74,
   "metadata": {},
   "outputs": [],
   "source": [
    "class Stack:\n",
    "    def __init__(self):\n",
    "        self.items = []\n",
    "        \n",
    "    def push(self, item):\n",
    "        self.items.append(item)\n",
    "    \n",
    "    def pop(self):\n",
    "        return self.items.pop()\n",
    "    \n",
    "    def peek(self):\n",
    "        if not self.is_empty():\n",
    "            return self.items[-1]\n",
    "        else:            \n",
    "            return None\n",
    "    \n",
    "    def size(self):\n",
    "        return len(self.items)\n",
    "    \n",
    "    def is_empty(self):\n",
    "        return len(self.items) == 0\n",
    "    \n",
    "    def __str__(self):\n",
    "        return str(self.items)\n"
   ]
  },
  {
   "cell_type": "code",
   "execution_count": 75,
   "metadata": {},
   "outputs": [],
   "source": [
    "def stack_stock_span(quotes):\n",
    "    spans = [0]*len(quotes)\n",
    "    spans[0] = 1\n",
    "    stack = Stack()\n",
    "    stack.push(0)  \n",
    "    for i in range(1, len(quotes)):       \n",
    "        while not stack.is_empty() and quotes[stack.peek()] <= quotes[i]:\n",
    "            stack.pop()            \n",
    "        if stack.is_empty():\n",
    "            spans[i] = i + 1\n",
    "        else:\n",
    "            spans[i] = i - stack.peek()\n",
    "        \n",
    "        stack.push(i)\n",
    "    return spans\n",
    "            "
   ]
  },
  {
   "cell_type": "code",
   "execution_count": 76,
   "metadata": {},
   "outputs": [
    {
     "name": "stdout",
     "output_type": "stream",
     "text": [
      "[1, 2, 1, 1, 1, 4, 5]\n"
     ]
    }
   ],
   "source": [
    "arr = [7,11,8,6,3,8,9]\n",
    "print(stack_stock_span(arr))"
   ]
  },
  {
   "cell_type": "markdown",
   "metadata": {},
   "source": [
    "## RPN Calculator"
   ]
  },
  {
   "cell_type": "code",
   "execution_count": 84,
   "metadata": {},
   "outputs": [
    {
     "name": "stdout",
     "output_type": "stream",
     "text": [
      "['22', '2', '+', '2', '2', '+', '*']\n"
     ]
    },
    {
     "data": {
      "text/plain": [
       "96"
      ]
     },
     "execution_count": 84,
     "metadata": {},
     "output_type": "execute_result"
    }
   ],
   "source": [
    "def rpn(cal):\n",
    "    cal = cal.split()\n",
    "    print(cal)\n",
    "    \n",
    "    stack = Stack()\n",
    "    \n",
    "    for c in cal:\n",
    "        if c == '+':           \n",
    "            stack.push(int(stack.pop()) + int(stack.pop()))\n",
    "        elif c == '-':\n",
    "            stack.push(int(stack.pop()) - int(stack.pop()))\n",
    "        elif c == '/':\n",
    "            stack.push(int(stack.pop()) / int(stack.pop()))\n",
    "        elif c == '*': \n",
    "            stack.push(int(stack.pop()) * int(stack.pop()))\n",
    "        else:\n",
    "            stack.push(c)\n",
    "            \n",
    "    return stack.pop()\n",
    "    \n",
    "cal = '22 2 + 2 2 + *'\n",
    "rpn(cal)\n"
   ]
  },
  {
   "cell_type": "code",
   "execution_count": null,
   "metadata": {},
   "outputs": [],
   "source": []
  },
  {
   "cell_type": "code",
   "execution_count": null,
   "metadata": {},
   "outputs": [],
   "source": []
  }
 ],
 "metadata": {
  "kernelspec": {
   "display_name": "Python 3",
   "language": "python",
   "name": "python3"
  },
  "language_info": {
   "codemirror_mode": {
    "name": "ipython",
    "version": 3
   },
   "file_extension": ".py",
   "mimetype": "text/x-python",
   "name": "python",
   "nbconvert_exporter": "python",
   "pygments_lexer": "ipython3",
   "version": "3.7.5"
  }
 },
 "nbformat": 4,
 "nbformat_minor": 4
}
