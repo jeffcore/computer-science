{
 "cells": [
  {
   "cell_type": "markdown",
   "metadata": {},
   "source": [
    "# Searching"
   ]
  },
  {
   "cell_type": "markdown",
   "metadata": {},
   "source": [
    "## Linear / Sequential Search\n",
    "Complexity: \n",
    "O(n) worst case<Br> O(n/2) average case<Br> O(1) best case,<Br> item not present always O(n)"
   ]
  },
  {
   "cell_type": "code",
   "execution_count": 14,
   "metadata": {},
   "outputs": [
    {
     "name": "stdout",
     "output_type": "stream",
     "text": [
      "False\n",
      "True\n"
     ]
    }
   ],
   "source": [
    "def linear_search(alist, item):\n",
    "    if len(alist) == 0:\n",
    "        return False\n",
    "    \n",
    "    for i in alist:\n",
    "        if i == item:\n",
    "            return True\n",
    "    \n",
    "    return False\n",
    "    \n",
    "    \n",
    "    \n",
    "alist = [1, 2, 4, 6, 7, 22, 55] \n",
    "\n",
    "print(linear_search(alist, 333))\n",
    "print(linear_search(alist, 55))"
   ]
  },
  {
   "cell_type": "markdown",
   "metadata": {},
   "source": [
    "## Binary Search\n",
    "O(log n) worst case<Br>\n",
    "       average case<Br> \n",
    "O(1) best case<Br> \n",
    "item not present always O(log n)"
   ]
  },
  {
   "cell_type": "code",
   "execution_count": 15,
   "metadata": {},
   "outputs": [
    {
     "name": "stdout",
     "output_type": "stream",
     "text": [
      "mid 3\n",
      "mid 5\n",
      "mid 6\n",
      "None\n",
      "mid 3\n",
      "mid 5\n",
      "mid 4\n",
      "4\n"
     ]
    }
   ],
   "source": [
    "def binary_search(input_array, value):\n",
    "    \"\"\"Your code goes here.\"\"\"\n",
    "    if len(input_array) == 0 :\n",
    "        return None\n",
    "    \n",
    "    low = 0\n",
    "    high = len(input_array) - 1\n",
    "    \n",
    "    while low <= high:\n",
    "        mid = (low + high)//2\n",
    "        print(f'mid {mid}')\n",
    "        guess = input_array[mid]\n",
    "        if guess == value:\n",
    "            return mid\n",
    "        if value < guess:\n",
    "            high = mid - 1\n",
    "        else:\n",
    "            low = mid + 1\n",
    "            \n",
    "    return None\n",
    "    \n",
    "\n",
    "test_list = [1,3,9,11,15,19,29]\n",
    "test_val1 = 25\n",
    "test_val2 = 15\n",
    "print(binary_search(test_list, test_val1))\n",
    "print(binary_search(test_list, test_val2))"
   ]
  },
  {
   "cell_type": "code",
   "execution_count": 16,
   "metadata": {},
   "outputs": [
    {
     "name": "stdout",
     "output_type": "stream",
     "text": [
      "None\n",
      "None\n",
      "None\n"
     ]
    }
   ],
   "source": [
    "# try it\n",
    "def binary_search(arr, value):\n",
    "  \n",
    "    return None\n",
    "\n",
    "test_list = [1,3,9,11,15,19,29]\n",
    "test_val1 = 25\n",
    "test_val2 = 15\n",
    "test_val3 = 3\n",
    "print(binary_search(test_list, test_val1))\n",
    "print(binary_search(test_list, test_val2))\n",
    "print(binary_search(test_list, test_val3))"
   ]
  },
  {
   "cell_type": "markdown",
   "metadata": {},
   "source": [
    "## Binary Search Recursive\n",
    "Time: O(log n)\n"
   ]
  },
  {
   "cell_type": "code",
   "execution_count": 17,
   "metadata": {},
   "outputs": [
    {
     "name": "stdout",
     "output_type": "stream",
     "text": [
      "Element is present at index 3\n"
     ]
    }
   ],
   "source": [
    "# Returns index of x in arr if present, else -1 \n",
    "def binary_search(arr, low, high, x): \n",
    "  \n",
    "    # Check base case \n",
    "    if high >= low: \n",
    "  \n",
    "        mid = (high + low) // 2\n",
    "  \n",
    "        # If element is present at the middle itself \n",
    "        if arr[mid] == x: \n",
    "            return mid \n",
    "  \n",
    "        # If element is smaller than mid, then it can only \n",
    "        # be present in left subarray \n",
    "        elif arr[mid] > x: \n",
    "            return binary_search(arr, low, mid - 1, x) \n",
    "  \n",
    "        # Else the element can only be present in right subarray \n",
    "        else: \n",
    "            return binary_search(arr, mid + 1, high, x) \n",
    "  \n",
    "    else: \n",
    "        # Element is not present in the array \n",
    "        return -1\n",
    "  \n",
    "# Test array \n",
    "arr = [ 2, 3, 4, 10, 40 ] \n",
    "x = 10\n",
    "  \n",
    "# Function call \n",
    "result = binary_search(arr, 0, len(arr)-1, x) \n",
    "  \n",
    "if result != -1: \n",
    "    print(\"Element is present at index\", str(result)) \n",
    "else: \n",
    "    print(\"Element is not present in array\") "
   ]
  },
  {
   "cell_type": "markdown",
   "metadata": {},
   "source": [
    "## Randomizes Recursive Binary Search"
   ]
  },
  {
   "cell_type": "code",
   "execution_count": 18,
   "metadata": {},
   "outputs": [
    {
     "name": "stdout",
     "output_type": "stream",
     "text": [
      "Element is present at index  3\n"
     ]
    }
   ],
   "source": [
    "# Python3 program to implement recursive  \n",
    "# randomized algorithm.  \n",
    "# To generate random number  \n",
    "# between x and y ie.. [x, y]  \n",
    "  \n",
    "import random \n",
    "def getRandom(x,y): \n",
    "    # tmp = (x + random.randint(0,100000) % (y - x + 1)) \n",
    "    print(f'x {x} y {y}')\n",
    "    return  random.randint(x, y)\n",
    "   \n",
    "      \n",
    "# A recursive randomized binary search function.  \n",
    "# It returns location of x in  \n",
    "# given array arr[l..r] is present, otherwise -1  \n",
    "  \n",
    "def randomizedBinarySearch(arr, l, r ,x) : \n",
    "    if r >= l: \n",
    "          \n",
    "        # Here we have defined middle as  \n",
    "        # random index between l and r ie.. [l, r]  \n",
    "        mid = getRandom(l, r) \n",
    "          \n",
    "        # If the element is present at the  \n",
    "        # middle itself \n",
    "        if arr[mid] == x: \n",
    "            return mid \n",
    "              \n",
    "        # If element is smaller than mid, then  \n",
    "        # it can only be present in left subarray \n",
    "        if arr[mid] > x: \n",
    "            return randomizedBinarySearch(arr, l, mid - 1, x) \n",
    "              \n",
    "        # Else the element can only be present  \n",
    "        # in right subarray  \n",
    "        return randomizedBinarySearch(arr, mid + 1 ,r , x) \n",
    "          \n",
    "    # We reach here when element is not present  \n",
    "    # in array \n",
    "    return -1\n",
    "      \n",
    "# Driver code  \n",
    "if __name__=='__main__': \n",
    "    arr = [2, 3, 4, 10, 40] \n",
    "    n = len(arr) \n",
    "    x = 10\n",
    "    result = randomizedBinarySearch(arr, 0, n - 1, x) \n",
    "    if result == -1: \n",
    "        print('Element is not present in array') \n",
    "    else: \n",
    "        print('Element is present at index ', result) \n",
    "          \n",
    "# This code is contributes by sahilshelangia "
   ]
  },
  {
   "cell_type": "markdown",
   "metadata": {},
   "source": [
    "### Binary Search Returns True False"
   ]
  },
  {
   "cell_type": "code",
   "execution_count": 22,
   "metadata": {},
   "outputs": [
    {
     "name": "stdout",
     "output_type": "stream",
     "text": [
      "mid 3 left [1, 3, 9] right [15, 19, 29]\n",
      "mid 1 left [15] right [29]\n",
      "mid 0 left [] right []\n",
      "False\n",
      "mid 3 left [1, 3, 9] right [15, 19, 29]\n",
      "mid 1 left [15] right [29]\n",
      "mid 0 left [] right []\n",
      "True\n"
     ]
    }
   ],
   "source": [
    "def binary_search_recursion(alist, item):\n",
    "    \"\"\"Your code goes here.\"\"\"\n",
    "    if len(alist) == 0 :\n",
    "        return False\n",
    "    else:\n",
    "        midpoint = len(alist) // 2\n",
    "        print(f'mid {midpoint} left {alist[:midpoint]} right {alist[midpoint+1:]}')\n",
    "        if alist[midpoint] == item:\n",
    "            return True\n",
    "        else:\n",
    "            if item < alist[midpoint]:\n",
    "                return binary_search_recursion(alist[:midpoint], item)\n",
    "            else:\n",
    "                return binary_search_recursion(alist[midpoint + 1:], item)\n",
    "\n",
    "test_list = [1,3,9,11,15,19,29]\n",
    "test_val1 = 25\n",
    "test_val2 = 15\n",
    "print(binary_search_recursion(test_list, test_val1))\n",
    "print(binary_search_recursion(test_list, test_val2))"
   ]
  },
  {
   "cell_type": "code",
   "execution_count": 38,
   "metadata": {},
   "outputs": [
    {
     "name": "stdout",
     "output_type": "stream",
     "text": [
      "-1\n",
      "4\n"
     ]
    }
   ],
   "source": [
    "# returns position of value, also does not cut up array \n",
    "def binary_search_recursion_pos(a, x, low, high):\n",
    "    \"\"\"Your code goes here.\"\"\"\n",
    "    if low > high:\n",
    "        return -1\n",
    "    \n",
    "    mid = (low + high) // 2\n",
    "    if a[mid] < x:\n",
    "        return binary_search_recursion_pos(a, x, mid + 1, high)\n",
    "    elif a[mid] > x:\n",
    "        return binary_search_recursion_pos(a, x, low, mid - 1)\n",
    "    else:\n",
    "        return mid\n",
    "    \n",
    "test_list = [1,3,9,11,15,19,29]\n",
    "test_val1 = 25\n",
    "test_val2 = 15\n",
    "print(binary_search_recursion_pos(test_list, test_val1, 0, len(test_list)))\n",
    "print(binary_search_recursion_pos(test_list, test_val2, 0, len(test_list)))"
   ]
  },
  {
   "cell_type": "markdown",
   "metadata": {},
   "source": [
    "## Jump Search\n",
    "\\begin{equation*}\n",
    "O (\\sqrt{n})\n",
    "\\end{equation*}"
   ]
  },
  {
   "cell_type": "code",
   "execution_count": 3,
   "metadata": {},
   "outputs": [
    {
     "name": "stdout",
     "output_type": "stream",
     "text": [
      "Number 55 is at index 10\n"
     ]
    }
   ],
   "source": [
    "import math \n",
    "  \n",
    "def jumpSearch( arr , x , n ): \n",
    "      \n",
    "    # Finding block size to be jumped \n",
    "    step = math.sqrt(n) \n",
    "      \n",
    "    # Finding the block where element is \n",
    "    # present (if it is present) \n",
    "    prev = 0\n",
    "    while arr[int(min(step, n)-1)] < x: \n",
    "        prev = step \n",
    "        step += math.sqrt(n) \n",
    "        if prev >= n: \n",
    "            return -1\n",
    "      \n",
    "    # Doing a linear search for x in  \n",
    "    # block beginning with prev. \n",
    "    while arr[int(prev)] < x: \n",
    "        prev += 1\n",
    "          \n",
    "        # If we reached next block or end  \n",
    "        # of array, element is not present. \n",
    "        if prev == min(step, n): \n",
    "            return -1\n",
    "      \n",
    "    # If element is found \n",
    "    if arr[int(prev)] == x: \n",
    "        return prev \n",
    "      \n",
    "    return -1\n",
    "  \n",
    "# Driver code to test function \n",
    "arr = [ 0, 1, 1, 2, 3, 5, 8, 13, 21, \n",
    "    34, 55, 89, 144, 233, 377, 610 ] \n",
    "x = 55\n",
    "n = len(arr) \n",
    "  \n",
    "# Find the index of 'x' using Jump Search \n",
    "index = jumpSearch(arr, x, n) \n",
    "  \n",
    "# Print the index where 'x' is located \n",
    "print(\"Number\" , x, \"is at index\" ,\"%.0f\"%index) \n",
    "  \n",
    "# This code is contributed by \"Sharad_Bhardwaj\"."
   ]
  },
  {
   "cell_type": "markdown",
   "metadata": {},
   "source": [
    "## Interpolation Search\n",
    "The Interpolation Search is an improvement over Binary Search for instances, where the values in a sorted array are uniformly distributed. Binary Search always goes to the middle element to check. On the other hand, interpolation search may go to different locations according to the value of the key being searched. For example, if the value of the key is closer to the last element, interpolation search is likely to start search toward the end side.\n",
    "\n",
    "Time Complexity: If elements are uniformly distributed, then O (log log n)). In worst case it can take upto O(n).  \n",
    "Auxiliary Space: O(1)"
   ]
  },
  {
   "cell_type": "code",
   "execution_count": 7,
   "metadata": {},
   "outputs": [
    {
     "name": "stdout",
     "output_type": "stream",
     "text": [
      "Element found at index 4\n"
     ]
    }
   ],
   "source": [
    "# If x is present in arr[0..n-1], then returns \n",
    "# index of it, else returns -1 \n",
    "def interpolationSearch(arr, n, x): \n",
    "    # Find indexs of two corners \n",
    "    lo = 0\n",
    "    hi = (n - 1) \n",
    "   \n",
    "    # Since array is sorted, an element present \n",
    "    # in array must be in range defined by corner \n",
    "    while lo <= hi and x >= arr[lo] and x <= arr[hi]: \n",
    "        if lo == hi: \n",
    "            if arr[lo] == x:  \n",
    "                return lo; \n",
    "            return -1; \n",
    "          \n",
    "        # Probing the position with keeping \n",
    "        # uniform distribution in mind. \n",
    "        pos  = lo + int(((float(hi - lo) / \n",
    "            ( arr[hi] - arr[lo])) * ( x - arr[lo]))) \n",
    "  \n",
    "        # Condition of target found \n",
    "        if arr[pos] == x: \n",
    "            return pos \n",
    "   \n",
    "        # If x is larger, x is in upper part \n",
    "        if arr[pos] < x: \n",
    "            lo = pos + 1; \n",
    "   \n",
    "        # If x is smaller, x is in lower part \n",
    "        else: \n",
    "            hi = pos - 1; \n",
    "      \n",
    "    return -1\n",
    "  \n",
    "# Driver Code \n",
    "# Array of items oin which search will be conducted \n",
    "arr = [10, 12, 13, 16, 18, 19, 20, 21,  \n",
    "                22, 23, 24, 33, 35, 42, 47] \n",
    "n = len(arr) \n",
    "  \n",
    "x = 18 # Element to be searched \n",
    "index = interpolationSearch(arr, n, x) \n",
    "  \n",
    "if index != -1: \n",
    "    print( \"Element found at index\",index) \n",
    "else: \n",
    "    print(\"Element not found\")\n",
    "  \n",
    "# This code is contributed by Harshit Agrawal "
   ]
  },
  {
   "cell_type": "markdown",
   "metadata": {},
   "source": [
    "## Ternary Search \n",
    "\n",
    "Ternary search is a divide and conquer algorithm that can be used to find an element in an array. It is similar to binary search where we divide the array into two parts but in this algorithm. In this, we divide the given array into three parts and determine which has the key (searched element).\n",
    "\n",
    "time; 0(log_3 n)"
   ]
  },
  {
   "cell_type": "code",
   "execution_count": 12,
   "metadata": {},
   "outputs": [
    {
     "name": "stdout",
     "output_type": "stream",
     "text": [
      "Index of 5 is 4\n",
      "Index of 50 is -1\n"
     ]
    }
   ],
   "source": [
    "import math as mt \n",
    "  \n",
    "# Function to perform Ternary Search \n",
    "def ternarySearch(l, r, key, ar): \n",
    "  \n",
    "    if (r >= l): \n",
    "  \n",
    "        # Find the mid1 and mid2 \n",
    "        mid1 = l + (r - l) //3\n",
    "        mid2 = r - (r - l) //3\n",
    "  \n",
    "        # Check if key is present at any mid \n",
    "        if (ar[mid1] == key):  \n",
    "            return mid1 \n",
    "          \n",
    "        if (ar[mid2] == key):  \n",
    "            return mid2 \n",
    "          \n",
    "        # Since key is not present at mid, \n",
    "        # check in which region it is present \n",
    "        # then repeat the Search operation \n",
    "        # in that region \n",
    "        if (key < ar[mid1]):  \n",
    "  \n",
    "            # The key lies in between l and mid1 \n",
    "            return ternarySearch(l, mid1 - 1, key, ar) \n",
    "          \n",
    "        elif (key > ar[mid2]):  \n",
    "  \n",
    "            # The key lies in between mid2 and r \n",
    "            return ternarySearch(mid2 + 1, r, key, ar) \n",
    "          \n",
    "        else:  \n",
    "  \n",
    "            # The key lies in between mid1 and mid2 \n",
    "            return ternarySearch(mid1 + 1,  \n",
    "                                 mid2 - 1, key, ar) \n",
    "          \n",
    "    # Key not found \n",
    "    return -1\n",
    "  \n",
    "# Driver code \n",
    "l, r, p = 0, 9, 5\n",
    "  \n",
    "# Get the array \n",
    "# Sort the array if not sorted \n",
    "ar = [ 1, 2, 3, 4, 5, 6, 7, 8, 9, 10 ] \n",
    "  \n",
    "# Starting index \n",
    "l = 0\n",
    "  \n",
    "# length of array \n",
    "r = 9\n",
    "  \n",
    "# Checking for 5 \n",
    "  \n",
    "# Key to be searched in the array \n",
    "key = 5\n",
    "  \n",
    "# Search the key using ternarySearch \n",
    "p = ternarySearch(l, r, key, ar) \n",
    "  \n",
    "# Print the result \n",
    "print(\"Index of\", key, \"is\", p) \n",
    "  \n",
    "# Checking for 50 \n",
    "  \n",
    "# Key to be searched in the array \n",
    "key = 50\n",
    "  \n",
    "# Search the key using ternarySearch \n",
    "p = ternarySearch(l, r, key, ar) \n",
    "  \n",
    "# Print the result \n",
    "print(\"Index of\", key, \"is\", p) "
   ]
  },
  {
   "cell_type": "code",
   "execution_count": null,
   "metadata": {},
   "outputs": [],
   "source": []
  },
  {
   "cell_type": "code",
   "execution_count": null,
   "metadata": {},
   "outputs": [],
   "source": []
  },
  {
   "cell_type": "code",
   "execution_count": null,
   "metadata": {},
   "outputs": [],
   "source": []
  }
 ],
 "metadata": {
  "kernelspec": {
   "display_name": "Python 3",
   "language": "python",
   "name": "python3"
  },
  "language_info": {
   "codemirror_mode": {
    "name": "ipython",
    "version": 3
   },
   "file_extension": ".py",
   "mimetype": "text/x-python",
   "name": "python",
   "nbconvert_exporter": "python",
   "pygments_lexer": "ipython3",
   "version": "3.7.5"
  }
 },
 "nbformat": 4,
 "nbformat_minor": 4
}
