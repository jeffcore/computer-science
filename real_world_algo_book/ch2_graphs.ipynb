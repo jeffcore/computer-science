{
 "cells": [
  {
   "cell_type": "markdown",
   "metadata": {},
   "source": [
    "# Chapter 2: Graphs"
   ]
  },
  {
   "cell_type": "code",
   "execution_count": 178,
   "metadata": {},
   "outputs": [],
   "source": [
    "V = {0, 1, 2, 3}\n",
    "E = {(0,1), (0,2), (1,2), (1,3), (2,3)}"
   ]
  },
  {
   "cell_type": "code",
   "execution_count": 179,
   "metadata": {},
   "outputs": [],
   "source": [
    "# create ajacency matrix\n",
    "graph_matrix = [[0 for e in range(len(V))] for e in range(len(V))]"
   ]
  },
  {
   "cell_type": "code",
   "execution_count": 180,
   "metadata": {},
   "outputs": [],
   "source": [
    "def print_graph(graph):\n",
    "    for row in graph:\n",
    "        print(row)"
   ]
  },
  {
   "cell_type": "code",
   "execution_count": 181,
   "metadata": {},
   "outputs": [
    {
     "name": "stdout",
     "output_type": "stream",
     "text": [
      "[0, 0, 0, 0]\n",
      "[0, 0, 0, 0]\n",
      "[0, 0, 0, 0]\n",
      "[0, 0, 0, 0]\n"
     ]
    }
   ],
   "source": [
    "print_graph(graph_matrix)"
   ]
  },
  {
   "cell_type": "code",
   "execution_count": 182,
   "metadata": {},
   "outputs": [
    {
     "name": "stdout",
     "output_type": "stream",
     "text": [
      "[0, 1, 1, 0]\n",
      "[1, 0, 1, 1]\n",
      "[1, 1, 0, 1]\n",
      "[0, 1, 1, 0]\n"
     ]
    }
   ],
   "source": [
    "for edge in E:\n",
    "    graph_matrix[edge[0]][edge[1]] = 1\n",
    "    graph_matrix[edge[1]][edge[0]] = 1\n",
    "    \n",
    "print_graph(graph_matrix)"
   ]
  },
  {
   "cell_type": "markdown",
   "metadata": {},
   "source": [
    "## Linked List"
   ]
  },
  {
   "cell_type": "code",
   "execution_count": 183,
   "metadata": {},
   "outputs": [],
   "source": [
    "class Node():\n",
    "    def __init__(self, data):\n",
    "        self.data = data\n",
    "        self.next = None\n",
    "    \n",
    "    def __str__(self):\n",
    "        return str(self.data)"
   ]
  },
  {
   "cell_type": "code",
   "execution_count": 184,
   "metadata": {},
   "outputs": [],
   "source": [
    "class LinkedList():\n",
    "    def __init__(self):\n",
    "        self.L = None\n",
    "            \n",
    "    def insert_list_node(self, before_node, new_node):\n",
    "        if self.L == None:\n",
    "            self.L = new_node\n",
    "            return        \n",
    "        \n",
    "        if before_node == None:\n",
    "            temp_node = self.L\n",
    "            new_node.next = temp_node\n",
    "            self.L = new_node\n",
    "            return\n",
    "                \n",
    "        temp_node = before_node.next\n",
    "        before_node.next = new_node \n",
    "        new_node.next = temp_node\n",
    "        \n",
    "        return new_node\n",
    "    \n",
    "    def insert_in_list(self, before_node, data):\n",
    "        new_node = Node(data)\n",
    "        \n",
    "        if self.L == None:\n",
    "            self.L = new_node\n",
    "            return self.L     \n",
    "        \n",
    "        if before_node == None:\n",
    "            temp_node = self.L\n",
    "            new_node.next = self.L\n",
    "            self.L = new_node\n",
    "            return self.L\n",
    "                \n",
    "        new_node.next = before_node.next\n",
    "        before_node.next = new_node         \n",
    "        \n",
    "        return new_node\n",
    "\n",
    "    \n",
    "    def remove_list_node(self, before_node, remove_node):\n",
    "        if self.L == None:\n",
    "            return None\n",
    "        \n",
    "        if before_node == None:\n",
    "            return_node = self.L\n",
    "            self.L = self.L.next        \n",
    "        \n",
    "        return_node = before_node.next        \n",
    "        before_node.next = remove_node.next\n",
    "                \n",
    "        return return_node\n",
    "        \n",
    "    \n",
    "    def remove_from_list(self, data):\n",
    "        if self.L == None:\n",
    "            return None\n",
    "        \n",
    "        current_node = self.L\n",
    "        previous_node = None\n",
    "        while current_node:\n",
    "            if current_node.data == data:                \n",
    "                if previous_node:                           \n",
    "                    previous_node.next = current_node.next           \n",
    "                else:\n",
    "                    self.L = current_node.next\n",
    "\n",
    "                    return current_node\n",
    "            \n",
    "            previous_node = current_node\n",
    "            current_node = current_node.next\n",
    "            \n",
    "        \n",
    "    def get_next_list_node(self, previous_node):\n",
    "        if self.L == None:\n",
    "            return None\n",
    "        \n",
    "        if previous_node == None:\n",
    "            return self.L        \n",
    "        \n",
    "        current_node = self.L\n",
    "\n",
    "        while current_node:\n",
    "            if current_node.data == previous_node.data:\n",
    "                return previous_node.next\n",
    "\n",
    "            current_node = current_node.next\n",
    "\n",
    "        return None\n",
    "\n",
    "    def search_in_list(self, data):\n",
    "        if self.L == None:\n",
    "            return None\n",
    "        \n",
    "        current_node = self.L\n",
    "       \n",
    "        while current_node:\n",
    "            if current_node.data == data:\n",
    "                return current_node\n",
    "            \n",
    "            current_node = current_node.next\n",
    "        \n",
    "        return None\n",
    "    \n",
    "    def __str__(self):\n",
    "        \n",
    "        list_print = ''\n",
    "        \n",
    "        current_node = self.L\n",
    "        \n",
    "        while current_node:\n",
    "            list_print += str(current_node.data) + ' '            \n",
    "            current_node = current_node.next\n",
    "    \n",
    "        return list_print if list_print else 'empty list'"
   ]
  },
  {
   "cell_type": "code",
   "execution_count": 185,
   "metadata": {},
   "outputs": [
    {
     "name": "stdout",
     "output_type": "stream",
     "text": [
      "1 \n",
      "2 1 \n",
      "2 3 1 \n",
      "2 3 4 1 \n",
      "2 3 1 \n",
      "2 1 \n"
     ]
    }
   ],
   "source": [
    "# Test\n",
    "\n",
    "ll = LinkedList()\n",
    "node = Node(1)\n",
    "node2 = Node(2)\n",
    "node3 = Node(3)\n",
    "ll.insert_list_node(None, node)\n",
    "print(ll)\n",
    "ll.insert_list_node(None, node2)\n",
    "print(ll)\n",
    "node3 = ll.insert_list_node(node2, node3)\n",
    "print(ll)\n",
    "node4 = ll.insert_in_list(node3, 4)\n",
    "print(ll)\n",
    "ll.remove_list_node(node3, node4)\n",
    "print(ll)\n",
    "ll.remove_from_list(3)\n",
    "print(ll)\n",
    "assert(str(ll) != '2 1')"
   ]
  },
  {
   "cell_type": "code",
   "execution_count": 186,
   "metadata": {},
   "outputs": [
    {
     "name": "stdout",
     "output_type": "stream",
     "text": [
      "3 \n",
      "1 3 \n",
      "0 1 3 \n",
      "3 \n",
      "3 1 \n",
      "3 1 0 \n",
      "3 \n",
      "1 3 \n",
      "0 1 3 \n",
      "start removing\n",
      "0 1 \n",
      "1 \n",
      "empty list\n"
     ]
    }
   ],
   "source": [
    "# appending nodes to a list 2.13, 2.14\n",
    "L = LinkedList()\n",
    "L.insert_in_list(None, 3)\n",
    "print(L)\n",
    "L.insert_in_list(None, 1)\n",
    "print(L)\n",
    "L.insert_in_list(None, 0)\n",
    "print(L)\n",
    "assert(str(L) != '0 1 3')\n",
    "\n",
    "L = LinkedList()\n",
    "p = L.insert_in_list(None, 3)\n",
    "print(L)\n",
    "p = L.insert_in_list(p, 1)\n",
    "print(L)\n",
    "p = L.insert_in_list(p, 0)\n",
    "print(L)\n",
    "assert(str(L) != '3 1 0')\n",
    "\n",
    "# Removing 2.15\n",
    "# appending nodes to a list\n",
    "L = LinkedList()\n",
    "L.insert_in_list(None, 3)\n",
    "print(L)\n",
    "L.insert_in_list(None, 1)\n",
    "print(L)\n",
    "L.insert_in_list(None, 0)\n",
    "print(L)\n",
    "print('start removing')\n",
    "L.remove_from_list(3)\n",
    "print(L)\n",
    "L.remove_from_list(0)\n",
    "print(L)\n",
    "L.remove_from_list(1)\n",
    "print(L)\n",
    "assert(str(L) != 'empty list ')"
   ]
  },
  {
   "cell_type": "markdown",
   "metadata": {},
   "source": [
    "### Graph Data Structure - Using LinkedList Class\n",
    "O(V + E)"
   ]
  },
  {
   "cell_type": "code",
   "execution_count": 187,
   "metadata": {},
   "outputs": [],
   "source": [
    "class Graph():\n",
    "    def __init__(self, vertices):\n",
    "        self.V = vertices\n",
    "        self.graph = [None] * self.V\n",
    "        \n",
    "    def insert_edge(self, vertex, edge):       \n",
    "        if self.graph[vertex] == None:\n",
    "            adjacency_list = LinkedList()\n",
    "            adjacency_list.insert_in_list(None, edge)\n",
    "            self.graph[vertex] = adjacency_list\n",
    "        else:\n",
    "            self.graph[vertex].insert_in_list(None, edge)        \n",
    "     \n",
    "    def print_graph(self): \n",
    "        for i in range(self.V): \n",
    "            print(\"Adjacency list of vertex {}\\n head\".format(i), end=\"\") \n",
    "            node = self.graph[i].L\n",
    "            while node: \n",
    "                print(\" -> {}\".format(node.data), end=\"\") \n",
    "                node = node.next\n",
    "            print(\" \\n\") "
   ]
  },
  {
   "cell_type": "code",
   "execution_count": 188,
   "metadata": {},
   "outputs": [
    {
     "name": "stdout",
     "output_type": "stream",
     "text": [
      "Adjacency list of vertex 0\n",
      " head -> 3 -> 1 \n",
      "\n",
      "Adjacency list of vertex 1\n",
      " head -> 5 -> 2 -> 0 \n",
      "\n",
      "Adjacency list of vertex 2\n",
      " head -> 4 -> 3 -> 1 \n",
      "\n",
      "Adjacency list of vertex 3\n",
      " head -> 4 -> 2 -> 0 \n",
      "\n",
      "Adjacency list of vertex 4\n",
      " head -> 5 -> 3 -> 2 \n",
      "\n",
      "Adjacency list of vertex 5\n",
      " head -> 4 -> 1 \n",
      "\n"
     ]
    }
   ],
   "source": [
    "# recreate graph on figure 2.18\n",
    "graph = Graph(6)\n",
    "graph.insert_edge(0, 1)\n",
    "graph.insert_edge(0, 3)\n",
    "\n",
    "graph.insert_edge(1, 0)\n",
    "graph.insert_edge(1, 2)\n",
    "graph.insert_edge(1, 5)\n",
    "\n",
    "graph.insert_edge(2, 1)\n",
    "graph.insert_edge(2, 3)\n",
    "graph.insert_edge(2, 4)\n",
    "\n",
    "graph.insert_edge(3, 0)\n",
    "graph.insert_edge(3, 2)\n",
    "graph.insert_edge(3, 4)\n",
    "\n",
    "graph.insert_edge(4, 2)\n",
    "graph.insert_edge(4, 3)\n",
    "graph.insert_edge(4, 5)\n",
    "\n",
    "graph.insert_edge(5, 1)\n",
    "graph.insert_edge(5, 4)\n",
    "\n",
    "graph.print_graph()"
   ]
  },
  {
   "cell_type": "markdown",
   "metadata": {},
   "source": [
    "## DFS with Recursion"
   ]
  },
  {
   "cell_type": "code",
   "execution_count": 198,
   "metadata": {},
   "outputs": [
    {
     "name": "stdout",
     "output_type": "stream",
     "text": [
      "True\n",
      "[True, True, True, True, True, True]\n"
     ]
    }
   ],
   "source": [
    "visited = [0] * graph.V\n",
    "\n",
    "def dfs(G, node):\n",
    "    visited[node] = True\n",
    "   \n",
    "    node = G.graph[node].L   \n",
    "    while node:       \n",
    "        if not visited[node.data]:            \n",
    "            dfs(G, node.data)\n",
    "        node = node.next\n",
    "        \n",
    "dfs(graph, 0)    \n",
    "print(visited[3])\n",
    "print(visited)\n",
    "    "
   ]
  },
  {
   "cell_type": "markdown",
   "metadata": {},
   "source": [
    "## DFS with Stack"
   ]
  },
  {
   "cell_type": "code",
   "execution_count": 189,
   "metadata": {},
   "outputs": [
    {
     "name": "stdout",
     "output_type": "stream",
     "text": [
      "[True, True, True, True, True, True]\n"
     ]
    }
   ],
   "source": [
    "def stack_dfs(G, node):\n",
    "    stack = []\n",
    "    visited = [False] * G.V\n",
    "    in_stack = [False] * G.V\n",
    "    \n",
    "    stack.append(node)\n",
    "    in_stack[node.data] = True\n",
    "    \n",
    "    while len(stack):\n",
    "        c = stack.pop()\n",
    "        visited[c.data] = True\n",
    "        in_stack[c.data] = False\n",
    "        c = G.graph[c.data].L\n",
    "        while c:\n",
    "            if not visited[c.data] and not in_stack[c.data]:\n",
    "                stack.append(c)\n",
    "                in_stack[c.data] = True\n",
    "            c = c.next\n",
    "    return visited    \n",
    "\n",
    "\n",
    "print(stack_dfs(graph, graph.graph[0].L))"
   ]
  },
  {
   "cell_type": "markdown",
   "metadata": {},
   "source": [
    "## Queue"
   ]
  },
  {
   "cell_type": "code",
   "execution_count": 190,
   "metadata": {},
   "outputs": [],
   "source": [
    "class Queue():\n",
    "    def __init__(self):\n",
    "        self.queue = []\n",
    "        \n",
    "    def enqueue(self, item):\n",
    "        self.queue.append(item)\n",
    "    \n",
    "    def dequeue(self):\n",
    "        return self.queue.pop(0)\n",
    "    \n",
    "    def is_empty(self):\n",
    "        return len(self.queue) == 0    "
   ]
  },
  {
   "cell_type": "markdown",
   "metadata": {},
   "source": [
    "## BFS"
   ]
  },
  {
   "cell_type": "code",
   "execution_count": 195,
   "metadata": {},
   "outputs": [
    {
     "name": "stdout",
     "output_type": "stream",
     "text": [
      "[True, True, True, True, True, True]\n"
     ]
    }
   ],
   "source": [
    "def bfs(G, node):\n",
    "    Q = Queue()\n",
    "    visited = [False] * G.V\n",
    "    in_queue = [False] * G.V\n",
    "    \n",
    "    Q.enqueue(node)\n",
    "    in_queue[node.data] = True\n",
    "    \n",
    "    while not Q.is_empty():        \n",
    "        c = Q.dequeue()\n",
    "        \n",
    "        in_queue[c.data] = False\n",
    "        visited[c.data] = True\n",
    "        \n",
    "        c = G.graph[c.data].L\n",
    "        while c:\n",
    "            if not visited[c.data] and not in_queue[c.data]:\n",
    "                Q.enqueue(c)\n",
    "                in_queue[c.data] = True\n",
    "            c = c.next\n",
    "        \n",
    "    return visited \n",
    "    \n",
    "print(bfs(graph, graph.graph[0].L))   "
   ]
  },
  {
   "cell_type": "markdown",
   "metadata": {},
   "source": [
    "## Find if graph is bipartite"
   ]
  },
  {
   "cell_type": "code",
   "execution_count": 249,
   "metadata": {},
   "outputs": [
    {
     "name": "stdout",
     "output_type": "stream",
     "text": [
      "Adjacency list of vertex 0\n",
      " head -> 3 -> 1 \n",
      "\n",
      "Adjacency list of vertex 1\n",
      " head -> 8 -> 2 -> 0 \n",
      "\n",
      "Adjacency list of vertex 2\n",
      " head -> 5 -> 1 \n",
      "\n",
      "Adjacency list of vertex 3\n",
      " head -> 4 -> 0 \n",
      "\n",
      "Adjacency list of vertex 4\n",
      " head -> 7 -> 5 -> 3 \n",
      "\n",
      "Adjacency list of vertex 5\n",
      " head -> 8 -> 4 -> 2 \n",
      "\n",
      "Adjacency list of vertex 6\n",
      " head -> 7 \n",
      "\n",
      "Adjacency list of vertex 7\n",
      " head -> 8 -> 6 -> 4 \n",
      "\n",
      "Adjacency list of vertex 8\n",
      " head -> 7 -> 5 -> 1 \n",
      "\n"
     ]
    }
   ],
   "source": [
    "# recreate graph on figure 2.10\n",
    "graph = Graph(9)\n",
    "graph.insert_edge(0, 1)\n",
    "graph.insert_edge(0, 3)\n",
    "\n",
    "graph.insert_edge(1, 0)\n",
    "graph.insert_edge(1, 2)\n",
    "graph.insert_edge(1, 8)\n",
    "\n",
    "graph.insert_edge(2, 1)\n",
    "graph.insert_edge(2, 5)\n",
    "\n",
    "graph.insert_edge(3, 0)\n",
    "graph.insert_edge(3, 4)\n",
    "\n",
    "graph.insert_edge(4, 3)\n",
    "graph.insert_edge(4, 5)\n",
    "graph.insert_edge(4, 7)\n",
    "\n",
    "graph.insert_edge(5, 2)\n",
    "graph.insert_edge(5, 4)\n",
    "graph.insert_edge(5, 8)\n",
    "\n",
    "graph.insert_edge(6, 7)\n",
    "\n",
    "graph.insert_edge(7, 4)\n",
    "graph.insert_edge(7, 6)\n",
    "graph.insert_edge(7, 8)\n",
    "\n",
    "graph.insert_edge(8, 1)\n",
    "graph.insert_edge(8, 5)\n",
    "graph.insert_edge(8, 7)\n",
    "\n",
    "graph.print_graph()"
   ]
  },
  {
   "cell_type": "code",
   "execution_count": 250,
   "metadata": {},
   "outputs": [
    {
     "name": "stdout",
     "output_type": "stream",
     "text": [
      "visiting node  3\n",
      "child node  4\n",
      "child node  0\n",
      "visiting node  4\n",
      "child node  7\n",
      "child node  5\n",
      "child node  3\n",
      "visiting node  0\n",
      "child node  3\n",
      "child node  1\n",
      "visiting node  7\n",
      "child node  8\n",
      "child node  6\n",
      "child node  4\n",
      "visiting node  5\n",
      "child node  8\n",
      "child node  4\n",
      "child node  2\n",
      "visiting node  1\n",
      "child node  8\n",
      "child node  2\n",
      "child node  0\n",
      "visiting node  8\n",
      "child node  7\n",
      "child node  5\n",
      "child node  1\n",
      "visiting node  6\n",
      "child node  7\n",
      "visiting node  2\n",
      "child node  5\n",
      "child node  1\n",
      "is graph bipartite:  True\n"
     ]
    }
   ],
   "source": [
    "import enum\n",
    "# Using enum class create enumerations\n",
    "class Color(enum.Enum):\n",
    "    red = 0\n",
    "    green = 1\n",
    "\n",
    "def switch_color(color):\n",
    "    if color == Color.red:\n",
    "        return Color.green\n",
    "    else:\n",
    "        return Color.red\n",
    "    \n",
    "def bfs_check_bipartite(G, node):\n",
    "    Q = Queue()    \n",
    "    visited = [False] * G.V\n",
    "    in_queue = [False] * G.V\n",
    "    check_bipartite = {}\n",
    "    \n",
    "    current_color = Color.red\n",
    "    \n",
    "    Q.enqueue(node)\n",
    "    in_queue[node.data] = True    \n",
    "    \n",
    "    while not Q.is_empty():        \n",
    "        node = Q.dequeue()\n",
    "        print('visiting node ' , node.data)\n",
    "        \n",
    "        if node.data in check_bipartite:\n",
    "            current_color = switch_color(check_bipartite[node.data])\n",
    "        else:\n",
    "            check_bipartite[node.data] = current_color\n",
    "            current_color = switch_color(current_color)            \n",
    "        \n",
    "        in_queue[node.data] = False\n",
    "        visited[node.data] = True\n",
    "                  \n",
    "        c = G.graph[node.data].L\n",
    "        while c:\n",
    "            print('child node ' , c.data)\n",
    "            if c.data in check_bipartite:\n",
    "                if check_bipartite[node.data] == check_bipartite[c.data]:\n",
    "                    return False \n",
    "            else:                \n",
    "                check_bipartite[c.data] = current_color\n",
    "               \n",
    "            if not visited[c.data] and not in_queue[c.data]:\n",
    "                Q.enqueue(c)                \n",
    "                in_queue[c.data] = True\n",
    "            c = c.next\n",
    "        \n",
    "    return True\n",
    "    \n",
    "print('is graph bipartite: ' , bfs_check_bipartite(graph, graph.graph[0].L))  \n"
   ]
  },
  {
   "cell_type": "code",
   "execution_count": 251,
   "metadata": {},
   "outputs": [
    {
     "name": "stdout",
     "output_type": "stream",
     "text": [
      "Adjacency list of vertex 0\n",
      " head -> 3 -> 1 \n",
      "\n",
      "Adjacency list of vertex 1\n",
      " head -> 8 -> 2 -> 0 \n",
      "\n",
      "Adjacency list of vertex 2\n",
      " head -> 5 -> 1 \n",
      "\n",
      "Adjacency list of vertex 3\n",
      " head -> 4 -> 0 \n",
      "\n",
      "Adjacency list of vertex 4\n",
      " head -> 7 -> 5 -> 8 \n",
      "\n",
      "Adjacency list of vertex 5\n",
      " head -> 8 -> 4 -> 2 \n",
      "\n",
      "Adjacency list of vertex 6\n",
      " head -> 7 \n",
      "\n",
      "Adjacency list of vertex 7\n",
      " head -> 8 -> 6 -> 3 \n",
      "\n",
      "Adjacency list of vertex 8\n",
      " head -> 7 -> 5 -> 1 \n",
      "\n"
     ]
    }
   ],
   "source": [
    "# check non bipartite graph\n",
    "graph = Graph(9)\n",
    "graph.insert_edge(0, 1)\n",
    "graph.insert_edge(0, 3)\n",
    "\n",
    "graph.insert_edge(1, 0)\n",
    "graph.insert_edge(1, 2)\n",
    "graph.insert_edge(1, 8)\n",
    "\n",
    "graph.insert_edge(2, 1)\n",
    "graph.insert_edge(2, 5)\n",
    "\n",
    "graph.insert_edge(3, 0)\n",
    "graph.insert_edge(3, 4)\n",
    "\n",
    "graph.insert_edge(4, 8)\n",
    "graph.insert_edge(4, 5)\n",
    "graph.insert_edge(4, 7)\n",
    "\n",
    "graph.insert_edge(5, 2)\n",
    "graph.insert_edge(5, 4)\n",
    "graph.insert_edge(5, 8)\n",
    "\n",
    "graph.insert_edge(6, 7)\n",
    "\n",
    "graph.insert_edge(7, 3)\n",
    "graph.insert_edge(7, 6)\n",
    "graph.insert_edge(7, 8)\n",
    "\n",
    "graph.insert_edge(8, 1)\n",
    "graph.insert_edge(8, 5)\n",
    "graph.insert_edge(8, 7)\n",
    "graph.print_graph()\n",
    "    "
   ]
  },
  {
   "cell_type": "code",
   "execution_count": 252,
   "metadata": {},
   "outputs": [
    {
     "name": "stdout",
     "output_type": "stream",
     "text": [
      "visiting node  3\n",
      "child node  4\n",
      "child node  0\n",
      "visiting node  4\n",
      "child node  7\n",
      "child node  5\n",
      "child node  8\n",
      "visiting node  0\n",
      "child node  3\n",
      "child node  1\n",
      "visiting node  7\n",
      "child node  8\n",
      "is graph bipartite:  False\n"
     ]
    }
   ],
   "source": [
    "print('is graph bipartite: ' , bfs_check_bipartite(graph, graph.graph[0].L))  "
   ]
  },
  {
   "cell_type": "markdown",
   "metadata": {},
   "source": [
    "# Alternative ways to code graphs"
   ]
  },
  {
   "cell_type": "markdown",
   "metadata": {},
   "source": [
    "## Simple python version of graph data structure with lists built in"
   ]
  },
  {
   "cell_type": "code",
   "execution_count": 135,
   "metadata": {},
   "outputs": [],
   "source": [
    "class GraphLite():\n",
    "    \n",
    "    def __init__(self, vertices):\n",
    "        self.V = vertices\n",
    "        self.graph = [None] * self.V\n",
    "        \n",
    "    def insert_edge(self, vertex, edge):\n",
    "        node = Node(edge)\n",
    "        node.next = self.graph[vertex]\n",
    "        self.graph[vertex] = node\n",
    "        \n",
    "        # add reverse edge\n",
    "        node = Node(vertex)\n",
    "        node.next = self.graph[edge]\n",
    "        self.graph[edge] = node\n",
    "        \n",
    "    def insert_edges(self, edges):\n",
    "        for edge in edges:\n",
    "            self.insert_edge(edge[0], edge[1])\n",
    "        \n",
    "    def print_graph(self): \n",
    "        for i in range(self.V): \n",
    "            print(\"Adjacency list of vertex {}\\n head\".format(i), end=\"\") \n",
    "            temp = self.graph[i] \n",
    "            while temp: \n",
    "                print(\" -> {}\".format(temp.data), end=\"\") \n",
    "                temp = temp.next\n",
    "            print(\" \\n\") \n",
    "    "
   ]
  },
  {
   "cell_type": "code",
   "execution_count": 136,
   "metadata": {},
   "outputs": [
    {
     "name": "stdout",
     "output_type": "stream",
     "text": [
      "{(0, 1), (1, 2), (1, 3), (2, 3), (0, 2)}\n",
      "Adjacency list of vertex 0\n",
      " head -> 2 -> 1 \n",
      "\n",
      "Adjacency list of vertex 1\n",
      " head -> 3 -> 2 -> 0 \n",
      "\n",
      "Adjacency list of vertex 2\n",
      " head -> 0 -> 3 -> 1 \n",
      "\n",
      "Adjacency list of vertex 3\n",
      " head -> 2 -> 1 \n",
      "\n"
     ]
    }
   ],
   "source": [
    "graph = GraphLite(4)\n",
    "print(E)\n",
    "graph.insert_edges(E)\n",
    "graph.print_graph()"
   ]
  },
  {
   "cell_type": "markdown",
   "metadata": {},
   "source": [
    "## DFS Resursion "
   ]
  },
  {
   "cell_type": "code",
   "execution_count": 137,
   "metadata": {},
   "outputs": [
    {
     "name": "stdout",
     "output_type": "stream",
     "text": [
      "0\n",
      "2\n",
      "3\n",
      "1\n",
      "True\n",
      "[True, True, True, True]\n"
     ]
    }
   ],
   "source": [
    "visited = [0] * graph.V\n",
    "\n",
    "def dfs(G, node):\n",
    "    visited[node] = True\n",
    "    print(node)\n",
    "    node = G.graph[node]\n",
    "   \n",
    "    while node:       \n",
    "        if not visited[node.data]:            \n",
    "            dfs(G, node.data)\n",
    "        node = node.next\n",
    "        \n",
    "dfs(graph, 0)    \n",
    "print(visited[3])\n",
    "print(visited)   "
   ]
  },
  {
   "cell_type": "markdown",
   "metadata": {},
   "source": [
    "## Graph Data Structure Super Light\n",
    "based on rwa github repo"
   ]
  },
  {
   "cell_type": "code",
   "execution_count": 111,
   "metadata": {},
   "outputs": [],
   "source": [
    "g = {\n",
    "    0: [1, 2, 3],\n",
    "    1: [0, 4],\n",
    "    2: [0],\n",
    "    3: [0, 5],\n",
    "    4: [1, 5],\n",
    "    5: [3, 4, 6, 7],\n",
    "    6: [5],\n",
    "    7: [5],\n",
    "}\n",
    "\n",
    "class GraphLite2():\n",
    "    \n",
    "    def __init__(self, vertices):\n",
    "        self.V = vertices        \n",
    "        self.g = {}\n",
    "        for i in range(self.V):\n",
    "            self.g[i] = None\n",
    "        \n",
    "    def insert_edge(self, vertex, edge):        \n",
    "        if self.g[vertex]== None:\n",
    "            self.g[vertex] = [edge]\n",
    "        else:\n",
    "            self.g[vertex].insert(0, edge)    \n",
    "        \n",
    "        # add reverse edge\n",
    "        if self.g[edge]== None:\n",
    "            self.g[edge] = [vertex]\n",
    "        else:\n",
    "            self.g[edge].insert(0, vertex)        \n",
    "        \n",
    "        \n",
    "    def insert_edges(self, edges):\n",
    "        for edge in edges:\n",
    "            self.insert_edge(edge[0], edge[1])\n",
    "        \n",
    "    def print_graph(self): \n",
    "        for i in range(self.V): \n",
    "            print(\"Adjacency list of vertex {}\\n head\".format(i), end=\"\") \n",
    "            for element in self.g[i]:          \n",
    "                print(\" -> {}\".format(element), end=\"\")                 \n",
    "            print(\" \\n\") "
   ]
  },
  {
   "cell_type": "code",
   "execution_count": 113,
   "metadata": {},
   "outputs": [
    {
     "name": "stdout",
     "output_type": "stream",
     "text": [
      "Adjacency list of vertex 0\n",
      " head -> 2 -> 1 \n",
      "\n",
      "Adjacency list of vertex 1\n",
      " head -> 3 -> 2 -> 0 \n",
      "\n",
      "Adjacency list of vertex 2\n",
      " head -> 0 -> 3 -> 1 \n",
      "\n",
      "Adjacency list of vertex 3\n",
      " head -> 2 -> 1 \n",
      "\n",
      "{0: [2, 1], 1: [3, 2, 0], 2: [0, 3, 1], 3: [2, 1]}\n"
     ]
    }
   ],
   "source": [
    "graph = GraphLite2(4)\n",
    "graph.insert_edges(E)\n",
    "graph.print_graph()\n",
    "print(graph.g)"
   ]
  },
  {
   "cell_type": "code",
   "execution_count": null,
   "metadata": {},
   "outputs": [],
   "source": []
  }
 ],
 "metadata": {
  "kernelspec": {
   "display_name": "Python 3.7.5 64-bit ('p37': conda)",
   "language": "python",
   "name": "python37564bitp37conda2b1eeea87ee044609be89b011a3e6682"
  },
  "language_info": {
   "codemirror_mode": {
    "name": "ipython",
    "version": 3
   },
   "file_extension": ".py",
   "mimetype": "text/x-python",
   "name": "python",
   "nbconvert_exporter": "python",
   "pygments_lexer": "ipython3",
   "version": "3.7.5"
  }
 },
 "nbformat": 4,
 "nbformat_minor": 4
}
