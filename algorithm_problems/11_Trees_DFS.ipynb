{
 "cells": [
  {
   "cell_type": "markdown",
   "metadata": {},
   "source": [
    "# Trees\n",
    "SEE TREE DATA STRUCTURES NOTEBOOK FOR IMPLEMENTATIONS"
   ]
  },
  {
   "cell_type": "code",
   "execution_count": 49,
   "metadata": {},
   "outputs": [],
   "source": [
    "class TreeNode:\n",
    "    def __init__(self, val, left=None, right=None):\n",
    "        self.val = val\n",
    "        self.left = left\n",
    "        self.right = right"
   ]
  },
  {
   "cell_type": "markdown",
   "metadata": {},
   "source": [
    "# DFS - Depth First Search\n",
    "We will be using recursion (or we can also use a stack for the iterative approach) to keep track of all the previous (parent) nodes while traversing. This also means that the space complexity of the algorithm will be O(H)O(H), where ‘H’ is the maximum height of the tree."
   ]
  },
  {
   "cell_type": "markdown",
   "metadata": {},
   "source": [
    "### Binary Tree Path Sum (easy)\n",
    "Given a binary tree and a number ‘S’, find if the tree has a path from root-to-leaf such that the sum of all the node values of that path equals ‘S’."
   ]
  },
  {
   "cell_type": "code",
   "execution_count": 50,
   "metadata": {},
   "outputs": [
    {
     "name": "stdout",
     "output_type": "stream",
     "text": [
      "Tree has path: None\n",
      "Tree has path: None\n"
     ]
    }
   ],
   "source": [
    "def has_path(root, sum):    \n",
    "   \n",
    "    pass\n",
    "\n",
    "root = TreeNode(12)\n",
    "root.left = TreeNode(7)\n",
    "root.right = TreeNode(1)\n",
    "root.left.left = TreeNode(9)\n",
    "root.right.left = TreeNode(10)\n",
    "root.right.right = TreeNode(5)\n",
    "print(\"Tree has path: \" + str(has_path(root, 23)))\n",
    "print(\"Tree has path: \" + str(has_path(root, 16)))"
   ]
  },
  {
   "cell_type": "code",
   "execution_count": 51,
   "metadata": {},
   "outputs": [
    {
     "name": "stdout",
     "output_type": "stream",
     "text": [
      "Tree has path: True\n",
      "Tree has path: False\n"
     ]
    }
   ],
   "source": [
    "def has_path(root, num_sum):    \n",
    "    if root is None:\n",
    "        return False\n",
    "\n",
    "    # if the current node is a leaf and its value is equal to the sum, we've found a path\n",
    "    if root.val == num_sum and root.left is None and root.right is None:\n",
    "        return True\n",
    "\n",
    "    # recursively call to traverse the left and right sub-tree\n",
    "    # return true if any of the two recursive call return true\n",
    "    return has_path(root.left, num_sum - root.val) or has_path(root.right, num_sum - root.val)\n",
    "\n",
    "root = TreeNode(12)\n",
    "root.left = TreeNode(7)\n",
    "root.right = TreeNode(1)\n",
    "root.left.left = TreeNode(9)\n",
    "root.right.left = TreeNode(10)\n",
    "root.right.right = TreeNode(5)\n",
    "print(\"Tree has path: \" + str(has_path(root, 23)))\n",
    "print(\"Tree has path: \" + str(has_path(root, 16)))"
   ]
  },
  {
   "cell_type": "markdown",
   "metadata": {},
   "source": [
    "## All Paths for a Sum (medium)\n",
    "Given a binary tree and a number ‘S’, find all paths from root-to-leaf such that the sum of all the node values of each path equals ‘S’.\n",
    "<img src=\"../images/tree_dfs1.png\" width=40%>"
   ]
  },
  {
   "cell_type": "code",
   "execution_count": 52,
   "metadata": {},
   "outputs": [
    {
     "name": "stdout",
     "output_type": "stream",
     "text": [
      "Tree paths with sum 23: []\n"
     ]
    }
   ],
   "source": [
    "def find_paths(root, sum):\n",
    "    allPaths = []\n",
    "    \n",
    "    \n",
    "\n",
    "\n",
    "\n",
    "\n",
    "    return allPaths\n",
    "\n",
    "\n",
    "root = TreeNode(12)\n",
    "root.left = TreeNode(7)\n",
    "root.right = TreeNode(1)\n",
    "root.left.left = TreeNode(4)\n",
    "root.right.left = TreeNode(10)\n",
    "root.right.right = TreeNode(5)\n",
    "sum = 23\n",
    "print(\"Tree paths with sum \" + str(sum) +\n",
    "    \": \" + str(find_paths(root, sum)))\n",
    "\n"
   ]
  },
  {
   "cell_type": "code",
   "execution_count": 53,
   "metadata": {},
   "outputs": [
    {
     "name": "stdout",
     "output_type": "stream",
     "text": [
      "curr node 12\n",
      "cur path [] all paths []\n",
      "curr node 7\n",
      "cur path [12] all paths []\n",
      "curr node 4\n",
      "cur path [12, 7] all paths []\n",
      "cur path [12, 7] all paths [[12, 7, 4]]\n",
      "curr node 1\n",
      "cur path [12] all paths [[12, 7, 4]]\n",
      "curr node 10\n",
      "cur path [12, 1] all paths [[12, 7, 4]]\n",
      "curr node 5\n",
      "cur path [12, 1] all paths [[12, 7, 4], [12, 1, 10]]\n",
      "cur path [12, 1, 5] all paths [[12, 7, 4], [12, 1, 10]]\n",
      "cur path [12, 1, 5] all paths [[12, 7, 4], [12, 1, 10]]\n",
      "Tree paths with sum 23: [[12, 7, 4], [12, 1, 10]]\n"
     ]
    }
   ],
   "source": [
    "def find_paths(root, sum):\n",
    "    allPaths = []\n",
    "    find_paths_recursive(root, sum, [], allPaths)\n",
    "    return allPaths\n",
    "\n",
    "def find_paths_recursive(currentNode, sum, currentPath, allPaths):\n",
    "    if currentNode:\n",
    "        print(f'curr node {currentNode.val}')\n",
    "    print(f'cur path {currentPath} all paths {allPaths}')\n",
    "    if currentNode is None:\n",
    "        return\n",
    "\n",
    "    # add the current node to the path\n",
    "    currentPath.append(currentNode.val)\n",
    "\n",
    "    # if the current node is a leaf and its value is equal to sum, save the current path\n",
    "    if currentNode.val == sum and currentNode.left is None and currentNode.right is None:\n",
    "        allPaths.append(list(currentPath))\n",
    "    else:\n",
    "        # traverse the left sub-tree\n",
    "        find_paths_recursive(currentNode.left, sum -\n",
    "                             currentNode.val, currentPath, allPaths)\n",
    "        # traverse the right sub-tree\n",
    "        find_paths_recursive(currentNode.right, sum -\n",
    "                             currentNode.val, currentPath, allPaths)\n",
    "\n",
    "    # remove the current node from the path to backtrack,\n",
    "    # we need to remove the current node while we are going up the recursive call stack.\n",
    "    del currentPath[-1]\n",
    "\n",
    "root = TreeNode(12)\n",
    "root.left = TreeNode(7)\n",
    "root.right = TreeNode(1)\n",
    "root.left.left = TreeNode(4)\n",
    "root.right.left = TreeNode(10)\n",
    "root.right.right = TreeNode(5)\n",
    "sum = 23\n",
    "print(\"Tree paths with sum \" + str(sum) +\n",
    "    \": \" + str(find_paths(root, sum)))"
   ]
  },
  {
   "cell_type": "markdown",
   "metadata": {},
   "source": [
    "## Given a binary tree, return all root-to-leaf paths.\n",
    "\n",
    "Solution: We can follow a similar approach. We just need to remove the “check for the path sum”.\n"
   ]
  },
  {
   "cell_type": "code",
   "execution_count": 54,
   "metadata": {},
   "outputs": [
    {
     "name": "stdout",
     "output_type": "stream",
     "text": [
      "Tree paths with sum [[12, 7, 4], [12, 1, 10], [12, 1, 5]]\n"
     ]
    }
   ],
   "source": [
    "def find_paths(root):\n",
    "    all_paths = []\n",
    "    paths_recursive(root, [], all_paths)\n",
    "    return all_paths\n",
    "\n",
    "def paths_recursive(node, current_path, all_paths):\n",
    "    if node is None:\n",
    "        return\n",
    "    current_path.append(node.val)\n",
    "    if node.left is None and node.right is None:\n",
    "        all_paths.append(list(current_path))\n",
    "    else:\n",
    "         # traverse the left sub-tree\n",
    "        paths_recursive(node.left, current_path, all_paths)\n",
    "        # traverse the right sub-tree\n",
    "        paths_recursive(node.right, current_path, all_paths)\n",
    "    del current_path[-1] \n",
    "    \n",
    "\n",
    "root = TreeNode(12)\n",
    "root.left = TreeNode(7)\n",
    "root.right = TreeNode(1)\n",
    "root.left.left = TreeNode(4)\n",
    "root.right.left = TreeNode(10)\n",
    "root.right.right = TreeNode(5)\n",
    "\n",
    "print(\"Tree paths with sum \" + str(find_paths(root)))"
   ]
  },
  {
   "cell_type": "markdown",
   "metadata": {},
   "source": [
    "##  Given a binary tree, find the root-to-leaf path with the maximum sum.\n",
    "\n",
    "Solution: We need to find the path with the maximum sum. As we traverse all paths, we can keep track of the path with the maximum sum."
   ]
  },
  {
   "cell_type": "code",
   "execution_count": 69,
   "metadata": {},
   "outputs": [
    {
     "name": "stdout",
     "output_type": "stream",
     "text": [
      "Tree paths with sum [[12, 7, 4]]\n"
     ]
    }
   ],
   "source": [
    "def find_paths(root):\n",
    "    all_paths = []\n",
    "    paths_recursive(root, [], 0, all_paths)\n",
    "    return all_paths\n",
    "\n",
    "def paths_recursive(node, current_path, max_sum, all_paths):\n",
    "    if node is None:\n",
    "        return\n",
    "    current_path.append(node.val)\n",
    "    if node.left is None and node.right is None:\n",
    "        if len(all_paths) == 0:\n",
    "            all_paths.append(list(current_path))            \n",
    "        elif sum(current_path) > sum(all_paths[0]):   \n",
    "            print('got here')\n",
    "            all_paths = []\n",
    "            all_paths.append(list(current_path))            \n",
    "    else:\n",
    "        # traverse the left sub-tree\n",
    "        paths_recursive(node.left, current_path, max_sum, all_paths)\n",
    "        # traverse the right sub-tree\n",
    "        paths_recursive(node.right, current_path,  max_sum, all_paths)\n",
    "    del current_path[-1] \n",
    "    \n",
    "\n",
    "root = TreeNode(12)\n",
    "root.left = TreeNode(7)\n",
    "root.right = TreeNode(1)\n",
    "root.left.left = TreeNode(4)\n",
    "root.right.left = TreeNode(10)\n",
    "root.right.right = TreeNode(5)\n",
    "\n",
    "print(\"Tree paths with sum \" + str(find_paths(root)))"
   ]
  },
  {
   "cell_type": "markdown",
   "metadata": {},
   "source": [
    "### Sum of Path Numbers (medium)\n",
    "Given a binary tree where each node can only have a digit (0-9) value, each root-to-leaf path will represent a number. Find the total sum of all the numbers represented by all paths.  \n",
    "<img src=\"../images/tree_dfs2.png\" width=40%>\n"
   ]
  },
  {
   "cell_type": "code",
   "execution_count": 73,
   "metadata": {},
   "outputs": [
    {
     "name": "stdout",
     "output_type": "stream",
     "text": [
      "Total Sum of Path Numbers: None\n"
     ]
    }
   ],
   "source": [
    "def find_sum_of_path_numbers(root):\n",
    "    pass\n",
    "root = TreeNode(1)\n",
    "root.left = TreeNode(0)\n",
    "root.right = TreeNode(1)\n",
    "root.left.left = TreeNode(1)\n",
    "root.right.left = TreeNode(6)\n",
    "root.right.right = TreeNode(5)\n",
    "print(\"Total Sum of Path Numbers: \" + str(find_sum_of_path_numbers(root)))"
   ]
  },
  {
   "cell_type": "code",
   "execution_count": 71,
   "metadata": {},
   "outputs": [
    {
     "name": "stdout",
     "output_type": "stream",
     "text": [
      "Total Sum of Path Numbers: 332\n"
     ]
    }
   ],
   "source": [
    "def find_sum_of_path_numbers(root):\n",
    "    return find_root_to_leaf_path_numbers(root, 0)\n",
    "\n",
    "\n",
    "def find_root_to_leaf_path_numbers(currentNode, pathSum):\n",
    "    if currentNode is None:\n",
    "        return 0\n",
    "\n",
    "    # calculate the path number of the current node\n",
    "    pathSum = 10 * pathSum + currentNode.val\n",
    "\n",
    "    # if the current node is a leaf, return the current path sum\n",
    "    if currentNode.left is None and currentNode.right is None:\n",
    "        return pathSum\n",
    "\n",
    "    # traverse the left and the right sub-tree\n",
    "    return find_root_to_leaf_path_numbers(currentNode.left, pathSum) + find_root_to_leaf_path_numbers(currentNode.right, pathSum)\n",
    "\n",
    "root = TreeNode(1)\n",
    "root.left = TreeNode(0)\n",
    "root.right = TreeNode(1)\n",
    "root.left.left = TreeNode(1)\n",
    "root.right.left = TreeNode(6)\n",
    "root.right.right = TreeNode(5)\n",
    "print(\"Total Sum of Path Numbers: \" + str(find_sum_of_path_numbers(root)))"
   ]
  },
  {
   "cell_type": "markdown",
   "metadata": {},
   "source": [
    "### Count Paths for a Sum (medium)\n",
    "Given a binary tree and a number ‘S’, find all paths in the tree such that the sum of all the node values of each path equals ‘S’. Please note that the paths can start or end at any node but all paths must follow direction from parent to child (top to bottom).  \n",
    "<img src=\"../images/tree_dfs3.png\" width=40%>"
   ]
  },
  {
   "cell_type": "code",
   "execution_count": 87,
   "metadata": {},
   "outputs": [
    {
     "name": "stdout",
     "output_type": "stream",
     "text": [
      "12\n",
      "[]\n",
      "7\n",
      "[7]\n",
      "4\n",
      "[7, 4]\n",
      "1\n",
      "[1]\n",
      "10\n",
      "[1, 10]\n",
      "5\n",
      "[1, 5]\n",
      "Tree has paths: [[7, 4], [1, 10]]\n"
     ]
    }
   ],
   "source": [
    "def count_paths(root, S):\n",
    "    all_paths = []\n",
    "    \n",
    "    find_paths(root, S, [], all_paths)\n",
    "    return all_paths\n",
    "    \n",
    "def find_paths(node, val, cur_path, all_paths):\n",
    "    if node is None:\n",
    "        return\n",
    "\n",
    "    cur_path.append(node.val)\n",
    "   \n",
    "    if sum(cur_path) == val:\n",
    "        all_paths.append(cur_path) \n",
    "    elif sum(cur_path) > val:\n",
    "        cur_path_copy = cur_path.copy()\n",
    "        while sum(cur_path_copy) > val:            \n",
    "            del cur_path_copy[0]            \n",
    "        if sum(cur_path_copy) == val:\n",
    "            all_paths.append(cur_path_copy) \n",
    "\n",
    "    if node.left:\n",
    "        find_paths(node.left, val, cur_path, all_paths)\n",
    "    if node.right:\n",
    "        find_paths(node.right, val, cur_path, all_paths)\n",
    "\n",
    "    del cur_path[-1]\n",
    "\n",
    "\n",
    "root = TreeNode(12)\n",
    "root.left = TreeNode(7)\n",
    "root.right = TreeNode(1)\n",
    "root.left.left = TreeNode(4)\n",
    "root.right.left = TreeNode(10)\n",
    "root.right.right = TreeNode(5)\n",
    "print(\"Tree has paths: \" + str(count_paths(root, 11)))"
   ]
  },
  {
   "cell_type": "code",
   "execution_count": 88,
   "metadata": {},
   "outputs": [
    {
     "name": "stdout",
     "output_type": "stream",
     "text": [
      "Tree has paths: 2\n"
     ]
    }
   ],
   "source": [
    "def count_paths(root, S):\n",
    "    return count_paths_recursive(root, S, [])\n",
    "\n",
    "def count_paths_recursive(currentNode, S, currentPath):\n",
    "    if currentNode is None:\n",
    "        return 0\n",
    "\n",
    "    # add the current node to the path\n",
    "    currentPath.append(currentNode.val)\n",
    "    pathCount, pathSum = 0, 0\n",
    "    # find the sums of all sub-paths in the current path list\n",
    "    for i in range(len(currentPath)-1, -1, -1):\n",
    "        pathSum += currentPath[i]\n",
    "        # if the sum of any sub-path is equal to 'S' we increment our path count.\n",
    "        if pathSum == S:\n",
    "            pathCount += 1\n",
    "\n",
    "    # traverse the left sub-tree\n",
    "    pathCount += count_paths_recursive(currentNode.left, S, currentPath)\n",
    "    # traverse the right sub-tree\n",
    "    pathCount += count_paths_recursive(currentNode.right, S, currentPath)\n",
    "\n",
    "    # remove the current node from the path to backtrack\n",
    "    # we need to remove the current node while we are going up the recursive call stack\n",
    "    del currentPath[-1]\n",
    "\n",
    "    return pathCount\n",
    "\n",
    "root = TreeNode(12)\n",
    "root.left = TreeNode(7)\n",
    "root.right = TreeNode(1)\n",
    "root.left.left = TreeNode(4)\n",
    "root.right.left = TreeNode(10)\n",
    "root.right.right = TreeNode(5)\n",
    "print(\"Tree has paths: \" + str(count_paths(root, 11)))"
   ]
  },
  {
   "cell_type": "markdown",
   "metadata": {},
   "source": [
    "## Recursive Pattern - Up Recursion Tree - Manipulate data after recursion\n",
    "\n",
    "## Tree Diameter (medium)  - says nothing about longest paths being equal - this was my error\n",
    "Given a binary tree, find the length of its diameter. The diameter of a tree is the number of nodes on the longest path between any two leaf nodes. The diameter of a tree may or may not pass through the root.  \n",
    "<img src=\"../images/tree_dfs4.png\" width=40%>"
   ]
  },
  {
   "cell_type": "code",
   "execution_count": 90,
   "metadata": {},
   "outputs": [
    {
     "name": "stdout",
     "output_type": "stream",
     "text": [
      "Tree Diameter: -1\n",
      "Tree Diameter: -1\n"
     ]
    }
   ],
   "source": [
    "class TreeDiameter:\n",
    "\n",
    "    def __init__(self):\n",
    "        self.treeDiameter = 0\n",
    "    \n",
    "\n",
    "    def find_diameter(self, root):\n",
    "        # TODO: Write your code here\n",
    "        self.dfs(root, 1)\n",
    "    \n",
    "  \n",
    "    \n",
    "    \n",
    "    return -1\n",
    "\n",
    "treeDiameter = TreeDiameter()\n",
    "root = TreeNode(1)\n",
    "root.left = TreeNode(2)\n",
    "root.right = TreeNode(3)\n",
    "root.left.left = TreeNode(4)\n",
    "root.right.left = TreeNode(5)\n",
    "root.right.right = TreeNode(6)\n",
    "print(\"Tree Diameter: \" + str(treeDiameter.find_diameter(root)))\n",
    "root.left.left = None\n",
    "root.right.left.left = TreeNode(7)\n",
    "root.right.left.right = TreeNode(8)\n",
    "root.right.right.left = TreeNode(9)\n",
    "root.right.left.right.left = TreeNode(10)\n",
    "root.right.right.left.left = TreeNode(11)\n",
    "print(\"Tree Diameter: \" + str(treeDiameter.find_diameter(root)))"
   ]
  },
  {
   "cell_type": "code",
   "execution_count": 95,
   "metadata": {},
   "outputs": [
    {
     "name": "stdout",
     "output_type": "stream",
     "text": [
      "Tree Diameter: 5\n",
      "Tree Diameter: 6\n"
     ]
    }
   ],
   "source": [
    "class TreeDiameter:\n",
    "\n",
    "  def __init__(self):\n",
    "    self.treeDiameter = 0\n",
    "\n",
    "  def find_diameter(self, root):\n",
    "    self.calculate_height(root)\n",
    "    return self.treeDiameter\n",
    "\n",
    "  def calculate_height(self, currentNode):\n",
    "    if currentNode is None:\n",
    "      return 0\n",
    "\n",
    "    leftTreeHeight = self.calculate_height(currentNode.left)\n",
    "    rightTreeHeight = self.calculate_height(currentNode.right)\n",
    "\n",
    "    # diameter at the current node will be equal to the height of left subtree +\n",
    "    # the height of right sub-trees + '1' for the current node\n",
    "    diameter = leftTreeHeight + rightTreeHeight + 1\n",
    "\n",
    "    # update the global tree diameter\n",
    "    self.treeDiameter = max(self.treeDiameter, diameter)\n",
    "\n",
    "    # height of the current node will be equal to the maximum of the hights of\n",
    "    # left or right subtrees plus '1' for the current node\n",
    "    return max(leftTreeHeight, rightTreeHeight) + 1\n",
    "\n",
    "\n",
    "\n",
    "treeDiameter = TreeDiameter()\n",
    "root = TreeNode(1)\n",
    "root.left = TreeNode(2)\n",
    "root.right = TreeNode(3)\n",
    "root.left.left = TreeNode(4)\n",
    "root.right.left = TreeNode(5)\n",
    "root.right.right = TreeNode(6)\n",
    "print(\"Tree Diameter: \" + str(treeDiameter.find_diameter(root)))\n",
    "root.left.left = None\n",
    "root.right.left.left = TreeNode(7)\n",
    "root.right.left.right = TreeNode(8)\n",
    "root.right.right.left = TreeNode(9)\n",
    "root.right.left.right.left = TreeNode(10)\n",
    "root.right.right.left.left = TreeNode(11)\n",
    "print(\"Tree Diameter: \" + str(treeDiameter.find_diameter(root)))"
   ]
  },
  {
   "cell_type": "markdown",
   "metadata": {},
   "source": [
    "## Path with Maximum Sum (hard) #\n",
    "Find the path with the maximum sum in a given binary tree. Write a function that returns the maximum sum. A path can be defined as a sequence of nodes between any two nodes and doesn’t necessarily pass through the root.\n",
    "\n",
    "<img src=\"../images/tree_dfs5.png\" width=40%>"
   ]
  },
  {
   "cell_type": "code",
   "execution_count": null,
   "metadata": {},
   "outputs": [],
   "source": [
    "import math\n",
    "\n",
    "\n",
    "class TreeNode:\n",
    "  def __init__(self, val, left=None, right=None):\n",
    "    self.val = val\n",
    "    self.left = left\n",
    "    self.right = right\n",
    "\n",
    "\n",
    "\n",
    "def find_maximum_path_sum(root):\n",
    "  # TODO: Write your code here\n",
    "  return -1\n",
    "\n",
    "\n",
    "def main():\n",
    "  root = TreeNode(1)\n",
    "  root.left = TreeNode(2)\n",
    "  root.right = TreeNode(3)\n",
    "\n",
    "  print(\"Maximum Path Sum: \" + str(find_maximum_path_sum(root)))\n",
    "  root.left.left = TreeNode(1)\n",
    "  root.left.right = TreeNode(3)\n",
    "  root.right.left = TreeNode(5)\n",
    "  root.right.right = TreeNode(6)\n",
    "  root.right.left.left = TreeNode(7)\n",
    "  root.right.left.right = TreeNode(8)\n",
    "  root.right.right.left = TreeNode(9)\n",
    "  print(\"Maximum Path Sum: \" + str(find_maximum_path_sum(root)))\n",
    "\n",
    "  root = TreeNode(-1)\n",
    "  root.left = TreeNode(-3)\n",
    "  print(\"Maximum Path Sum: \" + str(find_maximum_path_sum(root)))\n",
    "\n",
    "\n",
    "main()\n"
   ]
  },
  {
   "cell_type": "code",
   "execution_count": null,
   "metadata": {},
   "outputs": [],
   "source": [
    "import math\n",
    "\n",
    "\n",
    "class TreeNode:\n",
    "  def __init__(self, val, left=None, right=None):\n",
    "    self.val = val\n",
    "    self.left = left\n",
    "    self.right = right\n",
    "\n",
    "\n",
    "class MaximumPathSum:\n",
    "\n",
    "  def find_maximum_path_sum(self, root):\n",
    "    self.globalMaximumSum = -math.inf\n",
    "    self.find_maximum_path_sum_recursive(root)\n",
    "    return self.globalMaximumSum\n",
    "\n",
    "  def find_maximum_path_sum_recursive(self, currentNode):\n",
    "    if currentNode is None:\n",
    "      return 0\n",
    "\n",
    "    maxPathSumFromLeft = self.find_maximum_path_sum_recursive(\n",
    "      currentNode.left)\n",
    "    maxPathSumFromRight = self.find_maximum_path_sum_recursive(\n",
    "      currentNode.right)\n",
    "\n",
    "    # ignore paths with negative sums, since we need to find the maximum sum we should\n",
    "    # ignore any path which has an overall negative sum.\n",
    "    maxPathSumFromLeft = max(maxPathSumFromLeft, 0)\n",
    "    maxPathSumFromRight = max(maxPathSumFromRight, 0)\n",
    "\n",
    "    # maximum path sum at the current node will be equal to the sum from the left subtree +\n",
    "    # the sum from right subtree + val of current node\n",
    "    localMaximumSum = maxPathSumFromLeft + maxPathSumFromRight + currentNode.val\n",
    "\n",
    "    # update the global maximum sum\n",
    "    self.globalMaximumSum = max(self.globalMaximumSum, localMaximumSum)\n",
    "\n",
    "    # maximum sum of any path from the current node will be equal to the maximum of\n",
    "    # the sums from left or right subtrees plus the value of the current node\n",
    "    return max(maxPathSumFromLeft, maxPathSumFromRight) + currentNode.val\n",
    "\n",
    "\n",
    "def main():\n",
    "  maximumPathSum = MaximumPathSum()\n",
    "  root = TreeNode(1)\n",
    "  root.left = TreeNode(2)\n",
    "  root.right = TreeNode(3)\n",
    "\n",
    "  print(\"Maximum Path Sum: \" + str(maximumPathSum.find_maximum_path_sum(root)))\n",
    "  root.left.left = TreeNode(1)\n",
    "  root.left.right = TreeNode(3)\n",
    "  root.right.left = TreeNode(5)\n",
    "  root.right.right = TreeNode(6)\n",
    "  root.right.left.left = TreeNode(7)\n",
    "  root.right.left.right = TreeNode(8)\n",
    "  root.right.right.left = TreeNode(9)\n",
    "  print(\"Maximum Path Sum: \" + str(maximumPathSum.find_maximum_path_sum(root)))\n",
    "\n",
    "  root = TreeNode(-1)\n",
    "  root.left = TreeNode(-3)\n",
    "  print(\"Maximum Path Sum: \" + str(maximumPathSum.find_maximum_path_sum(root)))\n",
    "\n",
    "\n",
    "main()\n"
   ]
  },
  {
   "cell_type": "markdown",
   "metadata": {},
   "source": [
    "###  Structurally Unique Binary Search Trees (hard) #\n",
    "Given a number ‘n’, write a function to return all structurally unique Binary Search Trees (BST) that can store values 1 to ‘n’?\n",
    "\n",
    "Input: 2   \n",
    "Output: List containing root nodes of all structurally unique BSTs.  \n",
    "Explanation: Here are the 2 structurally unique BSTs storing all numbers from 1 to 2:\n",
    "\n",
    "<img src=\"../images/tree_dfs6.png\" width=50%>"
   ]
  },
  {
   "cell_type": "code",
   "execution_count": 97,
   "metadata": {},
   "outputs": [
    {
     "name": "stdout",
     "output_type": "stream",
     "text": [
      "Total trees: 2\n",
      "Total trees: 5\n"
     ]
    }
   ],
   "source": [
    "\n",
    "class TreeNode:\n",
    "  def __init__(self, val):\n",
    "    self.val = val\n",
    "    self.left = None\n",
    "    self.right = None\n",
    "\n",
    "\n",
    "def find_unique_trees(n):\n",
    "  if n <= 0:\n",
    "    return []\n",
    "  return findUnique_trees_recursive(1, n)\n",
    "\n",
    "\n",
    "def findUnique_trees_recursive(start, end):\n",
    "  result = []\n",
    "  # base condition, return 'None' for an empty sub-tree\n",
    "  # consider n = 1, in this case we will have start = end = 1, this means we should have only one tree\n",
    "  # we will have two recursive calls, findUniqueTreesRecursive(1, 0) & (2, 1)\n",
    "  # both of these should return 'None' for the left and the right child\n",
    "  if start > end:\n",
    "    result.append(None)\n",
    "    return result\n",
    "\n",
    "  for i in range(start, end+1):\n",
    "    # making 'i' the root of the tree\n",
    "    leftSubtrees = findUnique_trees_recursive(start, i - 1)\n",
    "    rightSubtrees = findUnique_trees_recursive(i + 1, end)\n",
    "    for leftTree in leftSubtrees:\n",
    "      for rightTree in rightSubtrees:\n",
    "        root = TreeNode(i)\n",
    "        root.left = leftTree\n",
    "        root.right = rightTree\n",
    "        result.append(root)\n",
    "\n",
    "  return result\n",
    "\n",
    "\n",
    "def main():\n",
    "  print(\"Total trees: \" + str(len(find_unique_trees(2))))\n",
    "  print(\"Total trees: \" + str(len(find_unique_trees(3))))\n",
    "\n",
    "\n",
    "main()\n"
   ]
  },
  {
   "cell_type": "markdown",
   "metadata": {},
   "source": [
    "### Count of Structurally Unique Binary Search Trees (hard) #\n",
    "Given a number ‘n’, write a function to return the count of structurally unique Binary Search Trees (BST) that can store values 1 to ‘n’.\n",
    "\n",
    "Input: 2  \n",
    "Output: 2  \n",
    "Explanation: As we saw in the previous problem, there are 2 unique BSTs storing numbers from 1-2."
   ]
  },
  {
   "cell_type": "code",
   "execution_count": 98,
   "metadata": {},
   "outputs": [
    {
     "name": "stdout",
     "output_type": "stream",
     "text": [
      "Total trees: 2\n",
      "Total trees: 5\n"
     ]
    }
   ],
   "source": [
    "\n",
    "class TreeNode:\n",
    "  def __init__(self, val):\n",
    "    self.val = val\n",
    "    self.left = None\n",
    "    self.right = None\n",
    "\n",
    "\n",
    "def count_trees(n):\n",
    "  if n <= 1:\n",
    "    return 1\n",
    "  count = 0\n",
    "  for i in range(1, n+1):\n",
    "    # making 'i' root of the tree\n",
    "    countOfLeftSubtrees = count_trees(i - 1)\n",
    "    countOfRightSubtrees = count_trees(n - i)\n",
    "    count += (countOfLeftSubtrees * countOfRightSubtrees)\n",
    "\n",
    "  return count\n",
    "\n",
    "\n",
    "def main():\n",
    "  print(\"Total trees: \" + str(count_trees(2)))\n",
    "  print(\"Total trees: \" + str(count_trees(3)))\n",
    "\n",
    "\n",
    "main()\n"
   ]
  },
  {
   "cell_type": "code",
   "execution_count": 99,
   "metadata": {},
   "outputs": [
    {
     "name": "stdout",
     "output_type": "stream",
     "text": [
      "Total trees: 2\n",
      "Total trees: 5\n"
     ]
    }
   ],
   "source": [
    "# Memoize version\n",
    "class TreeNode:\n",
    "  def __init__(self, val):\n",
    "    self.val = val\n",
    "    self.left = None\n",
    "    self.right = None\n",
    "\n",
    "\n",
    "def count_trees(n):\n",
    "  return count_trees_rec({}, n)\n",
    "\n",
    "\n",
    "def count_trees_rec(map, n):\n",
    "  if n in map:\n",
    "    return map[n]\n",
    "\n",
    "  if n <= 1:\n",
    "    return 1\n",
    "  count = 0\n",
    "  for i in range(1, n+1):\n",
    "    # making 'i' the root of the tree\n",
    "    countOfLeftSubtrees = count_trees_rec(map, i - 1)\n",
    "    countOfRightSubtrees = count_trees_rec(map, n - i)\n",
    "    count += (countOfLeftSubtrees * countOfRightSubtrees)\n",
    "\n",
    "  map[n] = count\n",
    "  return count\n",
    "\n",
    "\n",
    "def main():\n",
    "  print(\"Total trees: \" + str(count_trees(2)))\n",
    "  print(\"Total trees: \" + str(count_trees(3)))\n",
    "\n",
    "\n",
    "main()\n"
   ]
  },
  {
   "cell_type": "code",
   "execution_count": null,
   "metadata": {},
   "outputs": [],
   "source": []
  }
 ],
 "metadata": {
  "kernelspec": {
   "display_name": "Python 3.7.5 64-bit ('p37': conda)",
   "language": "python",
   "name": "python37564bitp37conda2b1eeea87ee044609be89b011a3e6682"
  },
  "language_info": {
   "codemirror_mode": {
    "name": "ipython",
    "version": 3
   },
   "file_extension": ".py",
   "mimetype": "text/x-python",
   "name": "python",
   "nbconvert_exporter": "python",
   "pygments_lexer": "ipython3",
   "version": "3.7.5"
  }
 },
 "nbformat": 4,
 "nbformat_minor": 4
}
